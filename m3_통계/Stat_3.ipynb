{
 "cells": [
  {
   "cell_type": "markdown",
   "id": "fdae6734",
   "metadata": {},
   "source": [
    "## 통계적 추정"
   ]
  },
  {
   "cell_type": "code",
   "execution_count": 3,
   "id": "aa69843b",
   "metadata": {},
   "outputs": [
    {
     "data": {
      "text/plain": [
       "'%.3f'"
      ]
     },
     "execution_count": 3,
     "metadata": {},
     "output_type": "execute_result"
    }
   ],
   "source": [
    "import numpy as np\n",
    "import pandas as pd\n",
    "import matplotlib.pyplot as plt\n",
    "from scipy import stats\n",
    "\n",
    "%precision 3"
   ]
  },
  {
   "cell_type": "code",
   "execution_count": 5,
   "id": "d6618d3c",
   "metadata": {},
   "outputs": [
    {
     "name": "stdout",
     "output_type": "stream",
     "text": [
      "   score\n",
      "0     76\n",
      "1     55\n",
      "2     80\n",
      "3     80\n",
      "4     74\n"
     ]
    },
    {
     "data": {
      "text/plain": [
       "(400, 1)"
      ]
     },
     "execution_count": 5,
     "metadata": {},
     "output_type": "execute_result"
    }
   ],
   "source": [
    "df = pd.read_csv('ch4_scores400.csv')\n",
    "print(df.head())\n",
    "scores = np.array(df['score'])\n",
    "df.shape"
   ]
  },
  {
   "cell_type": "markdown",
   "id": "e1fe07e5",
   "metadata": {},
   "source": [
    "##### 모평균, 모분산"
   ]
  },
  {
   "cell_type": "code",
   "execution_count": 6,
   "id": "dc189333",
   "metadata": {},
   "outputs": [
    {
     "data": {
      "text/plain": [
       "(69.530, 206.669)"
      ]
     },
     "execution_count": 6,
     "metadata": {},
     "output_type": "execute_result"
    }
   ],
   "source": [
    "p_mean = np.mean(scores)\n",
    "p_var = np.var(scores)\n",
    "p_mean, p_var"
   ]
  },
  {
   "cell_type": "code",
   "execution_count": 7,
   "id": "dfaa1416",
   "metadata": {},
   "outputs": [
    {
     "data": {
      "image/png": "[encoded data removed]",
      "text/plain": [
       "<Figure size 720x432 with 1 Axes>"
      ]
     },
     "metadata": {
      "needs_background": "light"
     },
     "output_type": "display_data"
    }
   ],
   "source": [
    "# 모집단이 정규분포를 이룬다고 가정하여 추정 수행\n",
    "\n",
    "plt.figure(figsize=(10,6))\n",
    "xs = np.arange(101)\n",
    "rv = stats.norm(p_mean,np.sqrt(p_var))\n",
    "\n",
    "plt.plot(xs,rv.pdf(xs),color='navy')\n",
    "plt.hist(scores,bins=100,range=(0,100),density=True)\n",
    "\n",
    "plt.show()"
   ]
  },
  {
   "cell_type": "code",
   "execution_count": 8,
   "id": "3004d41b",
   "metadata": {},
   "outputs": [
    {
     "data": {
      "text/plain": [
       "array([49, 60, 72, 86, 52, 61, 77, 91, 80, 56, 69, 67, 90, 56, 75, 79, 60,\n",
       "       79, 68, 81], dtype=int64)"
      ]
     },
     "execution_count": 8,
     "metadata": {},
     "output_type": "execute_result"
    }
   ],
   "source": [
    "# A학생이 무작위 추출한 표본 크기가 20인 표본\n",
    "\n",
    "np.random.seed(0)\n",
    "n = 20\n",
    "sample = np.random.choice(scores,n)\n",
    "sample"
   ]
  },
  {
   "cell_type": "code",
   "execution_count": 9,
   "id": "0c7d09f5",
   "metadata": {},
   "outputs": [],
   "source": [
    "# 표본크기가 20인 표본 10000개 추출\n",
    "np.random.seed(1111)\n",
    "n_samples = 10000\n",
    "samples = np.random.choice(scores,(n_samples,n))"
   ]
  },
  {
   "cell_type": "markdown",
   "id": "8ed6bc04",
   "metadata": {},
   "source": [
    "## 점추정\n",
    "- 모평균이나 모분산 등의 모수를 하나의 수치로 추정\n",
    "- 추정량의 기댓값이 추측하려는 모수가 되는 성질을 불편성이라고 하며 불편성을 가진 추정량을 불편추정량이라고 한다.\n",
    "- 표본평균이 모평균을 잘 추정할 수 있는 근거 중 하나가 바로 이 불편성이다.\n",
    "- 표본크기 n을 증가시키면 추측하기 원하는 모수에 수렴해가는 성질을 일치성이라고 하며 일치성을 지닌 추정량을 일치추정량이라고 함\n",
    "- 표본평균은 불편성과 일치성을 모두 가지고 있기 때문에 모평균을 잘 추정한다고 말할 수 있다.\n"
   ]
  },
  {
   "cell_type": "code",
   "execution_count": 10,
   "id": "c39f6e0a",
   "metadata": {},
   "outputs": [
    {
     "name": "stdout",
     "output_type": "stream",
     "text": [
      "모평균: 69.53\n",
      "모분산: 207.1870676691731\n",
      "표본평균, 분산: 69.53799999999998 206.67808263157895\n"
     ]
    }
   ],
   "source": [
    "df = pd.read_csv('ch4_scores400.csv')\n",
    "print('모평균:', df.score.mean())\n",
    "\n",
    "np.random.seed(1111)\n",
    "n = 20\n",
    "n_samples = 10000\n",
    "samples = np.random.choice(scores, (n_samples,n))\n",
    "\n",
    "sample_means = np.mean(samples,axis=1)\n",
    "\n",
    "print('모분산:', df.score.var())\n",
    "sample_u_vars = np.var(samples, axis=1, ddof=1)\n",
    "print('표본평균, 분산:', np.mean(sample_means),np.mean(sample_u_vars))"
   ]
  },
  {
   "cell_type": "code",
   "execution_count": 11,
   "id": "95b4b9f4",
   "metadata": {},
   "outputs": [
    {
     "data": {
      "text/plain": [
       "69.538"
      ]
     },
     "execution_count": 11,
     "metadata": {},
     "output_type": "execute_result"
    }
   ],
   "source": [
    "# 표본평균의 평균\n",
    "sample_means = np.mean(samples, axis=1)\n",
    "np.mean(sample_means)"
   ]
  },
  {
   "cell_type": "code",
   "execution_count": 12,
   "id": "789f35c4",
   "metadata": {},
   "outputs": [
    {
     "data": {
      "text/plain": [
       "69.543"
      ]
     },
     "execution_count": 12,
     "metadata": {},
     "output_type": "execute_result"
    }
   ],
   "source": [
    "# 표본크기를 백만으로 할 때의 표본평균\n",
    "np.mean(np.random.choice(scores, int(1e6)))"
   ]
  },
  {
   "cell_type": "code",
   "execution_count": 13,
   "id": "1a75cf96",
   "metadata": {},
   "outputs": [
    {
     "data": {
      "text/plain": [
       "70.400"
      ]
     },
     "execution_count": 13,
     "metadata": {},
     "output_type": "execute_result"
    }
   ],
   "source": [
    "# A학생이 추출한 표본의 표본평균\n",
    "np.random.seed(0)\n",
    "n=20\n",
    "sample = np.random.choice(scores,n)\n",
    "s_mean = np.mean(sample)\n",
    "s_mean"
   ]
  },
  {
   "cell_type": "code",
   "execution_count": 14,
   "id": "b83be677",
   "metadata": {},
   "outputs": [
    {
     "data": {
      "text/plain": [
       "206.669"
      ]
     },
     "execution_count": 14,
     "metadata": {},
     "output_type": "execute_result"
    }
   ],
   "source": [
    "np.var(scores)"
   ]
  },
  {
   "cell_type": "markdown",
   "id": "f513e020",
   "metadata": {},
   "source": [
    "#### 과제 0905_1\n",
    "p.266 ~ p.291 예제 코드 풀기"
   ]
  },
  {
   "cell_type": "code",
   "execution_count": 15,
   "id": "fb939883",
   "metadata": {},
   "outputs": [
    {
     "data": {
      "text/plain": [
       "196.344"
      ]
     },
     "execution_count": 15,
     "metadata": {},
     "output_type": "execute_result"
    }
   ],
   "source": [
    "sample_vars = np.var(samples, axis=1)\n",
    "np.mean(sample_vars)"
   ]
  },
  {
   "cell_type": "code",
   "execution_count": 16,
   "id": "b4e4cecf",
   "metadata": {},
   "outputs": [
    {
     "data": {
      "text/plain": [
       "207.128"
      ]
     },
     "execution_count": 16,
     "metadata": {},
     "output_type": "execute_result"
    }
   ],
   "source": [
    "np.var(np.random.choice(scores, int(1e6)), ddof=1)"
   ]
  },
  {
   "cell_type": "code",
   "execution_count": 17,
   "id": "b0c6e598",
   "metadata": {},
   "outputs": [
    {
     "data": {
      "text/plain": [
       "158.253"
      ]
     },
     "execution_count": 17,
     "metadata": {},
     "output_type": "execute_result"
    }
   ],
   "source": [
    "u_var = np.var(sample,ddof=1)\n",
    "u_var"
   ]
  },
  {
   "cell_type": "code",
   "execution_count": 18,
   "id": "c9955e40",
   "metadata": {},
   "outputs": [
    {
     "data": {
      "text/plain": [
       "(64.100, 76.700)"
      ]
     },
     "execution_count": 18,
     "metadata": {},
     "output_type": "execute_result"
    }
   ],
   "source": [
    "# 모평균의 95% 신뢰구간\n",
    "\n",
    "rv = stats.norm()\n",
    "lcl = s_mean - rv.isf(0.025)*np.sqrt(p_var/n)\n",
    "ucl = s_mean - rv.isf(0.975)*np.sqrt(p_var/n)\n",
    "\n",
    "lcl,ucl"
   ]
  },
  {
   "cell_type": "code",
   "execution_count": 21,
   "id": "39dd3526",
   "metadata": {},
   "outputs": [
    {
     "data": {
      "image/png": "[encoded data removed]",
      "text/plain": [
       "<Figure size 720x720 with 1 Axes>"
      ]
     },
     "metadata": {
      "needs_background": "light"
     },
     "output_type": "display_data"
    }
   ],
   "source": [
    "fig = plt.figure(figsize=(10,10))\n",
    "ax = fig.add_subplot(111)\n",
    "\n",
    "rv = stats.norm()\n",
    "n_samples = 20\n",
    "ax.vlines(p_mean,0,21)\n",
    "for i in range(n_samples):\n",
    "    sample_ = samples[i]\n",
    "    s_mean_ = np.mean(sample_)\n",
    "    lcl = s_mean_ - rv.isf(0.025) * np.sqrt(p_var/n)\n",
    "    ucl = s_mean_ - rv.isf(0.975) * np.sqrt(p_var/n)\n",
    "    if lcl <= p_mean <= ucl:\n",
    "        ax.scatter(s_mean_,n_samples-i,color='coral')\n",
    "        ax.hlines(n_samples-i, lcl, ucl, color='orange')\n",
    "    else:\n",
    "        ax.scatter(s_mean_,n_samples-i,color='green')\n",
    "        ax.hlines(n_samples-i,lcl,ucl,color='green')\n",
    "ax.set_xticks([p_mean])\n",
    "ax.set_xticklabels(['population mean'])\n",
    "\n",
    "plt.show()"
   ]
  },
  {
   "cell_type": "code",
   "execution_count": 22,
   "id": "dc63993d",
   "metadata": {},
   "outputs": [
    {
     "data": {
      "text/plain": [
       "0.951"
      ]
     },
     "execution_count": 22,
     "metadata": {},
     "output_type": "execute_result"
    }
   ],
   "source": [
    "rv = stats.norm()\n",
    "cnt = 0\n",
    "\n",
    "for sample_ in samples:\n",
    "    s_mean_ = np.mean(sample_)\n",
    "    lcl = s_mean_ - rv.isf(0.025) * np.sqrt(p_var/n)\n",
    "    ucl = s_mean_ - rv.isf(0.975) * np.sqrt(p_var/n)\n",
    "    if lcl <= p_mean <= ucl:\n",
    "        cnt += 1\n",
    "cnt / len(samples)"
   ]
  },
  {
   "cell_type": "code",
   "execution_count": 23,
   "id": "0ae0ea46",
   "metadata": {},
   "outputs": [
    {
     "data": {
      "text/plain": [
       "array([11.303, 15.767, 18.102, ..., 19.435,  9.265, 18.625])"
      ]
     },
     "execution_count": 23,
     "metadata": {},
     "output_type": "execute_result"
    }
   ],
   "source": [
    "sample_y = sample_u_vars * (n-1) / p_var\n",
    "sample_y"
   ]
  },
  {
   "cell_type": "code",
   "execution_count": 24,
   "id": "98460680",
   "metadata": {},
   "outputs": [
    {
     "data": {
      "image/png": "[encoded data removed]",
      "text/plain": [
       "<Figure size 720x432 with 1 Axes>"
      ]
     },
     "metadata": {
      "needs_background": "light"
     },
     "output_type": "display_data"
    }
   ],
   "source": [
    "fig = plt.figure(figsize=(10,6))\n",
    "ax = fig.add_subplot(111)\n",
    "\n",
    "xs = np.linspace(0,40,100)\n",
    "rv = stats.chi2(df=n-1)\n",
    "ax.plot(xs,rv.pdf(xs),color='navy')\n",
    "hist, _, _ = ax.hist(sample_y, bins=100, range=(0,40), density=True)\n",
    "plt.show()"
   ]
  },
  {
   "cell_type": "code",
   "execution_count": null,
   "id": "58a2bc7a",
   "metadata": {},
   "outputs": [],
   "source": []
  },
  {
   "cell_type": "code",
   "execution_count": null,
   "id": "60e41e4b",
   "metadata": {},
   "outputs": [],
   "source": []
  },
  {
   "cell_type": "code",
   "execution_count": null,
   "id": "6e57ba1e",
   "metadata": {},
   "outputs": [],
   "source": []
  },
  {
   "cell_type": "code",
   "execution_count": null,
   "id": "d3110205",
   "metadata": {},
   "outputs": [],
   "source": []
  },
  {
   "cell_type": "code",
   "execution_count": null,
   "id": "1e5c5c52",
   "metadata": {},
   "outputs": [],
   "source": []
  },
  {
   "cell_type": "code",
   "execution_count": null,
   "id": "92282d4a",
   "metadata": {},
   "outputs": [],
   "source": []
  },
  {
   "cell_type": "code",
   "execution_count": null,
   "id": "5b9c6ddb",
   "metadata": {},
   "outputs": [],
   "source": []
  },
  {
   "cell_type": "code",
   "execution_count": null,
   "id": "f2dd6fcb",
   "metadata": {},
   "outputs": [],
   "source": []
  },
  {
   "cell_type": "code",
   "execution_count": null,
   "id": "ca3403aa",
   "metadata": {},
   "outputs": [],
   "source": []
  },
  {
   "cell_type": "markdown",
   "id": "aa6403ec",
   "metadata": {},
   "source": [
    "#### 과제 0905_2\n",
    "- 다음 용어를 예를 들어 설명하세요. 불편성, 일치성, 불편분산\n",
    "- 카이제곱분포, t분포가 구간 추정에 활용된 사례를 만들어 설명하세요."
   ]
  },
  {
   "cell_type": "code",
   "execution_count": null,
   "id": "303a7d31",
   "metadata": {},
   "outputs": [],
   "source": []
  }
 ],
 "metadata": {
  "kernelspec": {
   "display_name": "Python 3 (ipykernel)",
   "language": "python",
   "name": "python3"
  },
  "language_info": {
   "codemirror_mode": {
    "name": "ipython",
    "version": 3
   },
   "file_extension": ".py",
   "mimetype": "text/x-python",
   "name": "python",
   "nbconvert_exporter": "python",
   "pygments_lexer": "ipython3",
   "version": "3.8.13"
  },
  "toc": {
   "base_numbering": 1,
   "nav_menu": {},
   "number_sections": false,
   "sideBar": true,
   "skip_h1_title": false,
   "title_cell": "Table of Contents",
   "title_sidebar": "Contents",
   "toc_cell": false,
   "toc_position": {},
   "toc_section_display": true,
   "toc_window_display": false
  }
 },
 "nbformat": 4,
 "nbformat_minor": 5
}
