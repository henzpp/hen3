{
 "cells": [
  {
   "cell_type": "markdown",
   "id": "fa7e2cbb",
   "metadata": {},
   "source": [
    "### 꼬부기 그리기"
   ]
  },
  {
   "cell_type": "code",
   "execution_count": 5,
   "id": "72dcefa1",
   "metadata": {},
   "outputs": [],
   "source": [
    "import turtle as t\n",
    "\n",
    "t.shape('turtle')"
   ]
  },
  {
   "cell_type": "code",
   "execution_count": 3,
   "id": "26376803",
   "metadata": {},
   "outputs": [],
   "source": [
    "t.forward(50)"
   ]
  },
  {
   "cell_type": "code",
   "execution_count": 4,
   "id": "dbcb2ae2",
   "metadata": {},
   "outputs": [],
   "source": [
    "t.right(90)\n",
    "t.forward(50)"
   ]
  },
  {
   "cell_type": "code",
   "execution_count": 7,
   "id": "75ea7617",
   "metadata": {},
   "outputs": [],
   "source": [
    "t.lt(120)\n",
    "t.fd(100)\n",
    "t.lt(120)\n",
    "t.fd(100)\n",
    "t.lt(120)\n",
    "t.fd(100)\n",
    "t.left(90)\n",
    "t.fd(100)\n",
    "t.left(90)\n",
    "t.fd(100)\n",
    "t.lt(90)"
   ]
  },
  {
   "cell_type": "code",
   "execution_count": 8,
   "id": "bc817ccf",
   "metadata": {},
   "outputs": [],
   "source": [
    "t.circle(50)"
   ]
  },
  {
   "cell_type": "code",
   "execution_count": 9,
   "id": "f2544b61",
   "metadata": {},
   "outputs": [],
   "source": [
    "t.color('blue')\n",
    "t.fd(100)"
   ]
  },
  {
   "cell_type": "code",
   "execution_count": 10,
   "id": "b7ea6e8c",
   "metadata": {},
   "outputs": [],
   "source": [
    "t.color('green')\n",
    "t.lt(90)\n",
    "t.fd(100)"
   ]
  },
  {
   "cell_type": "code",
   "execution_count": 11,
   "id": "50be8ffd",
   "metadata": {},
   "outputs": [],
   "source": [
    "t.pensize(5)\n",
    "t.circle(50)"
   ]
  },
  {
   "cell_type": "markdown",
   "id": "17db42bb",
   "metadata": {},
   "source": [
    "### for문"
   ]
  },
  {
   "cell_type": "code",
   "execution_count": 1,
   "id": "4950bdcf",
   "metadata": {},
   "outputs": [
    {
     "name": "stdout",
     "output_type": "stream",
     "text": [
      "100\n",
      "200\n",
      "100\n",
      "200\n",
      "100\n",
      "200\n",
      "3\n"
     ]
    }
   ],
   "source": [
    "for i in range(3):\n",
    "    print(100)\n",
    "    print(200)\n",
    "print(3)"
   ]
  },
  {
   "cell_type": "code",
   "execution_count": 3,
   "id": "3386ff88",
   "metadata": {},
   "outputs": [],
   "source": [
    "import turtle as t\n",
    "\n",
    "for x in range(3):\n",
    "    t.forward(100)\n",
    "    t.left(120)\n",
    "    \n",
    "for X in range(4):\n",
    "    t.forward(100)\n",
    "    t.left(90)\n",
    "    \n",
    "t.circle(50)"
   ]
  },
  {
   "cell_type": "code",
   "execution_count": 4,
   "id": "5c2687cd",
   "metadata": {},
   "outputs": [
    {
     "data": {
      "text/plain": [
       "[0, 1, 2, 3, 4]"
      ]
     },
     "execution_count": 4,
     "metadata": {},
     "output_type": "execute_result"
    }
   ],
   "source": [
    "list(range(5))"
   ]
  },
  {
   "cell_type": "code",
   "execution_count": 5,
   "id": "4c1809f1",
   "metadata": {},
   "outputs": [
    {
     "data": {
      "text/plain": [
       "[0, 1, 2, 3, 4]"
      ]
     },
     "execution_count": 5,
     "metadata": {},
     "output_type": "execute_result"
    }
   ],
   "source": [
    "list(range(0,5))"
   ]
  },
  {
   "cell_type": "code",
   "execution_count": 6,
   "id": "c3f1bf2e",
   "metadata": {},
   "outputs": [
    {
     "data": {
      "text/plain": [
       "[1, 2, 3, 4, 5, 6, 7, 8, 9, 10]"
      ]
     },
     "execution_count": 6,
     "metadata": {},
     "output_type": "execute_result"
    }
   ],
   "source": [
    "list(range(1,11))"
   ]
  },
  {
   "cell_type": "code",
   "execution_count": 7,
   "id": "615c2e0c",
   "metadata": {},
   "outputs": [
    {
     "name": "stdout",
     "output_type": "stream",
     "text": [
      "[0-4]\n",
      "0\n",
      "1\n",
      "2\n",
      "3\n",
      "4\n"
     ]
    }
   ],
   "source": [
    "print(\"[0-4]\")\n",
    "for x in range(5):\n",
    "    print(x)"
   ]
  },
  {
   "cell_type": "code",
   "execution_count": 8,
   "id": "daaebb2e",
   "metadata": {},
   "outputs": [
    {
     "name": "stdout",
     "output_type": "stream",
     "text": [
      "[1-10]\n",
      "1\n",
      "2\n",
      "3\n",
      "4\n",
      "5\n",
      "6\n",
      "7\n",
      "8\n",
      "9\n",
      "10\n"
     ]
    }
   ],
   "source": [
    "print(\"[1-10]\")\n",
    "for x in range(1, 11):\n",
    "    print(x)"
   ]
  },
  {
   "cell_type": "code",
   "execution_count": 9,
   "id": "bbfe4ce5",
   "metadata": {},
   "outputs": [
    {
     "name": "stdout",
     "output_type": "stream",
     "text": [
      "x: 1 sum: 1\n",
      "x: 2 sum: 3\n",
      "x: 3 sum: 6\n",
      "x: 4 sum: 10\n",
      "x: 5 sum: 15\n",
      "x: 6 sum: 21\n",
      "x: 7 sum: 28\n",
      "x: 8 sum: 36\n",
      "x: 9 sum: 45\n",
      "x: 10 sum: 55\n"
     ]
    }
   ],
   "source": [
    "s = 0\n",
    "for x in range(1, 11):\n",
    "    s = s+x\n",
    "    print('x:',x,'sum:',s)"
   ]
  },
  {
   "cell_type": "code",
   "execution_count": 10,
   "id": "2c6f6f41",
   "metadata": {},
   "outputs": [],
   "source": [
    "import turtle as t\n",
    "\n",
    "n=5\n",
    "t.color('purple')\n",
    "t.begin_fill()\n",
    "for x in range(n):\n",
    "    t.fd(50)\n",
    "    t.lt(360/n)\n",
    "t.end_fill()"
   ]
  },
  {
   "cell_type": "code",
   "execution_count": 1,
   "id": "3325e9d8",
   "metadata": {},
   "outputs": [],
   "source": [
    "import turtle as t\n",
    "\n",
    "n=50\n",
    "t.bgcolor('black')\n",
    "t.color('green')\n",
    "t.speed(0)\n",
    "\n",
    "for x in range(n):\n",
    "    t.circle(80)\n",
    "    t.lt(360/n)"
   ]
  },
  {
   "cell_type": "code",
   "execution_count": 2,
   "id": "a506eaf8",
   "metadata": {},
   "outputs": [],
   "source": [
    "import turtle as t\n",
    "angle = 89\n",
    "t.bgcolor('black')\n",
    "t.color('yellow')\n",
    "t.speed(0)\n",
    "for x in range(200):\n",
    "    t.fd(x)\n",
    "    t.lt(angle)"
   ]
  },
  {
   "cell_type": "code",
   "execution_count": 3,
   "id": "a9cbbd12",
   "metadata": {},
   "outputs": [
    {
     "name": "stdout",
     "output_type": "stream",
     "text": [
      "5\n",
      "3\n",
      "\n",
      "5.0\n",
      "3.0\n"
     ]
    }
   ],
   "source": [
    "import math\n",
    "\n",
    "# 절댓값 알고리즘 1 (부호판단)\n",
    "# 입력 : 실수 a\n",
    "# 출력 : a의 절댓값\n",
    "\n",
    "def abs_sign(a):\n",
    "    if a >= 0:\n",
    "        return a\n",
    "    else:\n",
    "        return -a\n",
    "    \n",
    "\n",
    "# 절댓값 알고리즘 2 (제곱-제곱근)\n",
    "\n",
    "def abs_square(a):\n",
    "    b = a ** 2\n",
    "    return math.sqrt(b)\n",
    "\n",
    "print(abs_sign(5))\n",
    "print(abs_sign(-3))\n",
    "print()\n",
    "print(abs_square(5))\n",
    "print(abs_square(-3))"
   ]
  },
  {
   "cell_type": "markdown",
   "id": "8bdcd904",
   "metadata": {},
   "source": [
    "###  기초_001 - 1부터 n까지 연속한 수의 합 구하기"
   ]
  },
  {
   "cell_type": "code",
   "execution_count": 7,
   "id": "7c50d66f",
   "metadata": {},
   "outputs": [
    {
     "name": "stdout",
     "output_type": "stream",
     "text": [
      "55\n",
      "5050\n"
     ]
    }
   ],
   "source": [
    "def sum_n(n):\n",
    "    s = 0\n",
    "    for i in range(1, n+1):\n",
    "        s = s + i\n",
    "    return s\n",
    "print(sum_n(10)) \n",
    "print(sum_n(100))"
   ]
  },
  {
   "cell_type": "code",
   "execution_count": 8,
   "id": "b153a090",
   "metadata": {},
   "outputs": [
    {
     "data": {
      "text/plain": [
       "15"
      ]
     },
     "execution_count": 8,
     "metadata": {},
     "output_type": "execute_result"
    }
   ],
   "source": [
    "def sum_n(n):\n",
    "    s = 0\n",
    "    for i in range(1, n+1):\n",
    "        s = s+i\n",
    "    return s\n",
    "sum_n(5)"
   ]
  },
  {
   "cell_type": "code",
   "execution_count": null,
   "id": "6654bafc",
   "metadata": {},
   "outputs": [],
   "source": []
  },
  {
   "cell_type": "code",
   "execution_count": null,
   "id": "1a08ccc7",
   "metadata": {},
   "outputs": [],
   "source": []
  },
  {
   "cell_type": "code",
   "execution_count": null,
   "id": "192d22b5",
   "metadata": {},
   "outputs": [],
   "source": []
  },
  {
   "cell_type": "code",
   "execution_count": null,
   "id": "33733a35",
   "metadata": {},
   "outputs": [],
   "source": []
  }
 ],
 "metadata": {
  "kernelspec": {
   "display_name": "Python 3 (ipykernel)",
   "language": "python",
   "name": "python3"
  },
  "language_info": {
   "codemirror_mode": {
    "name": "ipython",
    "version": 3
   },
   "file_extension": ".py",
   "mimetype": "text/x-python",
   "name": "python",
   "nbconvert_exporter": "python",
   "pygments_lexer": "ipython3",
   "version": "3.9.12"
  },
  "toc": {
   "base_numbering": 1,
   "nav_menu": {},
   "number_sections": false,
   "sideBar": true,
   "skip_h1_title": false,
   "title_cell": "Table of Contents",
   "title_sidebar": "Contents",
   "toc_cell": false,
   "toc_position": {},
   "toc_section_display": true,
   "toc_window_display": false
  }
 },
 "nbformat": 4,
 "nbformat_minor": 5
}
