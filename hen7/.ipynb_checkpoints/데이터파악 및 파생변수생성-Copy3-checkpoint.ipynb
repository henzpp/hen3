{
 "cells": [
  {
   "cell_type": "markdown",
   "metadata": {
    "id": "iarCVaFu5OfP"
   },
   "source": [
    "# 데이터 파악"
   ]
  },
  {
   "cell_type": "code",
   "execution_count": 7,
   "metadata": {},
   "outputs": [],
   "source": [
    "import pandas as pd\n",
    "import warnings\n",
    "warnings.filterwarnings(\"ignore\")"
   ]
  },
  {
   "cell_type": "code",
   "execution_count": 8,
   "metadata": {},
   "outputs": [],
   "source": [
    "# 한글폰트 적용\n",
    "import matplotlib.pyplot as plt\n",
    "plt.rc(\"font\",family=\"AppleGothic\")\n",
    "\n",
    "#마이너스 기호 깨짐 방지\n",
    "plt.rcParams['axes.unicode_minus']=False"
   ]
  },
  {
   "cell_type": "code",
   "execution_count": 9,
   "metadata": {},
   "outputs": [
    {
     "ename": "FileNotFoundError",
     "evalue": "[Errno 2] No such file or directory: './DATA/채널이용.txt'",
     "output_type": "error",
     "traceback": [
      "\u001b[0;31m---------------------------------------------------------------------------\u001b[0m",
      "\u001b[0;31mFileNotFoundError\u001b[0m                         Traceback (most recent call last)",
      "Cell \u001b[0;32mIn [9], line 2\u001b[0m\n\u001b[1;32m      1\u001b[0m \u001b[38;5;28;01mimport\u001b[39;00m \u001b[38;5;21;01mpandas\u001b[39;00m \u001b[38;5;28;01mas\u001b[39;00m \u001b[38;5;21;01mpd\u001b[39;00m\n\u001b[0;32m----> 2\u001b[0m channel \u001b[38;5;241m=\u001b[39m \u001b[43mpd\u001b[49m\u001b[38;5;241;43m.\u001b[39;49m\u001b[43mread_csv\u001b[49m\u001b[43m(\u001b[49m\u001b[38;5;124;43m'\u001b[39;49m\u001b[38;5;124;43m./DATA/채널이용.txt\u001b[39;49m\u001b[38;5;124;43m'\u001b[39;49m\u001b[43m,\u001b[49m\u001b[43m \u001b[49m\u001b[43mencoding\u001b[49m\u001b[38;5;241;43m=\u001b[39;49m\u001b[38;5;124;43m'\u001b[39;49m\u001b[38;5;124;43meuc-kr\u001b[39;49m\u001b[38;5;124;43m'\u001b[39;49m\u001b[43m,\u001b[49m\u001b[43m \u001b[49m\u001b[43msep\u001b[49m\u001b[38;5;241;43m=\u001b[39;49m\u001b[38;5;124;43m'\u001b[39;49m\u001b[38;5;124;43m,\u001b[39;49m\u001b[38;5;124;43m'\u001b[39;49m\u001b[43m)\u001b[49m\n\u001b[1;32m      3\u001b[0m compuse \u001b[38;5;241m=\u001b[39m pd\u001b[38;5;241m.\u001b[39mread_csv(\u001b[38;5;124m'\u001b[39m\u001b[38;5;124m./DATA/경쟁사이용.txt\u001b[39m\u001b[38;5;124m'\u001b[39m, encoding\u001b[38;5;241m=\u001b[39m\u001b[38;5;124m'\u001b[39m\u001b[38;5;124meuc-kr\u001b[39m\u001b[38;5;124m'\u001b[39m, sep\u001b[38;5;241m=\u001b[39m\u001b[38;5;124m'\u001b[39m\u001b[38;5;124m,\u001b[39m\u001b[38;5;124m'\u001b[39m)\n\u001b[1;32m      4\u001b[0m prodcat \u001b[38;5;241m=\u001b[39m pd\u001b[38;5;241m.\u001b[39mread_csv(\u001b[38;5;124m'\u001b[39m\u001b[38;5;124m./DATA/상품분류.txt\u001b[39m\u001b[38;5;124m'\u001b[39m, encoding\u001b[38;5;241m=\u001b[39m\u001b[38;5;124m'\u001b[39m\u001b[38;5;124meuc-kr\u001b[39m\u001b[38;5;124m'\u001b[39m, sep\u001b[38;5;241m=\u001b[39m\u001b[38;5;124m'\u001b[39m\u001b[38;5;124m,\u001b[39m\u001b[38;5;124m'\u001b[39m)\n",
      "File \u001b[0;32m/opt/homebrew/Caskroom/miniforge/base/lib/python3.10/site-packages/pandas/util/_decorators.py:211\u001b[0m, in \u001b[0;36mdeprecate_kwarg.<locals>._deprecate_kwarg.<locals>.wrapper\u001b[0;34m(*args, **kwargs)\u001b[0m\n\u001b[1;32m    209\u001b[0m     \u001b[38;5;28;01melse\u001b[39;00m:\n\u001b[1;32m    210\u001b[0m         kwargs[new_arg_name] \u001b[38;5;241m=\u001b[39m new_arg_value\n\u001b[0;32m--> 211\u001b[0m \u001b[38;5;28;01mreturn\u001b[39;00m \u001b[43mfunc\u001b[49m\u001b[43m(\u001b[49m\u001b[38;5;241;43m*\u001b[39;49m\u001b[43margs\u001b[49m\u001b[43m,\u001b[49m\u001b[43m \u001b[49m\u001b[38;5;241;43m*\u001b[39;49m\u001b[38;5;241;43m*\u001b[39;49m\u001b[43mkwargs\u001b[49m\u001b[43m)\u001b[49m\n",
      "File \u001b[0;32m/opt/homebrew/Caskroom/miniforge/base/lib/python3.10/site-packages/pandas/util/_decorators.py:331\u001b[0m, in \u001b[0;36mdeprecate_nonkeyword_arguments.<locals>.decorate.<locals>.wrapper\u001b[0;34m(*args, **kwargs)\u001b[0m\n\u001b[1;32m    325\u001b[0m \u001b[38;5;28;01mif\u001b[39;00m \u001b[38;5;28mlen\u001b[39m(args) \u001b[38;5;241m>\u001b[39m num_allow_args:\n\u001b[1;32m    326\u001b[0m     warnings\u001b[38;5;241m.\u001b[39mwarn(\n\u001b[1;32m    327\u001b[0m         msg\u001b[38;5;241m.\u001b[39mformat(arguments\u001b[38;5;241m=\u001b[39m_format_argument_list(allow_args)),\n\u001b[1;32m    328\u001b[0m         \u001b[38;5;167;01mFutureWarning\u001b[39;00m,\n\u001b[1;32m    329\u001b[0m         stacklevel\u001b[38;5;241m=\u001b[39mfind_stack_level(),\n\u001b[1;32m    330\u001b[0m     )\n\u001b[0;32m--> 331\u001b[0m \u001b[38;5;28;01mreturn\u001b[39;00m \u001b[43mfunc\u001b[49m\u001b[43m(\u001b[49m\u001b[38;5;241;43m*\u001b[39;49m\u001b[43margs\u001b[49m\u001b[43m,\u001b[49m\u001b[43m \u001b[49m\u001b[38;5;241;43m*\u001b[39;49m\u001b[38;5;241;43m*\u001b[39;49m\u001b[43mkwargs\u001b[49m\u001b[43m)\u001b[49m\n",
      "File \u001b[0;32m/opt/homebrew/Caskroom/miniforge/base/lib/python3.10/site-packages/pandas/io/parsers/readers.py:950\u001b[0m, in \u001b[0;36mread_csv\u001b[0;34m(filepath_or_buffer, sep, delimiter, header, names, index_col, usecols, squeeze, prefix, mangle_dupe_cols, dtype, engine, converters, true_values, false_values, skipinitialspace, skiprows, skipfooter, nrows, na_values, keep_default_na, na_filter, verbose, skip_blank_lines, parse_dates, infer_datetime_format, keep_date_col, date_parser, dayfirst, cache_dates, iterator, chunksize, compression, thousands, decimal, lineterminator, quotechar, quoting, doublequote, escapechar, comment, encoding, encoding_errors, dialect, error_bad_lines, warn_bad_lines, on_bad_lines, delim_whitespace, low_memory, memory_map, float_precision, storage_options)\u001b[0m\n\u001b[1;32m    935\u001b[0m kwds_defaults \u001b[38;5;241m=\u001b[39m _refine_defaults_read(\n\u001b[1;32m    936\u001b[0m     dialect,\n\u001b[1;32m    937\u001b[0m     delimiter,\n\u001b[0;32m   (...)\u001b[0m\n\u001b[1;32m    946\u001b[0m     defaults\u001b[38;5;241m=\u001b[39m{\u001b[38;5;124m\"\u001b[39m\u001b[38;5;124mdelimiter\u001b[39m\u001b[38;5;124m\"\u001b[39m: \u001b[38;5;124m\"\u001b[39m\u001b[38;5;124m,\u001b[39m\u001b[38;5;124m\"\u001b[39m},\n\u001b[1;32m    947\u001b[0m )\n\u001b[1;32m    948\u001b[0m kwds\u001b[38;5;241m.\u001b[39mupdate(kwds_defaults)\n\u001b[0;32m--> 950\u001b[0m \u001b[38;5;28;01mreturn\u001b[39;00m \u001b[43m_read\u001b[49m\u001b[43m(\u001b[49m\u001b[43mfilepath_or_buffer\u001b[49m\u001b[43m,\u001b[49m\u001b[43m \u001b[49m\u001b[43mkwds\u001b[49m\u001b[43m)\u001b[49m\n",
      "File \u001b[0;32m/opt/homebrew/Caskroom/miniforge/base/lib/python3.10/site-packages/pandas/io/parsers/readers.py:605\u001b[0m, in \u001b[0;36m_read\u001b[0;34m(filepath_or_buffer, kwds)\u001b[0m\n\u001b[1;32m    602\u001b[0m _validate_names(kwds\u001b[38;5;241m.\u001b[39mget(\u001b[38;5;124m\"\u001b[39m\u001b[38;5;124mnames\u001b[39m\u001b[38;5;124m\"\u001b[39m, \u001b[38;5;28;01mNone\u001b[39;00m))\n\u001b[1;32m    604\u001b[0m \u001b[38;5;66;03m# Create the parser.\u001b[39;00m\n\u001b[0;32m--> 605\u001b[0m parser \u001b[38;5;241m=\u001b[39m \u001b[43mTextFileReader\u001b[49m\u001b[43m(\u001b[49m\u001b[43mfilepath_or_buffer\u001b[49m\u001b[43m,\u001b[49m\u001b[43m \u001b[49m\u001b[38;5;241;43m*\u001b[39;49m\u001b[38;5;241;43m*\u001b[39;49m\u001b[43mkwds\u001b[49m\u001b[43m)\u001b[49m\n\u001b[1;32m    607\u001b[0m \u001b[38;5;28;01mif\u001b[39;00m chunksize \u001b[38;5;129;01mor\u001b[39;00m iterator:\n\u001b[1;32m    608\u001b[0m     \u001b[38;5;28;01mreturn\u001b[39;00m parser\n",
      "File \u001b[0;32m/opt/homebrew/Caskroom/miniforge/base/lib/python3.10/site-packages/pandas/io/parsers/readers.py:1442\u001b[0m, in \u001b[0;36mTextFileReader.__init__\u001b[0;34m(self, f, engine, **kwds)\u001b[0m\n\u001b[1;32m   1439\u001b[0m     \u001b[38;5;28mself\u001b[39m\u001b[38;5;241m.\u001b[39moptions[\u001b[38;5;124m\"\u001b[39m\u001b[38;5;124mhas_index_names\u001b[39m\u001b[38;5;124m\"\u001b[39m] \u001b[38;5;241m=\u001b[39m kwds[\u001b[38;5;124m\"\u001b[39m\u001b[38;5;124mhas_index_names\u001b[39m\u001b[38;5;124m\"\u001b[39m]\n\u001b[1;32m   1441\u001b[0m \u001b[38;5;28mself\u001b[39m\u001b[38;5;241m.\u001b[39mhandles: IOHandles \u001b[38;5;241m|\u001b[39m \u001b[38;5;28;01mNone\u001b[39;00m \u001b[38;5;241m=\u001b[39m \u001b[38;5;28;01mNone\u001b[39;00m\n\u001b[0;32m-> 1442\u001b[0m \u001b[38;5;28mself\u001b[39m\u001b[38;5;241m.\u001b[39m_engine \u001b[38;5;241m=\u001b[39m \u001b[38;5;28;43mself\u001b[39;49m\u001b[38;5;241;43m.\u001b[39;49m\u001b[43m_make_engine\u001b[49m\u001b[43m(\u001b[49m\u001b[43mf\u001b[49m\u001b[43m,\u001b[49m\u001b[43m \u001b[49m\u001b[38;5;28;43mself\u001b[39;49m\u001b[38;5;241;43m.\u001b[39;49m\u001b[43mengine\u001b[49m\u001b[43m)\u001b[49m\n",
      "File \u001b[0;32m/opt/homebrew/Caskroom/miniforge/base/lib/python3.10/site-packages/pandas/io/parsers/readers.py:1735\u001b[0m, in \u001b[0;36mTextFileReader._make_engine\u001b[0;34m(self, f, engine)\u001b[0m\n\u001b[1;32m   1733\u001b[0m     \u001b[38;5;28;01mif\u001b[39;00m \u001b[38;5;124m\"\u001b[39m\u001b[38;5;124mb\u001b[39m\u001b[38;5;124m\"\u001b[39m \u001b[38;5;129;01mnot\u001b[39;00m \u001b[38;5;129;01min\u001b[39;00m mode:\n\u001b[1;32m   1734\u001b[0m         mode \u001b[38;5;241m+\u001b[39m\u001b[38;5;241m=\u001b[39m \u001b[38;5;124m\"\u001b[39m\u001b[38;5;124mb\u001b[39m\u001b[38;5;124m\"\u001b[39m\n\u001b[0;32m-> 1735\u001b[0m \u001b[38;5;28mself\u001b[39m\u001b[38;5;241m.\u001b[39mhandles \u001b[38;5;241m=\u001b[39m \u001b[43mget_handle\u001b[49m\u001b[43m(\u001b[49m\n\u001b[1;32m   1736\u001b[0m \u001b[43m    \u001b[49m\u001b[43mf\u001b[49m\u001b[43m,\u001b[49m\n\u001b[1;32m   1737\u001b[0m \u001b[43m    \u001b[49m\u001b[43mmode\u001b[49m\u001b[43m,\u001b[49m\n\u001b[1;32m   1738\u001b[0m \u001b[43m    \u001b[49m\u001b[43mencoding\u001b[49m\u001b[38;5;241;43m=\u001b[39;49m\u001b[38;5;28;43mself\u001b[39;49m\u001b[38;5;241;43m.\u001b[39;49m\u001b[43moptions\u001b[49m\u001b[38;5;241;43m.\u001b[39;49m\u001b[43mget\u001b[49m\u001b[43m(\u001b[49m\u001b[38;5;124;43m\"\u001b[39;49m\u001b[38;5;124;43mencoding\u001b[39;49m\u001b[38;5;124;43m\"\u001b[39;49m\u001b[43m,\u001b[49m\u001b[43m \u001b[49m\u001b[38;5;28;43;01mNone\u001b[39;49;00m\u001b[43m)\u001b[49m\u001b[43m,\u001b[49m\n\u001b[1;32m   1739\u001b[0m \u001b[43m    \u001b[49m\u001b[43mcompression\u001b[49m\u001b[38;5;241;43m=\u001b[39;49m\u001b[38;5;28;43mself\u001b[39;49m\u001b[38;5;241;43m.\u001b[39;49m\u001b[43moptions\u001b[49m\u001b[38;5;241;43m.\u001b[39;49m\u001b[43mget\u001b[49m\u001b[43m(\u001b[49m\u001b[38;5;124;43m\"\u001b[39;49m\u001b[38;5;124;43mcompression\u001b[39;49m\u001b[38;5;124;43m\"\u001b[39;49m\u001b[43m,\u001b[49m\u001b[43m \u001b[49m\u001b[38;5;28;43;01mNone\u001b[39;49;00m\u001b[43m)\u001b[49m\u001b[43m,\u001b[49m\n\u001b[1;32m   1740\u001b[0m \u001b[43m    \u001b[49m\u001b[43mmemory_map\u001b[49m\u001b[38;5;241;43m=\u001b[39;49m\u001b[38;5;28;43mself\u001b[39;49m\u001b[38;5;241;43m.\u001b[39;49m\u001b[43moptions\u001b[49m\u001b[38;5;241;43m.\u001b[39;49m\u001b[43mget\u001b[49m\u001b[43m(\u001b[49m\u001b[38;5;124;43m\"\u001b[39;49m\u001b[38;5;124;43mmemory_map\u001b[39;49m\u001b[38;5;124;43m\"\u001b[39;49m\u001b[43m,\u001b[49m\u001b[43m \u001b[49m\u001b[38;5;28;43;01mFalse\u001b[39;49;00m\u001b[43m)\u001b[49m\u001b[43m,\u001b[49m\n\u001b[1;32m   1741\u001b[0m \u001b[43m    \u001b[49m\u001b[43mis_text\u001b[49m\u001b[38;5;241;43m=\u001b[39;49m\u001b[43mis_text\u001b[49m\u001b[43m,\u001b[49m\n\u001b[1;32m   1742\u001b[0m \u001b[43m    \u001b[49m\u001b[43merrors\u001b[49m\u001b[38;5;241;43m=\u001b[39;49m\u001b[38;5;28;43mself\u001b[39;49m\u001b[38;5;241;43m.\u001b[39;49m\u001b[43moptions\u001b[49m\u001b[38;5;241;43m.\u001b[39;49m\u001b[43mget\u001b[49m\u001b[43m(\u001b[49m\u001b[38;5;124;43m\"\u001b[39;49m\u001b[38;5;124;43mencoding_errors\u001b[39;49m\u001b[38;5;124;43m\"\u001b[39;49m\u001b[43m,\u001b[49m\u001b[43m \u001b[49m\u001b[38;5;124;43m\"\u001b[39;49m\u001b[38;5;124;43mstrict\u001b[39;49m\u001b[38;5;124;43m\"\u001b[39;49m\u001b[43m)\u001b[49m\u001b[43m,\u001b[49m\n\u001b[1;32m   1743\u001b[0m \u001b[43m    \u001b[49m\u001b[43mstorage_options\u001b[49m\u001b[38;5;241;43m=\u001b[39;49m\u001b[38;5;28;43mself\u001b[39;49m\u001b[38;5;241;43m.\u001b[39;49m\u001b[43moptions\u001b[49m\u001b[38;5;241;43m.\u001b[39;49m\u001b[43mget\u001b[49m\u001b[43m(\u001b[49m\u001b[38;5;124;43m\"\u001b[39;49m\u001b[38;5;124;43mstorage_options\u001b[39;49m\u001b[38;5;124;43m\"\u001b[39;49m\u001b[43m,\u001b[49m\u001b[43m \u001b[49m\u001b[38;5;28;43;01mNone\u001b[39;49;00m\u001b[43m)\u001b[49m\u001b[43m,\u001b[49m\n\u001b[1;32m   1744\u001b[0m \u001b[43m\u001b[49m\u001b[43m)\u001b[49m\n\u001b[1;32m   1745\u001b[0m \u001b[38;5;28;01massert\u001b[39;00m \u001b[38;5;28mself\u001b[39m\u001b[38;5;241m.\u001b[39mhandles \u001b[38;5;129;01mis\u001b[39;00m \u001b[38;5;129;01mnot\u001b[39;00m \u001b[38;5;28;01mNone\u001b[39;00m\n\u001b[1;32m   1746\u001b[0m f \u001b[38;5;241m=\u001b[39m \u001b[38;5;28mself\u001b[39m\u001b[38;5;241m.\u001b[39mhandles\u001b[38;5;241m.\u001b[39mhandle\n",
      "File \u001b[0;32m/opt/homebrew/Caskroom/miniforge/base/lib/python3.10/site-packages/pandas/io/common.py:856\u001b[0m, in \u001b[0;36mget_handle\u001b[0;34m(path_or_buf, mode, encoding, compression, memory_map, is_text, errors, storage_options)\u001b[0m\n\u001b[1;32m    851\u001b[0m \u001b[38;5;28;01melif\u001b[39;00m \u001b[38;5;28misinstance\u001b[39m(handle, \u001b[38;5;28mstr\u001b[39m):\n\u001b[1;32m    852\u001b[0m     \u001b[38;5;66;03m# Check whether the filename is to be opened in binary mode.\u001b[39;00m\n\u001b[1;32m    853\u001b[0m     \u001b[38;5;66;03m# Binary mode does not support 'encoding' and 'newline'.\u001b[39;00m\n\u001b[1;32m    854\u001b[0m     \u001b[38;5;28;01mif\u001b[39;00m ioargs\u001b[38;5;241m.\u001b[39mencoding \u001b[38;5;129;01mand\u001b[39;00m \u001b[38;5;124m\"\u001b[39m\u001b[38;5;124mb\u001b[39m\u001b[38;5;124m\"\u001b[39m \u001b[38;5;129;01mnot\u001b[39;00m \u001b[38;5;129;01min\u001b[39;00m ioargs\u001b[38;5;241m.\u001b[39mmode:\n\u001b[1;32m    855\u001b[0m         \u001b[38;5;66;03m# Encoding\u001b[39;00m\n\u001b[0;32m--> 856\u001b[0m         handle \u001b[38;5;241m=\u001b[39m \u001b[38;5;28;43mopen\u001b[39;49m\u001b[43m(\u001b[49m\n\u001b[1;32m    857\u001b[0m \u001b[43m            \u001b[49m\u001b[43mhandle\u001b[49m\u001b[43m,\u001b[49m\n\u001b[1;32m    858\u001b[0m \u001b[43m            \u001b[49m\u001b[43mioargs\u001b[49m\u001b[38;5;241;43m.\u001b[39;49m\u001b[43mmode\u001b[49m\u001b[43m,\u001b[49m\n\u001b[1;32m    859\u001b[0m \u001b[43m            \u001b[49m\u001b[43mencoding\u001b[49m\u001b[38;5;241;43m=\u001b[39;49m\u001b[43mioargs\u001b[49m\u001b[38;5;241;43m.\u001b[39;49m\u001b[43mencoding\u001b[49m\u001b[43m,\u001b[49m\n\u001b[1;32m    860\u001b[0m \u001b[43m            \u001b[49m\u001b[43merrors\u001b[49m\u001b[38;5;241;43m=\u001b[39;49m\u001b[43merrors\u001b[49m\u001b[43m,\u001b[49m\n\u001b[1;32m    861\u001b[0m \u001b[43m            \u001b[49m\u001b[43mnewline\u001b[49m\u001b[38;5;241;43m=\u001b[39;49m\u001b[38;5;124;43m\"\u001b[39;49m\u001b[38;5;124;43m\"\u001b[39;49m\u001b[43m,\u001b[49m\n\u001b[1;32m    862\u001b[0m \u001b[43m        \u001b[49m\u001b[43m)\u001b[49m\n\u001b[1;32m    863\u001b[0m     \u001b[38;5;28;01melse\u001b[39;00m:\n\u001b[1;32m    864\u001b[0m         \u001b[38;5;66;03m# Binary mode\u001b[39;00m\n\u001b[1;32m    865\u001b[0m         handle \u001b[38;5;241m=\u001b[39m \u001b[38;5;28mopen\u001b[39m(handle, ioargs\u001b[38;5;241m.\u001b[39mmode)\n",
      "\u001b[0;31mFileNotFoundError\u001b[0m: [Errno 2] No such file or directory: './DATA/채널이용.txt'"
     ]
    }
   ],
   "source": [
    "import pandas as pd\n",
    "channel = pd.read_csv('./DATA/채널이용.txt', encoding='euc-kr', sep=',')\n",
    "compuse = pd.read_csv('./DATA/경쟁사이용.txt', encoding='euc-kr', sep=',')\n",
    "prodcat = pd.read_csv('./DATA/상품분류.txt', encoding='euc-kr', sep=',')\n",
    "purprd1 = pd.read_csv('./DATA/구매상품TR.txt', encoding='euc-kr', sep=',')\n",
    "membership = pd.read_csv('./DATA/멤버십여부.txt', encoding='euc-kr', sep=',')\n",
    "cust = pd.read_csv('./DATA/고객DEMO.txt', encoding='euc-kr', sep=',')\n"
   ]
  },
  {
   "cell_type": "markdown",
   "metadata": {},
   "source": [
    "## 제외 데이터\n",
    "1. channel: 채널이용 데이터\n",
    "2. compuse: 경쟁사 이용현황 데이터"
   ]
  },
  {
   "cell_type": "code",
   "execution_count": null,
   "metadata": {},
   "outputs": [],
   "source": [
    "# 1. channel: 채널이용 데이터\n",
    "# 채널 이용의 기준일시를 알 수 없으므로 모델에 적용하기 어려움\n",
    "channel.head(3)"
   ]
  },
  {
   "cell_type": "code",
   "execution_count": null,
   "metadata": {},
   "outputs": [],
   "source": [
    "# 2. compuse: 경쟁사 이용현황 데이터\n",
    "# 데이터의 이용년월의 최소값이 2015년 1월이므로 학습 데이터에 사용할 수 없음\n",
    "print(compuse['이용년월'].min())\n",
    "compuse.head(3)"
   ]
  },
  {
   "cell_type": "markdown",
   "metadata": {},
   "source": [
    "## 사용 데이터\n",
    "1. procl: 제휴사별 판매물품의 대/중/소분류 및 중/소분류명 정보 데이터\n",
    "2. purprd: 고객별 영수증 데이터\n",
    "3. membership: 고객별 멤버십 가입 데이터\n",
    "4. cust: 고객별 인구 통계학적 정보 데이터\n"
   ]
  },
  {
   "cell_type": "code",
   "execution_count": null,
   "metadata": {},
   "outputs": [],
   "source": [
    "# 1. procl: 제휴사별 판매물품의 대/중/소분류 및 중/소분류명 정보 데이터\n",
    "prodcat.head(3)"
   ]
  },
  {
   "cell_type": "code",
   "execution_count": null,
   "metadata": {},
   "outputs": [],
   "source": [
    "# 제휴사별 대/중/소 분류 체계가 다름\n",
    "# 대분류코드 일원화 실시. 대분류코드보다 상위 개념인 대대분류코드도 새로 만들어 purprd에 적용함\n",
    "\n",
    "for i in ['A','B','C','D']:\n",
    "    counts = prodcat[(prodcat['제휴사']==i)]['대분류코드'].nunique(),\\\n",
    "            prodcat[(prodcat['제휴사']==i)]['중분류코드'].nunique(),\\\n",
    "            prodcat[(prodcat['제휴사']==i)]['소분류코드'].nunique()\n",
    "    print(f'제휴사 {i}의 대/중/소 분류코드 수:', counts)"
   ]
  },
  {
   "cell_type": "code",
   "execution_count": null,
   "metadata": {},
   "outputs": [],
   "source": [
    "# 2. purprd: 고객별 영수증 데이터\n",
    "# prodcat의 카테고리 분류체계 변경을 반영함\n",
    "# 대분류코드, 중분류코드, 소분류코드 -> 대대분류코드, 새대분류코드, 중분류코드, 소분류코드\n",
    "purprd1.head(3)"
   ]
  },
  {
   "cell_type": "code",
   "execution_count": null,
   "metadata": {},
   "outputs": [],
   "source": [
    "procl = prodcat.copy()"
   ]
  },
  {
   "cell_type": "code",
   "execution_count": null,
   "metadata": {},
   "outputs": [],
   "source": [
    "#가공식품\n",
    "procl.loc[procl['중분류명'].str.contains(r\"규격RTC|식사류|건면|즉석식품|발효유|식용유|만두|쿠키|초콜렛|씨리얼|케첩마요네즈|냉장식사|축산가공|가공식품|주류|커피|대용식|음식조리|도시락|빵|HMR|밥죽류|간편요리|냉장간편식|간식|선식|햄|소시지|아이스크림|생수|유제품|요구르트|브랜드빵|치즈|두유|음료|소주|양주|건강식품|담배|꿀|안주|한과|프리미엄과자|과자|피자|디저트|장류|식용유지|가루|수입조미|면류|분유|잼|통조림|이유식|구이찜|건명태|튀김|밥류|선물세트|즉석구이|향신료|설탕류|조리식품|라면|인스턴트|간편조리|맥주|와인|전통주|스낵|껌|캔디|시리얼|파이|비스켓|초콜릿|양념|식자재|마른안주|커피|차|소스|조미료|냉동|가공|육포\"),'중분류명'] = '가공식품'\n",
    "#외식\n",
    "procl.loc[procl['중분류명'].str.contains(r\"맛집행사|컨세션|푸드몰|푸드코트|먹거리|중식|패스트푸드|분식|일식|양식|한식|레스토랑|Fast|카페|편의시설|판매시설|주유소|브랜드조리|베이커리|이벤트조리\"),'중분류명'] = '외식'\n",
    "#일상용품\n",
    "procl.loc[procl['중분류명'].str.contains(r\"음식저장|조리용기|세탁세제|화장지|주방주거세제|화장품|두발용품|생리용품|구강용품|위생용품|주방용품|청소욕실용품|가정잡화|화장지|탈취제|베이직케어|선케어|클렌징|집중케어|남성케어|베이비케어|헤어케어|바디케어|풋케어|구강케어|여성용품|화장지티슈|방향제습탈취제|미용소품|안전용품|여행용품|계절팩|여성|남성|베이스메이크업|아이메이크업|립메이크업|네일메이크업|주방용품|생활잡화|식기|일용잡화|화장품조리용기|조리도구|미용소품|훼이셜케어|공구|종량제봉투|필기도구|미용잡화|노트|드럭스토어|아로마|핸드케어|덴탈케어|화장품|건전지|용품|주방|휴지통|밀대|바디|스킨케어|욕실|헤어|일상용품|티슈|청소편의|세제|제습제|키친타올|위생용품|생리대|섬유유연제|표백제|살충제|탈취제|기저귀|화장지\"),'중분류명'] = '일상용품'\n",
    "#의약품 의료기기 \n",
    "procl.loc[procl['중분류명'].str.contains(r\"건강기능식품|일반의약외품|건강식품|홍인삼|기능성건강|비타민\"),'중분류명'] = '의약품/의료기기'\n",
    "#교육 문화\n",
    "procl.loc[procl['중분류명'].str.contains(r\"문화용품|악기|팬시|교육|EDUCATION|서적|음반\"),'중분류명'] = '교육/문화용품'\n",
    "#디지털가전\n",
    "procl.loc[procl['중분류명'].str.contains(r\"대형가전|소형가전|컴퓨터|전자|주방가전|VIDEO|에어컨|TV|DVD|오디오|홈시어터|정수기|공기청정기|음향기기|히터|전기요|가습기|밥솥|청소기|전기포트|믹서|조리기|소형음향기기|카메라|전화기|이동통신|PC|컴퓨터|전기면도기|하이패스|전자악기|MP3|전자학습기|냉장고|세탁기|선풍기|가전|디지털\"),'중분류명'] = '디지털/가전'\n",
    "procl.loc[procl['소분류명'].str.contains(r\"헤어드라이어|헤어세팅기\"),'중분류명'] = '디지털/가전'\n",
    "\n",
    "#가구\n",
    "procl.loc[procl['중분류명'].str.contains(r\"수예|매트|전구|그릇|침구|커튼|수예|조명|가구|테이블|의자|퍼니처|벽지\"),'중분류명'] = '가구/인테리어'\n",
    "procl.loc[procl['소분류명'].str.contains(r\"교자상|다용도상\"),'중분류명'] = '가구/인테리어'\n",
    "\n",
    "#스포츠\n",
    "procl.loc[procl['중분류명'].str.contains(r\"레저취미|SPORTS|스키|등산|낚시|수영복|롤러보드|자전거|골프|스포츠\"),'중분류명'] = '전문스포츠/레저'\n",
    "#패션잡화\n",
    "procl.loc[procl['중분류명'].str.contains(r\"아동슈즈|양산|피트니스|액세서리|피혁잡화|구두|복합샵|시즌잡화|슈즈|스타킹|드레스화브랜드|슈즈행사|샌들슬리퍼|NB구두|운동화|준보석|시계|액세서리|피혁브랜드|가방브랜드|잡화멀티샵|미입점행사|지갑|벨트|핸드백|가방|피혁토탈|모자|스카프|장갑|시즌토탈|썬글라스|양말|우산\"),'중분류명'] = '패션잡화'\n",
    "procl.loc[procl['소분류명'].str.contains(r\"선글라스|피혁\"),'중분류명'] = '패션잡화'\n",
    "\n",
    "#의류\n",
    "procl.loc[procl['중분류명'].str.contains(r\"섬유잡화|캐주얼|커리어|트래디셔널|시티웨어|내의|블라우스|기타의류|디자이너|모피|피혁|남성정장|남성캐주얼|교복|셔츠|트랜디|병행수입|수입브랜드|마담|덧신|내의|란제리|웨어|주니어|의류|캐주얼|스트리트|정장|남성|남아|여성|여아|아동\"),'중분류명'] = '의류'\n",
    "#유아용품\n",
    "procl.loc[procl['중분류명'].str.contains(r\"아동|GIRLS|BOYS|베이비|BABY|유아\"),'중분류명'] = '유아용품'\n",
    "#명품\n",
    "procl.loc[procl['중분류명'].str.contains(r\"보석|준보석|명품\"),'중분류명'] = '명품'\n",
    "#기타\n",
    "procl.loc[procl['중분류명'].str.contains(r\"브랜드|기타|웨딩|데일리처분|균일가|파티|시즌행사|영상|동물병원|카시트|캠핑|여행|TRAVEL\"),'중분류명'] = '기타'\n",
    "procl.loc[procl['소분류명'].str.contains(r'일반브랜드'), '중분류명'] = '기타'\n",
    "\n",
    "#신선식품\n",
    "procl.loc[procl['중분류명'].str.contains(r\"특산물|견과류|냉장농산|냉장수산|냉장축산|냉장기타|채류|돈육|계육|건어류|해물|육류|농산물|수산품|반찬|단무지|잡곡|초밥|다시마|수입게|떡|족발|순대|연체|새우|마른김|조미김|연어|갈치|굴비|조개|계란|오리|우육|닭|감귤|감|복숭아|자두|구이|토마토|기타회|건과|생활한방|한방식재류|수입육|한우|포도|참외|수박|딸기|메론|오렌지|자몽|석류|레몬|해물연체류|블루베리|체리|수입포도|바나나|파인애플|망고|키위|사과|배|밤|과일|해초|나물|두부|묵|즉석참기름|소고기|돼지고기|김치|반찬|양곡|멸치|황태|우유|즉석도정미|특산물|국산게|해조류|꽁치|조기|고등어|약초|대구|도미|생선|잎|잡곡류|선어|채소|버섯|오징어|젓갈|쥐치포|육포|건명태\"),'중분류명'] = '신선식품'\n",
    "\n",
    "procl"
   ]
  },
  {
   "cell_type": "code",
   "execution_count": null,
   "metadata": {},
   "outputs": [],
   "source": [
    "# 중분류분류코드 컬럼 추가\n",
    "procl['중분류분류코드'] = procl['중분류명'].map({'신선식품':12,'가공식품':11,'외식':13,'일상용품':14,'의약품/의료기기':15,'교육/문화용품':16,'기타':17,'디지털/가전':21,'가구/인테리어':22,'의류':23,'전문스포츠/레저':24,'패션잡화':25,'유아용품':26,'명품':31})\n",
    "procl.head(3)"
   ]
  },
  {
   "cell_type": "code",
   "execution_count": null,
   "metadata": {},
   "outputs": [],
   "source": [
    "procl.중분류분류코드.unique()\n",
    "procl.중분류명.unique()"
   ]
  },
  {
   "cell_type": "code",
   "execution_count": null,
   "metadata": {},
   "outputs": [],
   "source": [
    "procl.중분류명.unique()"
   ]
  },
  {
   "cell_type": "code",
   "execution_count": null,
   "metadata": {},
   "outputs": [],
   "source": [
    "# 내구재 카테고리 나누기\n",
    "def naegujae(x):\n",
    "    cat=''\n",
    "    if x in ['가구/인테리어','디지털/가전','명품']:\n",
    "        cat = '100'\n",
    "    elif x in ['의류','전문스포츠/레저','패션잡화','일상용품']:\n",
    "        cat = '200'\n",
    "    elif x in ['가공식품','교육/문화용품','신선식품','의약품/의료기기','유아용품']:\n",
    "        cat = '300'      \n",
    "    elif x in ['외식','기타']:\n",
    "        cat = '400'\n",
    "    return cat\n",
    "\n",
    "\n",
    "procl['내구재분류코드'] = procl['중분류명'].map(naegujae)"
   ]
  },
  {
   "cell_type": "code",
   "execution_count": null,
   "metadata": {},
   "outputs": [],
   "source": [
    "# 소비재 카테고리 나누기\n",
    "def sobijae(x):\n",
    "    cat=''\n",
    "    if x in ['가공식품','신선식품','외식','일상용품','의약품/의료기기','교육/문화용품','기타']:\n",
    "        cat = '1'\n",
    "    elif x in ['디지털/가전','가구/인테리어','의류','전문스포츠/레저','패션잡화','유아용품']:\n",
    "        cat = '2'\n",
    "    elif x =='명품':\n",
    "        cat = '3'\n",
    "        \n",
    "    return cat\n",
    "\n",
    "procl['소비재분류코드'] = procl['중분류명'].map(sobijae)"
   ]
  },
  {
   "cell_type": "code",
   "execution_count": null,
   "metadata": {},
   "outputs": [],
   "source": [
    "procl.head(3)"
   ]
  },
  {
   "cell_type": "code",
   "execution_count": null,
   "metadata": {},
   "outputs": [],
   "source": [
    "display(procl.head(3),purprd1.head(3))"
   ]
  },
  {
   "cell_type": "code",
   "execution_count": null,
   "metadata": {},
   "outputs": [],
   "source": [
    "procl= procl.drop(['제휴사','중분류코드', '대분류코드'] , axis=1)\n",
    "purprd = pd.merge(purprd1,procl,on='소분류코드',how='inner')\n",
    "purprd.head(3)"
   ]
  },
  {
   "cell_type": "code",
   "execution_count": null,
   "metadata": {},
   "outputs": [],
   "source": [
    "for i in ['A','B','C','D']:\n",
    "    counts = purprd[(purprd['제휴사']==i)]['소비재분류코드'].nunique(),\\\n",
    "            purprd[(purprd['제휴사']==i)]['내구재분류코드'].nunique(),\\\n",
    "            purprd[(purprd['제휴사']==i)]['중분류분류코드'].nunique()\n",
    "    print(f'제휴사 {i}의 소비재/내구재/중분류 분류코드 수:', counts)"
   ]
  },
  {
   "cell_type": "code",
   "execution_count": null,
   "metadata": {},
   "outputs": [],
   "source": [
    "pd.pivot_table(data=purprd, columns='제휴사', index='소비재분류코드', aggfunc='size')"
   ]
  },
  {
   "cell_type": "code",
   "execution_count": null,
   "metadata": {},
   "outputs": [],
   "source": [
    "pd.pivot_table(data=purprd, columns='제휴사', index='내구재분류코드', aggfunc='size')"
   ]
  },
  {
   "cell_type": "code",
   "execution_count": null,
   "metadata": {},
   "outputs": [],
   "source": [
    "pd.pivot_table(data=purprd, columns='제휴사', index='중분류분류코드', aggfunc='size')"
   ]
  },
  {
   "cell_type": "code",
   "execution_count": null,
   "metadata": {},
   "outputs": [],
   "source": [
    "purprd.columns"
   ]
  },
  {
   "cell_type": "code",
   "execution_count": null,
   "metadata": {},
   "outputs": [],
   "source": [
    "purprd = purprd[['제휴사', '영수증번호', '대분류코드', '중분류코드', '소분류코드', '소비재분류코드', '내구재분류코드', '중분류분류코드','중분류명', '소분류명','고객번호', '점포코드', '구매일자',\n",
    "       '구매시간', '구매금액']]"
   ]
  },
  {
   "cell_type": "code",
   "execution_count": null,
   "metadata": {},
   "outputs": [],
   "source": [
    "purprd.head(3)"
   ]
  },
  {
   "cell_type": "code",
   "execution_count": null,
   "metadata": {},
   "outputs": [],
   "source": [
    "# 3. membership: 고객별 멤버십 가입 데이터\n",
    "membership.head(3)"
   ]
  },
  {
   "cell_type": "code",
   "execution_count": null,
   "metadata": {},
   "outputs": [],
   "source": [
    "# 4. cust: 고객별 인구 통계학적 정보 데이터\n",
    "cust.head(3)"
   ]
  },
  {
   "cell_type": "markdown",
   "metadata": {
    "id": "jaotyn7OEmwx"
   },
   "source": [
    "# 반기별 고객구매 df 만들기\n",
    "- cust 데이터 기반, 2014년 1/2반기, 2015년 1/2반기의 고객별 구매정보 데이터 프레임 형성"
   ]
  },
  {
   "cell_type": "code",
   "execution_count": null,
   "metadata": {},
   "outputs": [],
   "source": [
    "# purprd 수정\n",
    "\n",
    "# 1. 구매일자 datetime 형식으로 변환\n",
    "purprd.구매일자 = pd.to_datetime(purprd.구매일자, format = '%Y%m%d')\n",
    "purprd['구매요일'] = purprd['구매일자'].dt.day_name()\n",
    "# 2. 구매시간 범주화\n",
    "\n",
    "def time_cat(x):\n",
    "    if 9 <= x < 12: return '오전'\n",
    "    elif 12 <= x < 15: return '낮'\n",
    "    elif 15 <= x < 18: return '오후'\n",
    "    elif 18 <= x < 21: return '저녁'\n",
    "    else: return '야간'    \n",
    "purprd.구매시간 = purprd.구매시간.apply(time_cat)\n",
    "\n",
    "# 평일(1)/주말(0) 분류\n",
    "# 주중/주말 카테고리 나누기\n",
    "\n",
    "def week_cat(x):\n",
    "    if x in ['Saturday','Sunday']:\n",
    "        cat = 0\n",
    "    else:\n",
    "        cat = 1\n",
    "    return cat\n",
    "\n",
    "purprd['평일주말'] = purprd['구매요일'].map(week_cat)\n",
    "\n",
    "# 3. 점포코드를 제휴사와 합친 형태로 변환 (ex. 제휴사 B, 점포코드 101 -> 점포코드 B101)\n",
    "purprd.점포코드 = purprd.제휴사 + purprd.점포코드.astype(str)\n",
    "\n",
    "# 4. purprd 반기별 분할\n",
    "purprd_14_half1 = purprd[(purprd.구매일자>=pd.to_datetime(20140101, format='%Y%m%d'))&(purprd.구매일자<pd.to_datetime(20140701, format='%Y%m%d'))]\n",
    "purprd_14_half2 = purprd[(purprd.구매일자>=pd.to_datetime(20140701, format='%Y%m%d'))&(purprd.구매일자<pd.to_datetime(20150101, format='%Y%m%d'))]\n",
    "purprd_15_half1 = purprd[(purprd.구매일자>=pd.to_datetime(20150101, format='%Y%m%d'))&(purprd.구매일자<pd.to_datetime(20150701, format='%Y%m%d'))]\n",
    "purprd_15_half2 = purprd[(purprd.구매일자>=pd.to_datetime(20150701, format='%Y%m%d'))&(purprd.구매일자<pd.to_datetime(20160101, format='%Y%m%d'))]\n",
    "purprd_14_half1.head(3)"
   ]
  },
  {
   "cell_type": "code",
   "execution_count": null,
   "metadata": {},
   "outputs": [],
   "source": [
    "# cust에 membership 가입년월 컬럼 추가\n",
    "# 여러가지 멤버십 복수가입 시, 가장 일찍 가입한 멤버십 기준으로 가입년월 집계함(min)\n",
    "# 가입여부가 아닌 가입년월인 이유: 반기별로 고객데이터 분할한 이후에 가입여부가 바뀔 수 있기 때문\n",
    "# 반기별 고객데이터 분할 이후 가입년월을 가입여부로 변경\n",
    "\n",
    "membership.가입년월 = pd.to_datetime(membership.가입년월, format = '%Y%m')\n",
    "cust = cust.merge(membership.pivot_table(index = '고객번호', values = '가입년월', aggfunc='min'), how = 'left', on = '고객번호').rename({'가입년월':'멤버십가입년월'}, axis = 1)\n",
    "cust.head(3)"
   ]
  },
  {
   "cell_type": "code",
   "execution_count": null,
   "metadata": {},
   "outputs": [],
   "source": [
    "# 연령대 카테고리 나누기\n",
    "# 학생층:0,청년층:1,중년층:2,장년층:3,노년층:4\n",
    "\n",
    "def age_cat(x):\n",
    "    if x in ['19세이하','20세~24세']:\n",
    "        cat = 0\n",
    "    elif x in ['25세~29세','30세~34세']:\n",
    "        cat = 1\n",
    "    elif  x in ['35세~39세','40세~44세']:\n",
    "        cat = 2      \n",
    "    elif  x in ['45세~49세','50세~54세']:\n",
    "        cat = 3\n",
    "    else:\n",
    "        cat = 4\n",
    "    return cat\n",
    "\n",
    "\n",
    "cust['연령대'] = cust['연령대'].map(age_cat)"
   ]
  },
  {
   "cell_type": "code",
   "execution_count": null,
   "metadata": {},
   "outputs": [],
   "source": [
    "# 반기별 고객구매 df 만들기: cust를 반기별로 복사\n",
    "\n",
    "cust_14_half1 = cust.copy()\n",
    "cust_14_half2 = cust.copy()\n",
    "cust_15_half1 = cust.copy()\n",
    "cust_15_half2 = cust.copy()"
   ]
  },
  {
   "cell_type": "code",
   "execution_count": null,
   "metadata": {},
   "outputs": [],
   "source": [
    "# 변수수정: 멤버십가입년월 -> 멤버십가입여부\n",
    "\n",
    "ref_date = pd.to_datetime(20140701, format = '%Y%m%d')\n",
    "cust_14_half1.멤버십가입년월 = cust_14_half1.멤버십가입년월.map(lambda x: 1 if x < ref_date else 0)\n",
    "ref_date = pd.to_datetime(20150101, format = '%Y%m%d')\n",
    "cust_14_half2.멤버십가입년월 = cust_14_half2.멤버십가입년월.map(lambda x: 1 if x < ref_date else 0)\n",
    "ref_date = pd.to_datetime(20150701, format = '%Y%m%d')\n",
    "cust_15_half1.멤버십가입년월 = cust_15_half1.멤버십가입년월.map(lambda x: 1 if x < ref_date else 0)\n",
    "ref_date = pd.to_datetime(20160101, format = '%Y%m%d')\n",
    "cust_15_half2.멤버십가입년월 = cust_15_half2.멤버십가입년월.map(lambda x: 1 if x < ref_date else 0)\n",
    "\n",
    "cust_14_half1 = cust_14_half1.rename({'멤버십가입년월':'멤버십가입여부'}, axis = 1)\n",
    "cust_14_half2 = cust_14_half2.rename({'멤버십가입년월':'멤버십가입여부'}, axis = 1)\n",
    "cust_15_half1 = cust_15_half1.rename({'멤버십가입년월':'멤버십가입여부'}, axis = 1)\n",
    "cust_15_half2 = cust_15_half2.rename({'멤버십가입년월':'멤버십가입여부'}, axis = 1)\n",
    "\n",
    "cust_14_half1.head(3)"
   ]
  },
  {
   "cell_type": "markdown",
   "metadata": {},
   "source": [
    "# 파생변수 생성"
   ]
  },
  {
   "cell_type": "markdown",
   "metadata": {},
   "source": [
    "## 1. 제휴사별 구매금액비율"
   ]
  },
  {
   "cell_type": "code",
   "execution_count": null,
   "metadata": {},
   "outputs": [],
   "source": [
    "def get_amount_rate(purprd, cust):\n",
    "    temp = purprd.pivot_table(index = '고객번호', columns = '제휴사', values = '구매금액', aggfunc = 'sum').fillna(0)\n",
    "    temp['총계'] = temp.sum(axis = 1)\n",
    "    temp = temp.apply(lambda x: x/temp['총계'])\n",
    "    temp = temp.drop('총계', axis = 1)\n",
    "    cust = cust.merge(temp, how = 'left', on = '고객번호').rename({'A':'A구매금액비율', 'B':'B구매금액비율', 'C':'C구매금액비율', 'D':'D구매금액비율'}, axis = 1)\n",
    "    return cust\n",
    "\n",
    "cust_14_half1 = get_amount_rate(purprd_14_half1,cust_14_half1)\n",
    "cust_14_half2 = get_amount_rate(purprd_14_half2,cust_14_half2)\n",
    "cust_15_half1 = get_amount_rate(purprd_15_half1,cust_15_half1)\n",
    "cust_15_half2 = get_amount_rate(purprd_15_half2,cust_15_half2)\n",
    "\n",
    "cust_14_half1.head(3)"
   ]
  },
  {
   "cell_type": "markdown",
   "metadata": {},
   "source": [
    "## 2. 주요구매시간대"
   ]
  },
  {
   "cell_type": "code",
   "execution_count": null,
   "metadata": {},
   "outputs": [],
   "source": [
    "import numpy as np\n",
    "from scipy.stats import mode\n",
    "\n",
    "def get_feq_time(purprd, cust):\n",
    "    temp = purprd.groupby(['고객번호', '영수증번호']).구매시간.first().reset_index().groupby('고객번호').구매시간.apply(lambda x: mode(x)[0][0])\n",
    "    cust = cust.merge(temp.rename('주요구매시간대'), how = 'left', on = '고객번호')\n",
    "    return cust\n",
    "\n",
    "cust_14_half1 = get_feq_time(purprd_14_half1,cust_14_half1)\n",
    "cust_14_half2 = get_feq_time(purprd_14_half2,cust_14_half2)\n",
    "cust_15_half1 = get_feq_time(purprd_15_half1,cust_15_half1)\n",
    "cust_15_half2 = get_feq_time(purprd_15_half2,cust_15_half2)\n",
    "\n",
    "cust_14_half1.head(3)"
   ]
  },
  {
   "cell_type": "markdown",
   "metadata": {},
   "source": [
    "## 3. 주중/주말별"
   ]
  },
  {
   "cell_type": "code",
   "execution_count": null,
   "metadata": {},
   "outputs": [],
   "source": [
    "import numpy as np\n",
    "from scipy.stats import mode\n",
    "\n",
    "def get_feq_holiday(purprd, cust):\n",
    "    temp = purprd.groupby(['고객번호', '영수증번호']).평일주말.first().reset_index().groupby('고객번호').평일주말.apply(lambda x: mode(x)[0][0])\n",
    "    cust = cust.merge(temp.rename('평일주말별'), how = 'left', on = '고객번호')\n",
    "    return cust\n",
    "\n",
    "cust_14_half1 = get_feq_holiday(purprd_14_half1,cust_14_half1)\n",
    "cust_14_half2 = get_feq_holiday(purprd_14_half2,cust_14_half2)\n",
    "cust_15_half1 = get_feq_holiday(purprd_15_half1,cust_15_half1)\n",
    "cust_15_half2 = get_feq_holiday(purprd_15_half2,cust_15_half2)\n",
    "\n",
    "cust_14_half1.head(3)"
   ]
  },
  {
   "cell_type": "code",
   "execution_count": null,
   "metadata": {},
   "outputs": [],
   "source": [
    "purprd[:3]"
   ]
  },
  {
   "cell_type": "code",
   "execution_count": null,
   "metadata": {},
   "outputs": [],
   "source": [
    "cust[:3]"
   ]
  },
  {
   "cell_type": "code",
   "execution_count": null,
   "metadata": {},
   "outputs": [],
   "source": []
  },
  {
   "cell_type": "markdown",
   "metadata": {},
   "source": [
    "## 4. 연령대별(보류)"
   ]
  },
  {
   "cell_type": "markdown",
   "metadata": {},
   "source": [
    "def get_amount_age(purprd, cust):\n",
    "    temp = purprd.pivot_table(index = '고객번호', columns = '연령대', values = '구매금액', aggfunc = 'sum').fillna(0)\n",
    "    temp['총계'] = temp.sum(axis = 1)\n",
    "    temp = temp.apply(lambda x: x/temp['총계'])\n",
    "    temp = temp.drop('총계', axis = 1)\n",
    "    cust = cust.merge(temp, how = 'left', on = '고객번호').rename({'A':'A구매금액비율', 'B':'B구매금액비율', 'C':'C구매금액비율', 'D':'D구매금액비율'}, axis = 1)\n",
    "    return cust\n",
    "\n",
    "cust_14_half1 = get_amount_age(purprd_14_half1,cust_14_half1)\n",
    "cust_14_half2 = get_amount_age(purprd_14_half2,cust_14_half2)\n",
    "cust_15_half1 = get_amount_age(purprd_15_half1,cust_15_half1)\n",
    "cust_15_half2 = get_amount_age(purprd_15_half2,cust_15_half2)\n",
    "\n",
    "cust_14_half1.head(3)"
   ]
  },
  {
   "cell_type": "markdown",
   "metadata": {},
   "source": [
    "## 5. 제휴사별 방문횟수\n"
   ]
  },
  {
   "cell_type": "code",
   "execution_count": null,
   "metadata": {},
   "outputs": [],
   "source": [
    "cust_14_half1 = cust_14_half1.merge(purprd_14_half1.pivot_table(index = '고객번호', columns = '제휴사', values = '영수증번호', aggfunc = 'nunique').fillna(0).rename({'A':'A방문횟수', 'B':'B방문횟수', 'C':'C방문횟수', 'D':'D방문횟수'}, axis = 1), how = 'left', on = '고객번호')\n",
    "cust_14_half2 = cust_14_half2.merge(purprd_14_half2.pivot_table(index = '고객번호', columns = '제휴사', values = '영수증번호', aggfunc = 'nunique').fillna(0).rename({'A':'A방문횟수', 'B':'B방문횟수', 'C':'C방문횟수', 'D':'D방문횟수'}, axis = 1), how = 'left', on = '고객번호')\n",
    "cust_15_half1 = cust_15_half1.merge(purprd_15_half1.pivot_table(index = '고객번호', columns = '제휴사', values = '영수증번호', aggfunc = 'nunique').fillna(0).rename({'A':'A방문횟수', 'B':'B방문횟수', 'C':'C방문횟수', 'D':'D방문횟수'}, axis = 1), how = 'left', on = '고객번호')\n",
    "cust_15_half2 = cust_15_half2.merge(purprd_15_half2.pivot_table(index = '고객번호', columns = '제휴사', values = '영수증번호', aggfunc = 'nunique').fillna(0).rename({'A':'A방문횟수', 'B':'B방문횟수', 'C':'C방문횟수', 'D':'D방문횟수'}, axis = 1), how = 'left', on = '고객번호')\n",
    "\n",
    "cust_14_half1.head(3)"
   ]
  },
  {
   "cell_type": "markdown",
   "metadata": {},
   "source": [
    "## 6. 제휴사별 상품구매개수"
   ]
  },
  {
   "cell_type": "code",
   "execution_count": null,
   "metadata": {},
   "outputs": [],
   "source": [
    "cust_14_half1 = cust_14_half1.merge(purprd_14_half1.pivot_table(index = '고객번호', columns = '제휴사', values = '영수증번호', aggfunc = 'count').fillna(0).rename({'A':'A상품구매개수', 'B':'B상품구매개수', 'C':'C상품구매개수', 'D':'D상품구매개수'}, axis = 1), how = 'left', on = '고객번호')\n",
    "cust_14_half2 = cust_14_half2.merge(purprd_14_half2.pivot_table(index = '고객번호', columns = '제휴사', values = '영수증번호', aggfunc = 'count').fillna(0).rename({'A':'A상품구매개수', 'B':'B상품구매개수', 'C':'C상품구매개수', 'D':'D상품구매개수'}, axis = 1), how = 'left', on = '고객번호')\n",
    "cust_15_half1 = cust_15_half1.merge(purprd_15_half1.pivot_table(index = '고객번호', columns = '제휴사', values = '영수증번호', aggfunc = 'count').fillna(0).rename({'A':'A상품구매개수', 'B':'B상품구매개수', 'C':'C상품구매개수', 'D':'D상품구매개수'}, axis = 1), how = 'left', on = '고객번호')\n",
    "cust_15_half2 = cust_15_half2.merge(purprd_15_half2.pivot_table(index = '고객번호', columns = '제휴사', values = '영수증번호', aggfunc = 'count').fillna(0).rename({'A':'A상품구매개수', 'B':'B상품구매개수', 'C':'C상품구매개수', 'D':'D상품구매개수'}, axis = 1), how = 'left', on = '고객번호')\n",
    "\n",
    "cust_14_half1.head(3)"
   ]
  },
  {
   "cell_type": "markdown",
   "metadata": {},
   "source": [
    "## 7. 총구매금액\n"
   ]
  },
  {
   "cell_type": "code",
   "execution_count": null,
   "metadata": {},
   "outputs": [],
   "source": [
    "cust_14_half1 = cust_14_half1.merge(purprd_14_half1.groupby('고객번호').구매금액.sum().rename('총구매금액'), how = 'left', on = '고객번호')\n",
    "cust_14_half2 = cust_14_half2.merge(purprd_14_half2.groupby('고객번호').구매금액.sum().rename('총구매금액'), how = 'left', on = '고객번호')\n",
    "cust_15_half1 = cust_15_half1.merge(purprd_15_half1.groupby('고객번호').구매금액.sum().rename('총구매금액'), how = 'left', on = '고객번호')\n",
    "cust_15_half2 = cust_15_half2.merge(purprd_15_half2.groupby('고객번호').구매금액.sum().rename('총구매금액'), how = 'left', on = '고객번호')\n",
    "\n",
    "# 2014-1반기 기준, 각 반기의 매출 증감에 대해 보정\n",
    "r2 = cust_14_half1.총구매금액.sum() / cust_14_half2.총구매금액.sum()\n",
    "r3 = cust_14_half1.총구매금액.sum() / cust_15_half1.총구매금액.sum()\n",
    "r4 = cust_14_half1.총구매금액.sum() / cust_15_half2.총구매금액.sum()\n",
    "\n",
    "cust_14_half2.총구매금액 = cust_14_half2.총구매금액*r2\n",
    "cust_15_half1.총구매금액 = cust_15_half1.총구매금액*r3\n",
    "cust_15_half2.총구매금액 = cust_15_half2.총구매금액*r4\n",
    "\n",
    "cust_14_half1.head(3)"
   ]
  },
  {
   "cell_type": "markdown",
   "metadata": {},
   "source": [
    "## 8. 방문점포종류수"
   ]
  },
  {
   "cell_type": "code",
   "execution_count": null,
   "metadata": {},
   "outputs": [],
   "source": [
    "cust_14_half1 = cust_14_half1.merge(purprd_14_half1.groupby('고객번호').점포코드.nunique().rename('방문점포종류수'), how = 'left', on = '고객번호')\n",
    "cust_14_half2 = cust_14_half2.merge(purprd_14_half2.groupby('고객번호').점포코드.nunique().rename('방문점포종류수'), how = 'left', on = '고객번호')\n",
    "cust_15_half1 = cust_15_half1.merge(purprd_15_half1.groupby('고객번호').점포코드.nunique().rename('방문점포종류수'), how = 'left', on = '고객번호')\n",
    "cust_15_half2 = cust_15_half2.merge(purprd_15_half2.groupby('고객번호').점포코드.nunique().rename('방문점포종류수'), how = 'left', on = '고객번호')\n",
    "\n",
    "cust_14_half1.head(3)"
   ]
  },
  {
   "cell_type": "markdown",
   "metadata": {},
   "source": [
    "## 9. 마지막구매일자"
   ]
  },
  {
   "cell_type": "code",
   "execution_count": null,
   "metadata": {},
   "outputs": [],
   "source": [
    "cust_14_half1 = cust_14_half1.merge(purprd_14_half1.pivot_table(index = '고객번호', values='구매일자', aggfunc = 'max').rename({'구매일자':'마지막구매일자'}, axis = 1), how = 'left', on = '고객번호')\n",
    "cust_14_half2 = cust_14_half2.merge(purprd_14_half2.pivot_table(index = '고객번호', values='구매일자', aggfunc = 'max').rename({'구매일자':'마지막구매일자'}, axis = 1), how = 'left', on = '고객번호')\n",
    "cust_15_half1 = cust_15_half1.merge(purprd_15_half1.pivot_table(index = '고객번호', values='구매일자', aggfunc = 'max').rename({'구매일자':'마지막구매일자'}, axis = 1), how = 'left', on = '고객번호')\n",
    "cust_15_half2 = cust_15_half2.merge(purprd_15_half2.pivot_table(index = '고객번호', values='구매일자', aggfunc = 'max').rename({'구매일자':'마지막구매일자'}, axis = 1), how = 'left', on = '고객번호')\n",
    "\n",
    "cust_14_half1.마지막구매일자 = cust_14_half1.마지막구매일자.astype('datetime64')\n",
    "cust_14_half2.마지막구매일자 = cust_14_half2.마지막구매일자.astype('datetime64')\n",
    "cust_15_half1.마지막구매일자 = cust_15_half1.마지막구매일자.astype('datetime64')\n",
    "cust_15_half2.마지막구매일자 = cust_15_half2.마지막구매일자.astype('datetime64')\n",
    "\n",
    "cust_14_half1.head(3)"
   ]
  },
  {
   "cell_type": "markdown",
   "metadata": {},
   "source": [
    "## 10. 회당구매금액"
   ]
  },
  {
   "cell_type": "code",
   "execution_count": null,
   "metadata": {},
   "outputs": [],
   "source": [
    "cust_14_half1['회당구매금액'] = cust_14_half1.총구매금액/(cust_14_half1.A방문횟수 + cust_14_half1.B방문횟수 + cust_14_half1.C방문횟수 + cust_14_half1.D방문횟수)\n",
    "cust_14_half2['회당구매금액'] = cust_14_half2.총구매금액/(cust_14_half2.A방문횟수 + cust_14_half2.B방문횟수 + cust_14_half2.C방문횟수 + cust_14_half2.D방문횟수)\n",
    "cust_15_half1['회당구매금액'] = cust_15_half1.총구매금액/(cust_15_half1.A방문횟수 + cust_15_half1.B방문횟수 + cust_15_half1.C방문횟수 + cust_15_half1.D방문횟수)\n",
    "cust_15_half2['회당구매금액'] = cust_15_half2.총구매금액/(cust_15_half2.A방문횟수 + cust_15_half2.B방문횟수 + cust_15_half2.C방문횟수 + cust_15_half2.D방문횟수)\n",
    "\n",
    "cust_14_half1.head(3)"
   ]
  },
  {
   "cell_type": "markdown",
   "metadata": {},
   "source": [
    "## 11. 구매상품종류수\n",
    "- 소분류 기준"
   ]
  },
  {
   "cell_type": "code",
   "execution_count": null,
   "metadata": {},
   "outputs": [],
   "source": [
    "cust_14_half1 = cust_14_half1.merge(purprd_14_half1.pivot_table(index = '고객번호', values = '소분류코드', aggfunc = 'nunique').rename({'소분류코드':'소분류구매상품종류수'}, axis = 1), how = 'left', on = '고객번호')\n",
    "cust_14_half2 = cust_14_half2.merge(purprd_14_half2.pivot_table(index = '고객번호', values = '소분류코드', aggfunc = 'nunique').rename({'소분류코드':'소분류구매상품종류수'}, axis = 1), how = 'left', on = '고객번호')\n",
    "cust_15_half1 = cust_15_half1.merge(purprd_15_half1.pivot_table(index = '고객번호', values = '소분류코드', aggfunc = 'nunique').rename({'소분류코드':'소분류구매상품종류수'}, axis = 1), how = 'left', on = '고객번호')\n",
    "cust_15_half2 = cust_15_half2.merge(purprd_15_half2.pivot_table(index = '고객번호', values = '소분류코드', aggfunc = 'nunique').rename({'소분류코드':'소분류구매상품종류수'}, axis = 1), how = 'left', on = '고객번호')\n",
    "\n",
    "cust_14_half1.head(3)"
   ]
  },
  {
   "cell_type": "markdown",
   "metadata": {},
   "source": [
    "- 내구재분류 기준"
   ]
  },
  {
   "cell_type": "code",
   "execution_count": null,
   "metadata": {},
   "outputs": [],
   "source": [
    "cust_14_half1 = cust_14_half1.merge(purprd_14_half1.pivot_table(index = '고객번호', values = '내구재분류코드', aggfunc = 'nunique').rename({'내구재분류코드':'내구재구매상품종류수'}, axis = 1), how = 'left', on = '고객번호')\n",
    "cust_14_half2 = cust_14_half2.merge(purprd_14_half2.pivot_table(index = '고객번호', values = '내구재분류코드', aggfunc = 'nunique').rename({'내구재분류코드':'내구재구매상품종류수'}, axis = 1), how = 'left', on = '고객번호')\n",
    "cust_15_half1 = cust_15_half1.merge(purprd_15_half1.pivot_table(index = '고객번호', values = '내구재분류코드', aggfunc = 'nunique').rename({'내구재분류코드':'내구재구매상품종류수'}, axis = 1), how = 'left', on = '고객번호')\n",
    "cust_15_half2 = cust_15_half2.merge(purprd_15_half2.pivot_table(index = '고객번호', values = '내구재분류코드', aggfunc = 'nunique').rename({'내구재분류코드':'내구재구매상품종류수'}, axis = 1), how = 'left', on = '고객번호')\n",
    "\n",
    "cust_14_half1.head(3)"
   ]
  },
  {
   "cell_type": "markdown",
   "metadata": {},
   "source": [
    "- 소비재분류 기준"
   ]
  },
  {
   "cell_type": "code",
   "execution_count": null,
   "metadata": {},
   "outputs": [],
   "source": [
    "cust_14_half1 = cust_14_half1.merge(purprd_14_half1.pivot_table(index = '고객번호', values = '소비재분류코드', aggfunc = 'nunique').rename({'소비재분류코드':'소비재구매상품종류수'}, axis = 1), how = 'left', on = '고객번호')\n",
    "cust_14_half2 = cust_14_half2.merge(purprd_14_half2.pivot_table(index = '고객번호', values = '소비재분류코드', aggfunc = 'nunique').rename({'소비재분류코드':'소비재구매상품종류수'}, axis = 1), how = 'left', on = '고객번호')\n",
    "cust_15_half1 = cust_15_half1.merge(purprd_15_half1.pivot_table(index = '고객번호', values = '소비재분류코드', aggfunc = 'nunique').rename({'소비재분류코드':'소비재구매상품종류수'}, axis = 1), how = 'left', on = '고객번호')\n",
    "cust_15_half2 = cust_15_half2.merge(purprd_15_half2.pivot_table(index = '고객번호', values = '소비재분류코드', aggfunc = 'nunique').rename({'소비재분류코드':'소비재구매상품종류수'}, axis = 1), how = 'left', on = '고객번호')\n",
    "\n",
    "cust_14_half1.head(3)"
   ]
  },
  {
   "cell_type": "markdown",
   "metadata": {},
   "source": [
    "- 중분류분류 기준"
   ]
  },
  {
   "cell_type": "code",
   "execution_count": null,
   "metadata": {},
   "outputs": [],
   "source": [
    "cust_14_half1 = cust_14_half1.merge(purprd_14_half1.pivot_table(index = '고객번호', values = '중분류분류코드', aggfunc = 'nunique').rename({'중분류분류코드':'중분류구매상품종류수'}, axis = 1), how = 'left', on = '고객번호')\n",
    "cust_14_half2 = cust_14_half2.merge(purprd_14_half2.pivot_table(index = '고객번호', values = '중분류분류코드', aggfunc = 'nunique').rename({'중분류분류코드':'중분류구매상품종류수'}, axis = 1), how = 'left', on = '고객번호')\n",
    "cust_15_half1 = cust_15_half1.merge(purprd_15_half1.pivot_table(index = '고객번호', values = '중분류분류코드', aggfunc = 'nunique').rename({'중분류분류코드':'중분류구매상품종류수'}, axis = 1), how = 'left', on = '고객번호')\n",
    "cust_15_half2 = cust_15_half2.merge(purprd_15_half2.pivot_table(index = '고객번호', values = '중분류분류코드', aggfunc = 'nunique').rename({'중분류분류코드':'중분류구매상품종류수'}, axis = 1), how = 'left', on = '고객번호')\n",
    "\n",
    "cust_14_half1.head(3)"
   ]
  },
  {
   "cell_type": "markdown",
   "metadata": {},
   "source": [
    "## 12. 제휴사별 구매금액"
   ]
  },
  {
   "cell_type": "code",
   "execution_count": null,
   "metadata": {},
   "outputs": [],
   "source": [
    "cust_14_half1 = cust_14_half1.merge(purprd_14_half1.pivot_table(index = '고객번호', columns = '제휴사', values = '구매금액', aggfunc = 'sum').fillna(0).rename({'A':'A구매금액', 'B':'B구매금액', 'C':'C구매금액', 'D':'D구매금액'}, axis = 1), how = 'left', on = '고객번호')\n",
    "cust_14_half2 = cust_14_half2.merge(purprd_14_half2.pivot_table(index = '고객번호', columns = '제휴사', values = '구매금액', aggfunc = 'sum').fillna(0).rename({'A':'A구매금액', 'B':'B구매금액', 'C':'C구매금액', 'D':'D구매금액'}, axis = 1), how = 'left', on = '고객번호')\n",
    "cust_15_half1 = cust_15_half1.merge(purprd_15_half1.pivot_table(index = '고객번호', columns = '제휴사', values = '구매금액', aggfunc = 'sum').fillna(0).rename({'A':'A구매금액', 'B':'B구매금액', 'C':'C구매금액', 'D':'D구매금액'}, axis = 1), how = 'left', on = '고객번호')\n",
    "cust_15_half2 = cust_15_half2.merge(purprd_15_half2.pivot_table(index = '고객번호', columns = '제휴사', values = '구매금액', aggfunc = 'sum').fillna(0).rename({'A':'A구매금액', 'B':'B구매금액', 'C':'C구매금액', 'D':'D구매금액'}, axis = 1), how = 'left', on = '고객번호')\n",
    "\n",
    "cust_14_half1.head(3)"
   ]
  },
  {
   "cell_type": "markdown",
   "metadata": {},
   "source": [
    "## 13. 중뷴류분류코드별 구매순위 등급\n",
    "- 4등급으로 분류"
   ]
  },
  {
   "cell_type": "code",
   "execution_count": null,
   "metadata": {},
   "outputs": [],
   "source": [
    "# 분기별 구매데이터프레임 분할(총 8분기)\n",
    "# fh: first half(상반기), sh: second half(하반기)\n",
    "\n",
    "fh14_1 = purprd[purprd.구매일자<'20140401']\n",
    "fh14_2 = purprd[(purprd.구매일자>='20140401')&(purprd.구매일자<'20140701')]\n",
    "sh14_1 = purprd[(purprd.구매일자>='20140701')&(purprd.구매일자<'20141001')]\n",
    "sh14_2 = purprd[(purprd.구매일자>='20141001')&(purprd.구매일자<'20150101')]\n",
    "\n",
    "fh15_1 = purprd[(purprd.구매일자>='20150101')&(purprd.구매일자<'20150401')]\n",
    "fh15_2 = purprd[(purprd.구매일자>='20150401')&(purprd.구매일자<'20150701')]\n",
    "sh15_1 = purprd[(purprd.구매일자>='20150701')&(purprd.구매일자<'20151001')]\n",
    "sh15_2 = purprd[(purprd.구매일자>='20151001')&(purprd.구매일자<'20160101')]\n",
    "\n",
    "\n",
    "# 고객별 중분류분류별 구매금액 총액에 대해 순위 매기기(오름차순)\n",
    "# 카테고리 구매가 없는 고객은 모두 1위로 지정\n",
    "\n",
    "fh14_1_pv = fh14_1.groupby(['고객번호','중분류분류코드'])['구매금액'].sum().unstack().rank(method='min', ascending=True).fillna(1)\n",
    "fh14_2_pv = fh14_2.groupby(['고객번호','중분류분류코드'])['구매금액'].sum().unstack().rank(method='min', ascending=True).fillna(1)\n",
    "sh14_1_pv = sh14_1.groupby(['고객번호','중분류분류코드'])['구매금액'].sum().unstack().rank(method='min', ascending=True).fillna(1)\n",
    "sh14_2_pv = sh14_2.groupby(['고객번호','중분류분류코드'])['구매금액'].sum().unstack().rank(method='min', ascending=True).fillna(1)\n",
    "\n",
    "fh15_1_pv = fh15_1.groupby(['고객번호','중분류분류코드'])['구매금액'].sum().unstack().rank(method='min', ascending=True).fillna(1)\n",
    "fh15_2_pv = fh15_2.groupby(['고객번호','중분류분류코드'])['구매금액'].sum().unstack().rank(method='min', ascending=True).fillna(1)\n",
    "sh15_1_pv = sh15_1.groupby(['고객번호','중분류분류코드'])['구매금액'].sum().unstack().rank(method='min', ascending=True).fillna(1)\n",
    "sh15_2_pv = sh15_2.groupby(['고객번호','중분류분류코드'])['구매금액'].sum().unstack().rank(method='min', ascending=True).fillna(1)\n",
    "\n",
    "# 순위에 따라 4등급으로 분류하는 함수 작성(총 고객수의 4분위수 기준으로 분류)\n",
    "def rank(x):\n",
    "    if x <= 4846: return 1\n",
    "    elif x <= 9692: return 2\n",
    "    elif x <= 14539: return 3\n",
    "    else: return 4"
   ]
  },
  {
   "cell_type": "code",
   "execution_count": null,
   "metadata": {},
   "outputs": [],
   "source": [
    "# 전체 8분기, 각 중분류 12개에 대한 등급 매기기\n",
    "for el in [fh14_1_pv, fh14_2_pv, sh14_1_pv, sh14_2_pv, fh15_1_pv, fh15_2_pv, sh15_1_pv, sh15_2_pv]:\n",
    "    if i in el:\n",
    "        for i in range(1,13):\n",
    "            el[i] = el[i].apply(lambda x:rank(x))\n",
    "    else:\n",
    "        pass\n",
    "\n",
    "# 반기별 데이터프레임에 합병\n",
    "cust_14_half1 = cust_14_half1.merge(fh14_1_pv, on='고객번호')\n",
    "cust_14_half1 = cust_14_half1.merge(fh14_2_pv, on='고객번호', suffixes=['_1','_2'])\n",
    "cust_14_half2 = cust_14_half2.merge(sh14_1_pv, on='고객번호')\n",
    "cust_14_half2 = cust_14_half2.merge(sh14_2_pv, on='고객번호', suffixes=['_1','_2'])\n",
    "\n",
    "cust_15_half1 = cust_15_half1.merge(fh15_1_pv, on='고객번호')\n",
    "cust_15_half1 = cust_15_half1.merge(fh15_2_pv, on='고객번호', suffixes=['_1','_2'])\n",
    "cust_15_half2 = cust_15_half2.merge(sh15_1_pv, on='고객번호')\n",
    "cust_15_half2 = cust_15_half2.merge(sh15_2_pv, on='고객번호', suffixes=['_1','_2'])\n",
    "\n",
    "cust_14_half1.head(3)"
   ]
  },
  {
   "cell_type": "markdown",
   "metadata": {},
   "source": [
    "## 14. 중뷴류분류코드별 구매금액"
   ]
  },
  {
   "cell_type": "code",
   "execution_count": null,
   "metadata": {},
   "outputs": [],
   "source": [
    "cust_category_14_half1 = purprd_14_half1.groupby(['고객번호','중분류분류코드'])['구매금액'].sum().unstack().fillna(0)\n",
    "cust_category_14_half2 = purprd_14_half2.groupby(['고객번호','중분류분류코드'])['구매금액'].sum().unstack().fillna(0)\n",
    "cust_category_15_half1 = purprd_15_half1.groupby(['고객번호','중분류분류코드'])['구매금액'].sum().unstack().fillna(0)\n",
    "cust_category_15_half2 = purprd_15_half2.groupby(['고객번호','중분류분류코드'])['구매금액'].sum().unstack().fillna(0)\n",
    "\n",
    "cust_14_half1 = cust_14_half1.merge(cust_category_14_half1, on='고객번호', how='left')\n",
    "cust_14_half2 = cust_14_half2.merge(cust_category_14_half2, on='고객번호', how='left')\n",
    "cust_15_half1 = cust_15_half1.merge(cust_category_15_half1, on='고객번호', how='left')\n",
    "cust_15_half2 = cust_15_half2.merge(cust_category_15_half2, on='고객번호', how='left')\n",
    "\n",
    "cust_14_half1.head(3)"
   ]
  },
  {
   "cell_type": "code",
   "execution_count": null,
   "metadata": {},
   "outputs": [],
   "source": [
    "# 고객별, 분기별 구매 데이터 저장\n",
    "\n",
    "cust_14_half1.to_csv('DATA/cust_14_half1.csv', encoding='utf-8', index=False)\n",
    "cust_14_half2.to_csv('DATA/cust_14_half2.csv', encoding='utf-8', index=False)\n",
    "cust_15_half1.to_csv('DATA/cust_15_half1.csv', encoding='utf-8', index=False)\n",
    "cust_15_half2.to_csv('DATA/cust_15_half2.csv', encoding='utf-8', index=False)"
   ]
  },
  {
   "cell_type": "code",
   "execution_count": null,
   "metadata": {},
   "outputs": [],
   "source": [
    "cust_14_half1.columns"
   ]
  },
  {
   "cell_type": "code",
   "execution_count": null,
   "metadata": {},
   "outputs": [],
   "source": []
  }
 ],
 "metadata": {
  "accelerator": "TPU",
  "colab": {
   "collapsed_sections": [],
   "name": "train,test 만들기_최종이면좋겠다.ipynb의 사본",
   "provenance": []
  },
  "kernelspec": {
   "display_name": "Python 3 (ipykernel)",
   "language": "python",
   "name": "python3"
  },
  "language_info": {
   "codemirror_mode": {
    "name": "ipython",
    "version": 3
   },
   "file_extension": ".py",
   "mimetype": "text/x-python",
   "name": "python",
   "nbconvert_exporter": "python",
   "pygments_lexer": "ipython3",
   "version": "3.10.6"
  }
 },
 "nbformat": 4,
 "nbformat_minor": 4
}
