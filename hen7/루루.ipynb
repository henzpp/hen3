{
 "cells": [
  {
   "cell_type": "markdown",
   "id": "fa7e2cbb",
   "metadata": {},
   "source": [
    "### 꼬부기 그리기"
   ]
  },
  {
   "cell_type": "code",
   "execution_count": 5,
   "id": "72dcefa1",
   "metadata": {},
   "outputs": [],
   "source": [
    "import turtle as t\n",
    "\n",
    "t.shape('turtle')"
   ]
  },
  {
   "cell_type": "code",
   "execution_count": 3,
   "id": "26376803",
   "metadata": {},
   "outputs": [],
   "source": [
    "t.forward(50)"
   ]
  },
  {
   "cell_type": "code",
   "execution_count": 4,
   "id": "dbcb2ae2",
   "metadata": {},
   "outputs": [],
   "source": [
    "t.right(90)\n",
    "t.forward(50)"
   ]
  },
  {
   "cell_type": "code",
   "execution_count": 7,
   "id": "75ea7617",
   "metadata": {},
   "outputs": [],
   "source": [
    "t.lt(120)\n",
    "t.fd(100)\n",
    "t.lt(120)\n",
    "t.fd(100)\n",
    "t.lt(120)\n",
    "t.fd(100)\n",
    "t.left(90)\n",
    "t.fd(100)\n",
    "t.left(90)\n",
    "t.fd(100)\n",
    "t.lt(90)"
   ]
  },
  {
   "cell_type": "code",
   "execution_count": 8,
   "id": "bc817ccf",
   "metadata": {},
   "outputs": [],
   "source": [
    "t.circle(50)"
   ]
  },
  {
   "cell_type": "code",
   "execution_count": 9,
   "id": "f2544b61",
   "metadata": {},
   "outputs": [],
   "source": [
    "t.color('blue')\n",
    "t.fd(100)"
   ]
  },
  {
   "cell_type": "code",
   "execution_count": 10,
   "id": "b7ea6e8c",
   "metadata": {},
   "outputs": [],
   "source": [
    "t.color('green')\n",
    "t.lt(90)\n",
    "t.fd(100)"
   ]
  },
  {
   "cell_type": "code",
   "execution_count": 11,
   "id": "50be8ffd",
   "metadata": {},
   "outputs": [],
   "source": [
    "t.pensize(5)\n",
    "t.circle(50)"
   ]
  },
  {
   "cell_type": "code",
   "execution_count": null,
   "id": "e111176d",
   "metadata": {},
   "outputs": [],
   "source": []
  }
 ],
 "metadata": {
  "kernelspec": {
   "display_name": "Python 3 (ipykernel)",
   "language": "python",
   "name": "python3"
  },
  "language_info": {
   "codemirror_mode": {
    "name": "ipython",
    "version": 3
   },
   "file_extension": ".py",
   "mimetype": "text/x-python",
   "name": "python",
   "nbconvert_exporter": "python",
   "pygments_lexer": "ipython3",
   "version": "3.9.12"
  },
  "toc": {
   "base_numbering": 1,
   "nav_menu": {},
   "number_sections": false,
   "sideBar": true,
   "skip_h1_title": false,
   "title_cell": "Table of Contents",
   "title_sidebar": "Contents",
   "toc_cell": false,
   "toc_position": {},
   "toc_section_display": true,
   "toc_window_display": false
  }
 },
 "nbformat": 4,
 "nbformat_minor": 5
}
