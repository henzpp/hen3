{
 "cells": [
  {
   "cell_type": "markdown",
   "id": "3aba2cc5",
   "metadata": {},
   "source": [
    "### 라이브러리"
   ]
  },
  {
   "cell_type": "code",
   "execution_count": 34,
   "id": "dcb66d8a",
   "metadata": {},
   "outputs": [],
   "source": [
    "import os\n",
    "os.environ['OMP_NUM_THREADS'] = '1'"
   ]
  },
  {
   "cell_type": "code",
   "execution_count": 33,
   "id": "64acdb77",
   "metadata": {},
   "outputs": [],
   "source": [
    "import pandas as pd\n",
    "import numpy as np\n",
    "import matplotlib.pyplot as plt\n",
    "import seaborn as sns\n",
    "\n",
    "from sklearn import cluster\n",
    "from sklearn import mixture\n",
    "from sklearn import datasets\n",
    "from sklearn.cluster import KMeans\n",
    "from sklearn.preprocessing import LabelEncoder\n",
    "from sklearn.preprocessing import StandardScaler\n",
    "from sklearn.preprocessing import MinMaxScaler\n",
    "from sklearn.metrics import silhouette_samples, silhouette_score\n",
    "from sklearn.decomposition import PCA\n",
    "\n",
    "plt.rcParams['font.family']='Malgun Gothic'\n",
    "plt.rcParams['axes.unicode_minus']=False"
   ]
  },
  {
   "cell_type": "code",
   "execution_count": 37,
   "id": "de78f933",
   "metadata": {
    "scrolled": false
   },
   "outputs": [
    {
     "name": "stdout",
     "output_type": "stream",
     "text": [
      "Collecting yellowbrick\n",
      "  Downloading yellowbrick-1.4-py3-none-any.whl (274 kB)\n",
      "     -------------------------------------- 274.2/274.2 kB 4.3 MB/s eta 0:00:00\n",
      "Requirement already satisfied: scipy>=1.0.0 in c:\\users\\admin\\anaconda3\\envs\\cakd7\\lib\\site-packages (from yellowbrick) (1.7.3)\n",
      "Requirement already satisfied: scikit-learn>=1.0.0 in c:\\users\\admin\\anaconda3\\envs\\cakd7\\lib\\site-packages (from yellowbrick) (1.0.2)\n",
      "Requirement already satisfied: cycler>=0.10.0 in c:\\users\\admin\\anaconda3\\envs\\cakd7\\lib\\site-packages (from yellowbrick) (0.11.0)\n",
      "Requirement already satisfied: matplotlib!=3.0.0,>=2.0.2 in c:\\users\\admin\\anaconda3\\envs\\cakd7\\lib\\site-packages (from yellowbrick) (3.5.1)\n",
      "Requirement already satisfied: numpy>=1.16.0 in c:\\users\\admin\\anaconda3\\envs\\cakd7\\lib\\site-packages (from yellowbrick) (1.22.3)\n",
      "Requirement already satisfied: python-dateutil>=2.7 in c:\\users\\admin\\anaconda3\\envs\\cakd7\\lib\\site-packages (from matplotlib!=3.0.0,>=2.0.2->yellowbrick) (2.8.2)\n",
      "Requirement already satisfied: pyparsing>=2.2.1 in c:\\users\\admin\\anaconda3\\envs\\cakd7\\lib\\site-packages (from matplotlib!=3.0.0,>=2.0.2->yellowbrick) (3.0.4)\n",
      "Requirement already satisfied: fonttools>=4.22.0 in c:\\users\\admin\\anaconda3\\envs\\cakd7\\lib\\site-packages (from matplotlib!=3.0.0,>=2.0.2->yellowbrick) (4.25.0)\n",
      "Requirement already satisfied: kiwisolver>=1.0.1 in c:\\users\\admin\\anaconda3\\envs\\cakd7\\lib\\site-packages (from matplotlib!=3.0.0,>=2.0.2->yellowbrick) (1.4.2)\n",
      "Requirement already satisfied: packaging>=20.0 in c:\\users\\admin\\anaconda3\\envs\\cakd7\\lib\\site-packages (from matplotlib!=3.0.0,>=2.0.2->yellowbrick) (21.3)\n",
      "Requirement already satisfied: pillow>=6.2.0 in c:\\users\\admin\\anaconda3\\envs\\cakd7\\lib\\site-packages (from matplotlib!=3.0.0,>=2.0.2->yellowbrick) (9.0.1)\n",
      "Requirement already satisfied: joblib>=0.11 in c:\\users\\admin\\anaconda3\\envs\\cakd7\\lib\\site-packages (from scikit-learn>=1.0.0->yellowbrick) (1.1.0)\n",
      "Requirement already satisfied: threadpoolctl>=2.0.0 in c:\\users\\admin\\anaconda3\\envs\\cakd7\\lib\\site-packages (from scikit-learn>=1.0.0->yellowbrick) (2.2.0)\n",
      "Requirement already satisfied: six>=1.5 in c:\\users\\admin\\anaconda3\\envs\\cakd7\\lib\\site-packages (from python-dateutil>=2.7->matplotlib!=3.0.0,>=2.0.2->yellowbrick) (1.16.0)\n",
      "Installing collected packages: yellowbrick\n",
      "Successfully installed yellowbrick-1.4\n",
      "\n",
      "[notice] A new release of pip available: 22.2 -> 22.2.2\n",
      "[notice] To update, run: python.exe -m pip install --upgrade pip\n"
     ]
    }
   ],
   "source": [
    "!pip install yellowbrick"
   ]
  },
  {
   "cell_type": "code",
   "execution_count": 38,
   "id": "19aba99b",
   "metadata": {},
   "outputs": [],
   "source": [
    "from yellowbrick.cluster import SilhouetteVisualizer"
   ]
  },
  {
   "cell_type": "markdown",
   "id": "57601d13",
   "metadata": {},
   "source": [
    "### 데이터 불러오기"
   ]
  },
  {
   "cell_type": "code",
   "execution_count": 4,
   "id": "d67e2fea",
   "metadata": {},
   "outputs": [
    {
     "data": {
      "text/html": [
       "<div>\n",
       "<style scoped>\n",
       "    .dataframe tbody tr th:only-of-type {\n",
       "        vertical-align: middle;\n",
       "    }\n",
       "\n",
       "    .dataframe tbody tr th {\n",
       "        vertical-align: top;\n",
       "    }\n",
       "\n",
       "    .dataframe thead th {\n",
       "        text-align: right;\n",
       "    }\n",
       "</style>\n",
       "<table border=\"1\" class=\"dataframe\">\n",
       "  <thead>\n",
       "    <tr style=\"text-align: right;\">\n",
       "      <th></th>\n",
       "      <th>통계년월</th>\n",
       "      <th>통계시도명</th>\n",
       "      <th>통계시군구명</th>\n",
       "      <th>연령</th>\n",
       "      <th>장애유형</th>\n",
       "      <th>등록장애인수</th>\n",
       "    </tr>\n",
       "  </thead>\n",
       "  <tbody>\n",
       "    <tr>\n",
       "      <th>0</th>\n",
       "      <td>202206</td>\n",
       "      <td>서울특별시</td>\n",
       "      <td>종로구</td>\n",
       "      <td>91</td>\n",
       "      <td>뇌병변</td>\n",
       "      <td>5</td>\n",
       "    </tr>\n",
       "    <tr>\n",
       "      <th>1</th>\n",
       "      <td>202206</td>\n",
       "      <td>서울특별시</td>\n",
       "      <td>종로구</td>\n",
       "      <td>59</td>\n",
       "      <td>지체</td>\n",
       "      <td>50</td>\n",
       "    </tr>\n",
       "    <tr>\n",
       "      <th>2</th>\n",
       "      <td>202206</td>\n",
       "      <td>서울특별시</td>\n",
       "      <td>종로구</td>\n",
       "      <td>92</td>\n",
       "      <td>뇌병변</td>\n",
       "      <td>1</td>\n",
       "    </tr>\n",
       "    <tr>\n",
       "      <th>3</th>\n",
       "      <td>202206</td>\n",
       "      <td>서울특별시</td>\n",
       "      <td>종로구</td>\n",
       "      <td>93</td>\n",
       "      <td>뇌병변</td>\n",
       "      <td>7</td>\n",
       "    </tr>\n",
       "    <tr>\n",
       "      <th>4</th>\n",
       "      <td>202206</td>\n",
       "      <td>서울특별시</td>\n",
       "      <td>종로구</td>\n",
       "      <td>94</td>\n",
       "      <td>뇌병변</td>\n",
       "      <td>1</td>\n",
       "    </tr>\n",
       "    <tr>\n",
       "      <th>...</th>\n",
       "      <td>...</td>\n",
       "      <td>...</td>\n",
       "      <td>...</td>\n",
       "      <td>...</td>\n",
       "      <td>...</td>\n",
       "      <td>...</td>\n",
       "    </tr>\n",
       "    <tr>\n",
       "      <th>162268</th>\n",
       "      <td>202206</td>\n",
       "      <td>제주특별자치도</td>\n",
       "      <td>서귀포시</td>\n",
       "      <td>86</td>\n",
       "      <td>뇌병변</td>\n",
       "      <td>21</td>\n",
       "    </tr>\n",
       "    <tr>\n",
       "      <th>162269</th>\n",
       "      <td>202206</td>\n",
       "      <td>제주특별자치도</td>\n",
       "      <td>서귀포시</td>\n",
       "      <td>59</td>\n",
       "      <td>지체</td>\n",
       "      <td>111</td>\n",
       "    </tr>\n",
       "    <tr>\n",
       "      <th>162270</th>\n",
       "      <td>202206</td>\n",
       "      <td>제주특별자치도</td>\n",
       "      <td>서귀포시</td>\n",
       "      <td>87</td>\n",
       "      <td>뇌병변</td>\n",
       "      <td>22</td>\n",
       "    </tr>\n",
       "    <tr>\n",
       "      <th>162271</th>\n",
       "      <td>202206</td>\n",
       "      <td>제주특별자치도</td>\n",
       "      <td>서귀포시</td>\n",
       "      <td>88</td>\n",
       "      <td>뇌병변</td>\n",
       "      <td>18</td>\n",
       "    </tr>\n",
       "    <tr>\n",
       "      <th>162272</th>\n",
       "      <td>202206</td>\n",
       "      <td>제주특별자치도</td>\n",
       "      <td>서귀포시</td>\n",
       "      <td>89</td>\n",
       "      <td>뇌병변</td>\n",
       "      <td>21</td>\n",
       "    </tr>\n",
       "  </tbody>\n",
       "</table>\n",
       "<p>162273 rows × 6 columns</p>\n",
       "</div>"
      ],
      "text/plain": [
       "          통계년월    통계시도명 통계시군구명  연령 장애유형  등록장애인수\n",
       "0       202206    서울특별시    종로구  91  뇌병변       5\n",
       "1       202206    서울특별시    종로구  59   지체      50\n",
       "2       202206    서울특별시    종로구  92  뇌병변       1\n",
       "3       202206    서울특별시    종로구  93  뇌병변       7\n",
       "4       202206    서울특별시    종로구  94  뇌병변       1\n",
       "...        ...      ...    ...  ..  ...     ...\n",
       "162268  202206  제주특별자치도   서귀포시  86  뇌병변      21\n",
       "162269  202206  제주특별자치도   서귀포시  59   지체     111\n",
       "162270  202206  제주특별자치도   서귀포시  87  뇌병변      22\n",
       "162271  202206  제주특별자치도   서귀포시  88  뇌병변      18\n",
       "162272  202206  제주특별자치도   서귀포시  89  뇌병변      21\n",
       "\n",
       "[162273 rows x 6 columns]"
      ]
     },
     "execution_count": 4,
     "metadata": {},
     "output_type": "execute_result"
    }
   ],
   "source": [
    "#m1 = pd.read_csv('장애유형별_연령별_2022/m1.csv', encoding='cp949')\n",
    "#m2 = pd.read_csv('장애유형별_연령별_2022/m2.csv', encoding='cp949')\n",
    "#m3 = pd.read_csv('장애유형별_연령별_2022/m3.csv', encoding='cp949')\n",
    "#m4 = pd.read_csv('장애유형별_연령별_2022/m4.csv', encoding='cp949')\n",
    "#m5 = pd.read_csv('장애유형별_연령별_2022/m5.csv', encoding='cp949')\n",
    "# 가장 최근 6월만\n",
    "m6 = pd.read_csv('장애유형별_연령별_2022/m6.csv', encoding='cp949')\n",
    "m6"
   ]
  },
  {
   "cell_type": "code",
   "execution_count": 83,
   "id": "a0bcfbd6",
   "metadata": {},
   "outputs": [],
   "source": [
    "#m = pd.concat([m1,m2,m3,m4,m5,m6], ignore_index=True)\n",
    "#m"
   ]
  },
  {
   "cell_type": "code",
   "execution_count": 5,
   "id": "54007868",
   "metadata": {},
   "outputs": [
    {
     "data": {
      "text/html": [
       "<div>\n",
       "<style scoped>\n",
       "    .dataframe tbody tr th:only-of-type {\n",
       "        vertical-align: middle;\n",
       "    }\n",
       "\n",
       "    .dataframe tbody tr th {\n",
       "        vertical-align: top;\n",
       "    }\n",
       "\n",
       "    .dataframe thead th {\n",
       "        text-align: right;\n",
       "    }\n",
       "</style>\n",
       "<table border=\"1\" class=\"dataframe\">\n",
       "  <thead>\n",
       "    <tr style=\"text-align: right;\">\n",
       "      <th></th>\n",
       "      <th>통계년월</th>\n",
       "      <th>통계시도명</th>\n",
       "      <th>통계시군구명</th>\n",
       "      <th>연령</th>\n",
       "      <th>장애유형</th>\n",
       "      <th>등록장애인수</th>\n",
       "    </tr>\n",
       "  </thead>\n",
       "  <tbody>\n",
       "    <tr>\n",
       "      <th>0</th>\n",
       "      <td>202206</td>\n",
       "      <td>서울특별시</td>\n",
       "      <td>종로구</td>\n",
       "      <td>91</td>\n",
       "      <td>뇌병변</td>\n",
       "      <td>5</td>\n",
       "    </tr>\n",
       "    <tr>\n",
       "      <th>1</th>\n",
       "      <td>202206</td>\n",
       "      <td>서울특별시</td>\n",
       "      <td>종로구</td>\n",
       "      <td>59</td>\n",
       "      <td>지체</td>\n",
       "      <td>50</td>\n",
       "    </tr>\n",
       "    <tr>\n",
       "      <th>2</th>\n",
       "      <td>202206</td>\n",
       "      <td>서울특별시</td>\n",
       "      <td>종로구</td>\n",
       "      <td>92</td>\n",
       "      <td>뇌병변</td>\n",
       "      <td>1</td>\n",
       "    </tr>\n",
       "    <tr>\n",
       "      <th>3</th>\n",
       "      <td>202206</td>\n",
       "      <td>서울특별시</td>\n",
       "      <td>종로구</td>\n",
       "      <td>93</td>\n",
       "      <td>뇌병변</td>\n",
       "      <td>7</td>\n",
       "    </tr>\n",
       "    <tr>\n",
       "      <th>4</th>\n",
       "      <td>202206</td>\n",
       "      <td>서울특별시</td>\n",
       "      <td>종로구</td>\n",
       "      <td>94</td>\n",
       "      <td>뇌병변</td>\n",
       "      <td>1</td>\n",
       "    </tr>\n",
       "    <tr>\n",
       "      <th>...</th>\n",
       "      <td>...</td>\n",
       "      <td>...</td>\n",
       "      <td>...</td>\n",
       "      <td>...</td>\n",
       "      <td>...</td>\n",
       "      <td>...</td>\n",
       "    </tr>\n",
       "    <tr>\n",
       "      <th>21512</th>\n",
       "      <td>202206</td>\n",
       "      <td>서울특별시</td>\n",
       "      <td>강동구</td>\n",
       "      <td>86</td>\n",
       "      <td>뇌병변</td>\n",
       "      <td>21</td>\n",
       "    </tr>\n",
       "    <tr>\n",
       "      <th>21513</th>\n",
       "      <td>202206</td>\n",
       "      <td>서울특별시</td>\n",
       "      <td>강동구</td>\n",
       "      <td>59</td>\n",
       "      <td>지체</td>\n",
       "      <td>210</td>\n",
       "    </tr>\n",
       "    <tr>\n",
       "      <th>21514</th>\n",
       "      <td>202206</td>\n",
       "      <td>서울특별시</td>\n",
       "      <td>강동구</td>\n",
       "      <td>87</td>\n",
       "      <td>뇌병변</td>\n",
       "      <td>16</td>\n",
       "    </tr>\n",
       "    <tr>\n",
       "      <th>21515</th>\n",
       "      <td>202206</td>\n",
       "      <td>서울특별시</td>\n",
       "      <td>강동구</td>\n",
       "      <td>88</td>\n",
       "      <td>뇌병변</td>\n",
       "      <td>13</td>\n",
       "    </tr>\n",
       "    <tr>\n",
       "      <th>21516</th>\n",
       "      <td>202206</td>\n",
       "      <td>서울특별시</td>\n",
       "      <td>강동구</td>\n",
       "      <td>89</td>\n",
       "      <td>뇌병변</td>\n",
       "      <td>10</td>\n",
       "    </tr>\n",
       "  </tbody>\n",
       "</table>\n",
       "<p>21517 rows × 6 columns</p>\n",
       "</div>"
      ],
      "text/plain": [
       "         통계년월  통계시도명 통계시군구명  연령 장애유형  등록장애인수\n",
       "0      202206  서울특별시    종로구  91  뇌병변       5\n",
       "1      202206  서울특별시    종로구  59   지체      50\n",
       "2      202206  서울특별시    종로구  92  뇌병변       1\n",
       "3      202206  서울특별시    종로구  93  뇌병변       7\n",
       "4      202206  서울특별시    종로구  94  뇌병변       1\n",
       "...       ...    ...    ...  ..  ...     ...\n",
       "21512  202206  서울특별시    강동구  86  뇌병변      21\n",
       "21513  202206  서울특별시    강동구  59   지체     210\n",
       "21514  202206  서울특별시    강동구  87  뇌병변      16\n",
       "21515  202206  서울특별시    강동구  88  뇌병변      13\n",
       "21516  202206  서울특별시    강동구  89  뇌병변      10\n",
       "\n",
       "[21517 rows x 6 columns]"
      ]
     },
     "execution_count": 5,
     "metadata": {},
     "output_type": "execute_result"
    }
   ],
   "source": [
    "mm = m6['통계시도명'] == '서울특별시'\n",
    "m6df = m6.loc[mm]\n",
    "m6df"
   ]
  },
  {
   "cell_type": "code",
   "execution_count": 6,
   "id": "84eba752",
   "metadata": {},
   "outputs": [
    {
     "data": {
      "text/plain": [
       "통계년월      0\n",
       "통계시도명     0\n",
       "통계시군구명    0\n",
       "연령        0\n",
       "장애유형      0\n",
       "등록장애인수    0\n",
       "dtype: int64"
      ]
     },
     "execution_count": 6,
     "metadata": {},
     "output_type": "execute_result"
    }
   ],
   "source": [
    "m6df.isnull().sum()"
   ]
  },
  {
   "cell_type": "markdown",
   "id": "22a15067",
   "metadata": {},
   "source": [
    "### 연령 범주화"
   ]
  },
  {
   "cell_type": "code",
   "execution_count": 7,
   "id": "154c93e4",
   "metadata": {},
   "outputs": [],
   "source": [
    "def age(x):\n",
    "    x = (x // 10) * 10\n",
    "    return x"
   ]
  },
  {
   "cell_type": "code",
   "execution_count": 8,
   "id": "cd7b2250",
   "metadata": {},
   "outputs": [
    {
     "data": {
      "text/plain": [
       "0        90\n",
       "1        50\n",
       "2        90\n",
       "3        90\n",
       "4        90\n",
       "         ..\n",
       "21512    80\n",
       "21513    50\n",
       "21514    80\n",
       "21515    80\n",
       "21516    80\n",
       "Name: 연령, Length: 21517, dtype: int64"
      ]
     },
     "execution_count": 8,
     "metadata": {},
     "output_type": "execute_result"
    }
   ],
   "source": [
    "연령대 = m6df.연령.apply(age)\n",
    "연령대"
   ]
  },
  {
   "cell_type": "code",
   "execution_count": 9,
   "id": "fa2b249a",
   "metadata": {},
   "outputs": [
    {
     "data": {
      "text/plain": [
       "0        90\n",
       "1        50\n",
       "2        90\n",
       "3        90\n",
       "4        90\n",
       "         ..\n",
       "21512    80\n",
       "21513    50\n",
       "21514    80\n",
       "21515    80\n",
       "21516    80\n",
       "Name: 연령, Length: 21517, dtype: category\n",
       "Categories (12, int64): [0, 10, 20, 30, ..., 80, 90, 100, 110]"
      ]
     },
     "execution_count": 9,
     "metadata": {},
     "output_type": "execute_result"
    }
   ],
   "source": [
    "연령대 = 연령대.astype('category')\n",
    "연령대"
   ]
  },
  {
   "cell_type": "code",
   "execution_count": 10,
   "id": "ce83c4c4",
   "metadata": {},
   "outputs": [
    {
     "data": {
      "text/html": [
       "<div>\n",
       "<style scoped>\n",
       "    .dataframe tbody tr th:only-of-type {\n",
       "        vertical-align: middle;\n",
       "    }\n",
       "\n",
       "    .dataframe tbody tr th {\n",
       "        vertical-align: top;\n",
       "    }\n",
       "\n",
       "    .dataframe thead th {\n",
       "        text-align: right;\n",
       "    }\n",
       "</style>\n",
       "<table border=\"1\" class=\"dataframe\">\n",
       "  <thead>\n",
       "    <tr style=\"text-align: right;\">\n",
       "      <th></th>\n",
       "      <th>통계년월</th>\n",
       "      <th>통계시도명</th>\n",
       "      <th>통계시군구명</th>\n",
       "      <th>연령대</th>\n",
       "      <th>연령</th>\n",
       "      <th>장애유형</th>\n",
       "      <th>등록장애인수</th>\n",
       "    </tr>\n",
       "  </thead>\n",
       "  <tbody>\n",
       "    <tr>\n",
       "      <th>0</th>\n",
       "      <td>202206</td>\n",
       "      <td>서울특별시</td>\n",
       "      <td>종로구</td>\n",
       "      <td>90</td>\n",
       "      <td>91</td>\n",
       "      <td>뇌병변</td>\n",
       "      <td>5</td>\n",
       "    </tr>\n",
       "    <tr>\n",
       "      <th>1</th>\n",
       "      <td>202206</td>\n",
       "      <td>서울특별시</td>\n",
       "      <td>종로구</td>\n",
       "      <td>50</td>\n",
       "      <td>59</td>\n",
       "      <td>지체</td>\n",
       "      <td>50</td>\n",
       "    </tr>\n",
       "    <tr>\n",
       "      <th>2</th>\n",
       "      <td>202206</td>\n",
       "      <td>서울특별시</td>\n",
       "      <td>종로구</td>\n",
       "      <td>90</td>\n",
       "      <td>92</td>\n",
       "      <td>뇌병변</td>\n",
       "      <td>1</td>\n",
       "    </tr>\n",
       "    <tr>\n",
       "      <th>3</th>\n",
       "      <td>202206</td>\n",
       "      <td>서울특별시</td>\n",
       "      <td>종로구</td>\n",
       "      <td>90</td>\n",
       "      <td>93</td>\n",
       "      <td>뇌병변</td>\n",
       "      <td>7</td>\n",
       "    </tr>\n",
       "    <tr>\n",
       "      <th>4</th>\n",
       "      <td>202206</td>\n",
       "      <td>서울특별시</td>\n",
       "      <td>종로구</td>\n",
       "      <td>90</td>\n",
       "      <td>94</td>\n",
       "      <td>뇌병변</td>\n",
       "      <td>1</td>\n",
       "    </tr>\n",
       "    <tr>\n",
       "      <th>...</th>\n",
       "      <td>...</td>\n",
       "      <td>...</td>\n",
       "      <td>...</td>\n",
       "      <td>...</td>\n",
       "      <td>...</td>\n",
       "      <td>...</td>\n",
       "      <td>...</td>\n",
       "    </tr>\n",
       "    <tr>\n",
       "      <th>21512</th>\n",
       "      <td>202206</td>\n",
       "      <td>서울특별시</td>\n",
       "      <td>강동구</td>\n",
       "      <td>80</td>\n",
       "      <td>86</td>\n",
       "      <td>뇌병변</td>\n",
       "      <td>21</td>\n",
       "    </tr>\n",
       "    <tr>\n",
       "      <th>21513</th>\n",
       "      <td>202206</td>\n",
       "      <td>서울특별시</td>\n",
       "      <td>강동구</td>\n",
       "      <td>50</td>\n",
       "      <td>59</td>\n",
       "      <td>지체</td>\n",
       "      <td>210</td>\n",
       "    </tr>\n",
       "    <tr>\n",
       "      <th>21514</th>\n",
       "      <td>202206</td>\n",
       "      <td>서울특별시</td>\n",
       "      <td>강동구</td>\n",
       "      <td>80</td>\n",
       "      <td>87</td>\n",
       "      <td>뇌병변</td>\n",
       "      <td>16</td>\n",
       "    </tr>\n",
       "    <tr>\n",
       "      <th>21515</th>\n",
       "      <td>202206</td>\n",
       "      <td>서울특별시</td>\n",
       "      <td>강동구</td>\n",
       "      <td>80</td>\n",
       "      <td>88</td>\n",
       "      <td>뇌병변</td>\n",
       "      <td>13</td>\n",
       "    </tr>\n",
       "    <tr>\n",
       "      <th>21516</th>\n",
       "      <td>202206</td>\n",
       "      <td>서울특별시</td>\n",
       "      <td>강동구</td>\n",
       "      <td>80</td>\n",
       "      <td>89</td>\n",
       "      <td>뇌병변</td>\n",
       "      <td>10</td>\n",
       "    </tr>\n",
       "  </tbody>\n",
       "</table>\n",
       "<p>21517 rows × 7 columns</p>\n",
       "</div>"
      ],
      "text/plain": [
       "         통계년월  통계시도명 통계시군구명 연령대  연령 장애유형  등록장애인수\n",
       "0      202206  서울특별시    종로구  90  91  뇌병변       5\n",
       "1      202206  서울특별시    종로구  50  59   지체      50\n",
       "2      202206  서울특별시    종로구  90  92  뇌병변       1\n",
       "3      202206  서울특별시    종로구  90  93  뇌병변       7\n",
       "4      202206  서울특별시    종로구  90  94  뇌병변       1\n",
       "...       ...    ...    ...  ..  ..  ...     ...\n",
       "21512  202206  서울특별시    강동구  80  86  뇌병변      21\n",
       "21513  202206  서울특별시    강동구  50  59   지체     210\n",
       "21514  202206  서울특별시    강동구  80  87  뇌병변      16\n",
       "21515  202206  서울특별시    강동구  80  88  뇌병변      13\n",
       "21516  202206  서울특별시    강동구  80  89  뇌병변      10\n",
       "\n",
       "[21517 rows x 7 columns]"
      ]
     },
     "execution_count": 10,
     "metadata": {},
     "output_type": "execute_result"
    }
   ],
   "source": [
    "m6df.insert(3, '연령대', 연령대)\n",
    "m6df"
   ]
  },
  {
   "cell_type": "code",
   "execution_count": 11,
   "id": "4d90af8b",
   "metadata": {
    "scrolled": true
   },
   "outputs": [
    {
     "data": {
      "text/plain": [
       "array(['뇌병변', '지체', '자폐성', '정신', '신장', '심장', '호흡기', '간', '안면', '장루.요루',\n",
       "       '뇌전증', '시각', '청각', '언어', '지적'], dtype=object)"
      ]
     },
     "execution_count": 11,
     "metadata": {},
     "output_type": "execute_result"
    }
   ],
   "source": [
    "m6df.장애유형.unique()"
   ]
  },
  {
   "cell_type": "markdown",
   "id": "e5e363e3",
   "metadata": {},
   "source": [
    "### scatter - 전체 데이터 분포 확인"
   ]
  },
  {
   "cell_type": "code",
   "execution_count": 12,
   "id": "31fb0ad7",
   "metadata": {},
   "outputs": [
    {
     "data": {
      "text/plain": [
       "array([[202206, '서울특별시', '종로구', 90, 91, '뇌병변', 5],\n",
       "       [202206, '서울특별시', '종로구', 50, 59, '지체', 50],\n",
       "       [202206, '서울특별시', '종로구', 90, 92, '뇌병변', 1],\n",
       "       [202206, '서울특별시', '종로구', 90, 93, '뇌병변', 7],\n",
       "       [202206, '서울특별시', '종로구', 90, 94, '뇌병변', 1]], dtype=object)"
      ]
     },
     "execution_count": 12,
     "metadata": {},
     "output_type": "execute_result"
    }
   ],
   "source": [
    "X = m6df.iloc[:, :].values\n",
    "X[:5]"
   ]
  },
  {
   "cell_type": "code",
   "execution_count": 13,
   "id": "00715db9",
   "metadata": {},
   "outputs": [
    {
     "data": {
      "image/png": "[encoded data removed]",
      "text/plain": [
       "<Figure size 432x288 with 1 Axes>"
      ]
     },
     "metadata": {
      "needs_background": "light"
     },
     "output_type": "display_data"
    }
   ],
   "source": [
    "# 구 & 등록장애인 수\n",
    "plt.scatter(X[:, 2], X[:, 6])\n",
    "plt.title('gu & persons')\n",
    "plt.xlabel('gu')\n",
    "plt.ylabel('persons')\n",
    "plt.show()"
   ]
  },
  {
   "cell_type": "code",
   "execution_count": 14,
   "id": "d437e21b",
   "metadata": {},
   "outputs": [
    {
     "data": {
      "image/png": "[encoded data removed]",
      "text/plain": [
       "<Figure size 432x288 with 1 Axes>"
      ]
     },
     "metadata": {
      "needs_background": "light"
     },
     "output_type": "display_data"
    }
   ],
   "source": [
    "# 연령대 & 등록장애인 수\n",
    "plt.scatter(X[:, 3], X[:, 6])\n",
    "plt.title('age & persons')\n",
    "plt.xlabel('age')\n",
    "plt.ylabel('persons')\n",
    "plt.show()"
   ]
  },
  {
   "cell_type": "code",
   "execution_count": 15,
   "id": "7edb6a62",
   "metadata": {},
   "outputs": [
    {
     "data": {
      "image/png": "[encoded data removed]",
      "text/plain": [
       "<Figure size 432x288 with 1 Axes>"
      ]
     },
     "metadata": {
      "needs_background": "light"
     },
     "output_type": "display_data"
    }
   ],
   "source": [
    "# 장애 유형 & 등록장애인 수\n",
    "plt.scatter(X[:, 5], X[:, 6])\n",
    "plt.title('category & persons')\n",
    "plt.xlabel('category')\n",
    "plt.ylabel('persons')\n",
    "plt.show()"
   ]
  },
  {
   "cell_type": "markdown",
   "id": "a64345a8",
   "metadata": {},
   "source": [
    "### 데이터 시각화 - 축 범위 통일"
   ]
  },
  {
   "cell_type": "code",
   "execution_count": 16,
   "id": "e3add3c9",
   "metadata": {},
   "outputs": [
    {
     "data": {
      "image/png": "[encoded data removed]",
      "text/plain": [
       "<Figure size 432x288 with 1 Axes>"
      ]
     },
     "metadata": {
      "needs_background": "light"
     },
     "output_type": "display_data"
    }
   ],
   "source": [
    "plt.scatter(X[:, 5], X[:, 6])\n",
    "plt.title('category & persons')\n",
    "plt.xlabel('category')\n",
    "plt.xlim(0,100)\n",
    "plt.ylabel('persons')\n",
    "plt.ylim(0,100)\n",
    "plt.show()"
   ]
  },
  {
   "cell_type": "markdown",
   "id": "31ecbdba",
   "metadata": {},
   "source": [
    "### LabelEncoder"
   ]
  },
  {
   "cell_type": "code",
   "execution_count": 17,
   "id": "33ae1b96",
   "metadata": {},
   "outputs": [
    {
     "name": "stderr",
     "output_type": "stream",
     "text": [
      "C:\\Users\\admin\\AppData\\Local\\Temp\\ipykernel_13184\\1687312950.py:4: SettingWithCopyWarning: \n",
      "A value is trying to be set on a copy of a slice from a DataFrame.\n",
      "Try using .loc[row_indexer,col_indexer] = value instead\n",
      "\n",
      "See the caveats in the documentation: https://pandas.pydata.org/pandas-docs/stable/user_guide/indexing.html#returning-a-view-versus-a-copy\n",
      "  m6df[f] = le.fit_transform(m6df[f])\n"
     ]
    },
    {
     "data": {
      "text/html": [
       "<div>\n",
       "<style scoped>\n",
       "    .dataframe tbody tr th:only-of-type {\n",
       "        vertical-align: middle;\n",
       "    }\n",
       "\n",
       "    .dataframe tbody tr th {\n",
       "        vertical-align: top;\n",
       "    }\n",
       "\n",
       "    .dataframe thead th {\n",
       "        text-align: right;\n",
       "    }\n",
       "</style>\n",
       "<table border=\"1\" class=\"dataframe\">\n",
       "  <thead>\n",
       "    <tr style=\"text-align: right;\">\n",
       "      <th></th>\n",
       "      <th>통계년월</th>\n",
       "      <th>통계시도명</th>\n",
       "      <th>통계시군구명</th>\n",
       "      <th>연령대</th>\n",
       "      <th>연령</th>\n",
       "      <th>장애유형</th>\n",
       "      <th>등록장애인수</th>\n",
       "    </tr>\n",
       "  </thead>\n",
       "  <tbody>\n",
       "    <tr>\n",
       "      <th>0</th>\n",
       "      <td>202206</td>\n",
       "      <td>서울특별시</td>\n",
       "      <td>22</td>\n",
       "      <td>90</td>\n",
       "      <td>91</td>\n",
       "      <td>뇌병변</td>\n",
       "      <td>5</td>\n",
       "    </tr>\n",
       "    <tr>\n",
       "      <th>1</th>\n",
       "      <td>202206</td>\n",
       "      <td>서울특별시</td>\n",
       "      <td>22</td>\n",
       "      <td>50</td>\n",
       "      <td>59</td>\n",
       "      <td>지체</td>\n",
       "      <td>50</td>\n",
       "    </tr>\n",
       "    <tr>\n",
       "      <th>2</th>\n",
       "      <td>202206</td>\n",
       "      <td>서울특별시</td>\n",
       "      <td>22</td>\n",
       "      <td>90</td>\n",
       "      <td>92</td>\n",
       "      <td>뇌병변</td>\n",
       "      <td>1</td>\n",
       "    </tr>\n",
       "    <tr>\n",
       "      <th>3</th>\n",
       "      <td>202206</td>\n",
       "      <td>서울특별시</td>\n",
       "      <td>22</td>\n",
       "      <td>90</td>\n",
       "      <td>93</td>\n",
       "      <td>뇌병변</td>\n",
       "      <td>7</td>\n",
       "    </tr>\n",
       "    <tr>\n",
       "      <th>4</th>\n",
       "      <td>202206</td>\n",
       "      <td>서울특별시</td>\n",
       "      <td>22</td>\n",
       "      <td>90</td>\n",
       "      <td>94</td>\n",
       "      <td>뇌병변</td>\n",
       "      <td>1</td>\n",
       "    </tr>\n",
       "  </tbody>\n",
       "</table>\n",
       "</div>"
      ],
      "text/plain": [
       "     통계년월  통계시도명  통계시군구명 연령대  연령 장애유형  등록장애인수\n",
       "0  202206  서울특별시      22  90  91  뇌병변       5\n",
       "1  202206  서울특별시      22  50  59   지체      50\n",
       "2  202206  서울특별시      22  90  92  뇌병변       1\n",
       "3  202206  서울특별시      22  90  93  뇌병변       7\n",
       "4  202206  서울특별시      22  90  94  뇌병변       1"
      ]
     },
     "execution_count": 17,
     "metadata": {},
     "output_type": "execute_result"
    }
   ],
   "source": [
    "le = LabelEncoder()\n",
    "features = ['통계시군구명']\n",
    "for f in features:\n",
    "    m6df[f] = le.fit_transform(m6df[f])\n",
    "m6df.head()"
   ]
  },
  {
   "cell_type": "code",
   "execution_count": 18,
   "id": "4594cb2a",
   "metadata": {
    "scrolled": true
   },
   "outputs": [
    {
     "name": "stdout",
     "output_type": "stream",
     "text": [
      "['강남구' '강동구' '강북구' '강서구' '관악구' '광진구' '구로구' '금천구' '노원구' '도봉구' '동대문구' '동작구'\n",
      " '마포구' '서대문구' '서초구' '성동구' '성북구' '송파구' '양천구' '영등포구' '용산구' '은평구' '종로구' '중구'\n",
      " '중랑구']\n"
     ]
    }
   ],
   "source": [
    "print(le.classes_)"
   ]
  },
  {
   "cell_type": "code",
   "execution_count": 19,
   "id": "2fe6c232",
   "metadata": {},
   "outputs": [
    {
     "name": "stderr",
     "output_type": "stream",
     "text": [
      "C:\\Users\\admin\\AppData\\Local\\Temp\\ipykernel_13184\\2737439068.py:4: SettingWithCopyWarning: \n",
      "A value is trying to be set on a copy of a slice from a DataFrame.\n",
      "Try using .loc[row_indexer,col_indexer] = value instead\n",
      "\n",
      "See the caveats in the documentation: https://pandas.pydata.org/pandas-docs/stable/user_guide/indexing.html#returning-a-view-versus-a-copy\n",
      "  m6df[f] = le.fit_transform(m6df[f])\n"
     ]
    },
    {
     "data": {
      "text/html": [
       "<div>\n",
       "<style scoped>\n",
       "    .dataframe tbody tr th:only-of-type {\n",
       "        vertical-align: middle;\n",
       "    }\n",
       "\n",
       "    .dataframe tbody tr th {\n",
       "        vertical-align: top;\n",
       "    }\n",
       "\n",
       "    .dataframe thead th {\n",
       "        text-align: right;\n",
       "    }\n",
       "</style>\n",
       "<table border=\"1\" class=\"dataframe\">\n",
       "  <thead>\n",
       "    <tr style=\"text-align: right;\">\n",
       "      <th></th>\n",
       "      <th>통계년월</th>\n",
       "      <th>통계시도명</th>\n",
       "      <th>통계시군구명</th>\n",
       "      <th>연령대</th>\n",
       "      <th>연령</th>\n",
       "      <th>장애유형</th>\n",
       "      <th>등록장애인수</th>\n",
       "    </tr>\n",
       "  </thead>\n",
       "  <tbody>\n",
       "    <tr>\n",
       "      <th>0</th>\n",
       "      <td>202206</td>\n",
       "      <td>서울특별시</td>\n",
       "      <td>22</td>\n",
       "      <td>90</td>\n",
       "      <td>91</td>\n",
       "      <td>1</td>\n",
       "      <td>5</td>\n",
       "    </tr>\n",
       "    <tr>\n",
       "      <th>1</th>\n",
       "      <td>202206</td>\n",
       "      <td>서울특별시</td>\n",
       "      <td>22</td>\n",
       "      <td>50</td>\n",
       "      <td>59</td>\n",
       "      <td>12</td>\n",
       "      <td>50</td>\n",
       "    </tr>\n",
       "    <tr>\n",
       "      <th>2</th>\n",
       "      <td>202206</td>\n",
       "      <td>서울특별시</td>\n",
       "      <td>22</td>\n",
       "      <td>90</td>\n",
       "      <td>92</td>\n",
       "      <td>1</td>\n",
       "      <td>1</td>\n",
       "    </tr>\n",
       "    <tr>\n",
       "      <th>3</th>\n",
       "      <td>202206</td>\n",
       "      <td>서울특별시</td>\n",
       "      <td>22</td>\n",
       "      <td>90</td>\n",
       "      <td>93</td>\n",
       "      <td>1</td>\n",
       "      <td>7</td>\n",
       "    </tr>\n",
       "    <tr>\n",
       "      <th>4</th>\n",
       "      <td>202206</td>\n",
       "      <td>서울특별시</td>\n",
       "      <td>22</td>\n",
       "      <td>90</td>\n",
       "      <td>94</td>\n",
       "      <td>1</td>\n",
       "      <td>1</td>\n",
       "    </tr>\n",
       "  </tbody>\n",
       "</table>\n",
       "</div>"
      ],
      "text/plain": [
       "     통계년월  통계시도명  통계시군구명 연령대  연령  장애유형  등록장애인수\n",
       "0  202206  서울특별시      22  90  91     1       5\n",
       "1  202206  서울특별시      22  50  59    12      50\n",
       "2  202206  서울특별시      22  90  92     1       1\n",
       "3  202206  서울특별시      22  90  93     1       7\n",
       "4  202206  서울특별시      22  90  94     1       1"
      ]
     },
     "execution_count": 19,
     "metadata": {},
     "output_type": "execute_result"
    }
   ],
   "source": [
    "le = LabelEncoder()\n",
    "features = ['장애유형']\n",
    "for f in features:\n",
    "    m6df[f] = le.fit_transform(m6df[f])\n",
    "m6df.head()"
   ]
  },
  {
   "cell_type": "code",
   "execution_count": 20,
   "id": "5fdac704",
   "metadata": {
    "scrolled": true
   },
   "outputs": [
    {
     "name": "stdout",
     "output_type": "stream",
     "text": [
      "['간' '뇌병변' '뇌전증' '시각' '신장' '심장' '안면' '언어' '자폐성' '장루.요루' '정신' '지적' '지체'\n",
      " '청각' '호흡기']\n"
     ]
    }
   ],
   "source": [
    "print(le.classes_)"
   ]
  },
  {
   "cell_type": "code",
   "execution_count": 47,
   "id": "286aa109",
   "metadata": {
    "scrolled": false
   },
   "outputs": [
    {
     "data": {
      "text/html": [
       "<div>\n",
       "<style scoped>\n",
       "    .dataframe tbody tr th:only-of-type {\n",
       "        vertical-align: middle;\n",
       "    }\n",
       "\n",
       "    .dataframe tbody tr th {\n",
       "        vertical-align: top;\n",
       "    }\n",
       "\n",
       "    .dataframe thead th {\n",
       "        text-align: right;\n",
       "    }\n",
       "</style>\n",
       "<table border=\"1\" class=\"dataframe\">\n",
       "  <thead>\n",
       "    <tr style=\"text-align: right;\">\n",
       "      <th></th>\n",
       "      <th>통계년월</th>\n",
       "      <th>통계시도명</th>\n",
       "      <th>통계시군구명</th>\n",
       "      <th>연령대</th>\n",
       "      <th>연령</th>\n",
       "      <th>장애유형</th>\n",
       "      <th>등록장애인수</th>\n",
       "    </tr>\n",
       "  </thead>\n",
       "  <tbody>\n",
       "    <tr>\n",
       "      <th>0</th>\n",
       "      <td>202206</td>\n",
       "      <td>서울특별시</td>\n",
       "      <td>22</td>\n",
       "      <td>90</td>\n",
       "      <td>91</td>\n",
       "      <td>1</td>\n",
       "      <td>5</td>\n",
       "    </tr>\n",
       "    <tr>\n",
       "      <th>1</th>\n",
       "      <td>202206</td>\n",
       "      <td>서울특별시</td>\n",
       "      <td>22</td>\n",
       "      <td>50</td>\n",
       "      <td>59</td>\n",
       "      <td>12</td>\n",
       "      <td>50</td>\n",
       "    </tr>\n",
       "    <tr>\n",
       "      <th>2</th>\n",
       "      <td>202206</td>\n",
       "      <td>서울특별시</td>\n",
       "      <td>22</td>\n",
       "      <td>90</td>\n",
       "      <td>92</td>\n",
       "      <td>1</td>\n",
       "      <td>1</td>\n",
       "    </tr>\n",
       "    <tr>\n",
       "      <th>3</th>\n",
       "      <td>202206</td>\n",
       "      <td>서울특별시</td>\n",
       "      <td>22</td>\n",
       "      <td>90</td>\n",
       "      <td>93</td>\n",
       "      <td>1</td>\n",
       "      <td>7</td>\n",
       "    </tr>\n",
       "    <tr>\n",
       "      <th>4</th>\n",
       "      <td>202206</td>\n",
       "      <td>서울특별시</td>\n",
       "      <td>22</td>\n",
       "      <td>90</td>\n",
       "      <td>94</td>\n",
       "      <td>1</td>\n",
       "      <td>1</td>\n",
       "    </tr>\n",
       "  </tbody>\n",
       "</table>\n",
       "</div>"
      ],
      "text/plain": [
       "     통계년월  통계시도명  통계시군구명 연령대  연령  장애유형  등록장애인수\n",
       "0  202206  서울특별시      22  90  91     1       5\n",
       "1  202206  서울특별시      22  50  59    12      50\n",
       "2  202206  서울특별시      22  90  92     1       1\n",
       "3  202206  서울특별시      22  90  93     1       7\n",
       "4  202206  서울특별시      22  90  94     1       1"
      ]
     },
     "execution_count": 47,
     "metadata": {},
     "output_type": "execute_result"
    }
   ],
   "source": [
    "m6df.head()"
   ]
  },
  {
   "cell_type": "code",
   "execution_count": 49,
   "id": "0960a364",
   "metadata": {},
   "outputs": [
    {
     "data": {
      "text/html": [
       "<div>\n",
       "<style scoped>\n",
       "    .dataframe tbody tr th:only-of-type {\n",
       "        vertical-align: middle;\n",
       "    }\n",
       "\n",
       "    .dataframe tbody tr th {\n",
       "        vertical-align: top;\n",
       "    }\n",
       "\n",
       "    .dataframe thead th {\n",
       "        text-align: right;\n",
       "    }\n",
       "</style>\n",
       "<table border=\"1\" class=\"dataframe\">\n",
       "  <thead>\n",
       "    <tr style=\"text-align: right;\">\n",
       "      <th></th>\n",
       "      <th>통계시군구명</th>\n",
       "      <th>연령</th>\n",
       "      <th>장애유형</th>\n",
       "      <th>등록장애인수</th>\n",
       "    </tr>\n",
       "  </thead>\n",
       "  <tbody>\n",
       "    <tr>\n",
       "      <th>0</th>\n",
       "      <td>22</td>\n",
       "      <td>91</td>\n",
       "      <td>1</td>\n",
       "      <td>5</td>\n",
       "    </tr>\n",
       "    <tr>\n",
       "      <th>1</th>\n",
       "      <td>22</td>\n",
       "      <td>59</td>\n",
       "      <td>12</td>\n",
       "      <td>50</td>\n",
       "    </tr>\n",
       "    <tr>\n",
       "      <th>2</th>\n",
       "      <td>22</td>\n",
       "      <td>92</td>\n",
       "      <td>1</td>\n",
       "      <td>1</td>\n",
       "    </tr>\n",
       "    <tr>\n",
       "      <th>3</th>\n",
       "      <td>22</td>\n",
       "      <td>93</td>\n",
       "      <td>1</td>\n",
       "      <td>7</td>\n",
       "    </tr>\n",
       "    <tr>\n",
       "      <th>4</th>\n",
       "      <td>22</td>\n",
       "      <td>94</td>\n",
       "      <td>1</td>\n",
       "      <td>1</td>\n",
       "    </tr>\n",
       "  </tbody>\n",
       "</table>\n",
       "</div>"
      ],
      "text/plain": [
       "   통계시군구명  연령  장애유형  등록장애인수\n",
       "0      22  91     1       5\n",
       "1      22  59    12      50\n",
       "2      22  92     1       1\n",
       "3      22  93     1       7\n",
       "4      22  94     1       1"
      ]
     },
     "execution_count": 49,
     "metadata": {},
     "output_type": "execute_result"
    }
   ],
   "source": [
    "df1 = m6df.copy()\n",
    "df1 = df1.drop(['통계년월', '통계시도명','연령대'], axis=1)\n",
    "df1.head()"
   ]
  },
  {
   "cell_type": "code",
   "execution_count": 22,
   "id": "97fb8b81",
   "metadata": {},
   "outputs": [
    {
     "data": {
      "text/html": [
       "<div>\n",
       "<style scoped>\n",
       "    .dataframe tbody tr th:only-of-type {\n",
       "        vertical-align: middle;\n",
       "    }\n",
       "\n",
       "    .dataframe tbody tr th {\n",
       "        vertical-align: top;\n",
       "    }\n",
       "\n",
       "    .dataframe thead th {\n",
       "        text-align: right;\n",
       "    }\n",
       "</style>\n",
       "<table border=\"1\" class=\"dataframe\">\n",
       "  <thead>\n",
       "    <tr style=\"text-align: right;\">\n",
       "      <th></th>\n",
       "      <th>통계시군구명</th>\n",
       "      <th>연령대</th>\n",
       "      <th>장애유형</th>\n",
       "      <th>등록장애인수</th>\n",
       "    </tr>\n",
       "  </thead>\n",
       "  <tbody>\n",
       "    <tr>\n",
       "      <th>0</th>\n",
       "      <td>22</td>\n",
       "      <td>90</td>\n",
       "      <td>1</td>\n",
       "      <td>5</td>\n",
       "    </tr>\n",
       "    <tr>\n",
       "      <th>1</th>\n",
       "      <td>22</td>\n",
       "      <td>50</td>\n",
       "      <td>12</td>\n",
       "      <td>50</td>\n",
       "    </tr>\n",
       "    <tr>\n",
       "      <th>2</th>\n",
       "      <td>22</td>\n",
       "      <td>90</td>\n",
       "      <td>1</td>\n",
       "      <td>1</td>\n",
       "    </tr>\n",
       "    <tr>\n",
       "      <th>3</th>\n",
       "      <td>22</td>\n",
       "      <td>90</td>\n",
       "      <td>1</td>\n",
       "      <td>7</td>\n",
       "    </tr>\n",
       "    <tr>\n",
       "      <th>4</th>\n",
       "      <td>22</td>\n",
       "      <td>90</td>\n",
       "      <td>1</td>\n",
       "      <td>1</td>\n",
       "    </tr>\n",
       "  </tbody>\n",
       "</table>\n",
       "</div>"
      ],
      "text/plain": [
       "   통계시군구명 연령대  장애유형  등록장애인수\n",
       "0      22  90     1       5\n",
       "1      22  50    12      50\n",
       "2      22  90     1       1\n",
       "3      22  90     1       7\n",
       "4      22  90     1       1"
      ]
     },
     "execution_count": 22,
     "metadata": {},
     "output_type": "execute_result"
    }
   ],
   "source": [
    "df1 = m6df.copy()\n",
    "df1 = df1.drop(['통계년월', '통계시도명','연령'], axis=1)\n",
    "df1.head()"
   ]
  },
  {
   "cell_type": "markdown",
   "id": "3d6a2545",
   "metadata": {},
   "source": [
    "### 피처 스케일링 (Feature Scaling)"
   ]
  },
  {
   "cell_type": "code",
   "execution_count": 50,
   "id": "0ff3f591",
   "metadata": {},
   "outputs": [
    {
     "data": {
      "text/plain": [
       "array([[22, 91,  1,  5],\n",
       "       [22, 59, 12, 50],\n",
       "       [22, 92,  1,  1],\n",
       "       [22, 93,  1,  7],\n",
       "       [22, 94,  1,  1]], dtype=int64)"
      ]
     },
     "execution_count": 50,
     "metadata": {},
     "output_type": "execute_result"
    }
   ],
   "source": [
    "X = df1.iloc[:, :].values\n",
    "X[:5]"
   ]
  },
  {
   "cell_type": "markdown",
   "id": "44b7a252",
   "metadata": {},
   "source": [
    "### Standard Scaler - 표준화"
   ]
  },
  {
   "cell_type": "code",
   "execution_count": 51,
   "id": "e4524e25",
   "metadata": {
    "scrolled": true
   },
   "outputs": [
    {
     "data": {
      "text/plain": [
       "array([[ 1.43099386,  1.55899093, -1.39386356, -0.36339267],\n",
       "       [ 1.43099386,  0.27115106,  1.03741111,  0.8844189 ],\n",
       "       [ 1.43099386,  1.59923592, -1.39386356, -0.47430925],\n",
       "       [ 1.43099386,  1.63948092, -1.39386356, -0.30793438],\n",
       "       [ 1.43099386,  1.67972591, -1.39386356, -0.47430925]])"
      ]
     },
     "execution_count": 51,
     "metadata": {},
     "output_type": "execute_result"
    }
   ],
   "source": [
    "sc = StandardScaler()\n",
    "X = sc.fit_transform(X)\n",
    "X[:5]"
   ]
  },
  {
   "cell_type": "markdown",
   "id": "933f3643",
   "metadata": {},
   "source": [
    "### 데이터 시각화 - 스케일링 데이터"
   ]
  },
  {
   "cell_type": "code",
   "execution_count": 25,
   "id": "e351a696",
   "metadata": {
    "scrolled": false
   },
   "outputs": [
    {
     "data": {
      "image/png": "[encoded data removed]",
      "text/plain": [
       "<Figure size 360x360 with 1 Axes>"
      ]
     },
     "metadata": {
      "needs_background": "light"
     },
     "output_type": "display_data"
    }
   ],
   "source": [
    "plt.figure(figsize=(5,5))\n",
    "plt.scatter(X[:, 0], X[:, 3])\n",
    "plt.title('구 & 인원 수')\n",
    "plt.show()"
   ]
  },
  {
   "cell_type": "code",
   "execution_count": 52,
   "id": "ab9e25c8",
   "metadata": {
    "scrolled": false
   },
   "outputs": [
    {
     "name": "stderr",
     "output_type": "stream",
     "text": [
      "C:\\Users\\admin\\anaconda3\\envs\\cakd7\\lib\\site-packages\\IPython\\core\\pylabtools.py:151: UserWarning: Glyph 50672 (\\N{HANGUL SYLLABLE YEON}) missing from current font.\n",
      "  fig.canvas.print_figure(bytes_io, **kw)\n",
      "C:\\Users\\admin\\anaconda3\\envs\\cakd7\\lib\\site-packages\\IPython\\core\\pylabtools.py:151: UserWarning: Glyph 47161 (\\N{HANGUL SYLLABLE RYEONG}) missing from current font.\n",
      "  fig.canvas.print_figure(bytes_io, **kw)\n",
      "C:\\Users\\admin\\anaconda3\\envs\\cakd7\\lib\\site-packages\\IPython\\core\\pylabtools.py:151: UserWarning: Glyph 51064 (\\N{HANGUL SYLLABLE IN}) missing from current font.\n",
      "  fig.canvas.print_figure(bytes_io, **kw)\n",
      "C:\\Users\\admin\\anaconda3\\envs\\cakd7\\lib\\site-packages\\IPython\\core\\pylabtools.py:151: UserWarning: Glyph 50896 (\\N{HANGUL SYLLABLE WEON}) missing from current font.\n",
      "  fig.canvas.print_figure(bytes_io, **kw)\n",
      "C:\\Users\\admin\\anaconda3\\envs\\cakd7\\lib\\site-packages\\IPython\\core\\pylabtools.py:151: UserWarning: Glyph 49688 (\\N{HANGUL SYLLABLE SU}) missing from current font.\n",
      "  fig.canvas.print_figure(bytes_io, **kw)\n"
     ]
    },
    {
     "data": {
      "image/png": "[encoded data removed]",
      "text/plain": [
       "<Figure size 360x360 with 1 Axes>"
      ]
     },
     "metadata": {},
     "output_type": "display_data"
    }
   ],
   "source": [
    "plt.figure(figsize=(5,5))\n",
    "plt.scatter(X[:, 1], X[:, 3])\n",
    "plt.title('연령 & 인원 수')\n",
    "plt.show()"
   ]
  },
  {
   "cell_type": "code",
   "execution_count": 28,
   "id": "2bb1928d",
   "metadata": {},
   "outputs": [
    {
     "data": {
      "image/png": "[encoded data removed]",
      "text/plain": [
       "<Figure size 360x360 with 1 Axes>"
      ]
     },
     "metadata": {
      "needs_background": "light"
     },
     "output_type": "display_data"
    }
   ],
   "source": [
    "plt.figure(figsize=(5,5))\n",
    "plt.scatter(X[:, 2], X[:, 3])\n",
    "plt.title('장애유형 & 인원 수')\n",
    "plt.show()"
   ]
  },
  {
   "cell_type": "code",
   "execution_count": 29,
   "id": "59ec601e",
   "metadata": {},
   "outputs": [
    {
     "data": {
      "image/png": "[encoded data removed]",
      "text/plain": [
       "<Figure size 360x360 with 1 Axes>"
      ]
     },
     "metadata": {
      "needs_background": "light"
     },
     "output_type": "display_data"
    }
   ],
   "source": [
    "plt.figure(figsize=(5,5))\n",
    "plt.scatter(X[:, 1], X[:, 2])\n",
    "plt.title('연령 & 장애유형')\n",
    "plt.show()"
   ]
  },
  {
   "cell_type": "markdown",
   "id": "4811c150",
   "metadata": {},
   "source": [
    "### Elbow Method - K를 찾습니댜"
   ]
  },
  {
   "cell_type": "code",
   "execution_count": 30,
   "id": "29bdd138",
   "metadata": {},
   "outputs": [
    {
     "data": {
      "image/png": "[encoded data removed]",
      "text/plain": [
       "<Figure size 432x288 with 1 Axes>"
      ]
     },
     "metadata": {
      "needs_background": "light"
     },
     "output_type": "display_data"
    }
   ],
   "source": [
    "inertia_list = []\n",
    "for i in range(1, 11):\n",
    "    kmeans = KMeans(n_clusters=i, init='k-means++', random_state=0)\n",
    "    kmeans.fit(X)\n",
    "    inertia_list.append(kmeans.inertia_)\n",
    "    \n",
    "plt.plot(range(1, 11), inertia_list)\n",
    "plt.title('Elbow Method')\n",
    "plt.xlabel('n_clusters')\n",
    "plt.ylabel('inertia')\n",
    "plt.show()"
   ]
  },
  {
   "cell_type": "markdown",
   "id": "6b09f6ff",
   "metadata": {},
   "source": [
    "#### 당연하게도~~ eblow point 없음! 이럴때 silhouette 계수"
   ]
  },
  {
   "cell_type": "markdown",
   "id": "01c6d593",
   "metadata": {},
   "source": [
    "### MinMax Scaler -  변수 정규화 - 일단 스탠다드로,,"
   ]
  },
  {
   "cell_type": "markdown",
   "id": "60aeaf87",
   "metadata": {},
   "source": [
    "### Silhouette Score"
   ]
  },
  {
   "cell_type": "code",
   "execution_count": 31,
   "id": "26e29029",
   "metadata": {},
   "outputs": [
    {
     "name": "stdout",
     "output_type": "stream",
     "text": [
      "(21517,)\n",
      "[0.5444795  0.33325019 0.55091639 ... 0.51099578 0.54728856 0.57553492]\n",
      "0.44558586344661094\n"
     ]
    }
   ],
   "source": [
    "df2 = pd.DataFrame(data=df1, columns=['통계시군구명','연령대','장애유형','등록장애인수'])\n",
    "kmeans = KMeans(n_clusters=4, init='k-means++', max_iter=300, random_state=0)\n",
    "kmeans.fit(df2)\n",
    "df2['cluster'] = kmeans.labels_\n",
    "\n",
    "score_samples = silhouette_samples(df1, df2['cluster'])\n",
    "print(score_samples.shape)\n",
    "print(score_samples)\n",
    "df2['silhoutte_coeff'] = score_samples\n",
    "\n",
    "average_score = silhouette_score(df1, df2['cluster'])\n",
    "print(average_score)"
   ]
  },
  {
   "cell_type": "markdown",
   "id": "ad83e867",
   "metadata": {},
   "source": [
    "#### 실루엣 K=2"
   ]
  },
  {
   "cell_type": "code",
   "execution_count": 40,
   "id": "e6934738",
   "metadata": {},
   "outputs": [
    {
     "data": {
      "image/png": "[encoded data removed]",
      "text/plain": [
       "<Figure size 576x396 with 1 Axes>"
      ]
     },
     "metadata": {},
     "output_type": "display_data"
    },
    {
     "data": {
      "text/plain": [
       "<AxesSubplot:title={'center':'Silhouette Plot of KMeans Clustering for 21517 Samples in 2 Centers'}, xlabel='silhouette coefficient values', ylabel='cluster label'>"
      ]
     },
     "execution_count": 40,
     "metadata": {},
     "output_type": "execute_result"
    }
   ],
   "source": [
    "#클러스터링 모델 생성\n",
    "kmeans_2 = KMeans(n_clusters=2, random_state=500,init='random')\n",
    "#visualizer 생성\n",
    "visualizer_2 = SilhouetteVisualizer(kmeans_2, colors='yellowbrick')\n",
    "#생성된 visualizer에 데이터 입력 \n",
    "visualizer_2.fit(df1)      \n",
    "visualizer_2.show()"
   ]
  },
  {
   "cell_type": "markdown",
   "id": "40a9de62",
   "metadata": {},
   "source": [
    "#### 실루엣 K=3"
   ]
  },
  {
   "cell_type": "code",
   "execution_count": 41,
   "id": "4e7cfe35",
   "metadata": {},
   "outputs": [
    {
     "data": {
      "image/png": "[encoded data removed]",
      "text/plain": [
       "<Figure size 576x396 with 1 Axes>"
      ]
     },
     "metadata": {},
     "output_type": "display_data"
    },
    {
     "data": {
      "text/plain": [
       "<AxesSubplot:title={'center':'Silhouette Plot of KMeans Clustering for 21517 Samples in 3 Centers'}, xlabel='silhouette coefficient values', ylabel='cluster label'>"
      ]
     },
     "execution_count": 41,
     "metadata": {},
     "output_type": "execute_result"
    }
   ],
   "source": [
    "kmeans_3 = KMeans(n_clusters=3, random_state=200,init='random')\n",
    "visualizer_3 = SilhouetteVisualizer(kmeans_3, colors='yellowbrick')\n",
    "visualizer_3.fit(df1)      \n",
    "visualizer_3.show()"
   ]
  },
  {
   "cell_type": "markdown",
   "id": "2cec1fcc",
   "metadata": {},
   "source": [
    "#### 실루엣 K=4"
   ]
  },
  {
   "cell_type": "code",
   "execution_count": 42,
   "id": "0234359d",
   "metadata": {},
   "outputs": [
    {
     "data": {
      "image/png": "[encoded data removed]",
      "text/plain": [
       "<Figure size 576x396 with 1 Axes>"
      ]
     },
     "metadata": {},
     "output_type": "display_data"
    },
    {
     "data": {
      "text/plain": [
       "<AxesSubplot:title={'center':'Silhouette Plot of KMeans Clustering for 21517 Samples in 4 Centers'}, xlabel='silhouette coefficient values', ylabel='cluster label'>"
      ]
     },
     "execution_count": 42,
     "metadata": {},
     "output_type": "execute_result"
    }
   ],
   "source": [
    "kmeans_4 = KMeans(n_clusters=4, random_state=200,init='random')\n",
    "visualizer_4 = SilhouetteVisualizer(kmeans_4, colors='yellowbrick')\n",
    "visualizer_4.fit(df1)      \n",
    "visualizer_4.show()"
   ]
  },
  {
   "cell_type": "markdown",
   "id": "836e3e9f",
   "metadata": {},
   "source": [
    "#### 실루엣 K=5"
   ]
  },
  {
   "cell_type": "code",
   "execution_count": 43,
   "id": "fa040116",
   "metadata": {},
   "outputs": [
    {
     "data": {
      "image/png": "[encoded data removed]",
      "text/plain": [
       "<Figure size 576x396 with 1 Axes>"
      ]
     },
     "metadata": {},
     "output_type": "display_data"
    },
    {
     "data": {
      "text/plain": [
       "<AxesSubplot:title={'center':'Silhouette Plot of KMeans Clustering for 21517 Samples in 5 Centers'}, xlabel='silhouette coefficient values', ylabel='cluster label'>"
      ]
     },
     "execution_count": 43,
     "metadata": {},
     "output_type": "execute_result"
    }
   ],
   "source": [
    "kmeans_5 = KMeans(n_clusters=5, random_state=200,init='random')\n",
    "visualizer_5 = SilhouetteVisualizer(kmeans_5, colors='yellowbrick')\n",
    "visualizer_5.fit(df1)      \n",
    "visualizer_5.show()"
   ]
  },
  {
   "cell_type": "markdown",
   "id": "e8063f4c",
   "metadata": {},
   "source": [
    "#### 실루엣 K=6"
   ]
  },
  {
   "cell_type": "code",
   "execution_count": 128,
   "id": "8e5fe752",
   "metadata": {},
   "outputs": [
    {
     "data": {
      "image/png": "[encoded data removed]",
      "text/plain": [
       "<Figure size 576x396 with 1 Axes>"
      ]
     },
     "metadata": {},
     "output_type": "display_data"
    },
    {
     "data": {
      "text/plain": [
       "<AxesSubplot:title={'center':'Silhouette Plot of KMeans Clustering for 21517 Samples in 6 Centers'}, xlabel='silhouette coefficient values', ylabel='cluster label'>"
      ]
     },
     "execution_count": 128,
     "metadata": {},
     "output_type": "execute_result"
    }
   ],
   "source": [
    "kmeans_6 = KMeans(n_clusters=6, random_state=200,init='random')\n",
    "visualizer_6 = SilhouetteVisualizer(kmeans_6, colors='yellowbrick')\n",
    "visualizer_6.fit(df1)      \n",
    "visualizer_6.show()"
   ]
  },
  {
   "cell_type": "code",
   "execution_count": 130,
   "id": "98710ae4",
   "metadata": {},
   "outputs": [
    {
     "data": {
      "text/html": [
       "<div>\n",
       "<style scoped>\n",
       "    .dataframe tbody tr th:only-of-type {\n",
       "        vertical-align: middle;\n",
       "    }\n",
       "\n",
       "    .dataframe tbody tr th {\n",
       "        vertical-align: top;\n",
       "    }\n",
       "\n",
       "    .dataframe thead th {\n",
       "        text-align: right;\n",
       "    }\n",
       "</style>\n",
       "<table border=\"1\" class=\"dataframe\">\n",
       "  <thead>\n",
       "    <tr style=\"text-align: right;\">\n",
       "      <th></th>\n",
       "      <th>통계시군구명</th>\n",
       "      <th>연령대</th>\n",
       "      <th>장애유형</th>\n",
       "      <th>등록장애인수</th>\n",
       "      <th>clusterID</th>\n",
       "      <th>silhouette coefficient</th>\n",
       "    </tr>\n",
       "  </thead>\n",
       "  <tbody>\n",
       "    <tr>\n",
       "      <th>0</th>\n",
       "      <td>22</td>\n",
       "      <td>90</td>\n",
       "      <td>1</td>\n",
       "      <td>5</td>\n",
       "      <td>0</td>\n",
       "      <td>0.528656</td>\n",
       "    </tr>\n",
       "    <tr>\n",
       "      <th>1</th>\n",
       "      <td>22</td>\n",
       "      <td>50</td>\n",
       "      <td>12</td>\n",
       "      <td>50</td>\n",
       "      <td>3</td>\n",
       "      <td>0.400295</td>\n",
       "    </tr>\n",
       "    <tr>\n",
       "      <th>2</th>\n",
       "      <td>22</td>\n",
       "      <td>90</td>\n",
       "      <td>1</td>\n",
       "      <td>1</td>\n",
       "      <td>0</td>\n",
       "      <td>0.522406</td>\n",
       "    </tr>\n",
       "    <tr>\n",
       "      <th>3</th>\n",
       "      <td>22</td>\n",
       "      <td>90</td>\n",
       "      <td>1</td>\n",
       "      <td>7</td>\n",
       "      <td>0</td>\n",
       "      <td>0.526309</td>\n",
       "    </tr>\n",
       "    <tr>\n",
       "      <th>4</th>\n",
       "      <td>22</td>\n",
       "      <td>90</td>\n",
       "      <td>1</td>\n",
       "      <td>1</td>\n",
       "      <td>0</td>\n",
       "      <td>0.522406</td>\n",
       "    </tr>\n",
       "  </tbody>\n",
       "</table>\n",
       "</div>"
      ],
      "text/plain": [
       "   통계시군구명 연령대  장애유형  등록장애인수  clusterID  silhouette coefficient\n",
       "0      22  90     1       5          0                0.528656\n",
       "1      22  50    12      50          3                0.400295\n",
       "2      22  90     1       1          0                0.522406\n",
       "3      22  90     1       7          0                0.526309\n",
       "4      22  90     1       1          0                0.522406"
      ]
     },
     "execution_count": 130,
     "metadata": {},
     "output_type": "execute_result"
    }
   ],
   "source": [
    "result_df = df1.copy()\n",
    "\n",
    "#클러스터ID 컬럼 생성 \n",
    "result_df.loc[:,'clusterID'] = visualizer_6.predict(df1)\n",
    "#실루엣 계수 컬럼 생성\n",
    "result_df.loc[:,'silhouette coefficient'] = visualizer_6.silhouette_samples_\n",
    "\n",
    "result_df.shape\n",
    "result_df.head(5)"
   ]
  },
  {
   "cell_type": "code",
   "execution_count": 131,
   "id": "0948b4b3",
   "metadata": {},
   "outputs": [
    {
     "name": "stdout",
     "output_type": "stream",
     "text": [
      "전체 데이터의 실루엣 계수 평균\n",
      "\n",
      "군집별 실루엣 계수 평균\n"
     ]
    },
    {
     "data": {
      "text/html": [
       "<div>\n",
       "<style scoped>\n",
       "    .dataframe tbody tr th:only-of-type {\n",
       "        vertical-align: middle;\n",
       "    }\n",
       "\n",
       "    .dataframe tbody tr th {\n",
       "        vertical-align: top;\n",
       "    }\n",
       "\n",
       "    .dataframe thead th {\n",
       "        text-align: right;\n",
       "    }\n",
       "</style>\n",
       "<table border=\"1\" class=\"dataframe\">\n",
       "  <thead>\n",
       "    <tr style=\"text-align: right;\">\n",
       "      <th></th>\n",
       "      <th>clusterID</th>\n",
       "      <th>silhouette coefficient</th>\n",
       "    </tr>\n",
       "  </thead>\n",
       "  <tbody>\n",
       "    <tr>\n",
       "      <th>0</th>\n",
       "      <td>0</td>\n",
       "      <td>0.422907</td>\n",
       "    </tr>\n",
       "    <tr>\n",
       "      <th>1</th>\n",
       "      <td>1</td>\n",
       "      <td>0.329086</td>\n",
       "    </tr>\n",
       "    <tr>\n",
       "      <th>2</th>\n",
       "      <td>2</td>\n",
       "      <td>0.482605</td>\n",
       "    </tr>\n",
       "    <tr>\n",
       "      <th>3</th>\n",
       "      <td>3</td>\n",
       "      <td>0.299729</td>\n",
       "    </tr>\n",
       "    <tr>\n",
       "      <th>4</th>\n",
       "      <td>4</td>\n",
       "      <td>0.406891</td>\n",
       "    </tr>\n",
       "    <tr>\n",
       "      <th>5</th>\n",
       "      <td>5</td>\n",
       "      <td>0.418086</td>\n",
       "    </tr>\n",
       "  </tbody>\n",
       "</table>\n",
       "</div>"
      ],
      "text/plain": [
       "   clusterID  silhouette coefficient\n",
       "0          0                0.422907\n",
       "1          1                0.329086\n",
       "2          2                0.482605\n",
       "3          3                0.299729\n",
       "4          4                0.406891\n",
       "5          5                0.418086"
      ]
     },
     "execution_count": 131,
     "metadata": {},
     "output_type": "execute_result"
    }
   ],
   "source": [
    "print('전체 데이터의 실루엣 계수 평균')\n",
    "result_df['silhouette coefficient'].mean()\n",
    "\n",
    "print('\\n군집별 실루엣 계수 평균')\n",
    "result_df.groupby('clusterID')['silhouette coefficient'].mean().reset_index()"
   ]
  },
  {
   "cell_type": "code",
   "execution_count": null,
   "id": "ed2c2610",
   "metadata": {},
   "outputs": [],
   "source": [
    "# K=3 이 가장 높네!"
   ]
  },
  {
   "cell_type": "markdown",
   "id": "fc7676c0",
   "metadata": {},
   "source": [
    "### K=3 - KMeans 학습"
   ]
  },
  {
   "cell_type": "code",
   "execution_count": 125,
   "id": "50ef0627",
   "metadata": {},
   "outputs": [],
   "source": [
    "disa = pd.DataFrame(data = df, columns=['총발달장애인대비총복지시설', '총 발달장애인 수'])\n",
    "disa\n",
    "\n",
    "kmeans = KMeans(n_clusters = 5, init='k-means++', max_iter=100, random_state=0).fit(disa)\n",
    "disa['cluster'] = kmeans.labels_\n",
    "print(kmeans.labels_)\n",
    "\n",
    "pca = PCA(n_components=2)\n",
    "pca_transformed = pca.fit_transform(disa)\n",
    "print(pca_transformed)\n",
    "disa['pca_x'] = pca_transformed[:,0]\n",
    "disa['pca_y'] = pca_transformed[:,1]\n",
    "disa\n",
    "\n",
    "marker0_ind = disa[disa['cluster']==0].index\n",
    "marker1_ind = disa[disa['cluster']==1].index\n",
    "marker2_ind = disa[disa['cluster']==2].index\n",
    "marker3_ind = disa[disa['cluster']==3].index\n",
    "marker4_ind = disa[disa['cluster']==4].index\n",
    "\n",
    "\n",
    "plt.scatter(x= disa.loc[marker0_ind, 'pca_x'], y = disa.loc[marker0_ind, 'pca_y'], marker = 'o')\n",
    "plt.scatter(x= disa.loc[marker1_ind, 'pca_x'], y = disa.loc[marker1_ind, 'pca_y'], marker = 's')\n",
    "plt.scatter(x= disa.loc[marker2_ind, 'pca_x'], y = disa.loc[marker2_ind, 'pca_y'], marker = '^')\n",
    "plt.scatter(x= disa.loc[marker3_ind, 'pca_x'], y = disa.loc[marker3_ind, 'pca_y'], marker = 'o')\n",
    "plt.scatter(x= disa.loc[marker4_ind, 'pca_x'], y = disa.loc[marker4_ind, 'pca_y'], marker = 's')\n",
    "\n",
    "plt.xlabel('PCA1')\n",
    "plt.ylabel('PCA2')\n",
    "\n",
    "plt.show()"
   ]
  },
  {
   "cell_type": "code",
   "execution_count": null,
   "id": "ce392759",
   "metadata": {},
   "outputs": [],
   "source": []
  },
  {
   "cell_type": "code",
   "execution_count": 44,
   "id": "ccfd581a",
   "metadata": {},
   "outputs": [],
   "source": [
    "K = 3"
   ]
  },
  {
   "cell_type": "code",
   "execution_count": 45,
   "id": "a8191b05",
   "metadata": {},
   "outputs": [
    {
     "ename": "TypeError",
     "evalue": "__init__() got an unexpected keyword argument 'n_cluster'",
     "output_type": "error",
     "traceback": [
      "\u001b[1;31m---------------------------------------------------------------------------\u001b[0m",
      "\u001b[1;31mTypeError\u001b[0m                                 Traceback (most recent call last)",
      "Input \u001b[1;32mIn [45]\u001b[0m, in \u001b[0;36m<cell line: 1>\u001b[1;34m()\u001b[0m\n\u001b[1;32m----> 1\u001b[0m Kmenas \u001b[38;5;241m=\u001b[39m \u001b[43mKMeans\u001b[49m\u001b[43m(\u001b[49m\u001b[43minit\u001b[49m\u001b[38;5;241;43m=\u001b[39;49m\u001b[38;5;124;43m'\u001b[39;49m\u001b[38;5;124;43mk-means++\u001b[39;49m\u001b[38;5;124;43m'\u001b[39;49m\u001b[43m,\u001b[49m\u001b[43m \u001b[49m\u001b[43mn_cluster\u001b[49m\u001b[38;5;241;43m=\u001b[39;49m\u001b[38;5;241;43m3\u001b[39;49m\u001b[43m,\u001b[49m\u001b[43m \u001b[49m\u001b[43mrandom_state\u001b[49m\u001b[38;5;241;43m=\u001b[39;49m\u001b[38;5;241;43m0\u001b[39;49m\u001b[43m)\u001b[49m\n\u001b[0;32m      2\u001b[0m y_kmeans \u001b[38;5;241m=\u001b[39m kmeans\u001b[38;5;241m.\u001b[39mfit_predict(df1)\n",
      "\u001b[1;31mTypeError\u001b[0m: __init__() got an unexpected keyword argument 'n_cluster'"
     ]
    }
   ],
   "source": [
    "Kmenas = KMeans(init='k-means++', n_cluster=3, random_state=0)\n",
    "y_kmeans = kmeans.fit_predict(df1)"
   ]
  },
  {
   "cell_type": "code",
   "execution_count": 126,
   "id": "c35242ef",
   "metadata": {},
   "outputs": [
    {
     "ename": "TypeError",
     "evalue": "'DataFrame' object is not callable",
     "output_type": "error",
     "traceback": [
      "\u001b[1;31m---------------------------------------------------------------------------\u001b[0m",
      "\u001b[1;31mTypeError\u001b[0m                                 Traceback (most recent call last)",
      "Input \u001b[1;32mIn [126]\u001b[0m, in \u001b[0;36m<cell line: 2>\u001b[1;34m()\u001b[0m\n\u001b[0;32m      1\u001b[0m \u001b[38;5;28;01mfrom\u001b[39;00m \u001b[38;5;21;01msklearn\u001b[39;00m\u001b[38;5;21;01m.\u001b[39;00m\u001b[38;5;21;01mdatasets\u001b[39;00m \u001b[38;5;28;01mimport\u001b[39;00m make_blobs\n\u001b[1;32m----> 2\u001b[0m X, y \u001b[38;5;241m=\u001b[39m \u001b[43mdf1\u001b[49m\u001b[43m(\u001b[49m\u001b[43mn_samples\u001b[49m\u001b[38;5;241;43m=\u001b[39;49m\u001b[38;5;241;43m500\u001b[39;49m\u001b[43m,\u001b[49m\u001b[43m \u001b[49m\u001b[43mn_features\u001b[49m\u001b[38;5;241;43m=\u001b[39;49m\u001b[38;5;241;43m2\u001b[39;49m\u001b[43m,\u001b[49m\u001b[43m \u001b[49m\u001b[43mcenters\u001b[49m\u001b[38;5;241;43m=\u001b[39;49m\u001b[38;5;241;43m4\u001b[39;49m\u001b[43m,\u001b[49m\u001b[43m \u001b[49m\u001b[43mcluster_std\u001b[49m\u001b[38;5;241;43m=\u001b[39;49m\u001b[38;5;241;43m1\u001b[39;49m\u001b[43m,\u001b[49m\u001b[43m \u001b[49m\u001b[43m\\\u001b[49m\n\u001b[0;32m      3\u001b[0m \u001b[43m                  \u001b[49m\u001b[43mcenter_box\u001b[49m\u001b[38;5;241;43m=\u001b[39;49m\u001b[43m(\u001b[49m\u001b[38;5;241;43m-\u001b[39;49m\u001b[38;5;241;43m10.0\u001b[39;49m\u001b[43m,\u001b[49m\u001b[43m \u001b[49m\u001b[38;5;241;43m10.0\u001b[39;49m\u001b[43m)\u001b[49m\u001b[43m,\u001b[49m\u001b[43m \u001b[49m\u001b[43mshuffle\u001b[49m\u001b[38;5;241;43m=\u001b[39;49m\u001b[38;5;28;43;01mTrue\u001b[39;49;00m\u001b[43m,\u001b[49m\u001b[43m \u001b[49m\u001b[43mrandom_state\u001b[49m\u001b[38;5;241;43m=\u001b[39;49m\u001b[38;5;241;43m1\u001b[39;49m\u001b[43m)\u001b[49m  \n\u001b[0;32m      5\u001b[0m \u001b[38;5;66;03m# cluster 개수를 2개, 3개, 4개, 5개 일때의 클러스터별 실루엣 계수 평균값을 시각화 \u001b[39;00m\n\u001b[0;32m      6\u001b[0m visualize_silhouette([ \u001b[38;5;241m2\u001b[39m, \u001b[38;5;241m3\u001b[39m, \u001b[38;5;241m4\u001b[39m, \u001b[38;5;241m5\u001b[39m], X)\n",
      "\u001b[1;31mTypeError\u001b[0m: 'DataFrame' object is not callable"
     ]
    }
   ],
   "source": [
    "from sklearn.datasets import make_blobs\n",
    "X, y = df1(n_samples=500, n_features=2, centers=4, cluster_std=1, \\\n",
    "                  center_box=(-10.0, 10.0), shuffle=True, random_state=1)  \n",
    "\n",
    "# cluster 개수를 2개, 3개, 4개, 5개 일때의 클러스터별 실루엣 계수 평균값을 시각화 \n",
    "visualize_silhouette([ 2, 3, 4, 5], X)"
   ]
  },
  {
   "cell_type": "code",
   "execution_count": null,
   "id": "88dbbbc9",
   "metadata": {},
   "outputs": [],
   "source": []
  },
  {
   "cell_type": "code",
   "execution_count": null,
   "id": "24f2e415",
   "metadata": {},
   "outputs": [],
   "source": []
  },
  {
   "cell_type": "code",
   "execution_count": null,
   "id": "ea0f328e",
   "metadata": {},
   "outputs": [],
   "source": []
  },
  {
   "cell_type": "code",
   "execution_count": null,
   "id": "4aecc9a8",
   "metadata": {},
   "outputs": [],
   "source": []
  },
  {
   "cell_type": "code",
   "execution_count": null,
   "id": "8f75145a",
   "metadata": {},
   "outputs": [],
   "source": []
  },
  {
   "cell_type": "code",
   "execution_count": null,
   "id": "88376930",
   "metadata": {},
   "outputs": [],
   "source": []
  },
  {
   "cell_type": "code",
   "execution_count": null,
   "id": "3a3087ae",
   "metadata": {},
   "outputs": [],
   "source": []
  },
  {
   "cell_type": "code",
   "execution_count": null,
   "id": "bdaf43b2",
   "metadata": {},
   "outputs": [],
   "source": []
  }
 ],
 "metadata": {
  "kernelspec": {
   "display_name": "Python 3 (ipykernel)",
   "language": "python",
   "name": "python3"
  },
  "language_info": {
   "codemirror_mode": {
    "name": "ipython",
    "version": 3
   },
   "file_extension": ".py",
   "mimetype": "text/x-python",
   "name": "python",
   "nbconvert_exporter": "python",
   "pygments_lexer": "ipython3",
   "version": "3.8.13"
  },
  "toc": {
   "base_numbering": 1,
   "nav_menu": {},
   "number_sections": false,
   "sideBar": true,
   "skip_h1_title": false,
   "title_cell": "Table of Contents",
   "title_sidebar": "Contents",
   "toc_cell": false,
   "toc_position": {},
   "toc_section_display": true,
   "toc_window_display": false
  }
 },
 "nbformat": 4,
 "nbformat_minor": 5
}
