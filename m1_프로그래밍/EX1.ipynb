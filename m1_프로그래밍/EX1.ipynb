{
 "cells": [
  {
   "cell_type": "markdown",
   "id": "b1b4641b",
   "metadata": {},
   "source": [
    "#### 7/13 -  Q1. 남녀 파트너 정해주기 프로그램(zip) \n",
    "같은 수의 남녀 모임에서 파트너를 랜덤하게 정해주는 프로그램을 만들어 보세요\n",
    "\n",
    "male = ['철수','갑돌','로미오','이몽룡','온돌']\n",
    "\n",
    "female = ['미미','갑순','줄리엣','성춘향','평강']"
   ]
  },
  {
   "cell_type": "code",
   "execution_count": 3,
   "id": "4abb900b",
   "metadata": {
    "scrolled": true
   },
   "outputs": [
    {
     "data": {
      "text/plain": [
       "[('온돌', '평강'), ('철수', '미미'), ('로미오', '줄리엣'), ('갑돌', '갑순'), ('이몽룡', '성춘향')]"
      ]
     },
     "execution_count": 3,
     "metadata": {},
     "output_type": "execute_result"
    }
   ],
   "source": [
    "# zip 함수 이용\n",
    "\n",
    "import numpy as np\n",
    "import random\n",
    "\n",
    "male = ['철수','갑돌','로미오','이몽룡','온돌']\n",
    "female = ['미미','갑순','줄리엣','성춘향','평강']\n",
    "\n",
    "partner = list(zip(male,female))\n",
    "random.shuffle(partner)\n",
    "partner"
   ]
  },
  {
   "cell_type": "code",
   "execution_count": 4,
   "id": "3883c65e",
   "metadata": {},
   "outputs": [
    {
     "name": "stdout",
     "output_type": "stream",
     "text": [
      "커플1:이몽룡,갑순\n",
      "커플2:갑돌,미미\n",
      "커플3:로미오,평강\n",
      "커플4:온돌,성춘향\n",
      "커플5:철수,줄리엣\n"
     ]
    }
   ],
   "source": [
    "male = ['철수','갑돌','로미오','이몽룡','온돌']\n",
    "female = ['미미','갑순','줄리엣','성춘향','평강']\n",
    "\n",
    "random.shuffle(male)\n",
    "random.shuffle(female)\n",
    "\n",
    "couples = zip(male, female)\n",
    "\n",
    "for i, couple in enumerate(couples):\n",
    "    print(f'커플{i+1}:{couple[0]},{couple[1]}')"
   ]
  },
  {
   "cell_type": "markdown",
   "id": "00be4b75",
   "metadata": {},
   "source": [
    "#### 7/13 - Q2. 사용자가 입력한 횟수만큼 로또 번호를 출력하는 프로그램을 작성하세요. (중복 X)"
   ]
  },
  {
   "cell_type": "code",
   "execution_count": 5,
   "id": "d611bbbe",
   "metadata": {},
   "outputs": [
    {
     "name": "stdout",
     "output_type": "stream",
     "text": [
      "로또 번호의 개수를 입력하세요5\n",
      "[39, 13, 12, 3, 1]\n"
     ]
    }
   ],
   "source": [
    "num = int(input('로또 번호의 개수를 입력하세요'))\n",
    "\n",
    "for i in range(0, int(num)):\n",
    "    lo = random.sample(range(1,46),int(num))\n",
    "print(lo)"
   ]
  },
  {
   "cell_type": "code",
   "execution_count": 6,
   "id": "863a8131",
   "metadata": {},
   "outputs": [
    {
     "name": "stdout",
     "output_type": "stream",
     "text": [
      "로또 번호의 개수를 입력하세요5\n",
      "[[35, 38, 13, 36, 44], [13, 11, 14, 4, 26], [43, 26, 2, 18, 25], [29, 19, 18, 22, 33], [13, 19, 25, 42, 10]]\n"
     ]
    }
   ],
   "source": [
    "num = int(input('로또 번호의 개수를 입력하세요'))\n",
    "\n",
    "a = 0\n",
    "x = []\n",
    "for i in range(0, int(num)):\n",
    "    a = random.sample(range(1,46),int(num))\n",
    "    x.append(a)\n",
    "print(x)"
   ]
  },
  {
   "cell_type": "markdown",
   "id": "538dfb24",
   "metadata": {},
   "source": [
    "##### [도전과제] 발표자를 원하는 수만큼 랜덤하게 출력하는 프로그램을 작성하세요."
   ]
  },
  {
   "cell_type": "code",
   "execution_count": 41,
   "id": "727fda77",
   "metadata": {},
   "outputs": [
    {
     "data": {
      "text/plain": [
       "25"
      ]
     },
     "execution_count": 41,
     "metadata": {},
     "output_type": "execute_result"
    }
   ],
   "source": [
    "cakd7 = ['박영권','김현지','김덕현','변서연','한지웅','양주희','이호원','정지은','이정현A','이명진','이상윤','조승현','강유한','김영선','최애림','김민섭','박혜린','이정현B','윤정준','김진형','정승기','진청아','신창훈','김병석','박세희']\n",
    "len(cakd7)"
   ]
  },
  {
   "cell_type": "code",
   "execution_count": 42,
   "id": "435d3b02",
   "metadata": {},
   "outputs": [
    {
     "data": {
      "text/plain": [
       "'5'"
      ]
     },
     "execution_count": 42,
     "metadata": {},
     "output_type": "execute_result"
    }
   ],
   "source": [
    "number"
   ]
  },
  {
   "cell_type": "code",
   "execution_count": 13,
   "id": "5862bd66",
   "metadata": {},
   "outputs": [
    {
     "name": "stdout",
     "output_type": "stream",
     "text": [
      "=============== CAKD7 발표자 랜덤 뽑기 입니다.===============\n",
      "\n",
      " 발표 인원을 입력해주세요 >  \n",
      "2\n",
      " \n",
      "1번 문제 발표자는 신창훈 입니다.\n",
      "2번 문제 발표자는 윤정준 입니다.\n"
     ]
    }
   ],
   "source": [
    "import random \n",
    "import numpy as np\n",
    "\n",
    "\n",
    "list = ['박영권','김현지','김덕현','변서연','한지웅','양주희','이호원','정지은','이정현A',\n",
    "         '이정현B','이명진','이상윤','조승현','강유한','김영선','최애림','김민섭','박혜린',\n",
    "         '윤정준','김진형','정승기','진청아','신창훈','김병석','박세희']\n",
    "\n",
    "\n",
    "\n",
    "print(\"=============== CAKD7 발표자 랜덤 뽑기 입니다.===============\"'\\n')\n",
    "                        \n",
    "get_ran_num = int(input(\" 발표 인원을 입력해주세요 >  \"'\\n')) \n",
    "\n",
    "\n",
    "lucky_guy = random.sample(list,get_ran_num)\n",
    "\n",
    "print(\" \")\n",
    "for i in range(get_ran_num):\n",
    "    print(f'{i+1}번 문제 발표자는 {lucky_guy[i]} 입니다.')\n"
   ]
  },
  {
   "cell_type": "markdown",
   "id": "beb36d34",
   "metadata": {},
   "source": [
    "#### 7/14 - Q3. 입력받은 문자열의 각 문자를 그 다음 문자로 변경하여 출력하세요. abc -> bca"
   ]
  },
  {
   "cell_type": "code",
   "execution_count": 69,
   "id": "f497edd7",
   "metadata": {},
   "outputs": [
    {
     "data": {
      "text/plain": [
       "'bca'"
      ]
     },
     "execution_count": 69,
     "metadata": {},
     "output_type": "execute_result"
    }
   ],
   "source": [
    "a = 'abc'\n",
    "a[1]+a[2]+a[0]"
   ]
  },
  {
   "cell_type": "code",
   "execution_count": 72,
   "id": "481674af",
   "metadata": {},
   "outputs": [
    {
     "data": {
      "text/plain": [
       "'bca'"
      ]
     },
     "execution_count": 72,
     "metadata": {},
     "output_type": "execute_result"
    }
   ],
   "source": [
    "def shift(str) :\n",
    "    return str[1:] + str[0]\n",
    "\n",
    "a = 'abc'\n",
    "\n",
    "shift(a)"
   ]
  },
  {
   "cell_type": "code",
   "execution_count": 1,
   "id": "e074253f",
   "metadata": {},
   "outputs": [
    {
     "name": "stdout",
     "output_type": "stream",
     "text": [
      "문자를 입력하세요. >abcd\n",
      "bcda\n"
     ]
    }
   ],
   "source": [
    "text = input('문자를 입력하세요. >')\n",
    "ret = ''\n",
    "for i in range(len(text)):\n",
    "    if i != len(text)-1 :\n",
    "        ret += text[i+1]\n",
    "    else :\n",
    "        ret += text[0]\n",
    "        \n",
    "print(ret)"
   ]
  },
  {
   "cell_type": "markdown",
   "id": "b66d6769",
   "metadata": {},
   "source": [
    "#### 7/14 - Q4. url에서 호스트 도메인을 추출하여 출력하세요.\n",
    "\n",
    "url = 'http://news.naver.com/main/read.nhn?mode=LSD&mid=shm&sid1=105&oid=028&aid=0002334601\n",
    "\n",
    "\n",
    "news.naver.com 요기만 출력하기"
   ]
  },
  {
   "cell_type": "code",
   "execution_count": 12,
   "id": "9829bb4c",
   "metadata": {},
   "outputs": [
    {
     "name": "stdout",
     "output_type": "stream",
     "text": [
      "news.naver.com\n"
     ]
    }
   ],
   "source": [
    "url = 'http://news.naver.com/main/read.nhn?mode=LSD&mid=shm&sid1=105&oid=028&aid=0002334601'\n",
    "\n",
    "tmp = url.split('/')\n",
    "print(tmp[2])"
   ]
  },
  {
   "cell_type": "code",
   "execution_count": 8,
   "id": "734c11d5",
   "metadata": {},
   "outputs": [
    {
     "name": "stdout",
     "output_type": "stream",
     "text": [
      "['news.naver.com']\n"
     ]
    }
   ],
   "source": [
    "import re\n",
    "\n",
    "url = 'http://news.naver.com/main/read.nhn?mode=LSD&mid=shm&sid1=105&oid=028&aid=0002334601'\n",
    "\n",
    "news = re.findall(r'[a-z]{4}.[a-z]{5}.[a-z]{3}',url)\n",
    "print(news)"
   ]
  },
  {
   "cell_type": "code",
   "execution_count": 10,
   "id": "e798672a",
   "metadata": {},
   "outputs": [
    {
     "name": "stdout",
     "output_type": "stream",
     "text": [
      "news.naver.com\n"
     ]
    }
   ],
   "source": [
    "import re\n",
    "\n",
    "url = 'http://news.naver.com/main/read.nhn?mode=LSD&mid=shm&sid1=105&oid=028&aid=0002334601'\n",
    "\n",
    "news = re.search(r'([a-z]{4}.[a-z]{5}.[a-z]{3})',url)\n",
    "print(news.group(1))"
   ]
  },
  {
   "cell_type": "markdown",
   "id": "d7852a8a",
   "metadata": {},
   "source": [
    "#### 7/15 - Q5. url에서 쿼리문을 추출하여 출력하세요.\n",
    "\n",
    "url에서 '?'뒤에 표시되는 문자열을 쿼리 문자열이라고 하며 변수=값 사이 &로 \n",
    "구분되어 나열된다.\n",
    "\n",
    "url = 'http://news.naver.com/main/read.nhn?mode=LSD&mid=shm&sid1=105&oid=028&aid=0002334601'\n"
   ]
  },
  {
   "cell_type": "code",
   "execution_count": 20,
   "id": "f9cfc9c5",
   "metadata": {},
   "outputs": [
    {
     "data": {
      "text/plain": [
       "'mode=LSD&mid=shm&sid1=105&oid=028&aid=0002334601'"
      ]
     },
     "execution_count": 20,
     "metadata": {},
     "output_type": "execute_result"
    }
   ],
   "source": [
    "url = 'http://news.naver.com/main/read.nhn?mode=LSD&mid=shm&sid1=105&oid=028&aid=0002334601'\n",
    "\n",
    "qus = url.split('?')\n",
    "tmp[1]"
   ]
  },
  {
   "cell_type": "code",
   "execution_count": 21,
   "id": "c7b5a7e9",
   "metadata": {},
   "outputs": [
    {
     "data": {
      "text/plain": [
       "['mode=LSD', 'mid=shm', 'sid1=105', 'oid=028', 'aid=0002334601']"
      ]
     },
     "execution_count": 21,
     "metadata": {},
     "output_type": "execute_result"
    }
   ],
   "source": [
    "qus[1].split('&')"
   ]
  },
  {
   "cell_type": "code",
   "execution_count": 17,
   "id": "cbf0d1b8",
   "metadata": {},
   "outputs": [
    {
     "name": "stdout",
     "output_type": "stream",
     "text": [
      "1번째 쿼리 문자열 : mode=LSD\n",
      "2번째 쿼리 문자열 : mid=shm\n",
      "3번째 쿼리 문자열 : sid1=105\n",
      "4번째 쿼리 문자열 : oid=028\n",
      "5번째 쿼리 문자열 : aid=0002334601\n"
     ]
    }
   ],
   "source": [
    "import re\n",
    "\n",
    "url = 'http://news.naver.com/main/read.nhn?mode=LSD&mid=shm&sid1=105&oid=028&aid=0002334601'\n",
    "\n",
    "p = re.compile('[\\w./:]+[?]([\\w./:=&]+)')\n",
    "query = p.search(url).group(1).split('&')\n",
    "\n",
    "for i in range(len(query)):\n",
    "    print(f'{i+1}번째 쿼리 문자열 : {query[i]}')"
   ]
  },
  {
   "cell_type": "markdown",
   "id": "3142dd23",
   "metadata": {},
   "source": [
    "#### 7/15 - Q6.텍스트 파일(mydata.txt)을 읽고  파일의 내용에서 나타나는 문자들에 대해 자주 나타나는 문자들을 아래와 같이 순서대로 출력하세요.\n",
    "- \\[ \\] -> [177]회 나타남\n",
    "- [e] -> [97]회 나타남\n",
    "- [t] -> [85]회 나타남\n",
    "\n",
    "for문 사용?"
   ]
  },
  {
   "cell_type": "code",
   "execution_count": 7,
   "id": "b364a527",
   "metadata": {},
   "outputs": [
    {
     "data": {
      "text/html": [
       "<div>\n",
       "<style scoped>\n",
       "    .dataframe tbody tr th:only-of-type {\n",
       "        vertical-align: middle;\n",
       "    }\n",
       "\n",
       "    .dataframe tbody tr th {\n",
       "        vertical-align: top;\n",
       "    }\n",
       "\n",
       "    .dataframe thead th {\n",
       "        text-align: right;\n",
       "    }\n",
       "</style>\n",
       "<table border=\"1\" class=\"dataframe\">\n",
       "  <thead>\n",
       "    <tr style=\"text-align: right;\">\n",
       "      <th></th>\n",
       "      <th>a lot of things occur each day</th>\n",
       "    </tr>\n",
       "  </thead>\n",
       "  <tbody>\n",
       "    <tr>\n",
       "      <th>0</th>\n",
       "      <td>we've got to live with on our way</td>\n",
       "    </tr>\n",
       "    <tr>\n",
       "      <th>1</th>\n",
       "      <td>there's so much misery on the screen</td>\n",
       "    </tr>\n",
       "    <tr>\n",
       "      <th>2</th>\n",
       "      <td>with commercials in between</td>\n",
       "    </tr>\n",
       "    <tr>\n",
       "      <th>3</th>\n",
       "      <td>and the russians won't be so late</td>\n",
       "    </tr>\n",
       "    <tr>\n",
       "      <th>4</th>\n",
       "      <td>uncle sam don't want to wait</td>\n",
       "    </tr>\n",
       "    <tr>\n",
       "      <th>5</th>\n",
       "      <td>no matter if you're black or white</td>\n",
       "    </tr>\n",
       "    <tr>\n",
       "      <th>6</th>\n",
       "      <td>you never ever had a right</td>\n",
       "    </tr>\n",
       "    <tr>\n",
       "      <th>7</th>\n",
       "      <td>and look up to the eternal skies</td>\n",
       "    </tr>\n",
       "    <tr>\n",
       "      <th>8</th>\n",
       "      <td>see warfare even there</td>\n",
       "    </tr>\n",
       "    <tr>\n",
       "      <th>9</th>\n",
       "      <td>what once has been a paradise</td>\n",
       "    </tr>\n",
       "    <tr>\n",
       "      <th>10</th>\n",
       "      <td>now destruction and despair</td>\n",
       "    </tr>\n",
       "    <tr>\n",
       "      <th>11</th>\n",
       "      <td>in other worlds the children die</td>\n",
       "    </tr>\n",
       "    <tr>\n",
       "      <th>12</th>\n",
       "      <td>lacking food ill from a fly</td>\n",
       "    </tr>\n",
       "    <tr>\n",
       "      <th>13</th>\n",
       "      <td>oppressed by troops to tame their land</td>\n",
       "    </tr>\n",
       "    <tr>\n",
       "      <th>14</th>\n",
       "      <td>it's all the same again</td>\n",
       "    </tr>\n",
       "    <tr>\n",
       "      <th>15</th>\n",
       "      <td>if any man is free on earth</td>\n",
       "    </tr>\n",
       "    <tr>\n",
       "      <th>16</th>\n",
       "      <td>then tormentors steal his birth</td>\n",
       "    </tr>\n",
       "    <tr>\n",
       "      <th>17</th>\n",
       "      <td>they slam gun butts in his face</td>\n",
       "    </tr>\n",
       "    <tr>\n",
       "      <th>18</th>\n",
       "      <td>and leave his woman choked in mace</td>\n",
       "    </tr>\n",
       "    <tr>\n",
       "      <th>19</th>\n",
       "      <td>so stand up for our human rights</td>\n",
       "    </tr>\n",
       "    <tr>\n",
       "      <th>20</th>\n",
       "      <td>push back this pest of hate</td>\n",
       "    </tr>\n",
       "    <tr>\n",
       "      <th>21</th>\n",
       "      <td>raise you voice pass on the light</td>\n",
       "    </tr>\n",
       "    <tr>\n",
       "      <th>22</th>\n",
       "      <td>unite! it's not too late</td>\n",
       "    </tr>\n",
       "    <tr>\n",
       "      <th>23</th>\n",
       "      <td>how many tears flow away</td>\n",
       "    </tr>\n",
       "    <tr>\n",
       "      <th>24</th>\n",
       "      <td>to become a sea of fears</td>\n",
       "    </tr>\n",
       "    <tr>\n",
       "      <th>25</th>\n",
       "      <td>how many hearts are torn apart</td>\n",
       "    </tr>\n",
       "    <tr>\n",
       "      <th>26</th>\n",
       "      <td>till another torment starts</td>\n",
       "    </tr>\n",
       "    <tr>\n",
       "      <th>27</th>\n",
       "      <td>but before the world</td>\n",
       "    </tr>\n",
       "    <tr>\n",
       "      <th>28</th>\n",
       "      <td>turns into a sun</td>\n",
       "    </tr>\n",
       "    <tr>\n",
       "      <th>29</th>\n",
       "      <td>all cruelty and violence</td>\n",
       "    </tr>\n",
       "    <tr>\n",
       "      <th>30</th>\n",
       "      <td>on earth will be dead and gone</td>\n",
       "    </tr>\n",
       "    <tr>\n",
       "      <th>31</th>\n",
       "      <td>so stand up for our human rights</td>\n",
       "    </tr>\n",
       "    <tr>\n",
       "      <th>32</th>\n",
       "      <td>push back this pest of hate</td>\n",
       "    </tr>\n",
       "    <tr>\n",
       "      <th>33</th>\n",
       "      <td>raise you voice pass on the light</td>\n",
       "    </tr>\n",
       "    <tr>\n",
       "      <th>34</th>\n",
       "      <td>unite! it's not too late</td>\n",
       "    </tr>\n",
       "  </tbody>\n",
       "</table>\n",
       "</div>"
      ],
      "text/plain": [
       "            a lot of things occur each day\n",
       "0        we've got to live with on our way\n",
       "1     there's so much misery on the screen\n",
       "2              with commercials in between\n",
       "3        and the russians won't be so late\n",
       "4             uncle sam don't want to wait\n",
       "5       no matter if you're black or white\n",
       "6               you never ever had a right\n",
       "7         and look up to the eternal skies\n",
       "8                   see warfare even there\n",
       "9            what once has been a paradise\n",
       "10             now destruction and despair\n",
       "11        in other worlds the children die\n",
       "12             lacking food ill from a fly\n",
       "13  oppressed by troops to tame their land\n",
       "14                 it's all the same again\n",
       "15             if any man is free on earth\n",
       "16         then tormentors steal his birth\n",
       "17         they slam gun butts in his face\n",
       "18      and leave his woman choked in mace\n",
       "19        so stand up for our human rights\n",
       "20             push back this pest of hate\n",
       "21       raise you voice pass on the light\n",
       "22                unite! it's not too late\n",
       "23                how many tears flow away\n",
       "24                to become a sea of fears\n",
       "25          how many hearts are torn apart\n",
       "26             till another torment starts\n",
       "27                    but before the world\n",
       "28                        turns into a sun\n",
       "29                all cruelty and violence\n",
       "30          on earth will be dead and gone\n",
       "31        so stand up for our human rights\n",
       "32             push back this pest of hate\n",
       "33       raise you voice pass on the light\n",
       "34                unite! it's not too late"
      ]
     },
     "execution_count": 7,
     "metadata": {},
     "output_type": "execute_result"
    }
   ],
   "source": [
    "import pandas as pd\n",
    "\n",
    "data = pd.read_table('mydata.txt')\n",
    "data"
   ]
  },
  {
   "cell_type": "code",
   "execution_count": 24,
   "id": "6a2ed36c",
   "metadata": {},
   "outputs": [
    {
     "name": "stdout",
     "output_type": "stream",
     "text": [
      "['a lot of things occur each day\\n', \"we've got to live with on our way\\n\", \"there's so much misery on the screen\\n\", 'with commercials in between\\n', '\\n', \"and the russians won't be so late\\n\", \"uncle sam don't want to wait\\n\", \"no matter if you're black or white\\n\", 'you never ever had a right\\n', '\\n', 'and look up to the eternal skies\\n', 'see warfare even there\\n', 'what once has been a paradise\\n', 'now destruction and despair\\n', '\\n', 'in other worlds the children die\\n', 'lacking food ill from a fly\\n', 'oppressed by troops to tame their land\\n', \"it's all the same again\\n\", '\\n', 'if any man is free on earth\\n', 'then tormentors steal his birth\\n', 'they slam gun butts in his face\\n', 'and leave his woman choked in mace\\n', '\\n', 'so stand up for our human rights\\n', 'push back this pest of hate\\n', 'raise you voice pass on the light\\n', \"unite! it's not too late\\n\", '\\n', 'how many tears flow away\\n', 'to become a sea of fears\\n', 'how many hearts are torn apart\\n', 'till another torment starts\\n', '\\n', 'but before the world\\n', 'turns into a sun\\n', 'all cruelty and violence\\n', 'on earth will be dead and gone\\n', '\\n', 'so stand up for our human rights\\n', 'push back this pest of hate\\n', 'raise you voice pass on the light\\n', \"unite! it's not too late\"]\n"
     ]
    }
   ],
   "source": [
    "file = open('./mydata.txt')\n",
    "\n",
    "lines = file.readlines()\n",
    "print(lines)"
   ]
  },
  {
   "cell_type": "code",
   "execution_count": 29,
   "id": "625e0d0d",
   "metadata": {
    "scrolled": true
   },
   "outputs": [],
   "source": [
    "lines = {}\n",
    "\n",
    "for i in file:\n",
    "    if i in dick2:\n",
    "        dick2[i] +=1\n",
    "    else:\n",
    "        dick2[i] = 0\n"
   ]
  },
  {
   "cell_type": "code",
   "execution_count": null,
   "id": "038001b4",
   "metadata": {},
   "outputs": [],
   "source": [
    "# 천천히 한번 다시 하고 안보고 해보깅"
   ]
  },
  {
   "cell_type": "code",
   "execution_count": 27,
   "id": "7a891235",
   "metadata": {},
   "outputs": [
    {
     "name": "stdout",
     "output_type": "stream",
     "text": [
      "[(' ', 177), ('e', 97), ('t', 85), ('a', 78), ('o', 73), ('n', 60), ('s', 60), ('r', 54), ('i', 50), ('h', 48), ('\\n', 43), ('l', 34), ('u', 27), ('d', 24), ('c', 23), ('w', 20), ('m', 20), ('f', 17), ('y', 15), ('p', 15), ('b', 13), ('g', 11), ('v', 9), (\"'\", 8), ('k', 7), ('!', 2)]\n",
      "[ ] - > [177]회 나타남\n",
      "[e] - > [97]회 나타남\n",
      "[t] - > [85]회 나타남\n",
      "[a] - > [78]회 나타남\n",
      "[o] - > [73]회 나타남\n",
      "[n] - > [60]회 나타남\n",
      "[s] - > [60]회 나타남\n",
      "[r] - > [54]회 나타남\n",
      "[i] - > [50]회 나타남\n",
      "[h] - > [48]회 나타남\n",
      "[l] - > [34]회 나타남\n",
      "[u] - > [27]회 나타남\n",
      "[d] - > [24]회 나타남\n",
      "[c] - > [23]회 나타남\n",
      "[w] - > [20]회 나타남\n",
      "[m] - > [20]회 나타남\n",
      "[f] - > [17]회 나타남\n",
      "[y] - > [15]회 나타남\n",
      "[p] - > [15]회 나타남\n",
      "[b] - > [13]회 나타남\n",
      "[g] - > [11]회 나타남\n",
      "[v] - > [9]회 나타남\n",
      "['] - > [8]회 나타남\n",
      "[k] - > [7]회 나타남\n",
      "[!] - > [2]회 나타남\n"
     ]
    }
   ],
   "source": [
    "def getTextFreq(filename):\n",
    "    with open(filename,'r') as f:\n",
    "        text = f.read()\n",
    "        fa = {}\n",
    "        for c in text:\n",
    "            if c in fa:\n",
    "                fa[c] += 1\n",
    "            else:\n",
    "                fa[c] = 1\n",
    "    return fa\n",
    "ret = getTextFreq('mydata.txt')\n",
    "ret = sorted(ret.items(),key=lambda x:x[1], reverse=True)\n",
    "print(ret)\n",
    "for c, freq in ret:\n",
    "    if c =='\\n':\n",
    "        continue\n",
    "    print('[%c] - > [%d]회 나타남' %(c,freq))"
   ]
  },
  {
   "cell_type": "markdown",
   "id": "c85facd1",
   "metadata": {},
   "source": [
    "#### 7/18 - Q7. 두개의 수를 입력한 후 두개의 수에 대한 사칙연산을 수행하세요.(0을 입력한 경우 다시 입력하도록 조치)"
   ]
  },
  {
   "cell_type": "code",
   "execution_count": null,
   "id": "9510ef0b",
   "metadata": {},
   "outputs": [],
   "source": [
    "# Cal4 클래스를 만들어서 작성"
   ]
  },
  {
   "cell_type": "code",
   "execution_count": null,
   "id": "0addf0f2",
   "metadata": {},
   "outputs": [],
   "source": []
  },
  {
   "cell_type": "markdown",
   "id": "9cb31847",
   "metadata": {},
   "source": [
    "#### 7/18  - Q8. Order 클래스를 상속받아 extraOrder 클래스에서 메소드 오버라이딩하여 출력 가격에 원이 추가되도록 출력하세요."
   ]
  },
  {
   "cell_type": "code",
   "execution_count": 31,
   "id": "5a20fbdb",
   "metadata": {},
   "outputs": [
    {
     "name": "stdout",
     "output_type": "stream",
     "text": [
      "1000\n"
     ]
    }
   ],
   "source": [
    "class Order: \n",
    "    def __init__(self, name): \n",
    "        self.customer = 0 \n",
    "        self.name = name \n",
    "    def order(self, price): \n",
    "        self.customer += price \n",
    "        return self.customer\n",
    "    \n",
    "order = Order('kevin')\n",
    "print(order.order(1000))"
   ]
  },
  {
   "cell_type": "code",
   "execution_count": null,
   "id": "9b9294fe",
   "metadata": {},
   "outputs": [],
   "source": []
  },
  {
   "cell_type": "markdown",
   "id": "1b59fe1a",
   "metadata": {},
   "source": [
    "#### 7/18 - Q9. 업무미팅이 2시임을 알려주는 자동 이메일을 클래스 AutoEmail을 작성하여 아래와 같이 출력하세요.\n",
    "\n",
    "안녕하세요. kevin님, 업무미팅은 2시입니다."
   ]
  },
  {
   "cell_type": "code",
   "execution_count": null,
   "id": "fc5ca28d",
   "metadata": {},
   "outputs": [],
   "source": []
  }
 ],
 "metadata": {
  "kernelspec": {
   "display_name": "Python 3 (ipykernel)",
   "language": "python",
   "name": "python3"
  },
  "language_info": {
   "codemirror_mode": {
    "name": "ipython",
    "version": 3
   },
   "file_extension": ".py",
   "mimetype": "text/x-python",
   "name": "python",
   "nbconvert_exporter": "python",
   "pygments_lexer": "ipython3",
   "version": "3.8.13"
  },
  "toc": {
   "base_numbering": 1,
   "nav_menu": {},
   "number_sections": false,
   "sideBar": true,
   "skip_h1_title": false,
   "title_cell": "Table of Contents",
   "title_sidebar": "Contents",
   "toc_cell": false,
   "toc_position": {},
   "toc_section_display": true,
   "toc_window_display": false
  }
 },
 "nbformat": 4,
 "nbformat_minor": 5
}
