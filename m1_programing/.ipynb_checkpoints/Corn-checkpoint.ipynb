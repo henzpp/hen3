{
 "cells": [
  {
   "cell_type": "markdown",
   "id": "888b79f1",
   "metadata": {},
   "source": [
    "### Corn_001_0829\n",
    "- 팩토리얼(!)은 다음과 같이 정의된다.\n",
    "- n!=n×(n−1)×(n−2)×⋯×2×1\n",
    "즉, 5!=5×4×3×2×1=120 이다.\n",
    "\n",
    "- n이 입력되면 n!의 값을 출력하시오.\n",
    "- 자연수 n이 입력된다. (n<=12)\n",
    "\n",
    "** 금지 키워드 : for  while goto"
   ]
  },
  {
   "cell_type": "markdown",
   "id": "9fe49072",
   "metadata": {},
   "source": [
    "** 입출력\n",
    "\n",
    "5를 입력하면 5*(5-1)*(5-2)*(5-3)*(5-4)\n",
    "return으로 도출 할것? 5x4x3x2x1\n",
    "\n",
    "5를 입력하면 1*(1+1)*(1+2)*(1+3)*(1+4)"
   ]
  },
  {
   "cell_type": "code",
   "execution_count": 25,
   "id": "145379ee",
   "metadata": {
    "scrolled": true
   },
   "outputs": [
    {
     "data": {
      "text/plain": [
       "20"
      ]
     },
     "execution_count": 25,
     "metadata": {},
     "output_type": "execute_result"
    }
   ],
   "source": [
    "def factorial(n):\n",
    "    if n<=12:\n",
    "        return n*(n-1)    \n",
    "    factorial(n-1)\n",
    "factorial(5)"
   ]
  },
  {
   "cell_type": "code",
   "execution_count": 33,
   "id": "47588846",
   "metadata": {},
   "outputs": [
    {
     "data": {
      "text/plain": [
       "12"
      ]
     },
     "execution_count": 33,
     "metadata": {},
     "output_type": "execute_result"
    }
   ],
   "source": [
    "def factorial(n):\n",
    "    n -= 1\n",
    "    if n <= 12:\n",
    "        return (n*(n-1))\n",
    "    factorial(n)\n",
    "factorial(5)"
   ]
  },
  {
   "cell_type": "markdown",
   "id": "808f9189",
   "metadata": {},
   "source": [
    "#### 답"
   ]
  },
  {
   "cell_type": "code",
   "execution_count": 46,
   "id": "879b7669",
   "metadata": {},
   "outputs": [
    {
     "data": {
      "text/plain": [
       "120"
      ]
     },
     "execution_count": 46,
     "metadata": {},
     "output_type": "execute_result"
    }
   ],
   "source": [
    "def factorial(n):\n",
    "    if n==1:\n",
    "        return 1\n",
    "    else:\n",
    "        return n*factorial(n-1)\n",
    "factorial(5)"
   ]
  },
  {
   "cell_type": "markdown",
   "id": "0de82d0c",
   "metadata": {},
   "source": [
    "## Corn_002_0829\n",
    "\n",
    "- 정수 n부터 1까지 출력하는 재귀함수를 설계하시오.\n",
    "\n",
    "** 금지 키워드 : for while goto"
   ]
  },
  {
   "cell_type": "code",
   "execution_count": 53,
   "id": "ea98ead2",
   "metadata": {},
   "outputs": [
    {
     "name": "stdout",
     "output_type": "stream",
     "text": [
      "10\n",
      "9\n",
      "8\n",
      "7\n",
      "6\n",
      "5\n",
      "4\n",
      "3\n",
      "2\n",
      "1\n"
     ]
    }
   ],
   "source": [
    "def function(n):\n",
    "    if n == 0:\n",
    "        return 0\n",
    "    else:\n",
    "        print(n)\n",
    "        function(n-1)\n",
    "function(10)"
   ]
  },
  {
   "cell_type": "markdown",
   "id": "2ef6e5b4",
   "metadata": {},
   "source": [
    "## Corn_003_0829\n",
    "- 피보나치 수열이란 앞의 두 수를 더하여 나오는 수열이다.\n",
    "\n",
    "- 첫 번째 수와 두 번째 수는 모두 1이고, 세 번째 수부터는 이전의 두 수를 더하여 나타낸다. 피보나치 수열을 나열해 보면 다음과 같다.\n",
    "\n",
    " \n",
    "\n",
    "[1, 1, 2, 3, 5, 8, 13 …]\n",
    "\n",
    " \n",
    "\n",
    "- 자연수 N을 입력받아 N번째 피보나치 수를 출력하는 프로그램을 작성하시오.\n",
    "- 7을 입력하면 13"
   ]
  },
  {
   "cell_type": "code",
   "execution_count": null,
   "id": "b49b8adb",
   "metadata": {},
   "outputs": [],
   "source": [
    "def fibo(n):\n",
    "    if n==0:\n",
    "        return 0\n",
    "    else:\n",
    "        n+(n+1)"
   ]
  },
  {
   "cell_type": "code",
   "execution_count": 54,
   "id": "1a214548",
   "metadata": {},
   "outputs": [
    {
     "data": {
      "text/plain": [
       "13"
      ]
     },
     "execution_count": 54,
     "metadata": {},
     "output_type": "execute_result"
    }
   ],
   "source": [
    "def fibo(n):\n",
    "    if n==1 or n==2:\n",
    "        return 1\n",
    "    else:\n",
    "        return fibo(n-1)+fibo(n-2)\n",
    "fibo(7)\n"
   ]
  },
  {
   "cell_type": "markdown",
   "id": "4bcf66dd",
   "metadata": {},
   "source": [
    "```\n",
    "fibo(6)+fibo(5)\n",
    "다시 올라감\n",
    "1이나 2가 아닌 6이므로\n",
    "다시\n",
    "fibo(5)+fibo(4)\n",
    "\n",
    "```"
   ]
  },
  {
   "cell_type": "code",
   "execution_count": null,
   "id": "1e9f3696",
   "metadata": {},
   "outputs": [],
   "source": []
  }
 ],
 "metadata": {
  "kernelspec": {
   "display_name": "Python 3 (ipykernel)",
   "language": "python",
   "name": "python3"
  },
  "language_info": {
   "codemirror_mode": {
    "name": "ipython",
    "version": 3
   },
   "file_extension": ".py",
   "mimetype": "text/x-python",
   "name": "python",
   "nbconvert_exporter": "python",
   "pygments_lexer": "ipython3",
   "version": "3.8.13"
  },
  "toc": {
   "base_numbering": 1,
   "nav_menu": {},
   "number_sections": false,
   "sideBar": true,
   "skip_h1_title": false,
   "title_cell": "Table of Contents",
   "title_sidebar": "Contents",
   "toc_cell": false,
   "toc_position": {},
   "toc_section_display": true,
   "toc_window_display": false
  }
 },
 "nbformat": 4,
 "nbformat_minor": 5
}
