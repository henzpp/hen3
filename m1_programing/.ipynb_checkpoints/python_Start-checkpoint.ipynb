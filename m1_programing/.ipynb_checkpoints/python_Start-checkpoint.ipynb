{
 "cells": [
  {
   "cell_type": "markdown",
   "id": "fdab4489-1466-45c8-9818-7d0e19f3992b",
   "metadata": {
    "tags": []
   },
   "source": [
    "# 나의 첫 파이썬 코드"
   ]
  },
  {
   "cell_type": "code",
   "execution_count": 4,
   "id": "55883915-f4e7-4da9-9b37-7df009fd0ac4",
   "metadata": {},
   "outputs": [
    {
     "name": "stdout",
     "output_type": "stream",
     "text": [
      "2\n",
      "0\n",
      "1\n",
      "1.0\n"
     ]
    }
   ],
   "source": [
    "print(1+1)\n",
    "print(1-1)\n",
    "print(1*1)\n",
    "print(1/1)"
   ]
  },
  {
   "cell_type": "code",
   "execution_count": 8,
   "id": "0fe26a85-e09d-418a-95b6-62ca43197207",
   "metadata": {},
   "outputs": [
    {
     "name": "stdout",
     "output_type": "stream",
     "text": [
      "1024\n",
      "8\n",
      "1\n"
     ]
    }
   ],
   "source": [
    "print(2**10)\n",
    "print(17//2) #몫\n",
    "print(17%2) #나머지"
   ]
  },
  {
   "cell_type": "code",
   "execution_count": 9,
   "id": "44c1c9b6-aca2-4395-ac7e-b6bee48608cb",
   "metadata": {},
   "outputs": [
    {
     "name": "stdout",
     "output_type": "stream",
     "text": [
      "2\n"
     ]
    }
   ],
   "source": [
    "print(17%5)"
   ]
  },
  {
   "cell_type": "markdown",
   "id": "833102c8-fb99-4480-af87-0b5b50b92954",
   "metadata": {},
   "source": [
    "# 데이터 타입\n",
    "- 숫자형 : 정수 int  integer\n",
    "             실수 float\n",
    "- 문자형 : str  string char character\n",
    "- 참거짓형 : boo  boolean"
   ]
  },
  {
   "cell_type": "code",
   "execution_count": 11,
   "id": "1b6fe2c2-cbc1-419c-b817-68c83b3d7ab3",
   "metadata": {},
   "outputs": [
    {
     "data": {
      "text/plain": [
       "int"
      ]
     },
     "execution_count": 11,
     "metadata": {},
     "output_type": "execute_result"
    }
   ],
   "source": [
    "type(3)"
   ]
  },
  {
   "cell_type": "code",
   "execution_count": 12,
   "id": "f33d06f0-da77-44a2-aa46-2c05ccffbe1b",
   "metadata": {},
   "outputs": [
    {
     "data": {
      "text/plain": [
       "int"
      ]
     },
     "execution_count": 12,
     "metadata": {},
     "output_type": "execute_result"
    }
   ],
   "source": [
    "a = 3\n",
    "type(a)"
   ]
  },
  {
   "cell_type": "code",
   "execution_count": 13,
   "id": "12f9b6ba-291d-4898-acff-c8067b7320bc",
   "metadata": {},
   "outputs": [
    {
     "data": {
      "text/plain": [
       "float"
      ]
     },
     "execution_count": 13,
     "metadata": {},
     "output_type": "execute_result"
    }
   ],
   "source": [
    "a = 3.0\n",
    "type(a)"
   ]
  },
  {
   "cell_type": "code",
   "execution_count": 14,
   "id": "5dfd86a7-74f7-4c07-b204-8ac1a9488163",
   "metadata": {},
   "outputs": [
    {
     "data": {
      "text/plain": [
       "str"
      ]
     },
     "execution_count": 14,
     "metadata": {},
     "output_type": "execute_result"
    }
   ],
   "source": [
    "a = \"Hello\"\n",
    "type(a)"
   ]
  },
  {
   "cell_type": "code",
   "execution_count": 15,
   "id": "d0e11745-b510-496c-afe4-4a56116f9766",
   "metadata": {},
   "outputs": [
    {
     "data": {
      "text/plain": [
       "str"
      ]
     },
     "execution_count": 15,
     "metadata": {},
     "output_type": "execute_result"
    }
   ],
   "source": [
    "a = 'Hello'\n",
    "type(a)"
   ]
  },
  {
   "cell_type": "code",
   "execution_count": 16,
   "id": "e2f36fbe-946a-4ea7-86a4-e663dcf2ba44",
   "metadata": {},
   "outputs": [
    {
     "data": {
      "text/plain": [
       "bool"
      ]
     },
     "execution_count": 16,
     "metadata": {},
     "output_type": "execute_result"
    }
   ],
   "source": [
    "a = True\n",
    "type(a)"
   ]
  },
  {
   "cell_type": "markdown",
   "id": "8ce58c9c-ccb5-42a2-ac68-17f9f2fd5512",
   "metadata": {
    "tags": []
   },
   "source": [
    "## 숫자형"
   ]
  },
  {
   "cell_type": "markdown",
   "id": "4c7b7581-8826-4ced-9ca4-928ce27cddc2",
   "metadata": {},
   "source": [
    "### 숫자의 연산\n",
    "- 거듭제곱\n",
    "- 몫과 나머지\n",
    "- 지수, 로그\n",
    "- 삼각함수\n",
    "- 파이값\n",
    "- 반올림"
   ]
  },
  {
   "cell_type": "code",
   "execution_count": null,
   "id": "8e95198f-e13f-4960-9c3a-e9169183087e",
   "metadata": {},
   "outputs": [],
   "source": [
    "# round 반올림  shift + tab 도움말"
   ]
  },
  {
   "cell_type": "code",
   "execution_count": 62,
   "id": "39696b82-0edd-4ce9-b45a-bf942c17906c",
   "metadata": {},
   "outputs": [
    {
     "data": {
      "text/plain": [
       "3"
      ]
     },
     "execution_count": 62,
     "metadata": {},
     "output_type": "execute_result"
    }
   ],
   "source": [
    "round(3.14)"
   ]
  },
  {
   "cell_type": "code",
   "execution_count": 63,
   "id": "49cc3e20-6d55-4a20-a708-285591c5d216",
   "metadata": {},
   "outputs": [
    {
     "data": {
      "text/plain": [
       "3.1"
      ]
     },
     "execution_count": 63,
     "metadata": {},
     "output_type": "execute_result"
    }
   ],
   "source": [
    "round(3.14, 1) # 소숫점 이하 자리 수 1"
   ]
  },
  {
   "cell_type": "code",
   "execution_count": 64,
   "id": "675be2a5-6ae6-4f0a-81ad-dde0808a35e8",
   "metadata": {},
   "outputs": [
    {
     "data": {
      "text/plain": [
       "3.14"
      ]
     },
     "execution_count": 64,
     "metadata": {},
     "output_type": "execute_result"
    }
   ],
   "source": [
    "round(3.14, 2) # 소숫점 이하 자리 수 2"
   ]
  },
  {
   "cell_type": "code",
   "execution_count": 65,
   "id": "39ec65ab-a726-4786-898f-93e9663d433a",
   "metadata": {},
   "outputs": [
    {
     "data": {
      "text/plain": [
       "3.15"
      ]
     },
     "execution_count": 65,
     "metadata": {},
     "output_type": "execute_result"
    }
   ],
   "source": [
    "round(3.145, 2)"
   ]
  },
  {
   "cell_type": "code",
   "execution_count": 66,
   "id": "fc5276ae-f674-4050-8e72-e2a312e6da06",
   "metadata": {},
   "outputs": [
    {
     "name": "stdout",
     "output_type": "stream",
     "text": [
      "3\n",
      "3.1\n",
      "3.14\n",
      "3.15\n"
     ]
    }
   ],
   "source": [
    "print(round(3.14))\n",
    "print(round(3.14, 1))\n",
    "print(round(3.14, 2))\n",
    "print(round(3.145, 2))"
   ]
  },
  {
   "cell_type": "code",
   "execution_count": 67,
   "id": "4845bb0c-f889-4644-83e2-47bb9a3aa5c9",
   "metadata": {},
   "outputs": [
    {
     "data": {
      "text/plain": [
       "4"
      ]
     },
     "execution_count": 67,
     "metadata": {},
     "output_type": "execute_result"
    }
   ],
   "source": [
    "import math\n",
    "math.ceil(3.14) # ceil 올림"
   ]
  },
  {
   "cell_type": "code",
   "execution_count": 68,
   "id": "eccc5279-9519-46a6-b85f-065177715ae1",
   "metadata": {},
   "outputs": [
    {
     "data": {
      "text/plain": [
       "3"
      ]
     },
     "execution_count": 68,
     "metadata": {},
     "output_type": "execute_result"
    }
   ],
   "source": [
    "math.floor(3.14) # floor 내림"
   ]
  },
  {
   "cell_type": "code",
   "execution_count": 20,
   "id": "49b83de4-2a3d-4cc1-aca0-e990c91321f4",
   "metadata": {},
   "outputs": [
    {
     "ename": "NameError",
     "evalue": "name 'pi' is not defined",
     "output_type": "error",
     "traceback": [
      "\u001b[1;31m---------------------------------------------------------------------------\u001b[0m",
      "\u001b[1;31mNameError\u001b[0m                                 Traceback (most recent call last)",
      "Input \u001b[1;32mIn [20]\u001b[0m, in \u001b[0;36m<cell line: 1>\u001b[1;34m()\u001b[0m\n\u001b[1;32m----> 1\u001b[0m \u001b[38;5;28mprint\u001b[39m(\u001b[43mpi\u001b[49m)\n",
      "\u001b[1;31mNameError\u001b[0m: name 'pi' is not defined"
     ]
    }
   ],
   "source": [
    "print(pi)"
   ]
  },
  {
   "cell_type": "markdown",
   "id": "fbfe8dd1-8802-4f84-a9a2-5ab26e7e9392",
   "metadata": {},
   "source": [
    "### import  "
   ]
  },
  {
   "cell_type": "code",
   "execution_count": 21,
   "id": "5eb223da-085a-44e3-ae00-b29bc40d543b",
   "metadata": {},
   "outputs": [],
   "source": [
    "import math"
   ]
  },
  {
   "cell_type": "code",
   "execution_count": 22,
   "id": "0d68611f-f360-4906-9219-c41513c8fcda",
   "metadata": {},
   "outputs": [
    {
     "name": "stdout",
     "output_type": "stream",
     "text": [
      "3.141592653589793\n"
     ]
    }
   ],
   "source": [
    "print(math.pi)"
   ]
  },
  {
   "cell_type": "code",
   "execution_count": 23,
   "id": "8cd9852f-02a8-4c72-b933-53f4c87c0a92",
   "metadata": {},
   "outputs": [
    {
     "ename": "NameError",
     "evalue": "name 'factorial' is not defined",
     "output_type": "error",
     "traceback": [
      "\u001b[1;31m---------------------------------------------------------------------------\u001b[0m",
      "\u001b[1;31mNameError\u001b[0m                                 Traceback (most recent call last)",
      "Input \u001b[1;32mIn [23]\u001b[0m, in \u001b[0;36m<cell line: 1>\u001b[1;34m()\u001b[0m\n\u001b[1;32m----> 1\u001b[0m \u001b[43mfactorial\u001b[49m(\u001b[38;5;241m5\u001b[39m)\n",
      "\u001b[1;31mNameError\u001b[0m: name 'factorial' is not defined"
     ]
    }
   ],
   "source": [
    "factorial(5)"
   ]
  },
  {
   "cell_type": "code",
   "execution_count": 24,
   "id": "fdb797b1-6f0d-4698-8bed-c84a5e1e81b3",
   "metadata": {},
   "outputs": [
    {
     "data": {
      "text/plain": [
       "120"
      ]
     },
     "execution_count": 24,
     "metadata": {},
     "output_type": "execute_result"
    }
   ],
   "source": [
    "math.factorial(5)"
   ]
  },
  {
   "cell_type": "code",
   "execution_count": null,
   "id": "656ce58a-dba2-41d0-8d4e-fa07df9b24a9",
   "metadata": {},
   "outputs": [],
   "source": [
    "# sin(90도) 의 값은? 90도는 2분의 파이"
   ]
  },
  {
   "cell_type": "code",
   "execution_count": 25,
   "id": "27f3d703-c51e-4017-b250-d263c738f223",
   "metadata": {},
   "outputs": [
    {
     "data": {
      "text/plain": [
       "0.8939966636005579"
      ]
     },
     "execution_count": 25,
     "metadata": {},
     "output_type": "execute_result"
    }
   ],
   "source": [
    "math.sin(90)"
   ]
  },
  {
   "cell_type": "code",
   "execution_count": 27,
   "id": "aa6426fd-31be-4c1d-97fe-92225a71708e",
   "metadata": {},
   "outputs": [
    {
     "data": {
      "text/plain": [
       "1.0"
      ]
     },
     "execution_count": 27,
     "metadata": {},
     "output_type": "execute_result"
    }
   ],
   "source": [
    "math.sin(math.pi/2)"
   ]
  },
  {
   "cell_type": "code",
   "execution_count": 28,
   "id": "9979e1b6-797a-4f86-81dd-8c83deaf04c2",
   "metadata": {},
   "outputs": [],
   "source": [
    "import numpy"
   ]
  },
  {
   "cell_type": "code",
   "execution_count": 29,
   "id": "6e5dc2c5-1fff-41ed-bb52-0aced12fd2ba",
   "metadata": {},
   "outputs": [
    {
     "data": {
      "text/plain": [
       "3.141592653589793"
      ]
     },
     "execution_count": 29,
     "metadata": {},
     "output_type": "execute_result"
    }
   ],
   "source": [
    "numpy.pi"
   ]
  },
  {
   "cell_type": "code",
   "execution_count": 32,
   "id": "737492a2-e7a3-42f9-b6e7-07fe351b03b7",
   "metadata": {},
   "outputs": [],
   "source": [
    "import numpy as np"
   ]
  },
  {
   "cell_type": "code",
   "execution_count": 33,
   "id": "62800ccd-638d-4c19-ae0b-599e9524c024",
   "metadata": {},
   "outputs": [
    {
     "data": {
      "text/plain": [
       "3.141592653589793"
      ]
     },
     "execution_count": 33,
     "metadata": {},
     "output_type": "execute_result"
    }
   ],
   "source": [
    "np.pi"
   ]
  },
  {
   "cell_type": "code",
   "execution_count": 34,
   "id": "b6253e12-1a67-4ada-967e-a1423f0ff7b7",
   "metadata": {},
   "outputs": [
    {
     "data": {
      "text/plain": [
       "2.0"
      ]
     },
     "execution_count": 34,
     "metadata": {},
     "output_type": "execute_result"
    }
   ],
   "source": [
    "math.sqrt(4)"
   ]
  },
  {
   "cell_type": "code",
   "execution_count": 35,
   "id": "edd39d3e-35ba-4822-958b-0a6a8845d1a0",
   "metadata": {},
   "outputs": [],
   "source": [
    "import math as m"
   ]
  },
  {
   "cell_type": "code",
   "execution_count": 36,
   "id": "951919b9-7bd4-4610-a783-6b3e98dcbb54",
   "metadata": {},
   "outputs": [
    {
     "data": {
      "text/plain": [
       "2.0"
      ]
     },
     "execution_count": 36,
     "metadata": {},
     "output_type": "execute_result"
    }
   ],
   "source": [
    "m.sqrt(4)"
   ]
  },
  {
   "cell_type": "code",
   "execution_count": 37,
   "id": "846ac16b-a8d4-48b1-983c-ab9940d1f618",
   "metadata": {},
   "outputs": [],
   "source": [
    "from math import sqrt"
   ]
  },
  {
   "cell_type": "code",
   "execution_count": 38,
   "id": "48b5012d-7bcc-486f-bb0f-c49dc8f41214",
   "metadata": {},
   "outputs": [
    {
     "data": {
      "text/plain": [
       "2.0"
      ]
     },
     "execution_count": 38,
     "metadata": {},
     "output_type": "execute_result"
    }
   ],
   "source": [
    "sqrt(4)"
   ]
  },
  {
   "cell_type": "code",
   "execution_count": null,
   "id": "83b6d079-7231-4d0e-a5af-01bbe60bda9f",
   "metadata": {},
   "outputs": [],
   "source": [
    "# sin(pi/2) 의 답이 1이 나오도록 import 해주세요."
   ]
  },
  {
   "cell_type": "code",
   "execution_count": 39,
   "id": "173c513a-b1e4-45c8-889d-804c402f9685",
   "metadata": {},
   "outputs": [
    {
     "ename": "NameError",
     "evalue": "name 'pi' is not defined",
     "output_type": "error",
     "traceback": [
      "\u001b[1;31m---------------------------------------------------------------------------\u001b[0m",
      "\u001b[1;31mNameError\u001b[0m                                 Traceback (most recent call last)",
      "Input \u001b[1;32mIn [39]\u001b[0m, in \u001b[0;36m<cell line: 1>\u001b[1;34m()\u001b[0m\n\u001b[1;32m----> 1\u001b[0m m\u001b[38;5;241m.\u001b[39msin(\u001b[43mpi\u001b[49m\u001b[38;5;241m/\u001b[39m\u001b[38;5;241m2\u001b[39m)\n",
      "\u001b[1;31mNameError\u001b[0m: name 'pi' is not defined"
     ]
    }
   ],
   "source": [
    "m.sin(pi/2)"
   ]
  },
  {
   "cell_type": "code",
   "execution_count": 43,
   "id": "9ab78d60-31ec-4689-b28e-02528cf72fc0",
   "metadata": {},
   "outputs": [
    {
     "data": {
      "text/plain": [
       "1.0"
      ]
     },
     "execution_count": 43,
     "metadata": {},
     "output_type": "execute_result"
    }
   ],
   "source": [
    "from math import sin, pi\n",
    "sin(pi/2)"
   ]
  },
  {
   "cell_type": "code",
   "execution_count": 44,
   "id": "d38c083a-4af2-48ce-a93f-029761cb3de7",
   "metadata": {},
   "outputs": [],
   "source": [
    "import matplotlib.pyplot as plt\n",
    "import numpy as np"
   ]
  },
  {
   "cell_type": "code",
   "execution_count": null,
   "id": "776de039-405d-4edf-9033-a91a0c18f6de",
   "metadata": {},
   "outputs": [],
   "source": [
    "#linspace 간격 똑같이 쪼개기"
   ]
  },
  {
   "cell_type": "code",
   "execution_count": 47,
   "id": "e16781ed-7627-4c66-aa1f-bcbd2c0a8c57",
   "metadata": {},
   "outputs": [
    {
     "data": {
      "text/plain": [
       "array([0.        , 0.6981317 , 1.3962634 , 2.0943951 , 2.7925268 ,\n",
       "       3.4906585 , 4.1887902 , 4.88692191, 5.58505361, 6.28318531])"
      ]
     },
     "execution_count": 47,
     "metadata": {},
     "output_type": "execute_result"
    }
   ],
   "source": [
    "np.linspace(0, 2*np.pi, 10) "
   ]
  },
  {
   "cell_type": "code",
   "execution_count": 48,
   "id": "0b1ab3b9-db8b-402b-bd2b-051c78ddfcc2",
   "metadata": {},
   "outputs": [],
   "source": [
    "x = np.linspace(0, 2*np.pi, 10)"
   ]
  },
  {
   "cell_type": "code",
   "execution_count": 49,
   "id": "19f8b32c-7de5-430f-a5a7-1548bb7a3c6f",
   "metadata": {},
   "outputs": [
    {
     "data": {
      "text/plain": [
       "array([0.        , 0.83554276, 1.1816359 , 1.44720251, 1.67108552,\n",
       "       1.86833041, 2.04665342, 2.21063835, 2.3632718 , 2.50662827])"
      ]
     },
     "execution_count": 49,
     "metadata": {},
     "output_type": "execute_result"
    }
   ],
   "source": [
    "np.sqrt(x) #sqrt 루트"
   ]
  },
  {
   "cell_type": "code",
   "execution_count": 50,
   "id": "3a6b99be-3868-49c3-ba0d-0597965f5b24",
   "metadata": {},
   "outputs": [
    {
     "data": {
      "text/plain": [
       "array([ 0.00000000e+00,  6.42787610e-01,  9.84807753e-01,  8.66025404e-01,\n",
       "        3.42020143e-01, -3.42020143e-01, -8.66025404e-01, -9.84807753e-01,\n",
       "       -6.42787610e-01, -2.44929360e-16])"
      ]
     },
     "execution_count": 50,
     "metadata": {},
     "output_type": "execute_result"
    }
   ],
   "source": [
    "np.sin(x)"
   ]
  },
  {
   "cell_type": "code",
   "execution_count": 51,
   "id": "916de8f1-ae4b-4d4a-9686-1a2ca76cf7c3",
   "metadata": {},
   "outputs": [
    {
     "data": {
      "text/plain": [
       "[<matplotlib.lines.Line2D at 0x236b7234d30>]"
      ]
     },
     "execution_count": 51,
     "metadata": {},
     "output_type": "execute_result"
    },
    {
     "data": {
      "image/png": "[encoded data removed]",
      "text/plain": [
       "<Figure size 432x288 with 1 Axes>"
      ]
     },
     "metadata": {
      "needs_background": "light"
     },
     "output_type": "display_data"
    }
   ],
   "source": [
    "y = np.sin(x)\n",
    "plt.plot(x, y)"
   ]
  },
  {
   "cell_type": "code",
   "execution_count": 52,
   "id": "3c4421e9-87c0-4532-a5a9-cc026b9e9f20",
   "metadata": {},
   "outputs": [
    {
     "data": {
      "text/plain": [
       "[<matplotlib.lines.Line2D at 0x236b75c7b50>]"
      ]
     },
     "execution_count": 52,
     "metadata": {},
     "output_type": "execute_result"
    },
    {
     "data": {
      "image/png": "[encoded data removed]",
      "text/plain": [
       "<Figure size 432x288 with 1 Axes>"
      ]
     },
     "metadata": {
      "needs_background": "light"
     },
     "output_type": "display_data"
    }
   ],
   "source": [
    "x = np.linspace(0, 2*np.pi, 100)\n",
    "plt.plot(x, np.sin(x))"
   ]
  },
  {
   "cell_type": "code",
   "execution_count": null,
   "id": "c00c932c-f5a8-440a-b90b-a9de0a7775a0",
   "metadata": {},
   "outputs": [],
   "source": [
    "# 0부터 2pi 까지 cos의 그래프를 그려주세요."
   ]
  },
  {
   "cell_type": "code",
   "execution_count": 57,
   "id": "a54a550d-f497-42d8-bb6d-fc510cd6cbe8",
   "metadata": {},
   "outputs": [
    {
     "data": {
      "text/plain": [
       "[<matplotlib.lines.Line2D at 0x236b7e89d90>]"
      ]
     },
     "execution_count": 57,
     "metadata": {},
     "output_type": "execute_result"
    },
    {
     "data": {
      "image/png": "[encoded data removed]",
      "text/plain": [
       "<Figure size 432x288 with 1 Axes>"
      ]
     },
     "metadata": {
      "needs_background": "light"
     },
     "output_type": "display_data"
    }
   ],
   "source": [
    "x = np.linspace(0, 2*np.pi, 100)\n",
    "plt.plot(x, np.sin(x))\n",
    "plt.plot(x, np.cos(x))"
   ]
  },
  {
   "cell_type": "code",
   "execution_count": 60,
   "id": "8ff800af-67fb-48e4-aae7-81690ff852aa",
   "metadata": {},
   "outputs": [],
   "source": [
    "plt.style.use(\"ggplot\")"
   ]
  },
  {
   "cell_type": "code",
   "execution_count": 61,
   "id": "5de6bd64-5ecd-4d4c-913f-1fd7d335d004",
   "metadata": {},
   "outputs": [
    {
     "data": {
      "text/plain": [
       "[<matplotlib.lines.Line2D at 0x236b8ebfc70>]"
      ]
     },
     "execution_count": 61,
     "metadata": {},
     "output_type": "execute_result"
    },
    {
     "data": {
      "image/png": "[encoded data removed]",
      "text/plain": [
       "<Figure size 432x288 with 1 Axes>"
      ]
     },
     "metadata": {},
     "output_type": "display_data"
    }
   ],
   "source": [
    "x = np.linspace(0, 2*np.pi, 100)\n",
    "plt.plot(x, np.sin(x))\n",
    "plt.plot(x, np.cos(x))"
   ]
  },
  {
   "cell_type": "markdown",
   "id": "e1c16526-4004-4cda-97ad-e8ac46b3cee3",
   "metadata": {},
   "source": [
    "## 문자형"
   ]
  },
  {
   "cell_type": "code",
   "execution_count": 69,
   "id": "20819214-6846-4c59-a6b8-bef256086909",
   "metadata": {},
   "outputs": [
    {
     "name": "stdout",
     "output_type": "stream",
     "text": [
      "Hello\n"
     ]
    }
   ],
   "source": [
    "a = \"Hello\"\n",
    "print(a)"
   ]
  },
  {
   "cell_type": "code",
   "execution_count": null,
   "id": "2cbdacca-b6a8-41e0-aba0-fb3723310250",
   "metadata": {},
   "outputs": [],
   "source": [
    "# 그녀는 나에게 \"사랑해요\"라고 말했다.\n",
    "# ''' ''' 여러줄로 띄어서 사용 가능"
   ]
  },
  {
   "cell_type": "code",
   "execution_count": 71,
   "id": "fd90329b-ab15-4cd2-8ea0-500aa4ccc133",
   "metadata": {},
   "outputs": [
    {
     "name": "stdout",
     "output_type": "stream",
     "text": [
      "\n",
      "우리나라 대한민국 \n",
      "무궁화 삼천리\n",
      "\n"
     ]
    }
   ],
   "source": [
    "a = '''     \n",
    "우리나라 대한민국 \n",
    "무궁화 삼천리\n",
    "'''\n",
    "print(a)"
   ]
  },
  {
   "cell_type": "code",
   "execution_count": 73,
   "id": "e1d6df43-6736-4577-a320-4a3227bd9197",
   "metadata": {},
   "outputs": [
    {
     "name": "stdout",
     "output_type": "stream",
     "text": [
      " 우리나라 대한민국 \n",
      " 무궁화 삼천리 \n"
     ]
    }
   ],
   "source": [
    "a = ' 우리나라 대한민국 \\n 무궁화 삼천리 '\n",
    "print(a)"
   ]
  },
  {
   "cell_type": "code",
   "execution_count": 74,
   "id": "5b1aa91a-e667-42d6-bc2e-cd7f00328359",
   "metadata": {},
   "outputs": [
    {
     "name": "stdout",
     "output_type": "stream",
     "text": [
      "그녀는 나에게 \"사랑해요.\"라고 말했다.\n"
     ]
    }
   ],
   "source": [
    "print(\"그녀는 나에게 \\\"사랑해요.\\\"라고 말했다.\")"
   ]
  },
  {
   "cell_type": "code",
   "execution_count": null,
   "id": "055a2df8-215f-4fd0-8a62-4ff733c335d8",
   "metadata": {},
   "outputs": [],
   "source": [
    "# 따옴표 안의 역슬래시는 이스케이프 합니다.\n",
    "# \\n : 줄바꿈\n",
    "# \\t : 탭 tab 만큼 칸을 띄워줌"
   ]
  },
  {
   "cell_type": "code",
   "execution_count": 75,
   "id": "cf8022ea-ef75-4f2e-8e39-32b070a64654",
   "metadata": {},
   "outputs": [
    {
     "name": "stdout",
     "output_type": "stream",
     "text": [
      "I love \n",
      "ew shoes\n"
     ]
    }
   ],
   "source": [
    "a = 'I love \\new shoes'\n",
    "print(a)"
   ]
  },
  {
   "cell_type": "code",
   "execution_count": 76,
   "id": "0cc38819-5c15-4bc6-ad37-f8e90fe6cd00",
   "metadata": {},
   "outputs": [
    {
     "name": "stdout",
     "output_type": "stream",
     "text": [
      "I love \tew shoes\n"
     ]
    }
   ],
   "source": [
    "a = 'I love \\tew shoes'\n",
    "print(a)"
   ]
  },
  {
   "cell_type": "markdown",
   "id": "79dba2a4-c296-43f8-9730-2022e24705ab",
   "metadata": {},
   "source": [
    "### 문자열 연산"
   ]
  },
  {
   "cell_type": "code",
   "execution_count": 77,
   "id": "481f49d0-1283-4614-9f67-d11104d68417",
   "metadata": {},
   "outputs": [],
   "source": [
    "a = \"아버지\"\n",
    "b = '가방'"
   ]
  },
  {
   "cell_type": "code",
   "execution_count": 78,
   "id": "8e081858-10ed-468c-be8c-f68f7d10208e",
   "metadata": {},
   "outputs": [
    {
     "data": {
      "text/plain": [
       "'아버지가방'"
      ]
     },
     "execution_count": 78,
     "metadata": {},
     "output_type": "execute_result"
    }
   ],
   "source": [
    "a + b #더한게 아니라 줄줄이 이어서 쓴 것\n",
    "                    # concatenate  "
   ]
  },
  {
   "cell_type": "code",
   "execution_count": 79,
   "id": "910aacaa-2255-4d06-895f-cca41cbc3513",
   "metadata": {},
   "outputs": [
    {
     "ename": "TypeError",
     "evalue": "unsupported operand type(s) for -: 'str' and 'str'",
     "output_type": "error",
     "traceback": [
      "\u001b[1;31m---------------------------------------------------------------------------\u001b[0m",
      "\u001b[1;31mTypeError\u001b[0m                                 Traceback (most recent call last)",
      "Input \u001b[1;32mIn [79]\u001b[0m, in \u001b[0;36m<cell line: 1>\u001b[1;34m()\u001b[0m\n\u001b[1;32m----> 1\u001b[0m \u001b[43ma\u001b[49m\u001b[43m \u001b[49m\u001b[38;5;241;43m-\u001b[39;49m\u001b[43m \u001b[49m\u001b[43mb\u001b[49m\n",
      "\u001b[1;31mTypeError\u001b[0m: unsupported operand type(s) for -: 'str' and 'str'"
     ]
    }
   ],
   "source": [
    "a - b"
   ]
  },
  {
   "cell_type": "code",
   "execution_count": 80,
   "id": "ae11afea-156c-41f8-9e5d-dccbe61b7a5a",
   "metadata": {},
   "outputs": [
    {
     "ename": "TypeError",
     "evalue": "can't multiply sequence by non-int of type 'str'",
     "output_type": "error",
     "traceback": [
      "\u001b[1;31m---------------------------------------------------------------------------\u001b[0m",
      "\u001b[1;31mTypeError\u001b[0m                                 Traceback (most recent call last)",
      "Input \u001b[1;32mIn [80]\u001b[0m, in \u001b[0;36m<cell line: 1>\u001b[1;34m()\u001b[0m\n\u001b[1;32m----> 1\u001b[0m \u001b[43ma\u001b[49m\u001b[43m \u001b[49m\u001b[38;5;241;43m*\u001b[39;49m\u001b[43m \u001b[49m\u001b[43mb\u001b[49m\n",
      "\u001b[1;31mTypeError\u001b[0m: can't multiply sequence by non-int of type 'str'"
     ]
    }
   ],
   "source": [
    "a * b"
   ]
  },
  {
   "cell_type": "code",
   "execution_count": 81,
   "id": "510b5a35-4bcd-433a-b147-88397b5da7ca",
   "metadata": {},
   "outputs": [
    {
     "data": {
      "text/plain": [
       "'아버지아버지아버지'"
      ]
     },
     "execution_count": 81,
     "metadata": {},
     "output_type": "execute_result"
    }
   ],
   "source": [
    "a * 3"
   ]
  },
  {
   "cell_type": "code",
   "execution_count": 84,
   "id": "d4799922-e1c6-47cd-8d79-aa9e383356d7",
   "metadata": {},
   "outputs": [
    {
     "name": "stdout",
     "output_type": "stream",
     "text": [
      "제 1장 끝\n",
      "------------------------------\n",
      "제 2장 시작\n"
     ]
    }
   ],
   "source": [
    "print(\"제 1장 끝\")\n",
    "print(\"-\"*30)\n",
    "print(\"제 2장 시작\")"
   ]
  },
  {
   "cell_type": "code",
   "execution_count": 85,
   "id": "ae0fa825-bc2a-4f0a-b5d4-016a4888254c",
   "metadata": {},
   "outputs": [
    {
     "data": {
      "text/plain": [
       "3"
      ]
     },
     "execution_count": 85,
     "metadata": {},
     "output_type": "execute_result"
    }
   ],
   "source": [
    "len(a) #length 길이 = (len)"
   ]
  },
  {
   "cell_type": "markdown",
   "id": "02570b62-f886-4f2e-9537-a81d06bf5085",
   "metadata": {},
   "source": [
    "### 인덱싱 Indexing"
   ]
  },
  {
   "cell_type": "code",
   "execution_count": 86,
   "id": "12782d4c-f851-4dd5-9363-fc050d4e1bea",
   "metadata": {},
   "outputs": [],
   "source": [
    "a = \"Hello\""
   ]
  },
  {
   "cell_type": "code",
   "execution_count": 87,
   "id": "9e153268-78a7-4585-9899-09150e21498b",
   "metadata": {},
   "outputs": [
    {
     "data": {
      "text/plain": [
       "5"
      ]
     },
     "execution_count": 87,
     "metadata": {},
     "output_type": "execute_result"
    }
   ],
   "source": [
    "len(a)"
   ]
  },
  {
   "cell_type": "code",
   "execution_count": 88,
   "id": "db76b88c-2fe8-453f-a8ab-1360dbc19f6d",
   "metadata": {},
   "outputs": [
    {
     "data": {
      "text/plain": [
       "'l'"
      ]
     },
     "execution_count": 88,
     "metadata": {},
     "output_type": "execute_result"
    }
   ],
   "source": [
    "a[3]"
   ]
  },
  {
   "cell_type": "code",
   "execution_count": 89,
   "id": "113cd5ff-9b2c-4879-b91a-bc46a78d1cca",
   "metadata": {},
   "outputs": [
    {
     "data": {
      "text/plain": [
       "'l'"
      ]
     },
     "execution_count": 89,
     "metadata": {},
     "output_type": "execute_result"
    }
   ],
   "source": [
    "a[2]"
   ]
  },
  {
   "cell_type": "code",
   "execution_count": 90,
   "id": "a3cef115-45c2-4281-a3b0-172555268d81",
   "metadata": {},
   "outputs": [
    {
     "data": {
      "text/plain": [
       "'e'"
      ]
     },
     "execution_count": 90,
     "metadata": {},
     "output_type": "execute_result"
    }
   ],
   "source": [
    "a[1]"
   ]
  },
  {
   "cell_type": "code",
   "execution_count": 91,
   "id": "7ceee212-ead3-46c0-8d63-589d70e8c6d6",
   "metadata": {},
   "outputs": [
    {
     "data": {
      "text/plain": [
       "'H'"
      ]
     },
     "execution_count": 91,
     "metadata": {},
     "output_type": "execute_result"
    }
   ],
   "source": [
    "a[0]  # 0 부터 시작 인덱스 index\n",
    "# 거꾸로 할 경우에는 -1 부터 시작"
   ]
  },
  {
   "cell_type": "code",
   "execution_count": 92,
   "id": "9c6f7d36-765b-42d4-b131-59af027efe65",
   "metadata": {},
   "outputs": [
    {
     "data": {
      "text/plain": [
       "13"
      ]
     },
     "execution_count": 92,
     "metadata": {},
     "output_type": "execute_result"
    }
   ],
   "source": [
    "a = \"Life is short\"\n",
    "len(a)"
   ]
  },
  {
   "cell_type": "code",
   "execution_count": 93,
   "id": "262320dc-3436-4086-a075-fdf6894e06c4",
   "metadata": {},
   "outputs": [
    {
     "data": {
      "text/plain": [
       "'i'"
      ]
     },
     "execution_count": 93,
     "metadata": {},
     "output_type": "execute_result"
    }
   ],
   "source": [
    "a[5]"
   ]
  },
  {
   "cell_type": "code",
   "execution_count": 94,
   "id": "cfd6e633-7293-4204-88f4-7d86be4ee7e7",
   "metadata": {},
   "outputs": [
    {
     "data": {
      "text/plain": [
       "'r'"
      ]
     },
     "execution_count": 94,
     "metadata": {},
     "output_type": "execute_result"
    }
   ],
   "source": [
    "a[-2]"
   ]
  },
  {
   "cell_type": "code",
   "execution_count": null,
   "id": "c7156d5a-d081-4d12-b917-7de7308a4eb3",
   "metadata": {},
   "outputs": [],
   "source": [
    "# is를 출력하시오."
   ]
  },
  {
   "cell_type": "code",
   "execution_count": 98,
   "id": "30b33f0b-7577-46f0-bd86-f0effb183081",
   "metadata": {},
   "outputs": [
    {
     "data": {
      "text/plain": [
       "'is'"
      ]
     },
     "execution_count": 98,
     "metadata": {},
     "output_type": "execute_result"
    }
   ],
   "source": [
    "a[5] + a[6]"
   ]
  },
  {
   "cell_type": "code",
   "execution_count": 99,
   "id": "4df33165-0413-4b04-a6e4-bb5444646802",
   "metadata": {},
   "outputs": [
    {
     "name": "stdout",
     "output_type": "stream",
     "text": [
      "is\n"
     ]
    }
   ],
   "source": [
    "print (a[5] + a[6]) # 따옴표 싫으면 print"
   ]
  },
  {
   "cell_type": "code",
   "execution_count": 1,
   "id": "983b4e8c-33d6-4c27-afea-23ea864f7aa9",
   "metadata": {},
   "outputs": [
    {
     "name": "stdout",
     "output_type": "stream",
     "text": [
      "is\n"
     ]
    }
   ],
   "source": [
    "a = \"Life is short\"\n",
    "print(a[5] + a[6])"
   ]
  },
  {
   "cell_type": "markdown",
   "id": "79086d03-de08-425e-9a35-277b720bc2a3",
   "metadata": {},
   "source": [
    "### 슬라이싱 Slicing"
   ]
  },
  {
   "cell_type": "code",
   "execution_count": null,
   "id": "b75e8cf0-98b7-4ecd-8a6f-7fd811fe1fc4",
   "metadata": {},
   "outputs": [],
   "source": [
    "# a[start : stop] 연이어서 출력"
   ]
  },
  {
   "cell_type": "code",
   "execution_count": 2,
   "id": "eb137ab7-7a86-4c1a-853a-89f680dff5bb",
   "metadata": {},
   "outputs": [
    {
     "data": {
      "text/plain": [
       "'i'"
      ]
     },
     "execution_count": 2,
     "metadata": {},
     "output_type": "execute_result"
    }
   ],
   "source": [
    "a[5:6]  # < 6은 포함 안됨"
   ]
  },
  {
   "cell_type": "code",
   "execution_count": 3,
   "id": "756c12d0-0712-4867-ad3a-1e74672a95c0",
   "metadata": {},
   "outputs": [
    {
     "data": {
      "text/plain": [
       "'is'"
      ]
     },
     "execution_count": 3,
     "metadata": {},
     "output_type": "execute_result"
    }
   ],
   "source": [
    "a[5:7]"
   ]
  },
  {
   "cell_type": "code",
   "execution_count": 4,
   "id": "de075d23-1d5a-46d9-addf-35b025432967",
   "metadata": {},
   "outputs": [
    {
     "data": {
      "text/plain": [
       "'Life'"
      ]
     },
     "execution_count": 4,
     "metadata": {},
     "output_type": "execute_result"
    }
   ],
   "source": [
    "a[0:4]"
   ]
  },
  {
   "cell_type": "code",
   "execution_count": 5,
   "id": "5d45396a-533b-4761-8173-bb55e0a662a3",
   "metadata": {},
   "outputs": [
    {
     "data": {
      "text/plain": [
       "13"
      ]
     },
     "execution_count": 5,
     "metadata": {},
     "output_type": "execute_result"
    }
   ],
   "source": [
    "len(a)"
   ]
  },
  {
   "cell_type": "code",
   "execution_count": 7,
   "id": "aa7125e4-02ec-4430-ae9d-bc6d2de76b31",
   "metadata": {},
   "outputs": [
    {
     "data": {
      "text/plain": [
       "'short'"
      ]
     },
     "execution_count": 7,
     "metadata": {},
     "output_type": "execute_result"
    }
   ],
   "source": [
    "a[8:13]"
   ]
  },
  {
   "cell_type": "code",
   "execution_count": 9,
   "id": "767969aa-6107-43da-87e4-f471c6ddc1d9",
   "metadata": {},
   "outputs": [
    {
     "data": {
      "text/plain": [
       "'short'"
      ]
     },
     "execution_count": 9,
     "metadata": {},
     "output_type": "execute_result"
    }
   ],
   "source": [
    "a[8: ]  # < 비워도 끝까지 출력 됨"
   ]
  },
  {
   "cell_type": "code",
   "execution_count": 10,
   "id": "05e5cd1b-d8b6-46c0-a25b-8247167dceb6",
   "metadata": {},
   "outputs": [
    {
     "data": {
      "text/plain": [
       "'Life'"
      ]
     },
     "execution_count": 10,
     "metadata": {},
     "output_type": "execute_result"
    }
   ],
   "source": [
    "a[ :4]  # < 앞이 비어있으면 맨 앞으로"
   ]
  },
  {
   "cell_type": "code",
   "execution_count": 11,
   "id": "3fcb4764-0201-44b7-93a8-4255db12a738",
   "metadata": {},
   "outputs": [
    {
     "data": {
      "text/plain": [
       "'Life is short'"
      ]
     },
     "execution_count": 11,
     "metadata": {},
     "output_type": "execute_result"
    }
   ],
   "source": [
    "a[ : ]  # < 다 비워도 가능!"
   ]
  },
  {
   "cell_type": "code",
   "execution_count": 12,
   "id": "3a761c20-d5c7-46c1-9f5b-ec23af0caa9d",
   "metadata": {},
   "outputs": [
    {
     "data": {
      "text/plain": [
       "29"
      ]
     },
     "execution_count": 12,
     "metadata": {},
     "output_type": "execute_result"
    }
   ],
   "source": [
    "a = \"Life is short, We need python\"\n",
    "len(a)"
   ]
  },
  {
   "cell_type": "code",
   "execution_count": 13,
   "id": "0fec3406-fb57-4e64-bf5c-3c2290f4b2ab",
   "metadata": {},
   "outputs": [
    {
     "data": {
      "text/plain": [
       "'short'"
      ]
     },
     "execution_count": 13,
     "metadata": {},
     "output_type": "execute_result"
    }
   ],
   "source": [
    "a[8:13]  # 13-8 = 5"
   ]
  },
  {
   "cell_type": "code",
   "execution_count": null,
   "id": "7252bd6a-3eed-44c7-b8ef-b9c0d645f640",
   "metadata": {},
   "outputs": [],
   "source": [
    "#\n",
    "1 <= a < 3   : 2개\n",
    "1 < a <= 3   : 2개\n",
    "1  < a < 2   : 1개\n",
    "1 <= a <=3   : 3개\n",
    "\n",
    "10 <= a < 99"
   ]
  },
  {
   "cell_type": "code",
   "execution_count": 14,
   "id": "12126566-519a-4619-9da6-2b287a176b0b",
   "metadata": {},
   "outputs": [
    {
     "data": {
      "text/plain": [
       "'need'"
      ]
     },
     "execution_count": 14,
     "metadata": {},
     "output_type": "execute_result"
    }
   ],
   "source": [
    "a[18:22]"
   ]
  },
  {
   "cell_type": "code",
   "execution_count": 15,
   "id": "b6e078a3-9368-4b24-89f2-8d4a5fdac2c9",
   "metadata": {},
   "outputs": [
    {
     "data": {
      "text/plain": [
       "'We need python'"
      ]
     },
     "execution_count": 15,
     "metadata": {},
     "output_type": "execute_result"
    }
   ],
   "source": [
    "a[15: ]"
   ]
  },
  {
   "cell_type": "code",
   "execution_count": 17,
   "id": "a2f9d1ee-af1b-45a3-abca-9ec5f47cd12c",
   "metadata": {},
   "outputs": [
    {
     "data": {
      "text/plain": [
       "13"
      ]
     },
     "execution_count": 17,
     "metadata": {},
     "output_type": "execute_result"
    }
   ],
   "source": [
    "a = \"20220615rainy\"\n",
    "len(a)"
   ]
  },
  {
   "cell_type": "code",
   "execution_count": 18,
   "id": "1d634e85-44d5-4aee-a991-e7cf6d04f5f2",
   "metadata": {},
   "outputs": [
    {
     "data": {
      "text/plain": [
       "'2022'"
      ]
     },
     "execution_count": 18,
     "metadata": {},
     "output_type": "execute_result"
    }
   ],
   "source": [
    "a[0:4]"
   ]
  },
  {
   "cell_type": "code",
   "execution_count": 19,
   "id": "ae27572e-e8a8-4f07-b42e-eab936f4debe",
   "metadata": {},
   "outputs": [
    {
     "data": {
      "text/plain": [
       "'0615'"
      ]
     },
     "execution_count": 19,
     "metadata": {},
     "output_type": "execute_result"
    }
   ],
   "source": [
    "a[4:8]"
   ]
  },
  {
   "cell_type": "code",
   "execution_count": 21,
   "id": "42d8774f-fd93-4035-8222-0dcd86982124",
   "metadata": {},
   "outputs": [
    {
     "data": {
      "text/plain": [
       "'rainy'"
      ]
     },
     "execution_count": 21,
     "metadata": {},
     "output_type": "execute_result"
    }
   ],
   "source": [
    "a[8: ]"
   ]
  },
  {
   "cell_type": "markdown",
   "id": "fbb427fe-c490-4f70-a386-53c7bdc4f501",
   "metadata": {},
   "source": [
    "### 문자열의 메소드"
   ]
  },
  {
   "cell_type": "code",
   "execution_count": null,
   "id": "394dd4a5-fcf6-4098-ba83-835ed294ff9a",
   "metadata": {},
   "outputs": [],
   "source": [
    "# method  문자열의 함수"
   ]
  },
  {
   "cell_type": "markdown",
   "id": "5f601aa0-97d7-418e-9b1a-a31593394c49",
   "metadata": {},
   "source": [
    "- method 객체지향형"
   ]
  },
  {
   "cell_type": "code",
   "execution_count": null,
   "id": "0401bcc1-3124-400b-b24e-33b6a8f1de25",
   "metadata": {},
   "outputs": [],
   "source": [
    "a = \"Hello\"\n",
    "upper()    # 대문자로 바꿔라\n",
    "lower()    # 소문자로 바꿔라"
   ]
  },
  {
   "cell_type": "code",
   "execution_count": 23,
   "id": "fe630e28-c7e1-4c38-b7e9-1bc5b63381c6",
   "metadata": {},
   "outputs": [
    {
     "ename": "NameError",
     "evalue": "name 'upper' is not defined",
     "output_type": "error",
     "traceback": [
      "\u001b[1;31m---------------------------------------------------------------------------\u001b[0m",
      "\u001b[1;31mNameError\u001b[0m                                 Traceback (most recent call last)",
      "Input \u001b[1;32mIn [23]\u001b[0m, in \u001b[0;36m<cell line: 2>\u001b[1;34m()\u001b[0m\n\u001b[0;32m      1\u001b[0m a \u001b[38;5;241m=\u001b[39m \u001b[38;5;124m\"\u001b[39m\u001b[38;5;124mHello\u001b[39m\u001b[38;5;124m\"\u001b[39m\n\u001b[1;32m----> 2\u001b[0m \u001b[43mupper\u001b[49m(a)\n",
      "\u001b[1;31mNameError\u001b[0m: name 'upper' is not defined"
     ]
    }
   ],
   "source": [
    "a = \"Hello\"\n",
    "upper(a)   #함수지향형 사고 \n",
    "# Python은 100% 객체지향형 언어다"
   ]
  },
  {
   "cell_type": "code",
   "execution_count": null,
   "id": "d6b1c8f2-8bfe-49c6-aeca-15f8fa2882e7",
   "metadata": {},
   "outputs": [],
   "source": [
    "# car  /  run\n",
    "# run(car)  X\n",
    "car.run()\n",
    "car.back()\n",
    "# 객체 : Object (사물)\n",
    "#car   <메소드>  동사 : run(), back(), turn()\n",
    "#       <속성>   형용사 : color, heavy\n",
    "#bird   <method> 동사 : fly(), sing()\n",
    "#     <attribute>형용사 : size"
   ]
  },
  {
   "cell_type": "markdown",
   "id": "98858506-2ae7-4bb9-b828-8bdb3125c70a",
   "metadata": {},
   "source": [
    "- upper / lower"
   ]
  },
  {
   "cell_type": "code",
   "execution_count": 24,
   "id": "4ed64a46-1e9c-44b3-8b7a-5ac5dad276f9",
   "metadata": {},
   "outputs": [
    {
     "data": {
      "text/plain": [
       "'HELLO'"
      ]
     },
     "execution_count": 24,
     "metadata": {},
     "output_type": "execute_result"
    }
   ],
   "source": [
    "a = \"Hello\"\n",
    "a.upper()  # 요로케"
   ]
  },
  {
   "cell_type": "code",
   "execution_count": 25,
   "id": "0f05aeea-4118-44a1-b561-edaafa860631",
   "metadata": {},
   "outputs": [
    {
     "data": {
      "text/plain": [
       "'hello'"
      ]
     },
     "execution_count": 25,
     "metadata": {},
     "output_type": "execute_result"
    }
   ],
   "source": [
    "a = \"Hello\"\n",
    "a.lower()"
   ]
  },
  {
   "cell_type": "code",
   "execution_count": 27,
   "id": "37cf2e59-3fa8-4b7e-a929-f783dd4ba35a",
   "metadata": {},
   "outputs": [
    {
     "data": {
      "text/plain": [
       "'helloHELLO'"
      ]
     },
     "execution_count": 27,
     "metadata": {},
     "output_type": "execute_result"
    }
   ],
   "source": [
    "t1 = a.upper()\n",
    "t2 = a.lower()\n",
    "t2+t1"
   ]
  },
  {
   "cell_type": "code",
   "execution_count": 29,
   "id": "8cb4a9c9-8258-47f6-ab6a-e569aefd8fe7",
   "metadata": {},
   "outputs": [
    {
     "data": {
      "text/plain": [
       "str"
      ]
     },
     "execution_count": 29,
     "metadata": {},
     "output_type": "execute_result"
    }
   ],
   "source": [
    "type(a)"
   ]
  },
  {
   "cell_type": "code",
   "execution_count": 30,
   "id": "92cc137b-4875-4cbe-bb5b-cf8fb68dd941",
   "metadata": {},
   "outputs": [
    {
     "data": {
      "text/plain": [
       "int"
      ]
     },
     "execution_count": 30,
     "metadata": {},
     "output_type": "execute_result"
    }
   ],
   "source": [
    "b=1\n",
    "type(b)"
   ]
  },
  {
   "cell_type": "code",
   "execution_count": 33,
   "id": "10fa3396-5875-4817-9548-20175ce8e146",
   "metadata": {},
   "outputs": [
    {
     "data": {
      "text/plain": [
       "'hello'"
      ]
     },
     "execution_count": 33,
     "metadata": {},
     "output_type": "execute_result"
    }
   ],
   "source": [
    "a.lower()"
   ]
  },
  {
   "cell_type": "code",
   "execution_count": 35,
   "id": "94e8c281-a96d-4416-a943-fc8e15fffa69",
   "metadata": {},
   "outputs": [],
   "source": [
    "A = a.lower()"
   ]
  },
  {
   "cell_type": "code",
   "execution_count": 36,
   "id": "f138c107-40e9-491b-9ab8-1510625f758e",
   "metadata": {},
   "outputs": [
    {
     "data": {
      "text/plain": [
       "'HELLO'"
      ]
     },
     "execution_count": 36,
     "metadata": {},
     "output_type": "execute_result"
    }
   ],
   "source": [
    "A.upper()"
   ]
  },
  {
   "cell_type": "markdown",
   "id": "71fbb76d-229f-4ff9-a5e0-910c71778621",
   "metadata": {},
   "source": [
    "- capitalize"
   ]
  },
  {
   "cell_type": "code",
   "execution_count": 39,
   "id": "f4724f50-4b97-4d9e-a697-50989056ce32",
   "metadata": {},
   "outputs": [
    {
     "data": {
      "text/plain": [
       "'Hello'"
      ]
     },
     "execution_count": 39,
     "metadata": {},
     "output_type": "execute_result"
    }
   ],
   "source": [
    "a.lower().upper().capitalize()  # < 첫글자만 대문자로"
   ]
  },
  {
   "cell_type": "code",
   "execution_count": 42,
   "id": "343b4171-9a30-45ec-a111-dbd57d995213",
   "metadata": {},
   "outputs": [
    {
     "data": {
      "text/plain": [
       "'Hello good morning'"
      ]
     },
     "execution_count": 42,
     "metadata": {},
     "output_type": "execute_result"
    }
   ],
   "source": [
    "A = \"Hello Good Morning\"\n",
    "A.lower().capitalize()"
   ]
  },
  {
   "cell_type": "code",
   "execution_count": 43,
   "id": "a49c309e-c93a-48e7-a51a-8cfbb8c6e3dc",
   "metadata": {},
   "outputs": [
    {
     "data": {
      "text/plain": [
       "'Hello Good Morning'"
      ]
     },
     "execution_count": 43,
     "metadata": {},
     "output_type": "execute_result"
    }
   ],
   "source": [
    "A.lower().title()   # < 제목으로"
   ]
  },
  {
   "cell_type": "code",
   "execution_count": 44,
   "id": "96a54b34-d063-4955-bb34-24969a8b9bd9",
   "metadata": {},
   "outputs": [
    {
     "ename": "AttributeError",
     "evalue": "'str' object has no attribute 'print'",
     "output_type": "error",
     "traceback": [
      "\u001b[1;31m---------------------------------------------------------------------------\u001b[0m",
      "\u001b[1;31mAttributeError\u001b[0m                            Traceback (most recent call last)",
      "Input \u001b[1;32mIn [44]\u001b[0m, in \u001b[0;36m<cell line: 1>\u001b[1;34m()\u001b[0m\n\u001b[1;32m----> 1\u001b[0m \u001b[43mA\u001b[49m\u001b[38;5;241;43m.\u001b[39;49m\u001b[43mlower\u001b[49m\u001b[43m(\u001b[49m\u001b[43m)\u001b[49m\u001b[38;5;241;43m.\u001b[39;49m\u001b[43mtitle\u001b[49m\u001b[43m(\u001b[49m\u001b[43m)\u001b[49m\u001b[38;5;241;43m.\u001b[39;49m\u001b[43mprint\u001b[49m()\n",
      "\u001b[1;31mAttributeError\u001b[0m: 'str' object has no attribute 'print'"
     ]
    }
   ],
   "source": [
    "A.lower().title().print()  # print는 ()안에 넣어주야함"
   ]
  },
  {
   "cell_type": "code",
   "execution_count": 45,
   "id": "333de614-6d64-436d-b65d-753b23d729b9",
   "metadata": {},
   "outputs": [
    {
     "name": "stdout",
     "output_type": "stream",
     "text": [
      "Hello Good Morning\n"
     ]
    }
   ],
   "source": [
    "print(A.lower().title())"
   ]
  },
  {
   "cell_type": "code",
   "execution_count": null,
   "id": "797b751d-9530-412b-a5ad-b857a96a9f86",
   "metadata": {},
   "outputs": [],
   "source": [
    "# 내장 함수는 len() print() 등 Python 내장함수 검색\n",
    "# 내장 함수는 겉보기에만 함수처럼 보임"
   ]
  },
  {
   "cell_type": "markdown",
   "id": "be9063f6-9093-446a-95ba-5b5a7ed1475d",
   "metadata": {},
   "source": [
    "- strip( ) : 양쪽 공백 지우기"
   ]
  },
  {
   "cell_type": "code",
   "execution_count": 46,
   "id": "4808abc5-a3d7-459c-a9a0-efba12979180",
   "metadata": {},
   "outputs": [],
   "source": [
    "a = \"      Hello    \""
   ]
  },
  {
   "cell_type": "code",
   "execution_count": 47,
   "id": "5222abae-1e87-4a19-9169-e71c9a4c2a44",
   "metadata": {},
   "outputs": [
    {
     "data": {
      "text/plain": [
       "'Hello    '"
      ]
     },
     "execution_count": 47,
     "metadata": {},
     "output_type": "execute_result"
    }
   ],
   "source": [
    "a.lstrip()    #l은 왼쪽 지워줌"
   ]
  },
  {
   "cell_type": "code",
   "execution_count": 48,
   "id": "b2da458c-7340-4f97-a16a-fa6e6ba8fdc2",
   "metadata": {},
   "outputs": [
    {
     "data": {
      "text/plain": [
       "'      Hello'"
      ]
     },
     "execution_count": 48,
     "metadata": {},
     "output_type": "execute_result"
    }
   ],
   "source": [
    "a.rstrip()    #r은 오른쪽 지워줌"
   ]
  },
  {
   "cell_type": "markdown",
   "id": "92334c23-4b49-48c0-af07-33d2f9dc8b9e",
   "metadata": {},
   "source": [
    "- replace  :  문자열 바꾸기"
   ]
  },
  {
   "cell_type": "code",
   "execution_count": 51,
   "id": "5efeb031-4b50-4d3c-8ff8-f09d57967386",
   "metadata": {},
   "outputs": [
    {
     "data": {
      "text/plain": [
       "'      Heooo    '"
      ]
     },
     "execution_count": 51,
     "metadata": {},
     "output_type": "execute_result"
    }
   ],
   "source": [
    "a.replace(\"l\",'o')    # 대체하는것 l을 o로"
   ]
  },
  {
   "cell_type": "code",
   "execution_count": 53,
   "id": "9f3c5262-daf3-478e-a8f0-85ec683e500b",
   "metadata": {},
   "outputs": [
    {
     "data": {
      "text/plain": [
       "2"
      ]
     },
     "execution_count": 53,
     "metadata": {},
     "output_type": "execute_result"
    }
   ],
   "source": [
    "a.count(\"l\")       #몇개 있는지 세는 것"
   ]
  },
  {
   "cell_type": "markdown",
   "id": "736e4911-4f69-4510-be7f-9963c0ab3cb2",
   "metadata": {},
   "source": [
    "- split  : 문자열 나누기"
   ]
  },
  {
   "cell_type": "code",
   "execution_count": 55,
   "id": "e1b02c0f-f81b-4fe3-9d53-e44ac78d1bf7",
   "metadata": {},
   "outputs": [
    {
     "data": {
      "text/plain": [
       "['Good', 'Morning', 'Hello']"
      ]
     },
     "execution_count": 55,
     "metadata": {},
     "output_type": "execute_result"
    }
   ],
   "source": [
    "a = \"Good Morning Hello\"\n",
    "a.split()      # 공백을 기준으로 나눠줌"
   ]
  },
  {
   "cell_type": "code",
   "execution_count": 56,
   "id": "816d484d-9f5c-4514-9221-ff93a6b0cfba",
   "metadata": {},
   "outputs": [
    {
     "data": {
      "text/plain": [
       "['Good', 'Morning', 'Hello']"
      ]
     },
     "execution_count": 56,
     "metadata": {},
     "output_type": "execute_result"
    }
   ],
   "source": [
    "a = \"Good:Morning:Hello\"\n",
    "a.split(\":\")   # : 기준으로 나눠줘"
   ]
  },
  {
   "cell_type": "markdown",
   "id": "4e724d36-09e5-49a4-a7d2-673efbc8aa34",
   "metadata": {},
   "source": [
    "- join()  : split 반대 붙이기"
   ]
  },
  {
   "cell_type": "code",
   "execution_count": 58,
   "id": "bb9c6b67-a6a9-495d-bf03-bab5e9061ffa",
   "metadata": {},
   "outputs": [
    {
     "data": {
      "text/plain": [
       "'a,b,c,d'"
      ]
     },
     "execution_count": 58,
     "metadata": {},
     "output_type": "execute_result"
    }
   ],
   "source": [
    "\",\".join(\"abcd\")  # , 를 붙여줌"
   ]
  },
  {
   "cell_type": "code",
   "execution_count": 59,
   "id": "3e2bb6b3-f176-425e-9a71-5b41a0804cbc",
   "metadata": {},
   "outputs": [
    {
     "data": {
      "text/plain": [
       "'a:b:c:d'"
      ]
     },
     "execution_count": 59,
     "metadata": {},
     "output_type": "execute_result"
    }
   ],
   "source": [
    "\":\".join(\"abcd\")"
   ]
  },
  {
   "cell_type": "code",
   "execution_count": 61,
   "id": "d78a9374-437a-4f8a-84e9-3e104151a1aa",
   "metadata": {},
   "outputs": [
    {
     "data": {
      "text/plain": [
       "'a  b  c  d'"
      ]
     },
     "execution_count": 61,
     "metadata": {},
     "output_type": "execute_result"
    }
   ],
   "source": [
    "\"  \".join(\"abcd\")"
   ]
  },
  {
   "cell_type": "markdown",
   "id": "b8e263b9-81e5-4201-9ac3-26a78071d6a3",
   "metadata": {},
   "source": [
    "- find  :  인덱스 찾기"
   ]
  },
  {
   "cell_type": "code",
   "execution_count": 63,
   "id": "0ec754a9-d1bc-4abb-9ef0-e1a33fd1262d",
   "metadata": {},
   "outputs": [
    {
     "data": {
      "text/plain": [
       "5"
      ]
     },
     "execution_count": 63,
     "metadata": {},
     "output_type": "execute_result"
    }
   ],
   "source": [
    "a = \"Good:Morning:Hello\"\n",
    "a.find(\"M\")"
   ]
  },
  {
   "cell_type": "code",
   "execution_count": 64,
   "id": "e83ac2ba-e70d-47f3-a9de-2682ba243364",
   "metadata": {},
   "outputs": [
    {
     "data": {
      "text/plain": [
       "1"
      ]
     },
     "execution_count": 64,
     "metadata": {},
     "output_type": "execute_result"
    }
   ],
   "source": [
    "a.find(\"o\")    #가장 빠른 o의 인덱스"
   ]
  },
  {
   "cell_type": "code",
   "execution_count": 65,
   "id": "5c942e8f-bb65-4991-8c5e-ad48c1ef4ee5",
   "metadata": {},
   "outputs": [
    {
     "data": {
      "text/plain": [
       "-1"
      ]
     },
     "execution_count": 65,
     "metadata": {},
     "output_type": "execute_result"
    }
   ],
   "source": [
    "a.find(\"a\")    #모르겠을때는 -1 그런거 없다요"
   ]
  },
  {
   "cell_type": "markdown",
   "id": "63212845-7532-458f-a34b-3615ecc9478a",
   "metadata": {},
   "source": [
    "### formatting "
   ]
  },
  {
   "cell_type": "code",
   "execution_count": 68,
   "id": "a7e28d04-ead1-44fc-8d41-4344e06fa0a1",
   "metadata": {},
   "outputs": [
    {
     "name": "stdout",
     "output_type": "stream",
     "text": [
      "I ate 3 apples. so I sicked two days.\n"
     ]
    }
   ],
   "source": [
    "print(\"I ate 3 apples. so I sicked two days.\")"
   ]
  },
  {
   "cell_type": "code",
   "execution_count": 72,
   "id": "d63c2617-1a64-4ffe-9921-7f7a26f3a1d4",
   "metadata": {},
   "outputs": [
    {
     "name": "stdout",
     "output_type": "stream",
     "text": [
      "I ate number apples. so I sicked day days.\n",
      "I ate 3 apples. so I sicked two days.\n"
     ]
    }
   ],
   "source": [
    "# 방법 1\n",
    "# % 이용하기   low level(기본적인 방법)\n",
    "number = 3             # %d 숫자(정수)  /   %s 문자(String)\n",
    "day = \"two\"\n",
    "print(\"I ate number apples. so I sicked day days.\")\n",
    "print(\"I ate %d apples. so I sicked %s days.\" %(number, day))"
   ]
  },
  {
   "cell_type": "code",
   "execution_count": 77,
   "id": "e50c610e-d23b-41f6-a884-33c4415b4aee",
   "metadata": {},
   "outputs": [
    {
     "name": "stdout",
     "output_type": "stream",
     "text": [
      "I ate 3 apples. so I sicked two days.\n"
     ]
    }
   ],
   "source": [
    "# 방법 2\n",
    "# .format 이용하기\n",
    "number = 3 \n",
    "day = \"two\"\n",
    "print(\"I ate {} apples. so I sicked {} days.\".format(number, day))"
   ]
  },
  {
   "cell_type": "code",
   "execution_count": 78,
   "id": "8f2b8355-f3bf-497d-be91-8de5d34f42d6",
   "metadata": {},
   "outputs": [
    {
     "name": "stdout",
     "output_type": "stream",
     "text": [
      "I ate 3 apples. so I sicked two days.\n"
     ]
    }
   ],
   "source": [
    "print(\"I ate {0} apples. so I sicked {1} days.\".format(number, day))\n",
    "# 인덱스 입력 해줌 0, 1"
   ]
  },
  {
   "cell_type": "code",
   "execution_count": 79,
   "id": "6274a273-acfa-4583-9fe3-929c4fb0b2d7",
   "metadata": {},
   "outputs": [
    {
     "name": "stdout",
     "output_type": "stream",
     "text": [
      "I ate two apples. so I sicked 3 days.\n",
      "I ate 3 apples and 3 bananas. so I sicked two days.\n"
     ]
    }
   ],
   "source": [
    "print(\"I ate {1} apples. so I sicked {0} days.\".format(number, day))\n",
    "print(\"I ate {0} apples and {0} bananas. so I sicked {1} days.\".format(number, day))"
   ]
  },
  {
   "cell_type": "code",
   "execution_count": 81,
   "id": "118fb3d5-9c3a-40b7-8cf4-73b665f16c50",
   "metadata": {},
   "outputs": [
    {
     "name": "stdout",
     "output_type": "stream",
     "text": [
      "I ate 3 apples. so I sicked two days.\n"
     ]
    }
   ],
   "source": [
    "# 방법 3\n",
    "# f-string  앞에 f 붙여줌 제일 간편!\n",
    "number = 3\n",
    "day = \"two\"\n",
    "print(f\"I ate {number} apples. so I sicked {day} days.\")"
   ]
  },
  {
   "cell_type": "markdown",
   "id": "db4ac946-fb2e-4342-8f96-01add08914e6",
   "metadata": {},
   "source": [
    "### input( ) 함수\n",
    "- 사용자의 입력을 받는다\n",
    "- 받은 값은 문자열(str)이다"
   ]
  },
  {
   "cell_type": "code",
   "execution_count": 82,
   "id": "bd380308-463e-44b0-89c1-50019c350d36",
   "metadata": {},
   "outputs": [
    {
     "name": "stdin",
     "output_type": "stream",
     "text": [
      "이름은요? 헨\n"
     ]
    },
    {
     "data": {
      "text/plain": [
       "'헨'"
      ]
     },
     "execution_count": 82,
     "metadata": {},
     "output_type": "execute_result"
    }
   ],
   "source": [
    "input(\"이름은요?\")    #화면에 한번 출력해줌 입력 대기 상태"
   ]
  },
  {
   "cell_type": "code",
   "execution_count": 83,
   "id": "0451ea85-9685-439e-8ab1-5ebf93a35582",
   "metadata": {},
   "outputs": [
    {
     "name": "stdin",
     "output_type": "stream",
     "text": [
      "이름은요? 호두루\n"
     ]
    }
   ],
   "source": [
    "name = input(\"이름은요?\") "
   ]
  },
  {
   "cell_type": "code",
   "execution_count": 84,
   "id": "75e4b04f-f501-4706-8619-2485619c18a0",
   "metadata": {},
   "outputs": [
    {
     "data": {
      "text/plain": [
       "'호두루'"
      ]
     },
     "execution_count": 84,
     "metadata": {},
     "output_type": "execute_result"
    }
   ],
   "source": [
    "name"
   ]
  },
  {
   "cell_type": "code",
   "execution_count": 85,
   "id": "4b538d57-a0c4-4bdf-8504-306065394964",
   "metadata": {},
   "outputs": [
    {
     "data": {
      "text/plain": [
       "str"
      ]
     },
     "execution_count": 85,
     "metadata": {},
     "output_type": "execute_result"
    }
   ],
   "source": [
    "type(name)"
   ]
  },
  {
   "cell_type": "code",
   "execution_count": 3,
   "id": "acad36a8-6d99-4176-add5-abc98d5e0fd5",
   "metadata": {},
   "outputs": [
    {
     "name": "stdin",
     "output_type": "stream",
     "text": [
      "나이는요? 3\n"
     ]
    },
    {
     "data": {
      "text/plain": [
       "'3'"
      ]
     },
     "execution_count": 3,
     "metadata": {},
     "output_type": "execute_result"
    }
   ],
   "source": [
    "age = input(\"나이는요?\")\n",
    "age"
   ]
  },
  {
   "cell_type": "code",
   "execution_count": 4,
   "id": "b16bf410-3e49-4b7c-bd52-e62d812039fe",
   "metadata": {},
   "outputs": [
    {
     "data": {
      "text/plain": [
       "str"
      ]
     },
     "execution_count": 4,
     "metadata": {},
     "output_type": "execute_result"
    }
   ],
   "source": [
    "type(age)"
   ]
  },
  {
   "cell_type": "code",
   "execution_count": 5,
   "id": "b2d33194-9825-46de-be0d-1c5f4216c539",
   "metadata": {},
   "outputs": [
    {
     "name": "stdin",
     "output_type": "stream",
     "text": [
      "형 나이는요? 20\n",
      "동생 나이는요? 15\n"
     ]
    },
    {
     "ename": "TypeError",
     "evalue": "unsupported operand type(s) for -: 'str' and 'str'",
     "output_type": "error",
     "traceback": [
      "\u001b[1;31m---------------------------------------------------------------------------\u001b[0m",
      "\u001b[1;31mTypeError\u001b[0m                                 Traceback (most recent call last)",
      "Input \u001b[1;32mIn [5]\u001b[0m, in \u001b[0;36m<cell line: 3>\u001b[1;34m()\u001b[0m\n\u001b[0;32m      1\u001b[0m a \u001b[38;5;241m=\u001b[39m \u001b[38;5;28minput\u001b[39m(\u001b[38;5;124m\"\u001b[39m\u001b[38;5;124m형 나이는요?\u001b[39m\u001b[38;5;124m\"\u001b[39m)\n\u001b[0;32m      2\u001b[0m b \u001b[38;5;241m=\u001b[39m \u001b[38;5;28minput\u001b[39m(\u001b[38;5;124m\"\u001b[39m\u001b[38;5;124m동생 나이는요?\u001b[39m\u001b[38;5;124m\"\u001b[39m)\n\u001b[1;32m----> 3\u001b[0m \u001b[43ma\u001b[49m\u001b[43m \u001b[49m\u001b[38;5;241;43m-\u001b[39;49m\u001b[43m \u001b[49m\u001b[43mb\u001b[49m\n",
      "\u001b[1;31mTypeError\u001b[0m: unsupported operand type(s) for -: 'str' and 'str'"
     ]
    }
   ],
   "source": [
    "a = input(\"형 나이는요?\")\n",
    "b = input(\"동생 나이는요?\")\n",
    "a - b"
   ]
  },
  {
   "cell_type": "code",
   "execution_count": null,
   "id": "4dd94e67-7daf-4807-acde-45eae91d4cd4",
   "metadata": {},
   "outputs": [],
   "source": [
    "# 문자열을 숫자로 바꾸기\n",
    "int()\n",
    "float()\n",
    "str()\n",
    "bool()"
   ]
  },
  {
   "cell_type": "code",
   "execution_count": 11,
   "id": "52ffc583-10e6-4aba-99c0-83d6b6e5bbd2",
   "metadata": {},
   "outputs": [
    {
     "name": "stdout",
     "output_type": "stream",
     "text": [
      "3\n",
      "4\n",
      "3.0\n"
     ]
    },
    {
     "data": {
      "text/plain": [
       "'3'"
      ]
     },
     "execution_count": 11,
     "metadata": {},
     "output_type": "execute_result"
    }
   ],
   "source": [
    "print(int(\"3\"))\n",
    "print(int(4.2))\n",
    "print(float(3))\n",
    "str(3)"
   ]
  },
  {
   "cell_type": "code",
   "execution_count": 12,
   "id": "0c7f0391-f7fd-4c52-bf51-7391e23e1418",
   "metadata": {},
   "outputs": [
    {
     "data": {
      "text/plain": [
       "5"
      ]
     },
     "execution_count": 12,
     "metadata": {},
     "output_type": "execute_result"
    }
   ],
   "source": [
    "int(\"5\")"
   ]
  },
  {
   "cell_type": "code",
   "execution_count": 13,
   "id": "b8138a9d-8af8-4841-8091-e37e1331eaef",
   "metadata": {},
   "outputs": [
    {
     "name": "stdin",
     "output_type": "stream",
     "text": [
      "형 나이는요? 15\n"
     ]
    },
    {
     "data": {
      "text/plain": [
       "str"
      ]
     },
     "execution_count": 13,
     "metadata": {},
     "output_type": "execute_result"
    }
   ],
   "source": [
    "a = input(\"형 나이는요?\")\n",
    "type(a)"
   ]
  },
  {
   "cell_type": "code",
   "execution_count": 16,
   "id": "03d35d60-894a-465e-801e-4aa2f2900a2a",
   "metadata": {},
   "outputs": [
    {
     "name": "stdin",
     "output_type": "stream",
     "text": [
      "형 나이는요? 15\n"
     ]
    }
   ],
   "source": [
    "a = input(\"형 나이는요?\")\n",
    "type(a)\n",
    "a = int(a)"
   ]
  },
  {
   "cell_type": "code",
   "execution_count": 17,
   "id": "73d12d8f-03c1-4acf-9815-831b5846a36a",
   "metadata": {},
   "outputs": [
    {
     "data": {
      "text/plain": [
       "int"
      ]
     },
     "execution_count": 17,
     "metadata": {},
     "output_type": "execute_result"
    }
   ],
   "source": [
    "type(a)"
   ]
  },
  {
   "cell_type": "code",
   "execution_count": 20,
   "id": "4475d79d-e30f-4aa1-909e-15c495ae7439",
   "metadata": {},
   "outputs": [
    {
     "name": "stdin",
     "output_type": "stream",
     "text": [
      "형 나이는요? 10\n"
     ]
    },
    {
     "data": {
      "text/plain": [
       "100"
      ]
     },
     "execution_count": 20,
     "metadata": {},
     "output_type": "execute_result"
    }
   ],
   "source": [
    "a = int(input(\"형 나이는요?\"))    # 바로 숫자 int로 변환 \n",
    "a**2                                 # 꼭 요러케 쓰기"
   ]
  },
  {
   "cell_type": "code",
   "execution_count": null,
   "id": "ab535213-b3e9-453e-af83-a0a40dda3303",
   "metadata": {},
   "outputs": [],
   "source": [
    "# \n",
    "a = input(\"형 나이는요?\")\n",
    "b = input(\"동생 나이는요?\")\n",
    "a - b\n",
    "print(\"형과 동생의 나이 차이는 00살 입니다.\")"
   ]
  },
  {
   "cell_type": "code",
   "execution_count": 28,
   "id": "edbe7f6c-fd36-44b6-beaf-06b43b4f1ecc",
   "metadata": {},
   "outputs": [
    {
     "name": "stdin",
     "output_type": "stream",
     "text": [
      "형 나이는요? 20\n",
      "동생 나이는요? 10\n"
     ]
    },
    {
     "name": "stdout",
     "output_type": "stream",
     "text": [
      "형과 동생의 나이 차이는 10살 입니다.\n"
     ]
    }
   ],
   "source": [
    "a = int(input(\"형 나이는요?\"))\n",
    "b = int(input(\"동생 나이는요?\"))\n",
    "\n",
    "print(f\"형과 동생의 나이 차이는 {a-b}살 입니다.\")"
   ]
  },
  {
   "cell_type": "code",
   "execution_count": null,
   "id": "7ba350c8-8d0b-427c-aa60-ae1382c96d7c",
   "metadata": {},
   "outputs": [],
   "source": [
    "#\n",
    "name, age 두 변수로 입력 받아서\n",
    "\"이름은 ㅇㅇㅇ이고 나이는 ㅇㅇ세 입니다\""
   ]
  },
  {
   "cell_type": "code",
   "execution_count": 30,
   "id": "61f0809b-bab7-4a63-87a2-317a46d0a409",
   "metadata": {},
   "outputs": [
    {
     "name": "stdin",
     "output_type": "stream",
     "text": [
      "이름? 헨\n",
      "나이? 30\n"
     ]
    },
    {
     "name": "stdout",
     "output_type": "stream",
     "text": [
      "이름은 헨이고 나이는 30세 입니다\n"
     ]
    }
   ],
   "source": [
    "a = input(\"이름?\")\n",
    "b = int(input(\"나이?\"))\n",
    "print(f\"이름은 {a}이고 나이는 {b}세 입니다\")"
   ]
  },
  {
   "cell_type": "markdown",
   "id": "e225cccb-7706-41d7-8239-27c4de5e1920",
   "metadata": {},
   "source": [
    "## 참거짓형\n",
    "- boolean"
   ]
  },
  {
   "cell_type": "code",
   "execution_count": 31,
   "id": "1e58250d-8354-4549-845a-3c2035e314c9",
   "metadata": {},
   "outputs": [
    {
     "data": {
      "text/plain": [
       "True"
      ]
     },
     "execution_count": 31,
     "metadata": {},
     "output_type": "execute_result"
    }
   ],
   "source": [
    "1 < 2 "
   ]
  },
  {
   "cell_type": "code",
   "execution_count": 33,
   "id": "9453c195-5aeb-4c97-8469-dc15d14f2487",
   "metadata": {},
   "outputs": [],
   "source": [
    "a = 1 < 2"
   ]
  },
  {
   "cell_type": "code",
   "execution_count": 34,
   "id": "bf9412da-a2dc-4f30-9dd7-ee7cab9c2f76",
   "metadata": {},
   "outputs": [
    {
     "data": {
      "text/plain": [
       "True"
      ]
     },
     "execution_count": 34,
     "metadata": {},
     "output_type": "execute_result"
    }
   ],
   "source": [
    "a"
   ]
  },
  {
   "cell_type": "code",
   "execution_count": 35,
   "id": "546b1f6e-324f-49bf-863d-e09a656277a8",
   "metadata": {},
   "outputs": [
    {
     "data": {
      "text/plain": [
       "bool"
      ]
     },
     "execution_count": 35,
     "metadata": {},
     "output_type": "execute_result"
    }
   ],
   "source": [
    "type(a)"
   ]
  },
  {
   "cell_type": "code",
   "execution_count": 36,
   "id": "a1cf2b85-c9c9-49e8-96a9-2778b8ce34cb",
   "metadata": {},
   "outputs": [
    {
     "name": "stdout",
     "output_type": "stream",
     "text": [
      "참입니다\n"
     ]
    }
   ],
   "source": [
    "if 1 < 2 :     # : 콜론 4칸 자동으로 띄워짐\n",
    "    print(\"참입니다\")"
   ]
  },
  {
   "cell_type": "code",
   "execution_count": 37,
   "id": "0e0c7a82-0805-4206-8dd3-8befbe57072a",
   "metadata": {},
   "outputs": [],
   "source": [
    "if 1 > 2 :     # 틀리면 아무것도 안뜸 실행 X\n",
    "    print(\"참입니다\")"
   ]
  },
  {
   "cell_type": "code",
   "execution_count": 38,
   "id": "5672181c-4b50-4e7d-8126-76ddd35bed9c",
   "metadata": {},
   "outputs": [
    {
     "name": "stdout",
     "output_type": "stream",
     "text": [
      "참입니다\n"
     ]
    }
   ],
   "source": [
    "if 1 :         # if 무조건 뒤는 참거짓을 처리하게 됨\n",
    "    print(\"참입니다\")"
   ]
  },
  {
   "cell_type": "code",
   "execution_count": 39,
   "id": "c714b085-d27b-47aa-9366-ff5b9069f0ff",
   "metadata": {},
   "outputs": [],
   "source": [
    "if 0 :         # 0은 참이 아니네!! False 0빼고 다 True\n",
    "    print(\"참입니다\")"
   ]
  },
  {
   "cell_type": "code",
   "execution_count": 40,
   "id": "9f6a3773-96e5-44c7-92fe-e64edd3c84ce",
   "metadata": {},
   "outputs": [
    {
     "name": "stdout",
     "output_type": "stream",
     "text": [
      "참입니다\n"
     ]
    }
   ],
   "source": [
    "if True :\n",
    "    print(\"참입니다\")"
   ]
  },
  {
   "cell_type": "code",
   "execution_count": 41,
   "id": "3734a2e0-3866-4742-a81f-ab3926897abd",
   "metadata": {},
   "outputs": [
    {
     "name": "stdout",
     "output_type": "stream",
     "text": [
      "참입니다\n"
     ]
    }
   ],
   "source": [
    "if 2 :\n",
    "    print(\"참입니다\")"
   ]
  },
  {
   "cell_type": "code",
   "execution_count": 42,
   "id": "41901acf-8cf7-4212-be02-c9268bf03abc",
   "metadata": {},
   "outputs": [
    {
     "data": {
      "text/plain": [
       "True"
      ]
     },
     "execution_count": 42,
     "metadata": {},
     "output_type": "execute_result"
    }
   ],
   "source": [
    "bool(1)"
   ]
  },
  {
   "cell_type": "code",
   "execution_count": 43,
   "id": "f561c2b2-19be-4599-bb40-809a3f8745e2",
   "metadata": {},
   "outputs": [
    {
     "data": {
      "text/plain": [
       "False"
      ]
     },
     "execution_count": 43,
     "metadata": {},
     "output_type": "execute_result"
    }
   ],
   "source": [
    "bool(0)"
   ]
  },
  {
   "cell_type": "code",
   "execution_count": 44,
   "id": "ac21930c-7bd1-4b17-aba2-efe7f6a8cda7",
   "metadata": {},
   "outputs": [
    {
     "data": {
      "text/plain": [
       "True"
      ]
     },
     "execution_count": 44,
     "metadata": {},
     "output_type": "execute_result"
    }
   ],
   "source": [
    "bool(1.2)"
   ]
  },
  {
   "cell_type": "code",
   "execution_count": 45,
   "id": "a4bcaaf1-711f-465a-a4ec-2ee9f5a7ecb7",
   "metadata": {},
   "outputs": [
    {
     "data": {
      "text/plain": [
       "True"
      ]
     },
     "execution_count": 45,
     "metadata": {},
     "output_type": "execute_result"
    }
   ],
   "source": [
    "bool(-1)"
   ]
  },
  {
   "cell_type": "code",
   "execution_count": 47,
   "id": "355474e6-63d4-44d5-8401-df47790a2701",
   "metadata": {},
   "outputs": [
    {
     "name": "stdout",
     "output_type": "stream",
     "text": [
      "참입니다\n"
     ]
    }
   ],
   "source": [
    "if \"Hello\" :\n",
    "    print(\"참입니다\")"
   ]
  },
  {
   "cell_type": "code",
   "execution_count": 48,
   "id": "086c4295-6f79-4057-974d-ef08e4be4087",
   "metadata": {},
   "outputs": [],
   "source": [
    "if \"\" :           # 아무것도 없는 문자 False 거짓\n",
    "    print(\"참입니다\")"
   ]
  },
  {
   "cell_type": "markdown",
   "id": "1c04338a-6b05-41e9-b4db-6b49e4d1890a",
   "metadata": {},
   "source": [
    "# 파이썬의 자료형\n",
    "- list  --------------   리스트\n",
    "- tuple ------------        튜플\n",
    "- dictionary  ------  딕셔너리\n",
    "- set   --------------    세트"
   ]
  },
  {
   "cell_type": "markdown",
   "id": "56f0370f-e450-4d63-994c-013d1f87292e",
   "metadata": {},
   "source": [
    "## 리스트 (list)\n",
    "- CRUD\n",
    "```\n",
    "C : Create\n",
    "R : Read\n",
    "U : Update\n",
    "D : Delete\n",
    "```"
   ]
  },
  {
   "cell_type": "markdown",
   "id": "f9a5cafe-4926-44f4-8f49-ae1e97327fa1",
   "metadata": {},
   "source": [
    "### 만들기"
   ]
  },
  {
   "cell_type": "code",
   "execution_count": 51,
   "id": "cca8a1c5-30a2-428f-8424-903e8734f4b8",
   "metadata": {},
   "outputs": [
    {
     "data": {
      "text/plain": [
       "list"
      ]
     },
     "execution_count": 51,
     "metadata": {},
     "output_type": "execute_result"
    }
   ],
   "source": [
    "a = [1, 2]    # 2개 이상이면 [ ] 꼭 묶어줌\n",
    "type(a)"
   ]
  },
  {
   "cell_type": "code",
   "execution_count": 53,
   "id": "783fdd13-7f3e-4ff2-8e63-b3b3b2d4897d",
   "metadata": {},
   "outputs": [
    {
     "name": "stdout",
     "output_type": "stream",
     "text": [
      "['Life', 'is', 'short']\n"
     ]
    }
   ],
   "source": [
    "a = [\"Life\", \"is\", \"short\"]\n",
    "print(a)"
   ]
  },
  {
   "cell_type": "code",
   "execution_count": 57,
   "id": "451ef93b-aa1e-4e6f-b2b3-ef8424ef3bcc",
   "metadata": {},
   "outputs": [
    {
     "data": {
      "text/plain": [
       "6"
      ]
     },
     "execution_count": 57,
     "metadata": {},
     "output_type": "execute_result"
    }
   ],
   "source": [
    "#nested list (중첩리스트)  : 감싸고 있는 리스트\n",
    "a = [1, 2, 3, \"Life\", \"is\", \"short\"]     #리스트 안에 문자 숫자 모두 가능\n",
    "len(a)"
   ]
  },
  {
   "cell_type": "code",
   "execution_count": 56,
   "id": "5157007b-17e3-47f4-a007-dc643faee068",
   "metadata": {},
   "outputs": [
    {
     "data": {
      "text/plain": [
       "7"
      ]
     },
     "execution_count": 56,
     "metadata": {},
     "output_type": "execute_result"
    }
   ],
   "source": [
    "a = [1, 2, 3, \"Life\", \"is\", \"short\", [\"we\", \"need\", \"python\"]] \n",
    "len(a)                               # 리스트 안에 리스트 생성 가능"
   ]
  },
  {
   "cell_type": "code",
   "execution_count": 63,
   "id": "ec6e5c83-5130-4276-bcbb-b68f71cdf2cd",
   "metadata": {},
   "outputs": [
    {
     "name": "stdout",
     "output_type": "stream",
     "text": [
      "1\n",
      "Life\n",
      "['we', 'need', 'python']\n"
     ]
    }
   ],
   "source": [
    "a = [1, 2, 3, \"Life\", \"is\", \"short\", [\"we\", \"need\", \"python\"]] \n",
    "print(a[0])\n",
    "print(a[3])\n",
    "print(a[6])"
   ]
  },
  {
   "cell_type": "code",
   "execution_count": 61,
   "id": "23343cc0-3267-4869-b932-758d6521402c",
   "metadata": {},
   "outputs": [
    {
     "name": "stdout",
     "output_type": "stream",
     "text": [
      "[1, 2, 3]\n",
      "['Life', 'is', 'short']\n"
     ]
    }
   ],
   "source": [
    "print(a[:3])\n",
    "print(a[3:])"
   ]
  },
  {
   "cell_type": "markdown",
   "id": "9ea5341b-ea57-4c67-8bc1-c1000270acda",
   "metadata": {},
   "source": [
    "### 접근, 조회 (읽기)"
   ]
  },
  {
   "cell_type": "code",
   "execution_count": 64,
   "id": "9799a5d9-bce2-4c5b-acae-c367a4cee15c",
   "metadata": {},
   "outputs": [
    {
     "data": {
      "text/plain": [
       "'python'"
      ]
     },
     "execution_count": 64,
     "metadata": {},
     "output_type": "execute_result"
    }
   ],
   "source": [
    "# python 을 출력해주세요\n",
    "a[6][2]"
   ]
  },
  {
   "cell_type": "code",
   "execution_count": 70,
   "id": "1fe2373d-fcec-4e5f-8560-b7ff304a012c",
   "metadata": {},
   "outputs": [
    {
     "name": "stdout",
     "output_type": "stream",
     "text": [
      "ee\n"
     ]
    }
   ],
   "source": [
    "# \"ee\"를 출력해주세요.\n",
    "print(a[6][1][1:3])"
   ]
  },
  {
   "cell_type": "markdown",
   "id": "75099631-cb71-4e0b-b5c3-2d573529723e",
   "metadata": {},
   "source": [
    "### 연산\n",
    "-  문자열의 연산과 같다"
   ]
  },
  {
   "cell_type": "code",
   "execution_count": 73,
   "id": "db9a9403-96db-40f6-8cb2-216a9db0863d",
   "metadata": {},
   "outputs": [],
   "source": [
    "a = [1, 2, 3]\n",
    "b = [4, 5, 6]"
   ]
  },
  {
   "cell_type": "code",
   "execution_count": 74,
   "id": "3171b4d8-72e2-48bf-b5d7-8a79b518c61e",
   "metadata": {},
   "outputs": [
    {
     "data": {
      "text/plain": [
       "[1, 2, 3, 4, 5, 6]"
      ]
     },
     "execution_count": 74,
     "metadata": {},
     "output_type": "execute_result"
    }
   ],
   "source": [
    "a + b"
   ]
  },
  {
   "cell_type": "code",
   "execution_count": 75,
   "id": "e6ff4ccd-3afd-4fa8-b325-745e5fc025bf",
   "metadata": {},
   "outputs": [
    {
     "ename": "TypeError",
     "evalue": "unsupported operand type(s) for -: 'list' and 'list'",
     "output_type": "error",
     "traceback": [
      "\u001b[1;31m---------------------------------------------------------------------------\u001b[0m",
      "\u001b[1;31mTypeError\u001b[0m                                 Traceback (most recent call last)",
      "Input \u001b[1;32mIn [75]\u001b[0m, in \u001b[0;36m<cell line: 1>\u001b[1;34m()\u001b[0m\n\u001b[1;32m----> 1\u001b[0m \u001b[43ma\u001b[49m\u001b[43m \u001b[49m\u001b[38;5;241;43m-\u001b[39;49m\u001b[43m \u001b[49m\u001b[43mb\u001b[49m\n",
      "\u001b[1;31mTypeError\u001b[0m: unsupported operand type(s) for -: 'list' and 'list'"
     ]
    }
   ],
   "source": [
    "a - b"
   ]
  },
  {
   "cell_type": "code",
   "execution_count": 76,
   "id": "deda290b-2cce-45ce-b11d-f1c3df223e16",
   "metadata": {},
   "outputs": [
    {
     "ename": "TypeError",
     "evalue": "can't multiply sequence by non-int of type 'list'",
     "output_type": "error",
     "traceback": [
      "\u001b[1;31m---------------------------------------------------------------------------\u001b[0m",
      "\u001b[1;31mTypeError\u001b[0m                                 Traceback (most recent call last)",
      "Input \u001b[1;32mIn [76]\u001b[0m, in \u001b[0;36m<cell line: 1>\u001b[1;34m()\u001b[0m\n\u001b[1;32m----> 1\u001b[0m \u001b[43ma\u001b[49m\u001b[43m \u001b[49m\u001b[38;5;241;43m*\u001b[39;49m\u001b[43m \u001b[49m\u001b[43mb\u001b[49m\n",
      "\u001b[1;31mTypeError\u001b[0m: can't multiply sequence by non-int of type 'list'"
     ]
    }
   ],
   "source": [
    "a * b"
   ]
  },
  {
   "cell_type": "code",
   "execution_count": 77,
   "id": "ee726257-a941-410c-a46e-20d099fc5639",
   "metadata": {},
   "outputs": [
    {
     "ename": "TypeError",
     "evalue": "unsupported operand type(s) for /: 'list' and 'list'",
     "output_type": "error",
     "traceback": [
      "\u001b[1;31m---------------------------------------------------------------------------\u001b[0m",
      "\u001b[1;31mTypeError\u001b[0m                                 Traceback (most recent call last)",
      "Input \u001b[1;32mIn [77]\u001b[0m, in \u001b[0;36m<cell line: 1>\u001b[1;34m()\u001b[0m\n\u001b[1;32m----> 1\u001b[0m \u001b[43ma\u001b[49m\u001b[43m \u001b[49m\u001b[38;5;241;43m/\u001b[39;49m\u001b[43m \u001b[49m\u001b[43mb\u001b[49m\n",
      "\u001b[1;31mTypeError\u001b[0m: unsupported operand type(s) for /: 'list' and 'list'"
     ]
    }
   ],
   "source": [
    "a / b"
   ]
  },
  {
   "cell_type": "code",
   "execution_count": 78,
   "id": "26984d7b-116c-485c-b0d3-41fee2651be8",
   "metadata": {},
   "outputs": [
    {
     "data": {
      "text/plain": [
       "[1, 2, 3, 1, 2, 3, 1, 2, 3]"
      ]
     },
     "execution_count": 78,
     "metadata": {},
     "output_type": "execute_result"
    }
   ],
   "source": [
    "a * 3      #반복됨"
   ]
  },
  {
   "cell_type": "code",
   "execution_count": 79,
   "id": "de7a235d-a221-43b5-8fa9-820b296479bf",
   "metadata": {},
   "outputs": [
    {
     "data": {
      "text/plain": [
       "array([5, 7, 9])"
      ]
     },
     "execution_count": 79,
     "metadata": {},
     "output_type": "execute_result"
    }
   ],
   "source": [
    "import numpy as np           # array 리스트는 문자형으로 인식하지만 array 사용하여 계산 가능\n",
    "A = np.array([1, 2, 3])\n",
    "B = np.array([4, 5, 6])\n",
    "A + B"
   ]
  },
  {
   "cell_type": "code",
   "execution_count": 80,
   "id": "43f21f6a-2dd6-4194-bc6f-a7cdf62eaa43",
   "metadata": {},
   "outputs": [
    {
     "name": "stdout",
     "output_type": "stream",
     "text": [
      "[-3 -3 -3]\n",
      "[ 4 10 18]\n",
      "[0.25 0.4  0.5 ]\n"
     ]
    }
   ],
   "source": [
    "print(A - B)\n",
    "print(A * B)\n",
    "print(A / B)"
   ]
  },
  {
   "cell_type": "code",
   "execution_count": null,
   "id": "df583961-9ff6-4797-8839-20a2a5f2435f",
   "metadata": {},
   "outputs": [],
   "source": [
    "int a = 100\n",
    "float a = 1\n",
    "\n",
    "int[] a = [1, 2, 3]\n",
    "a = [1, 2, 3, 4]"
   ]
  },
  {
   "cell_type": "markdown",
   "id": "c94fb0fb-e698-46b3-a804-79380e87ce51",
   "metadata": {},
   "source": [
    "### 수정"
   ]
  },
  {
   "cell_type": "code",
   "execution_count": null,
   "id": "b7fe4581-4902-4d09-8430-41435a1f663a",
   "metadata": {},
   "outputs": [],
   "source": [
    "a = [1, 2, 3]"
   ]
  },
  {
   "cell_type": "code",
   "execution_count": 114,
   "id": "e9b1fd62-84ea-44d1-80ac-661a1770f0b3",
   "metadata": {},
   "outputs": [
    {
     "name": "stdout",
     "output_type": "stream",
     "text": [
      "3\n"
     ]
    }
   ],
   "source": [
    "a = 2\n",
    "b = 3\n",
    "a = b\n",
    "print(a)"
   ]
  },
  {
   "cell_type": "code",
   "execution_count": null,
   "id": "9768f279-d8f9-4446-8082-8918bdb0339c",
   "metadata": {},
   "outputs": [],
   "source": [
    "# old = new   더블클릭 같은 것"
   ]
  },
  {
   "cell_type": "code",
   "execution_count": null,
   "id": "c1f0642d-600c-40dc-81a4-32e37629a132",
   "metadata": {},
   "outputs": [],
   "source": [
    "# 등호 \n",
    "# a = 1  은  a <- 1    = 은 뒤에서 앞으로 밀고 들어 가는 것\n",
    "# = 은  =="
   ]
  },
  {
   "cell_type": "code",
   "execution_count": 115,
   "id": "97d9da98-08f5-46f9-b5ff-19d7d9a0d9e3",
   "metadata": {},
   "outputs": [
    {
     "data": {
      "text/plain": [
       "[1, 2, 3]"
      ]
     },
     "execution_count": 115,
     "metadata": {},
     "output_type": "execute_result"
    }
   ],
   "source": [
    "a = [1, 2, 3]\n",
    "a"
   ]
  },
  {
   "cell_type": "code",
   "execution_count": 117,
   "id": "d5d1a6c1-f5da-4249-982e-3754c4b5de3f",
   "metadata": {},
   "outputs": [
    {
     "data": {
      "text/plain": [
       "[1, 20, 3]"
      ]
     },
     "execution_count": 117,
     "metadata": {},
     "output_type": "execute_result"
    }
   ],
   "source": [
    "# 2 = 20\n",
    "a[1] = 20     # 인덱싱 해서 수정\n",
    "a"
   ]
  },
  {
   "cell_type": "markdown",
   "id": "fa705509-bd3d-497b-877f-0a39879a7928",
   "metadata": {},
   "source": [
    "### 추가 "
   ]
  },
  {
   "cell_type": "code",
   "execution_count": 86,
   "id": "e90bf812-675a-4592-8aee-4df6e907b6e8",
   "metadata": {},
   "outputs": [
    {
     "data": {
      "text/plain": [
       "[1, 2, 3, 4]"
      ]
     },
     "execution_count": 86,
     "metadata": {},
     "output_type": "execute_result"
    }
   ],
   "source": [
    "a = [1, 2, 3]\n",
    "a.append(4)     # append 추가하는 method 맨 뒤에 추가 됨 차례로 #리스트 통째로 추가 됨\n",
    "a"
   ]
  },
  {
   "cell_type": "code",
   "execution_count": 82,
   "id": "c62569cc-7bbc-48cb-bc46-946be0948303",
   "metadata": {},
   "outputs": [
    {
     "data": {
      "text/plain": [
       "list"
      ]
     },
     "execution_count": 82,
     "metadata": {},
     "output_type": "execute_result"
    }
   ],
   "source": [
    "type(a)"
   ]
  },
  {
   "cell_type": "code",
   "execution_count": 87,
   "id": "4ad4508e-0739-40b2-8be0-766171df4b35",
   "metadata": {},
   "outputs": [
    {
     "data": {
      "text/plain": [
       "[1, 2, 3, 4, [5, 6]]"
      ]
     },
     "execution_count": 87,
     "metadata": {},
     "output_type": "execute_result"
    }
   ],
   "source": [
    "a.append([5, 6])\n",
    "a"
   ]
  },
  {
   "cell_type": "code",
   "execution_count": 88,
   "id": "545ab4ff-af25-414f-ac14-576ce8e88275",
   "metadata": {},
   "outputs": [
    {
     "data": {
      "text/plain": [
       "[1, 2, 100, 3, 4, [5, 6]]"
      ]
     },
     "execution_count": 88,
     "metadata": {},
     "output_type": "execute_result"
    }
   ],
   "source": [
    "a.insert(2, 100)    # insert(인덱스, 객체) 중간에 집어 넣는 것\n",
    "a"
   ]
  },
  {
   "cell_type": "code",
   "execution_count": 92,
   "id": "fc709f00-35c0-43e1-8f2b-9d06628eb1c3",
   "metadata": {},
   "outputs": [
    {
     "data": {
      "text/plain": [
       "[1, 2, 3, [4, 5]]"
      ]
     },
     "execution_count": 92,
     "metadata": {},
     "output_type": "execute_result"
    }
   ],
   "source": [
    "a = [1, 2, 3]\n",
    "a.append([4, 5])\n",
    "a"
   ]
  },
  {
   "cell_type": "code",
   "execution_count": 93,
   "id": "ded3c2e6-5380-4109-89f6-eb1744535d1c",
   "metadata": {},
   "outputs": [
    {
     "data": {
      "text/plain": [
       "[1, 2, 3, 4, 5]"
      ]
     },
     "execution_count": 93,
     "metadata": {},
     "output_type": "execute_result"
    }
   ],
   "source": [
    "a = [1, 2, 3]\n",
    "a.extend([4, 5])     # extend 리스트 해체되어 추가 됨\n",
    "a"
   ]
  },
  {
   "cell_type": "markdown",
   "id": "a53a92dd-a547-48b8-b33b-ed884b7ea0f0",
   "metadata": {},
   "source": [
    "### 삭제"
   ]
  },
  {
   "cell_type": "code",
   "execution_count": 89,
   "id": "1ee0c5ef-da30-44da-9057-c39450eaf355",
   "metadata": {},
   "outputs": [
    {
     "data": {
      "text/plain": [
       "[1, 3]"
      ]
     },
     "execution_count": 89,
     "metadata": {},
     "output_type": "execute_result"
    }
   ],
   "source": [
    "a = [1, 2, 3]\n",
    "a.remove(2)      # remove 처음 보이는 2 지움\n",
    "a"
   ]
  },
  {
   "cell_type": "code",
   "execution_count": 90,
   "id": "1dd25a4d-947e-474a-a6b2-849c36de263b",
   "metadata": {},
   "outputs": [
    {
     "data": {
      "text/plain": [
       "3"
      ]
     },
     "execution_count": 90,
     "metadata": {},
     "output_type": "execute_result"
    }
   ],
   "source": [
    "a.pop(1)          # pop 뭐 지웠는지 확인할 때. 한번 보여주고 지움. index 써야함"
   ]
  },
  {
   "cell_type": "code",
   "execution_count": 91,
   "id": "6a5218ad-55a2-4f0a-82b2-65d2568fe2be",
   "metadata": {},
   "outputs": [
    {
     "data": {
      "text/plain": [
       "[1]"
      ]
     },
     "execution_count": 91,
     "metadata": {},
     "output_type": "execute_result"
    }
   ],
   "source": [
    "a"
   ]
  },
  {
   "cell_type": "markdown",
   "id": "d9c7aa2c-ac79-4add-95eb-fa80c3ebf4c7",
   "metadata": {},
   "source": [
    "### 정렬"
   ]
  },
  {
   "cell_type": "code",
   "execution_count": 94,
   "id": "cc1d24f5-b722-456d-a40d-d27d985a5114",
   "metadata": {},
   "outputs": [
    {
     "data": {
      "text/plain": [
       "[1, 2, 3, 4]"
      ]
     },
     "execution_count": 94,
     "metadata": {},
     "output_type": "execute_result"
    }
   ],
   "source": [
    "a = [1, 3, 2, 4]\n",
    "a.sort()            # sort 정렬 후 바로 저장 됨. \n",
    "a"
   ]
  },
  {
   "cell_type": "code",
   "execution_count": 96,
   "id": "c1185104-0dca-4b75-afab-4a89e28a3c52",
   "metadata": {},
   "outputs": [
    {
     "data": {
      "text/plain": [
       "[1, 2, 3, 4]"
      ]
     },
     "execution_count": 96,
     "metadata": {},
     "output_type": "execute_result"
    }
   ],
   "source": [
    "a = [1, 3, 2, 4]\n",
    "sorted(a)            # sorted : 내장함수 sorted 썼을때만 정렬 됨. 저장 X"
   ]
  },
  {
   "cell_type": "code",
   "execution_count": 97,
   "id": "35011614-296b-4b37-9d23-d38d95f2f113",
   "metadata": {},
   "outputs": [
    {
     "data": {
      "text/plain": [
       "[1, 2, 3, 4]"
      ]
     },
     "execution_count": 97,
     "metadata": {},
     "output_type": "execute_result"
    }
   ],
   "source": [
    "a = sorted(a)        # 자동 저장 X 이렇게 넣어주기\n",
    "a"
   ]
  },
  {
   "cell_type": "code",
   "execution_count": 98,
   "id": "eee0f325-8ab9-4770-9c60-306d77883477",
   "metadata": {},
   "outputs": [
    {
     "data": {
      "text/plain": [
       "[4, 3, 2, 1]"
      ]
     },
     "execution_count": 98,
     "metadata": {},
     "output_type": "execute_result"
    }
   ],
   "source": [
    "a.reverse()          # reverse : 거꾸로 정렬. 숫자 크기 상관 없이 거꾸로\n",
    "a"
   ]
  },
  {
   "cell_type": "code",
   "execution_count": 99,
   "id": "aeff5ced-4977-4b51-8067-9bdd2dfb9933",
   "metadata": {},
   "outputs": [
    {
     "data": {
      "text/plain": [
       "[4, 5, 1, 2]"
      ]
     },
     "execution_count": 99,
     "metadata": {},
     "output_type": "execute_result"
    }
   ],
   "source": [
    "a = [2, 1, 5, 4]\n",
    "a.reverse()\n",
    "a"
   ]
  },
  {
   "cell_type": "code",
   "execution_count": null,
   "id": "79d9be87-bb35-4f9c-a870-9a94af5613b1",
   "metadata": {},
   "outputs": [],
   "source": [
    "# A = [3, 1, 5, 7, 4] 일 때, \n",
    "# A = [7, 5, 4, 3, 1] 로 바꾸어 주세요."
   ]
  },
  {
   "cell_type": "code",
   "execution_count": 104,
   "id": "fad3ce1f-9c40-4c9c-97a5-e5602f40b0ff",
   "metadata": {},
   "outputs": [
    {
     "data": {
      "text/plain": [
       "[7, 5, 4, 3, 1]"
      ]
     },
     "execution_count": 104,
     "metadata": {},
     "output_type": "execute_result"
    }
   ],
   "source": [
    "A = [3, 1, 5, 7, 4]\n",
    "A.sort()\n",
    "A.reverse()\n",
    "A"
   ]
  },
  {
   "cell_type": "code",
   "execution_count": null,
   "id": "8de053b8-6652-4ded-8ed5-d70fe03c294c",
   "metadata": {},
   "outputs": [],
   "source": [
    "a.sort().reverse()  # < 적용 안됨. sort 실행 전이라 list 인줄 모름. 만든 사람이 안되게 해따(?)"
   ]
  },
  {
   "cell_type": "code",
   "execution_count": 105,
   "id": "c208dffe-c783-4000-8e98-db635c4c8ba7",
   "metadata": {},
   "outputs": [],
   "source": [
    "m = [1, 2, 3]\n",
    "m."
   ]
  },
  {
   "cell_type": "code",
   "execution_count": 106,
   "id": "959ee50c-25bd-4617-b207-bf79725f64cc",
   "metadata": {},
   "outputs": [],
   "source": [
    "li = []\n",
    "for i in range(20):\n",
    "    if i % 3 == 0 :\n",
    "        li.append(i)     # append 많이 쓰임"
   ]
  },
  {
   "cell_type": "code",
   "execution_count": 107,
   "id": "b0dac716-af7b-4f64-b9b9-1d09c6c9abc9",
   "metadata": {},
   "outputs": [
    {
     "data": {
      "text/plain": [
       "[0, 3, 6, 9, 12, 15, 18]"
      ]
     },
     "execution_count": 107,
     "metadata": {},
     "output_type": "execute_result"
    }
   ],
   "source": [
    "li"
   ]
  },
  {
   "cell_type": "markdown",
   "id": "9d157032-42b2-4470-b82b-e5b5d7aa3401",
   "metadata": {},
   "source": [
    "## 튜플 (tuple)\n",
    "-  99% 리스트와 같다"
   ]
  },
  {
   "cell_type": "code",
   "execution_count": 108,
   "id": "1843240e-59de-47a4-b67d-d6aedacb89ba",
   "metadata": {},
   "outputs": [
    {
     "data": {
      "text/plain": [
       "(1, 2, 3)"
      ]
     },
     "execution_count": 108,
     "metadata": {},
     "output_type": "execute_result"
    }
   ],
   "source": [
    "a = (1, 2, 3)       # 튜플은 ( ) 소괄호로 되어있다\n",
    "a"
   ]
  },
  {
   "cell_type": "code",
   "execution_count": 112,
   "id": "7232af86-411b-4b18-9918-541511949970",
   "metadata": {},
   "outputs": [
    {
     "data": {
      "text/plain": [
       "tuple"
      ]
     },
     "execution_count": 112,
     "metadata": {},
     "output_type": "execute_result"
    }
   ],
   "source": [
    "type(a)"
   ]
  },
  {
   "cell_type": "code",
   "execution_count": 109,
   "id": "95719ff2-2167-44e1-903c-f0ae0c2747de",
   "metadata": {},
   "outputs": [
    {
     "data": {
      "text/plain": [
       "(1, 2, 3)"
      ]
     },
     "execution_count": 109,
     "metadata": {},
     "output_type": "execute_result"
    }
   ],
   "source": [
    "b = 1, 2, 3\n",
    "b"
   ]
  },
  {
   "cell_type": "code",
   "execution_count": 110,
   "id": "f03b0027-b8e0-4418-a76c-642ea28e1673",
   "metadata": {},
   "outputs": [
    {
     "data": {
      "text/plain": [
       "1"
      ]
     },
     "execution_count": 110,
     "metadata": {},
     "output_type": "execute_result"
    }
   ],
   "source": [
    "a[0]"
   ]
  },
  {
   "cell_type": "code",
   "execution_count": 111,
   "id": "4c81e87c-bd88-4482-96ab-816a53e6a600",
   "metadata": {},
   "outputs": [
    {
     "data": {
      "text/plain": [
       "(2, 3)"
      ]
     },
     "execution_count": 111,
     "metadata": {},
     "output_type": "execute_result"
    }
   ],
   "source": [
    "a[1:]"
   ]
  },
  {
   "cell_type": "code",
   "execution_count": 120,
   "id": "5e9b49c7-8f4f-4614-9813-d851283cbd34",
   "metadata": {},
   "outputs": [
    {
     "data": {
      "text/plain": [
       "(1, 2, 3)"
      ]
     },
     "execution_count": 120,
     "metadata": {},
     "output_type": "execute_result"
    }
   ],
   "source": [
    "a = 1, 2, 3\n",
    "a"
   ]
  },
  {
   "cell_type": "code",
   "execution_count": 121,
   "id": "c7416944-40e8-40e4-9550-ab04d3374fe1",
   "metadata": {},
   "outputs": [
    {
     "ename": "TypeError",
     "evalue": "'tuple' object does not support item assignment",
     "output_type": "error",
     "traceback": [
      "\u001b[1;31m---------------------------------------------------------------------------\u001b[0m",
      "\u001b[1;31mTypeError\u001b[0m                                 Traceback (most recent call last)",
      "Input \u001b[1;32mIn [121]\u001b[0m, in \u001b[0;36m<cell line: 1>\u001b[1;34m()\u001b[0m\n\u001b[1;32m----> 1\u001b[0m a[\u001b[38;5;241m1\u001b[39m] \u001b[38;5;241m=\u001b[39m \u001b[38;5;241m20\u001b[39m\n",
      "\u001b[1;31mTypeError\u001b[0m: 'tuple' object does not support item assignment"
     ]
    }
   ],
   "source": [
    "a[1] = 20     # 튜플은 한번 만들면 수정 할 수 가 없음. 잘 안씀\n",
    "              # 실수로라도 수정하면 안되는 경우 드물게 사용 ex) 주민등록번호"
   ]
  },
  {
   "cell_type": "code",
   "execution_count": 122,
   "id": "98bae41d-10a0-44c9-b350-af70e7280a81",
   "metadata": {},
   "outputs": [
    {
     "name": "stdout",
     "output_type": "stream",
     "text": [
      "4\n",
      "1\n"
     ]
    }
   ],
   "source": [
    "# 주로 변수 값을 두개 이상 동시에 받을 때\n",
    "a, b = divmod(17, 4)\n",
    "print(a)\n",
    "print(b)"
   ]
  },
  {
   "cell_type": "code",
   "execution_count": 123,
   "id": "e63ade10-d709-4507-a073-8541aad69f94",
   "metadata": {},
   "outputs": [
    {
     "name": "stdout",
     "output_type": "stream",
     "text": [
      "17을 4로 나눈 몫은 4이고 나머지는 1입니다\n"
     ]
    }
   ],
   "source": [
    "# 주로 변수 값을 두개 이상 동시에 받을 때\n",
    "a, b = divmod(17, 4)\n",
    "print(f\"17을 4로 나눈 몫은 {a}이고 나머지는 {b}입니다\")"
   ]
  },
  {
   "cell_type": "markdown",
   "id": "3b2125d2-efa6-469f-9a41-ca685fe31153",
   "metadata": {},
   "source": [
    "## 딕셔너리 (dictionary)\n",
    "- { key : value }   "
   ]
  },
  {
   "cell_type": "markdown",
   "id": "a86de75b-1840-47d8-a383-0b197878fd5f",
   "metadata": {},
   "source": [
    "### 만들기"
   ]
  },
  {
   "cell_type": "code",
   "execution_count": 138,
   "id": "8a964972-22f6-45e0-9aac-80a69ec55383",
   "metadata": {},
   "outputs": [
    {
     "data": {
      "text/plain": [
       "{'apple': ['사과', '능금', '백설공주가 먹고 죽다'], 'banana': '바나나', 'carrot': '당근'}"
      ]
     },
     "execution_count": 138,
     "metadata": {},
     "output_type": "execute_result"
    }
   ],
   "source": [
    "a = {'apple' : ['사과','능금', \"백설공주가 먹고 죽다\"], 'banana' : '바나나', 'carrot' : '당근'}\n",
    "a               # 2개 이상 묶어줌 리스트화"
   ]
  },
  {
   "cell_type": "code",
   "execution_count": null,
   "id": "07fdc5e0-c6b0-4d48-bd61-58d7f22d9572",
   "metadata": {},
   "outputs": [],
   "source": [
    "# list [ ]  tuple ( )  dictionary { }  말 그대로 사전 처럼. \n",
    "# 중괄호 넣고 1 : 1 대응 느낌으로. 1 : n 대응도 가능"
   ]
  },
  {
   "cell_type": "code",
   "execution_count": 125,
   "id": "627e9c6b-1595-495c-9e5a-4d95eef774d0",
   "metadata": {},
   "outputs": [
    {
     "data": {
      "text/plain": [
       "dict"
      ]
     },
     "execution_count": 125,
     "metadata": {},
     "output_type": "execute_result"
    }
   ],
   "source": [
    "type(a)"
   ]
  },
  {
   "cell_type": "markdown",
   "id": "7df2e361-ac67-4964-90bb-2200c33941f5",
   "metadata": {},
   "source": [
    "### 접근 \n",
    "- key로 읽는다"
   ]
  },
  {
   "cell_type": "code",
   "execution_count": 126,
   "id": "d1cd3a8b-1299-4dcd-b3b2-d5700c7b5e1a",
   "metadata": {},
   "outputs": [
    {
     "data": {
      "text/plain": [
       "'사과'"
      ]
     },
     "execution_count": 126,
     "metadata": {},
     "output_type": "execute_result"
    }
   ],
   "source": [
    "a['apple']     # 숫자로 물어보지 않고 단어로 물어봄"
   ]
  },
  {
   "cell_type": "code",
   "execution_count": 139,
   "id": "b0d053ee-50b9-460b-8ca0-8cc87b7c487f",
   "metadata": {},
   "outputs": [
    {
     "data": {
      "text/plain": [
       "['사과', '능금', '백설공주가 먹고 죽다']"
      ]
     },
     "execution_count": 139,
     "metadata": {},
     "output_type": "execute_result"
    }
   ],
   "source": [
    "a['apple']"
   ]
  },
  {
   "cell_type": "markdown",
   "id": "6bddbda7-90e8-43eb-b785-6cdb48f38375",
   "metadata": {},
   "source": [
    "### 수정"
   ]
  },
  {
   "cell_type": "code",
   "execution_count": 140,
   "id": "fdea3bc2-e876-4f22-97e9-37966cd28e2e",
   "metadata": {},
   "outputs": [
    {
     "data": {
      "text/plain": [
       "{'apple': ['사과', '능금', '백설공주가 먹고 죽다'], 'banana': '버네너', 'carrot': '당근'}"
      ]
     },
     "execution_count": 140,
     "metadata": {},
     "output_type": "execute_result"
    }
   ],
   "source": [
    "a['banana'] = '버네너'\n",
    "a"
   ]
  },
  {
   "cell_type": "code",
   "execution_count": 143,
   "id": "9259793a-2265-4e4e-b288-5c9c953184d3",
   "metadata": {},
   "outputs": [
    {
     "data": {
      "text/plain": [
       "{'apple': ['사과', '능금', '백설공주가 먹고 죽다'],\n",
       " 'banana': '버네너',\n",
       " 'carrot': '당근',\n",
       " 'carot': '홍당무'}"
      ]
     },
     "execution_count": 143,
     "metadata": {},
     "output_type": "execute_result"
    }
   ],
   "source": [
    "a['carot'] = \"홍당무\"         # 없는 것 입력하면 새로 추가 됨\n",
    "a\n",
    "# 있으면 수정하고, 없으면 만든다"
   ]
  },
  {
   "cell_type": "code",
   "execution_count": 144,
   "id": "3d94be38-a0c8-4340-beab-c5d1149797fa",
   "metadata": {},
   "outputs": [
    {
     "data": {
      "text/plain": [
       "dict_keys(['apple', 'banana', 'carrot', 'carot'])"
      ]
     },
     "execution_count": 144,
     "metadata": {},
     "output_type": "execute_result"
    }
   ],
   "source": [
    "a.keys()        # keys 키 값만 보여줌"
   ]
  },
  {
   "cell_type": "code",
   "execution_count": 145,
   "id": "744bd681-ce2d-4d30-a18d-a56e8023ebf2",
   "metadata": {},
   "outputs": [
    {
     "data": {
      "text/plain": [
       "dict_values([['사과', '능금', '백설공주가 먹고 죽다'], '버네너', '당근', '홍당무'])"
      ]
     },
     "execution_count": 145,
     "metadata": {},
     "output_type": "execute_result"
    }
   ],
   "source": [
    "a.values()     # values 밸류 값만 보여줌"
   ]
  },
  {
   "cell_type": "code",
   "execution_count": 146,
   "id": "2a9f1f92-4222-4a32-96ec-440321dcf2e7",
   "metadata": {},
   "outputs": [
    {
     "data": {
      "text/plain": [
       "dict_items([('apple', ['사과', '능금', '백설공주가 먹고 죽다']), ('banana', '버네너'), ('carrot', '당근'), ('carot', '홍당무')])"
      ]
     },
     "execution_count": 146,
     "metadata": {},
     "output_type": "execute_result"
    }
   ],
   "source": [
    "a.items()      # 전체 다 보여줌"
   ]
  },
  {
   "cell_type": "code",
   "execution_count": 148,
   "id": "5a1d27a6-a457-412b-959b-69bc31e7f7fc",
   "metadata": {},
   "outputs": [
    {
     "name": "stdout",
     "output_type": "stream",
     "text": [
      "1\n",
      "끝\n",
      "\n",
      "2\n",
      "끝\n",
      "\n",
      "3\n",
      "끝\n",
      "\n"
     ]
    }
   ],
   "source": [
    "for i in [1, 2, 3]:\n",
    "    print(i)\n",
    "    print(\"끝\")\n",
    "    print()                      # 반복됨"
   ]
  },
  {
   "cell_type": "code",
   "execution_count": 149,
   "id": "cc7f3cf7-86c3-4c1f-b8a7-005a1e1f38d6",
   "metadata": {},
   "outputs": [
    {
     "data": {
      "text/plain": [
       "dict_keys(['apple', 'banana', 'carrot', 'carot'])"
      ]
     },
     "execution_count": 149,
     "metadata": {},
     "output_type": "execute_result"
    }
   ],
   "source": [
    "a.keys()"
   ]
  },
  {
   "cell_type": "code",
   "execution_count": 150,
   "id": "df938be3-7912-4130-8c9f-1e43fd2f790e",
   "metadata": {},
   "outputs": [
    {
     "name": "stdout",
     "output_type": "stream",
     "text": [
      "apple\n",
      "banana\n",
      "carrot\n",
      "carot\n"
     ]
    }
   ],
   "source": [
    "for i in a.keys():\n",
    "    print(i)"
   ]
  },
  {
   "cell_type": "code",
   "execution_count": 151,
   "id": "e53b743b-89c0-4665-a813-8a1cd2a9ef8c",
   "metadata": {},
   "outputs": [
    {
     "name": "stdout",
     "output_type": "stream",
     "text": [
      "['사과', '능금', '백설공주가 먹고 죽다']\n",
      "버네너\n",
      "당근\n",
      "홍당무\n"
     ]
    }
   ],
   "source": [
    "for i in a.values():\n",
    "    print(i)"
   ]
  },
  {
   "cell_type": "code",
   "execution_count": 152,
   "id": "be513d63-3cf2-447d-8d54-e6060b6c8cc8",
   "metadata": {},
   "outputs": [
    {
     "name": "stdout",
     "output_type": "stream",
     "text": [
      "('apple', ['사과', '능금', '백설공주가 먹고 죽다'])\n",
      "('banana', '버네너')\n",
      "('carrot', '당근')\n",
      "('carot', '홍당무')\n"
     ]
    }
   ],
   "source": [
    "for i in a.items():\n",
    "    print(i)"
   ]
  },
  {
   "cell_type": "code",
   "execution_count": 155,
   "id": "4d49709a-84ca-42f9-8b81-a50352738cf5",
   "metadata": {},
   "outputs": [
    {
     "name": "stdout",
     "output_type": "stream",
     "text": [
      "사과\n",
      "능금\n",
      "백설공주가 먹고 죽다\n"
     ]
    }
   ],
   "source": [
    "for i in a['apple']:\n",
    "    print(i)"
   ]
  },
  {
   "cell_type": "code",
   "execution_count": null,
   "id": "86f9ede9-2bcb-4e48-9952-3627aadd00ef",
   "metadata": {},
   "outputs": [],
   "source": [
    "\"키 00 의 값은 00 입니다\"\n",
    "\"키 00 의 값은 00 입니다\"\n",
    "\"키 00 의 값은 00 입니다\"\n",
    "\"키 00 의 값은 00 입니다\""
   ]
  },
  {
   "cell_type": "code",
   "execution_count": 156,
   "id": "bece4814-6cc3-430a-9e4a-52ea21a71306",
   "metadata": {},
   "outputs": [
    {
     "name": "stdout",
     "output_type": "stream",
     "text": [
      "키 apple의 값은 ['사과', '능금', '백설공주가 먹고 죽다']입니다.\n",
      "키 banana의 값은 버네너입니다.\n",
      "키 carrot의 값은 당근입니다.\n",
      "키 carot의 값은 홍당무입니다.\n"
     ]
    }
   ],
   "source": [
    "for i, j in a.items():\n",
    "    print(f\"키 {i}의 값은 {j}입니다.\")"
   ]
  },
  {
   "cell_type": "markdown",
   "id": "4b7759bf-54d1-459d-9365-d95004153944",
   "metadata": {},
   "source": [
    "## 집합"
   ]
  },
  {
   "cell_type": "markdown",
   "id": "91b60c6e-1442-4579-97c3-c7d1d6f01e23",
   "metadata": {},
   "source": [
    "### 만들기"
   ]
  },
  {
   "cell_type": "code",
   "execution_count": null,
   "id": "a1cc77bc-7a54-4c53-8738-00ac5c52d7fd",
   "metadata": {},
   "outputs": [],
   "source": [
    "[ ] 리스트\n",
    "( ) 튜플\n",
    "{ } 딕셔너리\n",
    "\n",
    "set() 함수 사용하여 만듬 { } 도 가능\n",
    "\n",
    "중복을 허용하지 않는다. 순서가 없다. (Unordered)"
   ]
  },
  {
   "cell_type": "code",
   "execution_count": 2,
   "id": "5876ca94-c125-4d41-8e2f-fac8bf9e56a4",
   "metadata": {},
   "outputs": [
    {
     "data": {
      "text/plain": [
       "{1, 2, 3}"
      ]
     },
     "execution_count": 2,
     "metadata": {},
     "output_type": "execute_result"
    }
   ],
   "source": [
    "a = set([1, 1, 1, 2, 3])\n",
    "a"
   ]
  },
  {
   "cell_type": "code",
   "execution_count": 4,
   "id": "9acf2d7e-1072-479c-984e-b65e2cf00eb3",
   "metadata": {},
   "outputs": [
    {
     "data": {
      "text/plain": [
       "set"
      ]
     },
     "execution_count": 4,
     "metadata": {},
     "output_type": "execute_result"
    }
   ],
   "source": [
    "type(a)"
   ]
  },
  {
   "cell_type": "code",
   "execution_count": 5,
   "id": "c2ef891c-1e7f-452d-9274-0506d8c6fc66",
   "metadata": {},
   "outputs": [
    {
     "data": {
      "text/plain": [
       "{1, 2, 3}"
      ]
     },
     "execution_count": 5,
     "metadata": {},
     "output_type": "execute_result"
    }
   ],
   "source": [
    "{1, 1, 1, 2, 3}"
   ]
  },
  {
   "cell_type": "code",
   "execution_count": 6,
   "id": "3604227a-e0d5-4b6d-af13-d48d25b040db",
   "metadata": {},
   "outputs": [],
   "source": [
    "A = {1, 2, 3, 4}\n",
    "B = set([3, 4, 5, 6])"
   ]
  },
  {
   "cell_type": "code",
   "execution_count": 7,
   "id": "50f7d276-ba0e-46cf-b040-c33683812308",
   "metadata": {},
   "outputs": [
    {
     "data": {
      "text/plain": [
       "{1, 2, 3, 4, 5, 6}"
      ]
     },
     "execution_count": 7,
     "metadata": {},
     "output_type": "execute_result"
    }
   ],
   "source": [
    "A.union(B)              #합집합"
   ]
  },
  {
   "cell_type": "code",
   "execution_count": 9,
   "id": "28b14eaa-3b49-4069-88dd-e76fc817238c",
   "metadata": {},
   "outputs": [
    {
     "data": {
      "text/plain": [
       "{1, 2, 3, 4, 5, 6}"
      ]
     },
     "execution_count": 9,
     "metadata": {},
     "output_type": "execute_result"
    }
   ],
   "source": [
    "A|B                     #합집합  원화 + shift키"
   ]
  },
  {
   "cell_type": "code",
   "execution_count": 8,
   "id": "3e02b002-db39-4892-b1ed-f65a2e127e49",
   "metadata": {},
   "outputs": [
    {
     "data": {
      "text/plain": [
       "{3, 4}"
      ]
     },
     "execution_count": 8,
     "metadata": {},
     "output_type": "execute_result"
    }
   ],
   "source": [
    "A.intersection(B)       #교집합"
   ]
  },
  {
   "cell_type": "code",
   "execution_count": 10,
   "id": "3715be72-9fcd-435b-83cf-657db0c4353b",
   "metadata": {},
   "outputs": [
    {
     "data": {
      "text/plain": [
       "{3, 4}"
      ]
     },
     "execution_count": 10,
     "metadata": {},
     "output_type": "execute_result"
    }
   ],
   "source": [
    "A&B                     #교집합"
   ]
  },
  {
   "cell_type": "code",
   "execution_count": 12,
   "id": "38982414-8085-468b-8fbf-35950145ebc6",
   "metadata": {},
   "outputs": [
    {
     "data": {
      "text/plain": [
       "{1, 2}"
      ]
     },
     "execution_count": 12,
     "metadata": {},
     "output_type": "execute_result"
    }
   ],
   "source": [
    "A.difference(B)         #차집합"
   ]
  },
  {
   "cell_type": "code",
   "execution_count": 13,
   "id": "74572ccd-99a7-4e2d-a461-5967237d1c39",
   "metadata": {},
   "outputs": [
    {
     "data": {
      "text/plain": [
       "{1, 2}"
      ]
     },
     "execution_count": 13,
     "metadata": {},
     "output_type": "execute_result"
    }
   ],
   "source": [
    "A-B                     #차집합"
   ]
  },
  {
   "cell_type": "code",
   "execution_count": 15,
   "id": "b8a39261-cc1c-44d6-acf6-96eec42745a7",
   "metadata": {},
   "outputs": [
    {
     "data": {
      "text/plain": [
       "{1, 2, 3, 4, 5}"
      ]
     },
     "execution_count": 15,
     "metadata": {},
     "output_type": "execute_result"
    }
   ],
   "source": [
    "A.add(5)                #값을 추가\n",
    "A"
   ]
  },
  {
   "cell_type": "code",
   "execution_count": 17,
   "id": "7f8820d7-d856-4212-ae8e-70db507288b2",
   "metadata": {},
   "outputs": [
    {
     "data": {
      "text/plain": [
       "{1, 2, 3, 4, 5, 6, 7, 8}"
      ]
     },
     "execution_count": 17,
     "metadata": {},
     "output_type": "execute_result"
    }
   ],
   "source": [
    "A.update([6, 7, 8])     #값 여러개 추가하기\n",
    "A"
   ]
  },
  {
   "cell_type": "code",
   "execution_count": null,
   "id": "cb4636dd-7e42-43c9-9c1d-6397fa52e516",
   "metadata": {},
   "outputs": [],
   "source": [
    "변수 이름 = 변수에 저장할 값\n",
    "\n",
    "예약어로 변수 이름 하지 말기\n",
    "True  False  list  str  초록색 변한거\n",
    "변수 이름은 맨 앞자리에 숫자로 시작하면 안됨"
   ]
  },
  {
   "cell_type": "code",
   "execution_count": 21,
   "id": "0cf6563c-d778-4c3b-857c-88cf14120f49",
   "metadata": {},
   "outputs": [
    {
     "data": {
      "text/plain": [
       "True"
      ]
     },
     "execution_count": 21,
     "metadata": {},
     "output_type": "execute_result"
    }
   ],
   "source": [
    "1 == 1             # == 비교연산자  = (assignment) 할당연산자"
   ]
  },
  {
   "cell_type": "code",
   "execution_count": 22,
   "id": "5f6adcb4-dae5-4100-9ab9-7321adf24193",
   "metadata": {},
   "outputs": [],
   "source": [
    "a = [1, 2, 3]"
   ]
  },
  {
   "cell_type": "code",
   "execution_count": 23,
   "id": "66c3306c-c9d9-417c-a2be-5d6d90f6fd33",
   "metadata": {},
   "outputs": [],
   "source": [
    "b = a"
   ]
  },
  {
   "cell_type": "code",
   "execution_count": 24,
   "id": "b3d2a9ea-0b2b-4770-94c8-c8216d598ab4",
   "metadata": {},
   "outputs": [
    {
     "data": {
      "text/plain": [
       "[1, 2, 3]"
      ]
     },
     "execution_count": 24,
     "metadata": {},
     "output_type": "execute_result"
    }
   ],
   "source": [
    "b"
   ]
  },
  {
   "cell_type": "code",
   "execution_count": 27,
   "id": "6ed1e4cf-a17e-4b72-92ed-0708a3c00ae6",
   "metadata": {},
   "outputs": [
    {
     "data": {
      "text/plain": [
       "[1, 20, 3]"
      ]
     },
     "execution_count": 27,
     "metadata": {},
     "output_type": "execute_result"
    }
   ],
   "source": [
    "b[1] = 20\n",
    "b"
   ]
  },
  {
   "cell_type": "code",
   "execution_count": 28,
   "id": "1e5eb002-cdd5-4737-ba3f-c4f1ab7390b5",
   "metadata": {},
   "outputs": [
    {
     "data": {
      "text/plain": [
       "[1, 20, 3]"
      ]
     },
     "execution_count": 28,
     "metadata": {},
     "output_type": "execute_result"
    }
   ],
   "source": [
    "a              # b 를 바꿨는데 a 도 함께 바뀜"
   ]
  },
  {
   "cell_type": "code",
   "execution_count": 29,
   "id": "40c24351-9352-4988-a749-8fa4f16cd110",
   "metadata": {},
   "outputs": [
    {
     "data": {
      "text/plain": [
       "1782047595392"
      ]
     },
     "execution_count": 29,
     "metadata": {},
     "output_type": "execute_result"
    }
   ],
   "source": [
    "id(a)          # a의 주소"
   ]
  },
  {
   "cell_type": "code",
   "execution_count": 30,
   "id": "e2d72aa3-51e5-442b-999c-729f3a336e2f",
   "metadata": {},
   "outputs": [
    {
     "data": {
      "text/plain": [
       "1782047595392"
      ]
     },
     "execution_count": 30,
     "metadata": {},
     "output_type": "execute_result"
    }
   ],
   "source": [
    "id(b)          # 실제로 복사가 이루어진게 아님  a, b 주소가 같음"
   ]
  },
  {
   "cell_type": "code",
   "execution_count": 31,
   "id": "1c2ce6a3-0718-48a8-a834-50024d386910",
   "metadata": {},
   "outputs": [
    {
     "data": {
      "text/plain": [
       "[1, 20, 3]"
      ]
     },
     "execution_count": 31,
     "metadata": {},
     "output_type": "execute_result"
    }
   ],
   "source": [
    "c = a.copy()   # copy를 사용하면 새로운 주소를 사용 기존 a 바뀌지 앟음\n",
    "c"
   ]
  },
  {
   "cell_type": "code",
   "execution_count": 32,
   "id": "05285a6a-7d86-4409-9279-c8861e0c4798",
   "metadata": {},
   "outputs": [
    {
     "data": {
      "text/plain": [
       "[1, 200, 3]"
      ]
     },
     "execution_count": 32,
     "metadata": {},
     "output_type": "execute_result"
    }
   ],
   "source": [
    "c[1] = 200\n",
    "c"
   ]
  },
  {
   "cell_type": "code",
   "execution_count": 33,
   "id": "c1a926b0-b8c8-4ceb-baad-69ae6f1fcc25",
   "metadata": {},
   "outputs": [
    {
     "data": {
      "text/plain": [
       "[1, 20, 3]"
      ]
     },
     "execution_count": 33,
     "metadata": {},
     "output_type": "execute_result"
    }
   ],
   "source": [
    "a"
   ]
  },
  {
   "cell_type": "code",
   "execution_count": 34,
   "id": "c622895f-3fea-4b4f-b52c-a658b44bf306",
   "metadata": {},
   "outputs": [
    {
     "data": {
      "text/plain": [
       "1782047595392"
      ]
     },
     "execution_count": 34,
     "metadata": {},
     "output_type": "execute_result"
    }
   ],
   "source": [
    "id(a)"
   ]
  },
  {
   "cell_type": "code",
   "execution_count": 35,
   "id": "ee9401df-61a2-4d8d-a828-0a4a9869d0c9",
   "metadata": {},
   "outputs": [
    {
     "data": {
      "text/plain": [
       "1782083907520"
      ]
     },
     "execution_count": 35,
     "metadata": {},
     "output_type": "execute_result"
    }
   ],
   "source": [
    "id(c)          # 주소 다르당"
   ]
  },
  {
   "cell_type": "code",
   "execution_count": 37,
   "id": "0696f555-0904-4fa9-b99c-0e5847b9a4da",
   "metadata": {},
   "outputs": [
    {
     "data": {
      "text/plain": [
       "[1, 20, 3]"
      ]
     },
     "execution_count": 37,
     "metadata": {},
     "output_type": "execute_result"
    }
   ],
   "source": [
    "d = a[:]      # 요거도 가능 주소 따로 만드는 copy\n",
    "d"
   ]
  },
  {
   "cell_type": "code",
   "execution_count": 38,
   "id": "6c80e6aa-1eec-4d56-b218-923b4db1ceff",
   "metadata": {},
   "outputs": [],
   "source": [
    "a = 3\n",
    "b = 5"
   ]
  },
  {
   "cell_type": "code",
   "execution_count": 39,
   "id": "0b9a1b2d-4497-4e21-a3e1-bd7f81cca6ae",
   "metadata": {},
   "outputs": [],
   "source": [
    "a, b = b , a      # 많이 쓰임"
   ]
  },
  {
   "cell_type": "code",
   "execution_count": 40,
   "id": "036c52a0-8990-4e20-9769-382abd619ad8",
   "metadata": {},
   "outputs": [
    {
     "data": {
      "text/plain": [
       "5"
      ]
     },
     "execution_count": 40,
     "metadata": {},
     "output_type": "execute_result"
    }
   ],
   "source": [
    "a"
   ]
  },
  {
   "cell_type": "code",
   "execution_count": 41,
   "id": "a5345bd9-21d1-4691-bc24-c3292bacd557",
   "metadata": {},
   "outputs": [
    {
     "data": {
      "text/plain": [
       "3"
      ]
     },
     "execution_count": 41,
     "metadata": {},
     "output_type": "execute_result"
    }
   ],
   "source": [
    "b"
   ]
  },
  {
   "cell_type": "code",
   "execution_count": null,
   "id": "504945dd-9cdb-4678-959c-4ef2b53904d9",
   "metadata": {},
   "outputs": [],
   "source": [
    "#알수 없는 에러가 나오는 이유? 한글 써서 그럴 수 있음\n",
    "#한글 때문에 난 에러라고 안알려줌 다른 이유로 알려줌"
   ]
  },
  {
   "cell_type": "code",
   "execution_count": null,
   "id": "f453d00b-2ea6-428b-8bb8-2a6352851fba",
   "metadata": {},
   "outputs": [],
   "source": [
    "#코드의 줄을 꼭 맞춰줘야함\n",
    "#if 쓰고 :     < :(콜론) 쓰면 자동 들여쓰기 4칸\n",
    "#    < 이렇게 네칸 띄워줘야함 거기서 또 :(콜론) 쓰면 또 네칸 추가 총 8칸\n",
    "#파이썬에서 들여쓰기를 하지 않으면 프로그램이 실행되지 않는다.\n",
    "#가독성에 크게 도움이 된다."
   ]
  },
  {
   "cell_type": "code",
   "execution_count": 42,
   "id": "6dfdade6-18fa-49b1-8499-4e24551086f6",
   "metadata": {},
   "outputs": [
    {
     "name": "stdout",
     "output_type": "stream",
     "text": [
      "택시를 타고가라\n"
     ]
    }
   ],
   "source": [
    "money = True\n",
    "if money:\n",
    "    print(\"택시를 타고가라\")\n",
    "else:\n",
    "    print(\"걸어가라\")"
   ]
  },
  {
   "cell_type": "markdown",
   "id": "f80e6e72-ee1a-4d30-ad33-963daa2906b0",
   "metadata": {},
   "source": [
    "# 제어문"
   ]
  },
  {
   "cell_type": "markdown",
   "id": "acd0b01e-961d-49e2-9da2-4be29fb4d1ee",
   "metadata": {},
   "source": [
    "## 조건문 (if)"
   ]
  },
  {
   "cell_type": "markdown",
   "id": "152bf2c5-2577-4d1a-b609-235dbd62e295",
   "metadata": {},
   "source": [
    "```\n",
    "if 조건 :\n",
    "    실행할 문장\n",
    "else :\n",
    "    그렇지 않으면 실행할 문장\n",
    "    \n",
    "if 는 여러번 와도 된다\n",
    "else는 없어도 된다\n",
    "```\n"
   ]
  },
  {
   "cell_type": "code",
   "execution_count": 43,
   "id": "629d92be-af52-4508-93cd-f167f861835d",
   "metadata": {},
   "outputs": [
    {
     "name": "stdout",
     "output_type": "stream",
     "text": [
      "Yes\n"
     ]
    }
   ],
   "source": [
    "if True :\n",
    "    print(\"Yes\")"
   ]
  },
  {
   "cell_type": "code",
   "execution_count": 44,
   "id": "1d187178-a4d9-4a8e-89d2-df039700442d",
   "metadata": {},
   "outputs": [
    {
     "name": "stdout",
     "output_type": "stream",
     "text": [
      "Yes\n"
     ]
    }
   ],
   "source": [
    "if 1 < 2 :\n",
    "    print(\"Yes\")"
   ]
  },
  {
   "cell_type": "code",
   "execution_count": 45,
   "id": "62c0afac-997c-435d-aadc-00a0c4e7450d",
   "metadata": {},
   "outputs": [
    {
     "name": "stdout",
     "output_type": "stream",
     "text": [
      "Yes\n"
     ]
    }
   ],
   "source": [
    "if 1 :\n",
    "    print(\"Yes\")"
   ]
  },
  {
   "cell_type": "code",
   "execution_count": 47,
   "id": "37e274d6-d424-4de6-9ec4-b8c1f6758f6e",
   "metadata": {},
   "outputs": [
    {
     "name": "stdout",
     "output_type": "stream",
     "text": [
      "No\n"
     ]
    }
   ],
   "source": [
    "if False :\n",
    "    print(\"Yes\")\n",
    "else : \n",
    "    print(\"No\")"
   ]
  },
  {
   "cell_type": "code",
   "execution_count": 48,
   "id": "e84a6f86-79f9-47ec-a988-9bb63f8a0951",
   "metadata": {},
   "outputs": [
    {
     "name": "stdout",
     "output_type": "stream",
     "text": [
      "No\n"
     ]
    }
   ],
   "source": [
    "if 1 > 2 :\n",
    "    print(\"Yes\")\n",
    "else : \n",
    "    print(\"No\")"
   ]
  },
  {
   "cell_type": "code",
   "execution_count": 49,
   "id": "74c5f67f-f6a0-466c-9f2e-038e9557f2f6",
   "metadata": {},
   "outputs": [
    {
     "name": "stdout",
     "output_type": "stream",
     "text": [
      "No\n"
     ]
    }
   ],
   "source": [
    "if 0 :\n",
    "    print(\"Yes\")\n",
    "else : \n",
    "    print(\"No\")"
   ]
  },
  {
   "cell_type": "code",
   "execution_count": 50,
   "id": "8a75ebd2-b84b-4221-a159-78d72f5c8971",
   "metadata": {},
   "outputs": [
    {
     "name": "stdout",
     "output_type": "stream",
     "text": [
      "No\n"
     ]
    }
   ],
   "source": [
    "if \"\" :\n",
    "    print(\"Yes\")\n",
    "else : \n",
    "    print(\"No\")"
   ]
  },
  {
   "cell_type": "code",
   "execution_count": 52,
   "id": "fd018b24-ae11-45c0-91f4-88c87eca09e1",
   "metadata": {},
   "outputs": [
    {
     "name": "stdout",
     "output_type": "stream",
     "text": [
      "음수입니다\n"
     ]
    }
   ],
   "source": [
    "number = -10\n",
    "if number > 0 :\n",
    "    print(\"양수입니다\")\n",
    "if number < 0 :\n",
    "    print(\"음수입니다\")"
   ]
  },
  {
   "cell_type": "code",
   "execution_count": 53,
   "id": "6ecc51b3-0585-4f6d-9d9c-a04752c1ff1d",
   "metadata": {},
   "outputs": [
    {
     "name": "stdout",
     "output_type": "stream",
     "text": [
      "음수입니다\n"
     ]
    }
   ],
   "source": [
    "number = -10\n",
    "if number > 0 :\n",
    "    print(\"양수입니다\")\n",
    "else :\n",
    "    print(\"음수입니다\")"
   ]
  },
  {
   "cell_type": "code",
   "execution_count": 54,
   "id": "5d4db2f5-63da-42ac-849d-72632830f0c0",
   "metadata": {},
   "outputs": [
    {
     "name": "stdin",
     "output_type": "stream",
     "text": [
      "숫자를 입력해 주세요 12\n"
     ]
    },
    {
     "ename": "TypeError",
     "evalue": "'>' not supported between instances of 'str' and 'int'",
     "output_type": "error",
     "traceback": [
      "\u001b[1;31m---------------------------------------------------------------------------\u001b[0m",
      "\u001b[1;31mTypeError\u001b[0m                                 Traceback (most recent call last)",
      "Input \u001b[1;32mIn [54]\u001b[0m, in \u001b[0;36m<cell line: 2>\u001b[1;34m()\u001b[0m\n\u001b[0;32m      1\u001b[0m number \u001b[38;5;241m=\u001b[39m \u001b[38;5;28minput\u001b[39m(\u001b[38;5;124m\"\u001b[39m\u001b[38;5;124m숫자를 입력해 주세요\u001b[39m\u001b[38;5;124m\"\u001b[39m)\n\u001b[1;32m----> 2\u001b[0m \u001b[38;5;28;01mif\u001b[39;00m \u001b[43mnumber\u001b[49m\u001b[43m \u001b[49m\u001b[38;5;241;43m>\u001b[39;49m\u001b[43m \u001b[49m\u001b[38;5;241;43m0\u001b[39;49m :\n\u001b[0;32m      3\u001b[0m     \u001b[38;5;28mprint\u001b[39m(\u001b[38;5;124m\"\u001b[39m\u001b[38;5;124m양수입니다\u001b[39m\u001b[38;5;124m\"\u001b[39m)\n\u001b[0;32m      4\u001b[0m \u001b[38;5;28;01melse\u001b[39;00m :\n",
      "\u001b[1;31mTypeError\u001b[0m: '>' not supported between instances of 'str' and 'int'"
     ]
    }
   ],
   "source": [
    "number = input(\"숫자를 입력해 주세요\")\n",
    "if number > 0 :\n",
    "    print(\"양수입니다\")\n",
    "else :\n",
    "    print(\"음수입니다\")"
   ]
  },
  {
   "cell_type": "code",
   "execution_count": 55,
   "id": "4ffae9f8-efa0-4773-840c-b19f0008ecfe",
   "metadata": {},
   "outputs": [
    {
     "name": "stdin",
     "output_type": "stream",
     "text": [
      "숫자를 입력해 주세요 -30\n"
     ]
    },
    {
     "name": "stdout",
     "output_type": "stream",
     "text": [
      "음수입니다\n"
     ]
    }
   ],
   "source": [
    "number = int(input(\"숫자를 입력해 주세요\"))\n",
    "if number > 0 :\n",
    "    print(\"양수입니다\")\n",
    "else :\n",
    "    print(\"음수입니다\")"
   ]
  },
  {
   "cell_type": "code",
   "execution_count": null,
   "id": "0e5da1e0-7461-4fed-ab95-ed8225d81990",
   "metadata": {},
   "outputs": [],
   "source": [
    "# 홀수 인지 짝수인지 판별하기"
   ]
  },
  {
   "cell_type": "code",
   "execution_count": 59,
   "id": "8e02d941-070b-4827-b889-d05f448be318",
   "metadata": {},
   "outputs": [
    {
     "name": "stdin",
     "output_type": "stream",
     "text": [
      "숫자를 입력해 주세요 822\n"
     ]
    },
    {
     "name": "stdout",
     "output_type": "stream",
     "text": [
      "짝수입니다\n"
     ]
    }
   ],
   "source": [
    "number = int(input(\"숫자를 입력해 주세요\"))\n",
    "if number % 2 == 0 :\n",
    "    print(\"짝수입니다\")\n",
    "else :\n",
    "    print(\"홀수입니다\")"
   ]
  },
  {
   "cell_type": "code",
   "execution_count": 60,
   "id": "a3369dc5-bd9d-4255-87a2-832bafe5303f",
   "metadata": {},
   "outputs": [
    {
     "name": "stdin",
     "output_type": "stream",
     "text": [
      "나이를 입력해 주세요 20\n"
     ]
    },
    {
     "name": "stdout",
     "output_type": "stream",
     "text": [
      "청년\n"
     ]
    }
   ],
   "source": [
    "age = int(input(\"나이를 입력해 주세요\"))\n",
    "if age <  30 :\n",
    "    print(\"청년\")                          # 이미 30 이하는 다 처리됨 30이상만 나옴\n",
    "elif age < 60 :                            # else를 또 if로 쪼개줄때 elif 사용\n",
    "    print(\"중년\")                          # elif 밑에 계속 입력 가능\n",
    "else :\n",
    "    print(\"노년\")"
   ]
  },
  {
   "cell_type": "code",
   "execution_count": null,
   "id": "bf8ed5d2-c305-44e8-bf36-87eea4b186f2",
   "metadata": {},
   "outputs": [],
   "source": [
    "temp 온도를 입력 받아서 \n",
    "30 이상이면 여름, \n",
    "20 이상이면 가을 \n",
    "10 이상이면 봄 \n",
    "이외에는 겨울"
   ]
  },
  {
   "cell_type": "code",
   "execution_count": 62,
   "id": "1c5b7786-76ed-48f9-871b-4caca88b6a48",
   "metadata": {},
   "outputs": [
    {
     "name": "stdin",
     "output_type": "stream",
     "text": [
      "온도를 입력해 주세요 5\n"
     ]
    },
    {
     "name": "stdout",
     "output_type": "stream",
     "text": [
      "겨울\n"
     ]
    }
   ],
   "source": [
    "temp = int(input(\"온도를 입력해 주세요\"))\n",
    "if temp > 30 :\n",
    "    print(\"여름\")\n",
    "elif temp > 20 :\n",
    "    print(\"가을\")\n",
    "elif temp > 10 :\n",
    "    print(\"봄\")\n",
    "else :\n",
    "    print(\"겨울\")"
   ]
  },
  {
   "cell_type": "markdown",
   "id": "1149c0c3-9eeb-410d-8fea-110eba475078",
   "metadata": {},
   "source": [
    "- A in B"
   ]
  },
  {
   "cell_type": "code",
   "execution_count": 63,
   "id": "9adb32bf-58c1-4823-bf6a-6e64722a550f",
   "metadata": {},
   "outputs": [
    {
     "name": "stdout",
     "output_type": "stream",
     "text": [
      "버스를 타고 가자\n"
     ]
    }
   ],
   "source": [
    "if \"bill\" in [\"coins\", \"bill\", \"phone\", \"card\"] :\n",
    "    print(\"버스를 타고 가자\")\n",
    "else :\n",
    "    print(\"걸어가자\")"
   ]
  },
  {
   "cell_type": "code",
   "execution_count": 65,
   "id": "50ca3431-926d-429f-ad59-857775a86977",
   "metadata": {},
   "outputs": [
    {
     "name": "stdout",
     "output_type": "stream",
     "text": [
      "걸어가자\n"
     ]
    }
   ],
   "source": [
    "if \"bbbb\" in [\"coins\", \"bill\", \"phone\", \"card\"] :\n",
    "    print(\"버스를 타고 가자\")\n",
    "else :\n",
    "    print(\"걸어가자\")"
   ]
  },
  {
   "cell_type": "code",
   "execution_count": 67,
   "id": "e3853d1f-2fae-496d-af30-731743956b4a",
   "metadata": {},
   "outputs": [
    {
     "name": "stdout",
     "output_type": "stream",
     "text": [
      "택시를 타자\n"
     ]
    }
   ],
   "source": [
    "if \"bbbb\" in [\"coins\", \"bill\", \"phone\", \"card\"] :\n",
    "    print(\"버스를 타고 가자\")\n",
    "elif \"card\" in [\"coins\", \"bill\", \"phone\", \"card\"] :\n",
    "    print(\"택시를 타자\")\n",
    "else :\n",
    "    print(\"걸어가자\")"
   ]
  },
  {
   "cell_type": "code",
   "execution_count": null,
   "id": "63628e46-466b-4f11-bea4-3c253124df58",
   "metadata": {},
   "outputs": [],
   "source": [
    "#이름이 있으면 \"합격입니다\"\n",
    "#없으면 \"불합격입니다\""
   ]
  },
  {
   "cell_type": "code",
   "execution_count": 69,
   "id": "99feeef4-26f9-42da-bf2d-c7c62cc49a0e",
   "metadata": {},
   "outputs": [
    {
     "name": "stdin",
     "output_type": "stream",
     "text": [
      "이름을 입력하세요 철수\n"
     ]
    },
    {
     "name": "stdout",
     "output_type": "stream",
     "text": [
      "합격입니다\n"
     ]
    }
   ],
   "source": [
    "name = input(\"이름을 입력하세요\")\n",
    "names = [\"철수\", \"영희\", \"길동\", \"전우치\", \"손오공\"]\n",
    "if name in names :\n",
    "    print(\"합격입니다\")\n",
    "else :\n",
    "    print(\"불합격입니다\")"
   ]
  },
  {
   "cell_type": "markdown",
   "id": "ab90db90-d2b6-4ce6-939b-99c0b37d6a2a",
   "metadata": {},
   "source": [
    "## 반복문 (for)"
   ]
  },
  {
   "cell_type": "markdown",
   "id": "b027e438-8a57-46f9-9bce-6b9f4f3d130e",
   "metadata": {},
   "source": [
    "```\n",
    "for i in [__] :\n",
    "    실행될 문장\n",
    "```"
   ]
  },
  {
   "cell_type": "code",
   "execution_count": 70,
   "id": "09e85c78-32ec-4fc0-9301-f7ec5cd2d61d",
   "metadata": {},
   "outputs": [
    {
     "name": "stdout",
     "output_type": "stream",
     "text": [
      "1\n",
      "2\n",
      "3\n"
     ]
    }
   ],
   "source": [
    "for i in [1, 2, 3] :\n",
    "    print(i)"
   ]
  },
  {
   "cell_type": "code",
   "execution_count": 72,
   "id": "3d16ec84-ca41-4f3a-b14d-e20c49fd7987",
   "metadata": {},
   "outputs": [
    {
     "name": "stdout",
     "output_type": "stream",
     "text": [
      "1\n",
      "11\n",
      "\n",
      "2\n",
      "12\n",
      "\n",
      "3\n",
      "13\n",
      "\n"
     ]
    }
   ],
   "source": [
    "for i in [1, 2, 3] :\n",
    "    print(i)\n",
    "    print(i+10)\n",
    "    print()"
   ]
  },
  {
   "cell_type": "code",
   "execution_count": 74,
   "id": "98ae8a95-80fb-41e9-9236-5095293aa17d",
   "metadata": {},
   "outputs": [
    {
     "name": "stdout",
     "output_type": "stream",
     "text": [
      "\n",
      "10\n",
      "\n",
      "\n",
      "10\n",
      "\n",
      "\n",
      "10\n",
      "\n"
     ]
    }
   ],
   "source": [
    "for i in [1, 2, 3] :\n",
    "    print()\n",
    "    print(10)          # i 없어도 출력 가능 i 값은 안나옴\n",
    "    print()            # 세번 반복만 하고 싶을대 아무거나 세개 입력해도 됨 "
   ]
  },
  {
   "cell_type": "code",
   "execution_count": 76,
   "id": "56fc1481-12b0-4c75-bb25-c68635111073",
   "metadata": {},
   "outputs": [
    {
     "name": "stdout",
     "output_type": "stream",
     "text": [
      "1\n",
      "11\n",
      "2\n",
      "12\n",
      "3\n",
      "13\n",
      "Hello\n"
     ]
    }
   ],
   "source": [
    "for i in [1, 2, 3] :\n",
    "    print(i)\n",
    "    print(i+10)\n",
    "print(\"Hello\")            # 프린트 앞에 땡겨지면 마지막에 한번만 나옴 (들여쓰기 영향)"
   ]
  },
  {
   "cell_type": "code",
   "execution_count": 77,
   "id": "734950f0-810b-4c7c-8b2a-321eec2fce2d",
   "metadata": {},
   "outputs": [
    {
     "name": "stdout",
     "output_type": "stream",
     "text": [
      "1\n",
      "2\n",
      "3\n",
      "4\n",
      "5\n",
      "6\n",
      "7\n",
      "8\n",
      "9\n",
      "10\n"
     ]
    }
   ],
   "source": [
    "for i in [1, 2, 3, 4, 5, 6, 7, 8, 9, 10] :\n",
    "    print(i)"
   ]
  },
  {
   "cell_type": "code",
   "execution_count": 81,
   "id": "f4cbcad1-3b21-4287-aaf9-3dc9a1c44d18",
   "metadata": {},
   "outputs": [
    {
     "name": "stdout",
     "output_type": "stream",
     "text": [
      "0\n",
      "1\n",
      "2\n",
      "3\n"
     ]
    }
   ],
   "source": [
    "for i in range(4) :         # 10까지 하고 싶으면 11\n",
    "    print(i)                # 3까지 하고 싶으면 4"
   ]
  },
  {
   "cell_type": "code",
   "execution_count": 82,
   "id": "eb70afc9-210f-4aa9-bdd5-fc7f2cc68fbf",
   "metadata": {},
   "outputs": [
    {
     "name": "stdout",
     "output_type": "stream",
     "text": [
      "1\n",
      "2\n",
      "3\n",
      "4\n",
      "5\n",
      "6\n",
      "7\n",
      "8\n",
      "9\n",
      "10\n"
     ]
    }
   ],
   "source": [
    "for i in range(1, 11) :\n",
    "    print(i)"
   ]
  },
  {
   "cell_type": "code",
   "execution_count": 84,
   "id": "b2be85cc-bc48-4cc3-9852-80a3d5d1d47f",
   "metadata": {},
   "outputs": [
    {
     "name": "stdout",
     "output_type": "stream",
     "text": [
      "1\n",
      "3\n",
      "5\n",
      "7\n",
      "9\n"
     ]
    }
   ],
   "source": [
    "for i in range(1, 11, 2) :           # (1, 11, 2) < 2씩 띄워서 반복\n",
    "    print(i)                        # 시작 끝 간격"
   ]
  },
  {
   "cell_type": "code",
   "execution_count": 85,
   "id": "3d860ef8-7c0e-439e-8c5e-4eeaea1ca6b2",
   "metadata": {},
   "outputs": [
    {
     "name": "stdout",
     "output_type": "stream",
     "text": [
      "1\n",
      "4\n",
      "7\n",
      "10\n"
     ]
    }
   ],
   "source": [
    "for i in range(1, 11, 3) :\n",
    "    print(i)"
   ]
  },
  {
   "cell_type": "code",
   "execution_count": 86,
   "id": "a3652590-7d51-4b7a-bb45-11a966aba4a1",
   "metadata": {},
   "outputs": [
    {
     "name": "stdout",
     "output_type": "stream",
     "text": [
      "2\n",
      "4\n",
      "6\n",
      "8\n",
      "10\n"
     ]
    }
   ],
   "source": [
    "for i in range(2, 11, 2) :\n",
    "    print(i)"
   ]
  },
  {
   "cell_type": "code",
   "execution_count": 87,
   "id": "b34f9004-b75f-49aa-99aa-da2f1eea3627",
   "metadata": {},
   "outputs": [
    {
     "data": {
      "text/plain": [
       "range(0, 10)"
      ]
     },
     "execution_count": 87,
     "metadata": {},
     "output_type": "execute_result"
    }
   ],
   "source": [
    "range(10)"
   ]
  },
  {
   "cell_type": "code",
   "execution_count": 88,
   "id": "95f73122-d0be-448d-98d1-dbf5a30afd4d",
   "metadata": {},
   "outputs": [
    {
     "data": {
      "text/plain": [
       "[0, 1, 2, 3, 4, 5, 6, 7, 8, 9]"
      ]
     },
     "execution_count": 88,
     "metadata": {},
     "output_type": "execute_result"
    }
   ],
   "source": [
    "list(range(10))     #range 보고싶으면 리스트로 만들어 줌"
   ]
  },
  {
   "cell_type": "code",
   "execution_count": 89,
   "id": "9bf9a5f9-8e60-4024-89d9-ba0b347b73f2",
   "metadata": {},
   "outputs": [
    {
     "name": "stdout",
     "output_type": "stream",
     "text": [
      "1,   2,   3,   4,   5,   6,   7,   8,   9,   10,   "
     ]
    }
   ],
   "source": [
    "for i in range(1, 11) :\n",
    "    print(i, end = \",   \")        # 줄줄 세로로 나오는거 예쁘게 바꾸기"
   ]
  },
  {
   "cell_type": "code",
   "execution_count": null,
   "id": "316836bf-9ee9-43cb-973e-e55f114f9623",
   "metadata": {},
   "outputs": [],
   "source": [
    "# 100 이하의 모든 홀수를 출력해 주세요"
   ]
  },
  {
   "cell_type": "code",
   "execution_count": 99,
   "id": "5b2ac149-be37-456e-b137-8e2d811c6479",
   "metadata": {},
   "outputs": [
    {
     "name": "stdout",
     "output_type": "stream",
     "text": [
      "1 3 5 7 9 11 13 15 17 19 21 23 25 27 29 31 33 35 37 39 41 43 45 47 49 51 53 55 57 59 61 63 65 67 69 71 73 75 77 79 81 83 85 87 89 91 93 95 97 99 "
     ]
    }
   ],
   "source": [
    "for i in range(1, 101, 2) :\n",
    "    print(i, end = \" \")"
   ]
  },
  {
   "cell_type": "code",
   "execution_count": 98,
   "id": "8d7d5c96-db7e-4548-bddd-b6b246e5ea22",
   "metadata": {},
   "outputs": [
    {
     "name": "stdout",
     "output_type": "stream",
     "text": [
      "2 4 6 8 10 12 14 16 18 20 22 24 26 28 30 32 34 36 38 40 42 44 46 48 50 52 54 56 58 60 62 64 66 68 70 72 74 76 78 80 82 84 86 88 90 92 94 96 98 100 "
     ]
    }
   ],
   "source": [
    "for i in range(2, 101, 2) :                # 요거는 짝수\n",
    "    print(i, end = \" \")"
   ]
  },
  {
   "cell_type": "code",
   "execution_count": 104,
   "id": "28396c74-309d-4d17-b6de-483dc43a3364",
   "metadata": {},
   "outputs": [
    {
     "name": "stdout",
     "output_type": "stream",
     "text": [
      "1 3 5 7 9 11 13 15 17 19 21 23 25 27 29 31 33 35 37 39 41 43 45 47 49 51 53 55 57 59 61 63 65 67 69 71 73 75 77 79 81 83 85 87 89 91 93 95 97 99 "
     ]
    }
   ],
   "source": [
    "# 100 이하의 모든 홀수\n",
    "for i in range(100) :\n",
    "    if i % 2 == 1 :\n",
    "        print(i, end = \" \")"
   ]
  },
  {
   "cell_type": "code",
   "execution_count": 105,
   "id": "b220573b-1534-4d10-be94-3f0aacbb45a0",
   "metadata": {},
   "outputs": [
    {
     "name": "stdout",
     "output_type": "stream",
     "text": [
      "(1, 'a')\n",
      "(2, 'b')\n",
      "(3, 'c')\n"
     ]
    }
   ],
   "source": [
    "for i in[(1, \"a\"), (2, \"b\"), (3, \"c\")] :\n",
    "    print(i)          # 리스트 안에 세개가 들어있음"
   ]
  },
  {
   "cell_type": "code",
   "execution_count": 106,
   "id": "faa836d5-18d0-4605-8aeb-66187c665a2d",
   "metadata": {},
   "outputs": [
    {
     "name": "stdout",
     "output_type": "stream",
     "text": [
      "1\n",
      "2\n",
      "3\n"
     ]
    }
   ],
   "source": [
    "for i in[(1, \"a\"), (2, \"b\"), (3, \"c\")] :\n",
    "    print(i[0])       # 인덱스 번호 매겨주면 앞에만 나옴"
   ]
  },
  {
   "cell_type": "code",
   "execution_count": 107,
   "id": "9f748cd8-f9dc-4610-97c9-8463c5c50228",
   "metadata": {},
   "outputs": [
    {
     "name": "stdout",
     "output_type": "stream",
     "text": [
      "1 a\n",
      "2 b\n",
      "3 c\n"
     ]
    }
   ],
   "source": [
    "for i in[(1, \"a\"), (2, \"b\"), (3, \"c\")] :\n",
    "    print(i[0], i[1])"
   ]
  },
  {
   "cell_type": "code",
   "execution_count": 108,
   "id": "70f31f72-b88c-4d81-8e48-7119aa261d2a",
   "metadata": {},
   "outputs": [
    {
     "name": "stdout",
     "output_type": "stream",
     "text": [
      "1 a\n",
      "2 b\n",
      "3 c\n"
     ]
    }
   ],
   "source": [
    "for (i, j) in[(1, \"a\"), (2, \"b\"), (3, \"c\")] :\n",
    "    print(i, j)                      # (i, j) = (1, \"a\")   /   i, j = (1, \"a\")"
   ]
  },
  {
   "cell_type": "code",
   "execution_count": 109,
   "id": "11651aaa-2445-4f98-a7c5-9a4de3036f8e",
   "metadata": {},
   "outputs": [
    {
     "name": "stdout",
     "output_type": "stream",
     "text": [
      "1 a\n",
      "2 b\n",
      "3 c\n"
     ]
    }
   ],
   "source": [
    "for i, j in[(1, \"a\"), (2, \"b\"), (3, \"c\")] :\n",
    "    print(i, j)"
   ]
  },
  {
   "cell_type": "code",
   "execution_count": 110,
   "id": "7287826c-033f-4c5b-bc78-aa48215cc018",
   "metadata": {},
   "outputs": [
    {
     "name": "stdout",
     "output_type": "stream",
     "text": [
      "1 a\n",
      "2 b\n",
      "3 c\n"
     ]
    }
   ],
   "source": [
    "li = [(1, \"a\"), (2, \"b\"), (3, \"c\")]\n",
    "for (i, j) in li :\n",
    "    print(i, j)"
   ]
  },
  {
   "cell_type": "markdown",
   "id": "3c52ef6f-3bd9-4633-b1ca-2337673bf771",
   "metadata": {},
   "source": [
    "- for 단수 in 복수"
   ]
  },
  {
   "cell_type": "code",
   "execution_count": 113,
   "id": "9dbe0d7c-802d-4cb8-b662-209ee4972437",
   "metadata": {},
   "outputs": [
    {
     "name": "stdout",
     "output_type": "stream",
     "text": [
      "철수\n",
      "영희\n",
      "길동\n",
      "전우치\n",
      "손오공\n"
     ]
    }
   ],
   "source": [
    "names =  [\"철수\", \"영희\", \"길동\", \"전우치\", \"손오공\"] \n",
    "for name in names :\n",
    "    print(name)           # 단수 복수로 이름 지어주면 좋음"
   ]
  },
  {
   "cell_type": "code",
   "execution_count": 118,
   "id": "e3218c9e-93f4-463d-ad77-91db068a6e4f",
   "metadata": {},
   "outputs": [
    {
     "name": "stdout",
     "output_type": "stream",
     "text": [
      "1  3  6  10  15  21  28  36  45  55  55\n"
     ]
    }
   ],
   "source": [
    "sum = 0\n",
    "for i in range(1, 11) :\n",
    "    sum = sum + i\n",
    "    print(sum, end = \"  \")\n",
    "print(sum)         # 탭 지우면 앞으로 빼주면 원하는 sum 값만 나옴"
   ]
  },
  {
   "cell_type": "code",
   "execution_count": null,
   "id": "07c34271-e451-44b6-98b9-a0c029c94827",
   "metadata": {},
   "outputs": [],
   "source": [
    " 1 = 0 + 1\n",
    " 3 = 1 + 2\n",
    " 6 = 3 + 3      # << 1, 2, 3, 4, 5 순서로 진행\n",
    "10 = 6 + 4\n",
    "15 = 10 + 5\n",
    ".\n",
    ".\n",
    ".\n",
    "sum = sum + i"
   ]
  },
  {
   "cell_type": "code",
   "execution_count": 119,
   "id": "bd6ed891-c391-4e4d-84a2-b0236b3dd5e2",
   "metadata": {},
   "outputs": [
    {
     "name": "stdout",
     "output_type": "stream",
     "text": [
      "5050\n"
     ]
    }
   ],
   "source": [
    "# 1부터 100까지의 합은?\n",
    "sum = 0\n",
    "for i in range(101) :\n",
    "    sum = sum + i\n",
    "print(sum)"
   ]
  },
  {
   "cell_type": "code",
   "execution_count": 121,
   "id": "3898d4ef-807b-46d3-bff5-e0798ea81e80",
   "metadata": {},
   "outputs": [
    {
     "name": "stdout",
     "output_type": "stream",
     "text": [
      "2500\n"
     ]
    }
   ],
   "source": [
    "# 1부터 100까지 모든 홀수의 합은?\n",
    "sum = 0\n",
    "for i in range(1, 101, 2) :\n",
    "    sum = sum + i\n",
    "print(sum)"
   ]
  },
  {
   "cell_type": "code",
   "execution_count": 123,
   "id": "3f7b7261-f49e-4742-aeee-9f318de70b29",
   "metadata": {},
   "outputs": [
    {
     "name": "stdin",
     "output_type": "stream",
     "text": [
      "어디까지 더할까요? 50\n"
     ]
    },
    {
     "name": "stdout",
     "output_type": "stream",
     "text": [
      "1275\n"
     ]
    }
   ],
   "source": [
    "# 입력받은 수 까지의 합?\n",
    "number = int(input(\"어디까지 더할까요?\"))\n",
    "sum = 0\n",
    "for i in range(number + 1) :\n",
    "    sum = sum + i\n",
    "print(sum)"
   ]
  },
  {
   "cell_type": "code",
   "execution_count": 124,
   "id": "dacf3d5b-333c-4679-85da-7aec8cf84ca2",
   "metadata": {},
   "outputs": [
    {
     "name": "stdin",
     "output_type": "stream",
     "text": [
      "어디까지 더할까요? 3\n",
      "어디까지 더할까요? 5\n"
     ]
    },
    {
     "name": "stdout",
     "output_type": "stream",
     "text": [
      "12\n"
     ]
    }
   ],
   "source": [
    "# 두 수를 입력받아 어디서 어디까지 더할까\n",
    "number1 = int(input(\"어디까지 더할까요?\"))\n",
    "number2 = int(input(\"어디까지 더할까요?\"))\n",
    "\n",
    "sum = 0\n",
    "for i in range(number1, number2 + 1) :\n",
    "    sum = sum + i\n",
    "print(sum)"
   ]
  },
  {
   "cell_type": "code",
   "execution_count": 131,
   "id": "2bc5ee3a-2860-4314-b477-cc33585526d9",
   "metadata": {},
   "outputs": [
    {
     "name": "stdin",
     "output_type": "stream",
     "text": [
      "시작 숫자 입력해주세요 3\n",
      "또 다른 숫자 입력해주세요 7\n"
     ]
    },
    {
     "name": "stdout",
     "output_type": "stream",
     "text": [
      "10\n"
     ]
    }
   ],
   "source": [
    "# 두 수를 입력 받아, 모든 짝수 만의 합\n",
    "number1 = int(input(\"시작 숫자 입력해주세요\"))\n",
    "number2 = int(input(\"또 다른 숫자 입력해주세요\"))\n",
    "\n",
    "sum = 0\n",
    "for i in range(number1, number2 + 1) :\n",
    "    if i % 2 == 0 :\n",
    "        sum = sum + i\n",
    "print(sum)"
   ]
  },
  {
   "cell_type": "code",
   "execution_count": 130,
   "id": "08d38462-6c8c-479d-b15a-24782b1b6414",
   "metadata": {},
   "outputs": [
    {
     "name": "stdin",
     "output_type": "stream",
     "text": [
      "시작 숫자 입력해주세요 4\n",
      "또 다른 숫자 입력해주세요 7\n"
     ]
    },
    {
     "name": "stdout",
     "output_type": "stream",
     "text": [
      "12\n"
     ]
    }
   ],
   "source": [
    "# 두 수를 입력 받아, 모든 홀수 만의 합\n",
    "number1 = int(input(\"시작 숫자 입력해주세요\"))\n",
    "number2 = int(input(\"또 다른 숫자 입력해주세요\"))\n",
    "\n",
    "sum = 0\n",
    "for i in range(number1, number2 + 1) :\n",
    "    if i % 2 == 1 :\n",
    "        sum = sum + i\n",
    "print(sum)"
   ]
  },
  {
   "cell_type": "code",
   "execution_count": 135,
   "id": "b4b4c47b-8431-466a-aeeb-13a6edcf340f",
   "metadata": {},
   "outputs": [
    {
     "name": "stdout",
     "output_type": "stream",
     "text": [
      "13 15 17 19 21 23 25 27 29 31 33 35 37 39 41 43 45 47 49 51 53 55 57 59 61 63 65 67 69 71 73 75 77 79 81 83 85 87 89 91 93 95 97 99 101 103 105 107 109 111 113 115 117 119 121 123 "
     ]
    }
   ],
   "source": [
    "# 13 부터 123 까지 홀수의 개수는?\n",
    "for i in range(13, 124, 2) :\n",
    "    print(i, end = \" \")"
   ]
  },
  {
   "cell_type": "code",
   "execution_count": 137,
   "id": "6a10b722-4a59-4419-b6d3-af4f97faf462",
   "metadata": {},
   "outputs": [
    {
     "name": "stdout",
     "output_type": "stream",
     "text": [
      "56\n"
     ]
    }
   ],
   "source": [
    "# 13 부터 123 까지 홀수의 개수는?\n",
    "\n",
    "# 공간을 잡을때 왜 0으로 하는지?\n",
    "# 왜 count 맨 위에 적는지?\n",
    "# 초기화 안되게 하려면 for문 앞에 적어줘야함\n",
    "\n",
    "count = 0 \n",
    "for i in range(13, 123+1) :\n",
    "    if i % 2 == 1 :\n",
    "        count = count + 1    # count + 1 / 1씩 증가한다\n",
    "    else :\n",
    "        pass\n",
    "print(count)"
   ]
  },
  {
   "cell_type": "code",
   "execution_count": null,
   "id": "5e43a0ed-976c-4a9e-af21-6dbc600a362e",
   "metadata": {},
   "outputs": [],
   "source": [
    "count = 0 \n",
    "for i in range(13, 123+1) :\n",
    "    if i % 2 == 1 :\n",
    "        count += 1    # count + 1 / 1씩 증가한다\n",
    "        -=            # count - 1 / 1씩 감소한다\n",
    "        *=            # 슈가..슈가? 무슨 식이라고 함\n",
    "        /=\n",
    "print(count)"
   ]
  },
  {
   "cell_type": "code",
   "execution_count": null,
   "id": "27097c5c-1b1e-46b8-b2b0-5c8d4a86afcc",
   "metadata": {},
   "outputs": [
    {
     "name": "stdout",
     "output_type": "stream",
     "text": [
      "[1, 2]\n",
      "['a', 'b', 'c']\n"
     ]
    }
   ],
   "source": [
    "a = [[1, 2], [\"a\", \"b\", \"c\"]]\n",
    "for i in a :\n",
    "    print(i)"
   ]
  },
  {
   "cell_type": "code",
   "execution_count": 139,
   "id": "b3311cc7-fb3b-48c0-97e1-7657f154e4fa",
   "metadata": {},
   "outputs": [
    {
     "name": "stdout",
     "output_type": "stream",
     "text": [
      "1\n",
      "2\n",
      "a\n",
      "b\n",
      "c\n"
     ]
    }
   ],
   "source": [
    "a = [[1, 2], [\"a\", \"b\", \"c\"]]\n",
    "for i in a :\n",
    "    for j in i :\n",
    "         print(j)"
   ]
  },
  {
   "cell_type": "code",
   "execution_count": 156,
   "id": "17a7d253-0ba8-4fa2-9c94-0a41159914e8",
   "metadata": {},
   "outputs": [
    {
     "name": "stdout",
     "output_type": "stream",
     "text": [
      "1 a\n",
      "1 b\n",
      "1 c\n",
      "2 a\n",
      "2 b\n",
      "2 c\n"
     ]
    }
   ],
   "source": [
    "a = [[1, 2], [\"a\", \"b\", \"c\"]]\n",
    "for i in a[0] :\n",
    "    for j in a[1] :\n",
    "        print(i, j)              # 이곤 너므 어렵네"
   ]
  },
  {
   "cell_type": "code",
   "execution_count": 157,
   "id": "fd6d2b66-22f2-4387-a835-aaab24f89784",
   "metadata": {},
   "outputs": [
    {
     "data": {
      "text/plain": [
       "2"
      ]
     },
     "execution_count": 157,
     "metadata": {},
     "output_type": "execute_result"
    }
   ],
   "source": [
    "len(a)"
   ]
  },
  {
   "cell_type": "code",
   "execution_count": 158,
   "id": "8a280e06-2e54-4529-9251-f0f638474d79",
   "metadata": {},
   "outputs": [
    {
     "name": "stdout",
     "output_type": "stream",
     "text": [
      "1 1\n",
      "1 2\n",
      "1 3\n",
      "1 4\n",
      "1 5\n",
      "1 6\n",
      "2 1\n",
      "2 2\n",
      "2 3\n",
      "2 4\n",
      "2 5\n",
      "2 6\n"
     ]
    }
   ],
   "source": [
    "for i in [1, 2] :\n",
    "    for j in [1, 2, 3, 4, 5, 6] :\n",
    "        print(i, j)"
   ]
  },
  {
   "cell_type": "code",
   "execution_count": 159,
   "id": "7f0c0896-c48d-4ec3-8b43-b7ab6ea4bd71",
   "metadata": {},
   "outputs": [
    {
     "name": "stdout",
     "output_type": "stream",
     "text": [
      "2 1\n",
      "2 2\n",
      "2 3\n",
      "2 4\n",
      "2 5\n",
      "2 6\n",
      "2 7\n",
      "2 8\n",
      "2 9\n",
      "3 1\n",
      "3 2\n",
      "3 3\n",
      "3 4\n",
      "3 5\n",
      "3 6\n",
      "3 7\n",
      "3 8\n",
      "3 9\n"
     ]
    }
   ],
   "source": [
    "for i in range(2, 4) :\n",
    "    for j in range(1, 10) :\n",
    "        print(i, j)"
   ]
  },
  {
   "cell_type": "code",
   "execution_count": 160,
   "id": "89844191-100e-44d4-b918-c2c949bf0e2e",
   "metadata": {
    "collapsed": true,
    "jupyter": {
     "outputs_hidden": true
    },
    "tags": []
   },
   "outputs": [
    {
     "name": "stdout",
     "output_type": "stream",
     "text": [
      "2 X 1 = 2\n",
      "2 X 2 = 4\n",
      "2 X 3 = 6\n",
      "2 X 4 = 8\n",
      "2 X 5 = 10\n",
      "2 X 6 = 12\n",
      "2 X 7 = 14\n",
      "2 X 8 = 16\n",
      "2 X 9 = 18\n",
      "3 X 1 = 3\n",
      "3 X 2 = 6\n",
      "3 X 3 = 9\n",
      "3 X 4 = 12\n",
      "3 X 5 = 15\n",
      "3 X 6 = 18\n",
      "3 X 7 = 21\n",
      "3 X 8 = 24\n",
      "3 X 9 = 27\n",
      "4 X 1 = 4\n",
      "4 X 2 = 8\n",
      "4 X 3 = 12\n",
      "4 X 4 = 16\n",
      "4 X 5 = 20\n",
      "4 X 6 = 24\n",
      "4 X 7 = 28\n",
      "4 X 8 = 32\n",
      "4 X 9 = 36\n",
      "5 X 1 = 5\n",
      "5 X 2 = 10\n",
      "5 X 3 = 15\n",
      "5 X 4 = 20\n",
      "5 X 5 = 25\n",
      "5 X 6 = 30\n",
      "5 X 7 = 35\n",
      "5 X 8 = 40\n",
      "5 X 9 = 45\n",
      "6 X 1 = 6\n",
      "6 X 2 = 12\n",
      "6 X 3 = 18\n",
      "6 X 4 = 24\n",
      "6 X 5 = 30\n",
      "6 X 6 = 36\n",
      "6 X 7 = 42\n",
      "6 X 8 = 48\n",
      "6 X 9 = 54\n",
      "7 X 1 = 7\n",
      "7 X 2 = 14\n",
      "7 X 3 = 21\n",
      "7 X 4 = 28\n",
      "7 X 5 = 35\n",
      "7 X 6 = 42\n",
      "7 X 7 = 49\n",
      "7 X 8 = 56\n",
      "7 X 9 = 63\n",
      "8 X 1 = 8\n",
      "8 X 2 = 16\n",
      "8 X 3 = 24\n",
      "8 X 4 = 32\n",
      "8 X 5 = 40\n",
      "8 X 6 = 48\n",
      "8 X 7 = 56\n",
      "8 X 8 = 64\n",
      "8 X 9 = 72\n",
      "9 X 1 = 9\n",
      "9 X 2 = 18\n",
      "9 X 3 = 27\n",
      "9 X 4 = 36\n",
      "9 X 5 = 45\n",
      "9 X 6 = 54\n",
      "9 X 7 = 63\n",
      "9 X 8 = 72\n",
      "9 X 9 = 81\n"
     ]
    }
   ],
   "source": [
    "for i in range(2, 10) :\n",
    "    for j in range(1, 10) :\n",
    "        print(f\"{i} X {j} = {i*j}\")"
   ]
  },
  {
   "cell_type": "code",
   "execution_count": 161,
   "id": "06873fc3-4428-4b0c-bd26-d8e6f6f36f13",
   "metadata": {
    "collapsed": true,
    "jupyter": {
     "outputs_hidden": true
    },
    "tags": []
   },
   "outputs": [
    {
     "name": "stdout",
     "output_type": "stream",
     "text": [
      "2 X 1 = 2\n",
      "2 X 2 = 4\n",
      "2 X 3 = 6\n",
      "2 X 4 = 8\n",
      "2 X 5 = 10\n",
      "2 X 6 = 12\n",
      "2 X 7 = 14\n",
      "2 X 8 = 16\n",
      "2 X 9 = 18\n",
      "3 X 1 = 3\n",
      "3 X 2 = 6\n",
      "3 X 3 = 9\n",
      "3 X 4 = 12\n",
      "3 X 5 = 15\n",
      "3 X 6 = 18\n",
      "3 X 7 = 21\n",
      "3 X 8 = 24\n",
      "3 X 9 = 27\n",
      "4 X 1 = 4\n",
      "4 X 2 = 8\n",
      "4 X 3 = 12\n",
      "4 X 4 = 16\n",
      "4 X 5 = 20\n",
      "4 X 6 = 24\n",
      "4 X 7 = 28\n",
      "4 X 8 = 32\n",
      "4 X 9 = 36\n",
      "5 X 1 = 5\n",
      "5 X 2 = 10\n",
      "5 X 3 = 15\n",
      "5 X 4 = 20\n",
      "5 X 5 = 25\n",
      "5 X 6 = 30\n",
      "5 X 7 = 35\n",
      "5 X 8 = 40\n",
      "5 X 9 = 45\n",
      "6 X 1 = 6\n",
      "6 X 2 = 12\n",
      "6 X 3 = 18\n",
      "6 X 4 = 24\n",
      "6 X 5 = 30\n",
      "6 X 6 = 36\n",
      "6 X 7 = 42\n",
      "6 X 8 = 48\n",
      "6 X 9 = 54\n",
      "7 X 1 = 7\n",
      "7 X 2 = 14\n",
      "7 X 3 = 21\n",
      "7 X 4 = 28\n",
      "7 X 5 = 35\n",
      "7 X 6 = 42\n",
      "7 X 7 = 49\n",
      "7 X 8 = 56\n",
      "7 X 9 = 63\n",
      "8 X 1 = 8\n",
      "8 X 2 = 16\n",
      "8 X 3 = 24\n",
      "8 X 4 = 32\n",
      "8 X 5 = 40\n",
      "8 X 6 = 48\n",
      "8 X 7 = 56\n",
      "8 X 8 = 64\n",
      "8 X 9 = 72\n",
      "9 X 1 = 9\n",
      "9 X 2 = 18\n",
      "9 X 3 = 27\n",
      "9 X 4 = 36\n",
      "9 X 5 = 45\n",
      "9 X 6 = 54\n",
      "9 X 7 = 63\n",
      "9 X 8 = 72\n",
      "9 X 9 = 81\n"
     ]
    }
   ],
   "source": [
    "for i in range(2, 10) :\n",
    "    for j in range(1, 10) :\n",
    "        print(i, \"X\", j, \"=\", i*j)"
   ]
  },
  {
   "cell_type": "code",
   "execution_count": 162,
   "id": "02acc7df-029f-43f6-8724-09b0c93465d9",
   "metadata": {
    "collapsed": true,
    "jupyter": {
     "outputs_hidden": true
    },
    "tags": []
   },
   "outputs": [
    {
     "name": "stdout",
     "output_type": "stream",
     "text": [
      "2 X 1 = 2\n",
      "2 X 2 = 4\n",
      "2 X 3 = 6\n",
      "2 X 4 = 8\n",
      "2 X 5 = 10\n",
      "2 X 6 = 12\n",
      "2 X 7 = 14\n",
      "2 X 8 = 16\n",
      "2 X 9 = 18\n",
      "\n",
      "3 X 1 = 3\n",
      "3 X 2 = 6\n",
      "3 X 3 = 9\n",
      "3 X 4 = 12\n",
      "3 X 5 = 15\n",
      "3 X 6 = 18\n",
      "3 X 7 = 21\n",
      "3 X 8 = 24\n",
      "3 X 9 = 27\n",
      "\n",
      "4 X 1 = 4\n",
      "4 X 2 = 8\n",
      "4 X 3 = 12\n",
      "4 X 4 = 16\n",
      "4 X 5 = 20\n",
      "4 X 6 = 24\n",
      "4 X 7 = 28\n",
      "4 X 8 = 32\n",
      "4 X 9 = 36\n",
      "\n",
      "5 X 1 = 5\n",
      "5 X 2 = 10\n",
      "5 X 3 = 15\n",
      "5 X 4 = 20\n",
      "5 X 5 = 25\n",
      "5 X 6 = 30\n",
      "5 X 7 = 35\n",
      "5 X 8 = 40\n",
      "5 X 9 = 45\n",
      "\n",
      "6 X 1 = 6\n",
      "6 X 2 = 12\n",
      "6 X 3 = 18\n",
      "6 X 4 = 24\n",
      "6 X 5 = 30\n",
      "6 X 6 = 36\n",
      "6 X 7 = 42\n",
      "6 X 8 = 48\n",
      "6 X 9 = 54\n",
      "\n",
      "7 X 1 = 7\n",
      "7 X 2 = 14\n",
      "7 X 3 = 21\n",
      "7 X 4 = 28\n",
      "7 X 5 = 35\n",
      "7 X 6 = 42\n",
      "7 X 7 = 49\n",
      "7 X 8 = 56\n",
      "7 X 9 = 63\n",
      "\n",
      "8 X 1 = 8\n",
      "8 X 2 = 16\n",
      "8 X 3 = 24\n",
      "8 X 4 = 32\n",
      "8 X 5 = 40\n",
      "8 X 6 = 48\n",
      "8 X 7 = 56\n",
      "8 X 8 = 64\n",
      "8 X 9 = 72\n",
      "\n",
      "9 X 1 = 9\n",
      "9 X 2 = 18\n",
      "9 X 3 = 27\n",
      "9 X 4 = 36\n",
      "9 X 5 = 45\n",
      "9 X 6 = 54\n",
      "9 X 7 = 63\n",
      "9 X 8 = 72\n",
      "9 X 9 = 81\n",
      "\n"
     ]
    }
   ],
   "source": [
    "for i in range(2, 10) :\n",
    "    for j in range(1, 10) :\n",
    "        print(f\"{i} X {j} = {i*j}\")\n",
    "    print()     # < 빈칸 띄우기"
   ]
  },
  {
   "cell_type": "code",
   "execution_count": 165,
   "id": "cd9e369a-96d6-4634-8645-81232d6c699a",
   "metadata": {
    "collapsed": true,
    "jupyter": {
     "outputs_hidden": true
    },
    "tags": []
   },
   "outputs": [
    {
     "name": "stdout",
     "output_type": "stream",
     "text": [
      "2단\n",
      "2 X 1 = 2\n",
      "2 X 2 = 4\n",
      "2 X 3 = 6\n",
      "2 X 4 = 8\n",
      "2 X 5 = 10\n",
      "2 X 6 = 12\n",
      "2 X 7 = 14\n",
      "2 X 8 = 16\n",
      "2 X 9 = 18\n",
      "\n",
      "3단\n",
      "3 X 1 = 3\n",
      "3 X 2 = 6\n",
      "3 X 3 = 9\n",
      "3 X 4 = 12\n",
      "3 X 5 = 15\n",
      "3 X 6 = 18\n",
      "3 X 7 = 21\n",
      "3 X 8 = 24\n",
      "3 X 9 = 27\n",
      "\n",
      "4단\n",
      "4 X 1 = 4\n",
      "4 X 2 = 8\n",
      "4 X 3 = 12\n",
      "4 X 4 = 16\n",
      "4 X 5 = 20\n",
      "4 X 6 = 24\n",
      "4 X 7 = 28\n",
      "4 X 8 = 32\n",
      "4 X 9 = 36\n",
      "\n",
      "5단\n",
      "5 X 1 = 5\n",
      "5 X 2 = 10\n",
      "5 X 3 = 15\n",
      "5 X 4 = 20\n",
      "5 X 5 = 25\n",
      "5 X 6 = 30\n",
      "5 X 7 = 35\n",
      "5 X 8 = 40\n",
      "5 X 9 = 45\n",
      "\n",
      "6단\n",
      "6 X 1 = 6\n",
      "6 X 2 = 12\n",
      "6 X 3 = 18\n",
      "6 X 4 = 24\n",
      "6 X 5 = 30\n",
      "6 X 6 = 36\n",
      "6 X 7 = 42\n",
      "6 X 8 = 48\n",
      "6 X 9 = 54\n",
      "\n",
      "7단\n",
      "7 X 1 = 7\n",
      "7 X 2 = 14\n",
      "7 X 3 = 21\n",
      "7 X 4 = 28\n",
      "7 X 5 = 35\n",
      "7 X 6 = 42\n",
      "7 X 7 = 49\n",
      "7 X 8 = 56\n",
      "7 X 9 = 63\n",
      "\n",
      "8단\n",
      "8 X 1 = 8\n",
      "8 X 2 = 16\n",
      "8 X 3 = 24\n",
      "8 X 4 = 32\n",
      "8 X 5 = 40\n",
      "8 X 6 = 48\n",
      "8 X 7 = 56\n",
      "8 X 8 = 64\n",
      "8 X 9 = 72\n",
      "\n",
      "9단\n",
      "9 X 1 = 9\n",
      "9 X 2 = 18\n",
      "9 X 3 = 27\n",
      "9 X 4 = 36\n",
      "9 X 5 = 45\n",
      "9 X 6 = 54\n",
      "9 X 7 = 63\n",
      "9 X 8 = 72\n",
      "9 X 9 = 81\n",
      "\n"
     ]
    }
   ],
   "source": [
    "for i in range(2, 10) :\n",
    "    print(f\"{i}단\")          # 빈칸 띄우기 << 앞에 들어가야 앞에 제목 넣을수 있음\n",
    "    for j in range(1, 10) :\n",
    "        print(f\"{i} X {j} = {i*j}\")\n",
    "    print()"
   ]
  },
  {
   "cell_type": "code",
   "execution_count": 167,
   "id": "b4f04714-e5f3-4d6e-b6a0-720df45a21f8",
   "metadata": {
    "tags": []
   },
   "outputs": [
    {
     "name": "stdout",
     "output_type": "stream",
     "text": [
      "1\n",
      "3\n",
      "5\n",
      "7\n",
      "9\n"
     ]
    }
   ],
   "source": [
    "for i in range(10) :\n",
    "    if i % 2 == 1 :\n",
    "        print(i)"
   ]
  },
  {
   "cell_type": "code",
   "execution_count": 168,
   "id": "c7dcd899-ce9c-4d19-acf0-78c6501e04fa",
   "metadata": {},
   "outputs": [
    {
     "name": "stdout",
     "output_type": "stream",
     "text": [
      "25\n"
     ]
    }
   ],
   "source": [
    "sum = 0\n",
    "for i in range(10) :\n",
    "    if i % 2 == 1 :\n",
    "        sum += i\n",
    "print(sum)"
   ]
  },
  {
   "cell_type": "code",
   "execution_count": 169,
   "id": "5c3716af-d468-4fda-8c2b-d99a018c93ff",
   "metadata": {},
   "outputs": [
    {
     "name": "stdout",
     "output_type": "stream",
     "text": [
      "[1, 3, 5, 7, 9]\n"
     ]
    }
   ],
   "source": [
    "li = [ ]                   # 리스트 만들기\n",
    "for i in range(10) :\n",
    "    if i % 2 == 1 :\n",
    "        li.append(i)       # 중요한 append\n",
    "print(li)"
   ]
  },
  {
   "cell_type": "code",
   "execution_count": 178,
   "id": "02901484-3946-4f5d-a019-bcb8cdd3aa7f",
   "metadata": {},
   "outputs": [
    {
     "name": "stdout",
     "output_type": "stream",
     "text": [
      "234168\n"
     ]
    }
   ],
   "source": [
    "# 1 부터 1000 까지 3의 배수 또는 5의 배수의 합\n",
    "\n",
    "sum = 0\n",
    "for i in range(1, 1001) :\n",
    "    if i % 3 == 0 or i % 5 == 0 :      # 또는 쓸때 or 씀\n",
    "        sum += i\n",
    "print(sum)"
   ]
  },
  {
   "cell_type": "code",
   "execution_count": 177,
   "id": "c8720577-cf2a-41c4-9f48-345d40d57562",
   "metadata": {},
   "outputs": [
    {
     "name": "stdout",
     "output_type": "stream",
     "text": [
      "234168\n"
     ]
    }
   ],
   "source": [
    "sum = 0\n",
    "for i in range(1, 1001) :\n",
    "    if i % 3 == 0 :\n",
    "        sum += i            # 3의 배수 sum 한번 해준 다음 elif\n",
    "    elif i % 5 == 0 :\n",
    "        sum += i\n",
    "print(sum)"
   ]
  },
  {
   "cell_type": "code",
   "execution_count": 181,
   "id": "3335b5a7-69ec-42e3-b0b1-b4c46d5150ff",
   "metadata": {},
   "outputs": [
    {
     "name": "stdout",
     "output_type": "stream",
     "text": [
      "[2, 6, 10, 14, 18]\n"
     ]
    }
   ],
   "source": [
    "li = [ ]                   \n",
    "for i in range(10) :\n",
    "    if i % 2 == 1 :\n",
    "        li.append(i * 2)     \n",
    "print(li)"
   ]
  },
  {
   "cell_type": "code",
   "execution_count": null,
   "id": "16f092eb-0f67-4d29-95ff-07f986a76c43",
   "metadata": {},
   "outputs": [],
   "source": [
    "a = [1, 2, 3, 4]\n",
    "li = []\n",
    "for i in a :\n",
    "    li.append(i * 2)     \n",
    "print(li)"
   ]
  },
  {
   "cell_type": "code",
   "execution_count": 1,
   "id": "8563f48d-41fd-458f-b771-20b7b517c1ae",
   "metadata": {},
   "outputs": [
    {
     "name": "stdout",
     "output_type": "stream",
     "text": [
      "[2, 4, 6, 8]\n"
     ]
    }
   ],
   "source": [
    "a = [1, 2, 3, 4]\n",
    "print([ i * 2 for i in a])"
   ]
  },
  {
   "cell_type": "code",
   "execution_count": 2,
   "id": "922dfd8d-061f-4771-b5a8-914375e51c71",
   "metadata": {},
   "outputs": [
    {
     "data": {
      "text/plain": [
       "[2, 4, 6, 8]"
      ]
     },
     "execution_count": 2,
     "metadata": {},
     "output_type": "execute_result"
    }
   ],
   "source": [
    "li = [ i * 2 for i in a]\n",
    "li"
   ]
  },
  {
   "cell_type": "markdown",
   "id": "ebda0dc0-f74a-4b9b-98f4-ef8e446ade07",
   "metadata": {},
   "source": [
    "- list comeprehension"
   ]
  },
  {
   "cell_type": "code",
   "execution_count": 3,
   "id": "e04da213-aaac-486e-9714-4712bbcefe81",
   "metadata": {},
   "outputs": [
    {
     "data": {
      "text/plain": [
       "[4, 8]"
      ]
     },
     "execution_count": 3,
     "metadata": {},
     "output_type": "execute_result"
    }
   ],
   "source": [
    "a = [1, 2, 3, 4]\n",
    "li = [i * 2 for i in a  if i % 2 == 0]\n",
    "li"
   ]
  },
  {
   "cell_type": "code",
   "execution_count": 13,
   "id": "9deaefc8-92bf-42c7-a010-aa5962089c44",
   "metadata": {},
   "outputs": [
    {
     "name": "stdout",
     "output_type": "stream",
     "text": [
      "[4, 8]\n"
     ]
    }
   ],
   "source": [
    "a = [1, 2, 3, 4]\n",
    "li = []\n",
    "for i in a :\n",
    "        if i % 2 == 0 :\n",
    "            li.append(i * 2)\n",
    "print(li)"
   ]
  },
  {
   "cell_type": "code",
   "execution_count": 16,
   "id": "752d7e81-c3c4-41e2-bb3f-65b587344b0f",
   "metadata": {},
   "outputs": [
    {
     "name": "stdout",
     "output_type": "stream",
     "text": [
      "79.0\n"
     ]
    }
   ],
   "source": [
    "scores = [70, 60, 55, 75, 95, 90, 80, 80, 85, 100]\n",
    "total = 0\n",
    "for score in scores :\n",
    "    total += score\n",
    "average = total / len(scores)\n",
    "print(average)"
   ]
  },
  {
   "cell_type": "code",
   "execution_count": 20,
   "id": "86e2442c-f4d7-4d3e-884c-5cf99c6e23a0",
   "metadata": {},
   "outputs": [
    {
     "name": "stdout",
     "output_type": "stream",
     "text": [
      "[2, 6, 10]\n"
     ]
    }
   ],
   "source": [
    "numbers = [1, 2, 3, 4, 5]\n",
    "\n",
    "result = []\n",
    "for n in numbers :\n",
    "    if n % 2 == 1 :\n",
    "        result.append(n*2)\n",
    "print(result)"
   ]
  },
  {
   "cell_type": "code",
   "execution_count": 18,
   "id": "3e94cc3c-b665-4081-bbd2-4472733263b6",
   "metadata": {},
   "outputs": [
    {
     "name": "stdout",
     "output_type": "stream",
     "text": [
      "[2, 6, 10]\n"
     ]
    }
   ],
   "source": [
    "numbers = [1, 2, 3, 4, 5]\n",
    "result = [n * 2 for n in numbers if n % 2 == 1]        # list comprehension\n",
    "print(result)"
   ]
  },
  {
   "cell_type": "markdown",
   "id": "ead2c8fd-ddc0-43ef-b3c3-cb3e17d0eb7b",
   "metadata": {},
   "source": [
    "## while 문\n",
    "- 조건문 + 반복문\n",
    "- 반복 횟수가 정해져 있지 않을 때\n",
    "\n",
    "```\n",
    "while 조건 :\n",
    "          반복할 내용\n",
    "```"
   ]
  },
  {
   "cell_type": "code",
   "execution_count": 3,
   "id": "5204b934-216b-442b-9173-26430afe3c1f",
   "metadata": {},
   "outputs": [],
   "source": [
    "import random         # 랜덤하게 숫자 뽑아줌"
   ]
  },
  {
   "cell_type": "code",
   "execution_count": 25,
   "id": "5d153269-217b-4f82-ab3a-3b3ee7a02aeb",
   "metadata": {},
   "outputs": [
    {
     "data": {
      "text/plain": [
       "3"
      ]
     },
     "execution_count": 25,
     "metadata": {},
     "output_type": "execute_result"
    }
   ],
   "source": [
    "random.randint(1, 9)"
   ]
  },
  {
   "cell_type": "code",
   "execution_count": 1,
   "id": "31e32fac-8bfb-4bde-aa31-bf5f0daf467c",
   "metadata": {},
   "outputs": [
    {
     "name": "stdout",
     "output_type": "stream",
     "text": [
      "0\n",
      "10\n",
      "20\n",
      "30\n",
      "40\n",
      "50\n",
      "60\n"
     ]
    }
   ],
   "source": [
    "a = 0\n",
    "while a < 7 :\n",
    "    print(a * 10)\n",
    "    a += 1            # 이런 수의 변화 끝나는 조건 꼭 달아줘야함"
   ]
  },
  {
   "cell_type": "code",
   "execution_count": 4,
   "id": "b1562cf1-59bd-48e9-a8ae-998f93e6890a",
   "metadata": {},
   "outputs": [
    {
     "name": "stdout",
     "output_type": "stream",
     "text": [
      "0\n",
      "40\n"
     ]
    }
   ],
   "source": [
    "a = 0\n",
    "while a < 7 :\n",
    "    print(a*10)\n",
    "    a = random.randint(1, 10)"
   ]
  },
  {
   "cell_type": "code",
   "execution_count": 5,
   "id": "f81f4f67-ee79-49f3-9ff3-db12af314ecb",
   "metadata": {},
   "outputs": [
    {
     "name": "stdout",
     "output_type": "stream",
     "text": [
      "55\n"
     ]
    }
   ],
   "source": [
    "sum = 0\n",
    "for i in range(11) :\n",
    "    sum += i \n",
    "print(sum)"
   ]
  },
  {
   "cell_type": "code",
   "execution_count": 6,
   "id": "2b1b2f50-28f4-45cb-809f-de3a0ac8958f",
   "metadata": {},
   "outputs": [
    {
     "name": "stdout",
     "output_type": "stream",
     "text": [
      "55\n"
     ]
    }
   ],
   "source": [
    "sum = 0\n",
    "i = 0\n",
    "while i < 11 :\n",
    "    sum += i\n",
    "    i += 1        # 반드시 넣어줘야함 트루트루 하다가 폴스 나와서 멈춤\n",
    "print(sum)"
   ]
  },
  {
   "cell_type": "markdown",
   "id": "eb1e12f3-a3c1-4f0d-9678-13b76c36bb55",
   "metadata": {},
   "source": [
    "- break 멈춰주기"
   ]
  },
  {
   "cell_type": "code",
   "execution_count": 7,
   "id": "296cf81d-a50d-41eb-99ab-78abd71e5e1f",
   "metadata": {},
   "outputs": [
    {
     "name": "stdout",
     "output_type": "stream",
     "text": [
      "21\n"
     ]
    }
   ],
   "source": [
    "sum = 0\n",
    "i = 0\n",
    "while i < 11 :\n",
    "    sum += i\n",
    "    i += 1\n",
    "    if i % 7 == 0 :\n",
    "        break\n",
    "print(sum)"
   ]
  },
  {
   "cell_type": "markdown",
   "id": "0c0995f8-1d57-44f6-964c-35371dadbc8c",
   "metadata": {},
   "source": [
    "- continue 맨 처음으로 돌아가기"
   ]
  },
  {
   "cell_type": "code",
   "execution_count": 8,
   "id": "f9cfd795-c3d6-40d7-861a-3a4cb09644d6",
   "metadata": {},
   "outputs": [
    {
     "name": "stdout",
     "output_type": "stream",
     "text": [
      "1\n",
      "3\n",
      "5\n",
      "7\n",
      "9\n"
     ]
    }
   ],
   "source": [
    "a = 0\n",
    "while a < 10 :\n",
    "    a += 1\n",
    "    if a % 2 == 0 :    # 짝수 출력 X 반대로 되넹..\n",
    "        continue       # continue 는 위로 올라감  컨티뉴는 계속 돌아감 밑에 줄 실행 X\n",
    "    print(a)                            # 밑으로 계속 내려가는건 pass"
   ]
  },
  {
   "cell_type": "code",
   "execution_count": 9,
   "id": "19e1cfa7-c57a-4d6e-92c7-bae4a6e04cc2",
   "metadata": {},
   "outputs": [
    {
     "name": "stdout",
     "output_type": "stream",
     "text": [
      "1\n",
      "2\n",
      "4\n",
      "5\n",
      "7\n",
      "8\n",
      "10\n"
     ]
    }
   ],
   "source": [
    "# 1부터 10까지의 숫자 중에서 3의 배수를 뺀 나머지 값을 출력해 보자\n",
    "\n",
    "a = 0\n",
    "while a < 10 :\n",
    "    a += 1\n",
    "    if a % 3 == 0 :\n",
    "        continue             # 뺀 나머지 값이 출력 됨\n",
    "    print(a)"
   ]
  },
  {
   "cell_type": "code",
   "execution_count": 12,
   "id": "4138d254-8a82-4e6b-ab88-b73ba1167515",
   "metadata": {},
   "outputs": [
    {
     "name": "stdout",
     "output_type": "stream",
     "text": [
      "37\n"
     ]
    }
   ],
   "source": [
    "a = 0\n",
    "sum = 0\n",
    "while a < 10 :\n",
    "    a += 1\n",
    "    if a % 3 == 0 :\n",
    "        continue\n",
    "    sum += a\n",
    "print(sum)"
   ]
  },
  {
   "cell_type": "code",
   "execution_count": 13,
   "id": "b357e1b6-505c-44da-b30b-a45969a9fec0",
   "metadata": {},
   "outputs": [
    {
     "name": "stdout",
     "output_type": "stream",
     "text": [
      "3\n"
     ]
    }
   ],
   "source": [
    "a = 0\n",
    "sum = 0\n",
    "while a < 10 :\n",
    "    a += 1\n",
    "    if a % 3 == 0 :\n",
    "        break\n",
    "    sum += a\n",
    "print(sum)"
   ]
  },
  {
   "cell_type": "code",
   "execution_count": 14,
   "id": "ace63116-6803-41a7-8de3-6f78f3d1bc2a",
   "metadata": {},
   "outputs": [],
   "source": [
    "import time"
   ]
  },
  {
   "cell_type": "code",
   "execution_count": null,
   "id": "95897cff-42ec-4cbf-b437-d5fafa03c798",
   "metadata": {},
   "outputs": [],
   "source": [
    "time.sleep(1)"
   ]
  },
  {
   "cell_type": "code",
   "execution_count": null,
   "id": "add326ce-c79a-446c-8520-a0dd75459ab2",
   "metadata": {},
   "outputs": [],
   "source": [
    "while True:\n",
    "    print(\"Hello\")\n",
    "    time.sleep(1)\n",
    "# 1초 간격으로 hello 계속 나옴"
   ]
  },
  {
   "cell_type": "markdown",
   "id": "818ba3ca-f397-4885-a678-74fbb9ff2316",
   "metadata": {},
   "source": [
    "# 함수"
   ]
  },
  {
   "cell_type": "markdown",
   "id": "53849ff0-7286-47fd-b2d1-ce041bf6925a",
   "metadata": {},
   "source": [
    "## 함수 만들기\n",
    "```\n",
    "def 함수이름( ) :\n",
    "    실행할 문장\n",
    "    return 변수\n",
    "```"
   ]
  },
  {
   "cell_type": "code",
   "execution_count": 1,
   "id": "ec0f522d-1fac-4d6a-a6cd-712d295451ee",
   "metadata": {},
   "outputs": [],
   "source": [
    "def twice(a) :             # 두배로 만드는 함수를 만든 것\n",
    "    result = a*2\n",
    "    return result"
   ]
  },
  {
   "cell_type": "code",
   "execution_count": 2,
   "id": "2f4e17a2-3d6b-4179-806c-e158fbf71758",
   "metadata": {},
   "outputs": [
    {
     "data": {
      "text/plain": [
       "6"
      ]
     },
     "execution_count": 2,
     "metadata": {},
     "output_type": "execute_result"
    }
   ],
   "source": [
    "twice(3)"
   ]
  },
  {
   "cell_type": "code",
   "execution_count": 3,
   "id": "d6e2a106-e25f-4d77-8b53-166f46b817cc",
   "metadata": {},
   "outputs": [],
   "source": [
    "def twice(a) :\n",
    "    return a*2"
   ]
  },
  {
   "cell_type": "code",
   "execution_count": 4,
   "id": "cb6dc32c-794a-4d77-aeb3-d770c9566174",
   "metadata": {},
   "outputs": [
    {
     "ename": "TypeError",
     "evalue": "twice() takes 1 positional argument but 2 were given",
     "output_type": "error",
     "traceback": [
      "\u001b[1;31m---------------------------------------------------------------------------\u001b[0m",
      "\u001b[1;31mTypeError\u001b[0m                                 Traceback (most recent call last)",
      "Input \u001b[1;32mIn [4]\u001b[0m, in \u001b[0;36m<cell line: 1>\u001b[1;34m()\u001b[0m\n\u001b[1;32m----> 1\u001b[0m \u001b[43mtwice\u001b[49m\u001b[43m(\u001b[49m\u001b[38;5;241;43m3\u001b[39;49m\u001b[43m,\u001b[49m\u001b[43m \u001b[49m\u001b[38;5;241;43m4\u001b[39;49m\u001b[43m)\u001b[49m\n",
      "\u001b[1;31mTypeError\u001b[0m: twice() takes 1 positional argument but 2 were given"
     ]
    }
   ],
   "source": [
    "twice(3, 4)             # 한개로 설정해놔서 두개는 안됨"
   ]
  },
  {
   "cell_type": "code",
   "execution_count": 5,
   "id": "ad27ced8-55ce-4d60-a79a-874a10537768",
   "metadata": {},
   "outputs": [],
   "source": [
    "def add(a, b) :\n",
    "    return a + b"
   ]
  },
  {
   "cell_type": "code",
   "execution_count": 6,
   "id": "39824f0d-6198-453b-bce5-7ab53c06d431",
   "metadata": {},
   "outputs": [
    {
     "name": "stdout",
     "output_type": "stream",
     "text": [
      "12\n"
     ]
    }
   ],
   "source": [
    "a = 5\n",
    "b = 7\n",
    "c = add(a, b)\n",
    "print(c)"
   ]
  },
  {
   "cell_type": "code",
   "execution_count": 9,
   "id": "215b324e-5399-47a1-8129-6cc0f8edbd3f",
   "metadata": {},
   "outputs": [
    {
     "data": {
      "text/plain": [
       "7"
      ]
     },
     "execution_count": 9,
     "metadata": {},
     "output_type": "execute_result"
    }
   ],
   "source": [
    "add(3, 4)"
   ]
  },
  {
   "cell_type": "code",
   "execution_count": 7,
   "id": "188acb49-5c0a-4752-9a9d-b0af568ed7fb",
   "metadata": {},
   "outputs": [],
   "source": [
    "def subtract(a, b) :\n",
    "    result = a - b\n",
    "    return result"
   ]
  },
  {
   "cell_type": "code",
   "execution_count": 8,
   "id": "d98b582e-3bb8-415c-8bd5-617c58294e69",
   "metadata": {},
   "outputs": [
    {
     "data": {
      "text/plain": [
       "8"
      ]
     },
     "execution_count": 8,
     "metadata": {},
     "output_type": "execute_result"
    }
   ],
   "source": [
    "subtract(15, 7)"
   ]
  },
  {
   "cell_type": "code",
   "execution_count": 12,
   "id": "7ff9e018-4a3f-43fa-9289-b864061c1a1f",
   "metadata": {},
   "outputs": [
    {
     "data": {
      "text/plain": [
       "1"
      ]
     },
     "execution_count": 12,
     "metadata": {},
     "output_type": "execute_result"
    }
   ],
   "source": [
    "subtract(4, 3)       # 숫자 순서가 중요"
   ]
  },
  {
   "cell_type": "code",
   "execution_count": 13,
   "id": "9f02f1fa-58a9-46e9-884c-74fc79313f1f",
   "metadata": {},
   "outputs": [
    {
     "data": {
      "text/plain": [
       "-1"
      ]
     },
     "execution_count": 13,
     "metadata": {},
     "output_type": "execute_result"
    }
   ],
   "source": [
    "subtract(b=4, a=3)       # 이름을 주면 왔다갔다 바꿔도 됨 순서 중요 X"
   ]
  },
  {
   "cell_type": "code",
   "execution_count": 14,
   "id": "e450ae54-fd5e-41b0-9a3f-49fa3d76c8c4",
   "metadata": {},
   "outputs": [
    {
     "data": {
      "text/plain": [
       "[1, 2]"
      ]
     },
     "execution_count": 14,
     "metadata": {},
     "output_type": "execute_result"
    }
   ],
   "source": [
    "a = [1, 2]\n",
    "a.copy()"
   ]
  },
  {
   "cell_type": "code",
   "execution_count": 15,
   "id": "d8fb465c-9659-4549-817a-0c054d953656",
   "metadata": {},
   "outputs": [],
   "source": [
    "def test() :\n",
    "    a, b = 1, 2\n",
    "    return a + b"
   ]
  },
  {
   "cell_type": "code",
   "execution_count": 16,
   "id": "c57860eb-cc9d-4a2b-a6fb-6195d5419833",
   "metadata": {},
   "outputs": [
    {
     "data": {
      "text/plain": [
       "3"
      ]
     },
     "execution_count": 16,
     "metadata": {},
     "output_type": "execute_result"
    }
   ],
   "source": [
    "test()"
   ]
  },
  {
   "cell_type": "code",
   "execution_count": 24,
   "id": "d5c90f74-dbd4-4e2d-9290-1d8189ca45eb",
   "metadata": {},
   "outputs": [],
   "source": [
    "def odd_even(a) :\n",
    "    if a % 2 == 0 :\n",
    "        print(f\"{a}는 짝수입니다\")\n",
    "    else :\n",
    "        print(f\"{a}는 홀수입니다\")"
   ]
  },
  {
   "cell_type": "code",
   "execution_count": 25,
   "id": "8e619ec3-785d-47d7-a29e-8db1a677320c",
   "metadata": {},
   "outputs": [
    {
     "name": "stdout",
     "output_type": "stream",
     "text": [
      "5는 홀수입니다\n"
     ]
    }
   ],
   "source": [
    "odd_even(5)"
   ]
  },
  {
   "cell_type": "code",
   "execution_count": 38,
   "id": "e4069dd8-bb71-458c-a519-ce21f37f8e27",
   "metadata": {},
   "outputs": [],
   "source": [
    "def add(a, b, c = 10):\n",
    "    return a+b+c"
   ]
  },
  {
   "cell_type": "code",
   "execution_count": 39,
   "id": "a0f6484f-95bb-4a42-b088-d97444f81e2e",
   "metadata": {},
   "outputs": [
    {
     "data": {
      "text/plain": [
       "13"
      ]
     },
     "execution_count": 39,
     "metadata": {},
     "output_type": "execute_result"
    }
   ],
   "source": [
    "add(1, 2)"
   ]
  },
  {
   "cell_type": "code",
   "execution_count": 40,
   "id": "ea63cf9c-fe37-403b-8b0c-572b9389cead",
   "metadata": {},
   "outputs": [
    {
     "data": {
      "text/plain": [
       "6"
      ]
     },
     "execution_count": 40,
     "metadata": {},
     "output_type": "execute_result"
    }
   ],
   "source": [
    "add(1, 2, 3)          # c=10으로 잡았지만 그대로 3으로 출력\n",
    "                      # c 값이 없다면 10으로 출력, 있다면 그대로"
   ]
  },
  {
   "cell_type": "code",
   "execution_count": 41,
   "id": "0041c16b-d7d9-4a98-a473-34210b6865c6",
   "metadata": {},
   "outputs": [
    {
     "data": {
      "text/plain": [
       "103"
      ]
     },
     "execution_count": 41,
     "metadata": {},
     "output_type": "execute_result"
    }
   ],
   "source": [
    "add(a = 1, c = 100, b = 2)"
   ]
  },
  {
   "cell_type": "code",
   "execution_count": 54,
   "id": "87ecf68f-4c02-4ccb-9f5b-41ad42554bd3",
   "metadata": {},
   "outputs": [
    {
     "ename": "SyntaxError",
     "evalue": "non-default argument follows default argument (1830961256.py, line 1)",
     "output_type": "error",
     "traceback": [
      "\u001b[1;36m  Input \u001b[1;32mIn [54]\u001b[1;36m\u001b[0m\n\u001b[1;33m    def add(a, b = 100, c):\u001b[0m\n\u001b[1;37m                         ^\u001b[0m\n\u001b[1;31mSyntaxError\u001b[0m\u001b[1;31m:\u001b[0m non-default argument follows default argument\n"
     ]
    }
   ],
   "source": [
    "def add(a, b = 100, c):     # 디폴트 값 주고 싶으면 맨 뒤 c 에 입력해야함\n",
    "    return a+b+c"
   ]
  },
  {
   "cell_type": "code",
   "execution_count": null,
   "id": "4fbf30df-b0f8-4d63-a89c-80f643230d56",
   "metadata": {},
   "outputs": [],
   "source": [
    "#say_myself(\"홍길동\", 27)\n",
    "\n",
    "#나의 이름은 홍길동 입니다.\n",
    "#나이는 27입니다.\n",
    "#국적은 한국입니다.\n",
    "\n",
    "#say_myself(\"Smith\", 25, \"America\")\n"
   ]
  },
  {
   "cell_type": "code",
   "execution_count": 47,
   "id": "8d301b28-d428-4bde-8360-d93c171fd75f",
   "metadata": {},
   "outputs": [],
   "source": [
    "def say_myself(name) :\n",
    "    print(f\"나의 이름은 {name}입니다.\")"
   ]
  },
  {
   "cell_type": "code",
   "execution_count": 49,
   "id": "5cef4282-5528-4c33-a701-78cb886f3c9d",
   "metadata": {},
   "outputs": [
    {
     "name": "stdout",
     "output_type": "stream",
     "text": [
      "나의 이름은 홍길동입니다.\n"
     ]
    }
   ],
   "source": [
    "say_myself(\"홍길동\")"
   ]
  },
  {
   "cell_type": "code",
   "execution_count": 50,
   "id": "e59aab51-77bb-49c4-aa7e-58ac2a0634b9",
   "metadata": {},
   "outputs": [],
   "source": [
    "def say_myself(name, age, country) :\n",
    "    print(f\"나의 이름은 {name}입니다.\")\n",
    "    print(f\"나이는 {age}입니다.\")\n",
    "    print(f\"국적은 {country}입니다.\")"
   ]
  },
  {
   "cell_type": "code",
   "execution_count": 53,
   "id": "ead30490-4c18-4b2b-8758-eb69df9068fd",
   "metadata": {},
   "outputs": [
    {
     "name": "stdout",
     "output_type": "stream",
     "text": [
      "나의 이름은 홍길동입니다.\n",
      "나이는 27입니다.\n",
      "국적은 한국입니다.\n"
     ]
    }
   ],
   "source": [
    "say_myself(\"홍길동\", 27, \"한국\")"
   ]
  },
  {
   "cell_type": "code",
   "execution_count": 52,
   "id": "02a4e11e-f469-4ef1-a82a-db2855b1725a",
   "metadata": {},
   "outputs": [
    {
     "name": "stdout",
     "output_type": "stream",
     "text": [
      "나의 이름은 Smith입니다.\n",
      "나이는 25입니다.\n",
      "국적은 America입니다.\n"
     ]
    }
   ],
   "source": [
    "say_myself(\"Smith\", 25, \"America\")"
   ]
  },
  {
   "cell_type": "markdown",
   "id": "a667d5cb-c580-40fb-9cd7-0e05edf7af7a",
   "metadata": {},
   "source": [
    "- return 과 print"
   ]
  },
  {
   "cell_type": "code",
   "execution_count": 26,
   "id": "b9dd9745-420c-46c1-b39f-e4eadb68f55d",
   "metadata": {},
   "outputs": [],
   "source": [
    "def func_r(a) :            \n",
    "    result = a*2\n",
    "    return result          # return은 쓰고 나면 그 이후로는 출력 안됨. 마지막에 써야함\n",
    "                           # return은 ( ) 써도 좋고 안써도 됨\n",
    "def func_p(a) :            \n",
    "    result = a*2\n",
    "    print(result)"
   ]
  },
  {
   "cell_type": "code",
   "execution_count": 27,
   "id": "281aee86-6498-4123-8a6a-3e978a8a485f",
   "metadata": {},
   "outputs": [
    {
     "data": {
      "text/plain": [
       "6"
      ]
     },
     "execution_count": 27,
     "metadata": {},
     "output_type": "execute_result"
    }
   ],
   "source": [
    "func_r(3)"
   ]
  },
  {
   "cell_type": "code",
   "execution_count": 28,
   "id": "13058372-c33e-47d3-8b36-60d13f40c7a4",
   "metadata": {},
   "outputs": [
    {
     "name": "stdout",
     "output_type": "stream",
     "text": [
      "6\n"
     ]
    }
   ],
   "source": [
    "func_p(3)                                                    # _ : 언더바, underscore"
   ]
  },
  {
   "cell_type": "code",
   "execution_count": 29,
   "id": "8b253f07-da7e-4357-ac55-6a5d2ae873d0",
   "metadata": {},
   "outputs": [
    {
     "data": {
      "text/plain": [
       "12"
      ]
     },
     "execution_count": 29,
     "metadata": {},
     "output_type": "execute_result"
    }
   ],
   "source": [
    "r = func_r(3)\n",
    "2*r"
   ]
  },
  {
   "cell_type": "code",
   "execution_count": 30,
   "id": "dc75af20-3b11-4b07-bc7f-a36f1f3201d1",
   "metadata": {},
   "outputs": [
    {
     "name": "stdout",
     "output_type": "stream",
     "text": [
      "6\n"
     ]
    },
    {
     "ename": "TypeError",
     "evalue": "unsupported operand type(s) for *: 'int' and 'NoneType'",
     "output_type": "error",
     "traceback": [
      "\u001b[1;31m---------------------------------------------------------------------------\u001b[0m",
      "\u001b[1;31mTypeError\u001b[0m                                 Traceback (most recent call last)",
      "Input \u001b[1;32mIn [30]\u001b[0m, in \u001b[0;36m<cell line: 2>\u001b[1;34m()\u001b[0m\n\u001b[0;32m      1\u001b[0m p \u001b[38;5;241m=\u001b[39m func_p(\u001b[38;5;241m3\u001b[39m)\n\u001b[1;32m----> 2\u001b[0m \u001b[38;5;241;43m2\u001b[39;49m\u001b[38;5;241;43m*\u001b[39;49m\u001b[43mp\u001b[49m\n",
      "\u001b[1;31mTypeError\u001b[0m: unsupported operand type(s) for *: 'int' and 'NoneType'"
     ]
    }
   ],
   "source": [
    "p = func_p(3)\n",
    "2*p                           # 프린트는 에러나네"
   ]
  },
  {
   "cell_type": "code",
   "execution_count": 32,
   "id": "f81c1ceb-e00c-458d-97ea-1584442e0e0d",
   "metadata": {},
   "outputs": [],
   "source": [
    "p"
   ]
  },
  {
   "cell_type": "code",
   "execution_count": 33,
   "id": "33df0444-8605-4a8d-af48-f8b43e75b88d",
   "metadata": {},
   "outputs": [
    {
     "name": "stdout",
     "output_type": "stream",
     "text": [
      "None\n"
     ]
    }
   ],
   "source": [
    "print(p)               # print 안에는 값이 없음"
   ]
  },
  {
   "cell_type": "code",
   "execution_count": 34,
   "id": "cf3fbe7c-ecde-4d92-bb9b-e149bf3f1a96",
   "metadata": {},
   "outputs": [
    {
     "data": {
      "text/plain": [
       "6"
      ]
     },
     "execution_count": 34,
     "metadata": {},
     "output_type": "execute_result"
    }
   ],
   "source": [
    "r                      # return 안에는 값이 들어감"
   ]
  },
  {
   "cell_type": "markdown",
   "id": "c4543b88-a8ac-4570-a64c-f4fd7ae26c01",
   "metadata": {},
   "source": [
    "- 입력값의 개수가 정해져 있지 않은 경우"
   ]
  },
  {
   "cell_type": "code",
   "execution_count": 57,
   "id": "0c58e7c0-8f5b-4a1e-8cf2-e59e99a008ae",
   "metadata": {},
   "outputs": [],
   "source": [
    "def add_many(*args):     # arguments 약자 args\n",
    "    sum = 0\n",
    "    for i in args:\n",
    "        print(i)    # < 얘 없어도 됨 print 없으면 과정 없이 15만 출력\n",
    "        sum += i\n",
    "    return sum"
   ]
  },
  {
   "cell_type": "code",
   "execution_count": 56,
   "id": "de51324e-697a-4275-b1b8-7bc213af8366",
   "metadata": {},
   "outputs": [
    {
     "name": "stdout",
     "output_type": "stream",
     "text": [
      "1\n",
      "2\n",
      "3\n",
      "4\n",
      "5\n"
     ]
    },
    {
     "data": {
      "text/plain": [
       "15"
      ]
     },
     "execution_count": 56,
     "metadata": {},
     "output_type": "execute_result"
    }
   ],
   "source": [
    "add_many(1, 2, 3, 4, 5)"
   ]
  },
  {
   "cell_type": "code",
   "execution_count": 61,
   "id": "8169cb0c-aeba-4a91-86ac-8ef75fd6dc18",
   "metadata": {},
   "outputs": [],
   "source": [
    "# 딕셔너리 형태로 나옴\n",
    "def print_kwargs(**kwargs):\n",
    "    print(kwargs)"
   ]
  },
  {
   "cell_type": "code",
   "execution_count": 62,
   "id": "818e5ac7-6df0-46a2-9a7c-1a0c7b5d4b3e",
   "metadata": {},
   "outputs": [
    {
     "name": "stdout",
     "output_type": "stream",
     "text": [
      "{'a': 1, 'name': 'boo', 'age': 3}\n"
     ]
    }
   ],
   "source": [
    "print_kwargs(a = 1, name = \"boo\", age = 3)"
   ]
  },
  {
   "cell_type": "code",
   "execution_count": 64,
   "id": "0cfb8a20-6d18-4f47-a20a-efe449e1ebfc",
   "metadata": {},
   "outputs": [],
   "source": [
    "def add_multi(choice, *args) :\n",
    "    if choice == \"add\" :\n",
    "        result = 0\n",
    "        for i in args :\n",
    "            result = result + i\n",
    "    elif choice == \"multi\" :\n",
    "        result = 1\n",
    "        for i in args :\n",
    "            result = result * i\n",
    "    return result"
   ]
  },
  {
   "cell_type": "code",
   "execution_count": 65,
   "id": "8981349a-a5ac-442d-be19-26f6efdef699",
   "metadata": {},
   "outputs": [
    {
     "name": "stdout",
     "output_type": "stream",
     "text": [
      "15\n"
     ]
    }
   ],
   "source": [
    "result = add_multi('add', 1, 2, 3, 4, 5)\n",
    "print(result)"
   ]
  },
  {
   "cell_type": "code",
   "execution_count": 66,
   "id": "64aba78c-0436-4be2-933f-c459b169318a",
   "metadata": {},
   "outputs": [
    {
     "name": "stdout",
     "output_type": "stream",
     "text": [
      "120\n"
     ]
    }
   ],
   "source": [
    "result= add_multi('multi', 1, 2, 3, 4, 5)\n",
    "print(result)"
   ]
  },
  {
   "cell_type": "code",
   "execution_count": 68,
   "id": "ebd6ff93-20c1-4c6b-9365-1e8ca582fefe",
   "metadata": {},
   "outputs": [
    {
     "data": {
      "text/plain": [
       "(5, 6)"
      ]
     },
     "execution_count": 68,
     "metadata": {},
     "output_type": "execute_result"
    }
   ],
   "source": [
    "def add_and_multi(a, b) :\n",
    "    return a+b, a*b\n",
    "\n",
    "add_and_multi(2, 3)"
   ]
  },
  {
   "cell_type": "code",
   "execution_count": null,
   "id": "22644697-bb15-4d1d-aa12-eaae61ad08d7",
   "metadata": {},
   "outputs": [],
   "source": [
    "(c, d) = add_and_multi(2, 3)"
   ]
  },
  {
   "cell_type": "code",
   "execution_count": 69,
   "id": "75403d29-86e0-424d-811f-46241f5f0150",
   "metadata": {},
   "outputs": [],
   "source": [
    "c, d = add_and_multi(2, 3)       # c, d 괄호 안써도 됨"
   ]
  },
  {
   "cell_type": "code",
   "execution_count": null,
   "id": "a8c446ce-0a10-41f3-b056-d2a90685f464",
   "metadata": {},
   "outputs": [],
   "source": [
    "(c, d) = (5, 6)    # Unpacking"
   ]
  },
  {
   "cell_type": "code",
   "execution_count": null,
   "id": "becd0bfa-62d9-4557-ba3a-d9334302cb0d",
   "metadata": {},
   "outputs": [],
   "source": [
    "def add_and_multi(a, b):\n",
    "    return a+b\n",
    "    return a*b      # < 이건 실행되지 않음 리턴 쓰면 바로 끝"
   ]
  },
  {
   "cell_type": "code",
   "execution_count": 71,
   "id": "e686e4fd-b149-4e21-ad63-8b19aaa64f4a",
   "metadata": {},
   "outputs": [],
   "source": [
    "def add_many(*args):    \n",
    "    sum = 0\n",
    "    for i in args:\n",
    "        sum += i\n",
    "    return sum"
   ]
  },
  {
   "cell_type": "code",
   "execution_count": 72,
   "id": "3297f813-3948-4298-b6b6-54537715e3b5",
   "metadata": {},
   "outputs": [
    {
     "data": {
      "text/plain": [
       "10"
      ]
     },
     "execution_count": 72,
     "metadata": {},
     "output_type": "execute_result"
    }
   ],
   "source": [
    "add_many(1, 2, 3, 4)"
   ]
  },
  {
   "cell_type": "code",
   "execution_count": 73,
   "id": "4bdcbefd-af24-46ca-8d25-b79d6160b166",
   "metadata": {},
   "outputs": [
    {
     "name": "stdout",
     "output_type": "stream",
     "text": [
      "<built-in function sum>\n"
     ]
    }
   ],
   "source": [
    "print(sum)     # 변수 sum=0으로 했지만 return이 있음 \n",
    "               # sum은 함수가 끝나면 그 공간도 사라짐\n",
    "               # 함수 안에 정의되는 변수는 함수가 실행될 때만 있고\n",
    "               # 함수가 끝나면 변수(sum)도 사라짐\n",
    "               # 함수 안에서만 작동하는 변수"
   ]
  },
  {
   "cell_type": "code",
   "execution_count": 74,
   "id": "44771c19-adc3-4c26-8913-52f356685715",
   "metadata": {},
   "outputs": [
    {
     "name": "stdout",
     "output_type": "stream",
     "text": [
      "1\n",
      "3\n",
      "6\n"
     ]
    }
   ],
   "source": [
    "a = 0\n",
    "sum = 0\n",
    "for i in [1, 2, 3]:\n",
    "    sum += i\n",
    "    print(sum)"
   ]
  },
  {
   "cell_type": "code",
   "execution_count": 75,
   "id": "46c67ba8-b012-4bc1-b3dd-24ee97b93eff",
   "metadata": {},
   "outputs": [
    {
     "data": {
      "text/plain": [
       "6"
      ]
     },
     "execution_count": 75,
     "metadata": {},
     "output_type": "execute_result"
    }
   ],
   "source": [
    "sum           # 여기 sum 값 안없어진것은 함수 안에서만 해당\n",
    "              # for문에서는 윗쪽에 쓰기도 하고 구문이기 때문에 값이 사라지지 않음"
   ]
  },
  {
   "cell_type": "markdown",
   "id": "b0775aa1-291b-434a-83a7-c391bba3f511",
   "metadata": {},
   "source": [
    "- 변수의 적용 범위. scope"
   ]
  },
  {
   "cell_type": "code",
   "execution_count": 76,
   "id": "d6b180e4-8d6f-4892-84a2-03d8fa898f96",
   "metadata": {},
   "outputs": [],
   "source": [
    "a = 1                 # < 여기 a 하고\n",
    "\n",
    "def vartest(a):\n",
    "    a = a + 1           # < 여기 a 다른거임"
   ]
  },
  {
   "cell_type": "code",
   "execution_count": 77,
   "id": "d963e464-a1f4-4deb-8159-65acf0aa49a5",
   "metadata": {},
   "outputs": [
    {
     "data": {
      "text/plain": [
       "1"
      ]
     },
     "execution_count": 77,
     "metadata": {},
     "output_type": "execute_result"
    }
   ],
   "source": [
    "a"
   ]
  },
  {
   "cell_type": "code",
   "execution_count": 78,
   "id": "9066196c-c7ef-459e-9888-ecacdd55f304",
   "metadata": {},
   "outputs": [],
   "source": [
    "vartest(a)            # 계속 a가 1이 나옴"
   ]
  },
  {
   "cell_type": "code",
   "execution_count": 79,
   "id": "67140215-004a-4202-9114-8d4ef3776225",
   "metadata": {},
   "outputs": [
    {
     "data": {
      "text/plain": [
       "1"
      ]
     },
     "execution_count": 79,
     "metadata": {},
     "output_type": "execute_result"
    }
   ],
   "source": [
    "a"
   ]
  },
  {
   "cell_type": "code",
   "execution_count": 80,
   "id": "52eeace7-b314-4ffc-9b88-e570badb3e1d",
   "metadata": {},
   "outputs": [],
   "source": [
    "a = 1\n",
    "\n",
    "def vartest(b):\n",
    "    a = b + 1\n",
    "    print(id(a))"
   ]
  },
  {
   "cell_type": "code",
   "execution_count": 81,
   "id": "b9f11154-6f50-49c5-a7e3-9031316f08d8",
   "metadata": {},
   "outputs": [
    {
     "name": "stdout",
     "output_type": "stream",
     "text": [
      "2262066948432\n"
     ]
    }
   ],
   "source": [
    "vartest(a)             # 주소 확인해보니 다른 주소임"
   ]
  },
  {
   "cell_type": "code",
   "execution_count": 82,
   "id": "7feed303-aa4a-4444-b4d8-409a428c0156",
   "metadata": {},
   "outputs": [
    {
     "data": {
      "text/plain": [
       "2262066948400"
      ]
     },
     "execution_count": 82,
     "metadata": {},
     "output_type": "execute_result"
    }
   ],
   "source": [
    "id(a)"
   ]
  },
  {
   "cell_type": "code",
   "execution_count": 83,
   "id": "f2457a61-886e-4543-9168-339db1af61ad",
   "metadata": {},
   "outputs": [],
   "source": [
    "a = 1\n",
    "def vartest(b):\n",
    "    global a           # global 이용해서 바깥쪽 a=1을 알려줌\n",
    "    a = b + 1"
   ]
  },
  {
   "cell_type": "code",
   "execution_count": 84,
   "id": "361f4a11-0666-40cf-889b-44c93f5dc68d",
   "metadata": {},
   "outputs": [
    {
     "data": {
      "text/plain": [
       "1"
      ]
     },
     "execution_count": 84,
     "metadata": {},
     "output_type": "execute_result"
    }
   ],
   "source": [
    "a"
   ]
  },
  {
   "cell_type": "code",
   "execution_count": 85,
   "id": "fd56e3dc-178f-4506-8754-2a33174dcc79",
   "metadata": {},
   "outputs": [],
   "source": [
    "vartest(2)"
   ]
  },
  {
   "cell_type": "code",
   "execution_count": 86,
   "id": "82c4dbff-8c22-4ebb-9f37-e303deceb9fc",
   "metadata": {},
   "outputs": [
    {
     "data": {
      "text/plain": [
       "3"
      ]
     },
     "execution_count": 86,
     "metadata": {},
     "output_type": "execute_result"
    }
   ],
   "source": [
    "a"
   ]
  },
  {
   "cell_type": "code",
   "execution_count": 88,
   "id": "0df49793-8112-4461-b5f3-893c7cdb84ab",
   "metadata": {},
   "outputs": [
    {
     "name": "stdout",
     "output_type": "stream",
     "text": [
      "1 10\n",
      "2 20\n",
      "3 30\n"
     ]
    }
   ],
   "source": [
    "a = {1:10, 2:20, 3:30}\n",
    "for i, j in a.items():\n",
    "    print(i, j)"
   ]
  },
  {
   "cell_type": "code",
   "execution_count": 89,
   "id": "a35aef35-ed29-4044-a16c-5b16410cd6d0",
   "metadata": {},
   "outputs": [
    {
     "name": "stdout",
     "output_type": "stream",
     "text": [
      "10\n",
      "20\n",
      "30\n"
     ]
    }
   ],
   "source": [
    "a = [10, 20, 30]\n",
    "for i in a:\n",
    "    print(i)"
   ]
  },
  {
   "cell_type": "code",
   "execution_count": 90,
   "id": "79b1de0b-69b4-435d-be28-31ef62450e6e",
   "metadata": {},
   "outputs": [
    {
     "data": {
      "text/plain": [
       "<enumerate at 0x20eb4a7a980>"
      ]
     },
     "execution_count": 90,
     "metadata": {},
     "output_type": "execute_result"
    }
   ],
   "source": [
    "a = [\"철수\", \"영희\", \"길동\"]\n",
    "enumerate(a)        # 얘 주소 a 가 뭉뚱그려있음 내장함수"
   ]
  },
  {
   "cell_type": "code",
   "execution_count": 92,
   "id": "56728fb5-d21e-496a-88c6-9e3b40037993",
   "metadata": {},
   "outputs": [
    {
     "data": {
      "text/plain": [
       "[0, 1, 2, 3]"
      ]
     },
     "execution_count": 92,
     "metadata": {},
     "output_type": "execute_result"
    }
   ],
   "source": [
    "list(range(4))"
   ]
  },
  {
   "cell_type": "code",
   "execution_count": 93,
   "id": "b752020a-4388-4116-a2b2-0b5d79f5f4b1",
   "metadata": {},
   "outputs": [
    {
     "name": "stdout",
     "output_type": "stream",
     "text": [
      "(0, '철수')\n",
      "(1, '영희')\n",
      "(2, '길동')\n"
     ]
    }
   ],
   "source": [
    "a = [\"철수\", \"영희\", \"길동\"]\n",
    "obj = enumerate(a) \n",
    "\n",
    "for i in obj :\n",
    "    print(i)"
   ]
  },
  {
   "cell_type": "code",
   "execution_count": 94,
   "id": "147b0fe8-ce31-4489-9f2e-cd2c6459afb3",
   "metadata": {},
   "outputs": [
    {
     "name": "stdout",
     "output_type": "stream",
     "text": [
      "0 철수\n",
      "1 영희\n",
      "2 길동\n"
     ]
    }
   ],
   "source": [
    "a = [\"철수\", \"영희\", \"길동\"]\n",
    "obj = enumerate(a)          # enumerate < 번호 없는 list 번호 매겨주고 싶을 때\n",
    "\n",
    "for i, j in obj :\n",
    "    print(i, j)              # unpacking 괄호 사라짐"
   ]
  },
  {
   "cell_type": "markdown",
   "id": "2582aef4-3d02-47d0-a027-32dae363416e",
   "metadata": {},
   "source": [
    "### 람다함수\n",
    "- 익명을 lambda라고 함 이름을 정해줄 필요가 없음"
   ]
  },
  {
   "cell_type": "code",
   "execution_count": 99,
   "id": "7c9a9a65-bddb-445d-924c-8bdadd3cc812",
   "metadata": {},
   "outputs": [
    {
     "data": {
      "text/plain": [
       "6"
      ]
     },
     "execution_count": 99,
     "metadata": {},
     "output_type": "execute_result"
    }
   ],
   "source": [
    "def twice(x):\n",
    "    return x*2\n",
    "\n",
    "twice(3)"
   ]
  },
  {
   "cell_type": "code",
   "execution_count": 96,
   "id": "bc1799f5-29dd-4da8-a44c-bccb6013e093",
   "metadata": {},
   "outputs": [
    {
     "data": {
      "text/plain": [
       "<function __main__.<lambda>(x)>"
      ]
     },
     "execution_count": 96,
     "metadata": {},
     "output_type": "execute_result"
    }
   ],
   "source": [
    "lambda x: x*2"
   ]
  },
  {
   "cell_type": "code",
   "execution_count": 97,
   "id": "dc36cdd2-ab49-451c-b44f-bb5a2fdce5fd",
   "metadata": {},
   "outputs": [
    {
     "data": {
      "text/plain": [
       "6"
      ]
     },
     "execution_count": 97,
     "metadata": {},
     "output_type": "execute_result"
    }
   ],
   "source": [
    "(lambda x: x*2) (3)          #lambda 함수 괄호로 묶어줌"
   ]
  },
  {
   "cell_type": "code",
   "execution_count": 100,
   "id": "b2e3fa5c-96f2-4297-8c26-5698fc9c7fcf",
   "metadata": {},
   "outputs": [
    {
     "data": {
      "text/plain": [
       "5"
      ]
     },
     "execution_count": 100,
     "metadata": {},
     "output_type": "execute_result"
    }
   ],
   "source": [
    "def add(a, b):\n",
    "    return a+b\n",
    "\n",
    "add(2,3)"
   ]
  },
  {
   "cell_type": "code",
   "execution_count": 104,
   "id": "4a905e8e-be3d-4e26-aae3-9bdbe84a1eb3",
   "metadata": {},
   "outputs": [
    {
     "data": {
      "text/plain": [
       "5"
      ]
     },
     "execution_count": 104,
     "metadata": {},
     "output_type": "execute_result"
    }
   ],
   "source": [
    "(lambda x, y:x+y ) (2, 3)"
   ]
  },
  {
   "cell_type": "code",
   "execution_count": 105,
   "id": "dd217c64-709d-426a-87a1-86603bdc9ac5",
   "metadata": {},
   "outputs": [
    {
     "data": {
      "text/plain": [
       "6"
      ]
     },
     "execution_count": 105,
     "metadata": {},
     "output_type": "execute_result"
    }
   ],
   "source": [
    "twice = lambda x: x*2\n",
    "twice(3)"
   ]
  },
  {
   "cell_type": "code",
   "execution_count": 106,
   "id": "6f6a86e0-e307-4927-a14d-7dd552e63701",
   "metadata": {},
   "outputs": [
    {
     "data": {
      "text/plain": [
       "5"
      ]
     },
     "execution_count": 106,
     "metadata": {},
     "output_type": "execute_result"
    }
   ],
   "source": [
    "add = lambda x, y : x+y\n",
    "add(2, 3)"
   ]
  },
  {
   "cell_type": "code",
   "execution_count": null,
   "id": "1abe4e22-988d-4a66-88c6-8be18fcdf5dd",
   "metadata": {},
   "outputs": [],
   "source": [
    "a = int(input())\n",
    "if a % 2 == 0 :\n",
    "    print(f'{a}는 짝수입니다')\n",
    "else :\n",
    "    print(f'{a}는 홀수입니다')"
   ]
  },
  {
   "cell_type": "code",
   "execution_count": 115,
   "id": "b0a0bc5d-8970-4a3f-84ae-70391ff5463d",
   "metadata": {},
   "outputs": [],
   "source": [
    "def odd_even(a):\n",
    "    if a % 2 == 0 :\n",
    "        return \"짝수\"\n",
    "    else :\n",
    "        print(f'{a}는 홀수입니다')"
   ]
  },
  {
   "cell_type": "code",
   "execution_count": 116,
   "id": "ed021c44-0ac9-4d1d-afe8-cb18cd113871",
   "metadata": {},
   "outputs": [
    {
     "data": {
      "text/plain": [
       "'짝수'"
      ]
     },
     "execution_count": 116,
     "metadata": {},
     "output_type": "execute_result"
    }
   ],
   "source": [
    "odd_even(2)"
   ]
  },
  {
   "cell_type": "code",
   "execution_count": null,
   "id": "2aef6b6a-e119-46e3-b8ad-182c27611e72",
   "metadata": {},
   "outputs": [],
   "source": [
    "age = int(input(\"나이를 입력해 주세요\"))\n",
    "if age <  30 :\n",
    "    print(\"청년\")                        \n",
    "elif age < 60 :                          \n",
    "    print(\"중년\")                        \n",
    "else :\n",
    "    print(\"노년\")       # input 이제 더이상 이렇게 안하고 함수 만들어서 함"
   ]
  },
  {
   "cell_type": "code",
   "execution_count": 113,
   "id": "d0f85a81-1afb-4712-a603-bf50c77aba45",
   "metadata": {},
   "outputs": [],
   "source": [
    "def ages(a):\n",
    "    if a < 30 :\n",
    "        return \"청년\"\n",
    "    elif a < 60 :\n",
    "        return \"중년\"\n",
    "    else :\n",
    "        return \"노년\""
   ]
  },
  {
   "cell_type": "code",
   "execution_count": 114,
   "id": "f40b2c53-b5af-4522-a138-277970d20640",
   "metadata": {},
   "outputs": [
    {
     "data": {
      "text/plain": [
       "'중년'"
      ]
     },
     "execution_count": 114,
     "metadata": {},
     "output_type": "execute_result"
    }
   ],
   "source": [
    "ages(32)"
   ]
  },
  {
   "cell_type": "code",
   "execution_count": 153,
   "id": "de3bd496-51d9-4478-9289-32bf7441bc88",
   "metadata": {},
   "outputs": [
    {
     "name": "stdin",
     "output_type": "stream",
     "text": [
      "이름을 입력하세요 영희\n"
     ]
    },
    {
     "name": "stdout",
     "output_type": "stream",
     "text": [
      "합격\n"
     ]
    }
   ],
   "source": [
    "name = input(\"이름을 입력하세요\")\n",
    "names = [\"철수\", \"영희\", \"길동\", \"전우치\", \"손오공\"]\n",
    "if name in names :\n",
    "    print(\"합격\")\n",
    "else :\n",
    "    print(\"불합격\")"
   ]
  },
  {
   "cell_type": "code",
   "execution_count": 154,
   "id": "cc7d34c6-5d92-4489-bd54-1ed6ae5c6f78",
   "metadata": {},
   "outputs": [],
   "source": [
    "def winner(name):\n",
    "    names = [\"철수\", \"영희\", \"길동\", \"전우치\", \"손오공\"]\n",
    "    if name in names:\n",
    "        return(\"합격\")\n",
    "    else:\n",
    "        return(\"불합격\")"
   ]
  },
  {
   "cell_type": "code",
   "execution_count": 155,
   "id": "7b4f695e-3ddb-4040-91da-9206fab7fb21",
   "metadata": {},
   "outputs": [
    {
     "data": {
      "text/plain": [
       "'합격'"
      ]
     },
     "execution_count": 155,
     "metadata": {},
     "output_type": "execute_result"
    }
   ],
   "source": [
    "winner(\"철수\")"
   ]
  },
  {
   "cell_type": "code",
   "execution_count": null,
   "id": "43c04d71-cfc0-4136-8de8-671d87a654b1",
   "metadata": {},
   "outputs": [],
   "source": [
    "# 1부터 100까지 모든 홀수의 합은?\n",
    "sum = 0\n",
    "for i in range(1, 101, 2) :\n",
    "    sum = sum + i\n",
    "print(sum)"
   ]
  },
  {
   "cell_type": "code",
   "execution_count": 128,
   "id": "b8a3fa58-b9af-462e-96a8-4914e4a48d04",
   "metadata": {},
   "outputs": [],
   "source": [
    "def add1():\n",
    "    sum = 0\n",
    "    for i in range(1, 100, 2) :\n",
    "            sum = sum + i\n",
    "    return(sum)"
   ]
  },
  {
   "cell_type": "code",
   "execution_count": 129,
   "id": "7101b586-9f6e-4ac1-b8f9-34202f2cacef",
   "metadata": {},
   "outputs": [
    {
     "data": {
      "text/plain": [
       "2500"
      ]
     },
     "execution_count": 129,
     "metadata": {},
     "output_type": "execute_result"
    }
   ],
   "source": [
    "add1()"
   ]
  },
  {
   "cell_type": "code",
   "execution_count": null,
   "id": "0477d013-449b-4ece-8d68-4fedc58d9ceb",
   "metadata": {},
   "outputs": [],
   "source": []
  },
  {
   "cell_type": "code",
   "execution_count": 146,
   "id": "5987c648-cf62-4939-a5b3-33953433e887",
   "metadata": {},
   "outputs": [],
   "source": [
    "def add(first):\n",
    "    sum = 0\n",
    "    for i in range(number+1):\n",
    "        sum = sum + i\n",
    "    print(sum)"
   ]
  },
  {
   "cell_type": "code",
   "execution_count": 157,
   "id": "e32bbba0-b951-486f-925d-d4dfa9e83f40",
   "metadata": {
    "tags": []
   },
   "outputs": [
    {
     "name": "stdout",
     "output_type": "stream",
     "text": [
      "101\n"
     ]
    }
   ],
   "source": [
    "add(0, 100)                               ##??????????????????"
   ]
  },
  {
   "cell_type": "code",
   "execution_count": 151,
   "id": "f4cf41d6-2dd2-4800-8f02-3313f4d99899",
   "metadata": {},
   "outputs": [
    {
     "name": "stdout",
     "output_type": "stream",
     "text": [
      "10\n"
     ]
    }
   ],
   "source": [
    "def add(number1, number2):\n",
    "    sum = 0\n",
    "    for i in range(number1, number2 +1):\n",
    "        sum = sum + 1\n",
    "    print(sum)\n",
    "add(1, 10)"
   ]
  },
  {
   "cell_type": "code",
   "execution_count": 159,
   "id": "7e866080-98b6-4977-9f5e-a8485c3e7d9c",
   "metadata": {},
   "outputs": [
    {
     "name": "stdout",
     "output_type": "stream",
     "text": [
      "0 1 1 2 3 5 8 13 21 34 55 89 144 233 377 610 987 \n"
     ]
    }
   ],
   "source": [
    "def fib(n):\n",
    "    a, b = 0, 1                      # 피보나치 수열!!\n",
    "    while a < n:\n",
    "        print(a, end=' ')\n",
    "        a, b = b, a+b\n",
    "    print()\n",
    "fib(1000)"
   ]
  },
  {
   "cell_type": "code",
   "execution_count": 158,
   "id": "c56f14a8-6619-4f90-9ca6-12737b169f46",
   "metadata": {},
   "outputs": [
    {
     "name": "stdout",
     "output_type": "stream",
     "text": [
      "0 1 1 2 3 5 8 13 21 34 55 89 144 233 377 610 987 \n"
     ]
    }
   ],
   "source": [
    "def fib(n):\n",
    "    a, b = 0, 1\n",
    "    while a < n:\n",
    "        print(a, end=' ')\n",
    "        a, b = b, a+b\n",
    "    print()\n",
    "fib(1000)"
   ]
  },
  {
   "cell_type": "markdown",
   "id": "6e0203a4-8557-4486-a60e-33b64c1f3e48",
   "metadata": {},
   "source": [
    "## 재귀함수"
   ]
  },
  {
   "cell_type": "code",
   "execution_count": 160,
   "id": "6bcd6f7b-f479-4a40-a895-f4a8a84c9c72",
   "metadata": {
    "tags": []
   },
   "outputs": [
    {
     "name": "stdout",
     "output_type": "stream",
     "text": [
      "Hello\n",
      "Hello\n",
      "Hello\n",
      "Hello\n",
      "Hello\n"
     ]
    },
    {
     "ename": "KeyboardInterrupt",
     "evalue": "",
     "output_type": "error",
     "traceback": [
      "\u001b[1;31m---------------------------------------------------------------------------\u001b[0m",
      "\u001b[1;31mKeyboardInterrupt\u001b[0m                         Traceback (most recent call last)",
      "Input \u001b[1;32mIn [160]\u001b[0m, in \u001b[0;36m<cell line: 6>\u001b[1;34m()\u001b[0m\n\u001b[0;32m      4\u001b[0m     time\u001b[38;5;241m.\u001b[39msleep(\u001b[38;5;241m1\u001b[39m)\n\u001b[0;32m      5\u001b[0m     Hello()\n\u001b[1;32m----> 6\u001b[0m \u001b[43mHello\u001b[49m\u001b[43m(\u001b[49m\u001b[43m)\u001b[49m\n",
      "Input \u001b[1;32mIn [160]\u001b[0m, in \u001b[0;36mHello\u001b[1;34m()\u001b[0m\n\u001b[0;32m      3\u001b[0m \u001b[38;5;28mprint\u001b[39m(\u001b[38;5;124m\"\u001b[39m\u001b[38;5;124mHello\u001b[39m\u001b[38;5;124m\"\u001b[39m)\n\u001b[0;32m      4\u001b[0m time\u001b[38;5;241m.\u001b[39msleep(\u001b[38;5;241m1\u001b[39m)\n\u001b[1;32m----> 5\u001b[0m \u001b[43mHello\u001b[49m\u001b[43m(\u001b[49m\u001b[43m)\u001b[49m\n",
      "Input \u001b[1;32mIn [160]\u001b[0m, in \u001b[0;36mHello\u001b[1;34m()\u001b[0m\n\u001b[0;32m      3\u001b[0m \u001b[38;5;28mprint\u001b[39m(\u001b[38;5;124m\"\u001b[39m\u001b[38;5;124mHello\u001b[39m\u001b[38;5;124m\"\u001b[39m)\n\u001b[0;32m      4\u001b[0m time\u001b[38;5;241m.\u001b[39msleep(\u001b[38;5;241m1\u001b[39m)\n\u001b[1;32m----> 5\u001b[0m \u001b[43mHello\u001b[49m\u001b[43m(\u001b[49m\u001b[43m)\u001b[49m\n",
      "    \u001b[1;31m[... skipping similar frames: Hello at line 5 (1 times)]\u001b[0m\n",
      "Input \u001b[1;32mIn [160]\u001b[0m, in \u001b[0;36mHello\u001b[1;34m()\u001b[0m\n\u001b[0;32m      3\u001b[0m \u001b[38;5;28mprint\u001b[39m(\u001b[38;5;124m\"\u001b[39m\u001b[38;5;124mHello\u001b[39m\u001b[38;5;124m\"\u001b[39m)\n\u001b[0;32m      4\u001b[0m time\u001b[38;5;241m.\u001b[39msleep(\u001b[38;5;241m1\u001b[39m)\n\u001b[1;32m----> 5\u001b[0m \u001b[43mHello\u001b[49m\u001b[43m(\u001b[49m\u001b[43m)\u001b[49m\n",
      "Input \u001b[1;32mIn [160]\u001b[0m, in \u001b[0;36mHello\u001b[1;34m()\u001b[0m\n\u001b[0;32m      2\u001b[0m \u001b[38;5;28;01mdef\u001b[39;00m \u001b[38;5;21mHello\u001b[39m():\n\u001b[0;32m      3\u001b[0m     \u001b[38;5;28mprint\u001b[39m(\u001b[38;5;124m\"\u001b[39m\u001b[38;5;124mHello\u001b[39m\u001b[38;5;124m\"\u001b[39m)\n\u001b[1;32m----> 4\u001b[0m     \u001b[43mtime\u001b[49m\u001b[38;5;241;43m.\u001b[39;49m\u001b[43msleep\u001b[49m\u001b[43m(\u001b[49m\u001b[38;5;241;43m1\u001b[39;49m\u001b[43m)\u001b[49m\n\u001b[0;32m      5\u001b[0m     Hello()\n",
      "\u001b[1;31mKeyboardInterrupt\u001b[0m: "
     ]
    }
   ],
   "source": [
    "import time\n",
    "def Hello():\n",
    "    print(\"Hello\")\n",
    "    time.sleep(1)\n",
    "    Hello()\n",
    "Hello()"
   ]
  },
  {
   "cell_type": "code",
   "execution_count": 161,
   "id": "b6a22677-3d42-41d0-b979-bc279c546789",
   "metadata": {},
   "outputs": [
    {
     "name": "stdout",
     "output_type": "stream",
     "text": [
      "Hello\n",
      "Hello\n",
      "Hello\n",
      "Hello\n",
      "Hello\n"
     ]
    }
   ],
   "source": [
    "def Hello(count):\n",
    "    if count == 0:\n",
    "        return \n",
    "    print(\"Hello\")\n",
    "    count -= 1\n",
    "    Hello(count)\n",
    "Hello(5)"
   ]
  },
  {
   "cell_type": "code",
   "execution_count": 163,
   "id": "8055ec38-0fb5-4824-9b57-b59726615854",
   "metadata": {},
   "outputs": [],
   "source": [
    "def f(n):                   #f(n) = n * f(n-1) 팩토리얼\n",
    "    if n == 1 :\n",
    "        return 1\n",
    "    return n * f(n-1)"
   ]
  },
  {
   "cell_type": "code",
   "execution_count": 164,
   "id": "3e7fdec6-305f-42ab-bac9-a55d542b2f8d",
   "metadata": {},
   "outputs": [
    {
     "data": {
      "text/plain": [
       "120"
      ]
     },
     "execution_count": 164,
     "metadata": {},
     "output_type": "execute_result"
    }
   ],
   "source": [
    "f(5)"
   ]
  },
  {
   "cell_type": "code",
   "execution_count": null,
   "id": "ce110564-3d42-4860-98f6-937d5367a209",
   "metadata": {},
   "outputs": [],
   "source": [
    "# 피보나치 수열     f(n-2) + f(n-1) = f(n) "
   ]
  },
  {
   "cell_type": "code",
   "execution_count": 2,
   "id": "51b7bc91-2483-4e6e-876f-de4d5d27b9ca",
   "metadata": {},
   "outputs": [],
   "source": [
    "def fib(n):\n",
    "    if n == 1 or n == 2:\n",
    "        return 1\n",
    "    return fib(n-2) + fib(n-1)"
   ]
  },
  {
   "cell_type": "code",
   "execution_count": 3,
   "id": "98effe0d-92b0-4644-b7ad-4a5cd7f40963",
   "metadata": {},
   "outputs": [
    {
     "data": {
      "text/plain": [
       "55"
      ]
     },
     "execution_count": 3,
     "metadata": {},
     "output_type": "execute_result"
    }
   ],
   "source": [
    "fib(10)"
   ]
  },
  {
   "cell_type": "code",
   "execution_count": 10,
   "id": "0bf52b33-161c-45cc-aa9b-dc32af269bbb",
   "metadata": {},
   "outputs": [
    {
     "name": "stdout",
     "output_type": "stream",
     "text": [
      "1   1   2   3   5   8   13   21   34   55   "
     ]
    }
   ],
   "source": [
    "for i in range(1, 10+1) :\n",
    "    print(fib(i), end = \"   \")          # 피보나치 수열을 풀어서 for문 이용하여 쓰기"
   ]
  },
  {
   "cell_type": "code",
   "execution_count": 18,
   "id": "e8b78650-6f1d-450e-a22a-a0d6d4bf875a",
   "metadata": {},
   "outputs": [],
   "source": [
    "def fib(n):\n",
    "    if n == 1 :\n",
    "        return 0                      # 0부터 하는거..\n",
    "    if n == 2 :                       # 리턴이 여러개 있는건 식이 다르니까 각각 시행\n",
    "        return 1\n",
    "    return fib(n-2) + fib(n-1)"
   ]
  },
  {
   "cell_type": "code",
   "execution_count": 19,
   "id": "1ca83ed5-830e-42f6-bf55-a7f9e2115821",
   "metadata": {},
   "outputs": [
    {
     "data": {
      "text/plain": [
       "34"
      ]
     },
     "execution_count": 19,
     "metadata": {},
     "output_type": "execute_result"
    }
   ],
   "source": [
    "fib(10)"
   ]
  },
  {
   "cell_type": "code",
   "execution_count": 20,
   "id": "d18d5e8e-b972-4afa-9985-f636a059f714",
   "metadata": {},
   "outputs": [
    {
     "name": "stdout",
     "output_type": "stream",
     "text": [
      "0   1   1   2   3   5   8   13   21   34   "
     ]
    }
   ],
   "source": [
    "for i in range(1, 10+1) :\n",
    "    print(fib(i), end = \"   \") "
   ]
  },
  {
   "cell_type": "markdown",
   "id": "864cca08-ac8f-4b31-8dfb-f8ab85b74cea",
   "metadata": {},
   "source": [
    "# 파일 입출력 (File IO)"
   ]
  },
  {
   "cell_type": "markdown",
   "id": "4670b4c0-1439-437a-9f7e-63c3eb1639b0",
   "metadata": {},
   "source": [
    "## 파일 만들기"
   ]
  },
  {
   "cell_type": "code",
   "execution_count": null,
   "id": "79293fb6-5ffc-403c-851e-3062f5d70a8e",
   "metadata": {},
   "outputs": [],
   "source": [
    "# open 함수는 모가 있어야 열텐데? 없으면 만들어줌\n",
    "# \"w\" 쓰기모드  / \"r\" 읽기모드  /   \"a\" 추가모드\n",
    "# 요거는 기본적으로 글자만 쓸 수 있도록 되어있음\n",
    "# binary 파일 (텍스트가 아닌 파일) - 영상, 이미지, 사운드 등\n",
    "# binary 일 경우 mod = '2wb'"
   ]
  },
  {
   "cell_type": "code",
   "execution_count": 24,
   "id": "f53f57b6-5115-42e8-90b5-3edc806d8f71",
   "metadata": {},
   "outputs": [],
   "source": [
    "f = open(\"test.txt\", mode = \"w\")   # 모드 생략 가능 \n",
    "f.write(\"안녕하세요\")               # 파일을 다루고자 하는 행위는 하나의 객체로 봄\n",
    "f.close()                          # 끝났다고 꼭 알려줘야함"
   ]
  },
  {
   "cell_type": "code",
   "execution_count": null,
   "id": "0f4edee0-0f05-41d2-a0c0-de075c56f0f1",
   "metadata": {},
   "outputs": [],
   "source": [
    "# 디폴트 디렉토리에 저장되었음 C:/사용자/admin 에 메모장으루 저장됨"
   ]
  },
  {
   "cell_type": "code",
   "execution_count": 28,
   "id": "e162e904-5a3c-411e-8a51-6b71405d62e3",
   "metadata": {},
   "outputs": [],
   "source": [
    "f = open(\"test.txt\", \"w\")\n",
    "f.write(\"안녕하세요\")\n",
    "f.write(\"Hello\")\n",
    "f.close()                           # 요로케하면 안녕하세요Hello 이르케 출력됨 붙어서"
   ]
  },
  {
   "cell_type": "code",
   "execution_count": 29,
   "id": "2dad48ca-085f-44d9-a02a-cde6af3f781d",
   "metadata": {},
   "outputs": [],
   "source": [
    "f = open(\"test.txt\", \"w\")\n",
    "f.write(\"안녕하세요.  \\n\")\n",
    "f.write(\"Hello\")\n",
    "f.close()                           # \\n 으로 줄바꿈 해줌"
   ]
  },
  {
   "cell_type": "code",
   "execution_count": 44,
   "id": "24cdb4c3-7893-43f3-a640-5b79f5a5cae0",
   "metadata": {},
   "outputs": [],
   "source": [
    "f = open(\"test.txt\", \"w\")\n",
    "f.write(\"안녕하세요.  \\n\")\n",
    "f.write(\"Hello\")\n",
    "f.close()                           # write 모드는 덮어 씀"
   ]
  },
  {
   "cell_type": "code",
   "execution_count": 46,
   "id": "302d447e-91e4-4dc4-836d-7cce4434f997",
   "metadata": {},
   "outputs": [],
   "source": [
    "f = open(\"test.txt\", \"w\")\n",
    "for i in range(10) :\n",
    "    f.write(str(i) + \"\\n\")\n",
    "f. close()"
   ]
  },
  {
   "cell_type": "code",
   "execution_count": 49,
   "id": "55480a12-6b24-477b-9104-25c6b405e7de",
   "metadata": {},
   "outputs": [],
   "source": [
    "f = open(\"test.txt\", \"a\")        # << a (append) 앞에꺼 날리지 않고 추가만 해줌\n",
    "for i in range(10,14) :\n",
    "    f.write(str(i) + \"\\n\")\n",
    "f. close()"
   ]
  },
  {
   "cell_type": "code",
   "execution_count": 51,
   "id": "8a3db5e1-866e-40a9-a98d-491b627ff4d4",
   "metadata": {},
   "outputs": [],
   "source": [
    "# 아주 중요!!\n",
    "# 실제로 사용할 때 밑에 처럼. 주로 이렇게 씀          with는 예약어\n",
    "\n",
    "with open(\"test.txt\", \"w\") as f :\n",
    "    f.write(\"안녕하세요\") \n",
    "    \n",
    "#f.close() << 안써줌  << 이거 안쓰기 위해 with 사용"
   ]
  },
  {
   "cell_type": "code",
   "execution_count": null,
   "id": "93aada37-54aa-42fe-b258-e4e38c10b2ba",
   "metadata": {},
   "outputs": [],
   "source": [
    "# 파일 이름을 myfile.txt  / \"Life is too short\""
   ]
  },
  {
   "cell_type": "code",
   "execution_count": 56,
   "id": "2e1bfc87-84c6-4580-ba36-91735f208ce7",
   "metadata": {},
   "outputs": [],
   "source": [
    "with open(\"myfile.txt\", 'w') as f :\n",
    "    f.write(\"Life is too short  \\n\")\n",
    "    f.write(\"We need Python\")"
   ]
  },
  {
   "cell_type": "markdown",
   "id": "1bde54fe-4e6e-4e02-a35c-c256fb9957ea",
   "metadata": {},
   "source": [
    "## 파일 읽기"
   ]
  },
  {
   "cell_type": "code",
   "execution_count": null,
   "id": "c874edae-20cf-4585-9056-8eb15cc9caa1",
   "metadata": {},
   "outputs": [],
   "source": [
    "# 굳이 python에서 안열어도 됨 판다스에서 열면 아주 잘 열림  read.csv()"
   ]
  },
  {
   "cell_type": "code",
   "execution_count": 58,
   "id": "fba62390-f1d4-435c-b343-d6c37ba1d54e",
   "metadata": {},
   "outputs": [
    {
     "name": "stdout",
     "output_type": "stream",
     "text": [
      "안녕하세요\n"
     ]
    }
   ],
   "source": [
    "f = open(\"test.txt\", \"r\")\n",
    "print(f.readline())          # 라인 한줄만 띄워줌"
   ]
  },
  {
   "cell_type": "code",
   "execution_count": 59,
   "id": "ad418ac4-5640-4ef6-99eb-19660db81ddd",
   "metadata": {},
   "outputs": [],
   "source": [
    "f = open(\"test.txt\", \"w\")\n",
    "for i in range(10) :\n",
    "    f.write(\"안녕하세요. \\n\")\n",
    "f. close()"
   ]
  },
  {
   "cell_type": "code",
   "execution_count": 61,
   "id": "3726bc4b-7857-4444-9d6f-d5c3449657e6",
   "metadata": {},
   "outputs": [
    {
     "name": "stdout",
     "output_type": "stream",
     "text": [
      "안녕하세요. \n",
      "\n"
     ]
    }
   ],
   "source": [
    "f = open(\"test.txt\", \"r\")\n",
    "line = f.readline()\n",
    "print(line)                  #얘도 라인 한줄 첫번째 줄만 띄워줌"
   ]
  },
  {
   "cell_type": "code",
   "execution_count": 63,
   "id": "e1dff9dd-2d0a-436b-be3e-a4a8f2380c7d",
   "metadata": {},
   "outputs": [
    {
     "name": "stdout",
     "output_type": "stream",
     "text": [
      "['안녕하세요. \\n', '안녕하세요. \\n', '안녕하세요. \\n', '안녕하세요. \\n', '안녕하세요. \\n', '안녕하세요. \\n', '안녕하세요. \\n', '안녕하세요. \\n', '안녕하세요. \\n', '안녕하세요. \\n']\n"
     ]
    }
   ],
   "source": [
    "f = open(\"test.txt\", \"r\")\n",
    "lines = f.readlines()\n",
    "print(lines)                 #여러줄 나왔다"
   ]
  },
  {
   "cell_type": "code",
   "execution_count": 66,
   "id": "a953da40-adc8-429c-8090-22d8c422563a",
   "metadata": {},
   "outputs": [
    {
     "name": "stdout",
     "output_type": "stream",
     "text": [
      "안녕하세요. \n",
      "안녕하세요. \n",
      "안녕하세요. \n",
      "안녕하세요. \n",
      "안녕하세요. \n",
      "안녕하세요. \n",
      "안녕하세요. \n",
      "안녕하세요. \n",
      "안녕하세요. \n",
      "안녕하세요. \n"
     ]
    }
   ],
   "source": [
    "f = open(\"test.txt\", \"r\")\n",
    "lines = f.readlines()\n",
    "for line in lines:\n",
    "    print(line, end=\"\")"
   ]
  },
  {
   "cell_type": "code",
   "execution_count": 68,
   "id": "768c18e4-293e-415b-ad48-a5c0bad97657",
   "metadata": {},
   "outputs": [
    {
     "name": "stdout",
     "output_type": "stream",
     "text": [
      "안녕하세요. \n",
      "안녕하세요. \n",
      "안녕하세요. \n",
      "안녕하세요. \n",
      "안녕하세요. \n",
      "안녕하세요. \n",
      "안녕하세요. \n",
      "안녕하세요. \n",
      "안녕하세요. \n",
      "안녕하세요. \n",
      "\n"
     ]
    }
   ],
   "source": [
    "f = open(\"test.txt\", \"r\")\n",
    "data = f.read()\n",
    "print(data)                  #이게 불러오기 가장 간단함"
   ]
  },
  {
   "cell_type": "code",
   "execution_count": 70,
   "id": "b3ae2198-5e69-4d8b-b2e4-f5799b80d43d",
   "metadata": {},
   "outputs": [
    {
     "name": "stdout",
     "output_type": "stream",
     "text": [
      "안녕하세요.\n",
      "안녕하세요.\n",
      "안녕하세요.\n",
      "안녕하세요.\n",
      "안녕하세요.\n",
      "안녕하세요.\n",
      "안녕하세요.\n",
      "안녕하세요.\n",
      "안녕하세요.\n",
      "안녕하세요.\n"
     ]
    }
   ],
   "source": [
    "f = open(\"test.txt\", \"r\")\n",
    "lines = f.readlines()\n",
    "for line in lines:\n",
    "    line = line.strip()      #strip()은 \\n도 지워줌 공백 지워짐!\n",
    "    print(line)"
   ]
  },
  {
   "cell_type": "markdown",
   "id": "ac8ef148-3f5a-454c-9da2-bd724f7857c3",
   "metadata": {},
   "source": [
    "# 클래스"
   ]
  },
  {
   "cell_type": "markdown",
   "id": "58aa8bde-bbfb-4c5d-ac23-29934f4d82a8",
   "metadata": {},
   "source": [
    "## 클래스가 필요한 이유"
   ]
  },
  {
   "cell_type": "code",
   "execution_count": 2,
   "id": "5d9a7a36-5ceb-4dad-a208-ee2dae66359e",
   "metadata": {},
   "outputs": [
    {
     "data": {
      "text/plain": [
       "3"
      ]
     },
     "execution_count": 2,
     "metadata": {},
     "output_type": "execute_result"
    }
   ],
   "source": [
    "result = 0\n",
    "def add(num) :\n",
    "    global result         # 전역 변수 함수 밖에 있는 값까지 포함해주는 global\n",
    "    result += num\n",
    "    return result\n",
    "add(3)"
   ]
  },
  {
   "cell_type": "code",
   "execution_count": 3,
   "id": "59b0a616-68fd-4af5-a59d-2a73600d2f07",
   "metadata": {},
   "outputs": [
    {
     "data": {
      "text/plain": [
       "7"
      ]
     },
     "execution_count": 3,
     "metadata": {},
     "output_type": "execute_result"
    }
   ],
   "source": [
    "add(4)"
   ]
  },
  {
   "cell_type": "code",
   "execution_count": 4,
   "id": "32b6b9e0-4843-4b87-a72e-4d8cb4bb9773",
   "metadata": {},
   "outputs": [
    {
     "data": {
      "text/plain": [
       "13"
      ]
     },
     "execution_count": 4,
     "metadata": {},
     "output_type": "execute_result"
    }
   ],
   "source": [
    "result = 0\n",
    "def add(num) :\n",
    "    global result\n",
    "    result += num\n",
    "    return result\n",
    "add(3)                                # 계산기가 2대 있을 경우\n",
    "\n",
    "result2 = 0\n",
    "def add2(num) :\n",
    "    global result2\n",
    "    result2 += num\n",
    "    return result2\n",
    "add2(13)"
   ]
  },
  {
   "cell_type": "code",
   "execution_count": 5,
   "id": "904ad8ab-90bd-4fcb-a345-ced64254d52f",
   "metadata": {},
   "outputs": [
    {
     "data": {
      "text/plain": [
       "23"
      ]
     },
     "execution_count": 5,
     "metadata": {},
     "output_type": "execute_result"
    }
   ],
   "source": [
    "add2(10)"
   ]
  },
  {
   "cell_type": "code",
   "execution_count": 7,
   "id": "3927b8bb-b8f1-484b-86cf-2096eb948e1d",
   "metadata": {},
   "outputs": [
    {
     "data": {
      "text/plain": [
       "23"
      ]
     },
     "execution_count": 7,
     "metadata": {},
     "output_type": "execute_result"
    }
   ],
   "source": [
    "result = 0\n",
    "def add(num) :\n",
    "    global result\n",
    "    result += num\n",
    "    return result\n",
    "add(3)                                # 계산기가 3대 있을 경우\n",
    "\n",
    "result2 = 0\n",
    "def add2(num) :\n",
    "    global result2\n",
    "    result2 += num\n",
    "    return result2\n",
    "add2(13)\n",
    "\n",
    "result3 = 0\n",
    "def add3(num) :\n",
    "    global result3\n",
    "    result3 += num\n",
    "    return result3\n",
    "add3(23)"
   ]
  },
  {
   "cell_type": "code",
   "execution_count": null,
   "id": "825ff269-1ce6-4943-a398-292a2a1981ea",
   "metadata": {},
   "outputs": [],
   "source": [
    "# 계산기가 10개로 점점 더 많이 필요해진다면?"
   ]
  },
  {
   "cell_type": "code",
   "execution_count": 9,
   "id": "da32930b-28f0-4804-aa83-ef749508409b",
   "metadata": {},
   "outputs": [
    {
     "data": {
      "text/plain": [
       "3"
      ]
     },
     "execution_count": 9,
     "metadata": {},
     "output_type": "execute_result"
    }
   ],
   "source": [
    "class Calculator :     # 클래스는 항상 대문자로 시작함 약속임 # double underscore = dunder\n",
    "    def __init__(self) :  # __ 언더스코어 2개는 특별한 것 init (초기화) # self 무조건 쓰기\n",
    "        self.result = 0\n",
    "        \n",
    "    def add(self, num) :  # self는 무조건 쓰는 것 값은 한개만 나옴\n",
    "        self.result += num\n",
    "        return self.result   # 무조건 이렇게 씀\n",
    "    \n",
    "cal = Calculator()                 # << 이렇게 불러와주는건 객체로 실물로 만들어진 것임\n",
    "cal.add(3)                         # 클래스는 설계도 << 요건 실물로 만든거"
   ]
  },
  {
   "cell_type": "code",
   "execution_count": 10,
   "id": "dd6a63a1-c76c-47bc-ad51-4fe5cf1fa0b8",
   "metadata": {},
   "outputs": [
    {
     "data": {
      "text/plain": [
       "8"
      ]
     },
     "execution_count": 10,
     "metadata": {},
     "output_type": "execute_result"
    }
   ],
   "source": [
    "cal.add(5)"
   ]
  },
  {
   "cell_type": "code",
   "execution_count": 13,
   "id": "bbc6c457-523d-4116-8f54-c4a19d47ac60",
   "metadata": {},
   "outputs": [],
   "source": [
    "cal2 = Calculator()           # 계산기 요로케 순식간에 5개 만들 수 있음\n",
    "cal3 = Calculator()\n",
    "cal4 = Calculator()\n",
    "cal5 = Calculator()"
   ]
  },
  {
   "cell_type": "code",
   "execution_count": 14,
   "id": "5bae338f-b3b2-4633-b0ca-5d40b5adcbde",
   "metadata": {},
   "outputs": [
    {
     "data": {
      "text/plain": [
       "30"
      ]
     },
     "execution_count": 14,
     "metadata": {},
     "output_type": "execute_result"
    }
   ],
   "source": [
    "cal2.add(10)\n",
    "cal2.add(20)"
   ]
  },
  {
   "cell_type": "code",
   "execution_count": 15,
   "id": "3e6abeda-fd0b-4c6f-b289-6e44a6c8d6b0",
   "metadata": {},
   "outputs": [
    {
     "data": {
      "text/plain": [
       "300"
      ]
     },
     "execution_count": 15,
     "metadata": {},
     "output_type": "execute_result"
    }
   ],
   "source": [
    "cal3.add(100)\n",
    "cal3.add(200)"
   ]
  },
  {
   "cell_type": "markdown",
   "id": "08daeb5c-9202-4a2e-a04b-f55158084910",
   "metadata": {},
   "source": [
    "### class Calculator :     \n",
    "    def __init__(self) : \n",
    "        self.result = 0\n",
    "        \n",
    "    def add(self, num) : \n",
    "        self.result += num\n",
    "        return self.result\n",
    "    \n",
    "    def subtract(self, num) :\n",
    "        self.result -= num\n",
    "        return self.result\n",
    "    \n",
    "cal3 = Calculator()"
   ]
  },
  {
   "cell_type": "code",
   "execution_count": 26,
   "id": "794a473c-77e7-42c2-a5a0-4635b9eb05b2",
   "metadata": {},
   "outputs": [
    {
     "data": {
      "text/plain": [
       "250"
      ]
     },
     "execution_count": 26,
     "metadata": {},
     "output_type": "execute_result"
    }
   ],
   "source": [
    "cal3.add(100)\n",
    "cal3.add(200)\n",
    "cal3.subtract(50)"
   ]
  },
  {
   "cell_type": "code",
   "execution_count": null,
   "id": "3cf7b442-1e5b-4e88-bace-ceb287b23b83",
   "metadata": {},
   "outputs": [],
   "source": [
    "# 객체와 인스턴스의 차이\n",
    "# a = Cookie()  a는 객체이다. a 객체는 Cookie의 인스턴스이다.\n",
    "# 어떤 클래스의 객체인지 설명할 때 인스턴스 표현 사용"
   ]
  },
  {
   "cell_type": "markdown",
   "id": "fce071c2-bfc6-43fd-b0a3-08230e5f6831",
   "metadata": {},
   "source": [
    "### 사칙연산 클래스 만들기"
   ]
  },
  {
   "cell_type": "code",
   "execution_count": 32,
   "id": "428aba07-816d-486c-803f-003ac5279222",
   "metadata": {},
   "outputs": [],
   "source": [
    "class FourCal :\n",
    "    def setdata(self, a, b) :     # self 꼭 써줘야함(파이썬) 변수 아님 a, b 두개만 나옴\n",
    "        self.first = a            # 만들어진 객체 cal, cal1을 의미하는 self cal 나 자신\n",
    "        self.second = b\n",
    "        \n",
    "    def add(self) :\n",
    "        result = self.first + self.second\n",
    "        return result"
   ]
  },
  {
   "cell_type": "code",
   "execution_count": 29,
   "id": "b7e936aa-cb0f-4f66-be52-8a599be79998",
   "metadata": {},
   "outputs": [],
   "source": [
    "cal = FourCal()"
   ]
  },
  {
   "cell_type": "code",
   "execution_count": 30,
   "id": "ad05d734-d540-4ec4-8752-eed711cf1f26",
   "metadata": {},
   "outputs": [],
   "source": [
    "cal.setdata(3,4)"
   ]
  },
  {
   "cell_type": "code",
   "execution_count": 31,
   "id": "e5aa0912-1f75-47b0-8ba1-32ec5a8128d5",
   "metadata": {},
   "outputs": [
    {
     "data": {
      "text/plain": [
       "3"
      ]
     },
     "execution_count": 31,
     "metadata": {},
     "output_type": "execute_result"
    }
   ],
   "source": [
    "cal.first"
   ]
  },
  {
   "cell_type": "code",
   "execution_count": 33,
   "id": "c7e12863-dbcc-497d-abb1-d81467e56a99",
   "metadata": {},
   "outputs": [
    {
     "data": {
      "text/plain": [
       "4"
      ]
     },
     "execution_count": 33,
     "metadata": {},
     "output_type": "execute_result"
    }
   ],
   "source": [
    "cal.second"
   ]
  },
  {
   "cell_type": "code",
   "execution_count": 34,
   "id": "80326c46-9ae7-41ae-895b-edf51118fdf1",
   "metadata": {},
   "outputs": [],
   "source": [
    "cal1 = FourCal()"
   ]
  },
  {
   "cell_type": "code",
   "execution_count": 39,
   "id": "0bedf844-102a-4270-a341-4ea2ec28e0a2",
   "metadata": {},
   "outputs": [],
   "source": [
    "cal1.setdata(30, 40)"
   ]
  },
  {
   "cell_type": "code",
   "execution_count": 40,
   "id": "61100840-83d1-466d-92e3-85ae034b766b",
   "metadata": {},
   "outputs": [
    {
     "data": {
      "text/plain": [
       "30"
      ]
     },
     "execution_count": 40,
     "metadata": {},
     "output_type": "execute_result"
    }
   ],
   "source": [
    "cal1.first"
   ]
  },
  {
   "cell_type": "code",
   "execution_count": 42,
   "id": "35f03de6-8ebd-4b51-8b5f-8a53a54ec2dd",
   "metadata": {},
   "outputs": [
    {
     "data": {
      "text/plain": [
       "40"
      ]
     },
     "execution_count": 42,
     "metadata": {},
     "output_type": "execute_result"
    }
   ],
   "source": [
    "cal1.second"
   ]
  },
  {
   "cell_type": "code",
   "execution_count": 43,
   "id": "da61243c-8c93-4cc5-a711-1619ad5bdeeb",
   "metadata": {},
   "outputs": [
    {
     "data": {
      "text/plain": [
       "7"
      ]
     },
     "execution_count": 43,
     "metadata": {},
     "output_type": "execute_result"
    }
   ],
   "source": [
    "cal.add()"
   ]
  },
  {
   "cell_type": "code",
   "execution_count": 44,
   "id": "3fa68ebc-f263-4777-8ddc-7966c097459e",
   "metadata": {},
   "outputs": [
    {
     "data": {
      "text/plain": [
       "70"
      ]
     },
     "execution_count": 44,
     "metadata": {},
     "output_type": "execute_result"
    }
   ],
   "source": [
    "cal1.add()"
   ]
  },
  {
   "cell_type": "code",
   "execution_count": 67,
   "id": "769c60e3-c4ca-41a9-80af-790053b8d073",
   "metadata": {},
   "outputs": [],
   "source": [
    "class FourCal :\n",
    "    def setdata(self, a, b) :\n",
    "        self.first = a \n",
    "        self.second = b\n",
    "        \n",
    "    def add(self) :\n",
    "        result = self.first + self.second\n",
    "        return result\n",
    "    \n",
    "    def subtract(self) :\n",
    "        result = self.first - self.second\n",
    "        return result\n",
    "    \n",
    "    def multiply(self) :\n",
    "        result = self.first * self.second\n",
    "        return result\n",
    "    \n",
    "    def divide(self) :\n",
    "        result = self.first / self.second\n",
    "        return result"
   ]
  },
  {
   "cell_type": "code",
   "execution_count": null,
   "id": "e39a3ecc-df75-4868-8450-7e6dab89f930",
   "metadata": {},
   "outputs": [],
   "source": [
    "# cal 객체를 만들고 초기값 10, 20을 주고 곱하기와 나누기의 값을 각각 알아보기"
   ]
  },
  {
   "cell_type": "code",
   "execution_count": 68,
   "id": "af511824-529c-42fe-a187-699fcac72b69",
   "metadata": {},
   "outputs": [],
   "source": [
    "cal = FourCal()\n",
    "cal.setdata(10, 20)"
   ]
  },
  {
   "cell_type": "code",
   "execution_count": 69,
   "id": "391ea456-abfd-45b8-ab6d-6c99bef9a612",
   "metadata": {},
   "outputs": [
    {
     "data": {
      "text/plain": [
       "200"
      ]
     },
     "execution_count": 69,
     "metadata": {},
     "output_type": "execute_result"
    }
   ],
   "source": [
    "cal.multiply()"
   ]
  },
  {
   "cell_type": "code",
   "execution_count": 70,
   "id": "27c70a2a-608c-45fd-8b35-ee9a62939f7b",
   "metadata": {},
   "outputs": [
    {
     "data": {
      "text/plain": [
       "0.5"
      ]
     },
     "execution_count": 70,
     "metadata": {},
     "output_type": "execute_result"
    }
   ],
   "source": [
    "cal.divide()"
   ]
  },
  {
   "cell_type": "code",
   "execution_count": 71,
   "id": "9a4f74fd-c715-4870-82bc-86f7466e9145",
   "metadata": {},
   "outputs": [],
   "source": [
    "del cal"
   ]
  },
  {
   "cell_type": "code",
   "execution_count": 72,
   "id": "180fc1d0-3a72-41a4-9242-5376fc1224da",
   "metadata": {},
   "outputs": [],
   "source": [
    "cal = FourCal()"
   ]
  },
  {
   "cell_type": "code",
   "execution_count": 73,
   "id": "a7a727a2-94b5-4f6c-ae81-1e4d1ba969b4",
   "metadata": {},
   "outputs": [
    {
     "ename": "AttributeError",
     "evalue": "'FourCal' object has no attribute 'first'",
     "output_type": "error",
     "traceback": [
      "\u001b[1;31m---------------------------------------------------------------------------\u001b[0m",
      "\u001b[1;31mAttributeError\u001b[0m                            Traceback (most recent call last)",
      "Input \u001b[1;32mIn [73]\u001b[0m, in \u001b[0;36m<cell line: 1>\u001b[1;34m()\u001b[0m\n\u001b[1;32m----> 1\u001b[0m \u001b[43mcal\u001b[49m\u001b[38;5;241;43m.\u001b[39;49m\u001b[43madd\u001b[49m\u001b[43m(\u001b[49m\u001b[43m)\u001b[49m\n",
      "Input \u001b[1;32mIn [67]\u001b[0m, in \u001b[0;36mFourCal.add\u001b[1;34m(self)\u001b[0m\n\u001b[0;32m      6\u001b[0m \u001b[38;5;28;01mdef\u001b[39;00m \u001b[38;5;21madd\u001b[39m(\u001b[38;5;28mself\u001b[39m) :\n\u001b[1;32m----> 7\u001b[0m     result \u001b[38;5;241m=\u001b[39m \u001b[38;5;28;43mself\u001b[39;49m\u001b[38;5;241;43m.\u001b[39;49m\u001b[43mfirst\u001b[49m \u001b[38;5;241m+\u001b[39m \u001b[38;5;28mself\u001b[39m\u001b[38;5;241m.\u001b[39msecond\n\u001b[0;32m      8\u001b[0m     \u001b[38;5;28;01mreturn\u001b[39;00m result\n",
      "\u001b[1;31mAttributeError\u001b[0m: 'FourCal' object has no attribute 'first'"
     ]
    }
   ],
   "source": [
    "cal.add()         #setdata 무조건 꼭 실행 후에 데이터 주고 실행해야함"
   ]
  },
  {
   "cell_type": "code",
   "execution_count": 86,
   "id": "302f5b21-a4bb-44a7-9ebb-062a0c9a37db",
   "metadata": {},
   "outputs": [],
   "source": [
    "class FourCal :\n",
    "    def __init__(self, a, b) :    # 인스턴스 만들 때 반드시 실행되는 함수\n",
    "        self.first = a \n",
    "        self.second = b\n",
    "        \n",
    "    def add(self) :\n",
    "        result = self.first + self.second\n",
    "        return result\n",
    "    \n",
    "    def subtract(self) :\n",
    "        result = self.first - self.second\n",
    "        return result\n",
    "    \n",
    "    def multiply(self) :\n",
    "        result = self.first * self.second\n",
    "        return result\n",
    "    \n",
    "    def divide(self) :\n",
    "        result = self.first / self.second\n",
    "        return result"
   ]
  },
  {
   "cell_type": "code",
   "execution_count": 87,
   "id": "c99f6750-199c-4aa7-b934-341b896ca5a7",
   "metadata": {},
   "outputs": [
    {
     "ename": "TypeError",
     "evalue": "__init__() missing 2 required positional arguments: 'a' and 'b'",
     "output_type": "error",
     "traceback": [
      "\u001b[1;31m---------------------------------------------------------------------------\u001b[0m",
      "\u001b[1;31mTypeError\u001b[0m                                 Traceback (most recent call last)",
      "Input \u001b[1;32mIn [87]\u001b[0m, in \u001b[0;36m<cell line: 1>\u001b[1;34m()\u001b[0m\n\u001b[1;32m----> 1\u001b[0m cal \u001b[38;5;241m=\u001b[39m \u001b[43mFourCal\u001b[49m\u001b[43m(\u001b[49m\u001b[43m)\u001b[49m\n",
      "\u001b[1;31mTypeError\u001b[0m: __init__() missing 2 required positional arguments: 'a' and 'b'"
     ]
    }
   ],
   "source": [
    "cal = FourCal()         # 초기값이 없어서 못만들겠어요"
   ]
  },
  {
   "cell_type": "code",
   "execution_count": 88,
   "id": "be06fe04-fd4e-4c0c-8d7d-46493ea306f1",
   "metadata": {},
   "outputs": [],
   "source": [
    "cal = FourCal(10, 20)"
   ]
  },
  {
   "cell_type": "code",
   "execution_count": 89,
   "id": "0ec8bedc-b583-4ac1-900c-4d099e230f8d",
   "metadata": {},
   "outputs": [
    {
     "data": {
      "text/plain": [
       "10"
      ]
     },
     "execution_count": 89,
     "metadata": {},
     "output_type": "execute_result"
    }
   ],
   "source": [
    "cal.first"
   ]
  },
  {
   "cell_type": "code",
   "execution_count": 90,
   "id": "64c404d9-b740-499e-a45a-dc035ec99cc1",
   "metadata": {},
   "outputs": [
    {
     "data": {
      "text/plain": [
       "20"
      ]
     },
     "execution_count": 90,
     "metadata": {},
     "output_type": "execute_result"
    }
   ],
   "source": [
    "cal.second"
   ]
  },
  {
   "cell_type": "code",
   "execution_count": 91,
   "id": "8074b2f7-5e10-43a1-8703-fa64f9c67633",
   "metadata": {},
   "outputs": [
    {
     "data": {
      "text/plain": [
       "0.5"
      ]
     },
     "execution_count": 91,
     "metadata": {},
     "output_type": "execute_result"
    }
   ],
   "source": [
    "cal.divide()"
   ]
  },
  {
   "cell_type": "code",
   "execution_count": null,
   "id": "955657fc-7e90-4f6d-886d-a7dea1fd34c0",
   "metadata": {},
   "outputs": [],
   "source": [
    "# 생성자(constructor)     __init__ 부분은 생성자. 반드시 써야함. \n",
    "# 클래스 만드는데 생성자 없는 경우는 없음."
   ]
  },
  {
   "cell_type": "markdown",
   "id": "eab13274-8814-4b9b-80d7-8cf56bf9664d",
   "metadata": {},
   "source": [
    "## 상속 (Inheritance)"
   ]
  },
  {
   "cell_type": "code",
   "execution_count": 92,
   "id": "532af014-ccde-4f5f-b3b9-35a575caaa73",
   "metadata": {},
   "outputs": [],
   "source": [
    "a = FourCal(1, 2)"
   ]
  },
  {
   "cell_type": "code",
   "execution_count": 93,
   "id": "2dcd1d6f-ea24-4d9f-a200-e7866c8eae74",
   "metadata": {},
   "outputs": [
    {
     "data": {
      "text/plain": [
       "1"
      ]
     },
     "execution_count": 93,
     "metadata": {},
     "output_type": "execute_result"
    }
   ],
   "source": [
    "a.first"
   ]
  },
  {
   "cell_type": "code",
   "execution_count": 94,
   "id": "6da5f159-95e2-406e-b2b8-cdcc3008c21b",
   "metadata": {},
   "outputs": [
    {
     "data": {
      "text/plain": [
       "2"
      ]
     },
     "execution_count": 94,
     "metadata": {},
     "output_type": "execute_result"
    }
   ],
   "source": [
    "a.second"
   ]
  },
  {
   "cell_type": "code",
   "execution_count": 95,
   "id": "079ef21f-0f4f-4f7a-b211-9f47bd4a84fc",
   "metadata": {},
   "outputs": [
    {
     "data": {
      "text/plain": [
       "3"
      ]
     },
     "execution_count": 95,
     "metadata": {},
     "output_type": "execute_result"
    }
   ],
   "source": [
    "a.add()"
   ]
  },
  {
   "cell_type": "code",
   "execution_count": 96,
   "id": "7769843f-ae20-4245-87d6-8095a0443abf",
   "metadata": {},
   "outputs": [
    {
     "data": {
      "text/plain": [
       "2"
      ]
     },
     "execution_count": 96,
     "metadata": {},
     "output_type": "execute_result"
    }
   ],
   "source": [
    "a.multiply()"
   ]
  },
  {
   "cell_type": "code",
   "execution_count": 97,
   "id": "40e0c87b-23eb-4e9b-b38a-df2c77add56e",
   "metadata": {},
   "outputs": [],
   "source": [
    "class Child(FourCal) :         # << ( ) 안에 상속 할 클래스를 적어줌\n",
    "    pass"
   ]
  },
  {
   "cell_type": "code",
   "execution_count": 98,
   "id": "cd9536b2-0d90-4e4c-9cbe-0734e41d9997",
   "metadata": {},
   "outputs": [],
   "source": [
    "b = Child(2, 3)"
   ]
  },
  {
   "cell_type": "code",
   "execution_count": 99,
   "id": "fdf95915-772f-48c1-b0f7-d719667d0356",
   "metadata": {},
   "outputs": [
    {
     "data": {
      "text/plain": [
       "5"
      ]
     },
     "execution_count": 99,
     "metadata": {},
     "output_type": "execute_result"
    }
   ],
   "source": [
    "b.add()"
   ]
  },
  {
   "cell_type": "code",
   "execution_count": 100,
   "id": "0a3ec3c9-24fc-4c33-9336-bddaf6b9651a",
   "metadata": {},
   "outputs": [
    {
     "data": {
      "text/plain": [
       "0.6666666666666666"
      ]
     },
     "execution_count": 100,
     "metadata": {},
     "output_type": "execute_result"
    }
   ],
   "source": [
    "b.divide()"
   ]
  },
  {
   "cell_type": "code",
   "execution_count": 104,
   "id": "706b3a94-fecf-4b55-a14c-df5950c0b3b9",
   "metadata": {},
   "outputs": [],
   "source": [
    "class Child(FourCal) :\n",
    "    def power(self) :\n",
    "        result = self.first ** self.second\n",
    "        return result"
   ]
  },
  {
   "cell_type": "code",
   "execution_count": 105,
   "id": "ac89bcfd-b5e8-4498-ac13-695b789061ae",
   "metadata": {},
   "outputs": [],
   "source": [
    "b = Child(2, 3)"
   ]
  },
  {
   "cell_type": "code",
   "execution_count": 106,
   "id": "f226cacd-c721-4e9a-a89b-379a10124775",
   "metadata": {},
   "outputs": [
    {
     "data": {
      "text/plain": [
       "8"
      ]
     },
     "execution_count": 106,
     "metadata": {},
     "output_type": "execute_result"
    }
   ],
   "source": [
    "b.power()"
   ]
  },
  {
   "cell_type": "code",
   "execution_count": null,
   "id": "c11dc73e-0102-4fe2-a9de-634ed7a08edc",
   "metadata": {},
   "outputs": [],
   "source": [
    "# 클래스에서 중요한 것\n",
    "# 1. 중복 제거\n",
    "# 2. 유지, 보수"
   ]
  },
  {
   "cell_type": "markdown",
   "id": "c9864afb-a6a8-4db3-8370-1e26fbab45f8",
   "metadata": {},
   "source": [
    "### 오버라이딩 overriding (덮어쓰기) \n",
    "- 메소드 재정의"
   ]
  },
  {
   "cell_type": "code",
   "execution_count": 107,
   "id": "6f1bc045-ef70-4f5f-8480-2b4fe869eced",
   "metadata": {},
   "outputs": [],
   "source": [
    "b = Child(2, 0)"
   ]
  },
  {
   "cell_type": "code",
   "execution_count": 108,
   "id": "af22443a-d23c-42b7-ba0f-97783dc35aa2",
   "metadata": {},
   "outputs": [
    {
     "data": {
      "text/plain": [
       "1"
      ]
     },
     "execution_count": 108,
     "metadata": {},
     "output_type": "execute_result"
    }
   ],
   "source": [
    "b.power()"
   ]
  },
  {
   "cell_type": "code",
   "execution_count": 109,
   "id": "861aaf85-8f4a-4016-94c7-a24eb8a49d79",
   "metadata": {},
   "outputs": [
    {
     "ename": "ZeroDivisionError",
     "evalue": "division by zero",
     "output_type": "error",
     "traceback": [
      "\u001b[1;31m---------------------------------------------------------------------------\u001b[0m",
      "\u001b[1;31mZeroDivisionError\u001b[0m                         Traceback (most recent call last)",
      "Input \u001b[1;32mIn [109]\u001b[0m, in \u001b[0;36m<cell line: 1>\u001b[1;34m()\u001b[0m\n\u001b[1;32m----> 1\u001b[0m \u001b[43mb\u001b[49m\u001b[38;5;241;43m.\u001b[39;49m\u001b[43mdivide\u001b[49m\u001b[43m(\u001b[49m\u001b[43m)\u001b[49m\n",
      "Input \u001b[1;32mIn [86]\u001b[0m, in \u001b[0;36mFourCal.divide\u001b[1;34m(self)\u001b[0m\n\u001b[0;32m     18\u001b[0m \u001b[38;5;28;01mdef\u001b[39;00m \u001b[38;5;21mdivide\u001b[39m(\u001b[38;5;28mself\u001b[39m) :\n\u001b[1;32m---> 19\u001b[0m     result \u001b[38;5;241m=\u001b[39m \u001b[38;5;28;43mself\u001b[39;49m\u001b[38;5;241;43m.\u001b[39;49m\u001b[43mfirst\u001b[49m\u001b[43m \u001b[49m\u001b[38;5;241;43m/\u001b[39;49m\u001b[43m \u001b[49m\u001b[38;5;28;43mself\u001b[39;49m\u001b[38;5;241;43m.\u001b[39;49m\u001b[43msecond\u001b[49m\n\u001b[0;32m     20\u001b[0m     \u001b[38;5;28;01mreturn\u001b[39;00m result\n",
      "\u001b[1;31mZeroDivisionError\u001b[0m: division by zero"
     ]
    }
   ],
   "source": [
    "b.divide()          # 0으로 나눌수 없습니당"
   ]
  },
  {
   "cell_type": "code",
   "execution_count": 111,
   "id": "f3ec8e30-d161-4335-9eee-2650b4847c77",
   "metadata": {},
   "outputs": [],
   "source": [
    "class Child(FourCal) :\n",
    "    def divide(self) :\n",
    "        if self.second == 0 :\n",
    "            print(\"0으로 나누셨군요!\")\n",
    "        else :\n",
    "            result = self.first / self.second\n",
    "            return result"
   ]
  },
  {
   "cell_type": "code",
   "execution_count": 112,
   "id": "2ccc8840-7099-492c-a5a4-3a5a07659910",
   "metadata": {},
   "outputs": [
    {
     "name": "stdout",
     "output_type": "stream",
     "text": [
      "0으로 나누셨군요!\n"
     ]
    }
   ],
   "source": [
    "b = Child(2, 0)\n",
    "b.divide()"
   ]
  },
  {
   "cell_type": "code",
   "execution_count": 114,
   "id": "43db107c-5fea-476f-bce0-7edc60ec957c",
   "metadata": {},
   "outputs": [
    {
     "data": {
      "text/plain": [
       "2.0"
      ]
     },
     "execution_count": 114,
     "metadata": {},
     "output_type": "execute_result"
    }
   ],
   "source": [
    "b = Child(2, 1)\n",
    "b.divide()"
   ]
  },
  {
   "cell_type": "markdown",
   "id": "c51f3480-f5e8-4b53-9222-2822eb79ebf4",
   "metadata": {},
   "source": [
    "### 클래스 변수"
   ]
  },
  {
   "cell_type": "code",
   "execution_count": 115,
   "id": "e8222c84-19d0-48bb-a5bf-5710358e6ec9",
   "metadata": {},
   "outputs": [],
   "source": [
    "class Person :\n",
    "    \n",
    "    def __init__(self, name) :\n",
    "        self.name = name\n",
    "        \n",
    "    def show(self) :\n",
    "        print(self.name)"
   ]
  },
  {
   "cell_type": "code",
   "execution_count": 116,
   "id": "bb1779ba-85a2-4f07-a693-5be0ba7af926",
   "metadata": {},
   "outputs": [],
   "source": [
    "p = Person(\"호두루\")"
   ]
  },
  {
   "cell_type": "code",
   "execution_count": 118,
   "id": "e882d5b0-837d-4453-8762-db9b0aa98838",
   "metadata": {},
   "outputs": [
    {
     "data": {
      "text/plain": [
       "'호두루'"
      ]
     },
     "execution_count": 118,
     "metadata": {},
     "output_type": "execute_result"
    }
   ],
   "source": [
    "p.name"
   ]
  },
  {
   "cell_type": "code",
   "execution_count": 119,
   "id": "6242d92f-edb9-42c1-ba38-c77a699af533",
   "metadata": {},
   "outputs": [
    {
     "name": "stdout",
     "output_type": "stream",
     "text": [
      "호두루\n"
     ]
    }
   ],
   "source": [
    "p.show()"
   ]
  },
  {
   "cell_type": "code",
   "execution_count": 120,
   "id": "47e42fea-b1be-4c74-9ba7-936cca292723",
   "metadata": {},
   "outputs": [],
   "source": [
    "class Person :\n",
    "    name = \"Park\"                 # 클래스 변수\n",
    "    \n",
    "    def __init__(self, name) :\n",
    "        self.name = name          # 인스턴스 변수\n",
    "        self.nick = \"호뚜\"        # 인스턴스 변수\n",
    "        \n",
    "    def show(self) :\n",
    "        print(self.name)\n",
    "        print(self.nick)\n",
    "        print(Person.name)"
   ]
  },
  {
   "cell_type": "code",
   "execution_count": 121,
   "id": "13684ed7-f097-4988-9d1f-8297cc7d050f",
   "metadata": {},
   "outputs": [],
   "source": [
    "p = Person(\"호두루\")"
   ]
  },
  {
   "cell_type": "code",
   "execution_count": 123,
   "id": "8e27dfdc-9052-4d50-888a-cbaee4672678",
   "metadata": {},
   "outputs": [
    {
     "name": "stdout",
     "output_type": "stream",
     "text": [
      "호두루\n",
      "호뚜\n",
      "Park\n"
     ]
    }
   ],
   "source": [
    "p.show()"
   ]
  },
  {
   "cell_type": "code",
   "execution_count": 124,
   "id": "622b907a-b1ba-45c7-b98a-610fc310016d",
   "metadata": {},
   "outputs": [],
   "source": [
    "p2 = Person(\"전우치\")"
   ]
  },
  {
   "cell_type": "code",
   "execution_count": 125,
   "id": "0c3d1001-d4f6-4476-8adb-515e258ab5ec",
   "metadata": {},
   "outputs": [
    {
     "name": "stdout",
     "output_type": "stream",
     "text": [
      "전우치\n",
      "호뚜\n",
      "Park\n"
     ]
    }
   ],
   "source": [
    "p2.show()"
   ]
  },
  {
   "cell_type": "code",
   "execution_count": 2,
   "id": "d7782626-223a-4bd2-9c62-d15e825c2cf7",
   "metadata": {},
   "outputs": [
    {
     "name": "stdin",
     "output_type": "stream",
     "text": [
      "나이는? 32\n"
     ]
    }
   ],
   "source": [
    "class Person :\n",
    "    def __init__(self) :\n",
    "        self.name = \"Park\"\n",
    "        self.age = int(input(\"나이는?\"))\n",
    "p1 = Person()"
   ]
  },
  {
   "cell_type": "code",
   "execution_count": 3,
   "id": "a4ca90b8-ae41-44a3-803b-f023257dbd6b",
   "metadata": {},
   "outputs": [
    {
     "data": {
      "text/plain": [
       "'Park'"
      ]
     },
     "execution_count": 3,
     "metadata": {},
     "output_type": "execute_result"
    }
   ],
   "source": [
    "p1.name"
   ]
  },
  {
   "cell_type": "code",
   "execution_count": 4,
   "id": "c8ac86ba-a51f-43db-ab05-dbc9a59366a9",
   "metadata": {},
   "outputs": [
    {
     "data": {
      "text/plain": [
       "32"
      ]
     },
     "execution_count": 4,
     "metadata": {},
     "output_type": "execute_result"
    }
   ],
   "source": [
    "p1.age"
   ]
  },
  {
   "cell_type": "code",
   "execution_count": 10,
   "id": "d36133b0-1680-4849-86d7-52cbf6515f48",
   "metadata": {},
   "outputs": [
    {
     "name": "stdout",
     "output_type": "stream",
     "text": [
      "호뚜\n"
     ]
    },
    {
     "data": {
      "text/plain": [
       "7"
      ]
     },
     "execution_count": 10,
     "metadata": {},
     "output_type": "execute_result"
    }
   ],
   "source": [
    "class Person :\n",
    "    def __init__(self, name, age) :\n",
    "        self.name = name\n",
    "        self.age = age\n",
    "        \n",
    "    def show(self):\n",
    "        print(f\"이름은 {self.name}이고, 나이는 {self.age}살 입니다.\")\n",
    "        \n",
    "p2 = Person(\"호뚜\", 7)\n",
    "print(p2.name)\n",
    "p2.age"
   ]
  },
  {
   "cell_type": "code",
   "execution_count": 11,
   "id": "1b47bb0e-bf63-464f-a079-8da7c951d400",
   "metadata": {},
   "outputs": [
    {
     "name": "stdout",
     "output_type": "stream",
     "text": [
      "이름은 호뚜이고, 나이는 7살 입니다.\n"
     ]
    }
   ],
   "source": [
    "p2.show()"
   ]
  },
  {
   "cell_type": "code",
   "execution_count": 12,
   "id": "8506bab9-65dc-4d1a-8248-b199963a7c89",
   "metadata": {},
   "outputs": [
    {
     "ename": "TypeError",
     "evalue": "__init__() missing 2 required positional arguments: 'name' and 'age'",
     "output_type": "error",
     "traceback": [
      "\u001b[1;31m---------------------------------------------------------------------------\u001b[0m",
      "\u001b[1;31mTypeError\u001b[0m                                 Traceback (most recent call last)",
      "Input \u001b[1;32mIn [12]\u001b[0m, in \u001b[0;36m<cell line: 2>\u001b[1;34m()\u001b[0m\n\u001b[0;32m      1\u001b[0m li \u001b[38;5;241m=\u001b[39m []\n\u001b[0;32m      2\u001b[0m \u001b[38;5;28;01mfor\u001b[39;00m i \u001b[38;5;129;01min\u001b[39;00m \u001b[38;5;28mrange\u001b[39m(\u001b[38;5;241m3\u001b[39m) :\n\u001b[1;32m----> 3\u001b[0m     li\u001b[38;5;241m.\u001b[39mappend(\u001b[43mPerson\u001b[49m\u001b[43m(\u001b[49m\u001b[43m)\u001b[49m)\n",
      "\u001b[1;31mTypeError\u001b[0m: __init__() missing 2 required positional arguments: 'name' and 'age'"
     ]
    }
   ],
   "source": [
    "li = []\n",
    "for i in range(3) :\n",
    "    li.append(Person())"
   ]
  },
  {
   "cell_type": "code",
   "execution_count": 20,
   "id": "51cb6c96-d720-4d57-9811-4f6a5e97bdd4",
   "metadata": {},
   "outputs": [
    {
     "name": "stdin",
     "output_type": "stream",
     "text": [
      "이름 호뚜\n",
      "나이 7\n",
      "이름 구름\n",
      "나이 11\n",
      "이름 쫄\n",
      "나이 8\n"
     ]
    }
   ],
   "source": [
    "class Person :\n",
    "    def __init__(self) :\n",
    "        self.name = input(\"이름\")\n",
    "        self.age = int(input(\"나이\"))\n",
    "        \n",
    "    def show(self):\n",
    "        print(f\"이름은 {self.name}이고, 나이는 {self.age}살 입니다.\")\n",
    "        \n",
    "li = []\n",
    "for i in range(3) :\n",
    "    li.append(Person())"
   ]
  },
  {
   "cell_type": "code",
   "execution_count": 21,
   "id": "74e65e40-2da1-43af-9b21-f3fe7a6e83e0",
   "metadata": {},
   "outputs": [
    {
     "name": "stdout",
     "output_type": "stream",
     "text": [
      "이름은 호뚜이고, 나이는 7살 입니다.\n",
      "이름은 구름이고, 나이는 11살 입니다.\n",
      "이름은 쫄이고, 나이는 8살 입니다.\n"
     ]
    }
   ],
   "source": [
    "for i in range(3):\n",
    "    li[i].show()"
   ]
  },
  {
   "cell_type": "code",
   "execution_count": 22,
   "id": "9ff99935-83ac-4759-80e4-098c5ce42a81",
   "metadata": {},
   "outputs": [
    {
     "name": "stdout",
     "output_type": "stream",
     "text": [
      "이름은 호뚜이고, 나이는 7살 입니다.\n",
      "이름은 구름이고, 나이는 11살 입니다.\n",
      "이름은 쫄이고, 나이는 8살 입니다.\n"
     ]
    }
   ],
   "source": [
    "for obj in li:\n",
    "    obj.show()"
   ]
  },
  {
   "cell_type": "markdown",
   "id": "152b7fca-924a-4d9d-88d8-f353bea83a9b",
   "metadata": {},
   "source": [
    "### 상속 후 변수 추가하기"
   ]
  },
  {
   "cell_type": "code",
   "execution_count": 24,
   "id": "4cd579cc-7b99-418f-b7b6-84a9bdbbc927",
   "metadata": {},
   "outputs": [],
   "source": [
    "class Person :\n",
    "    def __init__(self) :\n",
    "        self.name = \"Park\"\n",
    "        self.age = 20\n",
    "        \n",
    "class Korean(Person):\n",
    "    def __init__(self):\n",
    "        self.lang = \"한국어\""
   ]
  },
  {
   "cell_type": "code",
   "execution_count": 25,
   "id": "44465648-2253-4b4a-bb71-a9c31b80ff1b",
   "metadata": {},
   "outputs": [],
   "source": [
    "p1 = Korean()"
   ]
  },
  {
   "cell_type": "code",
   "execution_count": 26,
   "id": "1fa01f7a-57ab-43d0-b6fd-b2bd069a2cd7",
   "metadata": {},
   "outputs": [
    {
     "data": {
      "text/plain": [
       "'한국어'"
      ]
     },
     "execution_count": 26,
     "metadata": {},
     "output_type": "execute_result"
    }
   ],
   "source": [
    "p1.lang"
   ]
  },
  {
   "cell_type": "code",
   "execution_count": 28,
   "id": "c3233ff2-4c62-41b5-a1b0-ad9a89198577",
   "metadata": {},
   "outputs": [
    {
     "ename": "AttributeError",
     "evalue": "'Korean' object has no attribute 'name'",
     "output_type": "error",
     "traceback": [
      "\u001b[1;31m---------------------------------------------------------------------------\u001b[0m",
      "\u001b[1;31mAttributeError\u001b[0m                            Traceback (most recent call last)",
      "Input \u001b[1;32mIn [28]\u001b[0m, in \u001b[0;36m<cell line: 1>\u001b[1;34m()\u001b[0m\n\u001b[1;32m----> 1\u001b[0m \u001b[43mp1\u001b[49m\u001b[38;5;241;43m.\u001b[39;49m\u001b[43mname\u001b[49m\n",
      "\u001b[1;31mAttributeError\u001b[0m: 'Korean' object has no attribute 'name'"
     ]
    }
   ],
   "source": [
    "p1.name             # 상속 받았는데 안나옴 !"
   ]
  },
  {
   "cell_type": "code",
   "execution_count": null,
   "id": "02d23806-f759-41c3-af67-70ddf5b5a3ee",
   "metadata": {},
   "outputs": [],
   "source": [
    "# __init__이 두개 들어있어서 초기화가 슝 두번 됨\n",
    "# 첫번째 init 덮어쓰여지지 않게 해야함"
   ]
  },
  {
   "cell_type": "code",
   "execution_count": 40,
   "id": "f449c314-c923-4b83-9b81-47cacb24434d",
   "metadata": {},
   "outputs": [],
   "source": [
    "class Person :\n",
    "    def __init__(self) :\n",
    "        self.name = \"Park\"\n",
    "        self.age = 20\n",
    "        \n",
    "class Korean(Person):\n",
    "    def __init__(self):\n",
    "        super().__init__()        # 부모 클래스의 init(생성자) 실행 하는 super().\n",
    "        self.lang = \"한국어\"       # 괄호 안에 self가 없어야 한다.\n",
    "        \n",
    "class American(Person) :\n",
    "    def __init__(self):\n",
    "        super().__init__()\n",
    "        self.lang = \"English\""
   ]
  },
  {
   "cell_type": "code",
   "execution_count": 41,
   "id": "d00bb8d2-4774-4123-a030-f5ae28bdc848",
   "metadata": {},
   "outputs": [],
   "source": [
    "p1 = Korean()"
   ]
  },
  {
   "cell_type": "code",
   "execution_count": 42,
   "id": "a2aae1c2-3b9c-44ac-90cc-070bea2207ac",
   "metadata": {},
   "outputs": [
    {
     "data": {
      "text/plain": [
       "'Park'"
      ]
     },
     "execution_count": 42,
     "metadata": {},
     "output_type": "execute_result"
    }
   ],
   "source": [
    "p1.name"
   ]
  },
  {
   "cell_type": "code",
   "execution_count": 43,
   "id": "a97e58dc-902f-4178-bf5a-e991ff2a5890",
   "metadata": {},
   "outputs": [
    {
     "data": {
      "text/plain": [
       "20"
      ]
     },
     "execution_count": 43,
     "metadata": {},
     "output_type": "execute_result"
    }
   ],
   "source": [
    "p1.age"
   ]
  },
  {
   "cell_type": "code",
   "execution_count": 44,
   "id": "6fbe74d1-cfc6-4e52-8db4-736dd0536628",
   "metadata": {},
   "outputs": [
    {
     "data": {
      "text/plain": [
       "'한국어'"
      ]
     },
     "execution_count": 44,
     "metadata": {},
     "output_type": "execute_result"
    }
   ],
   "source": [
    "p1.lang"
   ]
  },
  {
   "cell_type": "code",
   "execution_count": 45,
   "id": "1e83b160-ccf6-4007-9cd9-9be4e5ccdcc6",
   "metadata": {},
   "outputs": [],
   "source": [
    "p2 = American()"
   ]
  },
  {
   "cell_type": "code",
   "execution_count": 46,
   "id": "fc3ca10b-2c83-4080-9916-c1f302fd225c",
   "metadata": {},
   "outputs": [
    {
     "data": {
      "text/plain": [
       "'English'"
      ]
     },
     "execution_count": 46,
     "metadata": {},
     "output_type": "execute_result"
    }
   ],
   "source": [
    "p2.lang"
   ]
  },
  {
   "cell_type": "code",
   "execution_count": 47,
   "id": "888e1730-719e-4a5a-b699-88d7e83f93af",
   "metadata": {},
   "outputs": [
    {
     "data": {
      "text/plain": [
       "'Park'"
      ]
     },
     "execution_count": 47,
     "metadata": {},
     "output_type": "execute_result"
    }
   ],
   "source": [
    "p2.name"
   ]
  },
  {
   "cell_type": "code",
   "execution_count": 48,
   "id": "f04e1ea9-5d6a-4a5f-8dc4-10634371c70a",
   "metadata": {},
   "outputs": [],
   "source": [
    "class Person :\n",
    "    def __init__(self, name, age) :\n",
    "        self.name = name\n",
    "        self.age = age\n",
    "        \n",
    "class Korean(Person) :\n",
    "    def __init__(self, lang) :\n",
    "        super().__init__(name, age)\n",
    "        self.lang = lang"
   ]
  },
  {
   "cell_type": "code",
   "execution_count": 49,
   "id": "7dbe71c1-0201-4689-ab48-1416ed37843f",
   "metadata": {},
   "outputs": [
    {
     "ename": "TypeError",
     "evalue": "__init__() missing 1 required positional argument: 'lang'",
     "output_type": "error",
     "traceback": [
      "\u001b[1;31m---------------------------------------------------------------------------\u001b[0m",
      "\u001b[1;31mTypeError\u001b[0m                                 Traceback (most recent call last)",
      "Input \u001b[1;32mIn [49]\u001b[0m, in \u001b[0;36m<cell line: 1>\u001b[1;34m()\u001b[0m\n\u001b[1;32m----> 1\u001b[0m p1 \u001b[38;5;241m=\u001b[39m \u001b[43mKorean\u001b[49m\u001b[43m(\u001b[49m\u001b[43m)\u001b[49m\n",
      "\u001b[1;31mTypeError\u001b[0m: __init__() missing 1 required positional argument: 'lang'"
     ]
    }
   ],
   "source": [
    "p1 = Korean()  # lang만 안넣었다고 에러 나옴"
   ]
  },
  {
   "cell_type": "code",
   "execution_count": null,
   "id": "9be79323-89bd-47d8-8054-891b5f05e59d",
   "metadata": {},
   "outputs": [],
   "source": [
    "p1 = Korean()"
   ]
  },
  {
   "cell_type": "code",
   "execution_count": 50,
   "id": "fe39e120-dce8-447b-a69d-040137fe62ad",
   "metadata": {},
   "outputs": [],
   "source": [
    "class Person :\n",
    "    def __init__(self, name, age) :\n",
    "        self.name = name\n",
    "        self.age = age\n",
    "        \n",
    "class Korean(Person) :\n",
    "    def __init__(self, name, age, lang) : # 부모클래스에서의 변수도 같이 써줘야함\n",
    "        super().__init__(name, age)       # 자리를 주는거징\n",
    "        self.lang = lang"
   ]
  },
  {
   "cell_type": "code",
   "execution_count": 51,
   "id": "418388d1-956d-4902-a214-8b42ec78c0d4",
   "metadata": {},
   "outputs": [],
   "source": [
    "p1 = Korean(\"Park\", 15, \"한국어\")"
   ]
  },
  {
   "cell_type": "code",
   "execution_count": 52,
   "id": "76f46d05-b382-4d72-a8e4-db241e3b34bc",
   "metadata": {},
   "outputs": [
    {
     "data": {
      "text/plain": [
       "'Park'"
      ]
     },
     "execution_count": 52,
     "metadata": {},
     "output_type": "execute_result"
    }
   ],
   "source": [
    "p1.name"
   ]
  },
  {
   "cell_type": "code",
   "execution_count": 53,
   "id": "f97fb850-b770-40a7-9607-1cda4d5bfb39",
   "metadata": {},
   "outputs": [
    {
     "data": {
      "text/plain": [
       "'한국어'"
      ]
     },
     "execution_count": 53,
     "metadata": {},
     "output_type": "execute_result"
    }
   ],
   "source": [
    "p1.lang"
   ]
  },
  {
   "cell_type": "markdown",
   "id": "ad7b92b6-b5ff-4fcb-91f6-919f862d4182",
   "metadata": {},
   "source": [
    "# 모듈\n",
    "```\n",
    "모듈(module)이란 .py 파일을 말한다\n",
    "```"
   ]
  },
  {
   "cell_type": "code",
   "execution_count": 54,
   "id": "39e1d41e-9489-46f7-a783-d61da6f78bba",
   "metadata": {},
   "outputs": [],
   "source": [
    "# 모듈이란 (함수나 변수 또는 클래스를 모아 놓은) 파일이다.\n",
    "# 그냥 저장하면 모듈\n",
    "# import 모듈 이름 << 불러오는 방법(.py 는 쓰지 않음)"
   ]
  },
  {
   "cell_type": "code",
   "execution_count": null,
   "id": "354e848b-6e70-416b-a976-09041ec91521",
   "metadata": {},
   "outputs": [],
   "source": [
    "# 아래와 같은 모듈이 있다고 할 때\n",
    "# import mod1 을 입력했을 경우\n",
    "# if 문을 사용하여 Hello가 출력되지 않게 하라\n",
    "\n",
    "# mod1.py\n",
    "# print(\"Hello\")\n",
    "\n",
    "# if __name__==\"__main__\":    << import 할때 꼭 써주는 애"
   ]
  },
  {
   "cell_type": "code",
   "execution_count": null,
   "id": "3d1719f7-5b4d-4ab2-a00e-a87023182131",
   "metadata": {},
   "outputs": [],
   "source": [
    "#if __name__==\"__main__\":\n",
    "#    print(\"Hello\")"
   ]
  },
  {
   "cell_type": "markdown",
   "id": "f81e7341-e868-4c73-b90a-b0d9501359c4",
   "metadata": {},
   "source": [
    "import sys\n",
    "\n",
    "args = sys.argv\n",
    "\n",
    "print(args)\n",
    "\n",
    "for i in args[1: ]:\n",
    "    print(i)"
   ]
  },
  {
   "cell_type": "markdown",
   "id": "4359b7bc-4133-4ca2-b9d1-117acda98619",
   "metadata": {},
   "source": [
    "# 예외처리\n",
    "- 예외(exception) 란 에러(error)를 말한다\n",
    "- try ~ except"
   ]
  },
  {
   "cell_type": "code",
   "execution_count": null,
   "id": "ae1e2bf8-fa0d-45f6-bbb3-09ce4c8f3372",
   "metadata": {},
   "outputs": [],
   "source": [
    "# 예외 처리 (exception / error)\n",
    "# 에러가 나면 멈추지 말라고 해주는 예외 처리\n",
    "# FileNotFoundError \n",
    "# ZeroDivisionError\n",
    "# IndexError"
   ]
  },
  {
   "cell_type": "code",
   "execution_count": 135,
   "id": "ae992c39-0249-4a88-9c40-deef44892844",
   "metadata": {},
   "outputs": [
    {
     "name": "stdout",
     "output_type": "stream",
     "text": [
      "1\n",
      "2\n",
      "3\n"
     ]
    }
   ],
   "source": [
    "li = [1, 2, 3]\n",
    "for i in range(3) :\n",
    "    print(li[i])"
   ]
  },
  {
   "cell_type": "code",
   "execution_count": 136,
   "id": "0f7bc0ef-395e-450f-a322-5e552f6fa165",
   "metadata": {},
   "outputs": [
    {
     "name": "stdout",
     "output_type": "stream",
     "text": [
      "1\n",
      "2\n",
      "3\n"
     ]
    },
    {
     "ename": "IndexError",
     "evalue": "list index out of range",
     "output_type": "error",
     "traceback": [
      "\u001b[1;31m---------------------------------------------------------------------------\u001b[0m",
      "\u001b[1;31mIndexError\u001b[0m                                Traceback (most recent call last)",
      "Input \u001b[1;32mIn [136]\u001b[0m, in \u001b[0;36m<cell line: 2>\u001b[1;34m()\u001b[0m\n\u001b[0;32m      1\u001b[0m li \u001b[38;5;241m=\u001b[39m [\u001b[38;5;241m1\u001b[39m, \u001b[38;5;241m2\u001b[39m, \u001b[38;5;241m3\u001b[39m]\n\u001b[0;32m      2\u001b[0m \u001b[38;5;28;01mfor\u001b[39;00m i \u001b[38;5;129;01min\u001b[39;00m \u001b[38;5;28mrange\u001b[39m(\u001b[38;5;241m4\u001b[39m) :\n\u001b[1;32m----> 3\u001b[0m     \u001b[38;5;28mprint\u001b[39m(\u001b[43mli\u001b[49m\u001b[43m[\u001b[49m\u001b[43mi\u001b[49m\u001b[43m]\u001b[49m)\n",
      "\u001b[1;31mIndexError\u001b[0m: list index out of range"
     ]
    }
   ],
   "source": [
    "li = [1, 2, 3]\n",
    "for i in range(4) :\n",
    "    print(li[i])                # 인덱스 에러 남"
   ]
  },
  {
   "cell_type": "code",
   "execution_count": 137,
   "id": "f0a48cbf-0128-44e6-9ade-39b9ed5067d4",
   "metadata": {},
   "outputs": [
    {
     "name": "stdout",
     "output_type": "stream",
     "text": [
      "1\n",
      "2\n",
      "3\n",
      "에러가 났었습니다\n"
     ]
    }
   ],
   "source": [
    "li = [1, 2, 3]\n",
    "try : \n",
    "    for i in range(4) :\n",
    "        print(li[i])\n",
    "except :\n",
    "    print(\"에러가 났었습니다\")"
   ]
  },
  {
   "cell_type": "code",
   "execution_count": 150,
   "id": "5b52a8ba-7ab7-4b1c-a3b9-d0c1361fe098",
   "metadata": {},
   "outputs": [
    {
     "name": "stdout",
     "output_type": "stream",
     "text": [
      "1\n",
      "2\n",
      "3\n"
     ]
    }
   ],
   "source": [
    "li = [1, 2, 3]\n",
    "try : \n",
    "    for i in range(4) :\n",
    "        print(li[i])\n",
    "except :\n",
    "    pass                       # pass도 가능"
   ]
  },
  {
   "cell_type": "code",
   "execution_count": 149,
   "id": "29942710-4a2e-42cc-be68-c55dcd616096",
   "metadata": {},
   "outputs": [
    {
     "name": "stdout",
     "output_type": "stream",
     "text": [
      "2.0\n",
      "division by zero\n"
     ]
    }
   ],
   "source": [
    "try :\n",
    "    print(4/2)\n",
    "    4/0\n",
    "except ZeroDivisionError as e :       # e 는 항상 e 라고 함 error? explain?\n",
    "    print(e)"
   ]
  },
  {
   "cell_type": "code",
   "execution_count": 141,
   "id": "a59b5eca-130c-406d-8bbb-e33ff2189c32",
   "metadata": {},
   "outputs": [
    {
     "name": "stdout",
     "output_type": "stream",
     "text": [
      "1\n",
      "2\n",
      "3\n",
      "list index out of range\n"
     ]
    }
   ],
   "source": [
    "li = [1, 2, 3]\n",
    "try : \n",
    "    for i in range(4) :\n",
    "        print(li[i])\n",
    "except IndexError as e :\n",
    "    print(e)"
   ]
  },
  {
   "cell_type": "code",
   "execution_count": 143,
   "id": "c013aff2-f999-4f35-bbef-792e9e26bb9d",
   "metadata": {},
   "outputs": [
    {
     "name": "stdout",
     "output_type": "stream",
     "text": [
      "1\n",
      "2\n",
      "3\n",
      "division by zero\n"
     ]
    }
   ],
   "source": [
    "li = [1, 2, 3]\n",
    "try :                         # 어떤 오류가 발생될지 모를때 except 여러개 써도 됨\n",
    "    for i in range(3) :\n",
    "        print(li[i])\n",
    "    print(3/0)\n",
    "except IndexError as e :\n",
    "    print(e)\n",
    "except ZeroDivisionError as e :\n",
    "    print(e)"
   ]
  },
  {
   "cell_type": "code",
   "execution_count": 151,
   "id": "880df06a-0394-45e6-8b26-575aed24acfc",
   "metadata": {},
   "outputs": [
    {
     "name": "stdout",
     "output_type": "stream",
     "text": [
      "1\n",
      "2\n",
      "3\n",
      "list index out of range\n"
     ]
    }
   ],
   "source": [
    "li = [1, 2, 3]\n",
    "try :                     #인덱싱 오류가 먼저 발생했으므로 3/0 오류는 발생하지 않음\n",
    "    for i in range(4) :\n",
    "        print(li[i])\n",
    "    print(3 / 0)\n",
    "except (IndexError, ZeroDivisionError) as e :\n",
    "    print(e)"
   ]
  },
  {
   "cell_type": "code",
   "execution_count": 152,
   "id": "7ec69213-e570-4aad-97ce-4f2ac6e3972a",
   "metadata": {},
   "outputs": [
    {
     "name": "stdout",
     "output_type": "stream",
     "text": [
      "division by zero\n"
     ]
    }
   ],
   "source": [
    "li = [1, 2, 3]\n",
    "try :\n",
    "    print(3 / 0)\n",
    "    for i in range(4) :\n",
    "        print(li[i])\n",
    "except (IndexError, ZeroDivisionError) as e :\n",
    "    print(e)"
   ]
  },
  {
   "cell_type": "markdown",
   "id": "1b4a6048-aeae-4d99-9161-d59a7d81653d",
   "metadata": {},
   "source": [
    "# 내장함수"
   ]
  },
  {
   "cell_type": "code",
   "execution_count": 154,
   "id": "8e20ed1d-8519-40e3-a909-e9c88320e5e4",
   "metadata": {},
   "outputs": [
    {
     "data": {
      "text/plain": [
       "3"
      ]
     },
     "execution_count": 154,
     "metadata": {},
     "output_type": "execute_result"
    }
   ],
   "source": [
    "abs(3)       #절댓값"
   ]
  },
  {
   "cell_type": "code",
   "execution_count": 155,
   "id": "d04b5589-e598-4b10-93e5-3d2c5567ce3b",
   "metadata": {},
   "outputs": [
    {
     "data": {
      "text/plain": [
       "3"
      ]
     },
     "execution_count": 155,
     "metadata": {},
     "output_type": "execute_result"
    }
   ],
   "source": [
    "abs(-3)"
   ]
  },
  {
   "cell_type": "code",
   "execution_count": 157,
   "id": "83d29a6f-61fc-4fbb-b152-2a789aa028f7",
   "metadata": {},
   "outputs": [
    {
     "data": {
      "text/plain": [
       "True"
      ]
     },
     "execution_count": 157,
     "metadata": {},
     "output_type": "execute_result"
    }
   ],
   "source": [
    "all([1, 2, 3])    # 모두 참이면 True, 거짓이 하나라도 있으면 False"
   ]
  },
  {
   "cell_type": "code",
   "execution_count": 158,
   "id": "cf8aa9ba-5f2c-425f-80e6-7082c8735f39",
   "metadata": {},
   "outputs": [
    {
     "data": {
      "text/plain": [
       "False"
      ]
     },
     "execution_count": 158,
     "metadata": {},
     "output_type": "execute_result"
    }
   ],
   "source": [
    "all([0, 1, 2, 3])"
   ]
  },
  {
   "cell_type": "code",
   "execution_count": 161,
   "id": "eb8cdfdd-fea1-497f-a31a-77f0ea7998a1",
   "metadata": {},
   "outputs": [
    {
     "data": {
      "text/plain": [
       "True"
      ]
     },
     "execution_count": 161,
     "metadata": {},
     "output_type": "execute_result"
    }
   ],
   "source": [
    "any([0, False,\"\", 1])    #하나라도 참이 있으면 True"
   ]
  },
  {
   "cell_type": "code",
   "execution_count": 165,
   "id": "fb31f2d8-3f71-4167-a864-49a7b02b07f5",
   "metadata": {},
   "outputs": [
    {
     "data": {
      "text/plain": [
       "'a'"
      ]
     },
     "execution_count": 165,
     "metadata": {},
     "output_type": "execute_result"
    }
   ],
   "source": [
    "chr(97)       # 아스키 코드 값을 입력받아 그 코드에 해당하는 문자를 출력하는 함수\n",
    "              # 최대 숫자 127까지 있고 영어만 "
   ]
  },
  {
   "cell_type": "code",
   "execution_count": 166,
   "id": "f26086b2-f811-4f6b-adaf-25df568850b7",
   "metadata": {},
   "outputs": [
    {
     "data": {
      "text/plain": [
       "'b'"
      ]
     },
     "execution_count": 166,
     "metadata": {},
     "output_type": "execute_result"
    }
   ],
   "source": [
    "chr(98)"
   ]
  },
  {
   "cell_type": "code",
   "execution_count": 167,
   "id": "bb76f1d6-7807-4340-8252-7890f73d95a1",
   "metadata": {},
   "outputs": [
    {
     "data": {
      "text/plain": [
       "'0'"
      ]
     },
     "execution_count": 167,
     "metadata": {},
     "output_type": "execute_result"
    }
   ],
   "source": [
    "chr(48)"
   ]
  },
  {
   "cell_type": "code",
   "execution_count": 168,
   "id": "12c1c752-f64a-4e5b-be75-147ccf6a4e00",
   "metadata": {},
   "outputs": [],
   "source": [
    "a = \"Hello\""
   ]
  },
  {
   "cell_type": "code",
   "execution_count": 171,
   "id": "cc93a8ef-3fe2-4798-936d-359086713e6e",
   "metadata": {
    "collapsed": true,
    "jupyter": {
     "outputs_hidden": true
    },
    "tags": []
   },
   "outputs": [
    {
     "data": {
      "text/plain": [
       "['__add__',\n",
       " '__class__',\n",
       " '__contains__',\n",
       " '__delattr__',\n",
       " '__dir__',\n",
       " '__doc__',\n",
       " '__eq__',\n",
       " '__format__',\n",
       " '__ge__',\n",
       " '__getattribute__',\n",
       " '__getitem__',\n",
       " '__getnewargs__',\n",
       " '__gt__',\n",
       " '__hash__',\n",
       " '__init__',\n",
       " '__init_subclass__',\n",
       " '__iter__',\n",
       " '__le__',\n",
       " '__len__',\n",
       " '__lt__',\n",
       " '__mod__',\n",
       " '__mul__',\n",
       " '__ne__',\n",
       " '__new__',\n",
       " '__reduce__',\n",
       " '__reduce_ex__',\n",
       " '__repr__',\n",
       " '__rmod__',\n",
       " '__rmul__',\n",
       " '__setattr__',\n",
       " '__sizeof__',\n",
       " '__str__',\n",
       " '__subclasshook__',\n",
       " 'capitalize',\n",
       " 'casefold',\n",
       " 'center',\n",
       " 'count',\n",
       " 'encode',\n",
       " 'endswith',\n",
       " 'expandtabs',\n",
       " 'find',\n",
       " 'format',\n",
       " 'format_map',\n",
       " 'index',\n",
       " 'isalnum',\n",
       " 'isalpha',\n",
       " 'isascii',\n",
       " 'isdecimal',\n",
       " 'isdigit',\n",
       " 'isidentifier',\n",
       " 'islower',\n",
       " 'isnumeric',\n",
       " 'isprintable',\n",
       " 'isspace',\n",
       " 'istitle',\n",
       " 'isupper',\n",
       " 'join',\n",
       " 'ljust',\n",
       " 'lower',\n",
       " 'lstrip',\n",
       " 'maketrans',\n",
       " 'partition',\n",
       " 'removeprefix',\n",
       " 'removesuffix',\n",
       " 'replace',\n",
       " 'rfind',\n",
       " 'rindex',\n",
       " 'rjust',\n",
       " 'rpartition',\n",
       " 'rsplit',\n",
       " 'rstrip',\n",
       " 'split',\n",
       " 'splitlines',\n",
       " 'startswith',\n",
       " 'strip',\n",
       " 'swapcase',\n",
       " 'title',\n",
       " 'translate',\n",
       " 'upper',\n",
       " 'zfill']"
      ]
     },
     "execution_count": 171,
     "metadata": {},
     "output_type": "execute_result"
    }
   ],
   "source": [
    "dir(a)        #더블 언더스코어 있는건 스페셜 메소드 #메소드 보여주는 함수"
   ]
  },
  {
   "cell_type": "code",
   "execution_count": 173,
   "id": "97eec0c2-90fb-48b4-9ea4-96290ac33858",
   "metadata": {},
   "outputs": [
    {
     "data": {
      "text/plain": [
       "(2, 1)"
      ]
     },
     "execution_count": 173,
     "metadata": {},
     "output_type": "execute_result"
    }
   ],
   "source": [
    "divmod(7, 3)   # 나눈 몫과 나머지 주는 함수"
   ]
  },
  {
   "cell_type": "code",
   "execution_count": 174,
   "id": "382eeb0f-b211-4693-a7e0-effde40ff1c5",
   "metadata": {},
   "outputs": [
    {
     "data": {
      "text/plain": [
       "(2, 1)"
      ]
     },
     "execution_count": 174,
     "metadata": {},
     "output_type": "execute_result"
    }
   ],
   "source": [
    "def mydiv(a, b):\n",
    "    return a//b, a%b\n",
    "\n",
    "mydiv(7, 3)"
   ]
  },
  {
   "cell_type": "code",
   "execution_count": 177,
   "id": "98b690fd-03f3-4d04-a87f-a22e61636251",
   "metadata": {
    "tags": []
   },
   "outputs": [
    {
     "data": {
      "text/plain": [
       "<enumerate at 0x2836b3c99c0>"
      ]
     },
     "execution_count": 177,
     "metadata": {},
     "output_type": "execute_result"
    }
   ],
   "source": [
    "enumerate([\"a\", \"b\", 3])     # 순서와 그 값을 알고 싶을 때 인덱스 값이 필요할 때"
   ]
  },
  {
   "cell_type": "code",
   "execution_count": 178,
   "id": "f9e591e6-c5da-47ff-838a-cc6f5859482e",
   "metadata": {},
   "outputs": [
    {
     "name": "stdout",
     "output_type": "stream",
     "text": [
      "0 a\n",
      "1 b\n",
      "2 3\n"
     ]
    }
   ],
   "source": [
    "for i, j in enumerate([\"a\", \"b\", 3]):\n",
    "    print(i, j)"
   ]
  },
  {
   "cell_type": "code",
   "execution_count": 179,
   "id": "f6881d05-2747-4882-957b-ad26ca990813",
   "metadata": {},
   "outputs": [
    {
     "name": "stdout",
     "output_type": "stream",
     "text": [
      "0 a\n",
      "1 b\n",
      "2 3\n"
     ]
    }
   ],
   "source": [
    "diction = {}\n",
    "for i, j in enumerate([\"a\", \"b\", 3]):\n",
    "    print(i, j)\n",
    "    diction[i] = j"
   ]
  },
  {
   "cell_type": "code",
   "execution_count": 181,
   "id": "17262372-1774-4e47-be96-6581e5fbfd8b",
   "metadata": {},
   "outputs": [
    {
     "data": {
      "text/plain": [
       "{0: 'a', 1: 'b', 2: 3}"
      ]
     },
     "execution_count": 181,
     "metadata": {},
     "output_type": "execute_result"
    }
   ],
   "source": [
    "diction"
   ]
  },
  {
   "cell_type": "code",
   "execution_count": 182,
   "id": "33024a14-b87d-484d-ac41-94ded538591b",
   "metadata": {},
   "outputs": [],
   "source": [
    "# filter 아주아주 중요한 함수\n",
    "# filter 첫번째 칸에 함수가 들어감"
   ]
  },
  {
   "cell_type": "code",
   "execution_count": 183,
   "id": "25c7ce8b-10d9-41a5-a434-6a7dd20ac9c2",
   "metadata": {},
   "outputs": [
    {
     "data": {
      "text/plain": [
       "<filter at 0x2836a7e16a0>"
      ]
     },
     "execution_count": 183,
     "metadata": {},
     "output_type": "execute_result"
    }
   ],
   "source": [
    "filter(abs, [-1, 1, -2, 3])"
   ]
  },
  {
   "cell_type": "code",
   "execution_count": 185,
   "id": "cd80479f-a5e2-4bf5-8ff4-6d0362c67939",
   "metadata": {},
   "outputs": [
    {
     "data": {
      "text/plain": [
       "[-1, 1, -2, 3]"
      ]
     },
     "execution_count": 185,
     "metadata": {},
     "output_type": "execute_result"
    }
   ],
   "source": [
    "list(filter(abs, [-1, 1, -2, 3]))"
   ]
  },
  {
   "cell_type": "code",
   "execution_count": 202,
   "id": "77557293-892e-488b-97ba-4c5ed2ea8074",
   "metadata": {},
   "outputs": [],
   "source": [
    "def odd(a) :\n",
    "    if a%2 == 1 :\n",
    "        return True\n",
    "    else :\n",
    "        pass"
   ]
  },
  {
   "cell_type": "code",
   "execution_count": 203,
   "id": "3494bff5-7f43-4b10-8977-55eac440053f",
   "metadata": {},
   "outputs": [
    {
     "data": {
      "text/plain": [
       "<filter at 0x2836a7e1c40>"
      ]
     },
     "execution_count": 203,
     "metadata": {},
     "output_type": "execute_result"
    }
   ],
   "source": [
    "filter( odd, [-1, 1, -2, 3])"
   ]
  },
  {
   "cell_type": "code",
   "execution_count": 204,
   "id": "ba49636c-8592-48fe-a47c-daea3b181248",
   "metadata": {},
   "outputs": [
    {
     "data": {
      "text/plain": [
       "[-1, 1, 3, 5]"
      ]
     },
     "execution_count": 204,
     "metadata": {},
     "output_type": "execute_result"
    }
   ],
   "source": [
    "list(filter(odd, [-1, 1, -2, 3, 4, 5]))"
   ]
  },
  {
   "cell_type": "code",
   "execution_count": 207,
   "id": "e0d831e4-f8e2-4689-a906-99c1033ec930",
   "metadata": {},
   "outputs": [],
   "source": [
    "def positive(a) :\n",
    "    if a > 0 :\n",
    "        return True         # True로 적용해줘야함\n",
    "    else :                  # filter >> True 인지 False 인지\n",
    "        pass"
   ]
  },
  {
   "cell_type": "code",
   "execution_count": 208,
   "id": "13b2fe80-6a84-4d03-8e4c-6037a0978618",
   "metadata": {},
   "outputs": [
    {
     "data": {
      "text/plain": [
       "[1, 3, 4, 5]"
      ]
     },
     "execution_count": 208,
     "metadata": {},
     "output_type": "execute_result"
    }
   ],
   "source": [
    "list(filter(positive, [-1, 1, -2, 3, 4, 5]))"
   ]
  },
  {
   "cell_type": "code",
   "execution_count": 1,
   "id": "3cb492fb-5bfe-49ec-a55c-0d26e910325f",
   "metadata": {},
   "outputs": [
    {
     "data": {
      "text/plain": [
       "[1, 3, 4, 5]"
      ]
     },
     "execution_count": 1,
     "metadata": {},
     "output_type": "execute_result"
    }
   ],
   "source": [
    "def positive(a) :\n",
    "    return a > 0\n",
    "list(filter(positive, [-1, 1, -2, 3, 4, 5]))"
   ]
  },
  {
   "cell_type": "code",
   "execution_count": 57,
   "id": "1b77b4e5-6c35-4a76-9a82-65c2409910d3",
   "metadata": {},
   "outputs": [
    {
     "data": {
      "text/plain": [
       "'0xea'"
      ]
     },
     "execution_count": 57,
     "metadata": {},
     "output_type": "execute_result"
    }
   ],
   "source": [
    "hex(234)      # 16진수로 변환해주는 함수"
   ]
  },
  {
   "cell_type": "code",
   "execution_count": 58,
   "id": "a2f8cdd4-f446-4594-8076-6f8aae49e87e",
   "metadata": {},
   "outputs": [
    {
     "data": {
      "text/plain": [
       "'0x3'"
      ]
     },
     "execution_count": 58,
     "metadata": {},
     "output_type": "execute_result"
    }
   ],
   "source": [
    "hex(3)"
   ]
  },
  {
   "cell_type": "code",
   "execution_count": 60,
   "id": "e7d061da-4bdb-4e67-860b-068b67635e2d",
   "metadata": {},
   "outputs": [
    {
     "data": {
      "text/plain": [
       "2928370805104"
      ]
     },
     "execution_count": 60,
     "metadata": {},
     "output_type": "execute_result"
    }
   ],
   "source": [
    "id(3)        # 고유 주소 값(레퍼런스)을 주는 함수"
   ]
  },
  {
   "cell_type": "code",
   "execution_count": null,
   "id": "7505f61b-e313-4d7c-a658-9fc3326d1802",
   "metadata": {},
   "outputs": [],
   "source": [
    "input()     # 직접 입력할수 있게 하는 함수"
   ]
  },
  {
   "cell_type": "code",
   "execution_count": 63,
   "id": "fb919f24-df29-470d-8db3-c1de4643e3f0",
   "metadata": {},
   "outputs": [
    {
     "data": {
      "text/plain": [
       "3"
      ]
     },
     "execution_count": 63,
     "metadata": {},
     "output_type": "execute_result"
    }
   ],
   "source": [
    "int('3')   # 문자열이나 소수점 있는 수를 정수로 돌려주는 함수"
   ]
  },
  {
   "cell_type": "code",
   "execution_count": 65,
   "id": "3acee5fc-dca2-4f4d-84df-588881ed6920",
   "metadata": {},
   "outputs": [
    {
     "data": {
      "text/plain": [
       "255"
      ]
     },
     "execution_count": 65,
     "metadata": {},
     "output_type": "execute_result"
    }
   ],
   "source": [
    "# int(x, radix) 는 radix 진수로 표현된 문자열 x를 10진수로 변환하여 돌려준다.\n",
    "int('0xff', 16)"
   ]
  },
  {
   "cell_type": "code",
   "execution_count": null,
   "id": "f6d92dd8-c092-4348-b9ac-b7db6feb011d",
   "metadata": {},
   "outputs": [],
   "source": [
    "isinstance"
   ]
  },
  {
   "cell_type": "code",
   "execution_count": 67,
   "id": "12d3b703-fa8c-4fbd-8acd-a7920d2105f2",
   "metadata": {},
   "outputs": [
    {
     "data": {
      "text/plain": [
       "6"
      ]
     },
     "execution_count": 67,
     "metadata": {},
     "output_type": "execute_result"
    }
   ],
   "source": [
    "len(\"python\")    # 입력값 s의 길이를 돌려주는 함수"
   ]
  },
  {
   "cell_type": "code",
   "execution_count": 69,
   "id": "ad8f14a8-8401-4fd4-ba93-aac1d5e9558f",
   "metadata": {},
   "outputs": [
    {
     "data": {
      "text/plain": [
       "['p', 'y', 't', 'h', 'o', 'n']"
      ]
     },
     "execution_count": 69,
     "metadata": {},
     "output_type": "execute_result"
    }
   ],
   "source": [
    "list(\"python\")     # 자료를 입력받아 리스트로 만들어주는 함수"
   ]
  },
  {
   "cell_type": "code",
   "execution_count": null,
   "id": "d1989d92-3e6a-477e-b09b-68cf4139620d",
   "metadata": {},
   "outputs": [],
   "source": [
    "map(f, iterable) # f 함수와 iterable(반복가능한) 자료형을 입력으로 받는다."
   ]
  },
  {
   "cell_type": "code",
   "execution_count": 73,
   "id": "affc761b-26ff-409c-bd42-7f28160072be",
   "metadata": {},
   "outputs": [
    {
     "data": {
      "text/plain": [
       "[1, 3, 4, 5]"
      ]
     },
     "execution_count": 73,
     "metadata": {},
     "output_type": "execute_result"
    }
   ],
   "source": [
    "def positive(a) :\n",
    "    return a > 0\n",
    "list(filter(positive, [-1, 1, -2, 3, 4, 5]))"
   ]
  },
  {
   "cell_type": "code",
   "execution_count": 71,
   "id": "d05cfe49-7adc-4292-8a3b-9daaf1cc32c9",
   "metadata": {},
   "outputs": [
    {
     "data": {
      "text/plain": [
       "True"
      ]
     },
     "execution_count": 71,
     "metadata": {},
     "output_type": "execute_result"
    }
   ],
   "source": [
    "positive(2)"
   ]
  },
  {
   "cell_type": "code",
   "execution_count": 74,
   "id": "d2e64fde-98bb-40b2-963a-dd347df30c22",
   "metadata": {},
   "outputs": [
    {
     "ename": "NameError",
     "evalue": "name 'poritive' is not defined",
     "output_type": "error",
     "traceback": [
      "\u001b[1;31m---------------------------------------------------------------------------\u001b[0m",
      "\u001b[1;31mNameError\u001b[0m                                 Traceback (most recent call last)",
      "Input \u001b[1;32mIn [74]\u001b[0m, in \u001b[0;36m<cell line: 1>\u001b[1;34m()\u001b[0m\n\u001b[1;32m----> 1\u001b[0m \u001b[43mporitive\u001b[49m([\u001b[38;5;241m2\u001b[39m, \u001b[38;5;241m3\u001b[39m])\n",
      "\u001b[1;31mNameError\u001b[0m: name 'poritive' is not defined"
     ]
    }
   ],
   "source": [
    "poritive([2, 3])"
   ]
  },
  {
   "cell_type": "code",
   "execution_count": 76,
   "id": "1c717c95-2eed-4f1d-95b5-5d27f30b365a",
   "metadata": {},
   "outputs": [
    {
     "data": {
      "text/plain": [
       "[1, 2, 3, 4]"
      ]
     },
     "execution_count": 76,
     "metadata": {},
     "output_type": "execute_result"
    }
   ],
   "source": [
    "list(map(int, [1.2, 2.3, 3.0, 4]))"
   ]
  },
  {
   "cell_type": "code",
   "execution_count": null,
   "id": "0ed8efc8-7272-45b8-8146-1a876d6bba24",
   "metadata": {},
   "outputs": [],
   "source": [
    "# map 하나씩 하나씩 각각 터치해줌 요고는 데이터 양이 많을 경우 조심"
   ]
  },
  {
   "cell_type": "code",
   "execution_count": 81,
   "id": "8599ea39-0645-4e27-b3b7-7ba33c25f283",
   "metadata": {},
   "outputs": [
    {
     "name": "stdout",
     "output_type": "stream",
     "text": [
      "[1, 2, 3, -1, 5, 6, 8, 12, 15, -24]\n"
     ]
    }
   ],
   "source": [
    "# 리스트 li 의 값 중 120의 약수를 구하여라.\n",
    "num = 120\n",
    "li = [1, 2, 3, -1, 5, 6, 7, 8, 9, 0, 11, 12, 13,\n",
    "      14, 15, 16, 17, 18, 19, 0, 21, 22, 23, -24] \n",
    "\n",
    "a = []\n",
    "for i in li :\n",
    "    try :\n",
    "        if 120 % i == 0:\n",
    "            a += [i]\n",
    "    except :\n",
    "        pass\n",
    "print(a)"
   ]
  },
  {
   "cell_type": "code",
   "execution_count": 82,
   "id": "00cf0a4f-6cdd-4ced-b113-c8efef8c9904",
   "metadata": {},
   "outputs": [
    {
     "data": {
      "text/plain": [
       "6"
      ]
     },
     "execution_count": 82,
     "metadata": {},
     "output_type": "execute_result"
    }
   ],
   "source": [
    "def twice(n):\n",
    "    return 2 * n\n",
    "twice(3)"
   ]
  },
  {
   "cell_type": "code",
   "execution_count": null,
   "id": "b344ac07-fac3-4b62-a63b-4040506a6812",
   "metadata": {},
   "outputs": [],
   "source": [
    "[1, 2, 3, 4]"
   ]
  },
  {
   "cell_type": "code",
   "execution_count": 84,
   "id": "91100cfa-17c3-480e-b371-0fd261520d08",
   "metadata": {},
   "outputs": [
    {
     "data": {
      "text/plain": [
       "[2, 4, 6, 8]"
      ]
     },
     "execution_count": 84,
     "metadata": {},
     "output_type": "execute_result"
    }
   ],
   "source": [
    "list(map(twice, [1, 2, 3, 4]))"
   ]
  },
  {
   "cell_type": "code",
   "execution_count": 85,
   "id": "64a7fb93-e57b-429c-ab1f-7478f1400438",
   "metadata": {},
   "outputs": [
    {
     "data": {
      "text/plain": [
       "[2, 4, 6, 8]"
      ]
     },
     "execution_count": 85,
     "metadata": {},
     "output_type": "execute_result"
    }
   ],
   "source": [
    "list(map(lambda x : x *2, [1, 2, 3, 4]))"
   ]
  },
  {
   "cell_type": "code",
   "execution_count": 86,
   "id": "3b46a0fa-54fd-4bcf-88ea-d92f5fcae926",
   "metadata": {},
   "outputs": [
    {
     "data": {
      "text/plain": [
       "[2, 4, 6, 8]"
      ]
     },
     "execution_count": 86,
     "metadata": {},
     "output_type": "execute_result"
    }
   ],
   "source": [
    "f = lambda x :  x*2\n",
    "list(map(f,[1,2,3,4]))"
   ]
  },
  {
   "cell_type": "code",
   "execution_count": 88,
   "id": "a0e45b0c-0756-4f3e-80cc-cc5814bda134",
   "metadata": {},
   "outputs": [
    {
     "name": "stdout",
     "output_type": "stream",
     "text": [
      "10\n",
      "9\n",
      "8\n",
      "7\n",
      "6\n",
      "5\n",
      "4\n",
      "3\n",
      "2\n"
     ]
    }
   ],
   "source": [
    "for i in range(10, 1, -1) :      #오옹 range([start], stop, [step]) \n",
    "    print(i)                     # step -로 입력하면 뒤로 걸음"
   ]
  },
  {
   "cell_type": "code",
   "execution_count": 91,
   "id": "689fe5b1-de61-491e-87a0-8fb66a2cf0a8",
   "metadata": {},
   "outputs": [
    {
     "data": {
      "text/plain": [
       "3.1416"
      ]
     },
     "execution_count": 91,
     "metadata": {},
     "output_type": "execute_result"
    }
   ],
   "source": [
    "round(3.141592, 4)            # 반올림 하는 함수"
   ]
  },
  {
   "cell_type": "code",
   "execution_count": 93,
   "id": "b1061863-8f2d-48ac-b2fc-ea42ea5fe5c8",
   "metadata": {},
   "outputs": [
    {
     "data": {
      "text/plain": [
       "4"
      ]
     },
     "execution_count": 93,
     "metadata": {},
     "output_type": "execute_result"
    }
   ],
   "source": [
    "import math\n",
    "math.ceil(3.14)       # 올림"
   ]
  },
  {
   "cell_type": "code",
   "execution_count": 95,
   "id": "f123a471-2319-40e5-9408-7a839b3cf9af",
   "metadata": {},
   "outputs": [
    {
     "data": {
      "text/plain": [
       "3"
      ]
     },
     "execution_count": 95,
     "metadata": {},
     "output_type": "execute_result"
    }
   ],
   "source": [
    "math.floor(3.14)     # 내림"
   ]
  },
  {
   "cell_type": "code",
   "execution_count": 98,
   "id": "7391f8e0-dd38-478e-a200-7a61a77604bd",
   "metadata": {},
   "outputs": [],
   "source": [
    "li = [2, 1, 4, 3]\n",
    "li.sort()                # sort 정렬 얘는 저장도 해줌      sorted 저장 X"
   ]
  },
  {
   "cell_type": "code",
   "execution_count": 99,
   "id": "295b1895-5d83-45d8-989a-460ac15b95b0",
   "metadata": {},
   "outputs": [
    {
     "data": {
      "text/plain": [
       "[1, 2, 3, 4]"
      ]
     },
     "execution_count": 99,
     "metadata": {},
     "output_type": "execute_result"
    }
   ],
   "source": [
    "li"
   ]
  },
  {
   "cell_type": "code",
   "execution_count": 101,
   "id": "70a6a029-9c91-456d-bfe5-f366f4be9cce",
   "metadata": {},
   "outputs": [
    {
     "data": {
      "text/plain": [
       "[1, 2, 3, 4]"
      ]
     },
     "execution_count": 101,
     "metadata": {},
     "output_type": "execute_result"
    }
   ],
   "source": [
    "li = sorted([2, 1, 4, 3])\n",
    "li                         # 리스트"
   ]
  },
  {
   "cell_type": "code",
   "execution_count": null,
   "id": "65e76853-8663-4c36-be13-d1167ba7e414",
   "metadata": {},
   "outputs": [],
   "source": [
    "# enumerate, [filter, map,] zip"
   ]
  },
  {
   "cell_type": "code",
   "execution_count": 102,
   "id": "8c6a31a7-052e-4112-834a-68ba953cd011",
   "metadata": {},
   "outputs": [
    {
     "data": {
      "text/plain": [
       "[(1, 'a', 'A'), (2, 'b', 'B'), (3, 'c', 'C'), (4, 'd', 'D')]"
      ]
     },
     "execution_count": 102,
     "metadata": {},
     "output_type": "execute_result"
    }
   ],
   "source": [
    "# zip(*iterable)\n",
    "list(zip([1, 2, 3, 4], [\"a\", \"b\", \"c\", \"d\"], [\"A\", \"B\", \"C\", \"D\"]))"
   ]
  },
  {
   "cell_type": "code",
   "execution_count": null,
   "id": "f87e1f86-fbac-4c49-8946-ed131192b510",
   "metadata": {},
   "outputs": [],
   "source": [
    "# 인덱스 번호가 같은 것 끼리 다시 묶어줌 zip"
   ]
  },
  {
   "cell_type": "code",
   "execution_count": null,
   "id": "025c688f-f5f5-46c6-996b-a0630c06f6e0",
   "metadata": {},
   "outputs": [],
   "source": [
    "# iterable : 순환 가능한, 반복 가능한\n",
    " - 리스트, 튜플, 딕셔너리, set, string(문자열), range\n",
    "\n",
    "# mutable : 수정 가능한\n",
    " - list\n",
    "# immutable : 수정 불가능한\n",
    " - tuple, string(문자열), int"
   ]
  },
  {
   "cell_type": "code",
   "execution_count": 103,
   "id": "6725c3f5-bf83-4b05-8212-b62a2ecfc963",
   "metadata": {},
   "outputs": [
    {
     "name": "stdout",
     "output_type": "stream",
     "text": [
      "p\n",
      "y\n",
      "t\n",
      "h\n",
      "o\n",
      "n\n"
     ]
    }
   ],
   "source": [
    "for i in \"python\":\n",
    "    print(i)"
   ]
  },
  {
   "cell_type": "code",
   "execution_count": 104,
   "id": "1337e61d-4162-4fa2-9357-35bc4f118db4",
   "metadata": {},
   "outputs": [
    {
     "data": {
      "text/plain": [
       "[1, 20, 3]"
      ]
     },
     "execution_count": 104,
     "metadata": {},
     "output_type": "execute_result"
    }
   ],
   "source": [
    "li = [1, 2, 3]\n",
    "li[1] = 20\n",
    "li"
   ]
  },
  {
   "cell_type": "code",
   "execution_count": 105,
   "id": "7acfa301-e91f-43ea-bd0c-a7bb996b2be0",
   "metadata": {},
   "outputs": [
    {
     "ename": "TypeError",
     "evalue": "'tuple' object does not support item assignment",
     "output_type": "error",
     "traceback": [
      "\u001b[1;31m---------------------------------------------------------------------------\u001b[0m",
      "\u001b[1;31mTypeError\u001b[0m                                 Traceback (most recent call last)",
      "Input \u001b[1;32mIn [105]\u001b[0m, in \u001b[0;36m<cell line: 2>\u001b[1;34m()\u001b[0m\n\u001b[0;32m      1\u001b[0m li \u001b[38;5;241m=\u001b[39m (\u001b[38;5;241m1\u001b[39m, \u001b[38;5;241m2\u001b[39m, \u001b[38;5;241m3\u001b[39m)\n\u001b[1;32m----> 2\u001b[0m li[\u001b[38;5;241m1\u001b[39m] \u001b[38;5;241m=\u001b[39m \u001b[38;5;241m20\u001b[39m\n\u001b[0;32m      3\u001b[0m li\n",
      "\u001b[1;31mTypeError\u001b[0m: 'tuple' object does not support item assignment"
     ]
    }
   ],
   "source": [
    "li = (1, 2, 3)      # << 튜플은 수정 안됨\n",
    "li[1] = 20\n",
    "li"
   ]
  },
  {
   "cell_type": "code",
   "execution_count": 108,
   "id": "2f630777-35ec-4a54-9dd9-01510de73ca5",
   "metadata": {},
   "outputs": [
    {
     "ename": "TypeError",
     "evalue": "'str' object does not support item assignment",
     "output_type": "error",
     "traceback": [
      "\u001b[1;31m---------------------------------------------------------------------------\u001b[0m",
      "\u001b[1;31mTypeError\u001b[0m                                 Traceback (most recent call last)",
      "Input \u001b[1;32mIn [108]\u001b[0m, in \u001b[0;36m<cell line: 2>\u001b[1;34m()\u001b[0m\n\u001b[0;32m      1\u001b[0m string \u001b[38;5;241m=\u001b[39m \u001b[38;5;124m\"\u001b[39m\u001b[38;5;124mHello\u001b[39m\u001b[38;5;124m\"\u001b[39m\n\u001b[1;32m----> 2\u001b[0m string[\u001b[38;5;241m1\u001b[39m] \u001b[38;5;241m=\u001b[39m \u001b[38;5;124m\"\u001b[39m\u001b[38;5;124mE\u001b[39m\u001b[38;5;124m\"\u001b[39m\n",
      "\u001b[1;31mTypeError\u001b[0m: 'str' object does not support item assignment"
     ]
    }
   ],
   "source": [
    "string = \"Hello\"\n",
    "string[1] = \"E\"            # 문자는 안됨 수정 불가능한"
   ]
  },
  {
   "cell_type": "markdown",
   "id": "0d61665d-20d4-4e88-9b79-34e23ac6b5cc",
   "metadata": {},
   "source": [
    "# 외장함수"
   ]
  },
  {
   "cell_type": "markdown",
   "id": "70515373-c2be-4996-8fe0-c29215a430ba",
   "metadata": {},
   "source": [
    "## sys"
   ]
  },
  {
   "cell_type": "code",
   "execution_count": 110,
   "id": "c99212ec-d183-4516-afbf-45ee3ed2a8f8",
   "metadata": {},
   "outputs": [
    {
     "data": {
      "text/plain": [
       "['C:\\\\Users\\\\admin',\n",
       " 'C:\\\\Users\\\\admin\\\\anaconda3\\\\python39.zip',\n",
       " 'C:\\\\Users\\\\admin\\\\anaconda3\\\\DLLs',\n",
       " 'C:\\\\Users\\\\admin\\\\anaconda3\\\\lib',\n",
       " 'C:\\\\Users\\\\admin\\\\anaconda3',\n",
       " '',\n",
       " 'C:\\\\Users\\\\admin\\\\anaconda3\\\\lib\\\\site-packages',\n",
       " 'C:\\\\Users\\\\admin\\\\anaconda3\\\\lib\\\\site-packages\\\\win32',\n",
       " 'C:\\\\Users\\\\admin\\\\anaconda3\\\\lib\\\\site-packages\\\\win32\\\\lib',\n",
       " 'C:\\\\Users\\\\admin\\\\anaconda3\\\\lib\\\\site-packages\\\\Pythonwin']"
      ]
     },
     "execution_count": 110,
     "metadata": {},
     "output_type": "execute_result"
    }
   ],
   "source": [
    "import sys\n",
    "sys.argv\n",
    "sys.path"
   ]
  },
  {
   "cell_type": "code",
   "execution_count": 12,
   "id": "94537e75-9a84-4bb3-9ef6-09be2518c3ca",
   "metadata": {},
   "outputs": [
    {
     "ename": "NameError",
     "evalue": "name 'sys' is not defined",
     "output_type": "error",
     "traceback": [
      "\u001b[1;31m---------------------------------------------------------------------------\u001b[0m",
      "\u001b[1;31mNameError\u001b[0m                                 Traceback (most recent call last)",
      "Input \u001b[1;32mIn [12]\u001b[0m, in \u001b[0;36m<cell line: 1>\u001b[1;34m()\u001b[0m\n\u001b[1;32m----> 1\u001b[0m \u001b[43msys\u001b[49m\u001b[38;5;241m.\u001b[39mpath\u001b[38;5;241m.\u001b[39mappend(\u001b[38;5;124m\"\u001b[39m\u001b[38;5;124mC:/\u001b[39m\u001b[38;5;124m\"\u001b[39m)\n",
      "\u001b[1;31mNameError\u001b[0m: name 'sys' is not defined"
     ]
    }
   ],
   "source": [
    "sys.path.append(\"C:/\")"
   ]
  },
  {
   "cell_type": "markdown",
   "id": "6380b3f2-bc53-44ea-b16f-6c282505ea45",
   "metadata": {},
   "source": [
    "- pickle"
   ]
  },
  {
   "cell_type": "code",
   "execution_count": 112,
   "id": "fd9d9c01-68df-4906-ba5c-122bdca874f0",
   "metadata": {},
   "outputs": [],
   "source": [
    "import pickle\n",
    "data = [1, 2, 3]\n",
    "\n",
    "with open(\"test.pickle\", mode=\"wb\") as f :\n",
    "    pickle.dump(data, f)"
   ]
  },
  {
   "cell_type": "code",
   "execution_count": 113,
   "id": "582c3b94-bc22-4312-907f-5b604f88e105",
   "metadata": {},
   "outputs": [
    {
     "name": "stdout",
     "output_type": "stream",
     "text": [
      "[1, 2, 3]\n"
     ]
    }
   ],
   "source": [
    "with open(\"test.pickle\", mode=\"rb\") as f :\n",
    "    data = pickle.load(f)\n",
    "print(data)"
   ]
  },
  {
   "cell_type": "code",
   "execution_count": null,
   "id": "647267c8-6221-49ee-9928-393d76dddb00",
   "metadata": {},
   "outputs": [],
   "source": [
    "# pickle 데이터 가진 그대로 저장했다가 고대로 풀어줌"
   ]
  },
  {
   "cell_type": "markdown",
   "id": "a45a478f-a21f-4592-bc59-f589c70d8afc",
   "metadata": {},
   "source": [
    "- os"
   ]
  },
  {
   "cell_type": "code",
   "execution_count": 3,
   "id": "8babc7eb-4701-483e-8e23-876c56f57653",
   "metadata": {},
   "outputs": [],
   "source": [
    "import os"
   ]
  },
  {
   "cell_type": "code",
   "execution_count": 180,
   "id": "6100f653-f855-4c34-ad92-a9ac381d8f57",
   "metadata": {},
   "outputs": [
    {
     "data": {
      "text/plain": [
       "'C:\\\\py'"
      ]
     },
     "execution_count": 180,
     "metadata": {},
     "output_type": "execute_result"
    }
   ],
   "source": [
    "os.getcwd()"
   ]
  },
  {
   "cell_type": "code",
   "execution_count": 181,
   "id": "4e72ea28-4fe9-43bf-8058-16ab32924227",
   "metadata": {},
   "outputs": [],
   "source": [
    "os.chdir(\"C:/\")       # 워킹디렉토리로 지정"
   ]
  },
  {
   "cell_type": "code",
   "execution_count": 182,
   "id": "f9934939-eea0-4a61-9b28-1aeeb4de178e",
   "metadata": {},
   "outputs": [
    {
     "data": {
      "text/plain": [
       "'C:\\\\'"
      ]
     },
     "execution_count": 182,
     "metadata": {},
     "output_type": "execute_result"
    }
   ],
   "source": [
    "os.getcwd()"
   ]
  },
  {
   "cell_type": "code",
   "execution_count": null,
   "id": "b18daad6-d2cd-4efe-8fbd-6244ce94ae53",
   "metadata": {},
   "outputs": [],
   "source": [
    "os.mkdir()    #디렉토리 메이크 만들기\n",
    "os.rmdir()    #디렉토리 리무브 지우기\n",
    "os.remove"
   ]
  },
  {
   "cell_type": "markdown",
   "id": "71e7ccf5-14dc-4528-876e-ea0fc672b1da",
   "metadata": {},
   "source": [
    "1. PY 라는 디렉토리를 만듭시다.\n",
    "2. PY 디렉토리를 워킹디렉토리로 지정합시다.\n",
    "3. 잘 지정되었는지 워킹디렉토리를 확인합시다.\n",
    "4. 1, 2, 3, 4, 5, ..., 10, 가 들어있는 number.txt를 저장\n",
    "5. number.txt를 지웁니다.  << os.remove(\"파일이름\")\n",
    "6. 워킹디렉토리를 C:/Users/admin 으로 바꿉니다.\n",
    "7. PY 디렉토리를 지웁니다."
   ]
  },
  {
   "cell_type": "code",
   "execution_count": 42,
   "id": "7027cacc-1f76-426a-a96a-6459ac0be914",
   "metadata": {},
   "outputs": [],
   "source": [
    "os.mkdir(\"C:/py\")"
   ]
  },
  {
   "cell_type": "code",
   "execution_count": 43,
   "id": "06708468-e85b-47dd-99d2-0916636e038d",
   "metadata": {},
   "outputs": [],
   "source": [
    "os.chdir(\"C:/py\")"
   ]
  },
  {
   "cell_type": "code",
   "execution_count": 183,
   "id": "db005d47-fd96-448c-aca3-cc24d9ad5b53",
   "metadata": {},
   "outputs": [
    {
     "data": {
      "text/plain": [
       "'C:\\\\'"
      ]
     },
     "execution_count": 183,
     "metadata": {},
     "output_type": "execute_result"
    }
   ],
   "source": [
    "os.getcwd()"
   ]
  },
  {
   "cell_type": "code",
   "execution_count": 47,
   "id": "9562a013-d3c6-43dc-bf36-1f9cec39927c",
   "metadata": {},
   "outputs": [],
   "source": [
    "with open(\"number.txt\", mode = \"w\") as f:\n",
    "    for i in range(1, 11):\n",
    "        f.write(f'{i}\\n')"
   ]
  },
  {
   "cell_type": "code",
   "execution_count": 49,
   "id": "552fab9d-4691-452d-900c-7a96bfd9e980",
   "metadata": {},
   "outputs": [
    {
     "name": "stdout",
     "output_type": "stream",
     "text": [
      "1\n",
      "2\n",
      "3\n",
      "4\n",
      "5\n",
      "6\n",
      "7\n",
      "8\n",
      "9\n",
      "10\n"
     ]
    }
   ],
   "source": [
    "with open(\"number.txt\", \"r\") as f:\n",
    "    lines = f.readlines()\n",
    "    for line in lines :\n",
    "        print(line, end=\"\")"
   ]
  },
  {
   "cell_type": "code",
   "execution_count": 37,
   "id": "185901a1-7fbc-43bf-9be5-17340db9fda8",
   "metadata": {},
   "outputs": [],
   "source": [
    "os.remove(\"number.txt\")"
   ]
  },
  {
   "cell_type": "code",
   "execution_count": 184,
   "id": "80d1ec18-9199-46f1-8306-bbdd07621549",
   "metadata": {},
   "outputs": [],
   "source": [
    "os.chdir(\"C:/Users/admin\")"
   ]
  },
  {
   "cell_type": "code",
   "execution_count": 178,
   "id": "73773f71-dfa7-4f09-9ff7-75fabca3c098",
   "metadata": {},
   "outputs": [
    {
     "ename": "PermissionError",
     "evalue": "[WinError 32] 다른 프로세스가 파일을 사용 중이기 때문에 프로세스가 액세스 할 수 없습니다: 'C:/py'",
     "output_type": "error",
     "traceback": [
      "\u001b[1;31m---------------------------------------------------------------------------\u001b[0m",
      "\u001b[1;31mPermissionError\u001b[0m                           Traceback (most recent call last)",
      "Input \u001b[1;32mIn [178]\u001b[0m, in \u001b[0;36m<cell line: 1>\u001b[1;34m()\u001b[0m\n\u001b[1;32m----> 1\u001b[0m \u001b[43mos\u001b[49m\u001b[38;5;241;43m.\u001b[39;49m\u001b[43mrmdir\u001b[49m\u001b[43m(\u001b[49m\u001b[38;5;124;43m\"\u001b[39;49m\u001b[38;5;124;43mC:/py\u001b[39;49m\u001b[38;5;124;43m\"\u001b[39;49m\u001b[43m)\u001b[49m\n",
      "\u001b[1;31mPermissionError\u001b[0m: [WinError 32] 다른 프로세스가 파일을 사용 중이기 때문에 프로세스가 액세스 할 수 없습니다: 'C:/py'"
     ]
    }
   ],
   "source": [
    "os.rmdir(\"C:/py\")"
   ]
  },
  {
   "cell_type": "code",
   "execution_count": 179,
   "id": "d7886135-7ea1-4b3c-835b-16f88b17e2f6",
   "metadata": {},
   "outputs": [
    {
     "data": {
      "text/plain": [
       "'C:\\\\py'"
      ]
     },
     "execution_count": 179,
     "metadata": {},
     "output_type": "execute_result"
    }
   ],
   "source": [
    "os.getcwd()"
   ]
  },
  {
   "cell_type": "markdown",
   "id": "c0c9e125-9a3b-494d-ab40-1452d75cf8ac",
   "metadata": {},
   "source": [
    "\"number.txt\" 파일을 \"number1.txt\" 이름으로 복사합니다\n",
    "shutil << 파일을 복사하는 파이썬 모듈\n",
    "shutil(원래꺼, 복사할거)"
   ]
  },
  {
   "cell_type": "code",
   "execution_count": 50,
   "id": "af80603d-c2b7-419f-80ec-714bb3781051",
   "metadata": {},
   "outputs": [],
   "source": [
    "import shutil"
   ]
  },
  {
   "cell_type": "code",
   "execution_count": 51,
   "id": "8fedf5b7-5291-46df-8431-de5db4f9b94d",
   "metadata": {},
   "outputs": [
    {
     "data": {
      "text/plain": [
       "'number1.txt'"
      ]
     },
     "execution_count": 51,
     "metadata": {},
     "output_type": "execute_result"
    }
   ],
   "source": [
    "shutil.copy(\"number.txt\", \"number1.txt\")"
   ]
  },
  {
   "cell_type": "markdown",
   "id": "a886cd1b-9d74-4bcd-a951-8db78d8c0932",
   "metadata": {},
   "source": [
    "- glob"
   ]
  },
  {
   "cell_type": "markdown",
   "id": "23dcf20b-a00e-4ae6-b879-6fe0bf59c28f",
   "metadata": {},
   "source": [
    "디렉터리 안의 파일들을 읽어줌"
   ]
  },
  {
   "cell_type": "code",
   "execution_count": 52,
   "id": "0f7b9eff-6bfc-4028-bf1c-f34874fcd5e9",
   "metadata": {},
   "outputs": [],
   "source": [
    "import glob"
   ]
  },
  {
   "cell_type": "code",
   "execution_count": 56,
   "id": "6f919f3b-1243-4943-8d82-dc55365a2a17",
   "metadata": {
    "collapsed": true,
    "jupyter": {
     "outputs_hidden": true
    },
    "tags": []
   },
   "outputs": [
    {
     "data": {
      "text/plain": [
       "['C:/Users/admin\\\\3D Objects',\n",
       " 'C:/Users/admin\\\\anaconda3',\n",
       " 'C:/Users/admin\\\\AppData',\n",
       " 'C:/Users/admin\\\\Application Data',\n",
       " 'C:/Users/admin\\\\Contacts',\n",
       " 'C:/Users/admin\\\\Cookies',\n",
       " 'C:/Users/admin\\\\Desktop',\n",
       " 'C:/Users/admin\\\\dir',\n",
       " 'C:/Users/admin\\\\Documents',\n",
       " 'C:/Users/admin\\\\Downloads',\n",
       " 'C:/Users/admin\\\\facto.txt',\n",
       " 'C:/Users/admin\\\\Favorites',\n",
       " 'C:/Users/admin\\\\IntelGraphicsProfiles',\n",
       " 'C:/Users/admin\\\\Links',\n",
       " 'C:/Users/admin\\\\Local Settings',\n",
       " 'C:/Users/admin\\\\mod1.py',\n",
       " 'C:/Users/admin\\\\mod2.path',\n",
       " 'C:/Users/admin\\\\Music',\n",
       " 'C:/Users/admin\\\\My Documents',\n",
       " 'C:/Users/admin\\\\myfile.txt',\n",
       " 'C:/Users/admin\\\\NetHood',\n",
       " 'C:/Users/admin\\\\NTUSER.DAT',\n",
       " 'C:/Users/admin\\\\ntuser.dat.LOG1',\n",
       " 'C:/Users/admin\\\\ntuser.dat.LOG2',\n",
       " 'C:/Users/admin\\\\NTUSER.DAT{53b39e88-18c4-11ea-a811-000d3aa4692b}.TM.blf',\n",
       " 'C:/Users/admin\\\\NTUSER.DAT{53b39e88-18c4-11ea-a811-000d3aa4692b}.TMContainer00000000000000000001.regtrans-ms',\n",
       " 'C:/Users/admin\\\\NTUSER.DAT{53b39e88-18c4-11ea-a811-000d3aa4692b}.TMContainer00000000000000000002.regtrans-ms',\n",
       " 'C:/Users/admin\\\\ntuser.ini',\n",
       " 'C:/Users/admin\\\\OneDrive',\n",
       " 'C:/Users/admin\\\\Pictures',\n",
       " 'C:/Users/admin\\\\PrintHood',\n",
       " 'C:/Users/admin\\\\python',\n",
       " 'C:/Users/admin\\\\python_Pandas.ipynb',\n",
       " 'C:/Users/admin\\\\python_Review.ipynb',\n",
       " 'C:/Users/admin\\\\python_Start.ipynb',\n",
       " 'C:/Users/admin\\\\Recent',\n",
       " 'C:/Users/admin\\\\Saved Games',\n",
       " 'C:/Users/admin\\\\Searches',\n",
       " 'C:/Users/admin\\\\SendTo',\n",
       " 'C:/Users/admin\\\\Templates',\n",
       " 'C:/Users/admin\\\\test.pickle',\n",
       " 'C:/Users/admin\\\\test.txt',\n",
       " 'C:/Users/admin\\\\test1.pickle',\n",
       " 'C:/Users/admin\\\\thanks.txt',\n",
       " 'C:/Users/admin\\\\thanks2.txt',\n",
       " 'C:/Users/admin\\\\Untitled.ipynb',\n",
       " 'C:/Users/admin\\\\Untitled1.ipynb',\n",
       " 'C:/Users/admin\\\\Untitled2.ipynb',\n",
       " 'C:/Users/admin\\\\Videos',\n",
       " 'C:/Users/admin\\\\시작 메뉴']"
      ]
     },
     "execution_count": 56,
     "metadata": {},
     "output_type": "execute_result"
    }
   ],
   "source": [
    "glob.glob(\"C:/Users/admin/*\")    # *  파일 전부 표시"
   ]
  },
  {
   "cell_type": "code",
   "execution_count": 57,
   "id": "d53d2b7e-1e1e-4627-b9c2-2c02a19317e6",
   "metadata": {},
   "outputs": [
    {
     "data": {
      "text/plain": [
       "['C:/Users/admin\\\\facto.txt',\n",
       " 'C:/Users/admin\\\\myfile.txt',\n",
       " 'C:/Users/admin\\\\test.txt',\n",
       " 'C:/Users/admin\\\\thanks.txt',\n",
       " 'C:/Users/admin\\\\thanks2.txt']"
      ]
     },
     "execution_count": 57,
     "metadata": {},
     "output_type": "execute_result"
    }
   ],
   "source": [
    "glob.glob(\"C:/Users/admin/*.txt\")    # *.txt   텍스트 파일만"
   ]
  },
  {
   "cell_type": "markdown",
   "id": "9759e2ff-c6a1-44f2-9459-4bd4ba6def00",
   "metadata": {},
   "source": [
    "- time"
   ]
  },
  {
   "cell_type": "code",
   "execution_count": 58,
   "id": "98ce8f0a-f34c-411c-b96f-c67f91fe3e80",
   "metadata": {},
   "outputs": [],
   "source": [
    "import time"
   ]
  },
  {
   "cell_type": "code",
   "execution_count": 60,
   "id": "1825fa95-866b-4cbe-a137-69b5d2b4e735",
   "metadata": {},
   "outputs": [
    {
     "data": {
      "text/plain": [
       "1655862270.236122"
      ]
     },
     "execution_count": 60,
     "metadata": {},
     "output_type": "execute_result"
    }
   ],
   "source": [
    "time.time()      #1970년 1월 1일 0시 0분 0초 기준으로 현재시간 기준 몇초 지났는지 보여줌"
   ]
  },
  {
   "cell_type": "code",
   "execution_count": 64,
   "id": "b8b3b9da-4cd7-4c68-92b1-ca030d8360c8",
   "metadata": {},
   "outputs": [
    {
     "data": {
      "text/plain": [
       "27597706.076244686"
      ]
     },
     "execution_count": 64,
     "metadata": {},
     "output_type": "execute_result"
    }
   ],
   "source": [
    "time.time()/60   #분"
   ]
  },
  {
   "cell_type": "code",
   "execution_count": 65,
   "id": "d2636bd7-92ca-4174-8a72-0048f0e7bcdd",
   "metadata": {},
   "outputs": [
    {
     "data": {
      "text/plain": [
       "459961.7695594577"
      ]
     },
     "execution_count": 65,
     "metadata": {},
     "output_type": "execute_result"
    }
   ],
   "source": [
    "time.time()/60  /60   #시간"
   ]
  },
  {
   "cell_type": "code",
   "execution_count": 66,
   "id": "8d3c1c7c-cf05-45f8-ac99-e5e66b4f60a1",
   "metadata": {},
   "outputs": [
    {
     "data": {
      "text/plain": [
       "19165.07378058852"
      ]
     },
     "execution_count": 66,
     "metadata": {},
     "output_type": "execute_result"
    }
   ],
   "source": [
    "time.time()/60  /60   /24    #하루"
   ]
  },
  {
   "cell_type": "code",
   "execution_count": 67,
   "id": "78a19600-4813-4db5-a145-54fcb9729498",
   "metadata": {},
   "outputs": [
    {
     "data": {
      "text/plain": [
       "52.50705173187198"
      ]
     },
     "execution_count": 67,
     "metadata": {},
     "output_type": "execute_result"
    }
   ],
   "source": [
    "time.time()/60  /60   /24   / 365   #년"
   ]
  },
  {
   "cell_type": "code",
   "execution_count": 68,
   "id": "b8b86413-66a0-4bb0-a714-3d7293bb41f2",
   "metadata": {},
   "outputs": [
    {
     "data": {
      "text/plain": [
       "time.struct_time(tm_year=2022, tm_mon=6, tm_mday=22, tm_hour=10, tm_min=48, tm_sec=34, tm_wday=2, tm_yday=173, tm_isdst=0)"
      ]
     },
     "execution_count": 68,
     "metadata": {},
     "output_type": "execute_result"
    }
   ],
   "source": [
    "time.localtime(time.time())"
   ]
  },
  {
   "cell_type": "code",
   "execution_count": 69,
   "id": "ad6d560d-e9fe-4d26-adfc-ba73b64c90d0",
   "metadata": {},
   "outputs": [
    {
     "data": {
      "text/plain": [
       "'Wed Jun 22 10:48:46 2022'"
      ]
     },
     "execution_count": 69,
     "metadata": {},
     "output_type": "execute_result"
    }
   ],
   "source": [
    "time.ctime()"
   ]
  },
  {
   "cell_type": "code",
   "execution_count": null,
   "id": "c2925ca7-750b-4643-ba00-1ce4a8d9d84b",
   "metadata": {},
   "outputs": [],
   "source": [
    "time.sleep()  # << 일정한 시간 간격을 두고 루프를 실행할 수 있음"
   ]
  },
  {
   "cell_type": "code",
   "execution_count": 71,
   "id": "052d9d1d-47f2-4fed-95ac-494b4b775b7e",
   "metadata": {},
   "outputs": [
    {
     "name": "stdout",
     "output_type": "stream",
     "text": [
      "0\n",
      "1\n",
      "2\n",
      "3\n",
      "4\n",
      "5\n",
      "6\n",
      "7\n",
      "8\n",
      "9\n"
     ]
    }
   ],
   "source": [
    "for i in range(10):\n",
    "    print(i)\n",
    "    time.sleep(1)"
   ]
  },
  {
   "cell_type": "code",
   "execution_count": null,
   "id": "42da1ac9-948a-43df-b3d0-7f564144918e",
   "metadata": {},
   "outputs": [],
   "source": [
    "# strftime << 포맷 코드(%x, %m 등) 사용하여 시간 출력\n",
    "# 포맷코드 구글에 검색해서 사용. 외울수 없따구"
   ]
  },
  {
   "cell_type": "code",
   "execution_count": 72,
   "id": "cd343563-0d8b-4723-929a-9d97d65118f9",
   "metadata": {},
   "outputs": [
    {
     "data": {
      "text/plain": [
       "'06/22/22'"
      ]
     },
     "execution_count": 72,
     "metadata": {},
     "output_type": "execute_result"
    }
   ],
   "source": [
    "time.strftime(\"%x\", time.localtime(time.time()))"
   ]
  },
  {
   "cell_type": "code",
   "execution_count": 73,
   "id": "98b9c524-5b51-46de-904e-bc9fae05f045",
   "metadata": {},
   "outputs": [
    {
     "data": {
      "text/plain": [
       "'Wed Jun 22 11:12:33 2022'"
      ]
     },
     "execution_count": 73,
     "metadata": {},
     "output_type": "execute_result"
    }
   ],
   "source": [
    "time.strftime(\"%c\", time.localtime(time.time()))"
   ]
  },
  {
   "cell_type": "code",
   "execution_count": 76,
   "id": "0ac8ea6c-be28-407a-b110-702dc577f9b3",
   "metadata": {},
   "outputs": [
    {
     "data": {
      "text/plain": [
       "'06 15'"
      ]
     },
     "execution_count": 76,
     "metadata": {},
     "output_type": "execute_result"
    }
   ],
   "source": [
    "time.strftime(\"%m %M\", time.localtime(time.time()))"
   ]
  },
  {
   "cell_type": "code",
   "execution_count": 83,
   "id": "e11d108c-484f-40d2-89af-3620577c98b3",
   "metadata": {},
   "outputs": [
    {
     "data": {
      "text/plain": [
       "'2022, Jun, 22, 11:17:47'"
      ]
     },
     "execution_count": 83,
     "metadata": {},
     "output_type": "execute_result"
    }
   ],
   "source": [
    "time.strftime(\"%Y, %b, %d, %I:%M:%S\", time.localtime(time.time()))"
   ]
  },
  {
   "cell_type": "code",
   "execution_count": 85,
   "id": "928d5cf4-8003-4e30-8109-22545d85a494",
   "metadata": {},
   "outputs": [
    {
     "data": {
      "text/plain": [
       "'2022년, Jun, 22일, 11시 18분 27초'"
      ]
     },
     "execution_count": 85,
     "metadata": {},
     "output_type": "execute_result"
    }
   ],
   "source": [
    "time.strftime(\"%Y년, %b, %d일, %I시 %M분 %S초\", time.localtime(time.time()))"
   ]
  },
  {
   "cell_type": "code",
   "execution_count": 86,
   "id": "0365792c-3fa0-4c46-956a-c850aef5fa02",
   "metadata": {},
   "outputs": [],
   "source": [
    "import calendar"
   ]
  },
  {
   "cell_type": "code",
   "execution_count": 92,
   "id": "bddc5769-27ee-44ea-9bff-6f6771acbfe7",
   "metadata": {
    "collapsed": true,
    "jupyter": {
     "outputs_hidden": true
    },
    "tags": []
   },
   "outputs": [
    {
     "name": "stdout",
     "output_type": "stream",
     "text": [
      "                                  2022\n",
      "\n",
      "      January                   February                   March\n",
      "Mo Tu We Th Fr Sa Su      Mo Tu We Th Fr Sa Su      Mo Tu We Th Fr Sa Su\n",
      "                1  2          1  2  3  4  5  6          1  2  3  4  5  6\n",
      " 3  4  5  6  7  8  9       7  8  9 10 11 12 13       7  8  9 10 11 12 13\n",
      "10 11 12 13 14 15 16      14 15 16 17 18 19 20      14 15 16 17 18 19 20\n",
      "17 18 19 20 21 22 23      21 22 23 24 25 26 27      21 22 23 24 25 26 27\n",
      "24 25 26 27 28 29 30      28                        28 29 30 31\n",
      "31\n",
      "\n",
      "       April                      May                       June\n",
      "Mo Tu We Th Fr Sa Su      Mo Tu We Th Fr Sa Su      Mo Tu We Th Fr Sa Su\n",
      "             1  2  3                         1             1  2  3  4  5\n",
      " 4  5  6  7  8  9 10       2  3  4  5  6  7  8       6  7  8  9 10 11 12\n",
      "11 12 13 14 15 16 17       9 10 11 12 13 14 15      13 14 15 16 17 18 19\n",
      "18 19 20 21 22 23 24      16 17 18 19 20 21 22      20 21 22 23 24 25 26\n",
      "25 26 27 28 29 30         23 24 25 26 27 28 29      27 28 29 30\n",
      "                          30 31\n",
      "\n",
      "        July                     August                  September\n",
      "Mo Tu We Th Fr Sa Su      Mo Tu We Th Fr Sa Su      Mo Tu We Th Fr Sa Su\n",
      "             1  2  3       1  2  3  4  5  6  7                1  2  3  4\n",
      " 4  5  6  7  8  9 10       8  9 10 11 12 13 14       5  6  7  8  9 10 11\n",
      "11 12 13 14 15 16 17      15 16 17 18 19 20 21      12 13 14 15 16 17 18\n",
      "18 19 20 21 22 23 24      22 23 24 25 26 27 28      19 20 21 22 23 24 25\n",
      "25 26 27 28 29 30 31      29 30 31                  26 27 28 29 30\n",
      "\n",
      "      October                   November                  December\n",
      "Mo Tu We Th Fr Sa Su      Mo Tu We Th Fr Sa Su      Mo Tu We Th Fr Sa Su\n",
      "                1  2          1  2  3  4  5  6                1  2  3  4\n",
      " 3  4  5  6  7  8  9       7  8  9 10 11 12 13       5  6  7  8  9 10 11\n",
      "10 11 12 13 14 15 16      14 15 16 17 18 19 20      12 13 14 15 16 17 18\n",
      "17 18 19 20 21 22 23      21 22 23 24 25 26 27      19 20 21 22 23 24 25\n",
      "24 25 26 27 28 29 30      28 29 30                  26 27 28 29 30 31\n",
      "31\n",
      "\n"
     ]
    }
   ],
   "source": [
    "print(calendar.calendar(2022))"
   ]
  },
  {
   "cell_type": "code",
   "execution_count": 93,
   "id": "c315475c-2f9d-47a9-b2c5-91edf964c5cd",
   "metadata": {},
   "outputs": [
    {
     "name": "stdout",
     "output_type": "stream",
     "text": [
      "     July 2022\n",
      "Mo Tu We Th Fr Sa Su\n",
      "             1  2  3\n",
      " 4  5  6  7  8  9 10\n",
      "11 12 13 14 15 16 17\n",
      "18 19 20 21 22 23 24\n",
      "25 26 27 28 29 30 31\n",
      "None\n"
     ]
    }
   ],
   "source": [
    "print(calendar.prmonth(2022, 7))"
   ]
  },
  {
   "cell_type": "code",
   "execution_count": 95,
   "id": "a391e729-aac7-4837-a3d8-6e72f0f533d1",
   "metadata": {},
   "outputs": [
    {
     "data": {
      "text/plain": [
       "2"
      ]
     },
     "execution_count": 95,
     "metadata": {},
     "output_type": "execute_result"
    }
   ],
   "source": [
    "calendar.weekday(2022, 6, 22)"
   ]
  },
  {
   "cell_type": "markdown",
   "id": "209ab711-8962-45d5-9899-432c4734586e",
   "metadata": {},
   "source": [
    "Mon 0 Tue 1 Wed 2 Thu 3 Fri 4 Sat 5 Sun 6"
   ]
  },
  {
   "cell_type": "markdown",
   "id": "3b9ed75d-6f6d-42af-ae52-c770df1aed9e",
   "metadata": {},
   "source": [
    "- random"
   ]
  },
  {
   "cell_type": "code",
   "execution_count": 96,
   "id": "480c9bc6-6320-469f-9d84-4f5cdccae0a5",
   "metadata": {},
   "outputs": [],
   "source": [
    "import random"
   ]
  },
  {
   "cell_type": "code",
   "execution_count": null,
   "id": "955be7d7-056e-4f06-a671-d13044b8e834",
   "metadata": {},
   "outputs": [],
   "source": [
    "# 0 ~ 1 사이 실수 중 난수 값 랜덤"
   ]
  },
  {
   "cell_type": "code",
   "execution_count": 107,
   "id": "e8d0218c-5950-470a-9764-c981e16d9253",
   "metadata": {},
   "outputs": [
    {
     "data": {
      "text/plain": [
       "0.7473144145712863"
      ]
     },
     "execution_count": 107,
     "metadata": {},
     "output_type": "execute_result"
    }
   ],
   "source": [
    "random.random()    #진짜 랜덤"
   ]
  },
  {
   "cell_type": "code",
   "execution_count": 109,
   "id": "69a426ad-f44e-4290-b9af-47cfd9161115",
   "metadata": {},
   "outputs": [
    {
     "data": {
      "text/plain": [
       "\u001b[1;31mSignature:\u001b[0m \u001b[0mrandom\u001b[0m\u001b[1;33m.\u001b[0m\u001b[0mrandom\u001b[0m\u001b[1;33m(\u001b[0m\u001b[1;33m)\u001b[0m\u001b[1;33m\u001b[0m\u001b[1;33m\u001b[0m\u001b[0m\n",
       "\u001b[1;31mDocstring:\u001b[0m random() -> x in the interval [0, 1).\n",
       "\u001b[1;31mType:\u001b[0m      builtin_function_or_method\n"
      ]
     },
     "metadata": {},
     "output_type": "display_data"
    }
   ],
   "source": [
    "random.random?"
   ]
  },
  {
   "cell_type": "code",
   "execution_count": 108,
   "id": "2a256842-0c91-486b-930d-1ab04ba529df",
   "metadata": {},
   "outputs": [
    {
     "data": {
      "text/plain": [
       "32.360518539040115"
      ]
     },
     "execution_count": 108,
     "metadata": {},
     "output_type": "execute_result"
    }
   ],
   "source": [
    "random.random()  * 100"
   ]
  },
  {
   "cell_type": "code",
   "execution_count": 110,
   "id": "ea43d137-1217-416a-85e5-e06e75b009f8",
   "metadata": {},
   "outputs": [
    {
     "data": {
      "text/plain": [
       "\u001b[1;31mSignature:\u001b[0m \u001b[0mrandom\u001b[0m\u001b[1;33m.\u001b[0m\u001b[0mrandint\u001b[0m\u001b[1;33m(\u001b[0m\u001b[0ma\u001b[0m\u001b[1;33m,\u001b[0m \u001b[0mb\u001b[0m\u001b[1;33m)\u001b[0m\u001b[1;33m\u001b[0m\u001b[1;33m\u001b[0m\u001b[0m\n",
       "\u001b[1;31mDocstring:\u001b[0m\n",
       "Return random integer in range [a, b], including both end points.\n",
       "        \n",
       "\u001b[1;31mFile:\u001b[0m      c:\\users\\admin\\anaconda3\\lib\\random.py\n",
       "\u001b[1;31mType:\u001b[0m      method\n"
      ]
     },
     "metadata": {},
     "output_type": "display_data"
    }
   ],
   "source": [
    "random.randint?"
   ]
  },
  {
   "cell_type": "code",
   "execution_count": 111,
   "id": "a1068f69-904f-4382-b366-8b3baee0a7a7",
   "metadata": {},
   "outputs": [
    {
     "data": {
      "text/plain": [
       "5"
      ]
     },
     "execution_count": 111,
     "metadata": {},
     "output_type": "execute_result"
    }
   ],
   "source": [
    "random.randint(1, 5)   # 수를 한개만 내놓음 랜덤으로. 5도 포함"
   ]
  },
  {
   "cell_type": "code",
   "execution_count": 113,
   "id": "5e889b04-0791-42fa-bdc1-78177efe8580",
   "metadata": {},
   "outputs": [
    {
     "data": {
      "text/plain": [
       "[5, 1, 5, 4, 8]"
      ]
     },
     "execution_count": 113,
     "metadata": {},
     "output_type": "execute_result"
    }
   ],
   "source": [
    "li = []\n",
    "for i in range(5):\n",
    "    li.append(random.randint(1, 10))\n",
    "li"
   ]
  },
  {
   "cell_type": "code",
   "execution_count": 114,
   "id": "9f4e81ee-2886-459b-9d97-d224c3037b2e",
   "metadata": {},
   "outputs": [
    {
     "data": {
      "text/plain": [
       "[1, 7, 9, 2, 4]"
      ]
     },
     "execution_count": 114,
     "metadata": {},
     "output_type": "execute_result"
    }
   ],
   "source": [
    "[random.randint(1, 10) for i in range(5)]"
   ]
  },
  {
   "cell_type": "code",
   "execution_count": 115,
   "id": "8d2774ed-c22d-4082-b8da-610e626385fb",
   "metadata": {},
   "outputs": [
    {
     "data": {
      "text/plain": [
       "\u001b[1;31mSignature:\u001b[0m \u001b[0mrandom\u001b[0m\u001b[1;33m.\u001b[0m\u001b[0mchoice\u001b[0m\u001b[1;33m(\u001b[0m\u001b[0mseq\u001b[0m\u001b[1;33m)\u001b[0m\u001b[1;33m\u001b[0m\u001b[1;33m\u001b[0m\u001b[0m\n",
       "\u001b[1;31mDocstring:\u001b[0m Choose a random element from a non-empty sequence.\n",
       "\u001b[1;31mFile:\u001b[0m      c:\\users\\admin\\anaconda3\\lib\\random.py\n",
       "\u001b[1;31mType:\u001b[0m      method\n"
      ]
     },
     "metadata": {},
     "output_type": "display_data"
    }
   ],
   "source": [
    "random.choice?"
   ]
  },
  {
   "cell_type": "code",
   "execution_count": 116,
   "id": "67b2b1f8-537c-4928-a835-8a89f3b54c69",
   "metadata": {},
   "outputs": [
    {
     "data": {
      "text/plain": [
       "1"
      ]
     },
     "execution_count": 116,
     "metadata": {},
     "output_type": "execute_result"
    }
   ],
   "source": [
    "random.choice([1,2,3,4])"
   ]
  },
  {
   "cell_type": "code",
   "execution_count": 119,
   "id": "a7aedc34-fb71-4e47-bd36-91c592f5692d",
   "metadata": {},
   "outputs": [],
   "source": [
    "data = [1, 2, 3, 4, 5]\n",
    "random.shuffle(data)"
   ]
  },
  {
   "cell_type": "code",
   "execution_count": 121,
   "id": "f14ce8d8-3a95-4b1b-bd2b-4c8047c52a7d",
   "metadata": {},
   "outputs": [
    {
     "data": {
      "text/plain": [
       "[1, 3, 4, 5, 2]"
      ]
     },
     "execution_count": 121,
     "metadata": {},
     "output_type": "execute_result"
    }
   ],
   "source": [
    "data              # 파괴적 메서드? "
   ]
  },
  {
   "cell_type": "code",
   "execution_count": 126,
   "id": "9bd1367d-70a5-42b1-b8d5-f64e98297a66",
   "metadata": {},
   "outputs": [
    {
     "data": {
      "text/plain": [
       "\u001b[1;31mSignature:\u001b[0m \u001b[0mrandom\u001b[0m\u001b[1;33m.\u001b[0m\u001b[0muniform\u001b[0m\u001b[1;33m(\u001b[0m\u001b[0ma\u001b[0m\u001b[1;33m,\u001b[0m \u001b[0mb\u001b[0m\u001b[1;33m)\u001b[0m\u001b[1;33m\u001b[0m\u001b[1;33m\u001b[0m\u001b[0m\n",
       "\u001b[1;31mDocstring:\u001b[0m Get a random number in the range [a, b) or [a, b] depending on rounding.\n",
       "\u001b[1;31mFile:\u001b[0m      c:\\users\\admin\\anaconda3\\lib\\random.py\n",
       "\u001b[1;31mType:\u001b[0m      method\n"
      ]
     },
     "metadata": {},
     "output_type": "display_data"
    }
   ],
   "source": [
    "random.uniform?             # a ~ b 사이의 난수 랜덤으로 출력"
   ]
  },
  {
   "cell_type": "code",
   "execution_count": 123,
   "id": "97a32583-169b-4ab5-8bb3-6ac24878eb6a",
   "metadata": {},
   "outputs": [
    {
     "data": {
      "text/plain": [
       "1.220636464845092"
      ]
     },
     "execution_count": 123,
     "metadata": {},
     "output_type": "execute_result"
    }
   ],
   "source": [
    "random.uniform(1, 3)"
   ]
  },
  {
   "cell_type": "code",
   "execution_count": 131,
   "id": "d23da6f6-ac2c-4df6-b0e0-e2bfa2485569",
   "metadata": {},
   "outputs": [],
   "source": [
    "random.seed(3)   # 알고리즘의 시작 숫자를 정해준 것 알고리즘 동일하게 따라갈듯"
   ]
  },
  {
   "cell_type": "code",
   "execution_count": 135,
   "id": "f3658454-2441-4ae8-8d21-d007b1c591ba",
   "metadata": {},
   "outputs": [
    {
     "data": {
      "text/plain": [
       "2"
      ]
     },
     "execution_count": 135,
     "metadata": {},
     "output_type": "execute_result"
    }
   ],
   "source": [
    "random.randint(1, 5)"
   ]
  },
  {
   "cell_type": "code",
   "execution_count": 136,
   "id": "8e024d7e-77d6-408f-b0e0-60719a52edbd",
   "metadata": {},
   "outputs": [],
   "source": [
    "import webbrowser"
   ]
  },
  {
   "cell_type": "code",
   "execution_count": 137,
   "id": "98162444-ff28-4f20-9cd6-5afb62708247",
   "metadata": {},
   "outputs": [
    {
     "data": {
      "text/plain": [
       "True"
      ]
     },
     "execution_count": 137,
     "metadata": {},
     "output_type": "execute_result"
    }
   ],
   "source": [
    "webbrowser.open(\"http://google.com\")"
   ]
  },
  {
   "cell_type": "code",
   "execution_count": 138,
   "id": "bfe2c3b0-882e-48ab-b39a-96d1785bd9db",
   "metadata": {},
   "outputs": [
    {
     "data": {
      "text/plain": [
       "['C:/Users/admin\\\\mod1.py']"
      ]
     },
     "execution_count": 138,
     "metadata": {},
     "output_type": "execute_result"
    }
   ],
   "source": [
    "import glob\n",
    "glob.glob(\"C:/Users/admin/*.py\")"
   ]
  },
  {
   "cell_type": "code",
   "execution_count": 140,
   "id": "e0901d0d-bc62-48ba-91e4-097f650c760d",
   "metadata": {},
   "outputs": [
    {
     "data": {
      "text/plain": [
       "'2022/06/22 11:52:04'"
      ]
     },
     "execution_count": 140,
     "metadata": {},
     "output_type": "execute_result"
    }
   ],
   "source": [
    "import time\n",
    "time.strftime(\"%Y/%m/%d %H:%M:%S\", time.localtime(time.time()))"
   ]
  },
  {
   "cell_type": "markdown",
   "id": "d2d66e63-4f11-4516-a67c-554ce50a6e03",
   "metadata": {},
   "source": [
    "- threading\n",
    "혼자 하는 일을 여러 로봇에게 동시에 시키는것"
   ]
  },
  {
   "cell_type": "code",
   "execution_count": 143,
   "id": "c02e94a1-fde6-419e-9a47-fdbd896d306d",
   "metadata": {
    "tags": []
   },
   "outputs": [
    {
     "name": "stdout",
     "output_type": "stream",
     "text": [
      "Start\n",
      "working: 0\n",
      "working: 1\n",
      "working: 2\n",
      "working: 3\n",
      "working: 4\n",
      "working: 0\n",
      "working: 1\n",
      "working: 2\n",
      "working: 3\n",
      "working: 4\n",
      "working: 0\n",
      "working: 1\n",
      "working: 2\n",
      "working: 3\n",
      "working: 4\n",
      "working: 0\n",
      "working: 1\n",
      "working: 2\n",
      "working: 3\n",
      "working: 4\n",
      "working: 0\n",
      "working: 1\n",
      "working: 2\n",
      "working: 3\n",
      "working: 4\n",
      "End\n"
     ]
    }
   ],
   "source": [
    "def long_task():\n",
    "    for i in range(5):\n",
    "        time.sleep(1)\n",
    "        print(\"working: %s\" % i)\n",
    "print(\"Start\")\n",
    "\n",
    "for i in range(5):\n",
    "    long_task()\n",
    "print(\"End\")"
   ]
  },
  {
   "cell_type": "code",
   "execution_count": 148,
   "id": "a8292469-f993-4dc3-b9ca-1693261d6820",
   "metadata": {
    "collapsed": true,
    "jupyter": {
     "outputs_hidden": true
    },
    "tags": []
   },
   "outputs": [
    {
     "name": "stdout",
     "output_type": "stream",
     "text": [
      "Start\n",
      "End\n",
      "working: 0 \n",
      "\n",
      "working: 0 \n",
      "\n",
      "working: 0 \n",
      "\n",
      "working: 0 \n",
      "\n",
      "working: 0 \n",
      "\n",
      "working: 1 \n",
      "working: 1 \n",
      "working: 1 \n",
      "working: 1 \n",
      "\n",
      "\n",
      "\n",
      "\n",
      "working: 1 \n",
      "\n",
      "working: 2 \n",
      "\n",
      "working: 2 \n",
      "\n",
      "working: 2 \n",
      "\n",
      "working: 2 \n",
      "\n",
      "working: 2 \n",
      "\n",
      "working: 3 \n",
      "working: 3 \n",
      "working: 3 \n",
      "\n",
      "\n",
      "\n",
      "working: 3 \n",
      "\n",
      "working: 3 \n",
      "\n",
      "working: 4 \n",
      "\n",
      "working: 4 \n",
      "\n",
      "working: 4 \n",
      "\n",
      "working: 4 \n",
      "\n",
      "working: 4 \n",
      "\n"
     ]
    }
   ],
   "source": [
    "import threading\n",
    "\n",
    "def long_task():\n",
    "    for i in range(5):\n",
    "        time.sleep(1)\n",
    "        print(\"working: %s \\n\" % i)\n",
    "print(\"Start\")\n",
    "\n",
    "threads = []\n",
    "for i in range(5):\n",
    "    t = threading.Thread(target = long_task)\n",
    "    threads.append(t)\n",
    "    \n",
    "for t in threads :\n",
    "    t.start()\n",
    "    \n",
    "print(\"End\")"
   ]
  },
  {
   "cell_type": "code",
   "execution_count": 150,
   "id": "f754a62c-2e99-490c-ad98-a79740b0d4d4",
   "metadata": {
    "collapsed": true,
    "jupyter": {
     "outputs_hidden": true
    },
    "tags": []
   },
   "outputs": [
    {
     "name": "stdout",
     "output_type": "stream",
     "text": [
      "Start\n",
      "working: 0 \n",
      "working: 0 \n",
      "\n",
      "\n",
      "working: 0 \n",
      "\n",
      "working: 0 \n",
      "\n",
      "working: 0 \n",
      "\n",
      "working: 1 \n",
      "working: 1 \n",
      "\n",
      "\n",
      "working: 1 \n",
      "\n",
      "working: 1 \n",
      "working: 1 \n",
      "\n",
      "\n",
      "working: 2 \n",
      "working: 2 \n",
      "\n",
      "working: 2 \n",
      "\n",
      "\n",
      "working: 2 \n",
      "working: 2 \n",
      "\n",
      "\n",
      "working: 3 \n",
      "\n",
      "working: 3 \n",
      "\n",
      "working: 3 \n",
      "\n",
      "working: 3 \n",
      "\n",
      "working: 3 \n",
      "\n",
      "working: 4 \n",
      "working: 4 \n",
      "\n",
      "\n",
      "working: 4 \n",
      "\n",
      "working: 4 \n",
      "working: 4 \n",
      "\n",
      "\n",
      "End\n"
     ]
    }
   ],
   "source": [
    "import threading\n",
    "\n",
    "def long_task():\n",
    "    for i in range(5):\n",
    "        time.sleep(1)\n",
    "        print(\"working: %s \\n\" % i)\n",
    "print(\"Start\")\n",
    "\n",
    "threads = []\n",
    "for i in range(5):\n",
    "    t = threading.Thread(target = long_task)\n",
    "    threads.append(t)\n",
    "    \n",
    "for t in threads :\n",
    "    t.start()\n",
    "\n",
    "for t in threads :\n",
    "    t.join()  # << thread가 다 종료될 때까지 기다려라\n",
    "    \n",
    "print(\"End\")"
   ]
  },
  {
   "cell_type": "code",
   "execution_count": null,
   "id": "f75c6cf6-1a16-4d02-a390-cc42cc175c00",
   "metadata": {},
   "outputs": [],
   "source": [
    "# 구구단에서 입력받은 한개의 단만 출력하는 함수를 만들어 봅시다."
   ]
  },
  {
   "cell_type": "code",
   "execution_count": 153,
   "id": "8adaad21-248a-4367-a2ff-363049aea3d0",
   "metadata": {},
   "outputs": [],
   "source": [
    "def gugu(n):\n",
    "    for i in range(1, 10) :\n",
    "        print(f\"{n} X {i} = {n*i}\")"
   ]
  },
  {
   "cell_type": "code",
   "execution_count": 154,
   "id": "e983c74d-b152-4b62-95a3-46daae9ac5cb",
   "metadata": {},
   "outputs": [
    {
     "name": "stdout",
     "output_type": "stream",
     "text": [
      "2 X 1 = 2\n",
      "2 X 2 = 4\n",
      "2 X 3 = 6\n",
      "2 X 4 = 8\n",
      "2 X 5 = 10\n",
      "2 X 6 = 12\n",
      "2 X 7 = 14\n",
      "2 X 8 = 16\n",
      "2 X 9 = 18\n"
     ]
    }
   ],
   "source": [
    "gugu(2)"
   ]
  },
  {
   "cell_type": "code",
   "execution_count": 163,
   "id": "903a5284-7286-48ef-a18a-a7bae3b3b0e2",
   "metadata": {},
   "outputs": [],
   "source": [
    "li = []\n",
    "def gugu(n):\n",
    "    for i in range(1, 10) :\n",
    "        li.append(n*i)\n",
    "    print(li)"
   ]
  },
  {
   "cell_type": "code",
   "execution_count": 164,
   "id": "7b599264-8af8-4ee3-870c-774add13585b",
   "metadata": {},
   "outputs": [
    {
     "name": "stdout",
     "output_type": "stream",
     "text": [
      "[2, 4, 6, 8, 10, 12, 14, 16, 18]\n"
     ]
    }
   ],
   "source": [
    "gugu(2)"
   ]
  },
  {
   "cell_type": "code",
   "execution_count": 167,
   "id": "b7f1368b-78ba-413b-96d3-54728e4a893b",
   "metadata": {},
   "outputs": [
    {
     "name": "stdout",
     "output_type": "stream",
     "text": [
      "2318\n"
     ]
    }
   ],
   "source": [
    "result = 0\n",
    "for i in range(1, 100):\n",
    "    if i % 3 == 0 or i % 5 == 0:\n",
    "        result += i\n",
    "print(result)"
   ]
  },
  {
   "cell_type": "code",
   "execution_count": 172,
   "id": "7e76fdec-8ead-49f3-829f-da72653bb148",
   "metadata": {},
   "outputs": [
    {
     "data": {
      "text/plain": [
       "2318"
      ]
     },
     "execution_count": 172,
     "metadata": {},
     "output_type": "execute_result"
    }
   ],
   "source": [
    "def multi(n):\n",
    "    sum = 0\n",
    "    for i in range(n):\n",
    "        if i % 3 == 0 or i % 5 == 0 :\n",
    "            sum += i\n",
    "    return sum\n",
    "\n",
    "multi(100)"
   ]
  },
  {
   "cell_type": "code",
   "execution_count": 176,
   "id": "a3be70f2-3d81-4819-be62-5396e6edd4fa",
   "metadata": {},
   "outputs": [
    {
     "data": {
      "text/plain": [
       "3"
      ]
     },
     "execution_count": 176,
     "metadata": {},
     "output_type": "execute_result"
    }
   ],
   "source": [
    "def page(n):\n",
    "    result = (n-1) // 10\n",
    "    return result + 1\n",
    "\n",
    "page(29)"
   ]
  },
  {
   "cell_type": "code",
   "execution_count": 177,
   "id": "c3beda03-d038-4c2b-8be4-54543324deb4",
   "metadata": {},
   "outputs": [
    {
     "data": {
      "text/plain": [
       "3"
      ]
     },
     "execution_count": 177,
     "metadata": {},
     "output_type": "execute_result"
    }
   ],
   "source": [
    "def page(m, n):\n",
    "    result = (m-1) // n\n",
    "    return result + 1\n",
    "page(29, 10)"
   ]
  },
  {
   "cell_type": "markdown",
   "id": "e1820c53-1497-4bcc-9d40-9bdbdbe48940",
   "metadata": {},
   "source": [
    "- 메모장 만들기"
   ]
  },
  {
   "cell_type": "code",
   "execution_count": 189,
   "id": "c4b6b933-123e-423d-bd24-b1cc818237c6",
   "metadata": {},
   "outputs": [
    {
     "name": "stdout",
     "output_type": "stream",
     "text": [
      "-f\n",
      "C:\\Users\\admin\\AppData\\Roaming\\jupyter\\runtime\\kernel-e205c895-b5e3-4b07-acc1-a9a94f077689.json\n"
     ]
    }
   ],
   "source": [
    "import sys\n",
    "\n",
    "option = sys.argv[1]\n",
    "memo = sys.argv[2]\n",
    "\n",
    "print(option)\n",
    "print(memo)"
   ]
  },
  {
   "cell_type": "code",
   "execution_count": 193,
   "id": "e8e5c66e-c458-47c3-843b-231135ec5089",
   "metadata": {},
   "outputs": [],
   "source": [
    "with open(\"memo.txt\", \"w\")as f:\n",
    "    line = sys.argv[1]\n",
    "    f.write(line)\n",
    "    f.write(\"\\n\")\n",
    "    line = sys.argv[2]\n",
    "    f.write(line)"
   ]
  },
  {
   "cell_type": "code",
   "execution_count": 194,
   "id": "3a0d7c87-9a79-4546-9802-f1d12f3bbd9a",
   "metadata": {},
   "outputs": [],
   "source": [
    "import sys\n",
    "arg = sys.argv[1]\n",
    "if \"-a\" == arg:\n",
    "    with open('test.txt','a') as f:\n",
    "        arg = sys.argv[2]\n",
    "        f.write(arg)\n",
    "        f.write(\"\\\\n\")\n",
    "        arg = sys.argv[3]\n",
    "        f.write(arg)\n",
    "    \n",
    "else:\n",
    "    with open('test.txt','w') as f:\n",
    "        arg = sys.argv[1]\n",
    "        f.write(arg)\n",
    "        f.write(\"\\\\n\")\n",
    "        arg = sys.argv[2]\n",
    "        f.write(arg) "
   ]
  },
  {
   "cell_type": "code",
   "execution_count": null,
   "id": "696d1df4-3893-42e9-be75-f94dd66ce005",
   "metadata": {},
   "outputs": [],
   "source": [
    "# 메모장 만드는거 연습해보기"
   ]
  },
  {
   "cell_type": "code",
   "execution_count": 15,
   "id": "cd0791d9-b2f2-4876-a748-c9898e6dfe9f",
   "metadata": {},
   "outputs": [],
   "source": [
    "import os"
   ]
  },
  {
   "cell_type": "code",
   "execution_count": 16,
   "id": "56b128e8-918b-45a9-8703-95189f8fd70a",
   "metadata": {},
   "outputs": [
    {
     "data": {
      "text/plain": [
       "'C:\\\\Users\\\\admin'"
      ]
     },
     "execution_count": 16,
     "metadata": {},
     "output_type": "execute_result"
    }
   ],
   "source": [
    "os.getcwd()"
   ]
  },
  {
   "cell_type": "code",
   "execution_count": 17,
   "id": "3b3089a5-67f6-47b9-be93-ac0dd62be4a1",
   "metadata": {},
   "outputs": [
    {
     "name": "stdout",
     "output_type": "stream",
     "text": [
      " C 드라이브의 볼륨에는 이름이 없습니다.\n",
      " 볼륨 일련 번호: 8CEF-F00D\n",
      "\n",
      " C:\\Users\\admin 디렉터리\n",
      "\n",
      "2022-06-23  오전 11:18    <DIR>          .\n",
      "2022-06-23  오전 11:18    <DIR>          ..\n",
      "2022-06-17  오전 09:56    <DIR>          .conda\n",
      "2022-06-14  오후 02:12                25 .condarc\n",
      "2022-06-14  오후 02:12    <DIR>          .continuum\n",
      "2022-06-22  오후 05:19    <DIR>          .designer\n",
      "2022-06-14  오전 11:34    <DIR>          .idlerc\n",
      "2022-06-21  오후 05:23    <DIR>          .ipynb_checkpoints\n",
      "2022-06-14  오후 02:14    <DIR>          .ipython\n",
      "2022-06-14  오후 02:20    <DIR>          .jupyter\n",
      "2022-06-14  오후 03:36    <DIR>          .matplotlib\n",
      "2022-06-03  오전 03:59    <DIR>          3D Objects\n",
      "2022-06-23  오전 11:17                34 a.txt\n",
      "2022-06-14  오후 02:07    <DIR>          anaconda3\n",
      "2022-06-03  오전 03:59    <DIR>          Contacts\n",
      "2022-06-16  오후 03:41    <DIR>          Desktop\n",
      "2022-06-20  오후 03:22                 0 dir\n",
      "2022-06-16  오후 03:37    <DIR>          Documents\n",
      "2022-06-14  오후 12:35    <DIR>          Downloads\n",
      "2022-06-22  오전 10:02               100 facto.txt\n",
      "2022-06-03  오전 03:59    <DIR>          Favorites\n",
      "2022-06-03  오전 03:59    <DIR>          Links\n",
      "2022-06-22  오후 02:41                99 memo.txt\n",
      "2022-06-20  오후 03:22                 0 mod1.py\n",
      "2022-06-20  오후 03:37                 0 mod2.path\n",
      "2022-06-03  오전 03:59    <DIR>          Music\n",
      "2022-06-17  오후 04:25                35 myfile.txt\n",
      "2021-11-09  오전 11:26    <DIR>          OneDrive\n",
      "2022-06-03  오전 03:59    <DIR>          Pictures\n",
      "2022-06-22  오전 09:51    <DIR>          python\n",
      "2022-06-21  오후 05:47            14,329 python_Pandas.ipynb\n",
      "2022-06-23  오전 11:18           158,831 python_Review.ipynb\n",
      "2022-06-23  오전 10:18           438,223 python_Start.ipynb\n",
      "2022-06-03  오전 03:59    <DIR>          Saved Games\n",
      "2022-06-03  오전 03:59    <DIR>          Searches\n",
      "2022-06-22  오전 09:18                28 test.pickle\n",
      "2022-06-22  오후 02:47                99 test.txt\n",
      "2022-06-21  오후 05:18                28 test1.pickle\n",
      "2022-06-20  오후 02:14               107 thanks.txt\n",
      "2022-06-20  오후 02:12                17 thanks2.txt\n",
      "2022-06-14  오후 02:16               589 Untitled.ipynb\n",
      "2022-06-17  오전 09:21                72 Untitled1.ipynb\n",
      "2022-06-17  오전 09:57                72 Untitled2.ipynb\n",
      "2022-06-10  오후 03:15    <DIR>          Videos\n",
      "              19개 파일             612,688 바이트\n",
      "              25개 디렉터리  961,670,021,120 바이트 남음\n"
     ]
    }
   ],
   "source": [
    "ls"
   ]
  },
  {
   "cell_type": "code",
   "execution_count": 18,
   "id": "fd0c79bf-9177-478f-8615-c0d6846f7c85",
   "metadata": {},
   "outputs": [],
   "source": [
    "import glob"
   ]
  },
  {
   "cell_type": "code",
   "execution_count": 19,
   "id": "5e31c3d7-f9a5-4d3a-848c-6fd1c6e4d264",
   "metadata": {},
   "outputs": [
    {
     "data": {
      "text/plain": [
       "['a.txt',\n",
       " 'facto.txt',\n",
       " 'memo.txt',\n",
       " 'myfile.txt',\n",
       " 'test.txt',\n",
       " 'thanks.txt',\n",
       " 'thanks2.txt']"
      ]
     },
     "execution_count": 19,
     "metadata": {},
     "output_type": "execute_result"
    }
   ],
   "source": [
    "glob.glob(\"*.txt\")"
   ]
  },
  {
   "cell_type": "code",
   "execution_count": 22,
   "id": "89be7a51-8687-4d80-841f-3073d5b38b50",
   "metadata": {},
   "outputs": [
    {
     "name": "stdout",
     "output_type": "stream",
     "text": [
      "Life\tis\ttoo\tshort\n",
      "You\tneed\tpython"
     ]
    }
   ],
   "source": [
    "with open(\"a.txt\", \"r\") as f:\n",
    "    lines = f.readlines()\n",
    "    for line in lines:\n",
    "        print(line, end=\"\")"
   ]
  },
  {
   "cell_type": "code",
   "execution_count": 23,
   "id": "ddac1cf2-feb3-4507-acb0-8a67582a50d4",
   "metadata": {},
   "outputs": [],
   "source": [
    "import sys\n",
    "\n",
    "# src = sys.argv[1]\n",
    "# dst = sys.argv[2]\n",
    "\n",
    "src = \"a.txt\"\n",
    "dst = \"b.txt\"\n",
    "\n",
    "with open(src, mode = \"r\") as f :\n",
    "    lines = f.readlines()\n",
    "    with open(dst, \"w\") as fw:\n",
    "        for line in lines:\n",
    "            a = line.replace(\"\\t\",\"    \")\n",
    "            fw.write(a)"
   ]
  },
  {
   "cell_type": "code",
   "execution_count": null,
   "id": "5e0baace-929f-40a3-9e63-de295dac702b",
   "metadata": {},
   "outputs": [],
   "source": [
    "import sys\n",
    "\n",
    "src = sys.argv[1]\n",
    "dst = sys.argv[2]\n",
    "\n",
    "f = open(src)\n",
    "tab_content = f.read()\n",
    "f.close()\n",
    "space_content = tab_content.replace(\"\\t\", \" \"*4)\n",
    "print(space_content)\n"
   ]
  },
  {
   "cell_type": "code",
   "execution_count": null,
   "id": "891b1d7b-393e-4574-8db1-2fad48fabb2a",
   "metadata": {},
   "outputs": [],
   "source": [
    "import sys\n",
    "\n",
    "src = sys.argv[1]\n",
    "dst = sys.argv[2]\n",
    "\n",
    "f = open(src)\n",
    "tab_content = f.read()\n",
    "f.close()\n",
    "space_content = tab_content.replace(\"\\t\", \" \"*4)\n",
    "\n",
    "f = open(dst)\n",
    "f.write(space_content)\n",
    "f.close()"
   ]
  },
  {
   "cell_type": "code",
   "execution_count": null,
   "id": "6bd1ea55-b13b-4852-8757-44ec4c1c3b7b",
   "metadata": {},
   "outputs": [],
   "source": [
    "f = open(src)\n",
    "tab_content = f.read()\n",
    "f.close()\n",
    "space_content = tab_content.replace(\"\\t\", \" \"*4)\n",
    "\n",
    "\n",
    "f = open(dst)\n",
    "f.write(space_content)\n",
    "f.close()"
   ]
  },
  {
   "cell_type": "markdown",
   "id": "0f890d4a-77e9-4286-978c-8ec886aae542",
   "metadata": {},
   "source": [
    "- 하위 디렉토리 검색"
   ]
  },
  {
   "cell_type": "code",
   "execution_count": null,
   "id": "9a5b073c-d604-498f-9acb-e8b49f4aa190",
   "metadata": {},
   "outputs": [],
   "source": [
    "import os\n",
    "\n",
    "def search(dirname):\n",
    "    filenames = os.listdir(dirname)\n",
    "    for filename in filenames :\n",
    "        full_filename = os.path.join(dirname, filename)\n",
    "        print(full_filename)\n",
    "    \n",
    "    \n",
    "search(\"C:/\")"
   ]
  },
  {
   "cell_type": "code",
   "execution_count": null,
   "id": "c7b03ab2-6b85-4ff4-8af3-66f009c86570",
   "metadata": {},
   "outputs": [],
   "source": [
    "import os\n",
    "\n",
    "def search(dirname):\n",
    "    filenames = os.listdir(dirname)\n",
    "    for filename in filenames :\n",
    "        full_filename = os.path.join(dirname, filename)\n",
    "        ext = full_filename[-4:]\n",
    "        if ext == \".sys\":\n",
    "            print(full_filename)\n",
    "    \n",
    "    \n",
    "search(\"C:/\")"
   ]
  },
  {
   "cell_type": "code",
   "execution_count": null,
   "id": "ffa45462-8dcc-41c1-bca0-3e1173dd16b3",
   "metadata": {},
   "outputs": [],
   "source": [
    "import os\n",
    "\n",
    "def search(dirname):\n",
    "    filenames = os.listdir(dirname)\n",
    "    for filename in filenames :\n",
    "        full_filename = os.path.join(dirname, filename)\n",
    "        if os.path.isdir(full_filename):\n",
    "            search(full_filename)\n",
    "        else:\n",
    "            ext = full_filename[-3:]\n",
    "            if ext == \".py\":\n",
    "                print(full_filename)\n",
    "\n",
    "    \n",
    "search(\"C:/Python\")"
   ]
  },
  {
   "cell_type": "code",
   "execution_count": null,
   "id": "be533850-2cfe-421e-915e-427758906c1a",
   "metadata": {},
   "outputs": [],
   "source": [
    "import os\n",
    "import sys\n",
    "dirname = sys.argv[1]\n",
    "\n",
    "def search(dirname):\n",
    "    filenames = os.listdir(dirname)\n",
    "    for filename in filenames :\n",
    "        full_filename = os.path.join(dirname, filename)\n",
    "        if os.path.isdir(full_filename):\n",
    "            search(full_filename)\n",
    "        else:\n",
    "            ext = full_filename[-3:]\n",
    "            if ext == \".py\":\n",
    "                print(full_filename)\n",
    "\n",
    "    \n",
    "search(dirname)"
   ]
  },
  {
   "cell_type": "code",
   "execution_count": null,
   "id": "89e7e6cf-18ac-4ecc-8daa-d977c218ff05",
   "metadata": {},
   "outputs": [],
   "source": [
    "import os\n",
    "\n",
    "for (path, dir, files) in os.walk(\"C:/python\"):\n",
    "    for filename in files :\n",
    "        ext = os.path.splitext(filename)[-1]\n",
    "        if ext == '.py':\n",
    "            print(\"%s/%s\" % (path, filename))"
   ]
  },
  {
   "cell_type": "markdown",
   "id": "13a13712-58db-4164-ae5d-0209a9549925",
   "metadata": {},
   "source": [
    "# 정규 표현식\n",
    "- Regular Expressions"
   ]
  },
  {
   "cell_type": "code",
   "execution_count": 195,
   "id": "34fc091c-1520-4dac-92cf-361e72fc539c",
   "metadata": {},
   "outputs": [
    {
     "name": "stdout",
     "output_type": "stream",
     "text": [
      "\n",
      "park 800101-*******\n",
      "kim 900101-*******\n",
      "\n"
     ]
    }
   ],
   "source": [
    "import re\n",
    "\n",
    "data = \"\"\"\n",
    "park 800101-1049118\n",
    "kim 900101-1059119\n",
    "\"\"\"\n",
    "\n",
    "pat = re.compile(\"(\\d{6})[-]\\d{7}\")\n",
    "print(pat.sub(\"\\g<1>-*******\", data))"
   ]
  },
  {
   "cell_type": "code",
   "execution_count": 118,
   "id": "c892c8fc-254f-45d4-b05d-2f681d0a2ab5",
   "metadata": {},
   "outputs": [
    {
     "name": "stdout",
     "output_type": "stream",
     "text": [
      "\n",
      "park 800101-*******\n",
      "kim 900101-*******\n",
      "\n"
     ]
    }
   ],
   "source": [
    "import re\n",
    "\n",
    "data = \"\"\"\n",
    "park 800101-1049118\n",
    "kim 900101-1059119\n",
    "\"\"\"\n",
    "\n",
    "pat = re.compile(\"[-]\\d{7}\")    # d < digit숫자 7개\n",
    "print(pat.sub(\"-*******\", data))"
   ]
  },
  {
   "cell_type": "markdown",
   "id": "72850001-8e9e-4a76-a3bc-db8a0739c2d8",
   "metadata": {},
   "source": [
    "정규 표현식\n",
    "```\n",
    "\\d  숫자와 매치, [0-9]와 동일한 표현식이다.\n",
    "\\D  숫자가 아닌 것과 매치, [^0-9]와 동일한 표현식이다.\n",
    "\\s  whitespace 문자(space, tab)와 매치, [\\t\\n\\r\\f\\v]와 동일한 표현식이다.\n",
    "    맨 앞의 빈칸은 공백 문자 (space)를 의미한다.\n",
    "\\S  whitespace 문자가 아닌 것과 매치, [^\\t\\n\\r\\f\\v]와 동열한 표현식\n",
    "\\w  문자+숫자(alphanumeric)와 매치, [a-zA-Z0-9_]와 동일한 표현식이다.\n",
    "\\W  문자+숫자(alphanumeric)가 아닌 문자와 매치, [^a-zA-z0-9_]와 동일한 표현식\n",
    "```"
   ]
  },
  {
   "cell_type": "markdown",
   "id": "983f18e6-0983-4e0f-84e5-170ad7edb8e0",
   "metadata": {},
   "source": [
    "정규 표현식의 기초, 메타문자"
   ]
  },
  {
   "cell_type": "markdown",
   "id": "855bcb28-7ae7-4088-b64e-30b4a44c8488",
   "metadata": {},
   "source": [
    "^  << caret ^ 캐럿  :  [] 밖에 있을때 시작을 의미 [] 안에 있을때 반대를 의미"
   ]
  },
  {
   "cell_type": "markdown",
   "id": "f7354dda-6518-4ecc-a65a-12e3713edc7a",
   "metadata": {},
   "source": [
    "```\n",
    "문자 : 알파벳, 특수문자, 빈칸(whitespace)\n",
    "Dot(.) : 줄바꿈 문자인 \\n 제외하고 모든 문자와 매치됨\n",
    "\n",
    "```"
   ]
  },
  {
   "cell_type": "markdown",
   "id": "1ce97540-a738-4759-9ce1-e99a8dc49023",
   "metadata": {},
   "source": [
    "```\n",
    "( ) : \"a + 모든문자 + b\"\n",
    "\n",
    "[ ] : \"a + Dot(.)문자 + b\"\n",
    "[.]py\n",
    "\n",
    "{ } : \"c + a(반드시 2번 반복) + t\"\n",
    "\n",
    "a.b    : aab, abb, acb, adb, a1b, a*b\n",
    "a{1}b  : ab\n",
    "a{2}b  : aab\n",
    "a{1,2}b : ab, aab\n",
    "\n",
    "a{2}b  : aab\n",
    "ab{2}c : abbc\n",
    "(ab){2}c : ababc\n",
    "```"
   ]
  },
  {
   "cell_type": "markdown",
   "id": "d2c8d4fc-af2d-4f8d-8d33-bbba74aa343c",
   "metadata": {},
   "source": [
    "```\n",
    "* : 0번 이상\n",
    "a*b : b, ab, aab, aaab, ...\n",
    "\n",
    "+ : 1번 이상\n",
    "a+b : ab, aab, aaab, ...\n",
    "\n",
    "? : 1번 이하\n",
    "a?b : b, ab\n",
    "\n",
    "```"
   ]
  },
  {
   "cell_type": "markdown",
   "id": "a2512fde-88e9-49d0-ad83-97c5ddbd4ec3",
   "metadata": {},
   "source": [
    "```\n",
    "a{m,n}   # {m, n}은 안됨\n",
    "a{m,}    : m번 이상    a{1,}b    >> +\n",
    "a{,n}    : n번 이하    a{,1}b    >> ?\n",
    "a{m}     : m번\n",
    "```"
   ]
  },
  {
   "cell_type": "markdown",
   "id": "eba11c23-d05a-4f92-95a4-b45e20bad664",
   "metadata": {},
   "source": [
    "- re 사용법"
   ]
  },
  {
   "cell_type": "markdown",
   "id": "4091aff2-0d1a-4b38-ba9c-a37da4ded86f",
   "metadata": {},
   "source": [
    "```\n",
    "# 컴파일 하기\n",
    "p = re.compile(패턴)\n",
    "p.메서드(문장)\n",
    "p.match()\n",
    "p.searsh()\n",
    "p.findall()\n",
    "p.finditer()\n",
    "p.sub()\n",
    "```"
   ]
  },
  {
   "cell_type": "code",
   "execution_count": 198,
   "id": "c1b4323a-c348-455b-8fd2-6a2a2bd007e5",
   "metadata": {},
   "outputs": [
    {
     "data": {
      "text/plain": [
       "['p', 'y', 't']"
      ]
     },
     "execution_count": 198,
     "metadata": {},
     "output_type": "execute_result"
    }
   ],
   "source": [
    "p = re.compile(\"[p-z]\")\n",
    "p.findall(\"python\")            # 이게 속도가 더 빠름 자료의 양이 많을 경우 더 자주씁니다"
   ]
  },
  {
   "cell_type": "code",
   "execution_count": 197,
   "id": "e27190a0-8a5d-4dc2-8a84-9ab2934da9a7",
   "metadata": {},
   "outputs": [
    {
     "data": {
      "text/plain": [
       "['p', 'y', 't']"
      ]
     },
     "execution_count": 197,
     "metadata": {},
     "output_type": "execute_result"
    }
   ],
   "source": [
    "re.findall('[p-z]', 'python')"
   ]
  },
  {
   "cell_type": "code",
   "execution_count": 200,
   "id": "0d9c7543-620f-4208-9ae8-cf9f099258ca",
   "metadata": {},
   "outputs": [],
   "source": [
    "import urllib.request as req\n",
    "import re\n",
    "\n",
    "rep = req.urlopen(\"https://daum.net\")\n",
    "data = rep.read().decode(\"utf-8\")\n",
    "print(data) # 데이터 넘 많오 글자 다 긁어온 것"
   ]
  },
  {
   "cell_type": "code",
   "execution_count": 201,
   "id": "17fe9a23-5749-4388-98bf-a9eea51d76ca",
   "metadata": {},
   "outputs": [
    {
     "data": {
      "text/plain": [
       "['.js', '.js', '.js', '.js', '.js', '.js', '.js', '.js', '.js', '.js']"
      ]
     },
     "execution_count": 201,
     "metadata": {},
     "output_type": "execute_result"
    }
   ],
   "source": [
    "re.findall(\"[.]js\", data)"
   ]
  },
  {
   "cell_type": "code",
   "execution_count": 202,
   "id": "287b50d7-698d-4276-9c0f-a2144c231b57",
   "metadata": {},
   "outputs": [
    {
     "data": {
      "text/plain": [
       "[]"
      ]
     },
     "execution_count": 202,
     "metadata": {},
     "output_type": "execute_result"
    }
   ],
   "source": [
    "re.findall(\"h[.]js\", data)"
   ]
  },
  {
   "cell_type": "code",
   "execution_count": 203,
   "id": "dcd88443-008e-4c0f-bbb2-e93275532058",
   "metadata": {},
   "outputs": [
    {
     "data": {
      "text/plain": [
       "['http://tktapi.melon.com/kmt/landing.js',\n",
       " 'http://tktapi.melon.com/kmt/landing.js',\n",
       " 'http://tktapi.melon.com/kmt/landing.js',\n",
       " 'http://tktapi.melon.com/kmt/landing.js']"
      ]
     },
     "execution_count": 203,
     "metadata": {},
     "output_type": "execute_result"
    }
   ],
   "source": [
    "re.findall(\"h[.:/a-zA-z]*[.]js\", data)"
   ]
  },
  {
   "cell_type": "code",
   "execution_count": 206,
   "id": "a93cc164-914b-474c-80e3-a2e0253c4718",
   "metadata": {},
   "outputs": [
    {
     "data": {
      "text/plain": [
       "['https://t1.daumcdn.net/kas/static/na.min.js',\n",
       " 'http://tktapi.melon.com/kmt/landing.js',\n",
       " 'http://tktapi.melon.com/kmt/landing.js',\n",
       " 'http://tktapi.melon.com/kmt/landing.js',\n",
       " 'http://tktapi.melon.com/kmt/landing.js',\n",
       " 'https://t1.daumcdn.net/tiara/js/v1/tiara.min.js',\n",
       " 'https://t1.daumcdn.net/kas/static/ba.min.js']"
      ]
     },
     "execution_count": 206,
     "metadata": {},
     "output_type": "execute_result"
    }
   ],
   "source": [
    "re.findall(\"htt[.:/\\w]*[.]js\", data)"
   ]
  },
  {
   "cell_type": "code",
   "execution_count": 208,
   "id": "723bb72a-9e6e-450a-813c-a723e3ec07f7",
   "metadata": {},
   "outputs": [
    {
     "data": {
      "text/plain": [
       "<re.Match object; span=(0, 6), match='python'>"
      ]
     },
     "execution_count": 208,
     "metadata": {},
     "output_type": "execute_result"
    }
   ],
   "source": [
    "p = re.compile(\"[a-z]+\")\n",
    "p.match(\"python12345\")"
   ]
  },
  {
   "cell_type": "code",
   "execution_count": 213,
   "id": "80843a1b-fc54-4212-8181-4d6beffe83c6",
   "metadata": {},
   "outputs": [
    {
     "name": "stdout",
     "output_type": "stream",
     "text": [
      "None\n"
     ]
    }
   ],
   "source": [
    "print(p.match(\"12345python12345\"))  # match는 맨 처음거만 보고 찾음"
   ]
  },
  {
   "cell_type": "code",
   "execution_count": 214,
   "id": "380128c3-9788-4628-8b3c-e0aa4fa5d2ec",
   "metadata": {},
   "outputs": [
    {
     "data": {
      "text/plain": [
       "<re.Match object; span=(5, 11), match='python'>"
      ]
     },
     "execution_count": 214,
     "metadata": {},
     "output_type": "execute_result"
    }
   ],
   "source": [
    "p.search(\"12345python12345\")   # search가 조금 더 잘 찾아줌 문자열 전체를 검색함"
   ]
  },
  {
   "cell_type": "code",
   "execution_count": 217,
   "id": "ed3d2cf8-854f-4670-bc36-6b7bf46c77a8",
   "metadata": {},
   "outputs": [
    {
     "data": {
      "text/plain": [
       "<re.Match object; span=(5, 11), match='python'>"
      ]
     },
     "execution_count": 217,
     "metadata": {},
     "output_type": "execute_result"
    }
   ],
   "source": [
    "p.search(\"12345python12345python\")  # search 맨 뒤에 python 못찾움"
   ]
  },
  {
   "cell_type": "code",
   "execution_count": 218,
   "id": "8f6a6ede-0325-4cbb-9823-2f620e81b164",
   "metadata": {},
   "outputs": [
    {
     "data": {
      "text/plain": [
       "['python', 'python']"
      ]
     },
     "execution_count": 218,
     "metadata": {},
     "output_type": "execute_result"
    }
   ],
   "source": [
    "p.findall(\"12345python12345python\")"
   ]
  },
  {
   "cell_type": "code",
   "execution_count": 219,
   "id": "7779040d-d4d8-49a0-8071-4c2d0b4f39dd",
   "metadata": {},
   "outputs": [
    {
     "data": {
      "text/plain": [
       "<callable_iterator at 0x160f96abd60>"
      ]
     },
     "execution_count": 219,
     "metadata": {},
     "output_type": "execute_result"
    }
   ],
   "source": [
    "p.finditer(\"12345python12345python\")"
   ]
  },
  {
   "cell_type": "code",
   "execution_count": 220,
   "id": "8c7dcf03-e85a-4b83-b1b1-d086505dd197",
   "metadata": {},
   "outputs": [
    {
     "name": "stdout",
     "output_type": "stream",
     "text": [
      "<re.Match object; span=(5, 11), match='python'>\n",
      "<re.Match object; span=(16, 22), match='python'>\n"
     ]
    }
   ],
   "source": [
    "for i in p.finditer(\"12345python12345python\"):\n",
    "    print(i)"
   ]
  },
  {
   "cell_type": "code",
   "execution_count": 224,
   "id": "b86a75cb-a672-4b44-9005-f98d8eb4e810",
   "metadata": {},
   "outputs": [
    {
     "data": {
      "text/plain": [
       "'12345*12345*'"
      ]
     },
     "execution_count": 224,
     "metadata": {},
     "output_type": "execute_result"
    }
   ],
   "source": [
    "p.sub(\"*\",\"12345python12345python\")"
   ]
  },
  {
   "cell_type": "code",
   "execution_count": 225,
   "id": "512a6d6b-4d21-4bda-8cfd-6651efbfd906",
   "metadata": {},
   "outputs": [
    {
     "data": {
      "text/plain": [
       "'12345*******12345*******'"
      ]
     },
     "execution_count": 225,
     "metadata": {},
     "output_type": "execute_result"
    }
   ],
   "source": [
    "p.sub(\"*******\",\"12345python12345python\")"
   ]
  },
  {
   "cell_type": "code",
   "execution_count": 226,
   "id": "f8712216-c1f1-40c7-9325-0c26b62fce57",
   "metadata": {},
   "outputs": [
    {
     "data": {
      "text/plain": [
       "re.Pattern"
      ]
     },
     "execution_count": 226,
     "metadata": {},
     "output_type": "execute_result"
    }
   ],
   "source": [
    "type(p)"
   ]
  },
  {
   "cell_type": "code",
   "execution_count": 227,
   "id": "2c75313b-f880-4cc3-bd3f-7c18712bc755",
   "metadata": {},
   "outputs": [
    {
     "data": {
      "text/plain": [
       "['python', 'python']"
      ]
     },
     "execution_count": 227,
     "metadata": {},
     "output_type": "execute_result"
    }
   ],
   "source": [
    "sentence = \"12345python12345python\"\n",
    "p.findall(sentence)"
   ]
  },
  {
   "cell_type": "markdown",
   "id": "25d85b31-04e4-4309-a22e-612a84091fed",
   "metadata": {},
   "source": [
    "### group 메서드"
   ]
  },
  {
   "cell_type": "code",
   "execution_count": 238,
   "id": "41581d72-b3d8-4fb3-aff2-b7a9574ed6af",
   "metadata": {},
   "outputs": [
    {
     "data": {
      "text/plain": [
       "'python'"
      ]
     },
     "execution_count": 238,
     "metadata": {},
     "output_type": "execute_result"
    }
   ],
   "source": [
    "match = p.search(\"12345python12345python\")\n",
    "match.group()"
   ]
  },
  {
   "cell_type": "code",
   "execution_count": 230,
   "id": "45d181cf-f1c5-49ea-8460-aa313be4b8f5",
   "metadata": {},
   "outputs": [
    {
     "data": {
      "text/plain": [
       "<callable_iterator at 0x160f9a481f0>"
      ]
     },
     "execution_count": 230,
     "metadata": {},
     "output_type": "execute_result"
    }
   ],
   "source": [
    "sentence = \"12345python12345python\"\n",
    "p.finditer(sentence)"
   ]
  },
  {
   "cell_type": "code",
   "execution_count": 237,
   "id": "8b5b545b-c089-4e05-a2a1-da22a6813484",
   "metadata": {},
   "outputs": [
    {
     "name": "stdout",
     "output_type": "stream",
     "text": [
      "python\n",
      "5\n",
      "11\n",
      "\n",
      "python\n",
      "16\n",
      "22\n",
      "\n"
     ]
    }
   ],
   "source": [
    "for i in p.finditer(sentence):\n",
    "    print(i.group())\n",
    "    print(i.start())\n",
    "    print(i.end())\n",
    "    print()"
   ]
  },
  {
   "cell_type": "markdown",
   "id": "2b6679b0-47a7-499e-b82d-98389b1a9fa4",
   "metadata": {},
   "source": [
    "- 바운더리(boundary)\n",
    "\n",
    "   /b"
   ]
  },
  {
   "cell_type": "code",
   "execution_count": 26,
   "id": "09753471-81bf-48c7-8ad9-4cd413c8e10e",
   "metadata": {},
   "outputs": [
    {
     "name": "stdout",
     "output_type": "stream",
     "text": [
      "<re.Match object; span=(3, 8), match='class'>\n"
     ]
    }
   ],
   "source": [
    "import re\n",
    "p = re.compile(r'class')\n",
    "print(p.search(\"no class at all class.\"))"
   ]
  },
  {
   "cell_type": "markdown",
   "id": "0f103662-1b00-4bde-8532-2158bc51baf0",
   "metadata": {},
   "source": [
    "| , ^ , $, \\b\n",
    "\n",
    "https://regexr.com/\n",
    "\n",
    "https://regex101.com/"
   ]
  },
  {
   "cell_type": "code",
   "execution_count": 28,
   "id": "1560d1fe-8a3f-4a9d-ae82-2042c885e06d",
   "metadata": {},
   "outputs": [
    {
     "data": {
      "text/plain": [
       "<re.Match object; span=(0, 18), match='park 010-1234-1234'>"
      ]
     },
     "execution_count": 28,
     "metadata": {},
     "output_type": "execute_result"
    }
   ],
   "source": [
    "p = re.compile(r\"\\w+\\s+\\d+[-]\\d+[-]\\d+\")\n",
    "p.search(\"park 010-1234-1234\")"
   ]
  },
  {
   "cell_type": "code",
   "execution_count": 31,
   "id": "decd0cd9-f82f-4a75-b9f2-c7fccc2c2d37",
   "metadata": {},
   "outputs": [
    {
     "data": {
      "text/plain": [
       "'park'"
      ]
     },
     "execution_count": 31,
     "metadata": {},
     "output_type": "execute_result"
    }
   ],
   "source": [
    "F\n",
    "\n",
    "m.group(1)"
   ]
  },
  {
   "cell_type": "code",
   "execution_count": 32,
   "id": "9091863d-af94-4317-868f-4b2fe69fa2d9",
   "metadata": {},
   "outputs": [
    {
     "name": "stdout",
     "output_type": "stream",
     "text": [
      "park\n",
      "010-1234-1234\n"
     ]
    }
   ],
   "source": [
    "print(m.group(1))\n",
    "print(m.group(2))"
   ]
  },
  {
   "cell_type": "code",
   "execution_count": 34,
   "id": "03c64151-71bd-46cc-8e0e-e247d775002b",
   "metadata": {},
   "outputs": [
    {
     "name": "stdout",
     "output_type": "stream",
     "text": [
      "park\n"
     ]
    }
   ],
   "source": [
    "data = '''\n",
    "park 010-1234-5678\n",
    "kim  010-5678-9999\n",
    "lee  010-2222-7777\n",
    "'''\n",
    "\n",
    "p = re.compile(r\"(\\w+)\\s+(\\d+[-]\\d+[-]\\d+)\")\n",
    "m = p.search(data)\n",
    "print(m.group(1))"
   ]
  },
  {
   "cell_type": "code",
   "execution_count": 35,
   "id": "04c2f319-33e0-4f82-ba60-750e2ae6a6e9",
   "metadata": {},
   "outputs": [
    {
     "ename": "AttributeError",
     "evalue": "'NoneType' object has no attribute 'group'",
     "output_type": "error",
     "traceback": [
      "\u001b[1;31m---------------------------------------------------------------------------\u001b[0m",
      "\u001b[1;31mAttributeError\u001b[0m                            Traceback (most recent call last)",
      "Input \u001b[1;32mIn [35]\u001b[0m, in \u001b[0;36m<cell line: 3>\u001b[1;34m()\u001b[0m\n\u001b[0;32m      1\u001b[0m p \u001b[38;5;241m=\u001b[39m re\u001b[38;5;241m.\u001b[39mcompile(\u001b[38;5;124mr\u001b[39m\u001b[38;5;124m\"\u001b[39m\u001b[38;5;124m(\u001b[39m\u001b[38;5;124m\\\u001b[39m\u001b[38;5;124mw+)\u001b[39m\u001b[38;5;124m\\\u001b[39m\u001b[38;5;124ms+(\u001b[39m\u001b[38;5;124m\\\u001b[39m\u001b[38;5;124md+[-]\u001b[39m\u001b[38;5;124m\\\u001b[39m\u001b[38;5;124md+[-]\u001b[39m\u001b[38;5;124m\\\u001b[39m\u001b[38;5;124md+)\u001b[39m\u001b[38;5;124m\"\u001b[39m)\n\u001b[0;32m      2\u001b[0m m \u001b[38;5;241m=\u001b[39m p\u001b[38;5;241m.\u001b[39mmatch(data)\n\u001b[1;32m----> 3\u001b[0m \u001b[38;5;28mprint\u001b[39m(\u001b[43mm\u001b[49m\u001b[38;5;241;43m.\u001b[39;49m\u001b[43mgroup\u001b[49m(\u001b[38;5;241m1\u001b[39m))\n",
      "\u001b[1;31mAttributeError\u001b[0m: 'NoneType' object has no attribute 'group'"
     ]
    }
   ],
   "source": [
    "p = re.compile(r\"(\\w+)\\s+(\\d+[-]\\d+[-]\\d+)\")\n",
    "m = p.match(data)\n",
    "print(m.group(1))"
   ]
  },
  {
   "cell_type": "code",
   "execution_count": 37,
   "id": "409fb75f-e5b3-4a07-865e-2040c5d74b57",
   "metadata": {},
   "outputs": [
    {
     "name": "stdout",
     "output_type": "stream",
     "text": [
      "park\n",
      "kim\n",
      "lee\n"
     ]
    }
   ],
   "source": [
    "p = re.compile(r\"(\\w+)\\s+(\\d+[-]\\d+[-]\\d+)\")\n",
    "m = p.finditer(data)\n",
    "for i in m :\n",
    "    print(i.group(1))"
   ]
  },
  {
   "cell_type": "code",
   "execution_count": 38,
   "id": "9d4e823a-3946-40e4-add1-4a83aef165ca",
   "metadata": {},
   "outputs": [
    {
     "name": "stdout",
     "output_type": "stream",
     "text": [
      "010-1234-5678\n",
      "010-5678-9999\n",
      "010-2222-7777\n"
     ]
    }
   ],
   "source": [
    "p = re.compile(r\"(\\w+)\\s+(\\d+[-]\\d+[-]\\d+)\")\n",
    "m = p.finditer(data)\n",
    "for i in m :\n",
    "    print(i.group(2))"
   ]
  },
  {
   "cell_type": "code",
   "execution_count": 41,
   "id": "cdb1891b-4da0-4caa-990f-0f2781582c32",
   "metadata": {},
   "outputs": [
    {
     "name": "stdout",
     "output_type": "stream",
     "text": [
      "1234\n",
      "5678\n",
      "2222\n"
     ]
    }
   ],
   "source": [
    "p = re.compile(r\"(\\w+)\\s+\\d+[-](\\d+)[-]\\d+\")\n",
    "m = p.finditer(data)\n",
    "for i in m :\n",
    "    print(i.group(2))"
   ]
  },
  {
   "cell_type": "code",
   "execution_count": 42,
   "id": "31da4dc0-88c0-43b9-8c3b-cb0f4444c66a",
   "metadata": {},
   "outputs": [
    {
     "name": "stdout",
     "output_type": "stream",
     "text": [
      "park\n",
      "010-1234-5678\n",
      "kim\n",
      "010-5678-9999\n",
      "lee\n",
      "010-2222-7777\n"
     ]
    }
   ],
   "source": [
    "p = re.compile(r\"(\\w+)\\s+(\\d+[-]\\d+[-]\\d+)\")\n",
    "m = p.finditer(data)\n",
    "for i in m :\n",
    "    print(i.group(1))\n",
    "    print(i.group(2))"
   ]
  },
  {
   "cell_type": "code",
   "execution_count": 44,
   "id": "269da7be-f77c-41f5-a03a-dbe167e41a47",
   "metadata": {},
   "outputs": [
    {
     "name": "stdout",
     "output_type": "stream",
     "text": [
      "010\n",
      "010\n",
      "010\n"
     ]
    }
   ],
   "source": [
    "p = re.compile(r\"(\\w+)\\s+((\\d+)[-]\\d+[-]\\d+)\")\n",
    "m = p.finditer(data)\n",
    "for i in m :\n",
    "    print(i.group(3))    # 괄호 안에 괄호는 3번"
   ]
  },
  {
   "cell_type": "markdown",
   "id": "654cdb94-b120-48a8-b4bc-89df4f474a3e",
   "metadata": {},
   "source": [
    "```\n",
    "그루핑된 문자열에 이름 붙이기\n",
    "(\\w+)    ->     (?P<원하는이름>\\w+)\n",
    "\n",
    "``` "
   ]
  },
  {
   "cell_type": "code",
   "execution_count": 46,
   "id": "fa33ab9f-b4f7-459d-a1d0-6554ea450307",
   "metadata": {},
   "outputs": [
    {
     "name": "stdout",
     "output_type": "stream",
     "text": [
      "park\n",
      "kim\n",
      "lee\n"
     ]
    }
   ],
   "source": [
    "p = re.compile(r\"(?P<name>\\w+)\\s+(\\d+[-]\\d+[-]\\d+)\")\n",
    "m = p.finditer(data)\n",
    "for i in m :\n",
    "    print(i.group(\"name\"))"
   ]
  },
  {
   "cell_type": "code",
   "execution_count": 47,
   "id": "f6867888-b1dc-42a2-8033-5631c835b4bb",
   "metadata": {},
   "outputs": [
    {
     "name": "stdout",
     "output_type": "stream",
     "text": [
      "Support for regular expressions (RE).\n",
      "\n",
      "This module provides regular expression matching operations similar to\n",
      "those found in Perl.  It supports both 8-bit and Unicode strings; both\n",
      "the pattern and the strings being processed can contain null bytes and\n",
      "characters outside the US ASCII range.\n",
      "\n",
      "Regular expressions can contain both special and ordinary characters.\n",
      "Most ordinary characters, like \"A\", \"a\", or \"0\", are the simplest\n",
      "regular expressions; they simply match themselves.  You can\n",
      "concatenate ordinary characters, so last matches the string 'last'.\n",
      "\n",
      "The special characters are:\n",
      "    \".\"      Matches any character except a newline.\n",
      "    \"^\"      Matches the start of the string.\n",
      "    \"$\"      Matches the end of the string or just before the newline at\n",
      "             the end of the string.\n",
      "    \"*\"      Matches 0 or more (greedy) repetitions of the preceding RE.\n",
      "             Greedy means that it will match as many repetitions as possible.\n",
      "    \"+\"      Matches 1 or more (greedy) repetitions of the preceding RE.\n",
      "    \"?\"      Matches 0 or 1 (greedy) of the preceding RE.\n",
      "    *?,+?,?? Non-greedy versions of the previous three special characters.\n",
      "    {m,n}    Matches from m to n repetitions of the preceding RE.\n",
      "    {m,n}?   Non-greedy version of the above.\n",
      "    \"\\\\\"     Either escapes special characters or signals a special sequence.\n",
      "    []       Indicates a set of characters.\n",
      "             A \"^\" as the first character indicates a complementing set.\n",
      "    \"|\"      A|B, creates an RE that will match either A or B.\n",
      "    (...)    Matches the RE inside the parentheses.\n",
      "             The contents can be retrieved or matched later in the string.\n",
      "    (?aiLmsux) The letters set the corresponding flags defined below.\n",
      "    (?:...)  Non-grouping version of regular parentheses.\n",
      "    (?P<name>...) The substring matched by the group is accessible by name.\n",
      "    (?P=name)     Matches the text matched earlier by the group named name.\n",
      "    (?#...)  A comment; ignored.\n",
      "    (?=...)  Matches if ... matches next, but doesn't consume the string.\n",
      "    (?!...)  Matches if ... doesn't match next.\n",
      "    (?<=...) Matches if preceded by ... (must be fixed length).\n",
      "    (?<!...) Matches if not preceded by ... (must be fixed length).\n",
      "    (?(id/name)yes|no) Matches yes pattern if the group with id/name matched,\n",
      "                       the (optional) no pattern otherwise.\n",
      "\n",
      "The special sequences consist of \"\\\\\" and a character from the list\n",
      "below.  If the ordinary character is not on the list, then the\n",
      "resulting RE will match the second character.\n",
      "    \\number  Matches the contents of the group of the same number.\n",
      "    \\A       Matches only at the start of the string.\n",
      "    \\Z       Matches only at the end of the string.\n",
      "    \\b       Matches the empty string, but only at the start or end of a word.\n",
      "    \\B       Matches the empty string, but not at the start or end of a word.\n",
      "    \\d       Matches any decimal digit; equivalent to the set [0-9] in\n",
      "             bytes patterns or string patterns with the ASCII flag.\n",
      "             In string patterns without the ASCII flag, it will match the whole\n",
      "             range of Unicode digits.\n",
      "    \\D       Matches any non-digit character; equivalent to [^\\d].\n",
      "    \\s       Matches any whitespace character; equivalent to [ \\t\\n\\r\\f\\v] in\n",
      "             bytes patterns or string patterns with the ASCII flag.\n",
      "             In string patterns without the ASCII flag, it will match the whole\n",
      "             range of Unicode whitespace characters.\n",
      "    \\S       Matches any non-whitespace character; equivalent to [^\\s].\n",
      "    \\w       Matches any alphanumeric character; equivalent to [a-zA-Z0-9_]\n",
      "             in bytes patterns or string patterns with the ASCII flag.\n",
      "             In string patterns without the ASCII flag, it will match the\n",
      "             range of Unicode alphanumeric characters (letters plus digits\n",
      "             plus underscore).\n",
      "             With LOCALE, it will match the set [0-9_] plus characters defined\n",
      "             as letters for the current locale.\n",
      "    \\W       Matches the complement of \\w.\n",
      "    \\\\       Matches a literal backslash.\n",
      "\n",
      "This module exports the following functions:\n",
      "    match     Match a regular expression pattern to the beginning of a string.\n",
      "    fullmatch Match a regular expression pattern to all of a string.\n",
      "    search    Search a string for the presence of a pattern.\n",
      "    sub       Substitute occurrences of a pattern found in a string.\n",
      "    subn      Same as sub, but also return the number of substitutions made.\n",
      "    split     Split a string by the occurrences of a pattern.\n",
      "    findall   Find all occurrences of a pattern in a string.\n",
      "    finditer  Return an iterator yielding a Match object for each match.\n",
      "    compile   Compile a pattern into a Pattern object.\n",
      "    purge     Clear the regular expression cache.\n",
      "    escape    Backslash all non-alphanumerics in a string.\n",
      "\n",
      "Each function other than purge and escape can take an optional 'flags' argument\n",
      "consisting of one or more of the following module constants, joined by \"|\".\n",
      "A, L, and U are mutually exclusive.\n",
      "    A  ASCII       For string patterns, make \\w, \\W, \\b, \\B, \\d, \\D\n",
      "                   match the corresponding ASCII character categories\n",
      "                   (rather than the whole Unicode categories, which is the\n",
      "                   default).\n",
      "                   For bytes patterns, this flag is the only available\n",
      "                   behaviour and needn't be specified.\n",
      "    I  IGNORECASE  Perform case-insensitive matching.\n",
      "    L  LOCALE      Make \\w, \\W, \\b, \\B, dependent on the current locale.\n",
      "    M  MULTILINE   \"^\" matches the beginning of lines (after a newline)\n",
      "                   as well as the string.\n",
      "                   \"$\" matches the end of lines (before a newline) as well\n",
      "                   as the end of the string.\n",
      "    S  DOTALL      \".\" matches any character at all, including the newline.\n",
      "    X  VERBOSE     Ignore whitespace and comments for nicer looking RE's.\n",
      "    U  UNICODE     For compatibility only. Ignored for string patterns (it\n",
      "                   is the default), and forbidden for bytes patterns.\n",
      "\n",
      "This module also defines an exception 'error'.\n",
      "\n",
      "\n"
     ]
    }
   ],
   "source": [
    "print(re.__doc__)"
   ]
  },
  {
   "cell_type": "code",
   "execution_count": 49,
   "id": "66666b4b-eac8-4fc5-95bb-f9f4d8c090a9",
   "metadata": {},
   "outputs": [
    {
     "data": {
      "text/plain": [
       "'/d{6}[-][1|2]/d{6}'"
      ]
     },
     "execution_count": 49,
     "metadata": {},
     "output_type": "execute_result"
    }
   ],
   "source": [
    "data = \"950225-2928321\"\n",
    "\"\\d{6}[-][1|2]\\d{6}\""
   ]
  },
  {
   "cell_type": "markdown",
   "id": "849c25c3-a22d-4727-bf11-9a8663da410d",
   "metadata": {},
   "source": [
    "```\n",
    "/^01([0|1|6|7|8|9]?)-?([0-9]{3,4})-?([0-9]{4})$\n",
    "\n",
    "^01 : 01\n",
    "[0|1|6|7|8|9]? : 요고 숫자 중에 하나 이거나 없어도 됨\n",
    "-?  : 없거나 한번 이하\n",
    "[0-9]{3,4} : 반복 3번 나와도 좋고 4번 나와도 좋음\n",
    "-?  : 없거나 한번 이하\n",
    "([0-9]{4})$  : 0부터 9까지 숫자 4개로 끝나야함\n",
    "\n",
    "```"
   ]
  },
  {
   "cell_type": "code",
   "execution_count": null,
   "id": "6c944a2a-8b8e-4c1b-a714-2d69fea9b76f",
   "metadata": {},
   "outputs": [],
   "source": []
  },
  {
   "cell_type": "code",
   "execution_count": null,
   "id": "72ecbf37-f0f2-49bf-b8c5-218940ce1384",
   "metadata": {},
   "outputs": [],
   "source": []
  },
  {
   "cell_type": "code",
   "execution_count": null,
   "id": "96e512a2-1e5a-44f8-a9cc-c7a748369d06",
   "metadata": {},
   "outputs": [],
   "source": []
  },
  {
   "cell_type": "code",
   "execution_count": null,
   "id": "f0db699a-dcf5-46db-9061-d7401a8a0716",
   "metadata": {},
   "outputs": [],
   "source": []
  },
  {
   "cell_type": "code",
   "execution_count": null,
   "id": "1d3ed32c-7ed8-4c4c-8da2-4f897e17317c",
   "metadata": {},
   "outputs": [],
   "source": []
  },
  {
   "cell_type": "code",
   "execution_count": null,
   "id": "a2122f58-c8bc-4888-9ba7-58802262e64e",
   "metadata": {},
   "outputs": [],
   "source": []
  }
 ],
 "metadata": {
  "kernelspec": {
   "display_name": "Python 3 (ipykernel)",
   "language": "python",
   "name": "python3"
  },
  "language_info": {
   "codemirror_mode": {
    "name": "ipython",
    "version": 3
   },
   "file_extension": ".py",
   "mimetype": "text/x-python",
   "name": "python",
   "nbconvert_exporter": "python",
   "pygments_lexer": "ipython3",
   "version": "3.8.13"
  },
  "toc-autonumbering": false,
  "toc-showtags": false
 },
 "nbformat": 4,
 "nbformat_minor": 5
}
