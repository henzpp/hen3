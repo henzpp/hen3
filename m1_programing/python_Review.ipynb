{
 "cells": [
  {
   "cell_type": "code",
   "execution_count": 2,
   "id": "bd5accdf-0799-46a6-b677-22778e53a1cf",
   "metadata": {},
   "outputs": [
    {
     "data": {
      "text/plain": [
       "(3, 3)"
      ]
     },
     "execution_count": 2,
     "metadata": {},
     "output_type": "execute_result"
    }
   ],
   "source": [
    "divmod(15,4)"
   ]
  },
  {
   "cell_type": "code",
   "execution_count": 10,
   "id": "0bfb0fd7-057c-4b46-89cd-91c96721cac3",
   "metadata": {},
   "outputs": [
    {
     "name": "stdout",
     "output_type": "stream",
     "text": [
      "나머지는 3입니다\n"
     ]
    }
   ],
   "source": [
    "a = 15 % 4\n",
    "print(f\"나머지는 {a}입니다\")"
   ]
  },
  {
   "cell_type": "code",
   "execution_count": 11,
   "id": "afb36f28-a5d7-40a5-a45a-b19a6c0e9fe4",
   "metadata": {},
   "outputs": [
    {
     "name": "stdout",
     "output_type": "stream",
     "text": [
      "몫은 3이고 나머지는 3입니다\n"
     ]
    }
   ],
   "source": [
    "a, b = divmod(15,4)\n",
    "print(f\"몫은 {a}이고 나머지는 {b}입니다\")"
   ]
  },
  {
   "cell_type": "code",
   "execution_count": 12,
   "id": "57c0b5b0-a713-4166-8439-6c94bb7be734",
   "metadata": {},
   "outputs": [
    {
     "name": "stdout",
     "output_type": "stream",
     "text": [
      "몫은 2이고 나머지는 1입니다\n"
     ]
    }
   ],
   "source": [
    "a, b = divmod(15,7)\n",
    "print(f\"몫은 {a}이고 나머지는 {b}입니다\")"
   ]
  },
  {
   "cell_type": "code",
   "execution_count": 14,
   "id": "4e6cc91b-c318-4b39-924e-cfc02280a821",
   "metadata": {},
   "outputs": [],
   "source": [
    "a = \"Life is short\""
   ]
  },
  {
   "cell_type": "code",
   "execution_count": 15,
   "id": "9846a6e1-911c-48a7-a890-cb6980e4de78",
   "metadata": {},
   "outputs": [
    {
     "data": {
      "text/plain": [
       "'Lier'"
      ]
     },
     "execution_count": 15,
     "metadata": {},
     "output_type": "execute_result"
    }
   ],
   "source": [
    "a[0] + a[1] + a[3] + a[-2]"
   ]
  },
  {
   "cell_type": "code",
   "execution_count": 16,
   "id": "ef3cabd6-ba85-4a2c-b0a8-195799627730",
   "metadata": {},
   "outputs": [],
   "source": [
    "import numpy as np"
   ]
  },
  {
   "cell_type": "code",
   "execution_count": 17,
   "id": "9e7fbf3b-6a39-4b05-9a29-ab36956034c4",
   "metadata": {},
   "outputs": [
    {
     "data": {
      "text/plain": [
       "3.141592653589793"
      ]
     },
     "execution_count": 17,
     "metadata": {},
     "output_type": "execute_result"
    }
   ],
   "source": [
    "np.pi"
   ]
  },
  {
   "cell_type": "code",
   "execution_count": 20,
   "id": "1bd4c018-161d-4d39-b39c-6e432c4c06eb",
   "metadata": {},
   "outputs": [
    {
     "data": {
      "text/plain": [
       "3.14"
      ]
     },
     "execution_count": 20,
     "metadata": {},
     "output_type": "execute_result"
    }
   ],
   "source": [
    "round(np.pi,2)"
   ]
  },
  {
   "cell_type": "code",
   "execution_count": null,
   "id": "83182a9b-0797-4d98-a2af-2f6994dab749",
   "metadata": {},
   "outputs": [],
   "source": [
    "# 파이썬의 특징 4가지\n",
    "# 1. 문법이 쉬워 누구나 쉽게 학습 가능하다.\n",
    "# 2. 간결하다.\n",
    "# 3. 개발 속도가 빠르다.\n",
    "# 4. 무료지만 강력하다."
   ]
  },
  {
   "cell_type": "code",
   "execution_count": 22,
   "id": "725ffdef-484a-4285-a19f-1c93350056db",
   "metadata": {},
   "outputs": [
    {
     "data": {
      "text/plain": [
       "0.8660254037844386"
      ]
     },
     "execution_count": 22,
     "metadata": {},
     "output_type": "execute_result"
    }
   ],
   "source": [
    "from numpy import sin, pi\n",
    "sin(pi/3)"
   ]
  },
  {
   "cell_type": "code",
   "execution_count": 23,
   "id": "f7a8cfff-93d5-4998-a438-7e34347be33f",
   "metadata": {},
   "outputs": [
    {
     "name": "stdout",
     "output_type": "stream",
     "text": [
      "**********\n"
     ]
    }
   ],
   "source": [
    "print(\"*\"*10)"
   ]
  },
  {
   "cell_type": "code",
   "execution_count": 24,
   "id": "0e09ba6c-0780-4146-9893-e1ebbbec8776",
   "metadata": {},
   "outputs": [
    {
     "data": {
      "text/plain": [
       "12"
      ]
     },
     "execution_count": 24,
     "metadata": {},
     "output_type": "execute_result"
    }
   ],
   "source": [
    "a = \"Hello World!\"\n",
    "len(a)"
   ]
  },
  {
   "cell_type": "code",
   "execution_count": 26,
   "id": "4f52a9d0-3aca-4c26-9c5d-86d20ced7188",
   "metadata": {},
   "outputs": [
    {
     "data": {
      "text/plain": [
       "'!'"
      ]
     },
     "execution_count": 26,
     "metadata": {},
     "output_type": "execute_result"
    }
   ],
   "source": [
    "a[11]"
   ]
  },
  {
   "cell_type": "code",
   "execution_count": 28,
   "id": "014e563b-d9c2-4651-857f-69c1927561e9",
   "metadata": {},
   "outputs": [
    {
     "data": {
      "text/plain": [
       "'!'"
      ]
     },
     "execution_count": 28,
     "metadata": {},
     "output_type": "execute_result"
    }
   ],
   "source": [
    "a='Hello World!'\n",
    "a[len(a)-1]"
   ]
  },
  {
   "cell_type": "code",
   "execution_count": null,
   "id": "2a5a474c-a0c1-4a5b-a9b7-cc86c711a712",
   "metadata": {},
   "outputs": [],
   "source": [
    "# \\n   줄바꾸기\n",
    "# \\t   탭 만큼 줄 띄우기"
   ]
  },
  {
   "cell_type": "code",
   "execution_count": 31,
   "id": "d9229622-ff9b-41ee-8c26-9eb13116e9d8",
   "metadata": {},
   "outputs": [
    {
     "name": "stdout",
     "output_type": "stream",
     "text": [
      "웹브라우저 \n",
      " '인터넷 익스플로러(IE)'가 \n",
      " 27년만에 역사 속으로 사라진다.\n"
     ]
    }
   ],
   "source": [
    "print('''웹브라우저 \\n \\'인터넷 익스플로러(IE)\\'가 \n",
    "\\n 27년만에 역사 속으로 사라진다.''')"
   ]
  },
  {
   "cell_type": "code",
   "execution_count": 32,
   "id": "ebd9f641-4686-4887-801b-91e1ab607594",
   "metadata": {},
   "outputs": [
    {
     "data": {
      "text/plain": [
       "array([  1.,   2.,   3.,   4.,   5.,   6.,   7.,   8.,   9.,  10.,  11.,\n",
       "        12.,  13.,  14.,  15.,  16.,  17.,  18.,  19.,  20.,  21.,  22.,\n",
       "        23.,  24.,  25.,  26.,  27.,  28.,  29.,  30.,  31.,  32.,  33.,\n",
       "        34.,  35.,  36.,  37.,  38.,  39.,  40.,  41.,  42.,  43.,  44.,\n",
       "        45.,  46.,  47.,  48.,  49.,  50.,  51.,  52.,  53.,  54.,  55.,\n",
       "        56.,  57.,  58.,  59.,  60.,  61.,  62.,  63.,  64.,  65.,  66.,\n",
       "        67.,  68.,  69.,  70.,  71.,  72.,  73.,  74.,  75.,  76.,  77.,\n",
       "        78.,  79.,  80.,  81.,  82.,  83.,  84.,  85.,  86.,  87.,  88.,\n",
       "        89.,  90.,  91.,  92.,  93.,  94.,  95.,  96.,  97.,  98.,  99.,\n",
       "       100.])"
      ]
     },
     "execution_count": 32,
     "metadata": {},
     "output_type": "execute_result"
    }
   ],
   "source": [
    "import numpy as np\n",
    "np.linspace(1, 100, 100)"
   ]
  },
  {
   "cell_type": "code",
   "execution_count": null,
   "id": "3fe6151f-5268-4c9f-8eeb-fa2edc1a9ab6",
   "metadata": {},
   "outputs": [],
   "source": [
    "#lin  :  linear   < line\n",
    "#linear algebra  선형대수학"
   ]
  },
  {
   "cell_type": "code",
   "execution_count": 33,
   "id": "20bdc0d9-3922-4db2-a82a-6007d5da75e5",
   "metadata": {},
   "outputs": [],
   "source": [
    "import matplotlib.pyplot as plt"
   ]
  },
  {
   "cell_type": "code",
   "execution_count": 34,
   "id": "a5ca6ab3-fc2b-4ecc-9237-5c524e207d2a",
   "metadata": {},
   "outputs": [
    {
     "data": {
      "text/plain": [
       "[<matplotlib.lines.Line2D at 0x1394ba4a820>]"
      ]
     },
     "execution_count": 34,
     "metadata": {},
     "output_type": "execute_result"
    },
    {
     "data": {
      "image/png": "[encoded data removed]",
      "text/plain": [
       "<Figure size 432x288 with 1 Axes>"
      ]
     },
     "metadata": {
      "needs_background": "light"
     },
     "output_type": "display_data"
    }
   ],
   "source": [
    "x = np.linspace(1, 100, 100)\n",
    "plt.plot(x, x**2)"
   ]
  },
  {
   "cell_type": "code",
   "execution_count": 35,
   "id": "3c889a0f-78aa-44f3-860f-8342195dd9c1",
   "metadata": {},
   "outputs": [
    {
     "data": {
      "text/plain": [
       "[<matplotlib.lines.Line2D at 0x1394c26ad90>]"
      ]
     },
     "execution_count": 35,
     "metadata": {},
     "output_type": "execute_result"
    },
    {
     "data": {
      "image/png": "[encoded data removed]",
      "text/plain": [
       "<Figure size 432x288 with 1 Axes>"
      ]
     },
     "metadata": {
      "needs_background": "light"
     },
     "output_type": "display_data"
    }
   ],
   "source": [
    "x = np.linspace(1, 100, 100)\n",
    "y = x**2\n",
    "plt.plot(x, y)\n",
    "plt.plot(-x, y)"
   ]
  },
  {
   "cell_type": "code",
   "execution_count": 36,
   "id": "b1f52fb9-a5f9-4152-9d7c-f85baf89bd64",
   "metadata": {},
   "outputs": [
    {
     "data": {
      "image/png": "[encoded data removed]",
      "text/plain": [
       "<Figure size 432x288 with 1 Axes>"
      ]
     },
     "metadata": {
      "needs_background": "light"
     },
     "output_type": "display_data"
    }
   ],
   "source": [
    "x = np.linspace(1, 100, 100)\n",
    "y = x**2\n",
    "plt.plot(x, y)\n",
    "plt.plot(-x, y)\n",
    "plt.show()  # << 위치정보 나오지 않게 함 \n",
    "# 위치 정보[<matplotlib.lines.Line2D at 0x1394c26ad90>]"
   ]
  },
  {
   "cell_type": "code",
   "execution_count": 3,
   "id": "dcc2cae9-1c19-4303-8651-e37251dec686",
   "metadata": {},
   "outputs": [
    {
     "data": {
      "text/plain": [
       "array([ 20, 260,  81, 300])"
      ]
     },
     "execution_count": 3,
     "metadata": {},
     "output_type": "execute_result"
    }
   ],
   "source": [
    "A = [10, 52, 27, 3]\n",
    "B = [2, 5, 3, 100]\n",
    "import numpy as np\n",
    "A = np.array([10, 52, 27, 3])\n",
    "B = np.array([2, 5, 3, 100])\n",
    "A * B"
   ]
  },
  {
   "cell_type": "code",
   "execution_count": 4,
   "id": "f183fc13-9514-4ba9-b568-6aa1d5dca3fd",
   "metadata": {},
   "outputs": [
    {
     "data": {
      "text/plain": [
       "['나는', '이번주에', '영화를 볼 예정이다.']"
      ]
     },
     "execution_count": 4,
     "metadata": {},
     "output_type": "execute_result"
    }
   ],
   "source": [
    "A = [\"나는\", \"이번주에\", \"영화를 볼 예정이다.\"]\n",
    "A"
   ]
  },
  {
   "cell_type": "code",
   "execution_count": 5,
   "id": "8334913a-0407-4c04-8bff-b89f1a4809b3",
   "metadata": {},
   "outputs": [
    {
     "name": "stdout",
     "output_type": "stream",
     "text": [
      "['나는', '이번주에', '영화를 볼 예정이다.']\n"
     ]
    }
   ],
   "source": [
    "print(A)"
   ]
  },
  {
   "cell_type": "code",
   "execution_count": 6,
   "id": "e198b5ab-4867-4f01-bc73-52c564cfdebb",
   "metadata": {},
   "outputs": [],
   "source": [
    "A[2] = \"다음주에\""
   ]
  },
  {
   "cell_type": "code",
   "execution_count": 11,
   "id": "2feae0da-b6cf-433c-8fbc-d6608c7c4290",
   "metadata": {},
   "outputs": [
    {
     "data": {
      "text/plain": [
       "['나는', '이번주에', '영화를 볼 예정이다.']"
      ]
     },
     "execution_count": 11,
     "metadata": {},
     "output_type": "execute_result"
    }
   ],
   "source": [
    "A = [\"나는\", \"이번주에\", \"영화를 볼 예정이다.\"]\n",
    "A"
   ]
  },
  {
   "cell_type": "code",
   "execution_count": 12,
   "id": "8719da3c-87f2-4108-bc8d-102073678e4d",
   "metadata": {},
   "outputs": [],
   "source": [
    "A[1] = \"다음주에\""
   ]
  },
  {
   "cell_type": "code",
   "execution_count": 13,
   "id": "97bc6712-fe95-41c6-a68c-b4fd65f18ffc",
   "metadata": {},
   "outputs": [
    {
     "name": "stdout",
     "output_type": "stream",
     "text": [
      "['나는', '다음주에', '영화를 볼 예정이다.']\n"
     ]
    }
   ],
   "source": [
    "print(A)"
   ]
  },
  {
   "cell_type": "code",
   "execution_count": null,
   "id": "7919b793-9625-481e-b8c3-fbbc3d417664",
   "metadata": {},
   "outputs": [],
   "source": [
    "#다음 리스트 안의 숫자를 1 부터 10까지의 숫자로 채워 정렬하세요."
   ]
  },
  {
   "cell_type": "code",
   "execution_count": null,
   "id": "58b94794-7d7c-43a3-a39e-13627ee04aa7",
   "metadata": {},
   "outputs": [],
   "source": [
    "a = [10, 4, 5, 2, 8, 9, 1, 14]"
   ]
  },
  {
   "cell_type": "code",
   "execution_count": 14,
   "id": "3783f91a-177e-434d-bade-cbf7e4dd3527",
   "metadata": {},
   "outputs": [
    {
     "data": {
      "text/plain": [
       "[1, 2, 3, 4, 5, 6, 7, 8, 9, 10]"
      ]
     },
     "execution_count": 14,
     "metadata": {},
     "output_type": "execute_result"
    }
   ],
   "source": [
    "a = [10, 4, 5, 2, 8, 9, 1, 14]\n",
    "a.extend([3,6,7])\n",
    "a.sort()\n",
    "a.remove(14)\n",
    "a"
   ]
  },
  {
   "cell_type": "code",
   "execution_count": null,
   "id": "57f35fa3-531d-4396-9fde-53c2424e081e",
   "metadata": {},
   "outputs": [],
   "source": [
    "\n",
    "\n",
    "6/16\n",
    "\n"
   ]
  },
  {
   "cell_type": "code",
   "execution_count": null,
   "id": "08f11f2f-d154-4012-9bbc-d27b45b6faf0",
   "metadata": {},
   "outputs": [],
   "source": [
    "# 다음 학생들의 성적을 딕셔너리 타입으로 만든 후 \"홍길동\"의 점수를 100점으로 수정합시다."
   ]
  },
  {
   "cell_type": "code",
   "execution_count": 16,
   "id": "899eee79-11d3-4e84-8c97-8001c4405beb",
   "metadata": {},
   "outputs": [
    {
     "data": {
      "text/plain": [
       "{'홍길동': '100', '전우치': '90', '손오공': '80'}"
      ]
     },
     "execution_count": 16,
     "metadata": {},
     "output_type": "execute_result"
    }
   ],
   "source": [
    "a = {'홍길동' : '90', '전우치' : '90', '손오공' : '80'}\n",
    "a['홍길동'] = '100'\n",
    "a"
   ]
  },
  {
   "cell_type": "code",
   "execution_count": 18,
   "id": "217c9925-ec24-457e-8015-e1473aaa6862",
   "metadata": {},
   "outputs": [
    {
     "data": {
      "text/plain": [
       "dict_keys(['홍길동', '전우치', '손오공'])"
      ]
     },
     "execution_count": 18,
     "metadata": {},
     "output_type": "execute_result"
    }
   ],
   "source": [
    "a.keys()          #이름만 출력 key 값"
   ]
  },
  {
   "cell_type": "code",
   "execution_count": 19,
   "id": "c70070d8-ef8d-4574-9c94-05586b9f8624",
   "metadata": {},
   "outputs": [
    {
     "data": {
      "text/plain": [
       "dict_items([('홍길동', '100'), ('전우치', '90'), ('손오공', '80')])"
      ]
     },
     "execution_count": 19,
     "metadata": {},
     "output_type": "execute_result"
    }
   ],
   "source": [
    "a.items()         #전부 다 출력"
   ]
  },
  {
   "cell_type": "code",
   "execution_count": null,
   "id": "fc4127be-b682-4611-bf2c-2d0254f32cb2",
   "metadata": {},
   "outputs": [],
   "source": [
    "#엄마 '봉미선'의 나이는 30세이고, 아들 '짱구의 나이는 5세이다."
   ]
  },
  {
   "cell_type": "code",
   "execution_count": 21,
   "id": "0344ca7f-fe7a-44bf-ac73-4ffc36f0083b",
   "metadata": {},
   "outputs": [
    {
     "name": "stdin",
     "output_type": "stream",
     "text": [
      "엄마 '봉미선'은 00세이고, 30\n",
      "아들 '짱구'의 나이는 00세이며, 5\n",
      "둘의 나이차이 00세이다. 25\n"
     ]
    }
   ],
   "source": [
    "a = input(\"엄마 '봉미선'은 00세이고,\")\n",
    "b = input(\"아들 '짱구'의 나이는 00세이며,\")\n",
    "c = input(\"둘의 나이차이 00세이다.\")"
   ]
  },
  {
   "cell_type": "code",
   "execution_count": 24,
   "id": "d0c5c24a-b7bb-4642-ab64-8b6a1decea26",
   "metadata": {},
   "outputs": [
    {
     "name": "stdin",
     "output_type": "stream",
     "text": [
      "봉미선 나이? 30\n",
      "짱구 나이? 5\n",
      "둘의 나이차이? 25\n"
     ]
    },
    {
     "name": "stdout",
     "output_type": "stream",
     "text": [
      "\"엄마 '봉미선'은 30세이고, 아들 '짱구'의 나이는 5세이며,\n",
      " 둘의 나이차이는 25세이다.\"\n"
     ]
    }
   ],
   "source": [
    "a = input(\"봉미선 나이?\")\n",
    "b = input(\"짱구 나이?\")\n",
    "c = input(\"둘의 나이차이?\")\n",
    "print(f'''\"엄마 '봉미선'은 {a}세이고, 아들 '짱구'의 나이는 {b}세이며,\\n 둘의 나이차이는 {c}세이다.\"''')"
   ]
  },
  {
   "cell_type": "code",
   "execution_count": null,
   "id": "82c4f72f-ee03-461e-a6ae-c95cb7999638",
   "metadata": {},
   "outputs": [],
   "source": [
    "# \"Google engineer says Lamda AI system may have its own feelings\""
   ]
  },
  {
   "cell_type": "code",
   "execution_count": 25,
   "id": "029851e8-37bc-49c3-919d-57031796047f",
   "metadata": {},
   "outputs": [
    {
     "data": {
      "text/plain": [
       "62"
      ]
     },
     "execution_count": 25,
     "metadata": {},
     "output_type": "execute_result"
    }
   ],
   "source": [
    "a = \"Google engineer says Lamda AI system may have its own feelings\"\n",
    "len(a)"
   ]
  },
  {
   "cell_type": "code",
   "execution_count": 27,
   "id": "03b5f759-125a-4338-b9ab-232d9259eb69",
   "metadata": {},
   "outputs": [
    {
     "data": {
      "text/plain": [
       "'engineer '"
      ]
     },
     "execution_count": 27,
     "metadata": {},
     "output_type": "execute_result"
    }
   ],
   "source": [
    "a[7:16]"
   ]
  },
  {
   "cell_type": "code",
   "execution_count": 31,
   "id": "e8a9f90a-4ef8-43b7-ab0a-43bfc7c91d03",
   "metadata": {},
   "outputs": [
    {
     "data": {
      "text/plain": [
       "'feelings'"
      ]
     },
     "execution_count": 31,
     "metadata": {},
     "output_type": "execute_result"
    }
   ],
   "source": [
    "a[-8: ]"
   ]
  },
  {
   "cell_type": "code",
   "execution_count": 34,
   "id": "a4bbbfce-de83-4c07-b6cb-537df4585c99",
   "metadata": {},
   "outputs": [
    {
     "data": {
      "text/plain": [
       "'FEELINGS'"
      ]
     },
     "execution_count": 34,
     "metadata": {},
     "output_type": "execute_result"
    }
   ],
   "source": [
    "a[-8:].upper()"
   ]
  },
  {
   "cell_type": "code",
   "execution_count": null,
   "id": "f071f1c2-64e9-4c11-8c61-8b852fb424ce",
   "metadata": {},
   "outputs": [],
   "source": [
    "# a = [1, 2, ['Life', 'is', 'short', [\"We\", \"need\", \"python\"]]]"
   ]
  },
  {
   "cell_type": "code",
   "execution_count": 35,
   "id": "c51c3d73-ee0f-410f-b177-b64d52b81a71",
   "metadata": {},
   "outputs": [
    {
     "name": "stdout",
     "output_type": "stream",
     "text": [
      "python\n"
     ]
    }
   ],
   "source": [
    "a = [1, 2, ['Life', 'is', 'short', [\"We\", \"need\", \"python\"]]]\n",
    "print(a[2][3][2])"
   ]
  },
  {
   "cell_type": "code",
   "execution_count": null,
   "id": "e062a663-239c-4b1d-b2ee-9a7b7e4e3d37",
   "metadata": {},
   "outputs": [],
   "source": [
    "a = [1, 2, 3, 4]\n",
    "2를 20으로"
   ]
  },
  {
   "cell_type": "code",
   "execution_count": 38,
   "id": "1e197691-251b-49b0-ab79-34a0189a8c3a",
   "metadata": {},
   "outputs": [
    {
     "data": {
      "text/plain": [
       "[1, 20, 3, 4]"
      ]
     },
     "execution_count": 38,
     "metadata": {},
     "output_type": "execute_result"
    }
   ],
   "source": [
    "a = [1, 2, 3, 4]\n",
    "a[1] = 20\n",
    "a"
   ]
  },
  {
   "cell_type": "code",
   "execution_count": null,
   "id": "7046e62d-00c3-4238-a6b4-5c50b2f7d29e",
   "metadata": {},
   "outputs": [],
   "source": [
    "A = [\"나는\", \"이번주에\", \"영화를 볼 예정이다.\"]\n",
    "에서 '이번주에'를 '다음주에'로 바꾸시오."
   ]
  },
  {
   "cell_type": "code",
   "execution_count": 42,
   "id": "ff79f433-3514-48db-8f90-68c6fac63736",
   "metadata": {},
   "outputs": [
    {
     "data": {
      "text/plain": [
       "['나는', '다음주에', '영화를 볼 예정이다.']"
      ]
     },
     "execution_count": 42,
     "metadata": {},
     "output_type": "execute_result"
    }
   ],
   "source": [
    "A = [\"나는\", \"이번주에\", \"영화를 볼 예정이다.\"]\n",
    "A[1] = \"다음주에\"\n",
    "A"
   ]
  },
  {
   "cell_type": "code",
   "execution_count": null,
   "id": "4cbbdcfe-11b5-457d-9028-bb7d590872e3",
   "metadata": {},
   "outputs": [],
   "source": [
    "# \n",
    "immutable (수정 불가능하다) : 문자열, 튜플"
   ]
  },
  {
   "cell_type": "code",
   "execution_count": 43,
   "id": "201d1c90-fa53-49e8-bc72-7556215dcc3e",
   "metadata": {},
   "outputs": [
    {
     "data": {
      "text/plain": [
       "'NEVER'"
      ]
     },
     "execution_count": 43,
     "metadata": {},
     "output_type": "execute_result"
    }
   ],
   "source": [
    "a = \"never\"\n",
    "a.upper()"
   ]
  },
  {
   "cell_type": "code",
   "execution_count": null,
   "id": "d5f2448a-c62e-4a16-ab2f-88cb667188bc",
   "metadata": {},
   "outputs": [],
   "source": [
    "2. for문을 사용하여\n",
    "\"딕셔너리의 영어로 i는 숫자로 j 입니다.\"\n",
    "라는 문자들을 출력하라."
   ]
  },
  {
   "cell_type": "code",
   "execution_count": 46,
   "id": "3c606cff-a4f0-4f0c-852a-7a6a730c1a9b",
   "metadata": {},
   "outputs": [],
   "source": [
    "a = {'one':1, 'two':2, 'three':3}"
   ]
  },
  {
   "cell_type": "code",
   "execution_count": 48,
   "id": "038cbe49-cfe8-4cba-9ecc-164512ddde55",
   "metadata": {},
   "outputs": [
    {
     "name": "stdout",
     "output_type": "stream",
     "text": [
      "딕셔너리의 영어로 one는 숫자로 1입니다.\n",
      "딕셔너리의 영어로 two는 숫자로 2입니다.\n",
      "딕셔너리의 영어로 three는 숫자로 3입니다.\n"
     ]
    }
   ],
   "source": [
    "for i, j in a.items():\n",
    "    print(f\"딕셔너리의 영어로 {i}는 숫자로 {j}입니다.\")"
   ]
  },
  {
   "cell_type": "code",
   "execution_count": 3,
   "id": "30fae2af-328a-41d2-a82f-38e88f03e995",
   "metadata": {},
   "outputs": [
    {
     "name": "stdin",
     "output_type": "stream",
     "text": [
      "당신의 여행 경비는 얼마입니까? 300\n"
     ]
    },
    {
     "name": "stdout",
     "output_type": "stream",
     "text": [
      "미국\n"
     ]
    }
   ],
   "source": [
    "travel = int(input(\"당신의 여행 경비는 얼마입니까?\"))\n",
    "\n",
    "if travel <= 100 :\n",
    "    print(\"제주도\")\n",
    "elif travel <= 200 :\n",
    "    print(\"동남아\")\n",
    "elif travel <= 300 :\n",
    "    print(\"미국\")\n",
    "else :\n",
    "    print(\"어디든지\")"
   ]
  },
  {
   "cell_type": "code",
   "execution_count": 5,
   "id": "e8c09eb4-670e-491c-971e-0ca4e7286a83",
   "metadata": {},
   "outputs": [
    {
     "name": "stdout",
     "output_type": "stream",
     "text": [
      "735\n"
     ]
    }
   ],
   "source": [
    "sum = 0\n",
    "for i in range(1, 101) :\n",
    "    if i % 7 == 0 :\n",
    "        sum += i\n",
    "print(sum)"
   ]
  },
  {
   "cell_type": "code",
   "execution_count": 22,
   "id": "b4726a38-acbf-4c51-a8eb-cdceaf0640df",
   "metadata": {},
   "outputs": [
    {
     "name": "stdout",
     "output_type": "stream",
     "text": [
      "1\n",
      "2\n",
      "3\n",
      "4\n",
      "6\n",
      "7\n",
      "8\n",
      "9\n",
      "11\n",
      "12\n",
      "13\n",
      "14\n",
      "16\n",
      "17\n",
      "18\n",
      "19\n",
      "21\n",
      "22\n",
      "23\n",
      "24\n",
      "26\n",
      "27\n",
      "28\n",
      "29\n",
      "31\n",
      "32\n",
      "33\n",
      "34\n",
      "36\n",
      "37\n",
      "38\n",
      "39\n",
      "41\n",
      "42\n",
      "43\n",
      "44\n",
      "46\n",
      "47\n",
      "48\n",
      "49\n"
     ]
    }
   ],
   "source": [
    "a = 0\n",
    "while a < 50 :\n",
    "    a += 1\n",
    "    if a % 5 == 0 :\n",
    "        continue\n",
    "    print(a)"
   ]
  },
  {
   "cell_type": "code",
   "execution_count": 2,
   "id": "afa13511-12d5-46e9-9be1-939540f3520c",
   "metadata": {},
   "outputs": [
    {
     "name": "stdout",
     "output_type": "stream",
     "text": [
      "1는 홀수입니다\n",
      "2는 짝수입니다\n",
      "3는 홀수입니다\n",
      "4는 짝수입니다\n",
      "5는 홀수입니다\n",
      "6는 짝수입니다\n",
      "7는 홀수입니다\n",
      "8는 짝수입니다\n",
      "9는 홀수입니다\n",
      "10는 짝수입니다\n"
     ]
    }
   ],
   "source": [
    "# 1부터 10까지의 수가 홀수인지 짝수인지를 판별하여 나타내 주세요\n",
    "\n",
    "for i in range(1, 11) :\n",
    "    if i % 2 == 0 :\n",
    "        print(f\"{i}는 짝수입니다\")\n",
    "    else :\n",
    "        print(f\"{i}는 홀수입니다\")"
   ]
  },
  {
   "cell_type": "code",
   "execution_count": 6,
   "id": "e8d815e1-8cb1-4d7b-a023-6690d7bf646c",
   "metadata": {},
   "outputs": [
    {
     "name": "stdout",
     "output_type": "stream",
     "text": [
      "1580\n"
     ]
    }
   ],
   "source": [
    "# 1부터 100까지 5의 배수 또는 7의 배수의 합\n",
    "\n",
    "sum = 0\n",
    "for i in range(1, 100) :\n",
    "    if i % 5 == 0 or i % 7 == 0 :\n",
    "        sum += i\n",
    "print(sum)"
   ]
  },
  {
   "cell_type": "code",
   "execution_count": 5,
   "id": "d3584f44-b7a1-42df-b291-9aeda419bb08",
   "metadata": {},
   "outputs": [
    {
     "name": "stdout",
     "output_type": "stream",
     "text": [
      "1580\n"
     ]
    }
   ],
   "source": [
    "sum = 0\n",
    "for i in range(100) :\n",
    "    if i % 5 == 0 :\n",
    "        sum += i \n",
    "    elif i % 7 == 0 :\n",
    "        sum += i\n",
    "print(sum)"
   ]
  },
  {
   "cell_type": "code",
   "execution_count": null,
   "id": "7ac0352f-ef90-4b77-b81b-2ec6df8c3e09",
   "metadata": {},
   "outputs": [],
   "source": [
    "# 35 부터 155까지 홀수의 합과 그 개수는?\n",
    "#\"35 부터 155까지의 합은 00고 개수는 00입니다.\"로 출력하시오\n",
    "\n",
    "sum = 0\n",
    "count = 0\n",
    "for i in range(35, 156) :\n",
    "    if i % 2 == 1 :\n",
    "        sum += i\n",
    "        count += i\n",
    "    print(f\"35부터 155까지 합은 {sum}이고 개수는 {count}입니다\")"
   ]
  },
  {
   "cell_type": "code",
   "execution_count": 1,
   "id": "de5e0651-f753-4eb9-b609-8e412a3350bb",
   "metadata": {},
   "outputs": [
    {
     "name": "stdout",
     "output_type": "stream",
     "text": [
      "100\n"
     ]
    }
   ],
   "source": [
    "sum = 0\n",
    "i = 0\n",
    "while i < 100 :\n",
    "    sum += 1\n",
    "    i += 1\n",
    "print(sum)"
   ]
  },
  {
   "cell_type": "code",
   "execution_count": 2,
   "id": "77af70a2-fb8b-40d8-9ae2-1bb282462bbe",
   "metadata": {},
   "outputs": [
    {
     "name": "stdout",
     "output_type": "stream",
     "text": [
      "/\n",
      "//\n",
      "///\n",
      "////\n",
      "/////\n"
     ]
    }
   ],
   "source": [
    "i = 0\n",
    "while True :\n",
    "    i += 1\n",
    "    if i>5 : break\n",
    "    print(\"/\"*i)"
   ]
  },
  {
   "cell_type": "code",
   "execution_count": 5,
   "id": "10b45d16-b3d8-458e-a673-655ce6fa428b",
   "metadata": {},
   "outputs": [
    {
     "name": "stdout",
     "output_type": "stream",
     "text": [
      "[1, 2, 3, 4] [1, 222, 3, 4]\n"
     ]
    }
   ],
   "source": [
    "# a = [1, 2, 3, 4] 일때 b = [1, 222, 3, 4]로 수정하시오. (단, a는 변화 없음) \n",
    "\n",
    "a = [1, 2, 3, 4]\n",
    "b = a. copy()\n",
    "b[1] = 222\n",
    "\n",
    "print(a, b)"
   ]
  },
  {
   "cell_type": "code",
   "execution_count": null,
   "id": "6cec962a-3a08-4dc6-b352-869fa324ce80",
   "metadata": {},
   "outputs": [],
   "source": [
    "# a = [1, 2, 3, 4, 5, 6, 7, 8, 9]에서 3의 배수들만 제곱하여 다시 리스트를 출력하시오.\n",
    "# 답 : [1, 2, 9, 4, 5, 36, 7, 8, 81]\n",
    "\n",
    "a = [1, 2, 3, 4, 5, 6, 7, 8, 9]\n",
    "b = []\n",
    "for i in a :\n",
    "    if i % 3 == 0 :\n",
    "        i = i** 2\n",
    "        a.append(i)\n",
    "    else :\n",
    "        b.appned(i)\n",
    "print(b)"
   ]
  },
  {
   "cell_type": "code",
   "execution_count": null,
   "id": "bcacc95c-6f52-4426-8cc4-fc413bbcbd17",
   "metadata": {},
   "outputs": [],
   "source": [
    "# a = [1, 2, 3, 4, 5, 6, 7, 8, 9]에서 3의 배수들만 제곱하여 다시 리스트를 출력하시오.\n",
    "# 답 : [1, 2, 9, 4, 5, 36, 7, 8, 81]"
   ]
  },
  {
   "cell_type": "code",
   "execution_count": 1,
   "id": "140740e5-c3c1-4865-88f1-1f5be3ec2172",
   "metadata": {},
   "outputs": [
    {
     "name": "stdout",
     "output_type": "stream",
     "text": [
      "[9, 36, 81]\n"
     ]
    }
   ],
   "source": [
    "a = [1, 2, 3, 4, 5, 6, 7, 8, 9]\n",
    "li = []\n",
    "for i in a :\n",
    "    if i % 3 == 0 :\n",
    "        i = i** 2\n",
    "        li.append(i)\n",
    "print(li)"
   ]
  },
  {
   "cell_type": "code",
   "execution_count": 2,
   "id": "e4ca3097-1a8c-48ee-8b76-665e0c49007e",
   "metadata": {},
   "outputs": [
    {
     "name": "stdout",
     "output_type": "stream",
     "text": [
      "[1, 4, 9, 16, 25, 36, 49, 64, 81]\n"
     ]
    }
   ],
   "source": [
    "a = [1,2,3,4,5,6,7,8,9] \n",
    "result = [i ** 2 for i in a]\n",
    "print(result)"
   ]
  },
  {
   "cell_type": "code",
   "execution_count": 3,
   "id": "51336714-1852-4407-9a4c-556428cb0530",
   "metadata": {},
   "outputs": [
    {
     "name": "stdout",
     "output_type": "stream",
     "text": [
      "[9, 36, 81]\n"
     ]
    }
   ],
   "source": [
    "a = [1,2,3,4,5,6,7,8,9]\n",
    "result = [i ** 2 for i in a if i % 3 == 0]\n",
    "print(result)"
   ]
  },
  {
   "cell_type": "code",
   "execution_count": null,
   "id": "3e6783c1-97eb-4209-be0a-5ff3ead54730",
   "metadata": {},
   "outputs": [],
   "source": [
    "# 1 - 100  < 3의 배수와 7의 배수의 합을 구하시오"
   ]
  },
  {
   "cell_type": "code",
   "execution_count": null,
   "id": "c7f4dd91-d491-4efe-aed7-b44ecdd78de9",
   "metadata": {},
   "outputs": [],
   "source": [
    "sum = 0\n",
    "a = 0\n",
    "while a < 100 :\n",
    "    if i % 3 == 0 or i % 7 == 0 :\n",
    "        sum += i\n",
    "        i += 1\n",
    "print(sum)"
   ]
  },
  {
   "cell_type": "code",
   "execution_count": 1,
   "id": "230f9416-2c48-4442-9d20-9a74681d93b9",
   "metadata": {},
   "outputs": [
    {
     "name": "stdout",
     "output_type": "stream",
     "text": [
      "2842\n"
     ]
    }
   ],
   "source": [
    "a = 0\n",
    "sum = 0\n",
    "while a < 100 :\n",
    "    a += 1\n",
    "    if a % 3 == 0 or a % 7 == 0 :\n",
    "        continue\n",
    "    sum +=a\n",
    "print(sum)"
   ]
  },
  {
   "cell_type": "code",
   "execution_count": null,
   "id": "e8a847e7-476c-4592-829f-419ab0adbee2",
   "metadata": {},
   "outputs": [],
   "source": [
    "# 1부터 6까지의 곱한 값은?"
   ]
  },
  {
   "cell_type": "code",
   "execution_count": 3,
   "id": "429e76e4-8ea2-4a43-8ce5-b7c722e00d6d",
   "metadata": {},
   "outputs": [
    {
     "name": "stdout",
     "output_type": "stream",
     "text": [
      "36\n"
     ]
    }
   ],
   "source": [
    "for i in range(1, 7) :\n",
    "    i *= i\n",
    "print (i)"
   ]
  },
  {
   "cell_type": "code",
   "execution_count": 12,
   "id": "a665d574-0c74-4f81-873a-472875d267d8",
   "metadata": {},
   "outputs": [
    {
     "data": {
      "text/plain": [
       "33.333333333333336"
      ]
     },
     "execution_count": 12,
     "metadata": {},
     "output_type": "execute_result"
    }
   ],
   "source": [
    "def div(a):\n",
    "    return a/3\n",
    "div(100)"
   ]
  },
  {
   "cell_type": "code",
   "execution_count": 25,
   "id": "55044621-c499-4efa-9524-608c5bc20c02",
   "metadata": {},
   "outputs": [
    {
     "ename": "IndentationError",
     "evalue": "expected an indented block (4030367478.py, line 4)",
     "output_type": "error",
     "traceback": [
      "\u001b[1;36m  Input \u001b[1;32mIn [25]\u001b[1;36m\u001b[0m\n\u001b[1;33m    print(div)\u001b[0m\n\u001b[1;37m              ^\u001b[0m\n\u001b[1;31mIndentationError\u001b[0m\u001b[1;31m:\u001b[0m expected an indented block\n"
     ]
    }
   ],
   "source": [
    "def div(a):\n",
    "    for i in range(100):\n",
    "        if a % 3 == 0:\n",
    "print(div)"
   ]
  },
  {
   "cell_type": "code",
   "execution_count": 19,
   "id": "27a608b4-c770-438c-81ef-dcbc60f142ef",
   "metadata": {},
   "outputs": [],
   "source": [
    "def div(a):\n",
    "    for i in range(100):\n",
    "        if a % 3 == 0:\n",
    "print(a)"
   ]
  },
  {
   "cell_type": "code",
   "execution_count": 21,
   "id": "d97dbc19-b683-4137-aa21-97e08124505c",
   "metadata": {},
   "outputs": [
    {
     "ename": "NameError",
     "evalue": "name 'a' is not defined",
     "output_type": "error",
     "traceback": [
      "\u001b[1;31m---------------------------------------------------------------------------\u001b[0m",
      "\u001b[1;31mNameError\u001b[0m                                 Traceback (most recent call last)",
      "Input \u001b[1;32mIn [21]\u001b[0m, in \u001b[0;36m<cell line: 1>\u001b[1;34m()\u001b[0m\n\u001b[1;32m----> 1\u001b[0m div(\u001b[43ma\u001b[49m)\n",
      "\u001b[1;31mNameError\u001b[0m: name 'a' is not defined"
     ]
    }
   ],
   "source": []
  },
  {
   "cell_type": "code",
   "execution_count": 27,
   "id": "076271a4-d514-470a-ae24-76cf2d2d9f4f",
   "metadata": {},
   "outputs": [
    {
     "data": {
      "text/plain": [
       "9"
      ]
     },
     "execution_count": 27,
     "metadata": {},
     "output_type": "execute_result"
    }
   ],
   "source": [
    "def div_even(a):\n",
    "    return a*3\n",
    "div_even(3)"
   ]
  },
  {
   "cell_type": "code",
   "execution_count": 28,
   "id": "5b8cceb3-097e-42f4-9cb9-817cc20e271c",
   "metadata": {},
   "outputs": [],
   "source": [
    "def temp(a):\n",
    "    if a > 20:\n",
    "        return \"봄\"\n",
    "    if a > 30 :\n",
    "        return \"여름\"\n",
    "    if a > 10 :\n",
    "        return \"가을\"\n",
    "    else:\n",
    "        return \"겨울\""
   ]
  },
  {
   "cell_type": "code",
   "execution_count": 29,
   "id": "175a8633-8eea-4898-9940-8afb5de11760",
   "metadata": {},
   "outputs": [
    {
     "data": {
      "text/plain": [
       "'가을'"
      ]
     },
     "execution_count": 29,
     "metadata": {},
     "output_type": "execute_result"
    }
   ],
   "source": [
    "temp(12)"
   ]
  },
  {
   "cell_type": "code",
   "execution_count": null,
   "id": "c490a19f-b61a-4828-8ef4-a15d49d9700a",
   "metadata": {},
   "outputs": [],
   "source": [
    "# 3의 배수의 수를 100까지 반복하세요"
   ]
  },
  {
   "cell_type": "code",
   "execution_count": 31,
   "id": "87912d04-650c-4f51-853b-8f2dd0b8652b",
   "metadata": {},
   "outputs": [
    {
     "ename": "SyntaxError",
     "evalue": "invalid syntax (3342965635.py, line 2)",
     "output_type": "error",
     "traceback": [
      "\u001b[1;36m  Input \u001b[1;32mIn [31]\u001b[1;36m\u001b[0m\n\u001b[1;33m    for i in range(3, 100, 3)\u001b[0m\n\u001b[1;37m                             ^\u001b[0m\n\u001b[1;31mSyntaxError\u001b[0m\u001b[1;31m:\u001b[0m invalid syntax\n"
     ]
    }
   ],
   "source": [
    "def rep(a):\n",
    "    "
   ]
  },
  {
   "cell_type": "code",
   "execution_count": 38,
   "id": "73577dd0-4f91-44f7-a85d-c5caec61db2e",
   "metadata": {},
   "outputs": [
    {
     "name": "stdout",
     "output_type": "stream",
     "text": [
      "0 서울\n",
      "1 부산\n",
      "2 제주도\n"
     ]
    }
   ],
   "source": [
    "x = [\"서울\", \"부산\", \"제주도\"]\n",
    "city = enumerate(x)\n",
    "\n",
    "for i,j in city:\n",
    "    print(i, j)"
   ]
  },
  {
   "cell_type": "code",
   "execution_count": 35,
   "id": "0dac9114-6cfe-4144-b741-3bc9af09afab",
   "metadata": {},
   "outputs": [
    {
     "name": "stdout",
     "output_type": "stream",
     "text": [
      "서 울\n",
      "부 산\n"
     ]
    },
    {
     "ename": "ValueError",
     "evalue": "too many values to unpack (expected 2)",
     "output_type": "error",
     "traceback": [
      "\u001b[1;31m---------------------------------------------------------------------------\u001b[0m",
      "\u001b[1;31mValueError\u001b[0m                                Traceback (most recent call last)",
      "Input \u001b[1;32mIn [35]\u001b[0m, in \u001b[0;36m<cell line: 1>\u001b[1;34m()\u001b[0m\n\u001b[1;32m----> 1\u001b[0m \u001b[38;5;28;01mfor\u001b[39;00m i, j \u001b[38;5;129;01min\u001b[39;00m x:\n\u001b[0;32m      2\u001b[0m     \u001b[38;5;28mprint\u001b[39m(i, j)\n",
      "\u001b[1;31mValueError\u001b[0m: too many values to unpack (expected 2)"
     ]
    }
   ],
   "source": []
  },
  {
   "cell_type": "code",
   "execution_count": 1,
   "id": "10125db3-0745-45cc-8f44-0a30732ac54e",
   "metadata": {},
   "outputs": [
    {
     "data": {
      "text/plain": [
       "6"
      ]
     },
     "execution_count": 1,
     "metadata": {},
     "output_type": "execute_result"
    }
   ],
   "source": [
    "def add_mul(choice,*a):   \n",
    "\n",
    "    sum=0\n",
    "    mul=1\n",
    "    if choice=='sum':\n",
    "        for i in a:\n",
    "            sum+=i\n",
    "        return sum\n",
    "    if choice=='mul':\n",
    "        for i in a:\n",
    "            mul*=i\n",
    "    return mul \n",
    "add_mul('mul', 1, 2, 3)"
   ]
  },
  {
   "cell_type": "code",
   "execution_count": 2,
   "id": "7d5f4275-1c2e-41c3-9a34-0503320061f2",
   "metadata": {},
   "outputs": [
    {
     "data": {
      "text/plain": [
       "6"
      ]
     },
     "execution_count": 2,
     "metadata": {},
     "output_type": "execute_result"
    }
   ],
   "source": [
    "def add_mul(choice,*a):   \n",
    "\n",
    "    sum=0\n",
    "    mul=1\n",
    "    if choice=='sum':\n",
    "        for i in a:\n",
    "            sum+=i\n",
    "        return sum\n",
    "    if choice=='mul':\n",
    "        for i in a:\n",
    "            mul*=i\n",
    "    return mul \n",
    "add_mul('sum',1,2,3)"
   ]
  },
  {
   "cell_type": "code",
   "execution_count": 4,
   "id": "f148c516-bfb2-40a8-aff6-f5b4ca9a4f1d",
   "metadata": {},
   "outputs": [
    {
     "data": {
      "text/plain": [
       "0"
      ]
     },
     "execution_count": 4,
     "metadata": {},
     "output_type": "execute_result"
    }
   ],
   "source": [
    "def add_mul(choice,*a):   \n",
    "\n",
    "    sum=0\n",
    "    mul=1\n",
    "    if choice=='sum':\n",
    "        for i in a:\n",
    "            sum+=i\n",
    "    return sum\n",
    "    if choice=='mul':\n",
    "        for i in a:\n",
    "            mul*=i\n",
    "    return mul \n",
    "add_mul('mul', 1, 2, 3)"
   ]
  },
  {
   "cell_type": "code",
   "execution_count": 5,
   "id": "4345469b-3c40-47bd-b3f8-75629555a6ca",
   "metadata": {},
   "outputs": [
    {
     "data": {
      "text/plain": [
       "6"
      ]
     },
     "execution_count": 5,
     "metadata": {},
     "output_type": "execute_result"
    }
   ],
   "source": [
    "def add_mul(choice,*a):   \n",
    "\n",
    "    sum=0\n",
    "    mul=1\n",
    "    if choice=='sum':\n",
    "        for i in a:\n",
    "            sum+=i\n",
    "    return sum\n",
    "    if choice=='mul':\n",
    "        for i in a:\n",
    "            mul*=i\n",
    "    return mul \n",
    "add_mul('sum',1,2,3)"
   ]
  },
  {
   "cell_type": "code",
   "execution_count": 8,
   "id": "f9f4319d-178b-494f-946b-d3e3c65b7f1e",
   "metadata": {},
   "outputs": [
    {
     "data": {
      "text/plain": [
       "120"
      ]
     },
     "execution_count": 8,
     "metadata": {},
     "output_type": "execute_result"
    }
   ],
   "source": [
    "# 함수를 이용하여 1부터 15까지 더하시오.\n",
    "\n",
    "def add() :\n",
    "    a = 0\n",
    "    for i in range(1, 16) :\n",
    "        a += i\n",
    "    return a\n",
    "add()"
   ]
  },
  {
   "cell_type": "code",
   "execution_count": 3,
   "id": "aab35a1a-9a30-484d-a44f-cd26d9986b77",
   "metadata": {},
   "outputs": [
    {
     "data": {
      "text/plain": [
       "[3, 9, 15, 21, 27]"
      ]
     },
     "execution_count": 3,
     "metadata": {},
     "output_type": "execute_result"
    }
   ],
   "source": [
    "# [1, 2, 3, 4, 5, 6, 7, 8, 9, 10] 중에서 홀수에만 3을 곱하여 만들기\n",
    "\n",
    "a =  [1, 2, 3, 4, 5, 6, 7, 8, 9, 10]\n",
    "result = [i*3 for i in a if i % 2 == 1]\n",
    "result"
   ]
  },
  {
   "cell_type": "code",
   "execution_count": 10,
   "id": "6c857a36-3f44-4d6b-a803-abe09ef22059",
   "metadata": {},
   "outputs": [
    {
     "data": {
      "text/plain": [
       "120"
      ]
     },
     "execution_count": 10,
     "metadata": {},
     "output_type": "execute_result"
    }
   ],
   "source": [
    "# factorial을 계산하는 함수를 for 문으로\n",
    "\n",
    "def fac(n):\n",
    "    result = 1\n",
    "    for i in range(1, n+1):\n",
    "        result *= i\n",
    "    return result\n",
    "fac(5)"
   ]
  },
  {
   "cell_type": "code",
   "execution_count": 12,
   "id": "6bbe874e-d829-4ed8-aaab-4d159de00eef",
   "metadata": {},
   "outputs": [
    {
     "data": {
      "text/plain": [
       "120"
      ]
     },
     "execution_count": 12,
     "metadata": {},
     "output_type": "execute_result"
    }
   ],
   "source": [
    "# factorial을 계산하는 함수를 재귀 함수로\n",
    "\n",
    "def fac_2(n) :\n",
    "    if n == 1 :\n",
    "        return 1\n",
    "    return n * f(n-1)\n",
    "fac(5)"
   ]
  },
  {
   "cell_type": "code",
   "execution_count": 17,
   "id": "0b7aa77d-3ad0-49ec-8e01-18672500847e",
   "metadata": {},
   "outputs": [
    {
     "data": {
      "text/plain": [
       "55"
      ]
     },
     "execution_count": 17,
     "metadata": {},
     "output_type": "execute_result"
    }
   ],
   "source": [
    "def fib_2(n) :                            # 피보나치 수열\n",
    "    if n == 1 or n == 2:\n",
    "        return 1\n",
    "    return fib_2(n-2) + fib_2(n-1)\n",
    "fib_2(10)"
   ]
  },
  {
   "cell_type": "code",
   "execution_count": 19,
   "id": "34e0db15-34dc-4c86-948d-39652d1acf69",
   "metadata": {},
   "outputs": [
    {
     "data": {
      "text/plain": [
       "34"
      ]
     },
     "execution_count": 19,
     "metadata": {},
     "output_type": "execute_result"
    }
   ],
   "source": [
    "def fib_2(n) :\n",
    "    if n == 1 :\n",
    "        return 0\n",
    "    elif n == 2 :\n",
    "        return 1\n",
    "    return fib_2(n-1) + fib_2(n-2)\n",
    "fib_2(10)"
   ]
  },
  {
   "cell_type": "code",
   "execution_count": null,
   "id": "9f313a86-5848-44d4-81fb-6d8a69700ebe",
   "metadata": {},
   "outputs": [],
   "source": [
    "# 세자리수를 입력받아 각 자리수의 숫자들을 반환하는 함수를 작성하라.\n",
    "# ex) 인수가 265일 경우 (2, 6, 5)를 반환"
   ]
  },
  {
   "cell_type": "code",
   "execution_count": 25,
   "id": "af2d1472-abb4-4a4b-a356-3dc0788fe855",
   "metadata": {},
   "outputs": [
    {
     "data": {
      "text/plain": [
       "(5, 7, 9)"
      ]
     },
     "execution_count": 25,
     "metadata": {},
     "output_type": "execute_result"
    }
   ],
   "source": [
    "def th(num) :\n",
    "    x = num // 100\n",
    "    num -= x * 100\n",
    "    y = num // 10\n",
    "    num -= y * 10\n",
    "    z = num\n",
    "    return x, y, z\n",
    "th(579)"
   ]
  },
  {
   "cell_type": "code",
   "execution_count": 26,
   "id": "8ee336c4-1b55-4927-a1a1-97caefd9cfcf",
   "metadata": {},
   "outputs": [
    {
     "name": "stdout",
     "output_type": "stream",
     "text": [
      "5 7 9\n"
     ]
    }
   ],
   "source": [
    "def wh(n) :\n",
    "    a = n //100\n",
    "    b = (n-a*100)//10\n",
    "    c = (n-a*100-b*10)\n",
    "    print(a,b,c)\n",
    "wh(579)"
   ]
  },
  {
   "cell_type": "code",
   "execution_count": 27,
   "id": "dbfbd262-9315-47b8-bfa4-9c2adf08d968",
   "metadata": {},
   "outputs": [
    {
     "name": "stdout",
     "output_type": "stream",
     "text": [
      "5\n",
      "7\n",
      "9\n"
     ]
    }
   ],
   "source": [
    "def qh(n) :\n",
    "    a = str(n)\n",
    "    for i in range(3) :\n",
    "        print(a[i])\n",
    "qh(579)"
   ]
  },
  {
   "cell_type": "code",
   "execution_count": 28,
   "id": "eec393b2-2cf7-4199-994b-f17198502287",
   "metadata": {},
   "outputs": [],
   "source": [
    "# 임의의 두 수의 합을 처음 부른 수로 나누는 식을 만들어 보세요.\n",
    "\n",
    "def cal (a, b):\n",
    "        return (a+b) / a"
   ]
  },
  {
   "cell_type": "code",
   "execution_count": 29,
   "id": "3637f0f0-8191-4fd2-acd6-ebb66e87f6b9",
   "metadata": {},
   "outputs": [
    {
     "data": {
      "text/plain": [
       "3.0"
      ]
     },
     "execution_count": 29,
     "metadata": {},
     "output_type": "execute_result"
    }
   ],
   "source": [
    "cal (3, 6)"
   ]
  },
  {
   "cell_type": "code",
   "execution_count": 30,
   "id": "969443e1-e126-4d6a-bde4-1c5b2956af44",
   "metadata": {},
   "outputs": [],
   "source": [
    "# 람다 함수로 변경해 볼 것\n",
    "\n",
    "a = lambda a, b : (a + b) / a "
   ]
  },
  {
   "cell_type": "code",
   "execution_count": 31,
   "id": "e87e15a8-d7bc-4ff6-b6f1-dff8d92fc6e2",
   "metadata": {},
   "outputs": [
    {
     "data": {
      "text/plain": [
       "3.0"
      ]
     },
     "execution_count": 31,
     "metadata": {},
     "output_type": "execute_result"
    }
   ],
   "source": [
    "a (3, 6)"
   ]
  },
  {
   "cell_type": "code",
   "execution_count": 36,
   "id": "7a49dfd1-1fd5-4382-85d3-51b5c3cec72a",
   "metadata": {},
   "outputs": [],
   "source": [
    "# thanks.txt에 다음 두 줄을 저장하세요. (두가지 방법)\n",
    "\n",
    "f = open(\"thanks.txt\", \"w\")\n",
    "f.write(\"Hello \\n\")\n",
    "f.write(\"Thank you\")\n",
    "f.close()"
   ]
  },
  {
   "cell_type": "code",
   "execution_count": 38,
   "id": "a1412bf6-f1cd-4ff0-b065-3aec8d987032",
   "metadata": {},
   "outputs": [],
   "source": [
    "with open(\"thanks2.txt\", \"w\") as f:\n",
    "    f.write(\"Hello \\n\")\n",
    "    f.write(\"Thank you\")"
   ]
  },
  {
   "cell_type": "code",
   "execution_count": 39,
   "id": "d8e35e26-a576-4d2f-bf5d-500a8263bce5",
   "metadata": {},
   "outputs": [],
   "source": [
    "with open(\"thanks.txt\", \"w\") as f:\n",
    "    f.write(\"Some Greenland polar bears adapt to hunt without sea \\n\")\n",
    "    f.write(\"ice Yen falls as Bank of Japan bucks rate rise trend\")  "
   ]
  },
  {
   "cell_type": "code",
   "execution_count": 44,
   "id": "615d614b-3d0a-492a-a266-b54f1d8441d0",
   "metadata": {},
   "outputs": [
    {
     "name": "stdout",
     "output_type": "stream",
     "text": [
      "Some Greenland polar bears adapt to hunt without sea \n",
      "ice Yen falls as Bank of Japan bucks rate rise trend"
     ]
    }
   ],
   "source": [
    "f = open(\"thanks.txt\", \"r\")\n",
    "lines = f.readlines()\n",
    "for line in lines :\n",
    "    print(line, end = \"\")"
   ]
  },
  {
   "cell_type": "code",
   "execution_count": 45,
   "id": "3f5fbaf8-a1f0-4276-935f-7ff8356b46ce",
   "metadata": {},
   "outputs": [],
   "source": [
    "# menu 만들기\n",
    "\n",
    "menu = {'아메리카노' : 1000, '카페라떼' : 2000, \n",
    "       '쿠키' : 1500, '베이글' : 3000, '사과주스' : 3500}\n",
    "\n",
    "# order 라는 사용자 정의 함수를 만듭니다.\n",
    "# 원하는 메뉴 여러개를 입력받습니다.\n",
    "# 그만큼 결제 금액을 출력합니다.\n",
    "# 함수를 만들어 주세요."
   ]
  },
  {
   "cell_type": "code",
   "execution_count": 71,
   "id": "f1a52f9f-d201-4c9f-822b-e01f7aa9b067",
   "metadata": {},
   "outputs": [
    {
     "name": "stdout",
     "output_type": "stream",
     "text": [
      "아메리카노\n",
      "카페라떼\n",
      "쿠키\n",
      "베이글\n",
      "사과주스\n"
     ]
    }
   ],
   "source": [
    "menu = {'아메리카노' : 1000, '카페라떼' : 2000, \n",
    "       '쿠키' : 1500, '베이글' : 3000, '사과주스' : 3500}\n",
    "\n",
    "def order:\n",
    "    for i in menu.keys():\n",
    "    print(i)\n",
    "    for i in menu.values():\n",
    "    "
   ]
  },
  {
   "cell_type": "code",
   "execution_count": 74,
   "id": "cec22ca6-047c-4eb6-99ab-78e3bf051945",
   "metadata": {},
   "outputs": [],
   "source": [
    "menu = {'아메리카노' : 1000, '카페라떼' : 2000, \n",
    "       '쿠키' : 1500, '베이글' : 3000, '사과주스' : 3500}\n",
    "def order(*args) :\n",
    "    sum = 0\n",
    "    print(\"<주문 목록>\")\n",
    "    print(\"=\"*20)\n",
    "    for i in args:\n",
    "        print(i)\n",
    "        sum += menu[i]\n",
    "    print(\"=\"*20)\n",
    "    print(f\"총 금액은 {sum}입니다.\")"
   ]
  },
  {
   "cell_type": "code",
   "execution_count": 75,
   "id": "0eb029f2-74d9-43b1-a645-f7484e0ba265",
   "metadata": {},
   "outputs": [
    {
     "name": "stdout",
     "output_type": "stream",
     "text": [
      "<주문 목록>\n",
      "====================\n",
      "아메리카노\n",
      "쿠키\n",
      "베이글\n",
      "아메리카노\n",
      "====================\n",
      "총 금액은 6500입니다.\n"
     ]
    }
   ],
   "source": [
    "order('아메리카노', '쿠키', '베이글', '아메리카노')"
   ]
  },
  {
   "cell_type": "code",
   "execution_count": null,
   "id": "61d2813c-d2b5-42e1-905b-b2ed25e436a8",
   "metadata": {},
   "outputs": [],
   "source": [
    "def sosu(n) :\n",
    "    \n",
    "# 소수는\n",
    "2 = 1, 2\n",
    "3 = 1, 3\n",
    "6 = 1, 2, 3, 6\n",
    "6 % 2 == 0\n",
    "\n",
    "9 = 1, 3, 9\n",
    "9 % 2 == 0\n"
   ]
  },
  {
   "cell_type": "code",
   "execution_count": 90,
   "id": "8384bab1-3ebd-4006-9b3e-13df4f8f1b1f",
   "metadata": {},
   "outputs": [],
   "source": [
    "def sosu(n) :\n",
    "    if n == 1 or n == 2 :\n",
    "        return f'{n}은 소수가 아닙니다.'\n",
    "    for i in range(2, n):\n",
    "        if n % i == 0 :\n",
    "            return f\"{n}는 소수가 아닙니다.\"\n",
    "    return f\"{n}는 소수입니다.\""
   ]
  },
  {
   "cell_type": "code",
   "execution_count": 91,
   "id": "42501048-b822-43b4-89c2-819adbbb1139",
   "metadata": {},
   "outputs": [
    {
     "data": {
      "text/plain": [
       "'7는 소수입니다.'"
      ]
     },
     "execution_count": 91,
     "metadata": {},
     "output_type": "execute_result"
    }
   ],
   "source": [
    "sosu(7)"
   ]
  },
  {
   "cell_type": "code",
   "execution_count": 92,
   "id": "072b2b34-987b-4f6c-906c-1fad4a0c7228",
   "metadata": {},
   "outputs": [
    {
     "data": {
      "text/plain": [
       "'14는 소수가 아닙니다.'"
      ]
     },
     "execution_count": 92,
     "metadata": {},
     "output_type": "execute_result"
    }
   ],
   "source": [
    "sosu(14)"
   ]
  },
  {
   "cell_type": "code",
   "execution_count": 93,
   "id": "38453959-33c2-41ae-8ef9-d60051fca7cc",
   "metadata": {},
   "outputs": [
    {
     "data": {
      "text/plain": [
       "'5는 소수입니다.'"
      ]
     },
     "execution_count": 93,
     "metadata": {},
     "output_type": "execute_result"
    }
   ],
   "source": [
    "sosu(5)"
   ]
  },
  {
   "cell_type": "code",
   "execution_count": 113,
   "id": "103b8d0d-f6c3-49b7-92b5-3a1655ba8b99",
   "metadata": {},
   "outputs": [],
   "source": [
    "class Odd1:\n",
    "    def __init__(self):\n",
    "        self.result = 0\n",
    "    def div(self, num) :\n",
    "        result = num / 3\n",
    "        return result\n",
    "odd3 = Odd1() "
   ]
  },
  {
   "cell_type": "code",
   "execution_count": 115,
   "id": "611ae926-6c70-47e9-ac38-9295cabd2bdd",
   "metadata": {},
   "outputs": [
    {
     "data": {
      "text/plain": [
       "6.666666666666667"
      ]
     },
     "execution_count": 115,
     "metadata": {},
     "output_type": "execute_result"
    }
   ],
   "source": [
    "odd3.div(20)"
   ]
  },
  {
   "cell_type": "code",
   "execution_count": 116,
   "id": "c028c512-017d-4ba4-9187-3d4b083e0f1a",
   "metadata": {},
   "outputs": [
    {
     "data": {
      "text/plain": [
       "10.0"
      ]
     },
     "execution_count": 116,
     "metadata": {},
     "output_type": "execute_result"
    }
   ],
   "source": [
    "odd3.div(30)"
   ]
  },
  {
   "cell_type": "code",
   "execution_count": 137,
   "id": "1b795b55-10f1-4937-92d9-7c8f295e50c7",
   "metadata": {},
   "outputs": [],
   "source": [
    "class Odd111(Odd1) :\n",
    "    def div(self, num) :\n",
    "        result = num / 5\n",
    "        return result"
   ]
  },
  {
   "cell_type": "code",
   "execution_count": 138,
   "id": "76cb1f03-1394-4e69-bbfb-bc7c706d0f0c",
   "metadata": {},
   "outputs": [],
   "source": [
    "odd5 = Odd111()"
   ]
  },
  {
   "cell_type": "code",
   "execution_count": 139,
   "id": "4cc749a2-0d26-417b-b8b0-5777a413f9b6",
   "metadata": {},
   "outputs": [
    {
     "data": {
      "text/plain": [
       "0.0"
      ]
     },
     "execution_count": 139,
     "metadata": {},
     "output_type": "execute_result"
    }
   ],
   "source": [
    "odd5.div(0)"
   ]
  },
  {
   "cell_type": "code",
   "execution_count": 140,
   "id": "553db99e-cdfe-4483-985f-bb94cc465155",
   "metadata": {},
   "outputs": [
    {
     "data": {
      "text/plain": [
       "4.0"
      ]
     },
     "execution_count": 140,
     "metadata": {},
     "output_type": "execute_result"
    }
   ],
   "source": [
    "odd5.div(20)"
   ]
  },
  {
   "cell_type": "code",
   "execution_count": 141,
   "id": "ce553c85-5db2-4317-9116-ae0a158dbd34",
   "metadata": {},
   "outputs": [
    {
     "data": {
      "text/plain": [
       "6.0"
      ]
     },
     "execution_count": 141,
     "metadata": {},
     "output_type": "execute_result"
    }
   ],
   "source": [
    "odd5.div(30)"
   ]
  },
  {
   "cell_type": "code",
   "execution_count": 134,
   "id": "9e48c737-c7e5-4bde-b061-1d1cb9768c54",
   "metadata": {},
   "outputs": [],
   "source": [
    "class Odd111(Odd1) :\n",
    "    def div(self, num) :\n",
    "        if self == 0 :\n",
    "            pass\n",
    "        else :\n",
    "            result = num / 5\n",
    "            return result\n",
    "odd4 = Odd111()"
   ]
  },
  {
   "cell_type": "code",
   "execution_count": 135,
   "id": "0d267a25-a173-41b1-bccc-a3aa43929779",
   "metadata": {},
   "outputs": [
    {
     "data": {
      "text/plain": [
       "0.0"
      ]
     },
     "execution_count": 135,
     "metadata": {},
     "output_type": "execute_result"
    }
   ],
   "source": [
    "odd4.div(0)"
   ]
  },
  {
   "cell_type": "code",
   "execution_count": 136,
   "id": "e4ae6e3d-1fab-47b6-8013-42859619fb9c",
   "metadata": {},
   "outputs": [
    {
     "data": {
      "text/plain": [
       "-56.4"
      ]
     },
     "execution_count": 136,
     "metadata": {},
     "output_type": "execute_result"
    }
   ],
   "source": [
    "odd4.div(-282)"
   ]
  },
  {
   "cell_type": "code",
   "execution_count": 145,
   "id": "9852acc4-e0f6-4728-b010-a2b3b0205cbd",
   "metadata": {},
   "outputs": [
    {
     "name": "stdout",
     "output_type": "stream",
     "text": [
      "1\n",
      "5\n",
      "0\n",
      "-4\n",
      "list index out of range\n"
     ]
    }
   ],
   "source": [
    "li = [1, 5, 0, -4] \n",
    "try :                    \n",
    "    for i in range(6) :\n",
    "        print(li[i])\n",
    "    print (2 / 0)\n",
    "except (IndexError, ZeroDivisionError) as e :\n",
    "    print(e)"
   ]
  },
  {
   "cell_type": "code",
   "execution_count": null,
   "id": "264f71d9-0b34-45d3-9b09-396c612507a9",
   "metadata": {},
   "outputs": [],
   "source": [
    "# filter와 사용자정의함수를 사용하여 리스트 [1, -2, 3, -5, 8, -3] 에서 \n",
    "# 음수를 모두 제거해보자"
   ]
  },
  {
   "cell_type": "code",
   "execution_count": 2,
   "id": "06d7a69b-1dce-4d8f-8639-a8a6c6e74992",
   "metadata": {},
   "outputs": [
    {
     "data": {
      "text/plain": [
       "[1, 3, 8]"
      ]
     },
     "execution_count": 2,
     "metadata": {},
     "output_type": "execute_result"
    }
   ],
   "source": [
    "def positive(a) :\n",
    "    if a > 0 :\n",
    "        return True        \n",
    "    else :  \n",
    "        pass\n",
    "list(filter(positive, [1, -2, 3, -5, 8, -3]))"
   ]
  },
  {
   "cell_type": "code",
   "execution_count": 5,
   "id": "6769e1dd-add4-4852-bb60-498b41c13c39",
   "metadata": {},
   "outputs": [
    {
     "data": {
      "text/plain": [
       "[1, 3, 8]"
      ]
     },
     "execution_count": 5,
     "metadata": {},
     "output_type": "execute_result"
    }
   ],
   "source": [
    "def positive(a) :\n",
    "    return a > 0\n",
    "list(filter(positive,[1, -2, 3, -5, 8, -3]))"
   ]
  },
  {
   "cell_type": "code",
   "execution_count": 7,
   "id": "d9eeb8ad-be67-4cb4-aeb6-9489cac1f135",
   "metadata": {},
   "outputs": [
    {
     "data": {
      "text/plain": [
       "[1, 3, 8]"
      ]
     },
     "execution_count": 7,
     "metadata": {},
     "output_type": "execute_result"
    }
   ],
   "source": [
    "a = [1, -2, 3, -5, 8, -3]\n",
    "list(filter(lambda n : n > 0, a))"
   ]
  },
  {
   "cell_type": "code",
   "execution_count": 8,
   "id": "f89f40aa-8e45-4172-a147-168f6c9de644",
   "metadata": {},
   "outputs": [
    {
     "data": {
      "text/plain": [
       "False"
      ]
     },
     "execution_count": 8,
     "metadata": {},
     "output_type": "execute_result"
    }
   ],
   "source": [
    "# all([1,2,abs(-3)-3]) 다음 결과값을 예측하고 이유를 구하라.\n",
    "\n",
    "all([1,2,abs(-3)-3])"
   ]
  },
  {
   "cell_type": "code",
   "execution_count": null,
   "id": "3281d7ca-00d7-4df8-aa8f-5002e1703e31",
   "metadata": {},
   "outputs": [],
   "source": [
    "# 이유? "
   ]
  },
  {
   "cell_type": "code",
   "execution_count": 11,
   "id": "17d66d78-7177-491c-8406-251cdb7b97a0",
   "metadata": {},
   "outputs": [
    {
     "name": "stdout",
     "output_type": "stream",
     "text": [
      "1\n",
      "\n",
      "5\n",
      "0\n",
      "-4\n",
      "list index out of range\n"
     ]
    }
   ],
   "source": [
    "# li = [1, \"\", 5, 0, -4] 리스트에서  for 문으로 출력합니다.\n",
    "# 그 후 예외처리 해주세요. 오우 내가 낸거야\n",
    "\n",
    "\n",
    "li = [1, \"\", 5, 0, -4]\n",
    "try :\n",
    "    for i in range(6):\n",
    "        print(li[i])\n",
    "    print(2/0)\n",
    "except (IndexError, ZeroDivisionError) as e :\n",
    "    print(e)"
   ]
  },
  {
   "cell_type": "code",
   "execution_count": 22,
   "id": "958b76b2-bbc0-479b-837b-901ba07efe9f",
   "metadata": {},
   "outputs": [],
   "source": [
    "# 두 수를 입력 받아서 나누는 클래스와 메소드를 만들어 봅시다. \n",
    "# a.div(6, 3)\n",
    "\n",
    "class Qqq:\n",
    "    def __init__(self, a, b):\n",
    "        self.first = a\n",
    "        self.second = b\n",
    "    def div(self) :\n",
    "        result = self.first / self.second\n",
    "        return result"
   ]
  },
  {
   "cell_type": "code",
   "execution_count": 19,
   "id": "98aee76b-f73c-4eb2-9689-2fb3265b3c14",
   "metadata": {},
   "outputs": [],
   "source": [
    "a = Qqq(6, 3)"
   ]
  },
  {
   "cell_type": "code",
   "execution_count": 20,
   "id": "cf2f7205-7392-4d0b-95a0-24c249261eb0",
   "metadata": {},
   "outputs": [
    {
     "data": {
      "text/plain": [
       "2.0"
      ]
     },
     "execution_count": 20,
     "metadata": {},
     "output_type": "execute_result"
    }
   ],
   "source": [
    "a.div()"
   ]
  },
  {
   "cell_type": "code",
   "execution_count": 21,
   "id": "65e5b78c-d629-4d60-9ef9-d3e0f3551f0c",
   "metadata": {},
   "outputs": [
    {
     "data": {
      "text/plain": [
       "2.0"
      ]
     },
     "execution_count": 21,
     "metadata": {},
     "output_type": "execute_result"
    }
   ],
   "source": [
    "class Div:\n",
    "    def division(self, a, b):\n",
    "        return a / b\n",
    "    \n",
    "a = Div()\n",
    "a.division(6, 3)"
   ]
  },
  {
   "cell_type": "code",
   "execution_count": null,
   "id": "daa9a224-7573-4f8f-8cbb-2fcfbf467ccb",
   "metadata": {},
   "outputs": [],
   "source": [
    "# 한 숫자를 입력받아서 그 계산기를 5로 나누어지는 것으로 바꿔주세요. 오우"
   ]
  },
  {
   "cell_type": "code",
   "execution_count": 23,
   "id": "cf7fb6e5-fba1-48cf-81c9-4267206122aa",
   "metadata": {},
   "outputs": [
    {
     "data": {
      "text/plain": [
       "4.0"
      ]
     },
     "execution_count": 23,
     "metadata": {},
     "output_type": "execute_result"
    }
   ],
   "source": [
    "class Ww:\n",
    "    def __init__(self):\n",
    "        self.result = 0\n",
    "    def div(self, num):\n",
    "        return num / 5\n",
    "a = Ww()\n",
    "a.div(20)        "
   ]
  },
  {
   "cell_type": "code",
   "execution_count": null,
   "id": "237681f0-7ff2-4927-a7df-4bccb27687a2",
   "metadata": {},
   "outputs": [],
   "source": [
    "# Hobby 클래스의 생성자는 '안녕하세요.' 를 출력하도록 하시오."
   ]
  },
  {
   "cell_type": "code",
   "execution_count": 24,
   "id": "e0de2cda-9b43-4cd9-bba5-90aea91420be",
   "metadata": {},
   "outputs": [],
   "source": [
    "class Hobby:\n",
    "    def __init__(self) :\n",
    "        print(\"안녕하세요.\")"
   ]
  },
  {
   "cell_type": "code",
   "execution_count": 25,
   "id": "f9298716-280d-484e-9542-6cf14d70ad43",
   "metadata": {},
   "outputs": [
    {
     "name": "stdout",
     "output_type": "stream",
     "text": [
      "안녕하세요.\n"
     ]
    }
   ],
   "source": [
    "a = Hobby()"
   ]
  },
  {
   "cell_type": "code",
   "execution_count": null,
   "id": "d4967b17-2781-49e1-abce-bc319e86e5bc",
   "metadata": {},
   "outputs": [],
   "source": [
    "# do 라는 메서드를 만든 후, 매개변수를 입력받아,\n",
    "# f-string을 이용하여 어떤 취미를 하는지 출력하도록 하시오."
   ]
  },
  {
   "cell_type": "code",
   "execution_count": 36,
   "id": "9bc4c364-d554-4eba-aad7-93018e3a474b",
   "metadata": {},
   "outputs": [],
   "source": [
    "class Hobby:\n",
    "    def __init__(self) :\n",
    "        print(\"안녕하세요.\")\n",
    "    def do(self, d) :\n",
    "        self.d = d\n",
    "        print(f'{d}을 합니다.')"
   ]
  },
  {
   "cell_type": "code",
   "execution_count": 37,
   "id": "da5c100a-75d2-4e26-8329-cccf5d710de0",
   "metadata": {},
   "outputs": [
    {
     "name": "stdout",
     "output_type": "stream",
     "text": [
      "안녕하세요.\n",
      "서핑을 합니다.\n"
     ]
    }
   ],
   "source": [
    "a = Hobby()\n",
    "a.do(\"서핑\")"
   ]
  },
  {
   "cell_type": "code",
   "execution_count": null,
   "id": "1dce1029-f4c5-425d-8b15-0faf5724ddd8",
   "metadata": {},
   "outputs": [],
   "source": [
    "# Hobby 클래스를 상속하는 ReadBook 클래스를 만든 후, \n",
    "# 생성자에게서 '독서입니다.'를 출력하도록 하시오."
   ]
  },
  {
   "cell_type": "code",
   "execution_count": 38,
   "id": "f241d0d8-07bc-46ef-b3ab-22560835db57",
   "metadata": {},
   "outputs": [],
   "source": [
    "class Hobby:\n",
    "    def __init__(self) :\n",
    "        print(\"안녕하세요.\")\n",
    "    def do(self, d) :\n",
    "        self.d = d\n",
    "        print(f'{d}을 합니다.')"
   ]
  },
  {
   "cell_type": "code",
   "execution_count": 41,
   "id": "72f1f0c7-295e-4334-a80d-e3a7595d66ca",
   "metadata": {},
   "outputs": [],
   "source": [
    "class ReadBook(Hobby) :\n",
    "    def __init__(self):\n",
    "        print('독서입니다.')"
   ]
  },
  {
   "cell_type": "code",
   "execution_count": 44,
   "id": "cacdd28a-d224-4d55-9692-7438e9b38c6e",
   "metadata": {},
   "outputs": [
    {
     "name": "stdout",
     "output_type": "stream",
     "text": [
      "독서입니다.\n"
     ]
    }
   ],
   "source": [
    "rb = ReadBook()"
   ]
  },
  {
   "cell_type": "code",
   "execution_count": null,
   "id": "6328e69d-fb56-45f5-92d8-99a3cd4303e3",
   "metadata": {},
   "outputs": [],
   "source": [
    "# ReadBook 클래스 안에 genre 메서드를 만든 후, 매개변수를 입력받아\n",
    "# f-string을 이용하여 어떤 장르를 좋아하는지 출력하도록 하시오."
   ]
  },
  {
   "cell_type": "code",
   "execution_count": 52,
   "id": "2d79f908-2176-4910-8c97-1b7f61d45308",
   "metadata": {},
   "outputs": [],
   "source": [
    "class ReadBook(Hobby) :\n",
    "    def genre(self, g):\n",
    "        self.g = g\n",
    "        print(f'{g} 장르를 좋아합니다.')"
   ]
  },
  {
   "cell_type": "code",
   "execution_count": 53,
   "id": "4f9fdee4-5410-4311-85c5-7f754117b7f1",
   "metadata": {},
   "outputs": [
    {
     "name": "stdout",
     "output_type": "stream",
     "text": [
      "안녕하세요.\n"
     ]
    }
   ],
   "source": [
    "g = ReadBook()"
   ]
  },
  {
   "cell_type": "code",
   "execution_count": 54,
   "id": "4a9422a4-0b73-4f06-a784-5a910f0086d7",
   "metadata": {},
   "outputs": [
    {
     "name": "stdout",
     "output_type": "stream",
     "text": [
      "스릴러 장르를 좋아합니다.\n"
     ]
    }
   ],
   "source": [
    "g.genre('스릴러')"
   ]
  },
  {
   "cell_type": "code",
   "execution_count": null,
   "id": "cec3a663-ca63-44c3-bd21-08af9710802a",
   "metadata": {},
   "outputs": [],
   "source": [
    "# num = input(\"숫자를 입력해주세요\")\n",
    "# 숫자 말고 문자 입력해서 에러나는거 예외처리 해주세요."
   ]
  },
  {
   "cell_type": "code",
   "execution_count": 55,
   "id": "f45cff91-bb42-46c4-b319-48c4920978b7",
   "metadata": {},
   "outputs": [
    {
     "name": "stdin",
     "output_type": "stream",
     "text": [
      "숫자를 입력해주세요 5\n"
     ]
    },
    {
     "name": "stdout",
     "output_type": "stream",
     "text": [
      "15\n"
     ]
    }
   ],
   "source": [
    "num = input(\"숫자를 입력해주세요\")\n",
    "ans = int(num) + 10\n",
    "print(ans)"
   ]
  },
  {
   "cell_type": "code",
   "execution_count": 58,
   "id": "b7d2d52f-b38c-4049-ba0e-fb2f39b1fad3",
   "metadata": {},
   "outputs": [
    {
     "name": "stdin",
     "output_type": "stream",
     "text": [
      "숫자를 입력해주세요 삼\n"
     ]
    },
    {
     "name": "stdout",
     "output_type": "stream",
     "text": [
      "숫자가 아닙니다.\n"
     ]
    }
   ],
   "source": [
    "try : \n",
    "    num = input(\"숫자를 입력해주세요\")\n",
    "    ans = int(num) + 10\n",
    "    print(ans)\n",
    "except ValueError as e:\n",
    "    print('숫자가 아닙니다.')"
   ]
  },
  {
   "cell_type": "code",
   "execution_count": null,
   "id": "536eb21e-65ca-4bfd-ba72-7de8deb2c398",
   "metadata": {},
   "outputs": [],
   "source": [
    "\n",
    "def xx(x): retrun x/3\n",
    "list(map(xx, [3, 6, 9, 12, 15]))"
   ]
  },
  {
   "cell_type": "code",
   "execution_count": 63,
   "id": "538e2892-ff39-4d2d-8828-89c45979615c",
   "metadata": {},
   "outputs": [
    {
     "data": {
      "text/plain": [
       "[1.0, 2.0, 3.0, 4.0, 5.0]"
      ]
     },
     "execution_count": 63,
     "metadata": {},
     "output_type": "execute_result"
    }
   ],
   "source": [
    "list(map(lambda x : x/3, [3, 6, 9, 12, 15]))"
   ]
  },
  {
   "cell_type": "code",
   "execution_count": 71,
   "id": "28aa2d4d-c6cf-41f9-8ba0-e75f9ae4d27b",
   "metadata": {},
   "outputs": [
    {
     "data": {
      "text/plain": [
       "[1.0, 2.0, 3.0, 4.0, 5.0]"
      ]
     },
     "execution_count": 71,
     "metadata": {},
     "output_type": "execute_result"
    }
   ],
   "source": [
    "def ooo(x):\n",
    "    return x/3\n",
    "list(map(ooo,[3, 6, 9, 12, 15]))"
   ]
  },
  {
   "cell_type": "code",
   "execution_count": 73,
   "id": "b7d8712a-3a28-49ce-9543-78b7d7c21f0d",
   "metadata": {},
   "outputs": [],
   "source": [
    "import pickle\n",
    "data1 = [\"a\", \"b\", 1, 2]\n",
    "\n",
    "with open(\"test1.pickle\", mode = \"wb\") as f:\n",
    "    pickle.dump(data1, f)"
   ]
  },
  {
   "cell_type": "code",
   "execution_count": 74,
   "id": "f377b634-a33a-4e06-9f8c-64762ba70054",
   "metadata": {},
   "outputs": [
    {
     "name": "stdout",
     "output_type": "stream",
     "text": [
      "['a', 'b', 1, 2]\n"
     ]
    }
   ],
   "source": [
    "with open(\"test1.pickle\", mode = \"rb\") as f:\n",
    "    data1 = pickle.load(f)\n",
    "print(data1)"
   ]
  },
  {
   "cell_type": "code",
   "execution_count": 75,
   "id": "6ddafce6-8612-4bb9-9454-fbcf4f2591a1",
   "metadata": {},
   "outputs": [],
   "source": [
    "class Calculator :\n",
    "    def __init__(self):\n",
    "        self.value = 0\n",
    "        \n",
    "    def add(self, val):\n",
    "        self.value += val"
   ]
  },
  {
   "cell_type": "code",
   "execution_count": 77,
   "id": "a2c3e4af-2250-47df-ad2d-3946d37185e6",
   "metadata": {},
   "outputs": [],
   "source": [
    "cal = Calculator()"
   ]
  },
  {
   "cell_type": "code",
   "execution_count": 79,
   "id": "8ff9560a-e8fd-4b25-8609-fbdaa88b6bc3",
   "metadata": {},
   "outputs": [],
   "source": [
    "cal.add(10)"
   ]
  },
  {
   "cell_type": "code",
   "execution_count": 81,
   "id": "d3c3f0a9-c8c2-45f3-82bb-1afccee95f1e",
   "metadata": {},
   "outputs": [
    {
     "name": "stdout",
     "output_type": "stream",
     "text": [
      "20\n"
     ]
    }
   ],
   "source": [
    "print(cal.value)"
   ]
  },
  {
   "cell_type": "code",
   "execution_count": 90,
   "id": "50361b2d-f449-402b-8486-770aa21e40c4",
   "metadata": {},
   "outputs": [],
   "source": [
    "class UpgradeCalculator(Calculator):\n",
    "    def minus(self, val):\n",
    "        self.value -= val"
   ]
  },
  {
   "cell_type": "code",
   "execution_count": 91,
   "id": "2c350566-ef80-4c60-bfb3-168894b381c0",
   "metadata": {},
   "outputs": [],
   "source": [
    "cal = UpgradeCalculator()\n",
    "cal.add(10)\n",
    "cal.minus(7)"
   ]
  },
  {
   "cell_type": "code",
   "execution_count": 92,
   "id": "a44f2b2a-74c6-43ca-8e7d-5b070ecdd522",
   "metadata": {},
   "outputs": [
    {
     "name": "stdout",
     "output_type": "stream",
     "text": [
      "3\n"
     ]
    }
   ],
   "source": [
    "print(cal.value)"
   ]
  },
  {
   "cell_type": "code",
   "execution_count": 93,
   "id": "ff9b315c-3ed5-4553-85da-5f00b2781704",
   "metadata": {},
   "outputs": [],
   "source": [
    "class Calculator :\n",
    "    def __init__(self):\n",
    "        self.value = 0\n",
    "    def add(self, val):\n",
    "        self.value += val"
   ]
  },
  {
   "cell_type": "code",
   "execution_count": 98,
   "id": "e2a28fe5-9590-438c-a576-fb2be9b3cf46",
   "metadata": {},
   "outputs": [],
   "source": [
    "class MaxLimitCalculator(Calculator):\n",
    "    def add(self, val):\n",
    "        self.value += val\n",
    "        if self.value > 100 :\n",
    "            self.value = 100"
   ]
  },
  {
   "cell_type": "code",
   "execution_count": 99,
   "id": "87f79ab0-1b3a-4cd6-b91e-6051a16df553",
   "metadata": {},
   "outputs": [],
   "source": [
    "cal = MaxLimitCalculator()"
   ]
  },
  {
   "cell_type": "code",
   "execution_count": 100,
   "id": "cfc4f9fc-0e0f-448a-9401-3f94b826b005",
   "metadata": {},
   "outputs": [
    {
     "name": "stdout",
     "output_type": "stream",
     "text": [
      "100\n"
     ]
    }
   ],
   "source": [
    "cal.add(50)\n",
    "cal.add(60)\n",
    "\n",
    "print(cal.value)"
   ]
  },
  {
   "cell_type": "code",
   "execution_count": 101,
   "id": "ebceee3b-ad54-4f7a-9ba9-2e088f99421c",
   "metadata": {},
   "outputs": [
    {
     "data": {
      "text/plain": [
       "[1, 3, 8]"
      ]
     },
     "execution_count": 101,
     "metadata": {},
     "output_type": "execute_result"
    }
   ],
   "source": [
    "list(filter(lambda x : x>0, [1, -2, 3, -5, 8, -3]))"
   ]
  },
  {
   "cell_type": "code",
   "execution_count": 105,
   "id": "2e1447e6-9ad2-4cca-96d6-fd23e5da399a",
   "metadata": {},
   "outputs": [
    {
     "data": {
      "text/plain": [
       "[3, 6, 9, 12]"
      ]
     },
     "execution_count": 105,
     "metadata": {},
     "output_type": "execute_result"
    }
   ],
   "source": [
    "list(map(lambda x : x*3, [1, 2, 3, 4]))"
   ]
  },
  {
   "cell_type": "code",
   "execution_count": 106,
   "id": "b4fe963c-6722-4cc0-b807-a9ab3e2fa5a6",
   "metadata": {},
   "outputs": [
    {
     "data": {
      "text/plain": [
       "-1"
      ]
     },
     "execution_count": 106,
     "metadata": {},
     "output_type": "execute_result"
    }
   ],
   "source": [
    "a = [-8, 2, 7, 5, -3, 5, 0, 1]\n",
    "max(a) + min(a)"
   ]
  },
  {
   "cell_type": "code",
   "execution_count": 107,
   "id": "d30b84c0-0041-450e-98f4-3ca0ad6335bb",
   "metadata": {},
   "outputs": [
    {
     "data": {
      "text/plain": [
       "5.6667"
      ]
     },
     "execution_count": 107,
     "metadata": {},
     "output_type": "execute_result"
    }
   ],
   "source": [
    "round(17/3, 4)"
   ]
  },
  {
   "cell_type": "code",
   "execution_count": 109,
   "id": "2a258c2b-8ce0-4d69-a529-2ccc0cfa9f20",
   "metadata": {},
   "outputs": [],
   "source": [
    "def is_odd(number):\n",
    "    if number % 2 == 1:\n",
    "        return True\n",
    "    else :\n",
    "        return False"
   ]
  },
  {
   "cell_type": "code",
   "execution_count": 110,
   "id": "a7d356bc-67d1-4576-9528-be6c6b55dad0",
   "metadata": {},
   "outputs": [
    {
     "data": {
      "text/plain": [
       "True"
      ]
     },
     "execution_count": 110,
     "metadata": {},
     "output_type": "execute_result"
    }
   ],
   "source": [
    "is_odd(3)"
   ]
  },
  {
   "cell_type": "code",
   "execution_count": 111,
   "id": "979dc388-bf8c-4350-b75b-86a780b29bcb",
   "metadata": {},
   "outputs": [
    {
     "data": {
      "text/plain": [
       "False"
      ]
     },
     "execution_count": 111,
     "metadata": {},
     "output_type": "execute_result"
    }
   ],
   "source": [
    "is_odd(4)"
   ]
  },
  {
   "cell_type": "code",
   "execution_count": 112,
   "id": "c3f2120a-8f3e-4d5f-b109-8a4196c7d01c",
   "metadata": {},
   "outputs": [],
   "source": [
    "def is_odd(number):\n",
    "    if number % 2 == 0:\n",
    "        return True\n",
    "    else :\n",
    "        return False"
   ]
  },
  {
   "cell_type": "code",
   "execution_count": 113,
   "id": "1071c3e3-34c6-4ad8-a400-4cf1541c414e",
   "metadata": {},
   "outputs": [
    {
     "data": {
      "text/plain": [
       "False"
      ]
     },
     "execution_count": 113,
     "metadata": {},
     "output_type": "execute_result"
    }
   ],
   "source": [
    "is_odd(3)"
   ]
  },
  {
   "cell_type": "code",
   "execution_count": 114,
   "id": "3b3226b1-9d69-4a67-8853-4e025d4f39b3",
   "metadata": {},
   "outputs": [],
   "source": [
    "def avg_numbers(*args):\n",
    "    result = 0\n",
    "    for i in args :\n",
    "        result += i\n",
    "    return result / len(args)"
   ]
  },
  {
   "cell_type": "code",
   "execution_count": 115,
   "id": "fb45d417-ed80-4944-b2c3-b89691249f68",
   "metadata": {},
   "outputs": [
    {
     "data": {
      "text/plain": [
       "2.0"
      ]
     },
     "execution_count": 115,
     "metadata": {},
     "output_type": "execute_result"
    }
   ],
   "source": [
    "avg_numbers(1,2,3)"
   ]
  },
  {
   "cell_type": "code",
   "execution_count": 116,
   "id": "c4e8f0fc-8cfe-4054-98f5-3da2f3545049",
   "metadata": {},
   "outputs": [
    {
     "data": {
      "text/plain": [
       "3.0"
      ]
     },
     "execution_count": 116,
     "metadata": {},
     "output_type": "execute_result"
    }
   ],
   "source": [
    "avg_numbers(1,2,3,4,5)"
   ]
  },
  {
   "cell_type": "code",
   "execution_count": null,
   "id": "080a7414-04c9-467e-ab29-3983a2f9c697",
   "metadata": {},
   "outputs": [],
   "source": [
    "# pickle을 사용하여 data1 = [\"a\", \"b\", 1, 2]를 저장하고 다시 출력해주세요. 오우!!"
   ]
  },
  {
   "cell_type": "code",
   "execution_count": 5,
   "id": "508fc1bb-df94-4997-bfbc-2089d702c78f",
   "metadata": {},
   "outputs": [],
   "source": [
    "import pickle\n",
    "data1 = [\"a\", \"b\", 1, 2]\n",
    "\n",
    "with open(\"test.pickle\", \"wb\") as f:\n",
    "    pickle.dump(data1, f)"
   ]
  },
  {
   "cell_type": "code",
   "execution_count": 6,
   "id": "569f104a-0b65-488a-94ca-ab57f60f8d6c",
   "metadata": {},
   "outputs": [
    {
     "name": "stdout",
     "output_type": "stream",
     "text": [
      "['a', 'b', 1, 2]\n"
     ]
    }
   ],
   "source": [
    "with open(\"test.pickle\", \"rb\") as f:\n",
    "    data1 = pickle.load(f)\n",
    "print(data1)"
   ]
  },
  {
   "cell_type": "code",
   "execution_count": null,
   "id": "cb37010c-dbed-4ffc-9d50-5b0ff80f3a8a",
   "metadata": {},
   "outputs": [],
   "source": [
    "# [3, 6, 9, 12, 15]를 3으로 나누세요.   오웅!! "
   ]
  },
  {
   "cell_type": "code",
   "execution_count": 7,
   "id": "75f9e1cf-f69d-4226-8bad-e584353a6748",
   "metadata": {},
   "outputs": [
    {
     "data": {
      "text/plain": [
       "[1.0, 2.0, 3.0, 4.0, 5.0]"
      ]
     },
     "execution_count": 7,
     "metadata": {},
     "output_type": "execute_result"
    }
   ],
   "source": [
    "list(map(lambda x : x/3, [3, 6, 9, 12, 15]))"
   ]
  },
  {
   "cell_type": "code",
   "execution_count": 39,
   "id": "53e044fb-fd12-4ece-91a7-4fc637a47b11",
   "metadata": {},
   "outputs": [
    {
     "data": {
      "text/plain": [
       "[1.0, 2.0, 3.0, 4.0, 5.0]"
      ]
     },
     "execution_count": 39,
     "metadata": {},
     "output_type": "execute_result"
    }
   ],
   "source": [
    "a = [3, 6, 9, 12, 15]\n",
    "li = []\n",
    "for i in a :\n",
    "    li.append(i/3)\n",
    "li"
   ]
  },
  {
   "cell_type": "code",
   "execution_count": 40,
   "id": "9dc19c47-a19d-454d-b673-aed797117cde",
   "metadata": {},
   "outputs": [],
   "source": [
    "# 다음 리스트의 최대값과 최소값의 합을 구하시오.\n",
    "# [-8, 2, 7, 5, -3, 5, 0, 1]"
   ]
  },
  {
   "cell_type": "code",
   "execution_count": 41,
   "id": "67451870-1b95-4d49-9558-29a5be5e9216",
   "metadata": {},
   "outputs": [
    {
     "ename": "NameError",
     "evalue": "name 'result' is not defined",
     "output_type": "error",
     "traceback": [
      "\u001b[1;31m---------------------------------------------------------------------------\u001b[0m",
      "\u001b[1;31mNameError\u001b[0m                                 Traceback (most recent call last)",
      "Input \u001b[1;32mIn [41]\u001b[0m, in \u001b[0;36m<cell line: 2>\u001b[1;34m()\u001b[0m\n\u001b[0;32m      1\u001b[0m a \u001b[38;5;241m=\u001b[39m [\u001b[38;5;241m-\u001b[39m\u001b[38;5;241m8\u001b[39m, \u001b[38;5;241m2\u001b[39m, \u001b[38;5;241m7\u001b[39m, \u001b[38;5;241m5\u001b[39m, \u001b[38;5;241m-\u001b[39m\u001b[38;5;241m3\u001b[39m, \u001b[38;5;241m5\u001b[39m, \u001b[38;5;241m0\u001b[39m, \u001b[38;5;241m1\u001b[39m]\n\u001b[1;32m----> 2\u001b[0m \u001b[38;5;28;43mmax\u001b[39;49m\u001b[43m(\u001b[49m\u001b[43ma\u001b[49m\u001b[43m)\u001b[49m \u001b[38;5;241m+\u001b[39m \u001b[38;5;28mmin\u001b[39m(a)\n",
      "Input \u001b[1;32mIn [12]\u001b[0m, in \u001b[0;36mmax\u001b[1;34m(li)\u001b[0m\n\u001b[0;32m      2\u001b[0m \u001b[38;5;28;01mdef\u001b[39;00m \u001b[38;5;21mmax\u001b[39m(li):\n\u001b[1;32m----> 3\u001b[0m     \u001b[38;5;28;01mreturn\u001b[39;00m \u001b[43mresult\u001b[49m\n",
      "\u001b[1;31mNameError\u001b[0m: name 'result' is not defined"
     ]
    }
   ],
   "source": [
    "a = [-8, 2, 7, 5, -3, 5, 0, 1]\n",
    "max(a) + min(a)"
   ]
  },
  {
   "cell_type": "code",
   "execution_count": null,
   "id": "194cdfb4-97cc-4b61-9bac-81e15af1543c",
   "metadata": {},
   "outputs": [],
   "source": [
    "# 리스트 a = [1, 3, 5, 7, 9]를 다음과 같이 출력하시오"
   ]
  },
  {
   "cell_type": "code",
   "execution_count": 30,
   "id": "b04cec07-2383-45ff-9ebc-4cc05ea5c8f0",
   "metadata": {},
   "outputs": [
    {
     "name": "stdout",
     "output_type": "stream",
     "text": [
      "0 1\n",
      "1 3\n",
      "2 5\n",
      "3 7\n",
      "4 9\n"
     ]
    }
   ],
   "source": [
    "a = [1, 3, 5, 7, 9]\n",
    "for i, j in enumerate(a):\n",
    "    print(i, j)"
   ]
  },
  {
   "cell_type": "code",
   "execution_count": 32,
   "id": "315468df-b229-4f71-b42e-8a79ad65d63e",
   "metadata": {},
   "outputs": [
    {
     "name": "stdout",
     "output_type": "stream",
     "text": [
      "0 1\n",
      "1 3\n",
      "2 5\n",
      "3 7\n",
      "4 9\n"
     ]
    }
   ],
   "source": [
    "a = [1, 3, 5, 7, 9]\n",
    "for i in range(len(a)) :\n",
    "    print(i, a[i])"
   ]
  },
  {
   "cell_type": "code",
   "execution_count": 33,
   "id": "3ad7f2f8-a1ef-4598-83bd-74d67d9b61ad",
   "metadata": {},
   "outputs": [
    {
     "data": {
      "text/plain": [
       "0    1\n",
       "1    3\n",
       "2    5\n",
       "3    7\n",
       "4    9\n",
       "dtype: int64"
      ]
     },
     "execution_count": 33,
     "metadata": {},
     "output_type": "execute_result"
    }
   ],
   "source": [
    "import pandas as pd\n",
    "pd.Series(a)"
   ]
  },
  {
   "cell_type": "code",
   "execution_count": null,
   "id": "a64603de-8d16-42c8-b4ed-3d9eaccb5ff2",
   "metadata": {},
   "outputs": [],
   "source": [
    "# 리스트 a = [1, 3, 5, 7, 9] 를 딕셔너리로 바꾸어 봅시다. @@@"
   ]
  },
  {
   "cell_type": "code",
   "execution_count": 34,
   "id": "cd222dab-1008-4afb-86de-261115346851",
   "metadata": {},
   "outputs": [
    {
     "data": {
      "text/plain": [
       "{0: 1, 1: 3, 2: 5, 3: 7, 4: 9}"
      ]
     },
     "execution_count": 34,
     "metadata": {},
     "output_type": "execute_result"
    }
   ],
   "source": [
    "a = [1, 3, 5, 7, 9]\n",
    "A = {}\n",
    "for i, j in enumerate(a):\n",
    "    A[i] = j\n",
    "A"
   ]
  },
  {
   "cell_type": "code",
   "execution_count": 36,
   "id": "49a41463-a42a-43e2-ab93-ebdab91e1e7c",
   "metadata": {},
   "outputs": [
    {
     "name": "stdout",
     "output_type": "stream",
     "text": [
      "{0: 1, 1: 3, 2: 5, 3: 7, 4: 9}\n"
     ]
    }
   ],
   "source": [
    "a = [1, 3, 5, 7, 9]\n",
    "A = {}\n",
    "for i in range(len(a)):\n",
    "    A[i]=a[i]\n",
    "print(A)"
   ]
  },
  {
   "cell_type": "code",
   "execution_count": 43,
   "id": "c2209a1a-c931-49bd-8ff7-03824d7efd01",
   "metadata": {},
   "outputs": [
    {
     "data": {
      "text/plain": [
       "{0: 1, 1: 3, 2: 5, 3: 7, 4: 9}"
      ]
     },
     "execution_count": 43,
     "metadata": {},
     "output_type": "execute_result"
    }
   ],
   "source": [
    "a = [1, 3, 5, 7, 9]\n",
    "dict(enumerate(a))"
   ]
  },
  {
   "cell_type": "code",
   "execution_count": 67,
   "id": "a9d0e1c8-7f4a-46b0-a006-ac18c6aa18e9",
   "metadata": {},
   "outputs": [
    {
     "data": {
      "text/html": [
       "<div>\n",
       "<style scoped>\n",
       "    .dataframe tbody tr th:only-of-type {\n",
       "        vertical-align: middle;\n",
       "    }\n",
       "\n",
       "    .dataframe tbody tr th {\n",
       "        vertical-align: top;\n",
       "    }\n",
       "\n",
       "    .dataframe thead th {\n",
       "        text-align: right;\n",
       "    }\n",
       "</style>\n",
       "<table border=\"1\" class=\"dataframe\">\n",
       "  <thead>\n",
       "    <tr style=\"text-align: right;\">\n",
       "      <th></th>\n",
       "      <th>Regular</th>\n",
       "      <th>Large</th>\n",
       "      <th>Venti</th>\n",
       "    </tr>\n",
       "  </thead>\n",
       "  <tbody>\n",
       "    <tr>\n",
       "      <th>0</th>\n",
       "      <td>2000</td>\n",
       "      <td>2500</td>\n",
       "      <td>3000</td>\n",
       "    </tr>\n",
       "    <tr>\n",
       "      <th>1</th>\n",
       "      <td>3000</td>\n",
       "      <td>3500</td>\n",
       "      <td>4000</td>\n",
       "    </tr>\n",
       "  </tbody>\n",
       "</table>\n",
       "</div>"
      ],
      "text/plain": [
       "   Regular  Large  Venti\n",
       "0     2000   2500   3000\n",
       "1     3000   3500   4000"
      ]
     },
     "execution_count": 67,
     "metadata": {},
     "output_type": "execute_result"
    }
   ],
   "source": [
    "pd.DataFrame({'Regular' : [2000, 3000], 'Large' : [2500, 3500], 'Venti' : [3000, 4000]})"
   ]
  },
  {
   "cell_type": "code",
   "execution_count": 68,
   "id": "bb658ded-0c8e-4d9a-884a-075e02ff05a0",
   "metadata": {},
   "outputs": [
    {
     "data": {
      "text/html": [
       "<div>\n",
       "<style scoped>\n",
       "    .dataframe tbody tr th:only-of-type {\n",
       "        vertical-align: middle;\n",
       "    }\n",
       "\n",
       "    .dataframe tbody tr th {\n",
       "        vertical-align: top;\n",
       "    }\n",
       "\n",
       "    .dataframe thead th {\n",
       "        text-align: right;\n",
       "    }\n",
       "</style>\n",
       "<table border=\"1\" class=\"dataframe\">\n",
       "  <thead>\n",
       "    <tr style=\"text-align: right;\">\n",
       "      <th></th>\n",
       "      <th>Regular</th>\n",
       "      <th>Large</th>\n",
       "      <th>Venti</th>\n",
       "    </tr>\n",
       "  </thead>\n",
       "  <tbody>\n",
       "    <tr>\n",
       "      <th>아메리카노</th>\n",
       "      <td>2000</td>\n",
       "      <td>2500</td>\n",
       "      <td>3000</td>\n",
       "    </tr>\n",
       "    <tr>\n",
       "      <th>카페라테</th>\n",
       "      <td>3000</td>\n",
       "      <td>3500</td>\n",
       "      <td>4000</td>\n",
       "    </tr>\n",
       "  </tbody>\n",
       "</table>\n",
       "</div>"
      ],
      "text/plain": [
       "       Regular  Large  Venti\n",
       "아메리카노     2000   2500   3000\n",
       "카페라테      3000   3500   4000"
      ]
     },
     "execution_count": 68,
     "metadata": {},
     "output_type": "execute_result"
    }
   ],
   "source": [
    "pd.DataFrame({'Regular': [2000, 3000], 'Large': [2500, 3500], 'Venti':[3000, 4000]}, index = [\"아메리카노\", \"카페라테\"])"
   ]
  },
  {
   "cell_type": "code",
   "execution_count": 70,
   "id": "654b8e9c-d68b-4c4a-9eaf-a6a82b58e32f",
   "metadata": {},
   "outputs": [],
   "source": [
    "d1 = ({'Regular': [2000, 3000], 'Large': [2500, 3500], 'Venti': [3000, 4000]})"
   ]
  },
  {
   "cell_type": "code",
   "execution_count": 71,
   "id": "be08dd46-1e0e-4247-93c7-aa53594c0e80",
   "metadata": {},
   "outputs": [
    {
     "data": {
      "text/html": [
       "<div>\n",
       "<style scoped>\n",
       "    .dataframe tbody tr th:only-of-type {\n",
       "        vertical-align: middle;\n",
       "    }\n",
       "\n",
       "    .dataframe tbody tr th {\n",
       "        vertical-align: top;\n",
       "    }\n",
       "\n",
       "    .dataframe thead th {\n",
       "        text-align: right;\n",
       "    }\n",
       "</style>\n",
       "<table border=\"1\" class=\"dataframe\">\n",
       "  <thead>\n",
       "    <tr style=\"text-align: right;\">\n",
       "      <th></th>\n",
       "      <th>Regular</th>\n",
       "      <th>Large</th>\n",
       "      <th>Venti</th>\n",
       "    </tr>\n",
       "  </thead>\n",
       "  <tbody>\n",
       "    <tr>\n",
       "      <th>0</th>\n",
       "      <td>2000</td>\n",
       "      <td>2500</td>\n",
       "      <td>3000</td>\n",
       "    </tr>\n",
       "    <tr>\n",
       "      <th>1</th>\n",
       "      <td>3000</td>\n",
       "      <td>3500</td>\n",
       "      <td>4000</td>\n",
       "    </tr>\n",
       "  </tbody>\n",
       "</table>\n",
       "</div>"
      ],
      "text/plain": [
       "   Regular  Large  Venti\n",
       "0     2000   2500   3000\n",
       "1     3000   3500   4000"
      ]
     },
     "execution_count": 71,
     "metadata": {},
     "output_type": "execute_result"
    }
   ],
   "source": [
    "pd.DataFrame(d1)"
   ]
  },
  {
   "cell_type": "code",
   "execution_count": null,
   "id": "f10dae68-25cd-4a1c-af22-ded8076f983a",
   "metadata": {},
   "outputs": [],
   "source": [
    "# sys를 사용하여 명령 프롬프트에 python favto.txt 1 2 3 4 5를 입력 했을시 \n",
    "# 팩토리얼 수식으로 120 출력되게 하여라"
   ]
  },
  {
   "cell_type": "code",
   "execution_count": 54,
   "id": "e4d6e436-f3c8-402e-b2d7-64ee2baa4a58",
   "metadata": {},
   "outputs": [],
   "source": [
    "with open('facto.txt', 'w') as f :\n",
    "    f.write(\"\"\"\n",
    "import sys\n",
    "result=1\n",
    "args = sys.argv\n",
    "\n",
    "for i in args[1:]:\n",
    "    result *= int(i)\n",
    "print(result)\n",
    "\"\"\")"
   ]
  },
  {
   "cell_type": "code",
   "execution_count": 94,
   "id": "3c8f3fc5-7343-4329-b1c6-c451cb78ff13",
   "metadata": {},
   "outputs": [
    {
     "data": {
      "text/plain": [
       "6759"
      ]
     },
     "execution_count": 94,
     "metadata": {},
     "output_type": "execute_result"
    }
   ],
   "source": [
    "import random\n",
    "random.randint(1000, 9999)"
   ]
  },
  {
   "cell_type": "code",
   "execution_count": 98,
   "id": "e284d879-336c-4369-87b1-343a05077c6e",
   "metadata": {},
   "outputs": [
    {
     "data": {
      "text/plain": [
       "2018"
      ]
     },
     "execution_count": 98,
     "metadata": {},
     "output_type": "execute_result"
    }
   ],
   "source": [
    "random.randint(1000,9999)"
   ]
  },
  {
   "cell_type": "code",
   "execution_count": 100,
   "id": "7c9d1f79-ca7f-4f32-9fd6-e2b208ff2456",
   "metadata": {},
   "outputs": [
    {
     "name": "stdout",
     "output_type": "stream",
     "text": [
      "010-9999-9999\n"
     ]
    }
   ],
   "source": [
    "print(f\"010-{i}-{i}\")"
   ]
  },
  {
   "cell_type": "code",
   "execution_count": 103,
   "id": "0f71d070-18bd-449a-b515-295703851270",
   "metadata": {},
   "outputs": [
    {
     "name": "stdout",
     "output_type": "stream",
     "text": [
      "010-7303-7303\n"
     ]
    }
   ],
   "source": [
    "i = random.randint(1000,9999)\n",
    "i2 = random.randint(1000,9999)\n",
    "print(f\"010-{i}-{i}\")"
   ]
  },
  {
   "cell_type": "code",
   "execution_count": 104,
   "id": "d971ac39-e84f-4cef-9331-f08809b0bc22",
   "metadata": {},
   "outputs": [
    {
     "name": "stdout",
     "output_type": "stream",
     "text": [
      "010-6974-6974\n"
     ]
    }
   ],
   "source": [
    "i = random.randint(1000,9999)\n",
    "print(f\"010-{i}-{i}\")"
   ]
  },
  {
   "cell_type": "code",
   "execution_count": 109,
   "id": "9f8446a9-14d7-4395-9a72-1274d045eb33",
   "metadata": {},
   "outputs": [
    {
     "name": "stdout",
     "output_type": "stream",
     "text": [
      "010-9518-3534\n"
     ]
    }
   ],
   "source": [
    "i = random.randint(1000,9999)\n",
    "i2 = random.randint(1000,9999)\n",
    "print(f\"010-{i}-{i2}\")"
   ]
  },
  {
   "cell_type": "code",
   "execution_count": 116,
   "id": "7c90f87e-8edc-41a3-9acf-0ecb3813fd9e",
   "metadata": {},
   "outputs": [
    {
     "data": {
      "text/plain": [
       "['g', 'o', 'o', 'd']"
      ]
     },
     "execution_count": 116,
     "metadata": {},
     "output_type": "execute_result"
    }
   ],
   "source": [
    "import re\n",
    "p = re.compile(\"[a-z]\")\n",
    "p.findall(\"239g6400o2196o32982756d3891683\")\n"
   ]
  },
  {
   "cell_type": "code",
   "execution_count": 117,
   "id": "a3b3a0d0-6d71-4323-b818-32de51f63427",
   "metadata": {},
   "outputs": [
    {
     "data": {
      "text/plain": [
       "['g', 'o', 'o', 'd']"
      ]
     },
     "execution_count": 117,
     "metadata": {},
     "output_type": "execute_result"
    }
   ],
   "source": []
  },
  {
   "cell_type": "code",
   "execution_count": null,
   "id": "bd18e9d2-5c12-4f3c-8116-ebc62b90dbbc",
   "metadata": {},
   "outputs": [],
   "source": [
    "# 구구단에서 8단만 출력하는 함수를 만드세요."
   ]
  },
  {
   "cell_type": "code",
   "execution_count": 3,
   "id": "f76e43a2-db47-49f1-bf0a-b6a79cbdcf3c",
   "metadata": {},
   "outputs": [],
   "source": [
    "def gugu(n) :\n",
    "    for i in range(1, 10):\n",
    "        print(f'{n} X {i} = {n*i}')"
   ]
  },
  {
   "cell_type": "code",
   "execution_count": 4,
   "id": "40e62a8a-bc59-4888-acc9-f9cf65faac1e",
   "metadata": {},
   "outputs": [
    {
     "name": "stdout",
     "output_type": "stream",
     "text": [
      "8 X 1 = 8\n",
      "8 X 2 = 16\n",
      "8 X 3 = 24\n",
      "8 X 4 = 32\n",
      "8 X 5 = 40\n",
      "8 X 6 = 48\n",
      "8 X 7 = 56\n",
      "8 X 8 = 64\n",
      "8 X 9 = 72\n"
     ]
    }
   ],
   "source": [
    "gugu(8)"
   ]
  },
  {
   "cell_type": "code",
   "execution_count": 5,
   "id": "abb1d80f-90ba-401f-9c5a-a6fa8b2b60ae",
   "metadata": {},
   "outputs": [],
   "source": [
    "def gugu8() :\n",
    "    for i in range(1, 10):\n",
    "        print(f'8 X {i} = {8*i}')"
   ]
  },
  {
   "cell_type": "code",
   "execution_count": 6,
   "id": "02ebb609-ee75-42a7-9f70-5435b6fd28ff",
   "metadata": {},
   "outputs": [
    {
     "name": "stdout",
     "output_type": "stream",
     "text": [
      "8 X 1 = 8\n",
      "8 X 2 = 16\n",
      "8 X 3 = 24\n",
      "8 X 4 = 32\n",
      "8 X 5 = 40\n",
      "8 X 6 = 48\n",
      "8 X 7 = 56\n",
      "8 X 8 = 64\n",
      "8 X 9 = 72\n"
     ]
    }
   ],
   "source": [
    "gugu8()"
   ]
  },
  {
   "cell_type": "code",
   "execution_count": null,
   "id": "a1d55733-5f32-4035-ac76-9772f74a546d",
   "metadata": {},
   "outputs": [],
   "source": [
    "# time 모듈을 이용하여 [2022년 6월 23일] 형식으로 출력하세요."
   ]
  },
  {
   "cell_type": "code",
   "execution_count": 11,
   "id": "ea242c7b-36ca-4263-a04f-0db6ab48a811",
   "metadata": {},
   "outputs": [
    {
     "data": {
      "text/plain": [
       "'2022년, 06월, 23일'"
      ]
     },
     "execution_count": 11,
     "metadata": {},
     "output_type": "execute_result"
    }
   ],
   "source": [
    "import time\n",
    "time.strftime('%Y년, %m월, %d일', time.localtime(time.time()))"
   ]
  },
  {
   "cell_type": "code",
   "execution_count": null,
   "id": "048ce3b5-b51a-4d39-b74a-f96ddd730a08",
   "metadata": {},
   "outputs": [],
   "source": [
    "# random을 이용해서 1이 나오면 이기는 게임을 만들어봅시다."
   ]
  },
  {
   "cell_type": "code",
   "execution_count": 20,
   "id": "ad9c84c5-af76-4496-93a8-5d96acc038ce",
   "metadata": {},
   "outputs": [
    {
     "name": "stdout",
     "output_type": "stream",
     "text": [
      "You Lose\n"
     ]
    }
   ],
   "source": [
    "import random\n",
    "i = random.randint(1, 5)\n",
    "\n",
    "if i == 1 :\n",
    "    print(f'You Win!!')\n",
    "else :\n",
    "    print(f'You Lose')"
   ]
  },
  {
   "cell_type": "code",
   "execution_count": 18,
   "id": "b84337fa-9aaf-4ddf-98ab-4e6c77e2c1ca",
   "metadata": {},
   "outputs": [
    {
     "name": "stdout",
     "output_type": "stream",
     "text": [
      "You Win!!\n"
     ]
    }
   ],
   "source": [
    "if random.randint(1,5) == 1:\n",
    "    print(f'You Win!!')\n",
    "else :\n",
    "    print(f'You Lose')"
   ]
  },
  {
   "cell_type": "code",
   "execution_count": 24,
   "id": "11eb3839-c9ef-4304-a779-9f7d2ddfab31",
   "metadata": {},
   "outputs": [
    {
     "name": "stdout",
     "output_type": "stream",
     "text": [
      "010-5887-6018\n"
     ]
    }
   ],
   "source": [
    "# 전화번호 만들기 오우!!! 칭찬받아땨\n",
    "\n",
    "i = random.randint(1000, 9999)\n",
    "i2 = random.randint(1000, 9999)\n",
    "\n",
    "print(f\"010-{i}-{i2}\")"
   ]
  },
  {
   "cell_type": "code",
   "execution_count": null,
   "id": "e9fcc5ae-8ed1-4933-8d8f-7130e571319d",
   "metadata": {},
   "outputs": [],
   "source": [
    "# 1 - 10 에서 중복되지 않게 숫자 3개 추출"
   ]
  },
  {
   "cell_type": "code",
   "execution_count": 28,
   "id": "1765d0ba-75d5-49b5-9ad7-02a8d1e12e1e",
   "metadata": {},
   "outputs": [
    {
     "data": {
      "text/plain": [
       "[8, 1, 9]"
      ]
     },
     "execution_count": 28,
     "metadata": {},
     "output_type": "execute_result"
    }
   ],
   "source": [
    "a = set()\n",
    "while len(a) < 3:\n",
    "    a.add(random.randint(1, 9))\n",
    " \n",
    "list(a) "
   ]
  },
  {
   "cell_type": "code",
   "execution_count": 27,
   "id": "47ec454a-a5fd-4e41-9fcf-8a512118bb9a",
   "metadata": {},
   "outputs": [
    {
     "data": {
      "text/plain": [
       "[6, 3, 1]"
      ]
     },
     "execution_count": 27,
     "metadata": {},
     "output_type": "execute_result"
    }
   ],
   "source": [
    "a = range(1, 11)\n",
    "list(random.sample(a, 3)) "
   ]
  },
  {
   "cell_type": "code",
   "execution_count": 29,
   "id": "86eabeb8-33e4-44d5-ba36-9ec3a007f403",
   "metadata": {},
   "outputs": [
    {
     "name": "stdout",
     "output_type": "stream",
     "text": [
      "[10, 4, 5]\n"
     ]
    }
   ],
   "source": [
    "a = []\n",
    "while len(a) < 3 :\n",
    "    b = random.randint(1, 10)\n",
    "    if b not in a :\n",
    "        a.append(b)\n",
    "print(a)"
   ]
  },
  {
   "cell_type": "code",
   "execution_count": null,
   "id": "6bf53376-c486-4efd-8a5c-95895a34c9fc",
   "metadata": {},
   "outputs": [],
   "source": [
    "# 239g6400o2196o32982756d3891683 를 복사하고 정규표현식을 이용하여 영어만 따로 출력해주세요\n",
    "# 우앙!!"
   ]
  },
  {
   "cell_type": "code",
   "execution_count": 30,
   "id": "66a93a45-ebe9-4fed-8911-b31d22ed2d88",
   "metadata": {},
   "outputs": [
    {
     "data": {
      "text/plain": [
       "['g', 'o', 'o', 'd']"
      ]
     },
     "execution_count": 30,
     "metadata": {},
     "output_type": "execute_result"
    }
   ],
   "source": [
    "import re\n",
    "p = re.compile(\"[a-z]\")\n",
    "p.findall(\"239g6400o2196o32982756d3891683\")"
   ]
  },
  {
   "cell_type": "code",
   "execution_count": null,
   "id": "b25ca869-a3f5-4407-92f9-b9497e7ebf5c",
   "metadata": {},
   "outputs": [],
   "source": [
    "# random 모듈을 사용하여 1 - 45, 6개의 랜덤값을 출력하시오"
   ]
  },
  {
   "cell_type": "code",
   "execution_count": 34,
   "id": "b692f9b3-f76d-4a0d-9f5e-14f4fd44f58f",
   "metadata": {},
   "outputs": [
    {
     "name": "stdout",
     "output_type": "stream",
     "text": [
      "[43, 5, 41, 42, 39, 13]\n"
     ]
    }
   ],
   "source": [
    "a = []\n",
    "for i in range(6):\n",
    "    a.append(random.randint(1, 45))\n",
    "print(a)"
   ]
  },
  {
   "cell_type": "code",
   "execution_count": null,
   "id": "bea8777c-09d9-4de7-b4dd-a0021f295022",
   "metadata": {},
   "outputs": [],
   "source": [
    "a = []\n",
    "for i in range(6):\n",
    "    a.append(random.randint(1,45))\n",
    "print(a) "
   ]
  },
  {
   "cell_type": "code",
   "execution_count": 37,
   "id": "257306e6-ad01-49b8-b3ee-59e42598a9b8",
   "metadata": {},
   "outputs": [
    {
     "data": {
      "text/plain": [
       "[13, 29, 36, 23, 36, 21]"
      ]
     },
     "execution_count": 37,
     "metadata": {},
     "output_type": "execute_result"
    }
   ],
   "source": [
    "[random.randint(1, 45) for i in range(6)]"
   ]
  },
  {
   "cell_type": "code",
   "execution_count": 54,
   "id": "ab7223b1-cb72-46ba-9b87-c8867875773d",
   "metadata": {},
   "outputs": [],
   "source": [
    "class Ham:\n",
    "    def __init__(self):\n",
    "        self.name = \"A버거\"\n",
    "        self.price = \"1000\"\n",
    "    def show(self):\n",
    "        print(self.name)\n",
    "        print(self.price)"
   ]
  },
  {
   "cell_type": "code",
   "execution_count": 55,
   "id": "666de686-1473-453d-8b58-fea18cbcfb58",
   "metadata": {},
   "outputs": [],
   "source": [
    "b = Ham()"
   ]
  },
  {
   "cell_type": "code",
   "execution_count": 56,
   "id": "57b12a08-bf0c-4344-8d06-eb8129bfc2ae",
   "metadata": {},
   "outputs": [
    {
     "name": "stdout",
     "output_type": "stream",
     "text": [
      "A버거\n",
      "1000\n"
     ]
    }
   ],
   "source": [
    "b.show()"
   ]
  },
  {
   "cell_type": "code",
   "execution_count": 75,
   "id": "427a312e-bd6a-43a7-9386-e70b569cdecf",
   "metadata": {},
   "outputs": [],
   "source": [
    "class Ham_B(Ham):\n",
    "    def __init__(self):\n",
    "        self.name = \"B버거\""
   ]
  },
  {
   "cell_type": "code",
   "execution_count": 76,
   "id": "d3a6f40a-3e27-4d47-9dfd-a98c5dae15fb",
   "metadata": {},
   "outputs": [],
   "source": [
    "b = Ham_B()"
   ]
  },
  {
   "cell_type": "code",
   "execution_count": 77,
   "id": "0fc6c8ea-7479-48c9-9f22-493c70fdd954",
   "metadata": {},
   "outputs": [
    {
     "data": {
      "text/plain": [
       "'B버거'"
      ]
     },
     "execution_count": 77,
     "metadata": {},
     "output_type": "execute_result"
    }
   ],
   "source": [
    "b.name"
   ]
  },
  {
   "cell_type": "code",
   "execution_count": 83,
   "id": "fd8dc510-bf65-4d4a-9c7f-8b2e3e658b03",
   "metadata": {},
   "outputs": [
    {
     "data": {
      "text/plain": [
       "'1000'"
      ]
     },
     "execution_count": 83,
     "metadata": {},
     "output_type": "execute_result"
    }
   ],
   "source": [
    "b.price     # super().__init__() 로 부모 클래스 내용 상속 해줘야함"
   ]
  },
  {
   "cell_type": "code",
   "execution_count": 84,
   "id": "786d7bf5-a9b4-42d2-b6ae-a822dffc744a",
   "metadata": {},
   "outputs": [],
   "source": [
    "class Ham_B(Ham):\n",
    "    def __init__(self):\n",
    "        super().__init__()\n",
    "        self.name = \"B버거\""
   ]
  },
  {
   "cell_type": "code",
   "execution_count": 80,
   "id": "37ad5543-6a1f-4753-adf5-586aabdbc396",
   "metadata": {},
   "outputs": [
    {
     "data": {
      "text/plain": [
       "'1000'"
      ]
     },
     "execution_count": 80,
     "metadata": {},
     "output_type": "execute_result"
    }
   ],
   "source": [
    "b = Ham_B()\n",
    "b.price"
   ]
  },
  {
   "cell_type": "code",
   "execution_count": 134,
   "id": "c5d1f4b4-6afa-490f-9cb1-6d7070ec489c",
   "metadata": {},
   "outputs": [],
   "source": [
    "class Ham:\n",
    "    def __init__(self, name, price):\n",
    "        self.name = name\n",
    "        self.price = price"
   ]
  },
  {
   "cell_type": "code",
   "execution_count": 135,
   "id": "0c71733c-f2f5-4f60-8089-af5e12d02d4e",
   "metadata": {},
   "outputs": [],
   "source": [
    "b = Ham(\"A버거\", \"1000\")"
   ]
  },
  {
   "cell_type": "code",
   "execution_count": 136,
   "id": "18eab1bd-0170-4d60-b9d5-df3c868213a5",
   "metadata": {},
   "outputs": [
    {
     "data": {
      "text/plain": [
       "'A버거'"
      ]
     },
     "execution_count": 136,
     "metadata": {},
     "output_type": "execute_result"
    }
   ],
   "source": [
    "b.name"
   ]
  },
  {
   "cell_type": "code",
   "execution_count": 137,
   "id": "6466903a-6be5-4ff6-b254-65f9818f4bc8",
   "metadata": {},
   "outputs": [
    {
     "data": {
      "text/plain": [
       "'1000'"
      ]
     },
     "execution_count": 137,
     "metadata": {},
     "output_type": "execute_result"
    }
   ],
   "source": [
    "b.price"
   ]
  },
  {
   "cell_type": "code",
   "execution_count": 138,
   "id": "29dac8f0-9bd9-42f1-a8d8-2329e0d48ea8",
   "metadata": {},
   "outputs": [],
   "source": [
    "class Ham_B(Ham):\n",
    "    def __init__(self, name, price, kcal):\n",
    "        super().__init__(name, price)\n",
    "        self.kcal = kcal"
   ]
  },
  {
   "cell_type": "code",
   "execution_count": 139,
   "id": "1aeabd0e-5777-455c-9434-ebb122f59369",
   "metadata": {},
   "outputs": [],
   "source": [
    "b = Ham_B(\"A버거\", 1000, 500)"
   ]
  },
  {
   "cell_type": "code",
   "execution_count": 140,
   "id": "225eaa7e-e80f-4802-9dc7-eba14a43a85e",
   "metadata": {},
   "outputs": [
    {
     "data": {
      "text/plain": [
       "'A버거'"
      ]
     },
     "execution_count": 140,
     "metadata": {},
     "output_type": "execute_result"
    }
   ],
   "source": [
    "b.name"
   ]
  },
  {
   "cell_type": "code",
   "execution_count": 141,
   "id": "028d53c3-d3c0-4340-884a-e9bd8a055c67",
   "metadata": {},
   "outputs": [
    {
     "data": {
      "text/plain": [
       "500"
      ]
     },
     "execution_count": 141,
     "metadata": {},
     "output_type": "execute_result"
    }
   ],
   "source": [
    "b.kcal"
   ]
  },
  {
   "cell_type": "code",
   "execution_count": null,
   "id": "8b92c963-3aa5-417c-a714-40a4aaaba8fe",
   "metadata": {},
   "outputs": [],
   "source": [
    "# 람다, map 사용하여 양수는 음수로, 음수는 양수로 바꾸어라\n",
    "# [31, -55, 34, 55, 66]"
   ]
  },
  {
   "cell_type": "code",
   "execution_count": 151,
   "id": "c4e4fb70-5fc4-4c37-9f8e-598ae5c2c336",
   "metadata": {},
   "outputs": [
    {
     "data": {
      "text/plain": [
       "[-31, 55, -34, -55, -66]"
      ]
     },
     "execution_count": 151,
     "metadata": {},
     "output_type": "execute_result"
    }
   ],
   "source": [
    "list(map(lambda x : -x , [31, -55, 34, 55, 66]))"
   ]
  },
  {
   "cell_type": "code",
   "execution_count": 152,
   "id": "59a58702-0a8d-41d1-8486-482ee8ea7ace",
   "metadata": {},
   "outputs": [
    {
     "data": {
      "text/plain": [
       "[-31, 55, -34, -55, -66]"
      ]
     },
     "execution_count": 152,
     "metadata": {},
     "output_type": "execute_result"
    }
   ],
   "source": [
    "list(map(lambda x : x * -1 , [31, -55, 34, 55, 66]))"
   ]
  },
  {
   "cell_type": "code",
   "execution_count": null,
   "id": "fdeecf6a-2a31-4b0d-93ba-a481b282bfb9",
   "metadata": {},
   "outputs": [],
   "source": [
    "# li = [6, 1, 5, 2, 4, 3]\n",
    "# even = [6, 2, 4] 짝수만, odd = [1, 5, 3] 리스트 만들어주기"
   ]
  },
  {
   "cell_type": "code",
   "execution_count": 156,
   "id": "dd71e609-0a3c-41d8-b828-6991746407a9",
   "metadata": {},
   "outputs": [
    {
     "data": {
      "text/plain": [
       "[6, 2, 4]"
      ]
     },
     "execution_count": 156,
     "metadata": {},
     "output_type": "execute_result"
    }
   ],
   "source": [
    "list(filter(lambda x : x%2==0, [6, 1, 5, 2, 4, 3]))"
   ]
  },
  {
   "cell_type": "code",
   "execution_count": 157,
   "id": "a0b0acac-61e3-4ffd-ba14-320471277018",
   "metadata": {},
   "outputs": [
    {
     "data": {
      "text/plain": [
       "[1, 5, 3]"
      ]
     },
     "execution_count": 157,
     "metadata": {},
     "output_type": "execute_result"
    }
   ],
   "source": [
    "list(filter(lambda x : x%2==1, [6, 1, 5, 2, 4, 3]))"
   ]
  },
  {
   "cell_type": "code",
   "execution_count": 158,
   "id": "dd47310a-e54c-4ed4-b9fe-5c01b46522ca",
   "metadata": {},
   "outputs": [],
   "source": [
    "li = [6, 1, 5, 2, 4, 3]\n",
    "even = list(filter(lambda x : x%2==0, li))\n",
    "odd = list(filter(lambda x : x%2==1, li))"
   ]
  },
  {
   "cell_type": "code",
   "execution_count": 159,
   "id": "8484b2dc-9499-4fa6-b8f5-b751f328ef43",
   "metadata": {},
   "outputs": [
    {
     "data": {
      "text/plain": [
       "[1, 5, 3]"
      ]
     },
     "execution_count": 159,
     "metadata": {},
     "output_type": "execute_result"
    }
   ],
   "source": [
    "odd"
   ]
  },
  {
   "cell_type": "code",
   "execution_count": 160,
   "id": "cbd8c362-1597-42ff-8347-5e0c65e2bbb4",
   "metadata": {},
   "outputs": [
    {
     "data": {
      "text/plain": [
       "[6, 2, 4]"
      ]
     },
     "execution_count": 160,
     "metadata": {},
     "output_type": "execute_result"
    }
   ],
   "source": [
    "even"
   ]
  },
  {
   "cell_type": "code",
   "execution_count": 161,
   "id": "e4e7b5c8-0470-4c16-ac05-766bac4e160c",
   "metadata": {},
   "outputs": [
    {
     "data": {
      "text/plain": [
       "[1, 5, 3]"
      ]
     },
     "execution_count": 161,
     "metadata": {},
     "output_type": "execute_result"
    }
   ],
   "source": [
    "even = [i for i in li if i % 2 == 0]\n",
    "odd = [i for i in li if i % 2 == 1]\n",
    "odd"
   ]
  },
  {
   "cell_type": "code",
   "execution_count": null,
   "id": "b87580d3-c53b-4fa2-a8f2-0ddd0a05f5f7",
   "metadata": {},
   "outputs": [],
   "source": [
    "# even 오름차순, odd 내림차순"
   ]
  },
  {
   "cell_type": "code",
   "execution_count": 166,
   "id": "a8d88c1c-9fd3-4313-94cc-3f2632f6e095",
   "metadata": {},
   "outputs": [],
   "source": [
    "even.sort()     # sort 순서대로 정리"
   ]
  },
  {
   "cell_type": "code",
   "execution_count": 163,
   "id": "80d8e33f-d122-44fb-b19a-e468f7c751f9",
   "metadata": {},
   "outputs": [
    {
     "data": {
      "text/plain": [
       "[2, 4, 6]"
      ]
     },
     "execution_count": 163,
     "metadata": {},
     "output_type": "execute_result"
    }
   ],
   "source": [
    "even"
   ]
  },
  {
   "cell_type": "code",
   "execution_count": 164,
   "id": "01929ecb-3f43-4679-8943-4fbef5980eb6",
   "metadata": {},
   "outputs": [],
   "source": [
    "odd.sort()\n",
    "odd.reverse()"
   ]
  },
  {
   "cell_type": "code",
   "execution_count": 165,
   "id": "a6c63417-29d7-48cc-9535-81f495bd5649",
   "metadata": {},
   "outputs": [
    {
     "data": {
      "text/plain": [
       "[5, 3, 1]"
      ]
     },
     "execution_count": 165,
     "metadata": {},
     "output_type": "execute_result"
    }
   ],
   "source": [
    "odd"
   ]
  },
  {
   "cell_type": "code",
   "execution_count": 170,
   "id": "b8c15cd1-481d-48dd-a55e-abc63ae9c6ed",
   "metadata": {},
   "outputs": [
    {
     "name": "stdout",
     "output_type": "stream",
     "text": [
      "2 5\n",
      "4 3\n",
      "6 1\n"
     ]
    }
   ],
   "source": [
    "for i,j in zip(even,odd) :\n",
    "    print(i, j)"
   ]
  },
  {
   "cell_type": "code",
   "execution_count": null,
   "id": "df38905f-5ad8-48a2-888d-25278c6f0c6b",
   "metadata": {},
   "outputs": [],
   "source": [
    "# \"The most popular Twitter hashtags: #giveaway #travel365 #quote #win #marketing\" "
   ]
  },
  {
   "cell_type": "code",
   "execution_count": 188,
   "id": "dfe25313-9b73-4350-ba5b-4d77870cce3e",
   "metadata": {},
   "outputs": [
    {
     "data": {
      "text/plain": [
       "['#giveaway', '#travel365', '#quote', '#win', '#marketing']"
      ]
     },
     "execution_count": 188,
     "metadata": {},
     "output_type": "execute_result"
    }
   ],
   "source": [
    "import re\n",
    "sentence = \"The most popular Twitter hashtags: #giveaway #travel365 #quote #win #marketing\"\n",
    "\n",
    "p = re.compile(\"[#][a-z,A-Z,0-9]+\")\n",
    "p.findall(sentence)"
   ]
  },
  {
   "cell_type": "code",
   "execution_count": 187,
   "id": "57c134e9-101d-42f6-9c63-ce8f2bcb7124",
   "metadata": {},
   "outputs": [
    {
     "name": "stdout",
     "output_type": "stream",
     "text": [
      "#giveaway\n",
      "#travel365\n",
      "#quote\n",
      "#win\n",
      "#marketing\n"
     ]
    }
   ],
   "source": [
    "import re\n",
    "sentence = \"The most popular Twitter hashtags: #giveaway #travel365 #quote #win #marketing\"\n",
    "\n",
    "p = re.compile(\"[#][a-z,A-Z,0-9]+\")\n",
    "for i in p.findall(sentence):\n",
    "    print(i)"
   ]
  },
  {
   "cell_type": "code",
   "execution_count": 189,
   "id": "56b1a43d-5f20-4a5a-bc0e-27b654d67c2e",
   "metadata": {},
   "outputs": [
    {
     "name": "stdout",
     "output_type": "stream",
     "text": [
      "giveaway\n",
      "travel365\n",
      "quote\n",
      "win\n",
      "marketing\n"
     ]
    }
   ],
   "source": [
    "import re\n",
    "sentence = \"The most popular Twitter hashtags: #giveaway #travel365 #quote #win #marketing\"\n",
    "\n",
    "p = re.compile(\"[#][a-z,A-Z,0-9_]+\")\n",
    "p = re.compile(\"#\\w+\") # << [a-zA-z0-9_]  == [\\w]\n",
    "\n",
    "for i in p.findall(sentence):\n",
    "    print(i[1:])"
   ]
  },
  {
   "cell_type": "code",
   "execution_count": 190,
   "id": "0f3b4ab4-f6e5-4c80-a3e1-c250ee93bf49",
   "metadata": {},
   "outputs": [
    {
     "name": "stdout",
     "output_type": "stream",
     "text": [
      "giveaway\n",
      "travel365\n",
      "quote\n",
      "win\n",
      "marketing\n"
     ]
    }
   ],
   "source": [
    "for i in p.findall(sentence):\n",
    "    print(i.lstrip(\"#\"))"
   ]
  },
  {
   "cell_type": "code",
   "execution_count": 194,
   "id": "418b572c-d845-4d28-8033-cf302fd17a89",
   "metadata": {},
   "outputs": [
    {
     "name": "stdout",
     "output_type": "stream",
     "text": [
      "0 . giveaway\n",
      "1 . travel365\n",
      "2 . quote\n",
      "3 . win\n",
      "4 . marketing\n"
     ]
    }
   ],
   "source": [
    "import re\n",
    "p = re.compile(\"#\\w+\")\n",
    "m = p.findall(sentence)\n",
    "for i, j in enumerate(m):\n",
    "    print(i,\".\",j[1:])"
   ]
  },
  {
   "cell_type": "code",
   "execution_count": 195,
   "id": "0a608957-697b-4aa0-ab59-5fed70f3c663",
   "metadata": {},
   "outputs": [
    {
     "name": "stdout",
     "output_type": "stream",
     "text": [
      "0. giveaway\n",
      "1. travel365\n",
      "2. quote\n",
      "3. win\n",
      "4. marketing\n"
     ]
    }
   ],
   "source": [
    "import re\n",
    "p = re.compile(\"#\\w+\")\n",
    "m = p.findall(sentence)\n",
    "for i, j in enumerate(m):\n",
    "    print(f\"{i}\"+\".\",j[1:])"
   ]
  },
  {
   "cell_type": "code",
   "execution_count": 207,
   "id": "3354ea5b-62f1-4701-ad30-239f261e7176",
   "metadata": {},
   "outputs": [
    {
     "name": "stdout",
     "output_type": "stream",
     "text": [
      "makeup\n",
      "yellow\n",
      "shirts\n",
      "lakers\n",
      "layered\n"
     ]
    }
   ],
   "source": [
    "lyrics = \"있는 그대로 it's more than makeup 그 누구보다도 아름다운걸 yellow shirts 마치 lakers 대화로 꽃을 피워 layered 매일 매일\"\n",
    "p = re.compile(\"[a-zA-z]{6,}\")\n",
    "m = p.findall(lyrics)\n",
    "for i in m:\n",
    "    print(i)"
   ]
  },
  {
   "cell_type": "code",
   "execution_count": 218,
   "id": "0d791f4c-012f-428e-b034-bfcc8cb446d7",
   "metadata": {},
   "outputs": [
    {
     "data": {
      "text/plain": [
       "'makeup'"
      ]
     },
     "execution_count": 218,
     "metadata": {},
     "output_type": "execute_result"
    }
   ],
   "source": [
    "lyrics = \"있는 그대로 it's more than makeup 그 누구보다도 아름다운걸 yellow shirts 마치 lakers 대화로 꽃을 피워 layered 매일 매일\"\n",
    "p = re.compile(\"[a-zA-z]{6,}\")\n",
    "q = p.search(lyrics)\n",
    "q.group()"
   ]
  },
  {
   "cell_type": "code",
   "execution_count": 220,
   "id": "95a1a491-6d20-462e-9cfc-b17994ea5bc6",
   "metadata": {},
   "outputs": [
    {
     "data": {
      "text/plain": [
       "'makeup'"
      ]
     },
     "execution_count": 220,
     "metadata": {},
     "output_type": "execute_result"
    }
   ],
   "source": [
    "p.search(lyrics).group()"
   ]
  },
  {
   "cell_type": "code",
   "execution_count": 242,
   "id": "4efd2a1d-001a-47cf-ad21-7f02e9b2f7ac",
   "metadata": {},
   "outputs": [
    {
     "name": "stdout",
     "output_type": "stream",
     "text": [
      "\n",
      "park 010-1234-####\n",
      "kim 010-5678-####\n",
      "\n"
     ]
    }
   ],
   "source": [
    "data =\"\"\"\n",
    "park 010-1234-5678\n",
    "kim 010-5678-1234\n",
    "\"\"\"\n",
    "pat = re.compile(\"(\\d{4})[-]\\d{4}\")\n",
    "print(pat.sub(\"\\g<1>-####\", data))    # g == group <1> 그룹 1번 그룹 0부터 시작 0은 그룹전체"
   ]
  },
  {
   "cell_type": "code",
   "execution_count": 231,
   "id": "9704f697-5506-45d3-930e-57f0b16ea296",
   "metadata": {},
   "outputs": [
    {
     "name": "stdout",
     "output_type": "stream",
     "text": [
      "010-1234-####\n",
      "010-5678-####\n"
     ]
    }
   ],
   "source": [
    "p = re.compile(\"\\d{3}[-]\\d{4}[-]\\d{4}\")\n",
    "q = p.findall(data)\n",
    "for i in q :\n",
    "    print(i[0:9]+\"####\")"
   ]
  },
  {
   "cell_type": "markdown",
   "id": "e9924176-68ea-4143-b849-abcc280c74c8",
   "metadata": {},
   "source": [
    "a{2}b  : aab\n",
    "ab{2}c : abbc\n",
    "(ab){2}c : ababc"
   ]
  },
  {
   "cell_type": "code",
   "execution_count": 238,
   "id": "14d3d7df-8ea1-4afd-a301-878521a8d309",
   "metadata": {},
   "outputs": [
    {
     "name": "stdout",
     "output_type": "stream",
     "text": [
      "\n",
      "park 010-5678-####\n",
      "kim 010-1234-####\n",
      "\n"
     ]
    }
   ],
   "source": [
    "pat = re.compile(\"(\\d{4})[-](\\d{4})\")\n",
    "print(pat.sub(\"\\g<2>-####\", data))     # 그룹 2 넣으니까 가운데가 뒷자리로 바뀌었음!"
   ]
  },
  {
   "cell_type": "code",
   "execution_count": 241,
   "id": "92b9bad0-74a4-4b79-83c1-76c948ec5f29",
   "metadata": {},
   "outputs": [
    {
     "name": "stdout",
     "output_type": "stream",
     "text": [
      "\n",
      "park 010-1234-####\n",
      "kim 010-5678-####\n",
      "\n"
     ]
    }
   ],
   "source": [
    "pat = re.compile(\"(\\d{3})[-](\\d{4})[-](\\d{4})\")\n",
    "print(pat.sub(\"\\g<1>-\\g<2>-####\", data))"
   ]
  },
  {
   "cell_type": "code",
   "execution_count": 248,
   "id": "0ed319e9-5848-4eb8-aa4d-0da6d6f014f3",
   "metadata": {},
   "outputs": [],
   "source": [
    "data = \"\"\"\n",
    "park 010-1234-5678\n",
    "\"\"\""
   ]
  },
  {
   "cell_type": "code",
   "execution_count": 249,
   "id": "8df9073d-2b28-4e94-bd4d-67b44055ceda",
   "metadata": {},
   "outputs": [
    {
     "name": "stdout",
     "output_type": "stream",
     "text": [
      "\n",
      "park 010-1234-####\n",
      "\n"
     ]
    }
   ],
   "source": [
    "p = re.compile(\"[-]\\d{4}$\")\n",
    "print(p.sub(\"-####\", data))"
   ]
  },
  {
   "cell_type": "code",
   "execution_count": 250,
   "id": "ffa5435f-81f8-4521-a27f-bc7fbb58f3e4",
   "metadata": {},
   "outputs": [],
   "source": [
    "data =\"\"\"\n",
    "park 010-1234-5678\n",
    "kim 010-5678-1234\n",
    "\"\"\""
   ]
  },
  {
   "cell_type": "code",
   "execution_count": 252,
   "id": "16040f18-960f-4469-a0e3-f19d18d18a21",
   "metadata": {},
   "outputs": [
    {
     "name": "stdout",
     "output_type": "stream",
     "text": [
      "\n",
      "park 010-1234-5678\n",
      "kim 010-5678-####\n",
      "\n"
     ]
    }
   ],
   "source": [
    "p = re.compile(\"[-]\\d{4}$\")\n",
    "print(p.sub(\"-####\", data))    # $ == 맨 마지막 4자리 진짜 맨 마지막 4자리만 보여줌"
   ]
  },
  {
   "cell_type": "code",
   "execution_count": 253,
   "id": "ec85afee-1dcd-46c0-90d9-ca22ee93b1ca",
   "metadata": {},
   "outputs": [],
   "source": [
    "data =\"\"\"\n",
    "park 010-1234-5678\n",
    "kim 010-5678-1234\n",
    "lee 010-3454-3458\n",
    "\"\"\""
   ]
  },
  {
   "cell_type": "code",
   "execution_count": 256,
   "id": "15b6efc9-79cb-4271-aa46-87d2e6b5113a",
   "metadata": {},
   "outputs": [
    {
     "name": "stdout",
     "output_type": "stream",
     "text": [
      "\n",
      "park 010-1234-####\n",
      "kim 010-5678-####\n",
      "lee 010-3454-####\n",
      "\n"
     ]
    }
   ],
   "source": [
    "p = re.compile(\"[-]\\d{4}$\", re.MULTILINE)    # re.MULTILINE 끝 부분마다 잡아줌\n",
    "print(p.sub(\"-####\", data))"
   ]
  },
  {
   "cell_type": "code",
   "execution_count": 257,
   "id": "156c7893-9f3c-4c42-82fd-a39a85dc049c",
   "metadata": {},
   "outputs": [
    {
     "data": {
      "text/plain": [
       "['python one']"
      ]
     },
     "execution_count": 257,
     "metadata": {},
     "output_type": "execute_result"
    }
   ],
   "source": [
    "data = \"\"\"python one\n",
    "life is too short\n",
    "python two\n",
    "you need python\n",
    "python three\"\"\"\n",
    "\n",
    "p = re.compile(\"^python\\s\\w+\")\n",
    "p.findall(data)"
   ]
  },
  {
   "cell_type": "code",
   "execution_count": 258,
   "id": "f712bd4d-6337-43c1-8da7-d019722c49e7",
   "metadata": {},
   "outputs": [
    {
     "data": {
      "text/plain": [
       "['python one', 'python two', 'python three']"
      ]
     },
     "execution_count": 258,
     "metadata": {},
     "output_type": "execute_result"
    }
   ],
   "source": [
    "p = re.compile(\"^python\\s\\w+\", re.MULTILINE)\n",
    "p.findall(data)"
   ]
  },
  {
   "cell_type": "code",
   "execution_count": 259,
   "id": "eafe3ba6-f601-4e4b-95d3-39ea5723a7e7",
   "metadata": {},
   "outputs": [
    {
     "name": "stdout",
     "output_type": "stream",
     "text": [
      "Hello \n",
      "ew shoes\n"
     ]
    }
   ],
   "source": [
    "print(\"Hello \\new shoes\")"
   ]
  },
  {
   "cell_type": "code",
   "execution_count": 260,
   "id": "056cc9d8-b6c2-4e62-a3f1-7ae47149cce1",
   "metadata": {},
   "outputs": [
    {
     "name": "stdout",
     "output_type": "stream",
     "text": [
      "Hello \\new shoes\n"
     ]
    }
   ],
   "source": [
    "print(\"Hello \\\\new shoes\")"
   ]
  },
  {
   "cell_type": "code",
   "execution_count": 262,
   "id": "271c8dd9-4830-4121-96cf-4c2e0829c1f4",
   "metadata": {},
   "outputs": [
    {
     "name": "stdout",
     "output_type": "stream",
     "text": [
      "Hello new shoes  nike \\ adidas \\ puma\n"
     ]
    }
   ],
   "source": [
    "print(\"Hello new shoes  nike \\\\ adidas \\\\ puma\")"
   ]
  },
  {
   "cell_type": "code",
   "execution_count": null,
   "id": "f6b308ff-0e46-4a96-8af8-c0f86046aa35",
   "metadata": {},
   "outputs": [],
   "source": [
    "# \\\\ 두번 써야 \\ 한개만 나옴"
   ]
  },
  {
   "cell_type": "code",
   "execution_count": 264,
   "id": "58579c60-08f1-42dd-b902-f204ee0377a2",
   "metadata": {},
   "outputs": [
    {
     "data": {
      "text/plain": [
       "re.compile(r'\\section', re.UNICODE)"
      ]
     },
     "execution_count": 264,
     "metadata": {},
     "output_type": "execute_result"
    }
   ],
   "source": [
    "re.compile(r'\\section')  # 이상한 일 생기는 것 방지하기 위해 r 꼭 써줌 파이썬에서는"
   ]
  },
  {
   "cell_type": "code",
   "execution_count": 270,
   "id": "af40287f-abc6-41af-a4c9-ef8fdc5d88eb",
   "metadata": {},
   "outputs": [
    {
     "name": "stdout",
     "output_type": "stream",
     "text": [
      "\n",
      "김하나  1002832-*******\n",
      "김둘    2229043-*******\n",
      "김셋    1922298-*******\n",
      "\n"
     ]
    }
   ],
   "source": [
    "data = '''\n",
    "김하나  901010-1002832\n",
    "김둘    990909-2229043\n",
    "김셋    940202-1922298\n",
    "'''\n",
    "\n",
    "p = re.compile(r'(\\w+\\s+)\\d{6}[-](\\d{7})')\n",
    "print(p.sub('\\g<1>\\g<2>-*******', data))"
   ]
  },
  {
   "cell_type": "code",
   "execution_count": 271,
   "id": "be55b6f9-9edf-4487-84bd-4c03ea357b88",
   "metadata": {},
   "outputs": [
    {
     "name": "stdout",
     "output_type": "stream",
     "text": [
      "\n",
      "김하나  901010-*******\n",
      "김둘    990909-*******\n",
      "김셋    940202-*******\n",
      "\n"
     ]
    }
   ],
   "source": [
    "data = '''\n",
    "김하나  901010-1002832\n",
    "김둘    990909-2229043\n",
    "김셋    940202-1922298\n",
    "'''\n",
    "\n",
    "p = re.compile(r'[-]\\d{7}$', re.M)\n",
    "print(p.sub(\"-*******\", data))"
   ]
  },
  {
   "cell_type": "code",
   "execution_count": 274,
   "id": "b4fa115d-77e7-4eef-8d47-d6b51326d01a",
   "metadata": {},
   "outputs": [
    {
     "data": {
      "text/plain": [
       "['seaweed', 'always', 'greener', 'somebody']"
      ]
     },
     "execution_count": 274,
     "metadata": {},
     "output_type": "execute_result"
    }
   ],
   "source": [
    "data = \"The seaweed is always greener in somebody else's lake.\"\n",
    "\n",
    "p = re.compile(\"[a-zA-z]{6,}\")\n",
    "p.findall(data)"
   ]
  },
  {
   "cell_type": "code",
   "execution_count": 295,
   "id": "f3abadc2-3691-4050-a2fc-554d39271a32",
   "metadata": {},
   "outputs": [
    {
     "data": {
      "text/plain": [
       "['seaweed', 'greener', 'somebody']"
      ]
     },
     "execution_count": 295,
     "metadata": {},
     "output_type": "execute_result"
    }
   ],
   "source": [
    "data = \"The seaweed is always greener in somebody else's lake.\"\n",
    "\n",
    "p = re.compile(\"[a-zA-Z]{7,}\")\n",
    "p.findall(data)"
   ]
  },
  {
   "cell_type": "code",
   "execution_count": 302,
   "id": "62d60a86-137b-4030-a0d6-4bbaeb94b440",
   "metadata": {},
   "outputs": [
    {
     "name": "stdout",
     "output_type": "stream",
     "text": [
      "['seaweed', 'greener', 'somebody']\n"
     ]
    }
   ],
   "source": [
    "data = \"The seaweed is always greener in somebody else's lake.\"\n",
    "\n",
    "p = re.compile(\"[a-zA-Z]{7,}\")\n",
    "q = p.findall(data)\n",
    "print(q)"
   ]
  },
  {
   "cell_type": "code",
   "execution_count": 307,
   "id": "7ea0d8ed-42be-46e7-9772-1dc399eb605e",
   "metadata": {},
   "outputs": [
    {
     "data": {
      "text/plain": [
       "[' seaweed is always greener ', \" somebody else's lake.\"]"
      ]
     },
     "execution_count": 307,
     "metadata": {},
     "output_type": "execute_result"
    }
   ],
   "source": [
    "data = \"The seaweed is always greener in somebody else's lake.\"\n",
    "\n",
    "p = re.compile(\"\\s+\\w+\\s+\\w+\\W+\\w+\\s+\\w+\\W+\")\n",
    "p.findall(data)"
   ]
  },
  {
   "cell_type": "code",
   "execution_count": 328,
   "id": "b3c1cb5c-6398-483e-bd3f-e6bf15fa3fbf",
   "metadata": {},
   "outputs": [
    {
     "data": {
      "text/plain": [
       "[\"somebody else's lake\"]"
      ]
     },
     "execution_count": 328,
     "metadata": {},
     "output_type": "execute_result"
    }
   ],
   "source": [
    "data = \"The seaweed is always greener in somebody else's lake.\"\n",
    "\n",
    "p = re.compile(\"\\w+\\s\\w+\\W\\w\\s\\w+\")\n",
    "p.findall(data)"
   ]
  },
  {
   "cell_type": "code",
   "execution_count": 327,
   "id": "7b80fff2-ec1b-4468-8539-3af206173bd2",
   "metadata": {},
   "outputs": [
    {
     "data": {
      "text/plain": [
       "<re.Match object; span=(33, 53), match=\"somebody else's lake\">"
      ]
     },
     "execution_count": 327,
     "metadata": {},
     "output_type": "execute_result"
    }
   ],
   "source": [
    "data = \"The seaweed is always greener in somebody else's lake.\"\n",
    "\n",
    "p = re.compile(\"\\w+\\s\\w+\\W\\w\\s\\w+\")\n",
    "p.search(data)"
   ]
  },
  {
   "cell_type": "code",
   "execution_count": 332,
   "id": "533fe9ff-d71e-412d-ac33-a61bde279dcb",
   "metadata": {},
   "outputs": [
    {
     "data": {
      "text/plain": [
       "['somebody ']"
      ]
     },
     "execution_count": 332,
     "metadata": {},
     "output_type": "execute_result"
    }
   ],
   "source": [
    "data = \"The seaweed is always greener in somebody else's lake.\"\n",
    "\n",
    "p = re.compile(r\"somebody\\s\")\n",
    "p.findall(data)"
   ]
  },
  {
   "cell_type": "code",
   "execution_count": null,
   "id": "2959933d-8086-496d-8e01-ab22b4fe8875",
   "metadata": {},
   "outputs": [],
   "source": [
    "#C:/Users/admin 아래에 있는 .py 확장자를 찾아라"
   ]
  },
  {
   "cell_type": "code",
   "execution_count": 1,
   "id": "2fefa786-76f4-4fb6-92ab-0bedcb2be486",
   "metadata": {},
   "outputs": [],
   "source": [
    "import os"
   ]
  },
  {
   "cell_type": "code",
   "execution_count": 2,
   "id": "013e0f41-6901-468f-b711-fadc88272348",
   "metadata": {},
   "outputs": [],
   "source": [
    "import glob"
   ]
  },
  {
   "cell_type": "code",
   "execution_count": 3,
   "id": "7c028285-beea-4aa7-8b6a-4a90b129b45d",
   "metadata": {},
   "outputs": [
    {
     "data": {
      "text/plain": [
       "'C:\\\\Users\\\\admin'"
      ]
     },
     "execution_count": 3,
     "metadata": {},
     "output_type": "execute_result"
    }
   ],
   "source": [
    "os.getcwd()"
   ]
  },
  {
   "cell_type": "code",
   "execution_count": 4,
   "id": "1720780c-4cc7-4af8-955f-133176cc3267",
   "metadata": {},
   "outputs": [
    {
     "data": {
      "text/plain": [
       "['mod1.py', 'search.py', 'sub_dir_search.py', 'tabto4.py']"
      ]
     },
     "execution_count": 4,
     "metadata": {},
     "output_type": "execute_result"
    }
   ],
   "source": [
    "glob.glob(\"*.py\")"
   ]
  },
  {
   "cell_type": "code",
   "execution_count": 5,
   "id": "1c162d67-7ab2-422f-a1fb-248e80527f9b",
   "metadata": {},
   "outputs": [
    {
     "data": {
      "text/plain": [
       "['C:/Users/admin\\\\mod1.py',\n",
       " 'C:/Users/admin\\\\search.py',\n",
       " 'C:/Users/admin\\\\sub_dir_search.py',\n",
       " 'C:/Users/admin\\\\tabto4.py']"
      ]
     },
     "execution_count": 5,
     "metadata": {},
     "output_type": "execute_result"
    }
   ],
   "source": [
    "glob.glob(\"C:/Users/admin/*.py\")"
   ]
  },
  {
   "cell_type": "code",
   "execution_count": null,
   "id": "73838b74-875a-4d97-b62f-322cb6ffdcd0",
   "metadata": {},
   "outputs": [],
   "source": [
    "# java.txt 파일을 만들고 change.py 파일을 만들고 java를 python으로 바꾸어 python.txt에 저장"
   ]
  },
  {
   "cell_type": "code",
   "execution_count": 8,
   "id": "e1007cdd-b143-4cf8-9c3c-59823266bd6c",
   "metadata": {},
   "outputs": [],
   "source": [
    "with open('java.txt', 'w') as f :\n",
    "    f.write('java is very good language \\nwe need java')"
   ]
  },
  {
   "cell_type": "code",
   "execution_count": 9,
   "id": "93e72e4f-2f98-444d-91e8-497be8e8ec5c",
   "metadata": {},
   "outputs": [
    {
     "data": {
      "text/plain": [
       "'C:\\\\Users\\\\admin'"
      ]
     },
     "execution_count": 9,
     "metadata": {},
     "output_type": "execute_result"
    }
   ],
   "source": [
    "import os\n",
    "os.getcwd()"
   ]
  },
  {
   "cell_type": "code",
   "execution_count": 10,
   "id": "c3f6704f-b37f-432b-a54a-f86543327231",
   "metadata": {},
   "outputs": [],
   "source": [
    "with open('change.py', 'w') as f :\n",
    "    f.write('abc')"
   ]
  },
  {
   "cell_type": "code",
   "execution_count": 17,
   "id": "bd5827ba-1646-415d-8c14-323adc617e4c",
   "metadata": {},
   "outputs": [],
   "source": [
    "with open('change.py', 'w') as f :\n",
    "    f.write('''\n",
    "    import sys\n",
    "    java = sys.argv[1]\n",
    "    python = sys.argv[2]\n",
    "    with open('java', 'r') as f :\n",
    "        a = f.readlines()\n",
    "        with open ('python','w') as fw :\n",
    "            for i in a :\n",
    "                b = i.replace(\"java\", \"python\")\n",
    "                fw.write(b)''')"
   ]
  },
  {
   "cell_type": "code",
   "execution_count": 18,
   "id": "fb6011df-2a65-41bf-be6c-0a11beeb59ef",
   "metadata": {},
   "outputs": [
    {
     "ename": "FileNotFoundError",
     "evalue": "[Errno 2] No such file or directory: 'python.txt'",
     "output_type": "error",
     "traceback": [
      "\u001b[1;31m---------------------------------------------------------------------------\u001b[0m",
      "\u001b[1;31mFileNotFoundError\u001b[0m                         Traceback (most recent call last)",
      "Input \u001b[1;32mIn [18]\u001b[0m, in \u001b[0;36m<cell line: 1>\u001b[1;34m()\u001b[0m\n\u001b[1;32m----> 1\u001b[0m \u001b[38;5;28;01mwith\u001b[39;00m \u001b[38;5;28;43mopen\u001b[39;49m\u001b[43m(\u001b[49m\u001b[38;5;124;43m\"\u001b[39;49m\u001b[38;5;124;43mpython.txt\u001b[39;49m\u001b[38;5;124;43m\"\u001b[39;49m\u001b[43m,\u001b[49m\u001b[43m \u001b[49m\u001b[38;5;124;43m\"\u001b[39;49m\u001b[38;5;124;43mr\u001b[39;49m\u001b[38;5;124;43m\"\u001b[39;49m\u001b[43m)\u001b[49m \u001b[38;5;28;01mas\u001b[39;00m f :\n\u001b[0;32m      2\u001b[0m     lines \u001b[38;5;241m=\u001b[39m f\u001b[38;5;241m.\u001b[39mreadlines()\n\u001b[0;32m      3\u001b[0m     \u001b[38;5;28;01mfor\u001b[39;00m line \u001b[38;5;129;01min\u001b[39;00m lines :\n",
      "\u001b[1;31mFileNotFoundError\u001b[0m: [Errno 2] No such file or directory: 'python.txt'"
     ]
    }
   ],
   "source": [
    "with open(\"python.txt\", \"r\") as f :\n",
    "    lines = f.readlines()\n",
    "    for line in lines :\n",
    "        print(line.strip())"
   ]
  },
  {
   "cell_type": "code",
   "execution_count": null,
   "id": "f2bd7311-f256-4622-9203-e8e5d856946f",
   "metadata": {},
   "outputs": [],
   "source": [
    "# 이름과 주민등록번호를 함께 출력하세요. 주민등록번호 뒷자리는 *로 바꿔주세요. 오우!! 오늘더"
   ]
  },
  {
   "cell_type": "code",
   "execution_count": 19,
   "id": "963501b6-d8ee-40bf-aca3-8a4b35c1f758",
   "metadata": {},
   "outputs": [],
   "source": [
    "data = '''\n",
    "김하나  901010-1002832\n",
    "김둘    990909-2229043\n",
    "김셋    940202-1922298\n",
    "'''"
   ]
  },
  {
   "cell_type": "code",
   "execution_count": 20,
   "id": "a8bc78aa-7a18-4828-92eb-d9fcd28265e7",
   "metadata": {},
   "outputs": [
    {
     "name": "stdout",
     "output_type": "stream",
     "text": [
      "\n",
      "김하나  901010-*******\n",
      "김둘    990909-*******\n",
      "김셋    940202-*******\n",
      "\n"
     ]
    }
   ],
   "source": [
    "import re\n",
    "\n",
    "p = re.compile(r'[-]\\d{7}$', re.M)\n",
    "print(p.sub('-*******', data))"
   ]
  },
  {
   "cell_type": "code",
   "execution_count": 25,
   "id": "e7f4767a-33ba-4bc3-b9e8-786941f5d655",
   "metadata": {},
   "outputs": [
    {
     "name": "stdout",
     "output_type": "stream",
     "text": [
      "\n",
      "김하나  901010--*******\n",
      "김둘    990909--*******\n",
      "김셋    940202--*******\n",
      "\n"
     ]
    }
   ],
   "source": [
    "p = re.compile(r'(\\w+\\s+\\d{6}[-])\\d{7}')\n",
    "print(p.sub('\\g<1>-*******', data))"
   ]
  },
  {
   "cell_type": "code",
   "execution_count": 24,
   "id": "abe646b1-e8f5-413f-a657-76c332d06f09",
   "metadata": {},
   "outputs": [
    {
     "name": "stdout",
     "output_type": "stream",
     "text": [
      "\n",
      "김하나  901010-*******\n",
      "김둘    990909-*******\n",
      "김셋    940202-*******\n",
      "\n"
     ]
    }
   ],
   "source": [
    "p = re.compile(\"[-]\\d{7}\")\n",
    "m = p.sub(\"-*******\", data)\n",
    "\n",
    "print(m) "
   ]
  },
  {
   "cell_type": "code",
   "execution_count": null,
   "id": "72aead63-ef51-4605-b2f6-8deb48f50a6c",
   "metadata": {},
   "outputs": [],
   "source": [
    "# data = \"The seaweed is always greener in somebody else's lake.\"\n",
    "# 7글자 이상의 단어를 모두 찾으세요. 오우...이것두..?"
   ]
  },
  {
   "cell_type": "code",
   "execution_count": 38,
   "id": "3cb45d3c-69d4-48b0-a96a-fb6f10cef657",
   "metadata": {},
   "outputs": [
    {
     "data": {
      "text/plain": [
       "['seaweed', 'greener', 'somebody']"
      ]
     },
     "execution_count": 38,
     "metadata": {},
     "output_type": "execute_result"
    }
   ],
   "source": [
    "data = \"The seaweed is always greener in somebody else's lake.\"\n",
    "\n",
    "p = re.compile('[a-zA-z]{7,}')\n",
    "p.findall(data)"
   ]
  },
  {
   "cell_type": "code",
   "execution_count": 41,
   "id": "68a8870f-9157-4fd0-a374-353aec9c29e8",
   "metadata": {},
   "outputs": [
    {
     "data": {
      "text/plain": [
       "['seaweed', 'greener', 'somebody']"
      ]
     },
     "execution_count": 41,
     "metadata": {},
     "output_type": "execute_result"
    }
   ],
   "source": [
    "p = re.compile(\"\\w{7,}\")\n",
    "p.findall(data)"
   ]
  },
  {
   "cell_type": "code",
   "execution_count": 42,
   "id": "6a34567b-93f3-46a3-bd6c-0ecd8ef47026",
   "metadata": {},
   "outputs": [
    {
     "data": {
      "text/plain": [
       "[' seaweed ', ' greener ', ' somebody ']"
      ]
     },
     "execution_count": 42,
     "metadata": {},
     "output_type": "execute_result"
    }
   ],
   "source": [
    "p = re.compile(\"\\s\\w{7,}\\s\")\n",
    "p.findall(data)"
   ]
  },
  {
   "cell_type": "code",
   "execution_count": null,
   "id": "87010c9d-5605-4855-99e9-00b48482f852",
   "metadata": {},
   "outputs": [],
   "source": [
    "# 주민등록번호를 입력하면 성별을 출력해주는 함수를 만드시오.\n",
    "# (이름 주민번호 앞자리-뒷자리)의 형식으로 입력해야합니다. (finditer와 group 사용)"
   ]
  },
  {
   "cell_type": "code",
   "execution_count": 47,
   "id": "20ae0ccd-580b-4f40-bed4-a5ed38f7a332",
   "metadata": {},
   "outputs": [],
   "source": [
    "def gender():\n",
    "    data = input(\"주민번호를 입력해 주세요\")\n",
    "    p = re.compile('[-]\\d{7}')\n",
    "    m = p.finditer(data)\n",
    "    for i in m:\n",
    "        if (i.group(1)) == 1:\n",
    "            print(\"남자\")\n",
    "        elif (i.group(1)) == 2:\n",
    "            print(\"여자\")"
   ]
  },
  {
   "cell_type": "code",
   "execution_count": 54,
   "id": "9579538f-75eb-4f29-b6ae-a6f254ce5908",
   "metadata": {},
   "outputs": [
    {
     "name": "stdin",
     "output_type": "stream",
     "text": [
      "? 901010-1002832\n"
     ]
    }
   ],
   "source": [
    "def gender() :\n",
    "    data = input(\"?\")\n",
    "    p = re.compile(r'(\\w+)\\s+(\\d{6})[-]([1|2])\\d{6}')\n",
    "    m = p.finditer(data)\n",
    "    \n",
    "    for i in m :\n",
    "        if int(i.group(3)) == 1 :\n",
    "            print(f\"{i.group(1)}님은 남자입니다.\")\n",
    "        else :\n",
    "            print(f'{i.group(1)}님은 여자입니다.')\n",
    "gender()"
   ]
  },
  {
   "cell_type": "code",
   "execution_count": 61,
   "id": "c5932eb3-e89d-4e83-9c8b-db6b7a8b0c40",
   "metadata": {},
   "outputs": [
    {
     "name": "stdin",
     "output_type": "stream",
     "text": [
      "주민번호를 입력해 주세요 909090-1234567\n"
     ]
    },
    {
     "name": "stdout",
     "output_type": "stream",
     "text": [
      "남자\n"
     ]
    }
   ],
   "source": [
    "def gender():\n",
    "    data = input(\"주민번호를 입력해 주세요\")\n",
    "    p = re.compile(r'[-](\\d{1})')\n",
    "    m = p.finditer(data)\n",
    "    for i in m:\n",
    "        if int(i.group(1)) == 1 :\n",
    "            print(\"남자\")\n",
    "        else :\n",
    "            print('여자')\n",
    "gender()"
   ]
  },
  {
   "cell_type": "code",
   "execution_count": 64,
   "id": "5384ec19-12a6-4a6e-a4ed-efa846087b18",
   "metadata": {},
   "outputs": [],
   "source": [
    "# 다음 문자열에서 finditer, group, span을 이용하여 I like you 를 출력해라\n",
    "\n",
    "iu = \"\"\"월요일엔 I think he'll be busy\n",
    "화요일도 You look impatient, don't you?\n",
    "수요일은 It's kind of vague\n",
    "목요일은 I just don't like myself\n",
    "금요일에 How's the time?\"\"\" "
   ]
  },
  {
   "cell_type": "code",
   "execution_count": 74,
   "id": "923c29be-70be-48e7-8074-4ce064ebf1e6",
   "metadata": {},
   "outputs": [
    {
     "data": {
      "text/plain": [
       "[' I ', ' I ']"
      ]
     },
     "execution_count": 74,
     "metadata": {},
     "output_type": "execute_result"
    }
   ],
   "source": [
    "p = re.compile(r'\\s[I]\\s')\n",
    "p.findall(iu)"
   ]
  },
  {
   "cell_type": "code",
   "execution_count": 82,
   "id": "504d32c7-8a5e-4661-858f-1c87dfdb40c3",
   "metadata": {},
   "outputs": [
    {
     "data": {
      "text/plain": [
       "['think',\n",
       " 'busy',\n",
       " 'look',\n",
       " 'impatient',\n",
       " 'kind',\n",
       " 'vague',\n",
       " 'just',\n",
       " 'like',\n",
       " 'myself',\n",
       " 'time']"
      ]
     },
     "execution_count": 82,
     "metadata": {},
     "output_type": "execute_result"
    }
   ],
   "source": [
    "p = re.compile('[a-zA-z]{4,}')\n",
    "p.findall(iu)"
   ]
  },
  {
   "cell_type": "code",
   "execution_count": 83,
   "id": "5a2c49e6-ad31-4bc9-b12c-878329b5a22a",
   "metadata": {},
   "outputs": [
    {
     "name": "stdout",
     "output_type": "stream",
     "text": [
      "<re.Match object; span=(5, 6), match='I'>\n",
      "<re.Match object; span=(7, 12), match='think'>\n",
      "<re.Match object; span=(13, 15), match='he'>\n",
      "<re.Match object; span=(16, 18), match='ll'>\n",
      "<re.Match object; span=(19, 21), match='be'>\n",
      "<re.Match object; span=(22, 26), match='busy'>\n",
      "<re.Match object; span=(32, 35), match='You'>\n",
      "<re.Match object; span=(36, 40), match='look'>\n",
      "<re.Match object; span=(41, 50), match='impatient'>\n",
      "<re.Match object; span=(52, 55), match='don'>\n",
      "<re.Match object; span=(56, 57), match='t'>\n",
      "<re.Match object; span=(58, 61), match='you'>\n",
      "<re.Match object; span=(68, 70), match='It'>\n",
      "<re.Match object; span=(71, 72), match='s'>\n",
      "<re.Match object; span=(73, 77), match='kind'>\n",
      "<re.Match object; span=(78, 80), match='of'>\n",
      "<re.Match object; span=(81, 86), match='vague'>\n",
      "<re.Match object; span=(92, 93), match='I'>\n",
      "<re.Match object; span=(94, 98), match='just'>\n",
      "<re.Match object; span=(99, 102), match='don'>\n",
      "<re.Match object; span=(103, 104), match='t'>\n",
      "<re.Match object; span=(105, 109), match='like'>\n",
      "<re.Match object; span=(110, 116), match='myself'>\n",
      "<re.Match object; span=(122, 125), match='How'>\n",
      "<re.Match object; span=(126, 127), match='s'>\n",
      "<re.Match object; span=(128, 131), match='the'>\n",
      "<re.Match object; span=(132, 136), match='time'>\n",
      "월요일엔 I think he'll be busy\n",
      "화요일도 You look impatient, don't you?\n",
      "수요일은 It's kind of vague\n",
      "목요일은 I just don't like myself\n",
      "금요일에 How's the time?\n"
     ]
    }
   ],
   "source": [
    "p = re.compile('[a-zA-z]+')\n",
    "m = p.finditer(iu)\n",
    "for i in m :\n",
    "    print(i)\n",
    "print(iu)"
   ]
  },
  {
   "cell_type": "code",
   "execution_count": 88,
   "id": "7d73785e-f364-45b9-926e-96450ea2736b",
   "metadata": {},
   "outputs": [
    {
     "name": "stdout",
     "output_type": "stream",
     "text": [
      "I like You\n"
     ]
    }
   ],
   "source": [
    "p = re.compile('[a-zA-z]+')\n",
    "m = p.finditer(iu)\n",
    "print(iu[5:6], iu[105:109], iu[32:35])"
   ]
  },
  {
   "cell_type": "code",
   "execution_count": 97,
   "id": "14a84ee9-4b6d-4903-9172-13c47bb19b97",
   "metadata": {
    "collapsed": true,
    "jupyter": {
     "outputs_hidden": true
    },
    "tags": []
   },
   "outputs": [
    {
     "name": "stdout",
     "output_type": "stream",
     "text": [
      "I\n",
      "(5, 6)\n",
      "think\n",
      "(7, 12)\n",
      "he\n",
      "(13, 15)\n",
      "ll\n",
      "(16, 18)\n",
      "be\n",
      "(19, 21)\n",
      "busy\n",
      "(22, 26)\n",
      "You\n",
      "(32, 35)\n",
      "look\n",
      "(36, 40)\n",
      "impatient,\n",
      "(41, 51)\n",
      "don\n",
      "(52, 55)\n",
      "t\n",
      "(56, 57)\n",
      "you?\n",
      "(58, 62)\n",
      "It\n",
      "(68, 70)\n",
      "s\n",
      "(71, 72)\n",
      "kind\n",
      "(73, 77)\n",
      "of\n",
      "(78, 80)\n",
      "vague\n",
      "(81, 86)\n",
      "I\n",
      "(92, 93)\n",
      "just\n",
      "(94, 98)\n",
      "don\n",
      "(99, 102)\n",
      "t\n",
      "(103, 104)\n",
      "like\n",
      "(105, 109)\n",
      "myself\n",
      "(110, 116)\n",
      "How\n",
      "(122, 125)\n",
      "s\n",
      "(126, 127)\n",
      "the\n",
      "(128, 131)\n",
      "time?\n",
      "(132, 137)\n",
      "I like You\n"
     ]
    }
   ],
   "source": [
    "p = re.compile('[a-zA-Z?,]+')\n",
    "for i in p.finditer(iu):\n",
    "    print(i.group())\n",
    "    print(i.span())\n",
    "print(iu[5:6], iu[105:109], iu[32:35])"
   ]
  },
  {
   "cell_type": "code",
   "execution_count": null,
   "id": "056ed2b8-b309-4e4e-b49a-a293181b412a",
   "metadata": {},
   "outputs": [],
   "source": [
    "# 주소록 데이터에서 이름과 우편번호를 출력해주세요."
   ]
  },
  {
   "cell_type": "code",
   "execution_count": 105,
   "id": "f8d3c8bb-79e4-4937-aaca-a2547769bd2d",
   "metadata": {},
   "outputs": [
    {
     "data": {
      "text/plain": [
       "['서울 강남구 ', '역삼동 에스코빌딩 ', '서울 마포구 ', '중앙빌딩\\n임꺽정 ', '서울 마포구 ']"
      ]
     },
     "execution_count": 105,
     "metadata": {},
     "output_type": "execute_result"
    }
   ],
   "source": [
    "data = \"\"\"\n",
    "홍길동 06134 서울 강남구 테헤란로 7길 7(역삼동 에스코빌딩 6층) \n",
    "전우치 04104 서울 마포구 신촌로 176 중앙빌딩\n",
    "임꺽정 04104 서울 마포구 대흥동 12-20\n",
    "\"\"\" \n",
    "p = re.compile(r'[가-힣]+\\s[가-힣]+\\s')\n",
    "p.findall(data)"
   ]
  },
  {
   "cell_type": "code",
   "execution_count": 125,
   "id": "b0c585bd-ae68-4112-8c81-ab3799a57365",
   "metadata": {},
   "outputs": [
    {
     "name": "stdout",
     "output_type": "stream",
     "text": [
      "\n",
      "홍길동울 테헤란로 7길 7(역삼동 에스코빌딩 6층) \n",
      "전우치울 신촌로 176 중앙빌딩\n",
      "임꺽정울 대흥동 12-20\n",
      "\n"
     ]
    }
   ],
   "source": [
    "p = re.compile(r'(\\w{3,})\\s\\d{5}\\s\\w+(\\w+)\\s\\w+')\n",
    "print(p.sub('\\g<1>\\g<2>', data))"
   ]
  },
  {
   "cell_type": "code",
   "execution_count": 126,
   "id": "6eb49f6b-8c29-4e94-9778-9da0674e0cfc",
   "metadata": {},
   "outputs": [
    {
     "name": "stdout",
     "output_type": "stream",
     "text": [
      "\n",
      "홍길동 강남구7(역삼동 에스코빌딩 6층) \n",
      "전우치 04104 서울 마포구 신촌로 176 중앙빌딩\n",
      "임꺽정 04104 서울 마포구 대흥동 12-20\n",
      "\n"
     ]
    }
   ],
   "source": [
    "p = re.compile(r'([가-힣]+\\s)(\\d+\\s\\w{2}\\s)(\\w{3})(\\s\\w+\\s\\d\\w\\s)')\n",
    "print(p.sub(r'\\g<1>\\g<3>', data))"
   ]
  },
  {
   "cell_type": "code",
   "execution_count": 122,
   "id": "afffaf84-54a4-4919-a843-27fa98145d66",
   "metadata": {},
   "outputs": [
    {
     "data": {
      "text/plain": [
       "['홍길동 06134 서울 강남구', '전우치 04104 서울 마포구', '임꺽정 04104 서울 마포구']"
      ]
     },
     "execution_count": 122,
     "metadata": {},
     "output_type": "execute_result"
    }
   ],
   "source": [
    "p = re.compile(r'\\w{3}\\s\\d{5}\\s\\w+\\s\\w{3}')\n",
    "p.findall(data)"
   ]
  },
  {
   "cell_type": "code",
   "execution_count": 124,
   "id": "699c2b3b-b44a-410a-8da3-7f6ce6277f7d",
   "metadata": {},
   "outputs": [
    {
     "data": {
      "text/plain": [
       "[('홍길동', '강남구'), ('전우치', '마포구'), ('임꺽정', '마포구')]"
      ]
     },
     "execution_count": 124,
     "metadata": {},
     "output_type": "execute_result"
    }
   ],
   "source": [
    "p = re.compile(r'(\\w{3})\\s\\d{5}\\s\\w+\\s(\\w{3})')\n",
    "p.findall(data)"
   ]
  },
  {
   "cell_type": "code",
   "execution_count": 127,
   "id": "763048c4-0b38-4bf5-b288-4550be9ca1ca",
   "metadata": {},
   "outputs": [
    {
     "name": "stdout",
     "output_type": "stream",
     "text": [
      "홍길동  강남구\n",
      "전우치  마포구\n",
      "임꺽정  마포구\n"
     ]
    }
   ],
   "source": [
    "p = re.compile(r'(\\w{3}\\s)\\d{5}\\s\\w+\\s(\\w{3})')\n",
    "for i in p.finditer(data):\n",
    "    print(i.group(1), i.group(2))"
   ]
  },
  {
   "cell_type": "code",
   "execution_count": 3,
   "id": "f9d82d79-e302-4286-a6fd-4b380a85fec3",
   "metadata": {},
   "outputs": [],
   "source": [
    "textList = [ \"1997 07 24\", \"87년 9월 20일\", \n",
    "            \"경복궁에서 1397年 5月 15日 이도(세종)가 태어났다.\"] "
   ]
  },
  {
   "cell_type": "code",
   "execution_count": 161,
   "id": "1f3211d6-3732-4e4d-85da-871f16c8eab8",
   "metadata": {},
   "outputs": [
    {
     "name": "stdout",
     "output_type": "stream",
     "text": [
      "<re.Match object; span=(3, 7), match='1997'>\n",
      "<re.Match object; span=(8, 10), match='07'>\n",
      "<re.Match object; span=(11, 13), match='24'>\n",
      "<re.Match object; span=(17, 19), match='87'>\n",
      "<re.Match object; span=(21, 22), match='9'>\n",
      "<re.Match object; span=(24, 26), match='20'>\n",
      "<re.Match object; span=(38, 42), match='1397'>\n",
      "<re.Match object; span=(44, 45), match='5'>\n",
      "<re.Match object; span=(47, 49), match='15'>\n"
     ]
    }
   ],
   "source": [
    "txt = ''' \n",
    "\"1997 07 24\", \"87년 9월 20일\", \n",
    "\"경복궁에서 1397年 5月 15日 이도(세종)가 태어났다.\"\n",
    "'''\n",
    "p = re.compile(r'\\d+')\n",
    "for i in p.finditer(x):\n",
    "    print(i)"
   ]
  },
  {
   "cell_type": "code",
   "execution_count": 162,
   "id": "ae47ca4a-cd98-4c6e-a65e-0ae26138ca83",
   "metadata": {},
   "outputs": [
    {
     "name": "stdout",
     "output_type": "stream",
     "text": [
      "1997 (3, 7)\n",
      "07 (8, 10)\n",
      "24 (11, 13)\n",
      "87 (17, 19)\n",
      "9 (21, 22)\n",
      "20 (24, 26)\n",
      "1397 (38, 42)\n",
      "5 (44, 45)\n",
      "15 (47, 49)\n"
     ]
    }
   ],
   "source": [
    "p = re.compile(r'\\d+')\n",
    "for i in p.finditer(txt):\n",
    "    print(i.group(), i.span())"
   ]
  },
  {
   "cell_type": "code",
   "execution_count": 163,
   "id": "908d430e-3f80-43f5-a8e6-6b38df999ec6",
   "metadata": {},
   "outputs": [
    {
     "name": "stdout",
     "output_type": "stream",
     "text": [
      "1997 (3, 7)\n",
      "07 (8, 10)\n",
      "24 (11, 13)\n",
      "87 (17, 19)\n",
      "9 (21, 22)\n",
      "20 (24, 26)\n",
      "1397 (38, 42)\n",
      "5 (44, 45)\n",
      "15 (47, 49)\n",
      "1997-07-24  \n",
      "\"1997 07 24\", \"87년 9월 20일\", \n",
      "\"경복궁에서 1397年 5月 15日 이도(세종)가 태어났다.\"\n",
      "\n"
     ]
    }
   ],
   "source": [
    "p = re.compile('\\d+')\n",
    "for i in p.finditer(txt):\n",
    "    print(i.group(), i.span())\n",
    "print(f'{x[3:7]}-{x[8:10]}-{x[11:13]}', txt)"
   ]
  },
  {
   "cell_type": "code",
   "execution_count": 2,
   "id": "2a9cd98e-40bc-4a9c-a77b-ab42274af5a8",
   "metadata": {},
   "outputs": [
    {
     "name": "stdout",
     "output_type": "stream",
     "text": [
      "1997-07-24\n",
      "1987-09-20\n",
      "1397-05-15\n"
     ]
    }
   ],
   "source": [
    "txt = [ \"1997 07 24\", \"87년 9월 20일\", \n",
    "            \"경복궁에서 1397年 5月 15日 이도(세종)가 태어났다.\"] \n",
    "import re\n",
    "p = re.compile('\\d+')\n",
    "l_m = []\n",
    "for i in txt:\n",
    "    m = p.findall(i)\n",
    "    l_m.append(m)\n",
    "    \n",
    "for y,m,d in l_m:\n",
    "    if len(y) == 2:\n",
    "        y = '19'+ y\n",
    "    m, d = int(m), int(d)\n",
    "    print(\"%s-%02d-%02d\"%(y,m,d))"
   ]
  },
  {
   "cell_type": "code",
   "execution_count": 1,
   "id": "7e5f9b23-0635-47fd-88fd-26ea163be3c1",
   "metadata": {},
   "outputs": [
    {
     "name": "stdout",
     "output_type": "stream",
     "text": [
      "15\n",
      "20\n",
      "25\n"
     ]
    }
   ],
   "source": [
    "numbers = [5, 15, 6, 20, 7, 25]\n",
    "for i in numbers:\n",
    "    if i > 10 :\n",
    "        if i % 5 == 0:\n",
    "            print(i)"
   ]
  },
  {
   "cell_type": "code",
   "execution_count": 4,
   "id": "a7ecad17-97cf-4ace-bc51-1e7f58023dad",
   "metadata": {},
   "outputs": [
    {
     "name": "stdout",
     "output_type": "stream",
     "text": [
      "한국의 인구는 5천만명이며 수도는 서울입니다.\n",
      "1인당 gnp는 USD 3만입니다.\n"
     ]
    }
   ],
   "source": [
    "class Country:\n",
    "    \n",
    "    def __init__(self, nation, population, capital):\n",
    "        self.nation = \"한국\"\n",
    "        self.population = \"5\"\n",
    "        self.capital = \"서울\"\n",
    "        \n",
    "    def desc(self, nation, population, capital):\n",
    "        print(f'{nation}의 인구는 {population}천만명이며 수도는 {capital}입니다.')\n",
    "    \n",
    "class Korea(Country):    \n",
    "\n",
    "    def desc1(self,gnp):\n",
    "        self.gnp = gnp\n",
    "        print('1인당 gnp는 USD %d만입니다.' %self.gnp)\n",
    "        \n",
    "obj = Korea('한국',5,'서울')\n",
    "obj.desc('한국', 5, '서울')\n",
    "obj.desc1(3)"
   ]
  },
  {
   "cell_type": "code",
   "execution_count": 1,
   "id": "4add886b-d8d3-4040-8a33-39d17d49119f",
   "metadata": {},
   "outputs": [
    {
     "name": "stdout",
     "output_type": "stream",
     "text": [
      "한국의 인구는 5천만명이며 수도는 서울입니다.\n",
      "1인당 gnp는 USD 3만입니다.\n"
     ]
    }
   ],
   "source": [
    "class Country:\n",
    "    \n",
    "    def __init__(self, nation, population, capital):\n",
    "        self.nation = nation\n",
    "        self.population = population\n",
    "        self.capital = capital\n",
    "        \n",
    "    def desc(self):\n",
    "        print(f'{self.nation}의 인구는 {self.population}천만명이며 수도는 {self.capital}입니다.')\n",
    "\n",
    "class Korea(Country):    \n",
    "\n",
    "    def desc1(self,gnp):\n",
    "        self.gnp = gnp\n",
    "        print('1인당 gnp는 USD %d만입니다.' %self.gnp)\n",
    "        \n",
    "obj = Korea('한국',5,'서울')\n",
    "obj.desc()\n",
    "obj.desc1(3)"
   ]
  },
  {
   "cell_type": "code",
   "execution_count": null,
   "id": "d2e1165f-0725-4376-960f-9a0cf179c0b3",
   "metadata": {},
   "outputs": [],
   "source": []
  },
  {
   "cell_type": "code",
   "execution_count": null,
   "id": "147f02d4-a324-466f-9c1f-c564321f3185",
   "metadata": {},
   "outputs": [],
   "source": []
  },
  {
   "cell_type": "code",
   "execution_count": null,
   "id": "06091cf7-83a2-44b4-848f-d03c3a4baa6d",
   "metadata": {},
   "outputs": [],
   "source": []
  },
  {
   "cell_type": "code",
   "execution_count": null,
   "id": "bc9e5fbf-064e-40d3-a4e6-6cf7f3c31eb5",
   "metadata": {},
   "outputs": [],
   "source": []
  },
  {
   "cell_type": "code",
   "execution_count": null,
   "id": "372aa3cc-0883-4533-9484-d9eefeb12bdd",
   "metadata": {},
   "outputs": [],
   "source": []
  }
 ],
 "metadata": {
  "kernelspec": {
   "display_name": "Python 3 (ipykernel)",
   "language": "python",
   "name": "python3"
  },
  "language_info": {
   "codemirror_mode": {
    "name": "ipython",
    "version": 3
   },
   "file_extension": ".py",
   "mimetype": "text/x-python",
   "name": "python",
   "nbconvert_exporter": "python",
   "pygments_lexer": "ipython3",
   "version": "3.9.12"
  },
  "toc-autonumbering": false
 },
 "nbformat": 4,
 "nbformat_minor": 5
}
