{
 "cells": [
  {
   "cell_type": "markdown",
   "id": "b1b4641b",
   "metadata": {},
   "source": [
    "#### 7/13 -  Q1. 남녀 파트너 정해주기 프로그램(zip) \n",
    "같은 수의 남녀 모임에서 파트너를 랜덤하게 정해주는 프로그램을 만들어 보세요\n",
    "\n",
    "male = ['철수','갑돌','로미오','이몽룡','온돌']\n",
    "\n",
    "female = ['미미','갑순','줄리엣','성춘향','평강']"
   ]
  },
  {
   "cell_type": "code",
   "execution_count": 3,
   "id": "4abb900b",
   "metadata": {
    "scrolled": true
   },
   "outputs": [
    {
     "data": {
      "text/plain": [
       "[('온돌', '평강'), ('철수', '미미'), ('로미오', '줄리엣'), ('갑돌', '갑순'), ('이몽룡', '성춘향')]"
      ]
     },
     "execution_count": 3,
     "metadata": {},
     "output_type": "execute_result"
    }
   ],
   "source": [
    "# zip 함수 이용\n",
    "\n",
    "import numpy as np\n",
    "import random\n",
    "\n",
    "male = ['철수','갑돌','로미오','이몽룡','온돌']\n",
    "female = ['미미','갑순','줄리엣','성춘향','평강']\n",
    "\n",
    "partner = list(zip(male,female))\n",
    "random.shuffle(partner)\n",
    "partner"
   ]
  },
  {
   "cell_type": "code",
   "execution_count": 4,
   "id": "3883c65e",
   "metadata": {},
   "outputs": [
    {
     "name": "stdout",
     "output_type": "stream",
     "text": [
      "커플1:이몽룡,갑순\n",
      "커플2:갑돌,미미\n",
      "커플3:로미오,평강\n",
      "커플4:온돌,성춘향\n",
      "커플5:철수,줄리엣\n"
     ]
    }
   ],
   "source": [
    "male = ['철수','갑돌','로미오','이몽룡','온돌']\n",
    "female = ['미미','갑순','줄리엣','성춘향','평강']\n",
    "\n",
    "random.shuffle(male)\n",
    "random.shuffle(female)\n",
    "\n",
    "couples = zip(male, female)\n",
    "\n",
    "for i, couple in enumerate(couples):\n",
    "    print(f'커플{i+1}:{couple[0]},{couple[1]}')"
   ]
  },
  {
   "cell_type": "markdown",
   "id": "00be4b75",
   "metadata": {},
   "source": [
    "#### 7/13 - Q2. 사용자가 입력한 횟수만큼 로또 번호를 출력하는 프로그램을 작성하세요. (중복 X)"
   ]
  },
  {
   "cell_type": "code",
   "execution_count": 5,
   "id": "d611bbbe",
   "metadata": {},
   "outputs": [
    {
     "name": "stdout",
     "output_type": "stream",
     "text": [
      "로또 번호의 개수를 입력하세요5\n",
      "[39, 13, 12, 3, 1]\n"
     ]
    }
   ],
   "source": [
    "num = int(input('로또 번호의 개수를 입력하세요'))\n",
    "\n",
    "for i in range(0, int(num)):\n",
    "    lo = random.sample(range(1,46),int(num))\n",
    "print(lo)"
   ]
  },
  {
   "cell_type": "code",
   "execution_count": 6,
   "id": "863a8131",
   "metadata": {},
   "outputs": [
    {
     "name": "stdout",
     "output_type": "stream",
     "text": [
      "로또 번호의 개수를 입력하세요5\n",
      "[[35, 38, 13, 36, 44], [13, 11, 14, 4, 26], [43, 26, 2, 18, 25], [29, 19, 18, 22, 33], [13, 19, 25, 42, 10]]\n"
     ]
    }
   ],
   "source": [
    "num = int(input('로또 번호의 개수를 입력하세요'))\n",
    "\n",
    "a = 0\n",
    "x = []\n",
    "for i in range(0, int(num)):\n",
    "    a = random.sample(range(1,46),int(num))\n",
    "    x.append(a)\n",
    "print(x)"
   ]
  },
  {
   "cell_type": "markdown",
   "id": "538dfb24",
   "metadata": {},
   "source": [
    "##### [도전과제] 발표자를 원하는 수만큼 랜덤하게 출력하는 프로그램을 작성하세요."
   ]
  },
  {
   "cell_type": "code",
   "execution_count": 41,
   "id": "727fda77",
   "metadata": {},
   "outputs": [
    {
     "data": {
      "text/plain": [
       "25"
      ]
     },
     "execution_count": 41,
     "metadata": {},
     "output_type": "execute_result"
    }
   ],
   "source": [
    "cakd7 = ['박영권','김현지','김덕현','변서연','한지웅','양주희','이호원','정지은','이정현A','이명진','이상윤','조승현','강유한','김영선','최애림','김민섭','박혜린','이정현B','윤정준','김진형','정승기','진청아','신창훈','김병석','박세희']\n",
    "len(cakd7)"
   ]
  },
  {
   "cell_type": "code",
   "execution_count": 42,
   "id": "435d3b02",
   "metadata": {},
   "outputs": [
    {
     "data": {
      "text/plain": [
       "'5'"
      ]
     },
     "execution_count": 42,
     "metadata": {},
     "output_type": "execute_result"
    }
   ],
   "source": [
    "number"
   ]
  },
  {
   "cell_type": "code",
   "execution_count": 13,
   "id": "5862bd66",
   "metadata": {},
   "outputs": [
    {
     "name": "stdout",
     "output_type": "stream",
     "text": [
      "=============== CAKD7 발표자 랜덤 뽑기 입니다.===============\n",
      "\n",
      " 발표 인원을 입력해주세요 >  \n",
      "2\n",
      " \n",
      "1번 문제 발표자는 신창훈 입니다.\n",
      "2번 문제 발표자는 윤정준 입니다.\n"
     ]
    }
   ],
   "source": [
    "import random \n",
    "import numpy as np\n",
    "\n",
    "\n",
    "list = ['박영권','김현지','김덕현','변서연','한지웅','양주희','이호원','정지은','이정현A',\n",
    "         '이정현B','이명진','이상윤','조승현','강유한','김영선','최애림','김민섭','박혜린',\n",
    "         '윤정준','김진형','정승기','진청아','신창훈','김병석','박세희']\n",
    "\n",
    "\n",
    "\n",
    "print(\"=============== CAKD7 발표자 랜덤 뽑기 입니다.===============\"'\\n')\n",
    "                        \n",
    "get_ran_num = int(input(\" 발표 인원을 입력해주세요 >  \"'\\n')) \n",
    "\n",
    "\n",
    "lucky_guy = random.sample(list,get_ran_num)\n",
    "\n",
    "print(\" \")\n",
    "for i in range(get_ran_num):\n",
    "    print(f'{i+1}번 문제 발표자는 {lucky_guy[i]} 입니다.')\n"
   ]
  },
  {
   "cell_type": "markdown",
   "id": "beb36d34",
   "metadata": {},
   "source": [
    "#### 7/14 - Q3. 입력받은 문자열의 각 문자를 그 다음 문자로 변경하여 출력하세요. abc -> bca"
   ]
  },
  {
   "cell_type": "code",
   "execution_count": 69,
   "id": "f497edd7",
   "metadata": {},
   "outputs": [
    {
     "data": {
      "text/plain": [
       "'bca'"
      ]
     },
     "execution_count": 69,
     "metadata": {},
     "output_type": "execute_result"
    }
   ],
   "source": [
    "a = 'abc'\n",
    "a[1]+a[2]+a[0]"
   ]
  },
  {
   "cell_type": "code",
   "execution_count": 72,
   "id": "481674af",
   "metadata": {},
   "outputs": [
    {
     "data": {
      "text/plain": [
       "'bca'"
      ]
     },
     "execution_count": 72,
     "metadata": {},
     "output_type": "execute_result"
    }
   ],
   "source": [
    "def shift(str) :\n",
    "    return str[1:] + str[0]\n",
    "\n",
    "a = 'abc'\n",
    "\n",
    "shift(a)"
   ]
  },
  {
   "cell_type": "code",
   "execution_count": 1,
   "id": "e074253f",
   "metadata": {},
   "outputs": [
    {
     "name": "stdout",
     "output_type": "stream",
     "text": [
      "문자를 입력하세요. >abcd\n",
      "bcda\n"
     ]
    }
   ],
   "source": [
    "text = input('문자를 입력하세요. >')\n",
    "ret = ''\n",
    "for i in range(len(text)):\n",
    "    if i != len(text)-1 :\n",
    "        ret += text[i+1]\n",
    "    else :\n",
    "        ret += text[0]\n",
    "        \n",
    "print(ret)"
   ]
  },
  {
   "cell_type": "markdown",
   "id": "b66d6769",
   "metadata": {},
   "source": [
    "#### 7/14 - Q4. url에서 호스트 도메인을 추출하여 출력하세요.\n",
    "\n",
    "url = 'http://news.naver.com/main/read.nhn?mode=LSD&mid=shm&sid1=105&oid=028&aid=0002334601\n",
    "\n",
    "\n",
    "news.naver.com 요기만 출력하기"
   ]
  },
  {
   "cell_type": "code",
   "execution_count": 12,
   "id": "9829bb4c",
   "metadata": {},
   "outputs": [
    {
     "name": "stdout",
     "output_type": "stream",
     "text": [
      "news.naver.com\n"
     ]
    }
   ],
   "source": [
    "url = 'http://news.naver.com/main/read.nhn?mode=LSD&mid=shm&sid1=105&oid=028&aid=0002334601'\n",
    "\n",
    "tmp = url.split('/')\n",
    "print(tmp[2])"
   ]
  },
  {
   "cell_type": "code",
   "execution_count": 8,
   "id": "734c11d5",
   "metadata": {},
   "outputs": [
    {
     "name": "stdout",
     "output_type": "stream",
     "text": [
      "['news.naver.com']\n"
     ]
    }
   ],
   "source": [
    "import re\n",
    "\n",
    "url = 'http://news.naver.com/main/read.nhn?mode=LSD&mid=shm&sid1=105&oid=028&aid=0002334601'\n",
    "\n",
    "news = re.findall(r'[a-z]{4}.[a-z]{5}.[a-z]{3}',url)\n",
    "print(news)"
   ]
  },
  {
   "cell_type": "code",
   "execution_count": 10,
   "id": "e798672a",
   "metadata": {},
   "outputs": [
    {
     "name": "stdout",
     "output_type": "stream",
     "text": [
      "news.naver.com\n"
     ]
    }
   ],
   "source": [
    "import re\n",
    "\n",
    "url = 'http://news.naver.com/main/read.nhn?mode=LSD&mid=shm&sid1=105&oid=028&aid=0002334601'\n",
    "\n",
    "news = re.search(r'([a-z]{4}.[a-z]{5}.[a-z]{3})',url)\n",
    "print(news.group(1))"
   ]
  },
  {
   "cell_type": "markdown",
   "id": "d7852a8a",
   "metadata": {},
   "source": [
    "#### 7/15 - Q5. url에서 쿼리문을 추출하여 출력하세요.\n",
    "\n",
    "url에서 '?'뒤에 표시되는 문자열을 쿼리 문자열이라고 하며 변수=값 사이 &로 \n",
    "구분되어 나열된다.\n",
    "\n",
    "url = 'http://news.naver.com/main/read.nhn?mode=LSD&mid=shm&sid1=105&oid=028&aid=0002334601'\n"
   ]
  },
  {
   "cell_type": "code",
   "execution_count": 20,
   "id": "3c735716",
   "metadata": {},
   "outputs": [
    {
     "data": {
      "text/plain": [
       "'mode=LSD&mid=shm&sid1=105&oid=028&aid=0002334601'"
      ]
     },
     "execution_count": 20,
     "metadata": {},
     "output_type": "execute_result"
    }
   ],
   "source": [
    "url = 'http://news.naver.com/main/read.nhn?mode=LSD&mid=shm&sid1=105&oid=028&aid=0002334601'\n",
    "\n",
    "qus = url.split('?')\n",
    "tmp[1]"
   ]
  },
  {
   "cell_type": "code",
   "execution_count": 21,
   "id": "99ff5c20",
   "metadata": {},
   "outputs": [
    {
     "data": {
      "text/plain": [
       "['mode=LSD', 'mid=shm', 'sid1=105', 'oid=028', 'aid=0002334601']"
      ]
     },
     "execution_count": 21,
     "metadata": {},
     "output_type": "execute_result"
    }
   ],
   "source": [
    "qus[1].split('&')"
   ]
  },
  {
   "cell_type": "code",
   "execution_count": 17,
   "id": "9942defb",
   "metadata": {},
   "outputs": [
    {
     "name": "stdout",
     "output_type": "stream",
     "text": [
      "1번째 쿼리 문자열 : mode=LSD\n",
      "2번째 쿼리 문자열 : mid=shm\n",
      "3번째 쿼리 문자열 : sid1=105\n",
      "4번째 쿼리 문자열 : oid=028\n",
      "5번째 쿼리 문자열 : aid=0002334601\n"
     ]
    }
   ],
   "source": [
    "import re\n",
    "\n",
    "url = 'http://news.naver.com/main/read.nhn?mode=LSD&mid=shm&sid1=105&oid=028&aid=0002334601'\n",
    "\n",
    "p = re.compile('[\\w./:]+[?]([\\w./:=&]+)')\n",
    "query = p.search(url).group(1).split('&')\n",
    "\n",
    "for i in range(len(query)):\n",
    "    print(f'{i+1}번째 쿼리 문자열 : {query[i]}')"
   ]
  },
  {
   "cell_type": "markdown",
   "id": "3142dd23",
   "metadata": {},
   "source": [
    "#### 7/15 - Q6.텍스트 파일(mydata.txt)을 읽고  파일의 내용에서 나타나는 문자들에 대해 자주 나타나는 문자들을 아래와 같이 순서대로 출력하세요.\n",
    "- \\[ \\] -> [177]회 나타남\n",
    "- [e] -> [97]회 나타남\n",
    "- [t] -> [85]회 나타남\n",
    "\n",
    "for문 사용?"
   ]
  },
  {
   "cell_type": "code",
   "execution_count": 7,
   "id": "b364a527",
   "metadata": {},
   "outputs": [
    {
     "data": {
      "text/html": [
       "<div>\n",
       "<style scoped>\n",
       "    .dataframe tbody tr th:only-of-type {\n",
       "        vertical-align: middle;\n",
       "    }\n",
       "\n",
       "    .dataframe tbody tr th {\n",
       "        vertical-align: top;\n",
       "    }\n",
       "\n",
       "    .dataframe thead th {\n",
       "        text-align: right;\n",
       "    }\n",
       "</style>\n",
       "<table border=\"1\" class=\"dataframe\">\n",
       "  <thead>\n",
       "    <tr style=\"text-align: right;\">\n",
       "      <th></th>\n",
       "      <th>a lot of things occur each day</th>\n",
       "    </tr>\n",
       "  </thead>\n",
       "  <tbody>\n",
       "    <tr>\n",
       "      <th>0</th>\n",
       "      <td>we've got to live with on our way</td>\n",
       "    </tr>\n",
       "    <tr>\n",
       "      <th>1</th>\n",
       "      <td>there's so much misery on the screen</td>\n",
       "    </tr>\n",
       "    <tr>\n",
       "      <th>2</th>\n",
       "      <td>with commercials in between</td>\n",
       "    </tr>\n",
       "    <tr>\n",
       "      <th>3</th>\n",
       "      <td>and the russians won't be so late</td>\n",
       "    </tr>\n",
       "    <tr>\n",
       "      <th>4</th>\n",
       "      <td>uncle sam don't want to wait</td>\n",
       "    </tr>\n",
       "    <tr>\n",
       "      <th>5</th>\n",
       "      <td>no matter if you're black or white</td>\n",
       "    </tr>\n",
       "    <tr>\n",
       "      <th>6</th>\n",
       "      <td>you never ever had a right</td>\n",
       "    </tr>\n",
       "    <tr>\n",
       "      <th>7</th>\n",
       "      <td>and look up to the eternal skies</td>\n",
       "    </tr>\n",
       "    <tr>\n",
       "      <th>8</th>\n",
       "      <td>see warfare even there</td>\n",
       "    </tr>\n",
       "    <tr>\n",
       "      <th>9</th>\n",
       "      <td>what once has been a paradise</td>\n",
       "    </tr>\n",
       "    <tr>\n",
       "      <th>10</th>\n",
       "      <td>now destruction and despair</td>\n",
       "    </tr>\n",
       "    <tr>\n",
       "      <th>11</th>\n",
       "      <td>in other worlds the children die</td>\n",
       "    </tr>\n",
       "    <tr>\n",
       "      <th>12</th>\n",
       "      <td>lacking food ill from a fly</td>\n",
       "    </tr>\n",
       "    <tr>\n",
       "      <th>13</th>\n",
       "      <td>oppressed by troops to tame their land</td>\n",
       "    </tr>\n",
       "    <tr>\n",
       "      <th>14</th>\n",
       "      <td>it's all the same again</td>\n",
       "    </tr>\n",
       "    <tr>\n",
       "      <th>15</th>\n",
       "      <td>if any man is free on earth</td>\n",
       "    </tr>\n",
       "    <tr>\n",
       "      <th>16</th>\n",
       "      <td>then tormentors steal his birth</td>\n",
       "    </tr>\n",
       "    <tr>\n",
       "      <th>17</th>\n",
       "      <td>they slam gun butts in his face</td>\n",
       "    </tr>\n",
       "    <tr>\n",
       "      <th>18</th>\n",
       "      <td>and leave his woman choked in mace</td>\n",
       "    </tr>\n",
       "    <tr>\n",
       "      <th>19</th>\n",
       "      <td>so stand up for our human rights</td>\n",
       "    </tr>\n",
       "    <tr>\n",
       "      <th>20</th>\n",
       "      <td>push back this pest of hate</td>\n",
       "    </tr>\n",
       "    <tr>\n",
       "      <th>21</th>\n",
       "      <td>raise you voice pass on the light</td>\n",
       "    </tr>\n",
       "    <tr>\n",
       "      <th>22</th>\n",
       "      <td>unite! it's not too late</td>\n",
       "    </tr>\n",
       "    <tr>\n",
       "      <th>23</th>\n",
       "      <td>how many tears flow away</td>\n",
       "    </tr>\n",
       "    <tr>\n",
       "      <th>24</th>\n",
       "      <td>to become a sea of fears</td>\n",
       "    </tr>\n",
       "    <tr>\n",
       "      <th>25</th>\n",
       "      <td>how many hearts are torn apart</td>\n",
       "    </tr>\n",
       "    <tr>\n",
       "      <th>26</th>\n",
       "      <td>till another torment starts</td>\n",
       "    </tr>\n",
       "    <tr>\n",
       "      <th>27</th>\n",
       "      <td>but before the world</td>\n",
       "    </tr>\n",
       "    <tr>\n",
       "      <th>28</th>\n",
       "      <td>turns into a sun</td>\n",
       "    </tr>\n",
       "    <tr>\n",
       "      <th>29</th>\n",
       "      <td>all cruelty and violence</td>\n",
       "    </tr>\n",
       "    <tr>\n",
       "      <th>30</th>\n",
       "      <td>on earth will be dead and gone</td>\n",
       "    </tr>\n",
       "    <tr>\n",
       "      <th>31</th>\n",
       "      <td>so stand up for our human rights</td>\n",
       "    </tr>\n",
       "    <tr>\n",
       "      <th>32</th>\n",
       "      <td>push back this pest of hate</td>\n",
       "    </tr>\n",
       "    <tr>\n",
       "      <th>33</th>\n",
       "      <td>raise you voice pass on the light</td>\n",
       "    </tr>\n",
       "    <tr>\n",
       "      <th>34</th>\n",
       "      <td>unite! it's not too late</td>\n",
       "    </tr>\n",
       "  </tbody>\n",
       "</table>\n",
       "</div>"
      ],
      "text/plain": [
       "            a lot of things occur each day\n",
       "0        we've got to live with on our way\n",
       "1     there's so much misery on the screen\n",
       "2              with commercials in between\n",
       "3        and the russians won't be so late\n",
       "4             uncle sam don't want to wait\n",
       "5       no matter if you're black or white\n",
       "6               you never ever had a right\n",
       "7         and look up to the eternal skies\n",
       "8                   see warfare even there\n",
       "9            what once has been a paradise\n",
       "10             now destruction and despair\n",
       "11        in other worlds the children die\n",
       "12             lacking food ill from a fly\n",
       "13  oppressed by troops to tame their land\n",
       "14                 it's all the same again\n",
       "15             if any man is free on earth\n",
       "16         then tormentors steal his birth\n",
       "17         they slam gun butts in his face\n",
       "18      and leave his woman choked in mace\n",
       "19        so stand up for our human rights\n",
       "20             push back this pest of hate\n",
       "21       raise you voice pass on the light\n",
       "22                unite! it's not too late\n",
       "23                how many tears flow away\n",
       "24                to become a sea of fears\n",
       "25          how many hearts are torn apart\n",
       "26             till another torment starts\n",
       "27                    but before the world\n",
       "28                        turns into a sun\n",
       "29                all cruelty and violence\n",
       "30          on earth will be dead and gone\n",
       "31        so stand up for our human rights\n",
       "32             push back this pest of hate\n",
       "33       raise you voice pass on the light\n",
       "34                unite! it's not too late"
      ]
     },
     "execution_count": 7,
     "metadata": {},
     "output_type": "execute_result"
    }
   ],
   "source": [
    "import pandas as pd\n",
    "\n",
    "data = pd.read_table('mydata.txt')\n",
    "data"
   ]
  },
  {
   "cell_type": "code",
   "execution_count": 24,
   "id": "cb8dd0a1",
   "metadata": {},
   "outputs": [
    {
     "name": "stdout",
     "output_type": "stream",
     "text": [
      "['a lot of things occur each day\\n', \"we've got to live with on our way\\n\", \"there's so much misery on the screen\\n\", 'with commercials in between\\n', '\\n', \"and the russians won't be so late\\n\", \"uncle sam don't want to wait\\n\", \"no matter if you're black or white\\n\", 'you never ever had a right\\n', '\\n', 'and look up to the eternal skies\\n', 'see warfare even there\\n', 'what once has been a paradise\\n', 'now destruction and despair\\n', '\\n', 'in other worlds the children die\\n', 'lacking food ill from a fly\\n', 'oppressed by troops to tame their land\\n', \"it's all the same again\\n\", '\\n', 'if any man is free on earth\\n', 'then tormentors steal his birth\\n', 'they slam gun butts in his face\\n', 'and leave his woman choked in mace\\n', '\\n', 'so stand up for our human rights\\n', 'push back this pest of hate\\n', 'raise you voice pass on the light\\n', \"unite! it's not too late\\n\", '\\n', 'how many tears flow away\\n', 'to become a sea of fears\\n', 'how many hearts are torn apart\\n', 'till another torment starts\\n', '\\n', 'but before the world\\n', 'turns into a sun\\n', 'all cruelty and violence\\n', 'on earth will be dead and gone\\n', '\\n', 'so stand up for our human rights\\n', 'push back this pest of hate\\n', 'raise you voice pass on the light\\n', \"unite! it's not too late\"]\n"
     ]
    }
   ],
   "source": [
    "file = open('./mydata.txt')\n",
    "\n",
    "lines = file.readlines()\n",
    "print(lines)"
   ]
  },
  {
   "cell_type": "code",
   "execution_count": 29,
   "id": "5c340510",
   "metadata": {
    "scrolled": true
   },
   "outputs": [],
   "source": [
    "lines = {}\n",
    "\n",
    "for i in file:\n",
    "    if i in dick2:\n",
    "        dick2[i] +=1\n",
    "    else:\n",
    "        dick2[i] = 0\n"
   ]
  },
  {
   "cell_type": "code",
   "execution_count": null,
   "id": "561a9be0",
   "metadata": {},
   "outputs": [],
   "source": [
    "# 천천히 한번 다시 하고 안보고 해보깅"
   ]
  },
  {
   "cell_type": "code",
   "execution_count": 27,
   "id": "7155e1d2",
   "metadata": {},
   "outputs": [
    {
     "name": "stdout",
     "output_type": "stream",
     "text": [
      "[(' ', 177), ('e', 97), ('t', 85), ('a', 78), ('o', 73), ('n', 60), ('s', 60), ('r', 54), ('i', 50), ('h', 48), ('\\n', 43), ('l', 34), ('u', 27), ('d', 24), ('c', 23), ('w', 20), ('m', 20), ('f', 17), ('y', 15), ('p', 15), ('b', 13), ('g', 11), ('v', 9), (\"'\", 8), ('k', 7), ('!', 2)]\n",
      "[ ] - > [177]회 나타남\n",
      "[e] - > [97]회 나타남\n",
      "[t] - > [85]회 나타남\n",
      "[a] - > [78]회 나타남\n",
      "[o] - > [73]회 나타남\n",
      "[n] - > [60]회 나타남\n",
      "[s] - > [60]회 나타남\n",
      "[r] - > [54]회 나타남\n",
      "[i] - > [50]회 나타남\n",
      "[h] - > [48]회 나타남\n",
      "[l] - > [34]회 나타남\n",
      "[u] - > [27]회 나타남\n",
      "[d] - > [24]회 나타남\n",
      "[c] - > [23]회 나타남\n",
      "[w] - > [20]회 나타남\n",
      "[m] - > [20]회 나타남\n",
      "[f] - > [17]회 나타남\n",
      "[y] - > [15]회 나타남\n",
      "[p] - > [15]회 나타남\n",
      "[b] - > [13]회 나타남\n",
      "[g] - > [11]회 나타남\n",
      "[v] - > [9]회 나타남\n",
      "['] - > [8]회 나타남\n",
      "[k] - > [7]회 나타남\n",
      "[!] - > [2]회 나타남\n"
     ]
    }
   ],
   "source": [
    "def getTextFreq(filename):\n",
    "    with open(filename,'r') as f:\n",
    "        text = f.read()\n",
    "        fa = {}\n",
    "        for c in text:\n",
    "            if c in fa:\n",
    "                fa[c] += 1\n",
    "            else:\n",
    "                fa[c] = 1\n",
    "    return fa\n",
    "ret = getTextFreq('mydata.txt')\n",
    "ret = sorted(ret.items(),key=lambda x:x[1], reverse=True)\n",
    "print(ret)\n",
    "for c, freq in ret:\n",
    "    if c =='\\n':\n",
    "        continue\n",
    "    print('[%c] - > [%d]회 나타남' %(c,freq))"
   ]
  },
  {
   "cell_type": "markdown",
   "id": "b01dcdfa",
   "metadata": {},
   "source": [
    "#### 7/18 - Q7. 두개의 수를 입력한 후 두개의 수에 대한 사칙연산을 수행하세요.(0을 입력한 경우 다시 입력하도록 조치)"
   ]
  },
  {
   "cell_type": "code",
   "execution_count": null,
   "id": "65cc8200",
   "metadata": {},
   "outputs": [],
   "source": [
    "# Cal4 클래스를 만들어서 작성"
   ]
  },
  {
   "cell_type": "code",
   "execution_count": 11,
   "id": "fb101a02",
   "metadata": {},
   "outputs": [
    {
     "name": "stdout",
     "output_type": "stream",
     "text": [
      "계산기입니당\n",
      "첫번째 숫자를 입력하세요5\n",
      "두번째 숫자를 입력하세요5\n",
      "덧셈: 10\n",
      "뺄셈: 0\n",
      "곱셈: 25\n",
      "나눗셈: 1.0\n"
     ]
    }
   ],
   "source": [
    "class Cal4 :\n",
    "    def __init__(self, a, b):\n",
    "        self.first = a\n",
    "        self.second = b\n",
    "    def add(self):\n",
    "        return self.first + self.second\n",
    "    def sub(self):\n",
    "        return self.first - self.second\n",
    "    def mul(self):\n",
    "        return self.first * self.second\n",
    "    def div(self):\n",
    "        return self.first / self.second\n",
    "\n",
    "print('계산기입니당')\n",
    "\n",
    "\n",
    "while True:\n",
    "    a = int(input('첫번째 숫자를 입력하세요'))\n",
    "    b = int(input('두번째 숫자를 입력하세요'))\n",
    "    if b == 0 :\n",
    "        print('0이 아닌 숫자를 입력하세요')\n",
    "        continue\n",
    "    else: \n",
    "        cals = Cal4(a,b)\n",
    "        print(f'덧셈: {cals.add()}')\n",
    "        print(f'뺄셈: {cals.sub()}')\n",
    "        print(f'곱셈: {cals.mul()}')\n",
    "        print(f'나눗셈: {cals.div()}')\n",
    "        break\n",
    "    "
   ]
  },
  {
   "cell_type": "markdown",
   "id": "cd57c33d",
   "metadata": {},
   "source": [
    "#### 7/18  - Q8. Order 클래스를 상속받아 extraOrder 클래스에서 메소드 오버라이딩하여 출력 가격에 원이 추가되도록 출력하세요."
   ]
  },
  {
   "cell_type": "code",
   "execution_count": 4,
   "id": "5518dafa",
   "metadata": {},
   "outputs": [
    {
     "name": "stdout",
     "output_type": "stream",
     "text": [
      "1000\n",
      "헨님의 주문금액은 1000원 입니다\n"
     ]
    }
   ],
   "source": [
    "class Order: \n",
    "    def __init__(self, name): \n",
    "        self.customer = 0 \n",
    "        self.name = name \n",
    "    def order(self, price): \n",
    "        self.customer += price \n",
    "        return self.customer\n",
    "    \n",
    "order = Order('헨')\n",
    "print(order.order(1000))\n",
    "\n",
    "# ------------------------------------------------\n",
    "\n",
    "\n",
    "class ExtraOrder(Order):\n",
    "    def __init__(self, name):\n",
    "        super().__init__(name)\n",
    "    def order(self, price):\n",
    "        super().order(price)\n",
    "        print(f'{self.name}님의 주문금액은 {self.customer}원 입니다')\n",
    "\n",
    "order = ExtraOrder('헨')\n",
    "order.order(1000)"
   ]
  },
  {
   "cell_type": "markdown",
   "id": "75587bf5",
   "metadata": {},
   "source": [
    "#### 7/18 - Q9. 업무미팅이 2시임을 알려주는 자동 이메일을 클래스 AutoEmail을 작성하여 아래와 같이 출력하세요.\n",
    "\n",
    "안녕하세요. kevin님, 업무미팅은 2시입니다."
   ]
  },
  {
   "cell_type": "code",
   "execution_count": 9,
   "id": "77cf0b3c",
   "metadata": {},
   "outputs": [
    {
     "name": "stdout",
     "output_type": "stream",
     "text": [
      "헨님 업무 미팅은 14시 입니다.\n"
     ]
    }
   ],
   "source": [
    "import time\n",
    "class AutoEmail:\n",
    "    def __init__(self, name, t):\n",
    "        self.name = name\n",
    "        self.t = t\n",
    "    def alarm(self):\n",
    "        if time.localtime().tm_hour==self.t:\n",
    "            print(f'{self.name}님 업무 미팅 진행중 입니다.')\n",
    "        else:\n",
    "            print(f'{self.name}님 업무 미팅은 {self.t}시 입니다.')\n",
    "\n",
    "AE = AutoEmail(\"헨\",14)\n",
    "AE.alarm()"
   ]
  },
  {
   "cell_type": "markdown",
   "id": "bfe3506e",
   "metadata": {},
   "source": [
    "#### 7/19 - Q10. 정규표현식을 사용하여 text에서 전화번호만 출력하세요.\n",
    "text = \"문의사항이 있으면 032-232-3245으로 연락주시기 바랍니다.\""
   ]
  },
  {
   "cell_type": "code",
   "execution_count": 2,
   "id": "a7060b6a",
   "metadata": {},
   "outputs": [
    {
     "name": "stdout",
     "output_type": "stream",
     "text": [
      "032-232-3245\n"
     ]
    }
   ],
   "source": [
    "text = \"문의사항이 있으면 032-232-3245으로 연락주시기 바랍니다.\"\n",
    "\n",
    "import re\n",
    "phone = re.search(r'([0-9-]{12})',text)\n",
    "print(phone.group(1))"
   ]
  },
  {
   "cell_type": "markdown",
   "id": "6f186efb",
   "metadata": {},
   "source": [
    "#### 7/19 - Q11. 정규표현식을 사용하여 text에서 에러가 들어간 부분만 포함하는 리스트를 출력하세요.\n",
    "\n",
    "text = \"에러 1122, 레퍼런스 오류, 에러 1033, 아규먼트 오류, 에러 xxx\""
   ]
  },
  {
   "cell_type": "code",
   "execution_count": 87,
   "id": "7c5153aa",
   "metadata": {},
   "outputs": [
    {
     "data": {
      "text/plain": [
       "['에러 1122', '에러 1033']"
      ]
     },
     "execution_count": 87,
     "metadata": {},
     "output_type": "execute_result"
    }
   ],
   "source": [
    "text = \"에러 1122, 레퍼런스 오류, 에러 1033, 아규먼트 오류, 에러 xxx\"\n",
    "\n",
    "re.findall(r'[가-힣]+ \\d+',text)"
   ]
  },
  {
   "cell_type": "code",
   "execution_count": 3,
   "id": "f4e94004",
   "metadata": {},
   "outputs": [
    {
     "name": "stdout",
     "output_type": "stream",
     "text": [
      "[' 에러 103']\n"
     ]
    }
   ],
   "source": [
    "import re\n",
    "text = \"에러 1122, 레퍼런스 오류, 에러 1033, 아규먼트 오류, 에러 xxx\"\n",
    "\n",
    "error = re.findall(r'([가-힣]+ \\d+ | [가-힣]+ \\d+)',text)\n",
    "print(error)"
   ]
  },
  {
   "cell_type": "code",
   "execution_count": 4,
   "id": "174e3618",
   "metadata": {},
   "outputs": [
    {
     "name": "stdout",
     "output_type": "stream",
     "text": [
      "['에러 1122', '에러 1033', '에러 xxx']\n"
     ]
    }
   ],
   "source": [
    "text = \"에러 1122, 레퍼런스 오류, 에러 1033, 아규먼트 오류, 에러 xxx\"\n",
    "\n",
    "error = re.findall(r'(\\w+ \\d+|\\w+ \\w{3})',text)\n",
    "print(error)"
   ]
  },
  {
   "cell_type": "code",
   "execution_count": 3,
   "id": "76bda097",
   "metadata": {},
   "outputs": [
    {
     "data": {
      "text/plain": [
       "['에러 1122', '에러 1033', '에러 xxx']"
      ]
     },
     "execution_count": 3,
     "metadata": {},
     "output_type": "execute_result"
    }
   ],
   "source": [
    "text = \"에러 1122, 레퍼런스 오류, 에러 1033, 아규먼트 오류, 에러 xxx\"\n",
    "\n",
    "error = '에러\\s\\w+'\n",
    "re.findall(error,text)"
   ]
  },
  {
   "cell_type": "markdown",
   "id": "8e0c367a",
   "metadata": {},
   "source": [
    "#### 7/19 - Q12. 정규표현식을 사용하여 text에서 지역코드만 출력하세요.\n",
    "\n",
    "text = \"문의사항이 있으면 032-232-3245으로 연락주시기 바랍니다.\""
   ]
  },
  {
   "cell_type": "code",
   "execution_count": 49,
   "id": "19dfc818",
   "metadata": {},
   "outputs": [
    {
     "name": "stdout",
     "output_type": "stream",
     "text": [
      "032\n"
     ]
    }
   ],
   "source": [
    "text = \"문의사항이 있으면 032-232-3245으로 연락주시기 바랍니다.\"\n",
    "\n",
    "code = re.search(r'([0-9-]{3})([-])',text)\n",
    "print(code.group(1))"
   ]
  },
  {
   "cell_type": "markdown",
   "id": "9e1d4d21",
   "metadata": {},
   "source": [
    "#### 7/19 - Q13. 정규표현식을 사용하여 text에서 지역코드 제외한 번호만 출력하세요.\n",
    "\n",
    "text = \"문의사항이 있으면 032-232-3245으로 연락주시기 바랍니다.\""
   ]
  },
  {
   "cell_type": "code",
   "execution_count": 150,
   "id": "c879beb3",
   "metadata": {},
   "outputs": [
    {
     "name": "stdout",
     "output_type": "stream",
     "text": [
      "232-3245\n"
     ]
    }
   ],
   "source": [
    "text = \"문의사항이 있으면 032-232-3245으로 연락주시기 바랍니다.\"\n",
    "\n",
    "code = re.search(r'([-])([0-9-]{3}[-][0-9-]{4})',text)\n",
    "print(code.group(2))"
   ]
  },
  {
   "cell_type": "markdown",
   "id": "95727b19",
   "metadata": {},
   "source": [
    "#### 7/19 - Q14. 'abcdefghij' 에 대하여 중첩을 적용한 서브그룹 5개로 컴파일하여 group()함수를 이용하여 'abcdefghi'와 e'를 출력하세요\n"
   ]
  },
  {
   "cell_type": "code",
   "execution_count": 5,
   "id": "36ec8e87",
   "metadata": {},
   "outputs": [
    {
     "name": "stdout",
     "output_type": "stream",
     "text": [
      "abcdefghij\n",
      "e\n"
     ]
    }
   ],
   "source": [
    "hi = 'abcdefghij'\n",
    "\n",
    "c = re.compile(r'(\\w{2})(\\w{2})(\\w)(\\w+)(\\w+)')\n",
    "s = c.search(hi)\n",
    "\n",
    "print(s.group())\n",
    "print(s.group(3))"
   ]
  },
  {
   "cell_type": "code",
   "execution_count": 6,
   "id": "a5f58a70",
   "metadata": {},
   "outputs": [
    {
     "name": "stdout",
     "output_type": "stream",
     "text": [
      "abcdefghi\n"
     ]
    },
    {
     "data": {
      "text/plain": [
       "'e'"
      ]
     },
     "execution_count": 6,
     "metadata": {},
     "output_type": "execute_result"
    }
   ],
   "source": [
    "p = re.compile('(a(b(c(d(e)f)g)h)i)j')\n",
    "m = p.match('abcdefghij')\n",
    "# print(m.group(0))'Lots of punctuation''Lots of punctuation'\n",
    "print(m.group(1))\n",
    "m.group(5)"
   ]
  },
  {
   "cell_type": "markdown",
   "id": "138a33ed",
   "metadata": {},
   "source": [
    "#### 7/19 - Q15. 위문제에서 모든 서브 그룹에 대한 문자열을 포함하는 튜플을 출력하세요."
   ]
  },
  {
   "cell_type": "code",
   "execution_count": 8,
   "id": "7899d03f",
   "metadata": {},
   "outputs": [
    {
     "name": "stdout",
     "output_type": "stream",
     "text": [
      "[('ab', 'cd', 'e', 'fghi', 'j')]\n"
     ]
    }
   ],
   "source": [
    "f = c.findall(hi)\n",
    "print(f)"
   ]
  },
  {
   "cell_type": "code",
   "execution_count": 9,
   "id": "941efb17",
   "metadata": {
    "scrolled": true
   },
   "outputs": [
    {
     "data": {
      "text/plain": [
       "('abcdefghi', 'bcdefgh', 'cdefg', 'def', 'e')"
      ]
     },
     "execution_count": 9,
     "metadata": {},
     "output_type": "execute_result"
    }
   ],
   "source": [
    "m.groups()"
   ]
  },
  {
   "cell_type": "markdown",
   "id": "1fbca49a",
   "metadata": {},
   "source": [
    "#### 7/20 - Q16. 이름으로 그룹을 참조하여 'Lots of punctuation' 에서 Lots를 출력하세요."
   ]
  },
  {
   "cell_type": "code",
   "execution_count": 2,
   "id": "d7457e5d",
   "metadata": {},
   "outputs": [
    {
     "data": {
      "text/plain": [
       "'Lots'"
      ]
     },
     "execution_count": 2,
     "metadata": {},
     "output_type": "execute_result"
    }
   ],
   "source": [
    "import re\n",
    "p = re.compile('(Lots) of punctuation')\n",
    "m = p.match('Lots of punctuation')\n",
    "m.group(1)"
   ]
  },
  {
   "cell_type": "code",
   "execution_count": 14,
   "id": "d54b35bc",
   "metadata": {},
   "outputs": [
    {
     "name": "stdout",
     "output_type": "stream",
     "text": [
      "Lots\n"
     ]
    }
   ],
   "source": [
    "p = re.compile(r'(?P<name>\\w{4})\\s(\\w+\\s\\w+)')\n",
    "s = p.search('Lots of punctuation')\n",
    "print(s.group('name'))"
   ]
  },
  {
   "cell_type": "code",
   "execution_count": 7,
   "id": "bdbffb6d",
   "metadata": {},
   "outputs": [
    {
     "name": "stdout",
     "output_type": "stream",
     "text": [
      "Lots\n"
     ]
    }
   ],
   "source": [
    "import re\n",
    "p = re.compile(r'(?P<name>\\w+)\\s')\n",
    "s = p.search('Lots of punctuation')\n",
    "print(s.group('name'))"
   ]
  },
  {
   "cell_type": "markdown",
   "id": "0ca5e322",
   "metadata": {},
   "source": [
    "#### 7/20 - Q17. 'Paris is very very beautiful.'에서 'very very'를 출력하세요."
   ]
  },
  {
   "cell_type": "code",
   "execution_count": 18,
   "id": "68f7c3b4",
   "metadata": {},
   "outputs": [
    {
     "data": {
      "text/plain": [
       "['very', 'very']"
      ]
     },
     "execution_count": 18,
     "metadata": {},
     "output_type": "execute_result"
    }
   ],
   "source": [
    "p = re.compile(r'v\\w{3}')\n",
    "d = p.findall('Paris is very very beautiful.')\n",
    "d"
   ]
  },
  {
   "cell_type": "code",
   "execution_count": 29,
   "id": "ca984160",
   "metadata": {},
   "outputs": [
    {
     "data": {
      "text/plain": [
       "[' very ', ' very ']"
      ]
     },
     "execution_count": 29,
     "metadata": {},
     "output_type": "execute_result"
    }
   ],
   "source": [
    "p = re.compile(r'\\s\\w{4}\\s')\n",
    "d = p.findall('Paris is very very beautiful.')\n",
    "d*2"
   ]
  },
  {
   "cell_type": "code",
   "execution_count": 56,
   "id": "6191dcf2",
   "metadata": {},
   "outputs": [
    {
     "data": {
      "text/plain": [
       "['very', 'very']"
      ]
     },
     "execution_count": 56,
     "metadata": {},
     "output_type": "execute_result"
    }
   ],
   "source": [
    "p = re.compile(r'\\bvery\\b')\n",
    "x = p.findall('Paris is very very beautiful.')  \n",
    "x"
   ]
  },
  {
   "cell_type": "markdown",
   "id": "02863b4c",
   "metadata": {},
   "source": [
    "#### 7/20 - Q18. 정규표현식을 작성하여 아래와 같이 출력하세요.\n",
    "['1 apple', '5 oranges', '3 boys', '4 girls', '10 army', '11 mr']\n"
   ]
  },
  {
   "cell_type": "code",
   "execution_count": null,
   "id": "fae832d0",
   "metadata": {},
   "outputs": [],
   "source": [
    "import re\n",
    "li = '1 apple, 5 oranges, 3 boys, 4 girls; 10 army| 11 mr'\n",
    "regex = re.compile(      )\n",
    "list = regex.findall(li)\n",
    "print(list)"
   ]
  },
  {
   "cell_type": "code",
   "execution_count": 8,
   "id": "9b5f21d8",
   "metadata": {},
   "outputs": [
    {
     "data": {
      "text/plain": [
       "['1 apple', '5 oranges', '3 boys', '4 girls', '10 army', '11 mr']"
      ]
     },
     "execution_count": 8,
     "metadata": {},
     "output_type": "execute_result"
    }
   ],
   "source": [
    "import re\n",
    "li = '1 apple, 5 oranges, 3 boys, 4 girls; 10 army| 11 mr'\n",
    "regex = re.compile(r'\\d+\\s\\w+')\n",
    "list = regex.findall(li)\n",
    "list"
   ]
  },
  {
   "cell_type": "markdown",
   "id": "7668e310",
   "metadata": {},
   "source": [
    "#### 7/20 - Q19. text에서 'H,h'만 출력하세요.\n",
    "text = 'Hello my friend! Life is short you need Python!'"
   ]
  },
  {
   "cell_type": "code",
   "execution_count": 68,
   "id": "9acfe54a",
   "metadata": {},
   "outputs": [
    {
     "data": {
      "text/plain": [
       "['H', 'h', 'h']"
      ]
     },
     "execution_count": 68,
     "metadata": {},
     "output_type": "execute_result"
    }
   ],
   "source": [
    "text = 'Hello my friend! Life is short you need Python!'\n",
    "\n",
    "h = re.compile('[Hh]')\n",
    "x = h.findall(text)\n",
    "x"
   ]
  },
  {
   "cell_type": "markdown",
   "id": "3c163c42",
   "metadata": {},
   "source": [
    "#### 7/20 - Q20. text에서 'H,h'가 아닌 것 모두를 출력하세요.\n",
    "\n",
    "text = 'Hello my friend! Life is short you need Python!'"
   ]
  },
  {
   "cell_type": "code",
   "execution_count": 71,
   "id": "e3241e3b",
   "metadata": {},
   "outputs": [
    {
     "name": "stdout",
     "output_type": "stream",
     "text": [
      "['e', 'l', 'l', 'o', ' ', 'm', 'y', ' ', 'f', 'r', 'i', 'e', 'n', 'd', '!', ' ', 'L', 'i', 'f', 'e', ' ', 'i', 's', ' ', 's', 'o', 'r', 't', ' ', 'y', 'o', 'u', ' ', 'n', 'e', 'e', 'd', ' ', 'P', 'y', 't', 'o', 'n', '!']\n"
     ]
    }
   ],
   "source": [
    "text = 'Hello my friend! Life is short you need Python!'\n",
    "\n",
    "h = re.compile('[^Hh]')\n",
    "x = h.findall(text)\n",
    "print(x)"
   ]
  },
  {
   "cell_type": "markdown",
   "id": "274bf7d5",
   "metadata": {},
   "source": [
    "#### 7/21 - Q21. 'we are going home'에서 home만 출력하세요."
   ]
  },
  {
   "cell_type": "code",
   "execution_count": 6,
   "id": "fa8bb39b",
   "metadata": {},
   "outputs": [
    {
     "data": {
      "text/plain": [
       "'home'"
      ]
     },
     "execution_count": 6,
     "metadata": {},
     "output_type": "execute_result"
    }
   ],
   "source": [
    "import re\n",
    "\n",
    "text = 'we are going home'\n",
    "text[-4:]"
   ]
  },
  {
   "cell_type": "markdown",
   "id": "e7d0269f",
   "metadata": {},
   "source": [
    "#### 7/21 - Q22. '199305, 1923A, a93247'에서 '199305'만 출력하세요."
   ]
  },
  {
   "cell_type": "code",
   "execution_count": 7,
   "id": "d4b428a8",
   "metadata": {},
   "outputs": [
    {
     "data": {
      "text/plain": [
       "['199305']"
      ]
     },
     "execution_count": 7,
     "metadata": {},
     "output_type": "execute_result"
    }
   ],
   "source": [
    "num = '199305, 1923A, a93247'\n",
    "\n",
    "a = re.compile('(\\d+),')\n",
    "a.findall(num)"
   ]
  },
  {
   "cell_type": "markdown",
   "id": "3ebe41a8",
   "metadata": {},
   "source": [
    "#### 7/21 - Q23. '12345abc'에서 'abc'만 출력하세요.\n"
   ]
  },
  {
   "cell_type": "code",
   "execution_count": 10,
   "id": "13bcc355",
   "metadata": {},
   "outputs": [
    {
     "data": {
      "text/plain": [
       "['abc']"
      ]
     },
     "execution_count": 10,
     "metadata": {},
     "output_type": "execute_result"
    }
   ],
   "source": [
    "al = '12345abc'\n",
    "\n",
    "a = re.compile('[a-z]+')\n",
    "a.findall(al)"
   ]
  },
  {
   "cell_type": "code",
   "execution_count": 1,
   "id": "6bd3e237",
   "metadata": {
    "scrolled": true
   },
   "outputs": [
    {
     "data": {
      "text/plain": [
       "'abc'"
      ]
     },
     "execution_count": 1,
     "metadata": {},
     "output_type": "execute_result"
    }
   ],
   "source": [
    "al = '12345abc'\n",
    "al[-3:]"
   ]
  },
  {
   "cell_type": "code",
   "execution_count": 3,
   "id": "b5769510",
   "metadata": {},
   "outputs": [
    {
     "data": {
      "text/plain": [
       "'abc'"
      ]
     },
     "execution_count": 3,
     "metadata": {},
     "output_type": "execute_result"
    }
   ],
   "source": [
    "import re\n",
    "al = '12345abc'\n",
    "m = re.search('\\D+',al)\n",
    "m.group()"
   ]
  },
  {
   "cell_type": "code",
   "execution_count": 6,
   "id": "67fbc5f4",
   "metadata": {},
   "outputs": [
    {
     "data": {
      "text/plain": [
       "'12345'"
      ]
     },
     "execution_count": 6,
     "metadata": {},
     "output_type": "execute_result"
    }
   ],
   "source": [
    "al = '12345abc'\n",
    "x = re.search('\\d+',al)\n",
    "x.group()"
   ]
  },
  {
   "cell_type": "code",
   "execution_count": 14,
   "id": "bd08e469",
   "metadata": {},
   "outputs": [
    {
     "data": {
      "text/plain": [
       "'12345'"
      ]
     },
     "execution_count": 14,
     "metadata": {},
     "output_type": "execute_result"
    }
   ],
   "source": [
    "al = '12345abc'\n",
    "re.sub('[^0-9]','',al) # '' 빈칸 주는거 숫자가 아닌걸 공백으로 대체하라는 이야깅"
   ]
  },
  {
   "cell_type": "code",
   "execution_count": null,
   "id": "b8047321",
   "metadata": {},
   "outputs": [],
   "source": []
  },
  {
   "cell_type": "markdown",
   "id": "eb0449b2",
   "metadata": {},
   "source": [
    "#### 7/21 - Q24. '12345abc'에서 'a'만 출력하세요."
   ]
  },
  {
   "cell_type": "code",
   "execution_count": 12,
   "id": "c5657a55",
   "metadata": {},
   "outputs": [
    {
     "data": {
      "text/plain": [
       "'a'"
      ]
     },
     "execution_count": 12,
     "metadata": {},
     "output_type": "execute_result"
    }
   ],
   "source": [
    "al = '12345abc'\n",
    "\n",
    "al[-3]"
   ]
  },
  {
   "cell_type": "code",
   "execution_count": 4,
   "id": "eb8a9d99",
   "metadata": {},
   "outputs": [
    {
     "data": {
      "text/plain": [
       "'a'"
      ]
     },
     "execution_count": 4,
     "metadata": {},
     "output_type": "execute_result"
    }
   ],
   "source": [
    "al = '12345abc'\n",
    "x = re.search('a',al)\n",
    "x.group()"
   ]
  },
  {
   "cell_type": "code",
   "execution_count": 5,
   "id": "ed92f56f",
   "metadata": {},
   "outputs": [
    {
     "data": {
      "text/plain": [
       "'a'"
      ]
     },
     "execution_count": 5,
     "metadata": {},
     "output_type": "execute_result"
    }
   ],
   "source": [
    "al = '12345abc'\n",
    "x = re.search('[a-z]',al)\n",
    "x.group()"
   ]
  },
  {
   "cell_type": "markdown",
   "id": "c5ba294b",
   "metadata": {},
   "source": [
    "#### 7/21 - Q25. 'abc12345Abc'에서 'A'만 출력하세요."
   ]
  },
  {
   "cell_type": "code",
   "execution_count": 16,
   "id": "aebf0cfc",
   "metadata": {},
   "outputs": [
    {
     "name": "stdout",
     "output_type": "stream",
     "text": [
      "A\n"
     ]
    },
    {
     "data": {
      "text/plain": [
       "['A']"
      ]
     },
     "execution_count": 16,
     "metadata": {},
     "output_type": "execute_result"
    }
   ],
   "source": [
    "ab = 'abc12345Abc'\n",
    "\n",
    "print(ab[-3])\n",
    "\n",
    "x = re.compile('[A-Z]+')\n",
    "\n",
    "x.findall(ab)"
   ]
  },
  {
   "cell_type": "markdown",
   "id": "f2f70c64",
   "metadata": {},
   "source": [
    "#### 7/22 - Q26. 'Banker'에서 'anker', 'banker123'에서 'banker'를 출력하세요."
   ]
  },
  {
   "cell_type": "code",
   "execution_count": 20,
   "id": "d8fedb5f",
   "metadata": {},
   "outputs": [
    {
     "data": {
      "text/plain": [
       "['anker']"
      ]
     },
     "execution_count": 20,
     "metadata": {},
     "output_type": "execute_result"
    }
   ],
   "source": [
    "import re\n",
    "\n",
    "b = 'Banker'\n",
    "re.findall('[a-z]+',b)"
   ]
  },
  {
   "cell_type": "code",
   "execution_count": 21,
   "id": "af29b78f",
   "metadata": {},
   "outputs": [
    {
     "data": {
      "text/plain": [
       "['banker']"
      ]
     },
     "execution_count": 21,
     "metadata": {},
     "output_type": "execute_result"
    }
   ],
   "source": [
    "b = 'banker123'\n",
    "re.findall('\\D+',b)"
   ]
  },
  {
   "cell_type": "markdown",
   "id": "64d7f46c",
   "metadata": {},
   "source": [
    "#### 7/22 - Q27. 'KOREA 대한민국'에서 '대'만 출력하세요."
   ]
  },
  {
   "cell_type": "code",
   "execution_count": 27,
   "id": "a43fc7a2",
   "metadata": {},
   "outputs": [
    {
     "name": "stdout",
     "output_type": "stream",
     "text": [
      "대\n"
     ]
    }
   ],
   "source": [
    "k =  'KOREA 대한민국'\n",
    "d = re.search('[가-힣]',k)\n",
    "print(d.group())"
   ]
  },
  {
   "cell_type": "markdown",
   "id": "04e7dd7b",
   "metadata": {},
   "source": [
    "#### 7/22 - Q28. Q. 'aaaaBBBcccDDDeee'을 모두 출력하세요.\n",
    "text = 'aaaBBccDDeeaaaaBBBcccDDDeeeeeeDDDcccBBBaaaa'"
   ]
  },
  {
   "cell_type": "code",
   "execution_count": 53,
   "id": "d83cc421",
   "metadata": {},
   "outputs": [
    {
     "data": {
      "text/plain": [
       "'aaaaBBBcccDDDeee'"
      ]
     },
     "execution_count": 53,
     "metadata": {},
     "output_type": "execute_result"
    }
   ],
   "source": [
    "text = 'aaaBBccDDeeaaaaBBBcccDDDeeeeeeDDDcccBBBaaaa'\n",
    "\n",
    "a = re.compile('(\\w{16})$')\n",
    "b = a.search(text)\n",
    "\n",
    "c = b.group(1)\n",
    "c[::-1]"
   ]
  },
  {
   "cell_type": "code",
   "execution_count": 2,
   "id": "68bff396",
   "metadata": {},
   "outputs": [
    {
     "data": {
      "text/plain": [
       "'aaaaBBBcccDDDeee'"
      ]
     },
     "execution_count": 2,
     "metadata": {},
     "output_type": "execute_result"
    }
   ],
   "source": [
    "import re\n",
    "text = 'aaaBBccDDeeaaaaBBBcccDDDeeeeeeDDDcccBBBaaaa'\n",
    "p = re.search('a{4}B{3}c{3}D{3}e{3}',text)\n",
    "p.group()"
   ]
  },
  {
   "cell_type": "markdown",
   "id": "6d9a2048",
   "metadata": {},
   "source": [
    "#### 7/22 - Q29. 아래의 경우에서 \\<html>만 출력하세요"
   ]
  },
  {
   "cell_type": "code",
   "execution_count": 60,
   "id": "6752c0b7",
   "metadata": {},
   "outputs": [
    {
     "name": "stdout",
     "output_type": "stream",
     "text": [
      "59\n"
     ]
    },
    {
     "data": {
      "text/plain": [
       "'<html><head><title>Title</title></head><body></body></html>'"
      ]
     },
     "execution_count": 60,
     "metadata": {},
     "output_type": "execute_result"
    }
   ],
   "source": [
    "# Q\n",
    "\n",
    "text = '<html><head><title>Title</title></head><body></body></html>'\n",
    "\n",
    "pattern = re.compile('<.*>')  # * 별표는 all\n",
    "\n",
    "\n",
    "print(len(text))\n",
    "p = pattern.search(text)\n",
    "p.group()"
   ]
  },
  {
   "cell_type": "code",
   "execution_count": 3,
   "id": "37b04150",
   "metadata": {},
   "outputs": [
    {
     "name": "stdout",
     "output_type": "stream",
     "text": [
      "59\n"
     ]
    },
    {
     "data": {
      "text/plain": [
       "'<html>'"
      ]
     },
     "execution_count": 3,
     "metadata": {},
     "output_type": "execute_result"
    }
   ],
   "source": [
    "text = '<html><head><title>Title</title></head><body></body></html>'\n",
    "\n",
    "pattern = re.compile('<.*?>')  # 안탐욕스러운거 ?\n",
    "\n",
    "\n",
    "print(len(text))\n",
    "p = pattern.search(text)\n",
    "p.group()"
   ]
  },
  {
   "cell_type": "markdown",
   "id": "1a16d521",
   "metadata": {},
   "source": [
    "#### 7/22 - Q30. '1234a1234'에서  '1', '2', '3', '4'를 모두 출력하세요."
   ]
  },
  {
   "cell_type": "code",
   "execution_count": 55,
   "id": "0b8c8a5b",
   "metadata": {},
   "outputs": [
    {
     "data": {
      "text/plain": [
       "['1', '2', '3', '4', '1', '2', '3', '4']"
      ]
     },
     "execution_count": 55,
     "metadata": {},
     "output_type": "execute_result"
    }
   ],
   "source": [
    "import re\n",
    "\n",
    "a =  '1234a1234'\n",
    "m = re.findall('(\\d)',a)\n",
    "m"
   ]
  },
  {
   "cell_type": "markdown",
   "id": "33dc2622",
   "metadata": {},
   "source": [
    "#### 7/25 - Q31. "
   ]
  },
  {
   "cell_type": "markdown",
   "id": "98eaf512",
   "metadata": {},
   "source": [
    "#### 7/25 - Q32.  text에서 전체문장 모두 출력하세요."
   ]
  },
  {
   "cell_type": "code",
   "execution_count": 76,
   "id": "644df9c5",
   "metadata": {},
   "outputs": [
    {
     "name": "stdout",
     "output_type": "stream",
     "text": [
      "what are you doing?\n"
     ]
    }
   ],
   "source": [
    "# Q.\n",
    "text = \"what are you doing?\\nit is going to be late for school\\nwe need to hurry up\"\n",
    "regex = re.compile('.*')\n",
    "mo = regex.search(text)\n",
    "print(mo.group())"
   ]
  },
  {
   "cell_type": "code",
   "execution_count": 2,
   "id": "6e0a7b91",
   "metadata": {},
   "outputs": [
    {
     "name": "stdout",
     "output_type": "stream",
     "text": [
      "what are you doing?\n",
      "it is going to be late for school\n",
      "we need to hurry up\n"
     ]
    }
   ],
   "source": [
    "text = \"what are you doing?\\nit is going to be late for school\\nwe need to hurry up\"\n",
    "regex = re.compile('\\D*') # \\D 숫자 빼고 모든 문자와 기호들\n",
    "mo = regex.match(text)\n",
    "print(mo.group())"
   ]
  },
  {
   "cell_type": "code",
   "execution_count": 3,
   "id": "d7a4d430",
   "metadata": {},
   "outputs": [
    {
     "name": "stdout",
     "output_type": "stream",
     "text": [
      "what are you doing?\n",
      "it is going to be late for school\n",
      "we need to hurry up\n"
     ]
    }
   ],
   "source": [
    "text = \"what are you doing?\\nit is going to be late for school\\nwe need to hurry up\"\n",
    "regex = re.compile('.*',re.DOTALL)  # * all 인데 \\n 있는데 까지만! re.DOTALL 쓰면 다 다 나온다\n",
    "mo = regex.search(text)\n",
    "print(mo.group())"
   ]
  },
  {
   "cell_type": "code",
   "execution_count": 1,
   "id": "3104b2d6",
   "metadata": {},
   "outputs": [
    {
     "data": {
      "text/plain": [
       "'what are you doing? it is going to be late for school we need to hurry up'"
      ]
     },
     "execution_count": 1,
     "metadata": {},
     "output_type": "execute_result"
    }
   ],
   "source": [
    "import re # 이곤 아냐..\n",
    "\n",
    "text = \"what are you doing?\\nit is going to be late for school\\nwe need to hurry up\"\n",
    "a = re.findall('\\w+[^\\n\\s]', text)\n",
    "a = ' '.join(a)\n",
    "a"
   ]
  },
  {
   "cell_type": "markdown",
   "id": "653828b3",
   "metadata": {},
   "source": [
    "#### 7/25 - Q33.  text에서 대소문자 구분없이 전체문장 모두 출력하세요\n"
   ]
  },
  {
   "cell_type": "code",
   "execution_count": 41,
   "id": "5a77358b",
   "metadata": {},
   "outputs": [
    {
     "data": {
      "text/plain": [
       "'Friend fRiend friEnd FRIEND'"
      ]
     },
     "execution_count": 41,
     "metadata": {},
     "output_type": "execute_result"
    }
   ],
   "source": [
    "text = 'Friend fRiend friEnd FRIEND'\n",
    "\n",
    "b = re.findall('\\w+', text)\n",
    "b = ' '.join(b)\n",
    "b"
   ]
  },
  {
   "cell_type": "code",
   "execution_count": 6,
   "id": "1ae2b391",
   "metadata": {},
   "outputs": [
    {
     "name": "stdout",
     "output_type": "stream",
     "text": [
      "Friend\n",
      "fRiend\n",
      "friEnd\n",
      "FRIEND\n"
     ]
    }
   ],
   "source": [
    "text = 'Friend fRiend friEnd FRIEND'\n",
    "\n",
    "b = re.findall('\\w+', text)\n",
    "for i in range(0,4):\n",
    "    print(b[i])"
   ]
  },
  {
   "cell_type": "code",
   "execution_count": 7,
   "id": "7d64af2c",
   "metadata": {},
   "outputs": [
    {
     "name": "stdout",
     "output_type": "stream",
     "text": [
      "Friend fRiend friEnd FRIEND\n"
     ]
    }
   ],
   "source": [
    "text = 'Friend fRiend friEnd FRIEND'\n",
    "\n",
    "regex = re.compile('[a-z ]*',re.I)\n",
    "mo = regex.search(text)\n",
    "print(mo.group())"
   ]
  },
  {
   "cell_type": "code",
   "execution_count": 11,
   "id": "4de1da11",
   "metadata": {},
   "outputs": [
    {
     "name": "stdout",
     "output_type": "stream",
     "text": [
      "Friend\n",
      "fRiend\n",
      "friEnd\n",
      "FRIEND\n"
     ]
    }
   ],
   "source": [
    "text = 'Friend fRiend friEnd FRIEND'\n",
    "\n",
    "regex = re.compile('friend',re.I)  # re.I\n",
    "mo = regex.findall(text)\n",
    "for i in mo:\n",
    "    print(i)"
   ]
  },
  {
   "cell_type": "markdown",
   "id": "63fad2f4",
   "metadata": {},
   "source": [
    "#### 7/25 - Q34.  1609160537.371015을 \"Sat Jun 26 08:35:03 2021\" 포멧으로 출력하세요.\n"
   ]
  },
  {
   "cell_type": "code",
   "execution_count": 14,
   "id": "cc26624a",
   "metadata": {},
   "outputs": [
    {
     "name": "stdout",
     "output_type": "stream",
     "text": [
      "2020-12-28 22:02:17.371015\n"
     ]
    },
    {
     "data": {
      "text/plain": [
       "'Mon Dec 28 22:02:17 2020'"
      ]
     },
     "execution_count": 14,
     "metadata": {},
     "output_type": "execute_result"
    }
   ],
   "source": [
    "import time\n",
    "from datetime import datetime\n",
    "\n",
    "dt_object = datetime.fromtimestamp(1609160537.371015)\n",
    "print(dt_object)\n",
    "dt_object.strftime('%c')"
   ]
  },
  {
   "cell_type": "code",
   "execution_count": 15,
   "id": "da94b093",
   "metadata": {},
   "outputs": [
    {
     "data": {
      "text/plain": [
       "'Mon Dec 28 22:02:17 2020'"
      ]
     },
     "execution_count": 15,
     "metadata": {},
     "output_type": "execute_result"
    }
   ],
   "source": [
    "# 와 대박간단 time.ctime!! float >> string\n",
    "timestring=time.ctime(1609160537.371015)\n",
    "timestring"
   ]
  },
  {
   "cell_type": "code",
   "execution_count": 22,
   "id": "0779685b",
   "metadata": {},
   "outputs": [],
   "source": [
    "# ctime() 함수는 주어진 timestamp를 현지 시간대 기준으로 소위 미국에서 흔히 사용되는 요 월 일 시:분:초 년 포멧으로 변환해줍니다. 그냥 간단하게 timestamp가 나타내는 날짜와 시간을 확인해보는 용도로 쓰기에 좋습니다."
   ]
  },
  {
   "cell_type": "code",
   "execution_count": null,
   "id": "91455110",
   "metadata": {},
   "outputs": [],
   "source": [
    "from datetime import datetime\n",
    "\n",
    "timestamp = 1609160537.371015\n",
    "dt_object = datetime.fromtimestamp(timestamp)\n",
    "print(dt_object)"
   ]
  },
  {
   "cell_type": "code",
   "execution_count": 34,
   "id": "d582e30c",
   "metadata": {},
   "outputs": [
    {
     "data": {
      "text/plain": [
       "'Mon Dec 28 22:02:17 2020'"
      ]
     },
     "execution_count": 34,
     "metadata": {},
     "output_type": "execute_result"
    }
   ],
   "source": [
    "# 한땀 한땀스..\n",
    "days = datetime.strftime(dt_object, '%a %b %d %H:%M:%S %Y')\n",
    "days"
   ]
  },
  {
   "cell_type": "code",
   "execution_count": 16,
   "id": "7ea5f1de",
   "metadata": {},
   "outputs": [
    {
     "data": {
      "text/plain": [
       "'Mon Dec 28 22:02:17 2020'"
      ]
     },
     "execution_count": 16,
     "metadata": {},
     "output_type": "execute_result"
    }
   ],
   "source": [
    "# a b d X Y 도 요로케 나옴\n",
    "days = datetime.strftime(dt_object, '%a %b %d %X %Y')\n",
    "days"
   ]
  },
  {
   "cell_type": "markdown",
   "id": "65a42a21",
   "metadata": {},
   "source": [
    "#### 7/25 - Q35. 현재 날짜와 시간을 \"Sat Jun 26 08:35:03 2021\" 포멧으로 출력하세요\n"
   ]
  },
  {
   "cell_type": "code",
   "execution_count": 20,
   "id": "23470d5e",
   "metadata": {},
   "outputs": [
    {
     "name": "stdout",
     "output_type": "stream",
     "text": [
      "2022-07-26 09:21:20.379056\n",
      "Tue Jul 26 09:21:20 2022\n",
      "Tue Jul 26 09:21:20 2022\n"
     ]
    }
   ],
   "source": [
    "t = time.time()\n",
    "type(t)\n",
    "d = datetime.fromtimestamp(t)\n",
    "print(d)\n",
    "print(d.strftime('%c'))\n",
    "print(d.strftime('%a %b %d %X %Y'))"
   ]
  },
  {
   "cell_type": "code",
   "execution_count": 35,
   "id": "a2e8f94b",
   "metadata": {},
   "outputs": [
    {
     "data": {
      "text/plain": [
       "'Mon Jul 25 15:27:30 2022'"
      ]
     },
     "execution_count": 35,
     "metadata": {},
     "output_type": "execute_result"
    }
   ],
   "source": [
    "today = datetime.now().strftime('%a %b %d %H:%M:%S %Y')\n",
    "today"
   ]
  },
  {
   "cell_type": "markdown",
   "id": "b0365b16",
   "metadata": {},
   "source": [
    "#### 7/26 - Q36. 현재 시간을 년-월-일 시:분:초로 출력하세요."
   ]
  },
  {
   "cell_type": "code",
   "execution_count": 8,
   "id": "5e543db0",
   "metadata": {},
   "outputs": [
    {
     "data": {
      "text/plain": [
       "'2022-07-27 09:20:03'"
      ]
     },
     "execution_count": 8,
     "metadata": {},
     "output_type": "execute_result"
    }
   ],
   "source": [
    "from datetime import datetime\n",
    "today = datetime.now().strftime('%Y-%m-%d %H:%M:%S')\n",
    "today"
   ]
  },
  {
   "cell_type": "markdown",
   "id": "525175f6",
   "metadata": {},
   "source": [
    "#### 7/26 - Q.37. 현재 시간을 time.time을 불러와서 년-월-일 시:분:초로 출력하세요."
   ]
  },
  {
   "cell_type": "code",
   "execution_count": 30,
   "id": "8503f986",
   "metadata": {},
   "outputs": [
    {
     "name": "stdout",
     "output_type": "stream",
     "text": [
      "1658814285.7815974\n",
      "2022-07-26 14:44:45\n"
     ]
    }
   ],
   "source": [
    "today = time.time()\n",
    "print(today)\n",
    "today_now = datetime.fromtimestamp(today)\n",
    "print(today_now.strftime('%Y-%m-%d %H:%M:%S'))"
   ]
  },
  {
   "cell_type": "markdown",
   "id": "3c24946f",
   "metadata": {},
   "source": [
    "#### 7/26 - Q38. 올해 경과된 날짜수 계산하세요\n",
    "\n",
    "1/1 부터 현재까지"
   ]
  },
  {
   "cell_type": "code",
   "execution_count": 2,
   "id": "9d093b4f",
   "metadata": {},
   "outputs": [
    {
     "data": {
      "text/plain": [
       "datetime.timedelta(days=207)"
      ]
     },
     "execution_count": 2,
     "metadata": {},
     "output_type": "execute_result"
    }
   ],
   "source": [
    "from datetime import date\n",
    "\n",
    "a = date(2022,1,1)\n",
    "b = date.today()\n",
    "b-a"
   ]
  },
  {
   "cell_type": "markdown",
   "id": "762d5b1a",
   "metadata": {},
   "source": [
    "#### 7/26 - Q39. 현재 요일을 \"2021-6-26 오늘은 토요일입니다.\"와 같은 형식으로 출력하세요.\n"
   ]
  },
  {
   "cell_type": "code",
   "execution_count": 12,
   "id": "795e2573",
   "metadata": {},
   "outputs": [
    {
     "name": "stdout",
     "output_type": "stream",
     "text": [
      "2\n",
      "수\n"
     ]
    },
    {
     "data": {
      "text/plain": [
       "'2022-07-27 오늘은 수요일 입니다.'"
      ]
     },
     "execution_count": 12,
     "metadata": {},
     "output_type": "execute_result"
    }
   ],
   "source": [
    "a = date.today().weekday()\n",
    "print(date.today().weekday())\n",
    "date_dict = {0:'월',1:'화',2:'수',3:'목',4:'금',5:'토',6:'일'}\n",
    "print(date_dict[a])\n",
    "\n",
    "today = (f'{date.today()} 오늘은 {date_dict[a]}요일 입니다.')\n",
    "today"
   ]
  },
  {
   "cell_type": "markdown",
   "id": "eec6f4b4",
   "metadata": {},
   "source": [
    "#### 7/26 - Q40. 1에서 백만까지 더하는데 걸리는 프로그램 실행 시간을 밀리초(ms) 단위로 구하세요.\n"
   ]
  },
  {
   "cell_type": "code",
   "execution_count": 59,
   "id": "28da55b7",
   "metadata": {},
   "outputs": [
    {
     "name": "stdout",
     "output_type": "stream",
     "text": [
      "CPU times: total: 0 ns\n",
      "Wall time: 1.01 s\n"
     ]
    }
   ],
   "source": [
    "%%time\n",
    "time.sleep(1)"
   ]
  },
  {
   "cell_type": "code",
   "execution_count": 62,
   "id": "67d248cf",
   "metadata": {
    "scrolled": false
   },
   "outputs": [
    {
     "name": "stdout",
     "output_type": "stream",
     "text": [
      "CPU times: total: 109 ms\n",
      "Wall time: 239 ms\n"
     ]
    }
   ],
   "source": [
    "%%time\n",
    "\n",
    "start = time.time()\n",
    "\n",
    "r = 0\n",
    "for i in range(1, 1000001):\n",
    "    r += i\n",
    "    \n",
    "end = time.time()\n",
    "\n",
    "time.sleep(end-start)"
   ]
  },
  {
   "cell_type": "markdown",
   "id": "a402029d",
   "metadata": {},
   "source": [
    "#### 7/27 - Q41. 아래 코드를 보완하여 발생 가능한 모든 예외(정수, 인덱스, 미리 파악하지 못한 예외)를 처리한 후 마지막에  '모든 예외처리 완료'를 출력하세요.\n",
    "```\n",
    "Q. \n",
    "list_num = [52,273,32,72,100]\n",
    "\n",
    "num_input = int(input('정수 입력> '))\n",
    "print(f'{num_input}번째 요소: {list_num[num_input-1]}')\n",
    "```"
   ]
  },
  {
   "cell_type": "code",
   "execution_count": 52,
   "id": "b1043dbb",
   "metadata": {},
   "outputs": [
    {
     "name": "stdout",
     "output_type": "stream",
     "text": [
      "정수 입력> 5\n",
      "5번째 요소: 100\n"
     ]
    }
   ],
   "source": [
    "# Q. \n",
    "list_num = [52,273,32,72,100]\n",
    "\n",
    "num_input = int(input('정수 입력> '))\n",
    "print(f'{num_input}번째 요소: {list_num[num_input-1]}')\n",
    "\n"
   ]
  },
  {
   "cell_type": "code",
   "execution_count": 58,
   "id": "24700e03",
   "metadata": {},
   "outputs": [
    {
     "name": "stdout",
     "output_type": "stream",
     "text": [
      "정수 입력> 5\n",
      "5번째 요소: 100\n",
      "모든 예외처리 완료!\n"
     ]
    }
   ],
   "source": [
    "# Q. \n",
    "list_num = [52,273,32,72,100]\n",
    "\n",
    "while True :\n",
    "    try:\n",
    "        num_input = int(input('정수 입력> '))\n",
    "        print(f'{num_input}번째 요소: {list_num[num_input-1]}')\n",
    "\n",
    "    except ValueError:\n",
    "        print('입력한 값은 정수가 아닙니다.')\n",
    "    except IndexError as e:\n",
    "        print('인덱스 오류!')\n",
    "    except:\n",
    "        print('Error!')\n",
    "\n",
    "    finally :\n",
    "        print('모든 예외처리 완료!')"
   ]
  },
  {
   "cell_type": "markdown",
   "id": "f3c24a17",
   "metadata": {},
   "source": [
    "#### 7/27 - Q42. 기본가격 1000원인 2개의 상품에 대하여 임의의 추가 가격을 입력시 가격 조정한 결과를 반환하는 Price 클래스를 생성 후 객체를 만들어 price1, price2를 수행하세요. \n",
    "- price1 : 기본가격 + 추가가격\n",
    "- price2 : (기본가격 + 추가가격) * 90%"
   ]
  },
  {
   "cell_type": "code",
   "execution_count": 117,
   "id": "94079c2d",
   "metadata": {},
   "outputs": [
    {
     "name": "stdout",
     "output_type": "stream",
     "text": [
      "가격을 입력하세요.1000\n",
      "가격은 2000원 입니다.\n"
     ]
    }
   ],
   "source": [
    "class Price:\n",
    "    def __init__(self):\n",
    "        self.result = 1000  # 기본가격 1000원\n",
    "    def add(self, num):\n",
    "        self.result += num\n",
    "        return self.result\n",
    "    def per(self, num):\n",
    "        self.result += (num * 0.9)\n",
    "        return self.result\n",
    "\n",
    "price1 = Price().add\n",
    "price2 = Price().per\n",
    "\n",
    "# price1\n",
    "x = int(input(\"가격을 입력하세요.\"))\n",
    "print(f'가격은 {price1(x)}원 입니다.')"
   ]
  },
  {
   "cell_type": "code",
   "execution_count": 118,
   "id": "20de87f1",
   "metadata": {},
   "outputs": [
    {
     "name": "stdout",
     "output_type": "stream",
     "text": [
      "가격을 입력하세요.1000\n",
      "할인된 가격은 1900.0원 입니다.\n"
     ]
    }
   ],
   "source": [
    "# price2\n",
    "try :\n",
    "    y = int(input(\"가격을 입력하세요.\"))\n",
    "    print(f'할인된 가격은 {price2(y)}원 입니다.')\n",
    "except ValueError as e:\n",
    "    print('정확한 금액을 입력하세요.')"
   ]
  },
  {
   "cell_type": "markdown",
   "id": "4c400e1d",
   "metadata": {},
   "source": [
    "#### 7/27 - Q43. strings를 문자의 크기 순서로 내림차순 정렬하세요\n",
    "strings = ['a', 'ca', 'bar', 'aaaa', 'ababa']\n"
   ]
  },
  {
   "cell_type": "code",
   "execution_count": 33,
   "id": "935da31f",
   "metadata": {},
   "outputs": [
    {
     "data": {
      "text/plain": [
       "['ababa', 'aaaa', 'bar', 'ca', 'a']"
      ]
     },
     "execution_count": 33,
     "metadata": {},
     "output_type": "execute_result"
    }
   ],
   "source": [
    "strings = ['a', 'ca', 'bar', 'aaaa', 'ababa']\n",
    "strings[::-1]"
   ]
  },
  {
   "cell_type": "code",
   "execution_count": 38,
   "id": "40bf8096",
   "metadata": {},
   "outputs": [
    {
     "data": {
      "text/plain": [
       "['ababa', 'aaaa', 'bar', 'ca', 'a']"
      ]
     },
     "execution_count": 38,
     "metadata": {},
     "output_type": "execute_result"
    }
   ],
   "source": [
    "strings = ['a', 'ca', 'bar', 'aaaa', 'ababa']\n",
    "strings.sort(key=len,reverse=True)\n",
    "strings"
   ]
  },
  {
   "cell_type": "code",
   "execution_count": 3,
   "id": "6e9695ab",
   "metadata": {},
   "outputs": [
    {
     "data": {
      "text/plain": [
       "['ababa', 'aaaa', 'bar', 'ca', 'a']"
      ]
     },
     "execution_count": 3,
     "metadata": {},
     "output_type": "execute_result"
    }
   ],
   "source": [
    "strings = ['a', 'ca', 'bar', 'aaaa', 'ababa']\n",
    "strings.sort(key = lambda x:len(x), reverse=True)\n",
    "strings"
   ]
  },
  {
   "cell_type": "code",
   "execution_count": 4,
   "id": "121ce952",
   "metadata": {},
   "outputs": [
    {
     "data": {
      "text/plain": [
       "['ababa', 'aaaa', 'bar', 'ca', 'a']"
      ]
     },
     "execution_count": 4,
     "metadata": {},
     "output_type": "execute_result"
    }
   ],
   "source": [
    "strings = ['a', 'ca', 'bar', 'aaaa', 'ababa']\n",
    "strings.reverse()\n",
    "strings"
   ]
  },
  {
   "cell_type": "markdown",
   "id": "f02d3c6f",
   "metadata": {},
   "source": [
    "#### 7/27 - Q44. strings를 다양한 문자가 포함된 순서로 정렬하세요\n",
    "```\n",
    "Q\n",
    "strings = ['foo', 'card', 'bar', 'aaaa', 'abab']\n",
    "strings.sort(key = lambda x:len(set(x)))\n",
    "strings\n",
    "```"
   ]
  },
  {
   "cell_type": "code",
   "execution_count": 32,
   "id": "0039750e",
   "metadata": {},
   "outputs": [
    {
     "data": {
      "text/plain": [
       "['aaaa', 'foo', 'abab', 'bar', 'card']"
      ]
     },
     "execution_count": 32,
     "metadata": {},
     "output_type": "execute_result"
    }
   ],
   "source": [
    "# Q.\n",
    "strings = ['foo', 'card', 'bar', 'aaaa', 'abab']\n",
    "strings.sort(key = lambda x:len(set(x)))\n",
    "strings"
   ]
  },
  {
   "cell_type": "code",
   "execution_count": 119,
   "id": "11941a32",
   "metadata": {},
   "outputs": [
    {
     "data": {
      "text/plain": [
       "['card', 'bar', 'abab', 'foo', 'aaaa']"
      ]
     },
     "execution_count": 119,
     "metadata": {},
     "output_type": "execute_result"
    }
   ],
   "source": [
    "strings = ['foo', 'card', 'bar', 'aaaa', 'abab']\n",
    "strings.sort(key = lambda x:len(set(list(x))))\n",
    "strings[::-1]"
   ]
  },
  {
   "cell_type": "markdown",
   "id": "504f5729",
   "metadata": {},
   "source": [
    "#### 7/27 - Q45.  'abcde' 를 'edcba'로 바꾸어 출력하세요.(5가지 방법)"
   ]
  },
  {
   "cell_type": "code",
   "execution_count": 31,
   "id": "95faecdc",
   "metadata": {},
   "outputs": [
    {
     "name": "stdout",
     "output_type": "stream",
     "text": [
      "edcba\n",
      "edcba\n",
      "edcba\n",
      "edcba\n",
      "edcba\n"
     ]
    }
   ],
   "source": [
    "# 1\n",
    "a = 'abcde'\n",
    "print(a[::-1])\n",
    "\n",
    "# 2\n",
    "a = 'abcde'\n",
    "print(''.join(reversed(a)))\n",
    "\n",
    "# 3\n",
    "a = 'abcde'\n",
    "b = ''\n",
    "for i in a:\n",
    "    b = i + b\n",
    "print(b)\n",
    "\n",
    "# 4\n",
    "a = 'abcde'\n",
    "li = list(a)\n",
    "\n",
    "li.reverse()\n",
    "print(''.join(li))\n",
    "\n",
    "\n",
    "# 5\n",
    "a = 'abcde'\n",
    "def rev(str):\n",
    "    if str=='': return str\n",
    "    else:\n",
    "        return rev(str[1:]) + str[0]\n",
    "print(rev(a))"
   ]
  },
  {
   "cell_type": "markdown",
   "id": "ea5ad49f",
   "metadata": {},
   "source": [
    "#### 7/28 - Q46. numbers 내부에 들어 있는 숫자가 몇 번 등장하는지를 출력하는 코드를 작성하세요.\n",
    "numbers = [3,6,3,5,8,2,9,7,4,3,6,3,5,8,2,9,7,4]\n"
   ]
  },
  {
   "cell_type": "code",
   "execution_count": 7,
   "id": "cc98bac1",
   "metadata": {},
   "outputs": [
    {
     "data": {
      "text/plain": [
       "Counter({3: 4, 6: 2, 5: 2, 8: 2, 2: 2, 9: 2, 7: 2, 4: 2})"
      ]
     },
     "execution_count": 7,
     "metadata": {},
     "output_type": "execute_result"
    }
   ],
   "source": [
    "from collections import Counter\n",
    "\n",
    "numbers = [3,6,3,5,8,2,9,7,4,3,6,3,5,8,2,9,7,4]\n",
    "count = Counter(numbers)\n",
    "count"
   ]
  },
  {
   "cell_type": "code",
   "execution_count": 1,
   "id": "d7b1f1c5",
   "metadata": {},
   "outputs": [
    {
     "data": {
      "text/plain": [
       "{3: 4, 6: 2, 5: 2, 8: 2, 2: 2, 9: 2, 7: 2, 4: 2}"
      ]
     },
     "execution_count": 1,
     "metadata": {},
     "output_type": "execute_result"
    }
   ],
   "source": [
    "numbers = [3,6,3,5,8,2,9,7,4,3,6,3,5,8,2,9,7,4]\n",
    "\n",
    "dic = {}\n",
    "for i in numbers:\n",
    "    if i in dic:\n",
    "        dic[i] += 1\n",
    "    else:\n",
    "        dic[i] = 1\n",
    "dic"
   ]
  },
  {
   "cell_type": "markdown",
   "id": "319b5a76",
   "metadata": {},
   "source": [
    "#### 7/28 - Q47. 코딩을 한줄로 작성해서 동일한 결과를 출력하세요\n"
   ]
  },
  {
   "cell_type": "code",
   "execution_count": 8,
   "id": "01b24f14",
   "metadata": {},
   "outputs": [
    {
     "name": "stdout",
     "output_type": "stream",
     "text": [
      "[0, 4, 16, 36, 64, 100, 144, 196, 256, 324]\n"
     ]
    }
   ],
   "source": [
    "# Q.\n",
    "list = []\n",
    "for i in range(0,20,2):\n",
    "    list.append(i*i)\n",
    "print(list)"
   ]
  },
  {
   "cell_type": "code",
   "execution_count": 39,
   "id": "e2774b36",
   "metadata": {},
   "outputs": [
    {
     "name": "stdout",
     "output_type": "stream",
     "text": [
      "[0, 4, 16, 36, 64, 100, 144, 196, 256, 324]\n"
     ]
    }
   ],
   "source": [
    "list=[i*i for i in range(0,20,2)]\n",
    "print(list)"
   ]
  },
  {
   "cell_type": "markdown",
   "id": "b4c8f284",
   "metadata": {},
   "source": [
    "#### 7/29 - Q48. 반복문으로 팩토리얼을 구하는 사용자 함수를 작성하고 5!, 10!를 구하세요."
   ]
  },
  {
   "cell_type": "code",
   "execution_count": 26,
   "id": "fb85d52c",
   "metadata": {},
   "outputs": [
    {
     "name": "stdout",
     "output_type": "stream",
     "text": [
      "120\n",
      "3628800\n"
     ]
    }
   ],
   "source": [
    "def factorial_for(n):\n",
    "    ret = 1\n",
    "    for i in range(1, n+1):\n",
    "        ret *= i\n",
    "    return ret\n",
    "\n",
    "\n",
    "print(factorial_for(5))\n",
    "print(factorial_for(10))"
   ]
  },
  {
   "cell_type": "markdown",
   "id": "c57420fd",
   "metadata": {},
   "source": [
    "#### 7/29 - Q49. 재귀란 '자기자신을 호출하는 것'을 의미한다. 재귀함수를 이용해서 팩토리얼을 구하는 사용자 함수를 작성하고 1!, 5!, 10!를 구하세요.\n",
    "factorial(n) = n * factorial(n-1) (n >= 1)\n"
   ]
  },
  {
   "cell_type": "code",
   "execution_count": 29,
   "id": "503bfe3f",
   "metadata": {},
   "outputs": [
    {
     "name": "stdout",
     "output_type": "stream",
     "text": [
      "1\n",
      "120\n",
      "3628800\n"
     ]
    }
   ],
   "source": [
    "def f(n):                \n",
    "    if n == 0 :\n",
    "        return 1\n",
    "    return n * f(n-1)\n",
    "print(f(1))\n",
    "print(f(5))\n",
    "print(f(10))"
   ]
  },
  {
   "cell_type": "markdown",
   "id": "d60fd44a",
   "metadata": {},
   "source": [
    "#### 7/28 - Q50. list a의 모든 원소를 실수형으로 바꾸어 출력하세요\n",
    "\n",
    "a = [1,2,3,4,5]\n"
   ]
  },
  {
   "cell_type": "code",
   "execution_count": 7,
   "id": "f537111b",
   "metadata": {},
   "outputs": [
    {
     "name": "stdout",
     "output_type": "stream",
     "text": [
      "[1.0, 2.0, 3.0, 4.0, 5.0]\n"
     ]
    }
   ],
   "source": [
    "a = [1,2,3,4,5]\n",
    "li = []\n",
    "for i in a:\n",
    "    li.append(float(i))\n",
    "print(li)"
   ]
  },
  {
   "cell_type": "code",
   "execution_count": 11,
   "id": "79c775cc",
   "metadata": {},
   "outputs": [
    {
     "ename": "TypeError",
     "evalue": "'list' object is not callable",
     "output_type": "error",
     "traceback": [
      "\u001b[1;31m---------------------------------------------------------------------------\u001b[0m",
      "\u001b[1;31mTypeError\u001b[0m                                 Traceback (most recent call last)",
      "Input \u001b[1;32mIn [11]\u001b[0m, in \u001b[0;36m<cell line: 2>\u001b[1;34m()\u001b[0m\n\u001b[0;32m      1\u001b[0m a \u001b[38;5;241m=\u001b[39m [\u001b[38;5;241m1\u001b[39m,\u001b[38;5;241m2\u001b[39m,\u001b[38;5;241m3\u001b[39m,\u001b[38;5;241m4\u001b[39m,\u001b[38;5;241m5\u001b[39m]\n\u001b[1;32m----> 2\u001b[0m \u001b[38;5;28;43mlist\u001b[39;49m\u001b[43m(\u001b[49m\u001b[38;5;28;43mmap\u001b[39;49m\u001b[43m(\u001b[49m\u001b[38;5;28;43;01mlambda\u001b[39;49;00m\u001b[43m \u001b[49m\u001b[43mx\u001b[49m\u001b[43m:\u001b[49m\u001b[38;5;28;43mfloat\u001b[39;49m\u001b[43m(\u001b[49m\u001b[43mx\u001b[49m\u001b[43m)\u001b[49m\u001b[43m,\u001b[49m\u001b[43ma\u001b[49m\u001b[43m)\u001b[49m\u001b[43m)\u001b[49m\n",
      "\u001b[1;31mTypeError\u001b[0m: 'list' object is not callable"
     ]
    }
   ],
   "source": [
    "a = [1,2,3,4,5]\n",
    "list = []\n",
    "list(map(lambda x:float(x),a))\n",
    "list(map(float,a))"
   ]
  },
  {
   "cell_type": "markdown",
   "id": "b8944690",
   "metadata": {},
   "source": [
    "#### 7/29 - Q31. 문자열 리스트 states를 정형화하여 아래와 같이 출력하세요.\n",
    "```\n",
    "# Q. \n",
    "states = ['   Alabama ', 'Georgia!', 'Georgia', 'georgia', 'FlOrIda',\n",
    "          'south   carolina##', 'West virginia?']\n",
    "[출력]\n",
    "['Alabama',\n",
    " 'Georgia',\n",
    " 'Georgia',\n",
    " 'Georgia',\n",
    " 'Florida',\n",
    " 'South   Carolina',\n",
    " 'West Virginia']\n",
    "\n",
    "```"
   ]
  },
  {
   "cell_type": "code",
   "execution_count": 8,
   "id": "20700389",
   "metadata": {},
   "outputs": [
    {
     "data": {
      "text/plain": [
       "['Alabama',\n",
       " 'Georgia',\n",
       " 'Georgia',\n",
       " 'Georgia',\n",
       " 'Florida',\n",
       " 'Southcarolina',\n",
       " 'Westvirginia']"
      ]
     },
     "execution_count": 8,
     "metadata": {},
     "output_type": "execute_result"
    }
   ],
   "source": [
    "import re\n",
    "\n",
    "states = ['   Alabama ', 'Georgia!', 'Georgia', 'georgia', 'FlOrIda',\n",
    "          'south   carolina##', 'West virginia?']\n",
    "\n",
    "def form(word):\n",
    "    word = word.strip()\n",
    "    word = re.sub('[^\\w*]+','',word)\n",
    "    word = word.title()\n",
    "    return word\n",
    "list(map(form,states))"
   ]
  },
  {
   "cell_type": "code",
   "execution_count": 9,
   "id": "ab2d26ed",
   "metadata": {
    "scrolled": true
   },
   "outputs": [
    {
     "data": {
      "text/plain": [
       "['Alabama',\n",
       " 'Georgia',\n",
       " 'Georgia',\n",
       " 'Georgia',\n",
       " 'Florida',\n",
       " 'South   Carolina',\n",
       " 'West Virginia']"
      ]
     },
     "execution_count": 9,
     "metadata": {},
     "output_type": "execute_result"
    }
   ],
   "source": [
    "import re\n",
    "\n",
    "states = ['   Alabama ', 'Georgia!', 'Georgia', 'georgia', 'FlOrIda',\n",
    "          'south   carolina##', 'West virginia?']\n",
    "\n",
    "def form(word):\n",
    "    word = word.strip()\n",
    "    word = re.sub('[#?!]+','',word)\n",
    "    word = word.title()\n",
    "    return word\n",
    "list(map(form,states))"
   ]
  },
  {
   "cell_type": "markdown",
   "id": "4a32fc99",
   "metadata": {},
   "source": [
    "#### 7/29 - Q51. 게시물의 총 건수와 한 페이지에 보여 줄 게시물 수를 입력시 총 페이지 수를 출력하는 프로그램\n"
   ]
  },
  {
   "cell_type": "code",
   "execution_count": 30,
   "id": "69844274",
   "metadata": {},
   "outputs": [
    {
     "name": "stdout",
     "output_type": "stream",
     "text": [
      "게시물 총 건수 : 50\n",
      "한 페이지에 보여줄 게시물 수 : 10\n"
     ]
    },
    {
     "data": {
      "text/plain": [
       "5"
      ]
     },
     "execution_count": 30,
     "metadata": {},
     "output_type": "execute_result"
    }
   ],
   "source": [
    "m = int(input(\"게시물 총 건수 : \"))\n",
    "n = int(input(\"한 페이지에 보여줄 게시물 수 : \"))\n",
    "\n",
    "def total_page(m,n):\n",
    "    if m % n == 0:\n",
    "        return m // n\n",
    "    else : m // n + 1\n",
    "        \n",
    "total_page(m,n)"
   ]
  },
  {
   "cell_type": "code",
   "execution_count": 31,
   "id": "0c3a5f85",
   "metadata": {},
   "outputs": [
    {
     "name": "stdout",
     "output_type": "stream",
     "text": [
      "총건수: 50\n",
      "한페이지에 보여줄 게시물수: 10\n",
      "5\n"
     ]
    }
   ],
   "source": [
    "# 게시판 페이징\n",
    "import math\n",
    "\n",
    "m = int(input('총건수: '))\n",
    "n = int(input('한페이지에 보여줄 게시물수: '))\n",
    "\n",
    "print(math.ceil(m/n))"
   ]
  },
  {
   "cell_type": "markdown",
   "id": "f9e670cc",
   "metadata": {},
   "source": [
    "#### 7/29 -  Q52. 랜덤하게 1000명의 이름, 키와 몸무게 만들어 저장한 후 다시 불러내어 다음과 같이 출력하세요.\n",
    "\n",
    "- 이름 :라바\n",
    "- 몸무게: 80\n",
    "- 키: 146\n",
    "- BMI: 37.53049352598987\n",
    "- 결과: 과체중\n"
   ]
  },
  {
   "cell_type": "code",
   "execution_count": 37,
   "id": "70f14ff9",
   "metadata": {},
   "outputs": [
    {
     "ename": "TypeError",
     "evalue": "random_name() takes 0 positional arguments but 1 was given",
     "output_type": "error",
     "traceback": [
      "\u001b[1;31m---------------------------------------------------------------------------\u001b[0m",
      "\u001b[1;31mTypeError\u001b[0m                                 Traceback (most recent call last)",
      "Input \u001b[1;32mIn [37]\u001b[0m, in \u001b[0;36m<cell line: 15>\u001b[1;34m()\u001b[0m\n\u001b[0;32m     12\u001b[0m height \u001b[38;5;241m=\u001b[39m np\u001b[38;5;241m.\u001b[39mrandom\u001b[38;5;241m.\u001b[39mnormal(\u001b[38;5;241m165\u001b[39m,\u001b[38;5;241m25\u001b[39m, size\u001b[38;5;241m=\u001b[39m\u001b[38;5;241m1000\u001b[39m)\n\u001b[0;32m     13\u001b[0m weight \u001b[38;5;241m=\u001b[39m np\u001b[38;5;241m.\u001b[39mrandom\u001b[38;5;241m.\u001b[39mnormal(\u001b[38;5;241m70\u001b[39m,\u001b[38;5;241m30\u001b[39m, size\u001b[38;5;241m=\u001b[39m\u001b[38;5;241m1000\u001b[39m)\n\u001b[1;32m---> 15\u001b[0m \u001b[43mrandom_name\u001b[49m\u001b[43m(\u001b[49m\u001b[43mname\u001b[49m\u001b[43m)\u001b[49m\n",
      "\u001b[1;31mTypeError\u001b[0m: random_name() takes 0 positional arguments but 1 was given"
     ]
    }
   ],
   "source": [
    "import numpy as np\n",
    "\n",
    "name = \"가나다라마바사아자차카타파하\"\n",
    "\n",
    "\n",
    "for i in name:\n",
    "    \n",
    "\n",
    "\n",
    "\n",
    "\n",
    "def random_name():\n",
    "    for i in name:\n",
    "        name = random_name(name)\n",
    "    result = \"\"\n",
    "    return result\n",
    "\n",
    "\n",
    "height = np.random.normal(165,25, size=1000)\n",
    "weight = np.random.normal(70,30, size=1000)\n",
    "\n",
    "random_name(name)"
   ]
  },
  {
   "cell_type": "code",
   "execution_count": null,
   "id": "190ac0fc",
   "metadata": {},
   "outputs": [],
   "source": []
  },
  {
   "cell_type": "code",
   "execution_count": null,
   "id": "2d5a8a15",
   "metadata": {},
   "outputs": [],
   "source": []
  },
  {
   "cell_type": "code",
   "execution_count": null,
   "id": "d08efd42",
   "metadata": {},
   "outputs": [],
   "source": []
  },
  {
   "cell_type": "code",
   "execution_count": null,
   "id": "7b5c7f7e",
   "metadata": {},
   "outputs": [],
   "source": []
  },
  {
   "cell_type": "code",
   "execution_count": null,
   "id": "ca98e2ec",
   "metadata": {},
   "outputs": [],
   "source": []
  },
  {
   "cell_type": "markdown",
   "id": "16e699cd",
   "metadata": {},
   "source": [
    "#### 8/1 - Q53. 입력한 숫자를 천 단위로 구분하여 출력하세요."
   ]
  },
  {
   "cell_type": "code",
   "execution_count": 16,
   "id": "e2bbfd9a",
   "metadata": {},
   "outputs": [
    {
     "name": "stdout",
     "output_type": "stream",
     "text": [
      "숫자를 입력하세요  1234567789\n",
      "1,234,567,789\n"
     ]
    }
   ],
   "source": [
    "num = int(input('숫자를 입력하세요  '))\n",
    "print(format(num, ',d'))"
   ]
  },
  {
   "cell_type": "markdown",
   "id": "4cf20587",
   "metadata": {},
   "source": [
    "#### 8/1 - Q54. 카운터에서 거스름돈으로 사용할 500원, 100원, 50원, 10원짜리 동전이 무한히 존재한다고 가정한다. 손님에게 거슬러 줘야 할 돈이 N원일 때 거슬러 줘야 할 동전의 최소 개수를 구하세요. 단, 거슬러 줘야 할 돈 N은 항상 10의 배수이다. 2750원"
   ]
  },
  {
   "cell_type": "code",
   "execution_count": 18,
   "id": "816f1f01",
   "metadata": {},
   "outputs": [
    {
     "name": "stdout",
     "output_type": "stream",
     "text": [
      "2750\n",
      "8\n"
     ]
    }
   ],
   "source": [
    "n = int(input())\n",
    "coins = [500,100,50,10]\n",
    "answer = 0\n",
    "\n",
    "for coin in coins:\n",
    "    answer += n // coin\n",
    "    n %= coin\n",
    "    \n",
    "print(answer)"
   ]
  },
  {
   "cell_type": "code",
   "execution_count": 1,
   "id": "857771ec",
   "metadata": {},
   "outputs": [
    {
     "name": "stdout",
     "output_type": "stream",
     "text": [
      "8\n"
     ]
    }
   ],
   "source": [
    "n = 2750\n",
    "count = 0\n",
    "\n",
    "# 큰 단위의 화폐부터 차례대로 확인하기\n",
    "coin_types = [500, 100, 50, 10]\n",
    "\n",
    "for coin in coin_types:\n",
    "    count += n // coin # 해당 화폐로 거슬러 줄 수 있는 동전의 개수 세기\n",
    "    n %= coin\n",
    "\n",
    "print(count)"
   ]
  },
  {
   "cell_type": "markdown",
   "id": "7d34e3b9",
   "metadata": {},
   "source": [
    "#### 8/2 - Q55. data/mydata.txt 파일에 있는 단어 개수를 출력하세요."
   ]
  },
  {
   "cell_type": "code",
   "execution_count": 9,
   "id": "56ec8e21",
   "metadata": {},
   "outputs": [
    {
     "data": {
      "text/plain": [
       "<_io.TextIOWrapper name='./mydata.txt' mode='r' encoding='cp949'>"
      ]
     },
     "execution_count": 9,
     "metadata": {},
     "output_type": "execute_result"
    }
   ],
   "source": [
    "d = open('./mydata.txt','r')\n",
    "d"
   ]
  },
  {
   "cell_type": "code",
   "execution_count": 10,
   "id": "5b809991",
   "metadata": {
    "scrolled": true
   },
   "outputs": [
    {
     "name": "stdout",
     "output_type": "stream",
     "text": [
      "단어 수 : 213\n"
     ]
    }
   ],
   "source": [
    "data = d.read()\n",
    "data1 = len(data.split())\n",
    "print(f'단어 수 : {data1}')"
   ]
  },
  {
   "cell_type": "markdown",
   "id": "6ec6849b",
   "metadata": {},
   "source": [
    "#### 8/2 - Q56. 파일이름과 특정 단어을 인자로 입력하면 그 파일에 있는 특정 단어의 개수를 반환하는 사용자 함수를 이용하여 mydata 파일에서 how의 개수를 출력하세요.\n"
   ]
  },
  {
   "cell_type": "code",
   "execution_count": 7,
   "id": "8cbdb57c",
   "metadata": {},
   "outputs": [
    {
     "name": "stdout",
     "output_type": "stream",
     "text": [
      "파일 이름을 입력하세요 > mydata.txt\n",
      "찾고 싶은 단어를 입력하세요 > how\n",
      "how의 개수: 2\n"
     ]
    }
   ],
   "source": [
    "def wordcount():\n",
    "    file_name = input('파일 이름을 입력하세요 > ')\n",
    "    find_word = input('찾고 싶은 단어를 입력하세요 > ')\n",
    "    \n",
    "    file=open(file_name,\"r\")\n",
    "    sum=0\n",
    "    for mydata in file:\n",
    "        a = mydata.split(' ')\n",
    "        for b in a:\n",
    "            c = b.count(find_word)\n",
    "            sum += c \n",
    "    print(f'{find_word}의 개수: {sum}')\n",
    "wordcount()"
   ]
  },
  {
   "cell_type": "code",
   "execution_count": 12,
   "id": "498f73f7",
   "metadata": {},
   "outputs": [
    {
     "name": "stdout",
     "output_type": "stream",
     "text": [
      "filename을 입력하세요: mydata.txt\n",
      "filename에서 개수를 구할 단어를 입력하세요: HOW\n",
      "how의 개수: 2\n"
     ]
    }
   ],
   "source": [
    "def countWord(filename, word):\n",
    "    with open(filename, 'r') as f:\n",
    "        text = f.read()\n",
    "        text = text.lower() # 대소문자 구분 없이 모두 소문자로 변환\n",
    "        pos = text.find(word)\n",
    "        count = 0\n",
    "        while pos != -1: # 단어가 없을 때까지 하나씩 카운트\n",
    "            count += 1\n",
    "            pos = text.find(word, pos+1)\n",
    "    return count\n",
    "\n",
    "filename = input('filename을 입력하세요: ')\n",
    "word = input('filename에서 개수를 구할 단어를 입력하세요: ').lower() #소문자\n",
    "ret = countWord(filename, word)\n",
    "print(f'{word}의 개수: {ret}')"
   ]
  },
  {
   "cell_type": "markdown",
   "id": "25046434",
   "metadata": {},
   "source": [
    "#### 8/3 - Q59.\n",
    "문자열을 입력받아 같은 문자가 연속적으로 반복되는 경우에 그 반복 횟수를 표시해 문자열을 압축하여 표시하세요.\n",
    "- 예) \"aaabbcccccca\" -> a3b2c6a1\n"
   ]
  },
  {
   "cell_type": "code",
   "execution_count": 2,
   "id": "f068c2e3",
   "metadata": {},
   "outputs": [
    {
     "name": "stdout",
     "output_type": "stream",
     "text": [
      "문자열을 입력하세요aaabbcccccca\n",
      "a3b2c6a1\n"
     ]
    }
   ],
   "source": [
    "string = input(\"문자열을 입력하세요\")\n",
    "\n",
    "idx = string[0]\n",
    "count = 1\n",
    "length = len(string)\n",
    "\n",
    "for i in range(1, length):\n",
    "    if string[i] == idx:\n",
    "        count += 1\n",
    "    else:\n",
    "        print('%c%d' % (idx, count), end='')\n",
    "        count = 1\n",
    "        idx=string[i]\n",
    "print(\"%c%d\" % (string[length-1], count))"
   ]
  },
  {
   "cell_type": "code",
   "execution_count": 3,
   "id": "733db063",
   "metadata": {},
   "outputs": [
    {
     "name": "stdout",
     "output_type": "stream",
     "text": [
      "문자열을 입력하세요aaaaabbbcccccaa\n",
      "a5b3c5a2\n"
     ]
    }
   ],
   "source": [
    "string = input(\"문자열을 입력하세요\")\n",
    "\n",
    "def compress(s):\n",
    "    bfr = \"\"\n",
    "    cnt = 0\n",
    "    l = \"\"\n",
    "\n",
    "    for c in s :\n",
    "        if c==bfr : cnt+=1\n",
    "        else:\n",
    "            if (bfr!=\"\") : l+=bfr+str(cnt)\n",
    "            bfr=c\n",
    "            cnt=1\n",
    "    return l+bfr+str(cnt)\n",
    "\n",
    "print(compress(string))"
   ]
  },
  {
   "cell_type": "code",
   "execution_count": 5,
   "id": "d566ae94",
   "metadata": {},
   "outputs": [
    {
     "data": {
      "text/plain": [
       "'a5b3c5a2'"
      ]
     },
     "execution_count": 5,
     "metadata": {},
     "output_type": "execute_result"
    }
   ],
   "source": [
    "from itertools import groupby\n",
    "t = 'aaaaabbbcccccaa'\n",
    "''.join(f'{x}{len(list(y))}' for x, y in groupby(t))"
   ]
  },
  {
   "cell_type": "code",
   "execution_count": 6,
   "id": "aa6f561d",
   "metadata": {},
   "outputs": [
    {
     "name": "stdout",
     "output_type": "stream",
     "text": [
      "a ['a', 'a', 'a', 'a', 'a']\n",
      "b ['b', 'b', 'b']\n",
      "c ['c', 'c', 'c', 'c', 'c']\n",
      "a ['a', 'a']\n"
     ]
    }
   ],
   "source": [
    "for x, y in groupby(t):\n",
    "    print(x, list(y))"
   ]
  },
  {
   "cell_type": "code",
   "execution_count": 5,
   "id": "a1f5e9d6",
   "metadata": {},
   "outputs": [
    {
     "data": {
      "text/plain": [
       "\"['a', 3, 'b', 2, 'c', 6, 'a', 1]\""
      ]
     },
     "execution_count": 5,
     "metadata": {},
     "output_type": "execute_result"
    }
   ],
   "source": [
    "inputs=\"aaabbcccccca\"\n",
    "ans=[]\n",
    "count=1\n",
    "\n",
    "for x in range(len(inputs)-1):\n",
    "\n",
    "    if inputs[x]==inputs[x+1]:\n",
    "\n",
    "        count+=1\n",
    "\n",
    "    else :\n",
    "        ans.append(inputs[x])\n",
    "        ans.append(count)\n",
    "        count=1\n",
    "        x+=1\n",
    "else : \n",
    "    ans.append(inputs[x])\n",
    "    ans.append(count)\n",
    "\n",
    "ans = str(ans)\n",
    "a = ''.join(ans)\n",
    "a"
   ]
  },
  {
   "cell_type": "markdown",
   "id": "eab5ade3",
   "metadata": {},
   "source": [
    "#### 8/4 - Q62.\n",
    "N개의 요소로 이루어진 배열이 있을 때 주어진 수들을 M번 더하여 가장 큰 수를 만드는 프로그램을 작성하세요. 단 배열의 특정한 인덱스(번호)에 해당하는 수가 연속해서 K번을 초과하여 더해질 수 없는 것이 특징이다.\n",
    "프로그램은 다음 조건을 만족하는 N, M, K를 공백으로 일차 입력하고 N개의 배열을 공백으로 이차 입력하면 결과물을 출력하는 방식으로 수행함.\n",
    "- 2 <= N <= 1000\n",
    "- 1 <= M <= 10000\n",
    "- 1 <= K <= 10000\n"
   ]
  },
  {
   "cell_type": "code",
   "execution_count": 2,
   "id": "43997d86",
   "metadata": {},
   "outputs": [
    {
     "name": "stdout",
     "output_type": "stream",
     "text": [
      "5 8 3\n",
      "2 3 5 4 6\n",
      "46\n"
     ]
    }
   ],
   "source": [
    "# N, M, K를 공백으로 구분하여 입력받기\n",
    "n, m, k = map(int, input().split())\n",
    "# N개의 수를 공백으로 구분하여 입력받기\n",
    "data = list(map(int, input().split()))\n",
    "\n",
    "data.sort() # 입력받은 수들 정렬하기\n",
    "first = data[n - 1] # 가장 큰 수 , 이유: sort\n",
    "second = data[n- 2] # 두 번째로 큰 수\n",
    "\n",
    "result = 0\n",
    "\n",
    "while True:\n",
    "    for i in range(k):# 가장 큰 수를 K번 더하기\n",
    "        if m == 0: # m이 0이라면 반복문 탈출\n",
    "            break\n",
    "        result += first\n",
    "        m -= 1 # 더할 때마다 1씩 빼기\n",
    "    if m == 0:# m이 0이라면 반복문 탈출\n",
    "        break\n",
    "    result += second # 두 번째로 큰 수를 한 번 더하기\n",
    "    m -= 1 # 더할 때마다 1식 빼기\n",
    "    \n",
    "print(result) # 최종 답안 출력"
   ]
  },
  {
   "cell_type": "code",
   "execution_count": 1,
   "id": "c7efacd2",
   "metadata": {},
   "outputs": [
    {
     "name": "stdout",
     "output_type": "stream",
     "text": [
      "4 10 3\n",
      "1 2 3 4\n",
      "38\n"
     ]
    }
   ],
   "source": [
    "# N, M, K를 공백으로 구분하여 입력받기\n",
    "n, m, k = map(int, input().split())\n",
    "# N개의 수를 공백으로 구분하여 입력받기\n",
    "data = list(map(int, input().split()))\n",
    "\n",
    "data.sort() # 입력받은 수들 정렬하기\n",
    "first = data[n - 1] # 가장 큰 수 , 이유: sort\n",
    "second = data[n- 2] # 두 번째로 큰 수\n",
    "# 가장 큰 수 더해지는 횟수 계산\n",
    "count = int(m / (k + 1)) * k\n",
    "count += m % (k + 1) # 나누어 떨어지지 않았을 경우\n",
    "\n",
    "result = 0\n",
    "result += count * first # 가장 큰 수 더하기\n",
    "result += (m - count) * second # 두 번째로 큰수 더하기\n",
    "\n",
    "print(result)"
   ]
  },
  {
   "cell_type": "code",
   "execution_count": null,
   "id": "a8824d13",
   "metadata": {},
   "outputs": [],
   "source": [
    "i, j = divmod(M,K)\n",
    "total_sum = sum(array_b[:i]) * 3 + array_b[i] * j"
   ]
  },
  {
   "cell_type": "markdown",
   "id": "3e7547e8",
   "metadata": {},
   "source": [
    "#### 8/5 - Q61. file1, 2의 파일 크기를 각각 구하세요.\n",
    "\n",
    "- file1 = 'data/stockcode.txt'\n",
    "- file2 = 'data/img_sample.jpg'"
   ]
  },
  {
   "cell_type": "code",
   "execution_count": 2,
   "id": "feacf915",
   "metadata": {},
   "outputs": [
    {
     "name": "stdout",
     "output_type": "stream",
     "text": [
      "File Size: 16339 bytes\n",
      "File Size: 170005 bytes\n"
     ]
    }
   ],
   "source": [
    "import os\n",
    "file_size = os.path.getsize(r'stockcode.txt') \n",
    "print('File Size:', file_size, 'bytes')\n",
    "file_size2 = os.path.getsize(r'img_sample.jpg')\n",
    "print('File Size:', file_size2, 'bytes')"
   ]
  },
  {
   "cell_type": "markdown",
   "id": "8750d79b",
   "metadata": {},
   "source": [
    "#### 8/5 - Q62.\n",
    "stockcode.txt의 105바이트 위치에서 500바이트를 읽어 그 내용은 stock_part.txt에 저장 한 후 출력하세요.\n"
   ]
  },
  {
   "cell_type": "code",
   "execution_count": 6,
   "id": "94f69617",
   "metadata": {},
   "outputs": [
    {
     "name": "stdout",
     "output_type": "stream",
     "text": [
      " 유한양행\n",
      "000101 유한양행우\n",
      "000120 대한통운\n",
      "000140 하이트홀딩스\n",
      "000141 하이트홀딩스우\n",
      "000150 두산\n",
      "000151 두산우\n",
      "000152 두산2우B\n",
      "000180 성창기업지주\n",
      "000210 대림산업\n",
      "000211 대림산업우\n",
      "000220 유유제약\n",
      "000221 유유제약1우\n",
      "000222 유유제약2우B\n",
      "000230 일동제약\n",
      "000240 한국타이어\n",
      "000270 기아차\n",
      "000300 대유신소재\n",
      "000320 디피아이홀딩스\n",
      "000321 디피아이홀딩스우\n",
      "000322 디피아이홀딩스2B\n",
      "000360 삼환기업\n",
      "000361 삼환기업우\n",
      "000370 한화손해보험\n",
      "000390 삼화페인트\n",
      "000400 롯데손해보험\n",
      "000420 로\n"
     ]
    },
    {
     "data": {
      "text/plain": [
       "500"
      ]
     },
     "execution_count": 6,
     "metadata": {},
     "output_type": "execute_result"
    }
   ],
   "source": [
    "import os\n",
    "with open('stockcode.txt','rb') as f :  # 바이트로 읽고 쓰기 rb, wb\n",
    "    f.seek(105,0)\n",
    "    body = f.read(500)\n",
    "with open('stock_part.txt','wb') as f:\n",
    "    f.write(body)\n",
    "with open('stock_part.txt','r') as f:\n",
    "    print(f.read())\n",
    "os.path.getsize('stock_part.txt')"
   ]
  },
  {
   "cell_type": "markdown",
   "id": "5522b764",
   "metadata": {},
   "source": [
    "#### 8/8 - Q63.\n",
    "네이버 검색에서 관심 주제와 기사 수를 입력하면 그만큼 출력하는 크롤링 프로그램을 작성하여 다음 사항을 수행하세요.\n",
    "\n",
    "기사 제목과 링크를 데이터프레임으로 가져온 후 본문 내용에서 한글 단어만 출력하여 형태소 분석\n",
    "최근 국내 'AI'와 관련하여 가장 많이 언급되는 단어에 대한 빈도분석 및 시각화\n",
    "AI 분야에서의 유의할 만한 트랜드 정보 및 인사이트 도출"
   ]
  },
  {
   "cell_type": "markdown",
   "id": "b19bc27e",
   "metadata": {},
   "source": [
    "#### 8/9 - Q64. \n",
    "어떠한 수 N이 1이 될 때까지 다음의 두 과정 중 하나를 반복적으로 선택하여 수행하려고 한다. 단 두번째 연산은 N이 K로 나누어 떨어질 때만 선택할 수 있다.  N과 K를 입력했을 때 N이 1이 될 때까지 1번 혹은 2번의 과정을 수행해야 하는 최소 횟수를 구하는 프로그램을 완성하세요.\n",
    "\n",
    "1. N에서 1을 뺀다.\n",
    "2. N을 K로 나눈다."
   ]
  },
  {
   "cell_type": "code",
   "execution_count": 6,
   "id": "bb45a433",
   "metadata": {},
   "outputs": [
    {
     "name": "stdout",
     "output_type": "stream",
     "text": [
      "17 4\n",
      "3\n"
     ]
    }
   ],
   "source": [
    "n, k = map(int,input().split())\n",
    "count = 0\n",
    "\n",
    "while True:\n",
    "    if n == 1:\n",
    "        break\n",
    "    if n % k == 0:\n",
    "        n //= k\n",
    "        count += 1\n",
    "    else:\n",
    "        n -= 1\n",
    "        count += 1\n",
    "print(count)"
   ]
  },
  {
   "cell_type": "markdown",
   "id": "fb4a665c",
   "metadata": {},
   "source": [
    "#### 8/10 Q65. 아래와 같이 출력하는 코드를 작성하세요.\n",
    "```\n",
    "*\n",
    "**\n",
    "***\n",
    "****\n",
    "*****\n",
    "```"
   ]
  },
  {
   "cell_type": "code",
   "execution_count": 2,
   "id": "37f399aa",
   "metadata": {},
   "outputs": [
    {
     "name": "stdout",
     "output_type": "stream",
     "text": [
      "*\n",
      "**\n",
      "***\n",
      "****\n",
      "*****\n"
     ]
    }
   ],
   "source": [
    "for i in range(5):\n",
    "    for j in range(5):\n",
    "        if j <= i :\n",
    "            print('*', end='')\n",
    "    print()"
   ]
  },
  {
   "cell_type": "code",
   "execution_count": 1,
   "id": "300ef68d",
   "metadata": {},
   "outputs": [
    {
     "name": "stdout",
     "output_type": "stream",
     "text": [
      "*\n",
      "**\n",
      "***\n",
      "****\n",
      "*****\n"
     ]
    }
   ],
   "source": [
    "for i in range(1,6):\n",
    "    print(i*'*')"
   ]
  },
  {
   "cell_type": "markdown",
   "id": "7f37a65a",
   "metadata": {},
   "source": [
    "#### 8/11 - Q66. 아래와 같이 출력하는 코드를 작성하세요.\n",
    "```\n",
    "     *\n",
    "    ***\n",
    "   *****\n",
    "  *******\n",
    " *********\n",
    "  *******\n",
    "   *****\n",
    "    ***\n",
    "     *\n",
    "```"
   ]
  },
  {
   "cell_type": "code",
   "execution_count": 18,
   "id": "bbc89246",
   "metadata": {},
   "outputs": [
    {
     "name": "stdout",
     "output_type": "stream",
     "text": [
      "     *\n",
      "    ***\n",
      "   *****\n",
      "  *******\n",
      " *********\n",
      "***********\n",
      " *********\n",
      "  *******\n",
      "   *****\n",
      "    ***\n",
      "     *\n"
     ]
    }
   ],
   "source": [
    "i = 1\n",
    "j = 5\n",
    "while i < 11 :\n",
    "    print(' '*j+'*'*i)\n",
    "    i+=2\n",
    "    j-=1\n",
    "while i > 0 :\n",
    "    print(' '*j+'*'*i)\n",
    "    i-=2\n",
    "    j+=1"
   ]
  },
  {
   "cell_type": "code",
   "execution_count": 25,
   "id": "03971931",
   "metadata": {
    "scrolled": true
   },
   "outputs": [
    {
     "name": "stdout",
     "output_type": "stream",
     "text": [
      "      *\n",
      "     ***\n",
      "    *****\n",
      "   *******\n",
      "  *********\n",
      " ***********\n",
      "  *********\n",
      "   *******\n",
      "    *****\n",
      "     ***\n",
      "      *\n"
     ]
    }
   ],
   "source": [
    "n = 6\n",
    "for i in range(1,n+1):\n",
    "    print(' '*(n-i), '*'*(2*i-1))\n",
    "for j in range(n-1, 0, -1):\n",
    "    print(' '*(n-j), '*'*(2*j-1))"
   ]
  },
  {
   "cell_type": "markdown",
   "id": "ed94a959",
   "metadata": {},
   "source": [
    "#### 8/11 - Q67. Tree의 높이와 밑동의 높이를 입력하면 해당하는 높이의 아래와 같은 Tree를 출력하는 프로그램을 작성하세요.\n",
    "```\n",
    "         *\n",
    "        ***\n",
    "       *****\n",
    "      *******\n",
    "     *********\n",
    "    ***********\n",
    "   *************\n",
    "  ***************\n",
    " *****************\n",
    "*******************\n",
    "        ***\n",
    "        ***\n",
    "        ***\n",
    "```"
   ]
  },
  {
   "cell_type": "code",
   "execution_count": 34,
   "id": "bf37be9f",
   "metadata": {},
   "outputs": [
    {
     "name": "stdout",
     "output_type": "stream",
     "text": [
      "          *\n",
      "         ***\n",
      "        *****\n",
      "       *******\n",
      "      *********\n",
      "     ***********\n",
      "    *************\n",
      "   ***************\n",
      "  *****************\n",
      " *******************\n",
      "         ***\n",
      "         ***\n",
      "         ***\n"
     ]
    }
   ],
   "source": [
    "def tree(x,y):\n",
    "    for i in range(x):\n",
    "        print(' '*(x-i) + '*'*(i*2+1))\n",
    "    for i in range(y):\n",
    "        print(' '*(x-1) + '*'*y)\n",
    "        \n",
    "tree(10,3)"
   ]
  },
  {
   "cell_type": "markdown",
   "id": "6658061d",
   "metadata": {},
   "source": [
    "#### 8/12 - Q68. 구구단을 출력하는 프로그램을 만드세요."
   ]
  },
  {
   "cell_type": "code",
   "execution_count": 1,
   "id": "d928ed37",
   "metadata": {},
   "outputs": [
    {
     "name": "stdout",
     "output_type": "stream",
     "text": [
      "2 * 1 = 2\n",
      "2 * 2 = 4\n",
      "2 * 3 = 6\n",
      "2 * 4 = 8\n",
      "2 * 5 = 10\n",
      "2 * 6 = 12\n",
      "2 * 7 = 14\n",
      "2 * 8 = 16\n",
      "2 * 9 = 18\n",
      "--------------\n",
      "3 * 1 = 3\n",
      "3 * 2 = 6\n",
      "3 * 3 = 9\n",
      "3 * 4 = 12\n",
      "3 * 5 = 15\n",
      "3 * 6 = 18\n",
      "3 * 7 = 21\n",
      "3 * 8 = 24\n",
      "3 * 9 = 27\n",
      "--------------\n",
      "4 * 1 = 4\n",
      "4 * 2 = 8\n",
      "4 * 3 = 12\n",
      "4 * 4 = 16\n",
      "4 * 5 = 20\n",
      "4 * 6 = 24\n",
      "4 * 7 = 28\n",
      "4 * 8 = 32\n",
      "4 * 9 = 36\n",
      "--------------\n",
      "5 * 1 = 5\n",
      "5 * 2 = 10\n",
      "5 * 3 = 15\n",
      "5 * 4 = 20\n",
      "5 * 5 = 25\n",
      "5 * 6 = 30\n",
      "5 * 7 = 35\n",
      "5 * 8 = 40\n",
      "5 * 9 = 45\n",
      "--------------\n",
      "6 * 1 = 6\n",
      "6 * 2 = 12\n",
      "6 * 3 = 18\n",
      "6 * 4 = 24\n",
      "6 * 5 = 30\n",
      "6 * 6 = 36\n",
      "6 * 7 = 42\n",
      "6 * 8 = 48\n",
      "6 * 9 = 54\n",
      "--------------\n",
      "7 * 1 = 7\n",
      "7 * 2 = 14\n",
      "7 * 3 = 21\n",
      "7 * 4 = 28\n",
      "7 * 5 = 35\n",
      "7 * 6 = 42\n",
      "7 * 7 = 49\n",
      "7 * 8 = 56\n",
      "7 * 9 = 63\n",
      "--------------\n",
      "8 * 1 = 8\n",
      "8 * 2 = 16\n",
      "8 * 3 = 24\n",
      "8 * 4 = 32\n",
      "8 * 5 = 40\n",
      "8 * 6 = 48\n",
      "8 * 7 = 56\n",
      "8 * 8 = 64\n",
      "8 * 9 = 72\n",
      "--------------\n",
      "9 * 1 = 9\n",
      "9 * 2 = 18\n",
      "9 * 3 = 27\n",
      "9 * 4 = 36\n",
      "9 * 5 = 45\n",
      "9 * 6 = 54\n",
      "9 * 7 = 63\n",
      "9 * 8 = 72\n",
      "9 * 9 = 81\n",
      "--------------\n"
     ]
    }
   ],
   "source": [
    "for i in range(2,10):\n",
    "    for j in range(1,10):\n",
    "        print(i, '*', j, '=', i*j )\n",
    "        if j == 9 :\n",
    "            print('--------------')"
   ]
  },
  {
   "cell_type": "code",
   "execution_count": 3,
   "id": "f88c994c",
   "metadata": {},
   "outputs": [
    {
     "name": "stdout",
     "output_type": "stream",
     "text": [
      "2 * 1 = 2\n",
      "2 * 2 = 4\n",
      "2 * 3 = 6\n",
      "2 * 4 = 8\n",
      "2 * 5 = 10\n",
      "2 * 6 = 12\n",
      "2 * 7 = 14\n",
      "2 * 8 = 16\n",
      "2 * 9 = 18\n",
      "--------------\n",
      "3 * 1 = 3\n",
      "3 * 2 = 6\n",
      "3 * 3 = 9\n",
      "3 * 4 = 12\n",
      "3 * 5 = 15\n",
      "3 * 6 = 18\n",
      "3 * 7 = 21\n",
      "3 * 8 = 24\n",
      "3 * 9 = 27\n",
      "--------------\n",
      "4 * 1 = 4\n",
      "4 * 2 = 8\n",
      "4 * 3 = 12\n",
      "4 * 4 = 16\n",
      "4 * 5 = 20\n",
      "4 * 6 = 24\n",
      "4 * 7 = 28\n",
      "4 * 8 = 32\n",
      "4 * 9 = 36\n",
      "--------------\n",
      "5 * 1 = 5\n",
      "5 * 2 = 10\n",
      "5 * 3 = 15\n",
      "5 * 4 = 20\n",
      "5 * 5 = 25\n",
      "5 * 6 = 30\n",
      "5 * 7 = 35\n",
      "5 * 8 = 40\n",
      "5 * 9 = 45\n",
      "--------------\n",
      "6 * 1 = 6\n",
      "6 * 2 = 12\n",
      "6 * 3 = 18\n",
      "6 * 4 = 24\n",
      "6 * 5 = 30\n",
      "6 * 6 = 36\n",
      "6 * 7 = 42\n",
      "6 * 8 = 48\n",
      "6 * 9 = 54\n",
      "--------------\n",
      "7 * 1 = 7\n",
      "7 * 2 = 14\n",
      "7 * 3 = 21\n",
      "7 * 4 = 28\n",
      "7 * 5 = 35\n",
      "7 * 6 = 42\n",
      "7 * 7 = 49\n",
      "7 * 8 = 56\n",
      "7 * 9 = 63\n",
      "--------------\n",
      "8 * 1 = 8\n",
      "8 * 2 = 16\n",
      "8 * 3 = 24\n",
      "8 * 4 = 32\n",
      "8 * 5 = 40\n",
      "8 * 6 = 48\n",
      "8 * 7 = 56\n",
      "8 * 8 = 64\n",
      "8 * 9 = 72\n",
      "--------------\n",
      "9 * 1 = 9\n",
      "9 * 2 = 18\n",
      "9 * 3 = 27\n",
      "9 * 4 = 36\n",
      "9 * 5 = 45\n",
      "9 * 6 = 54\n",
      "9 * 7 = 63\n",
      "9 * 8 = 72\n",
      "9 * 9 = 81\n",
      "--------------\n"
     ]
    }
   ],
   "source": [
    "for i in range(2,10):\n",
    "    for j in range(1,10):\n",
    "        print(str(i) +' * '+ str(j)+ ' = '+ str(i*j) )\n",
    "        if j == 9 :\n",
    "            print('--------------')"
   ]
  },
  {
   "cell_type": "markdown",
   "id": "e344039a",
   "metadata": {},
   "source": [
    "####  8/16 - Q69.\n",
    "아래와 같이 입력하면 N X M 행렬 형태의 숫자 카드 중에서 먼저 뽑고자 하는 카드가 포함되어 있는 행을 선택한 후 그 행에서 가장 숫자가 낮은 카드를 뽑아야 하는 규칙하에서 가장 높은 숫자가 쓰인 카드 한장의 숫자를 출력하는 프로그램을 작성하세요. \n",
    "- 첫번째 입력 : N X M 행열에 대하여 N(행), M(열)의 개수를 공백을 기준으로 입력(1<= N, M<=100)\n",
    "- 두번째 입력 : 각 행의 숫자를 공백을 기준으로 입력. 단, 각 숫자는 1 이상 10000 이하의 자연수임.\n"
   ]
  },
  {
   "cell_type": "code",
   "execution_count": 14,
   "id": "4f2039fe",
   "metadata": {},
   "outputs": [
    {
     "name": "stdout",
     "output_type": "stream",
     "text": [
      "3 3\n",
      "3 1 2\n",
      "4 1 4\n",
      "2 2 2\n",
      "2\n"
     ]
    }
   ],
   "source": [
    "n, m = map(int, input().split())\n",
    "result = 0\n",
    "\n",
    "for i in range(n):\n",
    "    data = list(map(int, input().split()))\n",
    "    min_number = min(data)\n",
    "    result = max(result, min_number)\n",
    "    \n",
    "print(result)"
   ]
  },
  {
   "cell_type": "markdown",
   "id": "8fcff4a8",
   "metadata": {},
   "source": [
    "#### 8/17 - Q70. \n",
    "Q69는 min max 함수, 정렬 등의 방법으로 문제를 풀었다. 이 문제를 다중 for문을 사용하여 풀어보세요."
   ]
  },
  {
   "cell_type": "code",
   "execution_count": 7,
   "id": "923c8f58",
   "metadata": {},
   "outputs": [
    {
     "name": "stdout",
     "output_type": "stream",
     "text": [
      "3 3\n",
      "3 1 2\n",
      "4 1 4\n",
      "2 2 2\n",
      "2\n"
     ]
    }
   ],
   "source": [
    "n, m = map(int, input().split())\n",
    "result = 0\n",
    "\n",
    "for i in range(n) :\n",
    "    x = list(map(int, input().split()))\n",
    "    search = 10001\n",
    "    for j in x :\n",
    "        search = min(search, j)\n",
    "    result = max(result, search)\n",
    "\n",
    "print(result)"
   ]
  },
  {
   "cell_type": "markdown",
   "id": "559a6480",
   "metadata": {},
   "source": [
    "#### 8/17 - Q71.\n",
    "여행가 A는 N X N 크기의 정사각형 공간에 서 있다. A는 6개의 이동 명령 계획에 따라 움직이게 된다. 이동 명령은 L(왼쪽), R(오른쪽), U(윗쪽), D(아랫쪽)로 구성되며 R R R U D D와 같이 6개이다. 정사각형 공간을 벗어나는 움직임은 무시된다. 언급한 규칙에 따라 N과 이동 명령 계획으로 각각 5와 R R R U D D를 입력하면 A의 공간 좌표는 3 4가 된다. 이동 명력 계획서가 주어질 때 A가 최종적으로 도착할 지점의 좌표를 출력하는 프로그램을 작성하시오.\n"
   ]
  },
  {
   "cell_type": "code",
   "execution_count": 19,
   "id": "d4f9fe54",
   "metadata": {},
   "outputs": [
    {
     "name": "stdout",
     "output_type": "stream",
     "text": [
      "5\n",
      "R R R U D D\n",
      "3 4\n"
     ]
    }
   ],
   "source": [
    "n = int(input())\n",
    "x, y = 1, 1\n",
    "plans = input().split()\n",
    "\n",
    "dx = [0, 0, -1, 1]\n",
    "dy = [-1, 1, 0, 0]\n",
    "direction = ['L', 'R', 'U', 'D']\n",
    "\n",
    "for plan in plans:\n",
    "    for i in range(len(direction)):\n",
    "        if plan == direction[i]:\n",
    "            nowx = x + dx[i]\n",
    "            nowy = y + dy[i]\n",
    "            \n",
    "    if nowx < 1 or nowy < 1 or nowx > n or nowy > n :\n",
    "        continue\n",
    "    x, y = nowx, nowy\n",
    "\n",
    "print(x, y)"
   ]
  },
  {
   "cell_type": "code",
   "execution_count": null,
   "id": "36c22e9b",
   "metadata": {},
   "outputs": [],
   "source": [
    "# 민섭님이 한거 가져오기 아주 이해가 쏙쏙 댐"
   ]
  },
  {
   "cell_type": "markdown",
   "id": "acc0d750",
   "metadata": {},
   "source": [
    "#### 8/18 -  Q72.\n",
    "정수 N이 입력되면 00시 00분 00초부터 N시 59분 59초까지의 모든 시각 중에서 3이 하나라도 포함되는 모든 경우의 수를 구하는 프로그램을 작성하시오.(0<= N <=23)\n"
   ]
  },
  {
   "cell_type": "code",
   "execution_count": 1,
   "id": "66a41c43",
   "metadata": {},
   "outputs": [],
   "source": [
    "# 7을 입력하면 14625 << 경우의 수"
   ]
  },
  {
   "cell_type": "code",
   "execution_count": 2,
   "id": "03698116",
   "metadata": {},
   "outputs": [
    {
     "name": "stdout",
     "output_type": "stream",
     "text": [
      "7\n",
      "14625\n"
     ]
    }
   ],
   "source": [
    "n = int(input())\n",
    "result = 0\n",
    "\n",
    "for i in range(n+1) :\n",
    "    for j in range(60) :\n",
    "        for k in range(60) :\n",
    "            if '3' in str(i) + str(j) + str(k) :\n",
    "                result += 1\n",
    "\n",
    "print(result)"
   ]
  },
  {
   "cell_type": "markdown",
   "id": "efef4ed1",
   "metadata": {},
   "source": [
    "#### 8/19 - Q73.\n",
    "행 위치는 1~8로 열 위치는 a ~ h로 표현하는 8 x 8 좌표 평면상에서 특정 위치가 주어졌을 때 아래 조건하에서 그 위치에서 이동할 수 있는 경우의 수를 출력하는 프로그램을 작성하세요.\n",
    "- 수평으로 두 칸 이동한 뒤에 수직으로 한 칸 이동\n",
    "- 수직으로 두 칸 이동한 뒤에 수평으로 한 칸 이동\n",
    "- 8 x 8 좌표 평면을 나갈 수 없음"
   ]
  },
  {
   "cell_type": "code",
   "execution_count": 3,
   "id": "2e52bb99",
   "metadata": {},
   "outputs": [
    {
     "name": "stdout",
     "output_type": "stream",
     "text": [
      "입력 값 : a1\n",
      "경우의 수 : 2\n"
     ]
    }
   ],
   "source": [
    "start = input('입력 값 : ')\n",
    "\n",
    "x = int(start[1])\n",
    "y_list = ['a','b','c','d','e','f','g','h']\n",
    "y = y_list.index(start[0])+1\n",
    "\n",
    "steps = [(-2,-1),(-2,1),(2,-1),(2,1),(-1,-2),(-1,2),(1,-2),(1,2)]\n",
    "\n",
    "count = 0\n",
    "for step in steps:\n",
    "    nx = x + step[0]\n",
    "    ny = y + step[1]\n",
    "    \n",
    "    if (nx >= 1 & nx <= 8 & ny >= 1 & ny <= 8):\n",
    "        count += 1\n",
    "        \n",
    "print(f'경우의 수 : {count}')"
   ]
  },
  {
   "cell_type": "markdown",
   "id": "aed4e49f",
   "metadata": {},
   "source": [
    "#### 8/22 - Q74.\n",
    "캐릭터는 매뉴얼에 따라 이동한다. 아래 입력조건에 따라 캐릭터가 방문한 칸의 수를 출력하는 프로그램을 작성하세요.\n",
    "\n",
    "- 입력조건\n",
    "  - 첫째 줄에 맵의 세로 크기 N과 가로 크기 M을 공백으로 구분하여 입력 (3 <= N,M <=50)\n",
    "  - 둘째 줄에 게임 캐릭터가 있는 칸의 좌표 (A,B)와 바라보는 방향 d가 각각 서로 공백으로 구분하여 입력(방향 d의 값으로는 북, 동, 남, 서가 각각 0,1,2,3)\n",
    "  - 세째 줄에 맵이 육지인지 바다인지에 대한 정보 입력(육지 0, 바다 1) N개의 줄에 맵의 상태가 북쪽으로 부터 남쪽순서대로 각 줄의 데이터는 서쪽부터 동쪽 순서대로 주어진다.\n",
    "  - 처음에 캐릭터가 위치한 칸의 상태는 항상 육지이다.\n",
    "\n",
    "\n",
    "- 매뉴얼<BR>\n",
    "  캐릭터가 있는 장소는 1 X 1 크기의 정사각형으로 이루어진 N X M 크기의 직사각형으로 각각의 칸은 육지 또는 바다이다.캐릭터는 동서남북 중 한 곳을 바라본다. 맵의 각 칸은 (A, B)로 나타낼 수 있고 A는 북쪽으로부터 떨어진 칸의 개수, B는 서쪽으로부터 떨어진 칸의 개수이다.캐릭터는 상하좌우로 움직일 수 있고 바다로 되어 있는 공간에는 갈 수 없다. 캐릭터의 움직임 설정을 위한 매뉴얼은 아래와 같다.\n",
    "  - 현재 위치에서 현재 방향을 기준으로 왼쪽 방향부터 차례대로 갈 곳을 정한다.\n",
    "  - 캐릭터의 바로 왼쪽 방향에 아직 가보지 않은 칸이 존재한다면 왼쪽 방향으로 회전한 다음 왼쪽으로 한 칸을 전진한다. 왼쪽 방향에 가보지 않은 칸이 없다면 왼쪽 방향으로 회전만 수행하고 1단계로 돌아간다.\n",
    "  - 만약 네 방향 모두 이미 가본 칸이거나 바다로 되어 있는 칸인 경우에는 바라보는 방향을 유지한 채로 한 칸 뒤로 가고 1단계로 돌아간다. 단, 이때 뒤쪽 방향이 바다인 칸이라 뒤로 갈수 없는 경우에는 움직임을 멈춘다.\n"
   ]
  },
  {
   "cell_type": "code",
   "execution_count": null,
   "id": "9957bd0e",
   "metadata": {},
   "outputs": [],
   "source": [
    "4 4 -> 4 X 4 칸\n",
    "1 1 0 -> 좌표, 북 쪽\n",
    "?????????????????\n",
    "1 1 1 1\n",
    "1 0 0 1\n",
    "1 1 0 1\n",
    "1 1 1 1\n",
    "\n",
    "3"
   ]
  },
  {
   "cell_type": "code",
   "execution_count": null,
   "id": "5a2f5da4",
   "metadata": {},
   "outputs": [],
   "source": [
    "# 어렵군\n",
    "\n",
    "한번더,, "
   ]
  },
  {
   "cell_type": "code",
   "execution_count": 3,
   "id": "55c4b638",
   "metadata": {},
   "outputs": [
    {
     "name": "stdout",
     "output_type": "stream",
     "text": [
      "[5, 2, 3, 1]\n",
      "[1, 3, 2, 5]\n"
     ]
    }
   ],
   "source": [
    "# 스택 : 박스 쌓기에 비유. 선입후출 구조\n",
    "\n",
    "stack=[]\n",
    "stack.append(5)\n",
    "stack.append(2)\n",
    "stack.append(3)\n",
    "stack.append(7)\n",
    "stack.pop()\n",
    "stack.append(1)\n",
    "stack.append(4)\n",
    "stack.pop()\n",
    "\n",
    "print(stack)\n",
    "print(stack[::-1])"
   ]
  },
  {
   "cell_type": "code",
   "execution_count": 6,
   "id": "8f7284a3",
   "metadata": {},
   "outputs": [
    {
     "name": "stdout",
     "output_type": "stream",
     "text": [
      "deque([3, 7, 1, 4])\n",
      "deque([4, 1, 7, 3])\n"
     ]
    }
   ],
   "source": [
    "# 큐 : 먼저 온 사람이 먼저 들어간다. 선입선출 구조\n",
    "\n",
    "from collections import deque\n",
    "queue = deque()\n",
    "\n",
    "queue.append(5)\n",
    "queue.append(2)\n",
    "queue.append(3)\n",
    "queue.append(7)\n",
    "queue.popleft()\n",
    "queue.append(1)\n",
    "queue.append(4)\n",
    "queue.popleft()\n",
    "\n",
    "print(queue)\n",
    "queue.reverse()\n",
    "print(queue)"
   ]
  },
  {
   "cell_type": "markdown",
   "id": "46bc3d08",
   "metadata": {},
   "source": [
    "#### 8/24 - Q75.\n",
    "N X M 크기의 얼음 틀로 한번에 만들 수 있는 아이스크림의 개수를 아래 입력조건에 따라 출력하는 프로그램을 DFS(Depth First Search)를 이용하여 작성하세요. \n",
    " \n",
    "- 입력조건\n",
    "  - 첫번째 줄에 얼음 틀의 세로 길이 N과 가로 길이 M이 주어진다.(1 <= N,M <= 1000)\n",
    "  - 두번째 줄부터 N+1번째 줄까지 얼음 틀의 형태가 주어진다.\n",
    "  - 이때 구멍이 뚫려있는 부분은 0 그렇지 않은 부분은 1이다.\n",
    "  - 구멍이 뚫려 있는 부분끼리 상, 하, 좌, 우로 붙어 있는 경우 서로 연결되어 있는 것으로 간주한다.\n"
   ]
  },
  {
   "cell_type": "markdown",
   "id": "a1bc5a61",
   "metadata": {},
   "source": [
    "##### DFS : 깊이 우선 탐색 : 선입후출"
   ]
  },
  {
   "cell_type": "code",
   "execution_count": null,
   "id": "59c874d8",
   "metadata": {},
   "outputs": [],
   "source": [
    "# 선입후출"
   ]
  },
  {
   "cell_type": "code",
   "execution_count": null,
   "id": "e9aa4f1f",
   "metadata": {},
   "outputs": [],
   "source": [
    "5 5\n",
    "00110\n",
    "00011\n",
    "11111\n",
    "00111\n",
    "11000"
   ]
  },
  {
   "cell_type": "markdown",
   "id": "7a142f66",
   "metadata": {},
   "source": [
    "입력 : 가로, 세로 길이 (5 5) (M N) M이 열 N이 행\n",
    "입력 : 구멍 0, 막힌거 1 이것도 입력 (0 0 1 1 0) x5\n",
    "출력 : 아이스크림 몇개?\n",
    "\n",
    "배열 x 리스트로\n",
    "\n",
    "input"
   ]
  },
  {
   "cell_type": "code",
   "execution_count": 1,
   "id": "f32c0ed9",
   "metadata": {},
   "outputs": [
    {
     "name": "stdout",
     "output_type": "stream",
     "text": [
      "1 번째 재귀함수에서 2 번째 재귀함수를 호출합니다.\n",
      "2 번째 재귀함수에서 3 번째 재귀함수를 호출합니다.\n",
      "3 번째 재귀함수에서 4 번째 재귀함수를 호출합니다.\n",
      "4 번째 재귀함수에서 5 번째 재귀함수를 호출합니다.\n",
      "4 번째 재귀함수를 호출합니다.\n",
      "3 번째 재귀함수를 호출합니다.\n",
      "2 번째 재귀함수를 호출합니다.\n",
      "1 번째 재귀함수를 호출합니다.\n"
     ]
    }
   ],
   "source": [
    "ii = int(input('숫자 입력'))\n",
    "def recursive_function(i):\n",
    "    if i == ii:\n",
    "        return\n",
    "    print(i, '번째 재귀함수에서', i+1, '번째 재귀함수를 호출합니다.')\n",
    "    recursive_function(i+1)\n",
    "    print(i, '번째 재귀함수를 호출합니다.')\n",
    "recursive_function(1)"
   ]
  },
  {
   "cell_type": "code",
   "execution_count": null,
   "id": "f3be0283",
   "metadata": {},
   "outputs": [],
   "source": [
    "# N, M을 공백을 기준으로 구분하여 입력 받기\n",
    "n, m = map(int, input().split())\n",
    "\n",
    "# 2차원 리스트의 맵 정보 입력 받기\n",
    "graph = []\n",
    "for i in range(n):\n",
    "    graph.append(list(map(int, input())))\n",
    "\n",
    "# DFS로 특정한 노드를 방문한 뒤에 연결된 모든 노드들도 방문\n",
    "def dfs(x, y):\n",
    "    # 주어진 범위를 벗어나는 경우에는 즉시 종료\n",
    "    if x <= -1 or x >= n or y <= -1 or y >= m:\n",
    "        return False\n",
    "    # 현재 노드를 아직 방문하지 않았다면\n",
    "    if graph[x][y] == 0:\n",
    "        # 해당 노드 방문 처리\n",
    "        graph[x][y] = 1\n",
    "        # 상, 하, 좌, 우의 위치들도 모두 재귀적으로 호출\n",
    "        dfs(x - 1, y)\n",
    "        dfs(x, y - 1)\n",
    "        dfs(x + 1, y)\n",
    "        dfs(x, y + 1)\n",
    "        return True\n",
    "    return False\n",
    "\n",
    "# 모든 노드(위치)에 대하여 음료수 채우기\n",
    "result = 0\n",
    "for i in range(n):\n",
    "    for j in range(m):\n",
    "        # 현재 위치에서 DFS 수행\n",
    "        if dfs(i, j) == True:\n",
    "            result += 1\n",
    "\n",
    "print(result) # 정답 출력"
   ]
  },
  {
   "cell_type": "markdown",
   "id": "7068a857",
   "metadata": {},
   "source": [
    "#### 8/25 - Q76.\n",
    "10! 재귀함수를 사용해서 팩토리얼 만들기"
   ]
  },
  {
   "cell_type": "code",
   "execution_count": 6,
   "id": "cf83ce73",
   "metadata": {},
   "outputs": [
    {
     "data": {
      "text/plain": [
       "3628800"
      ]
     },
     "execution_count": 6,
     "metadata": {},
     "output_type": "execute_result"
    }
   ],
   "source": [
    "def factorial_iterative(n):\n",
    "    result = 1\n",
    "    for i in range(1, n+1):\n",
    "        result *= i\n",
    "    return result\n",
    "factorial_iterative(10)"
   ]
  },
  {
   "cell_type": "code",
   "execution_count": 2,
   "id": "ce7209c1",
   "metadata": {},
   "outputs": [
    {
     "data": {
      "text/plain": [
       "3628800"
      ]
     },
     "execution_count": 2,
     "metadata": {},
     "output_type": "execute_result"
    }
   ],
   "source": [
    "def fac(n):\n",
    "    if n == 1:\n",
    "        return 1\n",
    "    return n * fac(n-1)\n",
    "fac(10)"
   ]
  },
  {
   "cell_type": "markdown",
   "id": "371c5dd6",
   "metadata": {},
   "source": [
    "#### 8/30(재도전) - 8/26 - Q77.\n",
    "N X M 크기의 미로에는 여러마리의 괴물이 있어 이를 피해 탈출해야 한다. 주인공의 위치는 (1,1)이고 미로의 출구는 (N-1,M-1)의 위치에 존재하며 한번에 한칸씩 이동할 수 있다. 괴물이 있는 부분은 0, 없는 부분은 1로 표시되어 있으며 미로는 반드시 탈출할 수 있는 형태로 제시된다. 주인공이 탈출하기 위해 움직여야 하는 최소 칸의 개수를 구하세요. 칸을 셀 때는 시작 칸과 마지막 칸을 모두 포함하여 계산하고 입력 조건은 아래와 같다.(BFS를 이용)\n",
    "- 첫째 줄에 두 정수 N,M(4<=N,M<=200)이 주어진다. \n",
    "- 다음 N개의 줄에는 각각 M개의 정수(0 혹은 1)로 미로의 정보가 주어진다. 각각의 수들은 공백없이 붙여서 입력으로 제시된다. \n",
    "- 또한 시작칸과 마지막칸은 항상 1이다.\n"
   ]
  },
  {
   "cell_type": "code",
   "execution_count": null,
   "id": "4bd020e1",
   "metadata": {},
   "outputs": [],
   "source": [
    "5 5\n",
    "11011\n",
    "01011\n",
    "01111\n",
    "11011\n",
    "10111\n",
    "9"
   ]
  },
  {
   "cell_type": "code",
   "execution_count": 4,
   "id": "a3990896",
   "metadata": {},
   "outputs": [
    {
     "name": "stdout",
     "output_type": "stream",
     "text": [
      "5 5\n",
      "11011\n",
      "01011\n",
      "01111\n",
      "11011\n",
      "10111\n",
      "9\n"
     ]
    }
   ],
   "source": [
    "from collections import deque\n",
    "\n",
    "# N, M을 공백으로 구분하여 입력받기\n",
    "n,m=map(int,input().split())\n",
    "\n",
    "# 2차원 리스트의 맵 정보 입력받기\n",
    "graph=[]\n",
    "for i in range(n):\n",
    "    graph.append(list(map(int,input())))\n",
    "\n",
    "# 이동할 네 방향 정의(상, 하, 좌, 우), x는 위쪽에서 떨어진 위치, y는 좌측에서 떨어진 위치 \n",
    "dx = [-1,1,0,0]\n",
    "dy = [0,0,-1,1]\n",
    "\n",
    "# BFS 소스코드 구현\n",
    "def bfs(x,y):\n",
    "    # 큐 구현을 위해 deque 라이브러리 사용\n",
    "    queue = deque()\n",
    "    queue.append((x,y))\n",
    "    # 큐가 빌 때까지 반복\n",
    "\n",
    "    while queue:\n",
    "            x,y = queue.popleft()\n",
    "            # 현재 위치에서 네 방향으로의 위치 확인\n",
    "            for i in range(4):\n",
    "                nx = x + dx[i]\n",
    "                ny = y + dy[i]\n",
    "                # 미로 찾기 공간을 벗어난 경우 무시\n",
    "                if nx < 0 or ny < 0 or nx >= n or ny >=m:\n",
    "                    continue\n",
    "                    # 괴물인 경우 무시\n",
    "                if graph[nx][ny] == 0:\n",
    "                    continue\n",
    "                    # 해당 노드를 처음 방문하는 경우에만 최단 거리 기록\n",
    "                if graph[nx][ny] == 1:\n",
    "                    graph[nx][ny] =graph[x][y] + 1\n",
    "                    queue.append((nx,ny))\n",
    "\n",
    "        # 가장 오른쪽 아래까지의 최단 거리 반환(이동할 때마다 1씩 추가하기 때문에 탈출시에 최종 이동한 칸의 개수가 만들어짐)\n",
    "    return graph[n-1][m-1]\n",
    "\n",
    "# BFS를 수행한 결과 출력\n",
    "print(bfs(0,0))"
   ]
  },
  {
   "cell_type": "markdown",
   "id": "c3e061fb",
   "metadata": {},
   "source": [
    "#### 0830 - Q78.\n",
    "소수란 2보다 큰 자연수 중에서 1과 자기자신을 제외한 자연수로는 나누어떨어지지 않는 자연수이다. 어떠한 자연수가 소수인지 아닌지 판별하는 프로그램을 작성하세요.\n"
   ]
  },
  {
   "cell_type": "code",
   "execution_count": 2,
   "id": "161d0cb2",
   "metadata": {},
   "outputs": [
    {
     "data": {
      "text/plain": [
       "(False, True)"
      ]
     },
     "execution_count": 2,
     "metadata": {},
     "output_type": "execute_result"
    }
   ],
   "source": [
    "def prime_num(x):\n",
    "    for i in range(2,x):\n",
    "        if x % i == 0:\n",
    "            return False\n",
    "    return True\n",
    "prime_num(4),prime_num(7)"
   ]
  },
  {
   "cell_type": "code",
   "execution_count": 1,
   "id": "bd60f596",
   "metadata": {},
   "outputs": [
    {
     "name": "stdout",
     "output_type": "stream",
     "text": [
      "False\n",
      "True\n"
     ]
    }
   ],
   "source": [
    "def is_prime_number(x):\n",
    "    for i in range(2,x):\n",
    "        if x % i == 0:\n",
    "            return False\n",
    "    return True\n",
    "print(is_prime_number(4))\n",
    "print(is_prime_number(7))"
   ]
  },
  {
   "cell_type": "markdown",
   "id": "10bfa037",
   "metadata": {},
   "source": [
    "#### 0831 - Q79.\n",
    "M 이상 N 이하의 소수를 모두 출력하는 프로그램을 작성하세요.\n",
    "- 입력조건\n",
    "  - 첫째 줄에 자연수 M과 N이 빈칸을 사이에 두고 주어진다.(1<=M<=N<=1,000,000)\n",
    "  - 단 M이상 N 이하의 소수가 하나 이상 있는 입력만 주어진다.\n"
   ]
  },
  {
   "cell_type": "code",
   "execution_count": 4,
   "id": "717e5353",
   "metadata": {},
   "outputs": [
    {
     "name": "stdout",
     "output_type": "stream",
     "text": [
      "10 20\n"
     ]
    },
    {
     "data": {
      "text/plain": [
       "[11, 13, 17, 19]"
      ]
     },
     "execution_count": 4,
     "metadata": {},
     "output_type": "execute_result"
    }
   ],
   "source": [
    "m,n = map(int,input().split())\n",
    "\n",
    "def prime_num(x):\n",
    "    for i in range(2,x):\n",
    "        if x % i == 0:\n",
    "            return False\n",
    "    return x\n",
    "\n",
    "li=[]\n",
    "for i in range(m,n):\n",
    "    if prime_num(i):\n",
    "        li.append(i)\n",
    "    else:\n",
    "        pass\n",
    "li"
   ]
  },
  {
   "cell_type": "markdown",
   "id": "6b307d59",
   "metadata": {},
   "source": [
    "#### 0902_Q80.\n",
    "\n",
    "암호는 서로 다른 L개의 알파벳 소문자들로 구성되며 최소 한 개의 모음(a, e, i, o, u)과 최소 두 개의 자음으로 구성되어 있다고 알려져 있다. 또한 정렬된 문자열을 선호하는 직원들의 성향으로 미루어 보아 암호를 이루는 알파벳이 암호에서 증가하는 순서로 배열되었을 것이라고 추측된다. 즉, abc는 가능성이 있는 암호이지만 bac는 그렇지 않다. 새 보안 시스템에서 직원들이 암호로 사용했을 법한 문자의 종류는 C가지가 있다고 한다. 이 알파벳을 입수한 james, kevin 형제는 직원들의 방에 침투하기 위해 암호를 추측해 보려고 한다. C개의 문자들이 모두 주어졌을 때, 가능성 있는 암호들을 모두 구하는 프로그램을 다음 사항에 유의하여 작성하시오.\n",
    "- 첫째 줄에 두 정수 L, C가 주어진다. (3 ≤ L ≤ C ≤ 15) 다음 줄에는 C개의 문자들이 공백으로 구분되어 주어진다. 주어지는 문자들은 알파벳 소문자이며, 중복되는 것은 없다.\n",
    "- 각 줄에 하나씩, 사전식으로 가능성 있는 암호를 모두 출력한다.\n"
   ]
  },
  {
   "cell_type": "code",
   "execution_count": null,
   "id": "9fdedff2",
   "metadata": {},
   "outputs": [],
   "source": [
    "4 6\n",
    "\n",
    "a t c i s w\n",
    "acis\n",
    "acit\n",
    "acsw..."
   ]
  },
  {
   "cell_type": "markdown",
   "id": "3122cec1",
   "metadata": {},
   "source": [
    "#### 0905_Q81.\n",
    "파이썬의 itertools 라이브러리를 활용하여 리스트 data = ['A','B','C']로 부터 아래 문제를 풀어보세요.\n",
    "- 3개를 뽑아 나열하는 모든 경우를 출력하세요(중복 허용안됨)\n",
    "- 3개를 뽑아 나열하는 모든 경우를 출력하세요(중복 허용)\n",
    "- 3개를 뽑아 순서에 상관없이 나열하는 모든 경우를 출력하세요(중복 허용안됨)\n",
    "- 3개를 뽑아 순서에 상관없이 나열하는 모든 경우를 출력하세요(중복 허용)\n"
   ]
  },
  {
   "cell_type": "code",
   "execution_count": 1,
   "id": "2f809f52",
   "metadata": {},
   "outputs": [
    {
     "name": "stdout",
     "output_type": "stream",
     "text": [
      "('A', 'B', 'C')\n"
     ]
    }
   ],
   "source": [
    "from itertools import combinations\n",
    "\n",
    "data = ['A','B','C']\n",
    "\n",
    "for i in combinations(data,3):\n",
    "    print(i)    "
   ]
  },
  {
   "cell_type": "code",
   "execution_count": 3,
   "id": "16c6c081",
   "metadata": {
    "scrolled": true
   },
   "outputs": [
    {
     "name": "stdout",
     "output_type": "stream",
     "text": [
      "('A', 'A', 'A')\n",
      "('A', 'A', 'B')\n",
      "('A', 'A', 'C')\n",
      "('A', 'B', 'B')\n",
      "('A', 'B', 'C')\n",
      "('A', 'C', 'C')\n",
      "('B', 'B', 'B')\n",
      "('B', 'B', 'C')\n",
      "('B', 'C', 'C')\n",
      "('C', 'C', 'C')\n"
     ]
    }
   ],
   "source": [
    "from itertools import combinations_with_replacement\n",
    "\n",
    "data = ['A','B','C']\n",
    "\n",
    "for i in combinations_with_replacement(data,3):\n",
    "    print(i)"
   ]
  },
  {
   "cell_type": "code",
   "execution_count": 4,
   "id": "d2f99e5f",
   "metadata": {},
   "outputs": [
    {
     "name": "stdout",
     "output_type": "stream",
     "text": [
      "('A', 'B', 'C')\n",
      "('A', 'C', 'B')\n",
      "('B', 'A', 'C')\n",
      "('B', 'C', 'A')\n",
      "('C', 'A', 'B')\n",
      "('C', 'B', 'A')\n"
     ]
    }
   ],
   "source": [
    "from itertools import permutations\n",
    "\n",
    "data = ['A', 'B', 'C']\n",
    "\n",
    "for i in permutations(data):\n",
    "    print(i)"
   ]
  },
  {
   "cell_type": "code",
   "execution_count": null,
   "id": "1d7f0afd",
   "metadata": {},
   "outputs": [],
   "source": []
  },
  {
   "cell_type": "code",
   "execution_count": null,
   "id": "7b6e952b",
   "metadata": {},
   "outputs": [],
   "source": []
  },
  {
   "cell_type": "code",
   "execution_count": null,
   "id": "dd53f9f5",
   "metadata": {},
   "outputs": [],
   "source": []
  },
  {
   "cell_type": "code",
   "execution_count": null,
   "id": "54972ffe",
   "metadata": {},
   "outputs": [],
   "source": []
  },
  {
   "cell_type": "markdown",
   "id": "45242afb",
   "metadata": {},
   "source": [
    "#### 0907 - Q82.\n",
    "아래사항을 참조, 파이썬의 heapq 라이브러리를 활용하여 주어진 리스트 iterable = [1,3,5,7,9,2,4,6,8,0]을 힙 정렬하여 출력하세요.\n",
    "- 최소 힙 : heap 역할을 할 빈 리스트를 선언해주고, heappush 메소드의 매개변수로 해당 리스트와 추가하고자 하는 값을 넣어주면 리스트에 힙 정렬이 되게 원하는 값이 삽입된다.\n",
    "- 최대 힙 : heapq에서는 최대 힙을 제공하지 않는다. 따라서 부호를 변경하는 방법을 사용해서 최대 힙을 구현한다.\n"
   ]
  },
  {
   "cell_type": "markdown",
   "id": "fcf68559",
   "metadata": {},
   "source": [
    "#### 0913 - Q83.\n",
    "파이썬 bisect 라이브러리를 활용하여 리스트 a = [1,2,3,3,3,4,4,8,9] 로 부터 아래 문제들을 풀어보세요.\n",
    "- 값이 4인 데이터 개수 출력\n",
    "- 값이 [-1,3] 범위에 있는 데이터 개수 출력\n"
   ]
  },
  {
   "cell_type": "code",
   "execution_count": null,
   "id": "3760221f",
   "metadata": {},
   "outputs": [],
   "source": []
  },
  {
   "cell_type": "code",
   "execution_count": null,
   "id": "ebc8878c",
   "metadata": {},
   "outputs": [],
   "source": []
  },
  {
   "cell_type": "code",
   "execution_count": null,
   "id": "318d5ee3",
   "metadata": {},
   "outputs": [],
   "source": []
  },
  {
   "cell_type": "code",
   "execution_count": null,
   "id": "05b53988",
   "metadata": {},
   "outputs": [],
   "source": []
  },
  {
   "cell_type": "code",
   "execution_count": null,
   "id": "1f5cf11d",
   "metadata": {},
   "outputs": [],
   "source": []
  }
 ],
 "metadata": {
  "kernelspec": {
   "display_name": "Python 3 (ipykernel)",
   "language": "python",
   "name": "python3"
  },
  "language_info": {
   "codemirror_mode": {
    "name": "ipython",
    "version": 3
   },
   "file_extension": ".py",
   "mimetype": "text/x-python",
   "name": "python",
   "nbconvert_exporter": "python",
   "pygments_lexer": "ipython3",
   "version": "3.8.13"
  },
  "toc": {
   "base_numbering": 1,
   "nav_menu": {},
   "number_sections": false,
   "sideBar": true,
   "skip_h1_title": false,
   "title_cell": "Table of Contents",
   "title_sidebar": "Contents",
   "toc_cell": false,
   "toc_position": {},
   "toc_section_display": true,
   "toc_window_display": false
  },
  "widgets": {
   "application/vnd.jupyter.widget-state+json": {
    "state": {},
    "version_major": 2,
    "version_minor": 0
   }
  }
 },
 "nbformat": 4,
 "nbformat_minor": 5
}
