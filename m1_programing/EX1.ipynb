{
 "cells": [
  {
   "cell_type": "markdown",
   "id": "b1b4641b",
   "metadata": {},
   "source": [
    "#### 7/13 -  Q1. 남녀 파트너 정해주기 프로그램(zip) \n",
    "같은 수의 남녀 모임에서 파트너를 랜덤하게 정해주는 프로그램을 만들어 보세요\n",
    "\n",
    "male = ['철수','갑돌','로미오','이몽룡','온돌']\n",
    "\n",
    "female = ['미미','갑순','줄리엣','성춘향','평강']"
   ]
  },
  {
   "cell_type": "code",
   "execution_count": 3,
   "id": "4abb900b",
   "metadata": {
    "scrolled": true
   },
   "outputs": [
    {
     "data": {
      "text/plain": [
       "[('온돌', '평강'), ('철수', '미미'), ('로미오', '줄리엣'), ('갑돌', '갑순'), ('이몽룡', '성춘향')]"
      ]
     },
     "execution_count": 3,
     "metadata": {},
     "output_type": "execute_result"
    }
   ],
   "source": [
    "# zip 함수 이용\n",
    "\n",
    "import numpy as np\n",
    "import random\n",
    "\n",
    "male = ['철수','갑돌','로미오','이몽룡','온돌']\n",
    "female = ['미미','갑순','줄리엣','성춘향','평강']\n",
    "\n",
    "partner = list(zip(male,female))\n",
    "random.shuffle(partner)\n",
    "partner"
   ]
  },
  {
   "cell_type": "code",
   "execution_count": 4,
   "id": "3883c65e",
   "metadata": {},
   "outputs": [
    {
     "name": "stdout",
     "output_type": "stream",
     "text": [
      "커플1:이몽룡,갑순\n",
      "커플2:갑돌,미미\n",
      "커플3:로미오,평강\n",
      "커플4:온돌,성춘향\n",
      "커플5:철수,줄리엣\n"
     ]
    }
   ],
   "source": [
    "male = ['철수','갑돌','로미오','이몽룡','온돌']\n",
    "female = ['미미','갑순','줄리엣','성춘향','평강']\n",
    "\n",
    "random.shuffle(male)\n",
    "random.shuffle(female)\n",
    "\n",
    "couples = zip(male, female)\n",
    "\n",
    "for i, couple in enumerate(couples):\n",
    "    print(f'커플{i+1}:{couple[0]},{couple[1]}')"
   ]
  },
  {
   "cell_type": "markdown",
   "id": "00be4b75",
   "metadata": {},
   "source": [
    "#### 7/13 - Q2. 사용자가 입력한 횟수만큼 로또 번호를 출력하는 프로그램을 작성하세요. (중복 X)"
   ]
  },
  {
   "cell_type": "code",
   "execution_count": 5,
   "id": "d611bbbe",
   "metadata": {},
   "outputs": [
    {
     "name": "stdout",
     "output_type": "stream",
     "text": [
      "로또 번호의 개수를 입력하세요5\n",
      "[39, 13, 12, 3, 1]\n"
     ]
    }
   ],
   "source": [
    "num = int(input('로또 번호의 개수를 입력하세요'))\n",
    "\n",
    "for i in range(0, int(num)):\n",
    "    lo = random.sample(range(1,46),int(num))\n",
    "print(lo)"
   ]
  },
  {
   "cell_type": "code",
   "execution_count": 6,
   "id": "863a8131",
   "metadata": {},
   "outputs": [
    {
     "name": "stdout",
     "output_type": "stream",
     "text": [
      "로또 번호의 개수를 입력하세요5\n",
      "[[35, 38, 13, 36, 44], [13, 11, 14, 4, 26], [43, 26, 2, 18, 25], [29, 19, 18, 22, 33], [13, 19, 25, 42, 10]]\n"
     ]
    }
   ],
   "source": [
    "num = int(input('로또 번호의 개수를 입력하세요'))\n",
    "\n",
    "a = 0\n",
    "x = []\n",
    "for i in range(0, int(num)):\n",
    "    a = random.sample(range(1,46),int(num))\n",
    "    x.append(a)\n",
    "print(x)"
   ]
  },
  {
   "cell_type": "markdown",
   "id": "538dfb24",
   "metadata": {},
   "source": [
    "##### [도전과제] 발표자를 원하는 수만큼 랜덤하게 출력하는 프로그램을 작성하세요."
   ]
  },
  {
   "cell_type": "code",
   "execution_count": 41,
   "id": "727fda77",
   "metadata": {},
   "outputs": [
    {
     "data": {
      "text/plain": [
       "25"
      ]
     },
     "execution_count": 41,
     "metadata": {},
     "output_type": "execute_result"
    }
   ],
   "source": [
    "cakd7 = ['박영권','김현지','김덕현','변서연','한지웅','양주희','이호원','정지은','이정현A','이명진','이상윤','조승현','강유한','김영선','최애림','김민섭','박혜린','이정현B','윤정준','김진형','정승기','진청아','신창훈','김병석','박세희']\n",
    "len(cakd7)"
   ]
  },
  {
   "cell_type": "code",
   "execution_count": 42,
   "id": "435d3b02",
   "metadata": {},
   "outputs": [
    {
     "data": {
      "text/plain": [
       "'5'"
      ]
     },
     "execution_count": 42,
     "metadata": {},
     "output_type": "execute_result"
    }
   ],
   "source": [
    "number"
   ]
  },
  {
   "cell_type": "code",
   "execution_count": 13,
   "id": "5862bd66",
   "metadata": {},
   "outputs": [
    {
     "name": "stdout",
     "output_type": "stream",
     "text": [
      "=============== CAKD7 발표자 랜덤 뽑기 입니다.===============\n",
      "\n",
      " 발표 인원을 입력해주세요 >  \n",
      "2\n",
      " \n",
      "1번 문제 발표자는 신창훈 입니다.\n",
      "2번 문제 발표자는 윤정준 입니다.\n"
     ]
    }
   ],
   "source": [
    "import random \n",
    "import numpy as np\n",
    "\n",
    "\n",
    "list = ['박영권','김현지','김덕현','변서연','한지웅','양주희','이호원','정지은','이정현A',\n",
    "         '이정현B','이명진','이상윤','조승현','강유한','김영선','최애림','김민섭','박혜린',\n",
    "         '윤정준','김진형','정승기','진청아','신창훈','김병석','박세희']\n",
    "\n",
    "\n",
    "\n",
    "print(\"=============== CAKD7 발표자 랜덤 뽑기 입니다.===============\"'\\n')\n",
    "                        \n",
    "get_ran_num = int(input(\" 발표 인원을 입력해주세요 >  \"'\\n')) \n",
    "\n",
    "\n",
    "lucky_guy = random.sample(list,get_ran_num)\n",
    "\n",
    "print(\" \")\n",
    "for i in range(get_ran_num):\n",
    "    print(f'{i+1}번 문제 발표자는 {lucky_guy[i]} 입니다.')\n"
   ]
  },
  {
   "cell_type": "markdown",
   "id": "beb36d34",
   "metadata": {},
   "source": [
    "#### 7/14 - Q3. 입력받은 문자열의 각 문자를 그 다음 문자로 변경하여 출력하세요. abc -> bca"
   ]
  },
  {
   "cell_type": "code",
   "execution_count": 69,
   "id": "f497edd7",
   "metadata": {},
   "outputs": [
    {
     "data": {
      "text/plain": [
       "'bca'"
      ]
     },
     "execution_count": 69,
     "metadata": {},
     "output_type": "execute_result"
    }
   ],
   "source": [
    "a = 'abc'\n",
    "a[1]+a[2]+a[0]"
   ]
  },
  {
   "cell_type": "code",
   "execution_count": 72,
   "id": "481674af",
   "metadata": {},
   "outputs": [
    {
     "data": {
      "text/plain": [
       "'bca'"
      ]
     },
     "execution_count": 72,
     "metadata": {},
     "output_type": "execute_result"
    }
   ],
   "source": [
    "def shift(str) :\n",
    "    return str[1:] + str[0]\n",
    "\n",
    "a = 'abc'\n",
    "\n",
    "shift(a)"
   ]
  },
  {
   "cell_type": "code",
   "execution_count": 1,
   "id": "e074253f",
   "metadata": {},
   "outputs": [
    {
     "name": "stdout",
     "output_type": "stream",
     "text": [
      "문자를 입력하세요. >abcd\n",
      "bcda\n"
     ]
    }
   ],
   "source": [
    "text = input('문자를 입력하세요. >')\n",
    "ret = ''\n",
    "for i in range(len(text)):\n",
    "    if i != len(text)-1 :\n",
    "        ret += text[i+1]\n",
    "    else :\n",
    "        ret += text[0]\n",
    "        \n",
    "print(ret)"
   ]
  },
  {
   "cell_type": "markdown",
   "id": "b66d6769",
   "metadata": {},
   "source": [
    "#### 7/14 - Q4. url에서 호스트 도메인을 추출하여 출력하세요.\n",
    "\n",
    "url = 'http://news.naver.com/main/read.nhn?mode=LSD&mid=shm&sid1=105&oid=028&aid=0002334601\n",
    "\n",
    "\n",
    "news.naver.com 요기만 출력하기"
   ]
  },
  {
   "cell_type": "code",
   "execution_count": 12,
   "id": "9829bb4c",
   "metadata": {},
   "outputs": [
    {
     "name": "stdout",
     "output_type": "stream",
     "text": [
      "news.naver.com\n"
     ]
    }
   ],
   "source": [
    "url = 'http://news.naver.com/main/read.nhn?mode=LSD&mid=shm&sid1=105&oid=028&aid=0002334601'\n",
    "\n",
    "tmp = url.split('/')\n",
    "print(tmp[2])"
   ]
  },
  {
   "cell_type": "code",
   "execution_count": 8,
   "id": "734c11d5",
   "metadata": {},
   "outputs": [
    {
     "name": "stdout",
     "output_type": "stream",
     "text": [
      "['news.naver.com']\n"
     ]
    }
   ],
   "source": [
    "import re\n",
    "\n",
    "url = 'http://news.naver.com/main/read.nhn?mode=LSD&mid=shm&sid1=105&oid=028&aid=0002334601'\n",
    "\n",
    "news = re.findall(r'[a-z]{4}.[a-z]{5}.[a-z]{3}',url)\n",
    "print(news)"
   ]
  },
  {
   "cell_type": "code",
   "execution_count": 10,
   "id": "e798672a",
   "metadata": {},
   "outputs": [
    {
     "name": "stdout",
     "output_type": "stream",
     "text": [
      "news.naver.com\n"
     ]
    }
   ],
   "source": [
    "import re\n",
    "\n",
    "url = 'http://news.naver.com/main/read.nhn?mode=LSD&mid=shm&sid1=105&oid=028&aid=0002334601'\n",
    "\n",
    "news = re.search(r'([a-z]{4}.[a-z]{5}.[a-z]{3})',url)\n",
    "print(news.group(1))"
   ]
  },
  {
   "cell_type": "markdown",
   "id": "d7852a8a",
   "metadata": {},
   "source": [
    "#### 7/15 - Q5. url에서 쿼리문을 추출하여 출력하세요.\n",
    "\n",
    "url에서 '?'뒤에 표시되는 문자열을 쿼리 문자열이라고 하며 변수=값 사이 &로 \n",
    "구분되어 나열된다.\n",
    "\n",
    "url = 'http://news.naver.com/main/read.nhn?mode=LSD&mid=shm&sid1=105&oid=028&aid=0002334601'\n"
   ]
  },
  {
   "cell_type": "code",
   "execution_count": 20,
   "id": "3c735716",
   "metadata": {},
   "outputs": [
    {
     "data": {
      "text/plain": [
       "'mode=LSD&mid=shm&sid1=105&oid=028&aid=0002334601'"
      ]
     },
     "execution_count": 20,
     "metadata": {},
     "output_type": "execute_result"
    }
   ],
   "source": [
    "url = 'http://news.naver.com/main/read.nhn?mode=LSD&mid=shm&sid1=105&oid=028&aid=0002334601'\n",
    "\n",
    "qus = url.split('?')\n",
    "tmp[1]"
   ]
  },
  {
   "cell_type": "code",
   "execution_count": 21,
   "id": "99ff5c20",
   "metadata": {},
   "outputs": [
    {
     "data": {
      "text/plain": [
       "['mode=LSD', 'mid=shm', 'sid1=105', 'oid=028', 'aid=0002334601']"
      ]
     },
     "execution_count": 21,
     "metadata": {},
     "output_type": "execute_result"
    }
   ],
   "source": [
    "qus[1].split('&')"
   ]
  },
  {
   "cell_type": "code",
   "execution_count": 17,
   "id": "9942defb",
   "metadata": {},
   "outputs": [
    {
     "name": "stdout",
     "output_type": "stream",
     "text": [
      "1번째 쿼리 문자열 : mode=LSD\n",
      "2번째 쿼리 문자열 : mid=shm\n",
      "3번째 쿼리 문자열 : sid1=105\n",
      "4번째 쿼리 문자열 : oid=028\n",
      "5번째 쿼리 문자열 : aid=0002334601\n"
     ]
    }
   ],
   "source": [
    "import re\n",
    "\n",
    "url = 'http://news.naver.com/main/read.nhn?mode=LSD&mid=shm&sid1=105&oid=028&aid=0002334601'\n",
    "\n",
    "p = re.compile('[\\w./:]+[?]([\\w./:=&]+)')\n",
    "query = p.search(url).group(1).split('&')\n",
    "\n",
    "for i in range(len(query)):\n",
    "    print(f'{i+1}번째 쿼리 문자열 : {query[i]}')"
   ]
  },
  {
   "cell_type": "markdown",
   "id": "3142dd23",
   "metadata": {},
   "source": [
    "#### 7/15 - Q6.텍스트 파일(mydata.txt)을 읽고  파일의 내용에서 나타나는 문자들에 대해 자주 나타나는 문자들을 아래와 같이 순서대로 출력하세요.\n",
    "- \\[ \\] -> [177]회 나타남\n",
    "- [e] -> [97]회 나타남\n",
    "- [t] -> [85]회 나타남\n",
    "\n",
    "for문 사용?"
   ]
  },
  {
   "cell_type": "code",
   "execution_count": 7,
   "id": "b364a527",
   "metadata": {},
   "outputs": [
    {
     "data": {
      "text/html": [
       "<div>\n",
       "<style scoped>\n",
       "    .dataframe tbody tr th:only-of-type {\n",
       "        vertical-align: middle;\n",
       "    }\n",
       "\n",
       "    .dataframe tbody tr th {\n",
       "        vertical-align: top;\n",
       "    }\n",
       "\n",
       "    .dataframe thead th {\n",
       "        text-align: right;\n",
       "    }\n",
       "</style>\n",
       "<table border=\"1\" class=\"dataframe\">\n",
       "  <thead>\n",
       "    <tr style=\"text-align: right;\">\n",
       "      <th></th>\n",
       "      <th>a lot of things occur each day</th>\n",
       "    </tr>\n",
       "  </thead>\n",
       "  <tbody>\n",
       "    <tr>\n",
       "      <th>0</th>\n",
       "      <td>we've got to live with on our way</td>\n",
       "    </tr>\n",
       "    <tr>\n",
       "      <th>1</th>\n",
       "      <td>there's so much misery on the screen</td>\n",
       "    </tr>\n",
       "    <tr>\n",
       "      <th>2</th>\n",
       "      <td>with commercials in between</td>\n",
       "    </tr>\n",
       "    <tr>\n",
       "      <th>3</th>\n",
       "      <td>and the russians won't be so late</td>\n",
       "    </tr>\n",
       "    <tr>\n",
       "      <th>4</th>\n",
       "      <td>uncle sam don't want to wait</td>\n",
       "    </tr>\n",
       "    <tr>\n",
       "      <th>5</th>\n",
       "      <td>no matter if you're black or white</td>\n",
       "    </tr>\n",
       "    <tr>\n",
       "      <th>6</th>\n",
       "      <td>you never ever had a right</td>\n",
       "    </tr>\n",
       "    <tr>\n",
       "      <th>7</th>\n",
       "      <td>and look up to the eternal skies</td>\n",
       "    </tr>\n",
       "    <tr>\n",
       "      <th>8</th>\n",
       "      <td>see warfare even there</td>\n",
       "    </tr>\n",
       "    <tr>\n",
       "      <th>9</th>\n",
       "      <td>what once has been a paradise</td>\n",
       "    </tr>\n",
       "    <tr>\n",
       "      <th>10</th>\n",
       "      <td>now destruction and despair</td>\n",
       "    </tr>\n",
       "    <tr>\n",
       "      <th>11</th>\n",
       "      <td>in other worlds the children die</td>\n",
       "    </tr>\n",
       "    <tr>\n",
       "      <th>12</th>\n",
       "      <td>lacking food ill from a fly</td>\n",
       "    </tr>\n",
       "    <tr>\n",
       "      <th>13</th>\n",
       "      <td>oppressed by troops to tame their land</td>\n",
       "    </tr>\n",
       "    <tr>\n",
       "      <th>14</th>\n",
       "      <td>it's all the same again</td>\n",
       "    </tr>\n",
       "    <tr>\n",
       "      <th>15</th>\n",
       "      <td>if any man is free on earth</td>\n",
       "    </tr>\n",
       "    <tr>\n",
       "      <th>16</th>\n",
       "      <td>then tormentors steal his birth</td>\n",
       "    </tr>\n",
       "    <tr>\n",
       "      <th>17</th>\n",
       "      <td>they slam gun butts in his face</td>\n",
       "    </tr>\n",
       "    <tr>\n",
       "      <th>18</th>\n",
       "      <td>and leave his woman choked in mace</td>\n",
       "    </tr>\n",
       "    <tr>\n",
       "      <th>19</th>\n",
       "      <td>so stand up for our human rights</td>\n",
       "    </tr>\n",
       "    <tr>\n",
       "      <th>20</th>\n",
       "      <td>push back this pest of hate</td>\n",
       "    </tr>\n",
       "    <tr>\n",
       "      <th>21</th>\n",
       "      <td>raise you voice pass on the light</td>\n",
       "    </tr>\n",
       "    <tr>\n",
       "      <th>22</th>\n",
       "      <td>unite! it's not too late</td>\n",
       "    </tr>\n",
       "    <tr>\n",
       "      <th>23</th>\n",
       "      <td>how many tears flow away</td>\n",
       "    </tr>\n",
       "    <tr>\n",
       "      <th>24</th>\n",
       "      <td>to become a sea of fears</td>\n",
       "    </tr>\n",
       "    <tr>\n",
       "      <th>25</th>\n",
       "      <td>how many hearts are torn apart</td>\n",
       "    </tr>\n",
       "    <tr>\n",
       "      <th>26</th>\n",
       "      <td>till another torment starts</td>\n",
       "    </tr>\n",
       "    <tr>\n",
       "      <th>27</th>\n",
       "      <td>but before the world</td>\n",
       "    </tr>\n",
       "    <tr>\n",
       "      <th>28</th>\n",
       "      <td>turns into a sun</td>\n",
       "    </tr>\n",
       "    <tr>\n",
       "      <th>29</th>\n",
       "      <td>all cruelty and violence</td>\n",
       "    </tr>\n",
       "    <tr>\n",
       "      <th>30</th>\n",
       "      <td>on earth will be dead and gone</td>\n",
       "    </tr>\n",
       "    <tr>\n",
       "      <th>31</th>\n",
       "      <td>so stand up for our human rights</td>\n",
       "    </tr>\n",
       "    <tr>\n",
       "      <th>32</th>\n",
       "      <td>push back this pest of hate</td>\n",
       "    </tr>\n",
       "    <tr>\n",
       "      <th>33</th>\n",
       "      <td>raise you voice pass on the light</td>\n",
       "    </tr>\n",
       "    <tr>\n",
       "      <th>34</th>\n",
       "      <td>unite! it's not too late</td>\n",
       "    </tr>\n",
       "  </tbody>\n",
       "</table>\n",
       "</div>"
      ],
      "text/plain": [
       "            a lot of things occur each day\n",
       "0        we've got to live with on our way\n",
       "1     there's so much misery on the screen\n",
       "2              with commercials in between\n",
       "3        and the russians won't be so late\n",
       "4             uncle sam don't want to wait\n",
       "5       no matter if you're black or white\n",
       "6               you never ever had a right\n",
       "7         and look up to the eternal skies\n",
       "8                   see warfare even there\n",
       "9            what once has been a paradise\n",
       "10             now destruction and despair\n",
       "11        in other worlds the children die\n",
       "12             lacking food ill from a fly\n",
       "13  oppressed by troops to tame their land\n",
       "14                 it's all the same again\n",
       "15             if any man is free on earth\n",
       "16         then tormentors steal his birth\n",
       "17         they slam gun butts in his face\n",
       "18      and leave his woman choked in mace\n",
       "19        so stand up for our human rights\n",
       "20             push back this pest of hate\n",
       "21       raise you voice pass on the light\n",
       "22                unite! it's not too late\n",
       "23                how many tears flow away\n",
       "24                to become a sea of fears\n",
       "25          how many hearts are torn apart\n",
       "26             till another torment starts\n",
       "27                    but before the world\n",
       "28                        turns into a sun\n",
       "29                all cruelty and violence\n",
       "30          on earth will be dead and gone\n",
       "31        so stand up for our human rights\n",
       "32             push back this pest of hate\n",
       "33       raise you voice pass on the light\n",
       "34                unite! it's not too late"
      ]
     },
     "execution_count": 7,
     "metadata": {},
     "output_type": "execute_result"
    }
   ],
   "source": [
    "import pandas as pd\n",
    "\n",
    "data = pd.read_table('mydata.txt')\n",
    "data"
   ]
  },
  {
   "cell_type": "code",
   "execution_count": 24,
   "id": "cb8dd0a1",
   "metadata": {},
   "outputs": [
    {
     "name": "stdout",
     "output_type": "stream",
     "text": [
      "['a lot of things occur each day\\n', \"we've got to live with on our way\\n\", \"there's so much misery on the screen\\n\", 'with commercials in between\\n', '\\n', \"and the russians won't be so late\\n\", \"uncle sam don't want to wait\\n\", \"no matter if you're black or white\\n\", 'you never ever had a right\\n', '\\n', 'and look up to the eternal skies\\n', 'see warfare even there\\n', 'what once has been a paradise\\n', 'now destruction and despair\\n', '\\n', 'in other worlds the children die\\n', 'lacking food ill from a fly\\n', 'oppressed by troops to tame their land\\n', \"it's all the same again\\n\", '\\n', 'if any man is free on earth\\n', 'then tormentors steal his birth\\n', 'they slam gun butts in his face\\n', 'and leave his woman choked in mace\\n', '\\n', 'so stand up for our human rights\\n', 'push back this pest of hate\\n', 'raise you voice pass on the light\\n', \"unite! it's not too late\\n\", '\\n', 'how many tears flow away\\n', 'to become a sea of fears\\n', 'how many hearts are torn apart\\n', 'till another torment starts\\n', '\\n', 'but before the world\\n', 'turns into a sun\\n', 'all cruelty and violence\\n', 'on earth will be dead and gone\\n', '\\n', 'so stand up for our human rights\\n', 'push back this pest of hate\\n', 'raise you voice pass on the light\\n', \"unite! it's not too late\"]\n"
     ]
    }
   ],
   "source": [
    "file = open('./mydata.txt')\n",
    "\n",
    "lines = file.readlines()\n",
    "print(lines)"
   ]
  },
  {
   "cell_type": "code",
   "execution_count": 29,
   "id": "5c340510",
   "metadata": {
    "scrolled": true
   },
   "outputs": [],
   "source": [
    "lines = {}\n",
    "\n",
    "for i in file:\n",
    "    if i in dick2:\n",
    "        dick2[i] +=1\n",
    "    else:\n",
    "        dick2[i] = 0\n"
   ]
  },
  {
   "cell_type": "code",
   "execution_count": null,
   "id": "561a9be0",
   "metadata": {},
   "outputs": [],
   "source": [
    "# 천천히 한번 다시 하고 안보고 해보깅"
   ]
  },
  {
   "cell_type": "code",
   "execution_count": 27,
   "id": "7155e1d2",
   "metadata": {},
   "outputs": [
    {
     "name": "stdout",
     "output_type": "stream",
     "text": [
      "[(' ', 177), ('e', 97), ('t', 85), ('a', 78), ('o', 73), ('n', 60), ('s', 60), ('r', 54), ('i', 50), ('h', 48), ('\\n', 43), ('l', 34), ('u', 27), ('d', 24), ('c', 23), ('w', 20), ('m', 20), ('f', 17), ('y', 15), ('p', 15), ('b', 13), ('g', 11), ('v', 9), (\"'\", 8), ('k', 7), ('!', 2)]\n",
      "[ ] - > [177]회 나타남\n",
      "[e] - > [97]회 나타남\n",
      "[t] - > [85]회 나타남\n",
      "[a] - > [78]회 나타남\n",
      "[o] - > [73]회 나타남\n",
      "[n] - > [60]회 나타남\n",
      "[s] - > [60]회 나타남\n",
      "[r] - > [54]회 나타남\n",
      "[i] - > [50]회 나타남\n",
      "[h] - > [48]회 나타남\n",
      "[l] - > [34]회 나타남\n",
      "[u] - > [27]회 나타남\n",
      "[d] - > [24]회 나타남\n",
      "[c] - > [23]회 나타남\n",
      "[w] - > [20]회 나타남\n",
      "[m] - > [20]회 나타남\n",
      "[f] - > [17]회 나타남\n",
      "[y] - > [15]회 나타남\n",
      "[p] - > [15]회 나타남\n",
      "[b] - > [13]회 나타남\n",
      "[g] - > [11]회 나타남\n",
      "[v] - > [9]회 나타남\n",
      "['] - > [8]회 나타남\n",
      "[k] - > [7]회 나타남\n",
      "[!] - > [2]회 나타남\n"
     ]
    }
   ],
   "source": [
    "def getTextFreq(filename):\n",
    "    with open(filename,'r') as f:\n",
    "        text = f.read()\n",
    "        fa = {}\n",
    "        for c in text:\n",
    "            if c in fa:\n",
    "                fa[c] += 1\n",
    "            else:\n",
    "                fa[c] = 1\n",
    "    return fa\n",
    "ret = getTextFreq('mydata.txt')\n",
    "ret = sorted(ret.items(),key=lambda x:x[1], reverse=True)\n",
    "print(ret)\n",
    "for c, freq in ret:\n",
    "    if c =='\\n':\n",
    "        continue\n",
    "    print('[%c] - > [%d]회 나타남' %(c,freq))"
   ]
  },
  {
   "cell_type": "markdown",
   "id": "b01dcdfa",
   "metadata": {},
   "source": [
    "#### 7/18 - Q7. 두개의 수를 입력한 후 두개의 수에 대한 사칙연산을 수행하세요.(0을 입력한 경우 다시 입력하도록 조치)"
   ]
  },
  {
   "cell_type": "code",
   "execution_count": null,
   "id": "65cc8200",
   "metadata": {},
   "outputs": [],
   "source": [
    "# Cal4 클래스를 만들어서 작성"
   ]
  },
  {
   "cell_type": "code",
   "execution_count": 11,
   "id": "fb101a02",
   "metadata": {},
   "outputs": [
    {
     "name": "stdout",
     "output_type": "stream",
     "text": [
      "계산기입니당\n",
      "첫번째 숫자를 입력하세요5\n",
      "두번째 숫자를 입력하세요5\n",
      "덧셈: 10\n",
      "뺄셈: 0\n",
      "곱셈: 25\n",
      "나눗셈: 1.0\n"
     ]
    }
   ],
   "source": [
    "class Cal4 :\n",
    "    def __init__(self, a, b):\n",
    "        self.first = a\n",
    "        self.second = b\n",
    "    def add(self):\n",
    "        return self.first + self.second\n",
    "    def sub(self):\n",
    "        return self.first - self.second\n",
    "    def mul(self):\n",
    "        return self.first * self.second\n",
    "    def div(self):\n",
    "        return self.first / self.second\n",
    "\n",
    "print('계산기입니당')\n",
    "\n",
    "\n",
    "while True:\n",
    "    a = int(input('첫번째 숫자를 입력하세요'))\n",
    "    b = int(input('두번째 숫자를 입력하세요'))\n",
    "    if b == 0 :\n",
    "        print('0이 아닌 숫자를 입력하세요')\n",
    "        continue\n",
    "    else: \n",
    "        cals = Cal4(a,b)\n",
    "        print(f'덧셈: {cals.add()}')\n",
    "        print(f'뺄셈: {cals.sub()}')\n",
    "        print(f'곱셈: {cals.mul()}')\n",
    "        print(f'나눗셈: {cals.div()}')\n",
    "        break\n",
    "    "
   ]
  },
  {
   "cell_type": "markdown",
   "id": "cd57c33d",
   "metadata": {},
   "source": [
    "#### 7/18  - Q8. Order 클래스를 상속받아 extraOrder 클래스에서 메소드 오버라이딩하여 출력 가격에 원이 추가되도록 출력하세요."
   ]
  },
  {
   "cell_type": "code",
   "execution_count": 4,
   "id": "5518dafa",
   "metadata": {},
   "outputs": [
    {
     "name": "stdout",
     "output_type": "stream",
     "text": [
      "1000\n",
      "헨님의 주문금액은 1000원 입니다\n"
     ]
    }
   ],
   "source": [
    "class Order: \n",
    "    def __init__(self, name): \n",
    "        self.customer = 0 \n",
    "        self.name = name \n",
    "    def order(self, price): \n",
    "        self.customer += price \n",
    "        return self.customer\n",
    "    \n",
    "order = Order('헨')\n",
    "print(order.order(1000))\n",
    "\n",
    "# ------------------------------------------------\n",
    "\n",
    "\n",
    "class ExtraOrder(Order):\n",
    "    def __init__(self, name):\n",
    "        super().__init__(name)\n",
    "    def order(self, price):\n",
    "        super().order(price)\n",
    "        print(f'{self.name}님의 주문금액은 {self.customer}원 입니다')\n",
    "\n",
    "order = ExtraOrder('헨')\n",
    "order.order(1000)"
   ]
  },
  {
   "cell_type": "markdown",
   "id": "75587bf5",
   "metadata": {},
   "source": [
    "#### 7/18 - Q9. 업무미팅이 2시임을 알려주는 자동 이메일을 클래스 AutoEmail을 작성하여 아래와 같이 출력하세요.\n",
    "\n",
    "안녕하세요. kevin님, 업무미팅은 2시입니다."
   ]
  },
  {
   "cell_type": "code",
   "execution_count": 9,
   "id": "77cf0b3c",
   "metadata": {},
   "outputs": [
    {
     "name": "stdout",
     "output_type": "stream",
     "text": [
      "헨님 업무 미팅은 14시 입니다.\n"
     ]
    }
   ],
   "source": [
    "import time\n",
    "class AutoEmail:\n",
    "    def __init__(self, name, t):\n",
    "        self.name = name\n",
    "        self.t = t\n",
    "    def alarm(self):\n",
    "        if time.localtime().tm_hour==self.t:\n",
    "            print(f'{self.name}님 업무 미팅 진행중 입니다.')\n",
    "        else:\n",
    "            print(f'{self.name}님 업무 미팅은 {self.t}시 입니다.')\n",
    "\n",
    "AE = AutoEmail(\"헨\",14)\n",
    "AE.alarm()"
   ]
  },
  {
   "cell_type": "markdown",
   "id": "bfe3506e",
   "metadata": {},
   "source": [
    "#### 7/19 - Q10. 정규표현식을 사용하여 text에서 전화번호만 출력하세요.\n",
    "text = \"문의사항이 있으면 032-232-3245으로 연락주시기 바랍니다.\""
   ]
  },
  {
   "cell_type": "code",
   "execution_count": 2,
   "id": "a7060b6a",
   "metadata": {},
   "outputs": [
    {
     "name": "stdout",
     "output_type": "stream",
     "text": [
      "032-232-3245\n"
     ]
    }
   ],
   "source": [
    "text = \"문의사항이 있으면 032-232-3245으로 연락주시기 바랍니다.\"\n",
    "\n",
    "import re\n",
    "phone = re.search(r'([0-9-]{12})',text)\n",
    "print(phone.group(1))"
   ]
  },
  {
   "cell_type": "markdown",
   "id": "6f186efb",
   "metadata": {},
   "source": [
    "#### 7/19 - Q11. 정규표현식을 사용하여 text에서 에러가 들어간 부분만 포함하는 리스트를 출력하세요.\n",
    "\n",
    "text = \"에러 1122, 레퍼런스 오류, 에러 1033, 아규먼트 오류, 에러 xxx\""
   ]
  },
  {
   "cell_type": "code",
   "execution_count": 87,
   "id": "7c5153aa",
   "metadata": {},
   "outputs": [
    {
     "data": {
      "text/plain": [
       "['에러 1122', '에러 1033']"
      ]
     },
     "execution_count": 87,
     "metadata": {},
     "output_type": "execute_result"
    }
   ],
   "source": [
    "text = \"에러 1122, 레퍼런스 오류, 에러 1033, 아규먼트 오류, 에러 xxx\"\n",
    "\n",
    "re.findall(r'[가-힣]+ \\d+',text)"
   ]
  },
  {
   "cell_type": "code",
   "execution_count": 3,
   "id": "f4e94004",
   "metadata": {},
   "outputs": [
    {
     "name": "stdout",
     "output_type": "stream",
     "text": [
      "[' 에러 103']\n"
     ]
    }
   ],
   "source": [
    "import re\n",
    "text = \"에러 1122, 레퍼런스 오류, 에러 1033, 아규먼트 오류, 에러 xxx\"\n",
    "\n",
    "error = re.findall(r'([가-힣]+ \\d+ | [가-힣]+ \\d+)',text)\n",
    "print(error)"
   ]
  },
  {
   "cell_type": "code",
   "execution_count": 4,
   "id": "174e3618",
   "metadata": {},
   "outputs": [
    {
     "name": "stdout",
     "output_type": "stream",
     "text": [
      "['에러 1122', '에러 1033', '에러 xxx']\n"
     ]
    }
   ],
   "source": [
    "text = \"에러 1122, 레퍼런스 오류, 에러 1033, 아규먼트 오류, 에러 xxx\"\n",
    "\n",
    "error = re.findall(r'(\\w+ \\d+|\\w+ \\w{3})',text)\n",
    "print(error)"
   ]
  },
  {
   "cell_type": "code",
   "execution_count": 3,
   "id": "76bda097",
   "metadata": {},
   "outputs": [
    {
     "data": {
      "text/plain": [
       "['에러 1122', '에러 1033', '에러 xxx']"
      ]
     },
     "execution_count": 3,
     "metadata": {},
     "output_type": "execute_result"
    }
   ],
   "source": [
    "text = \"에러 1122, 레퍼런스 오류, 에러 1033, 아규먼트 오류, 에러 xxx\"\n",
    "\n",
    "error = '에러\\s\\w+'\n",
    "re.findall(error,text)"
   ]
  },
  {
   "cell_type": "markdown",
   "id": "8e0c367a",
   "metadata": {},
   "source": [
    "#### 7/19 - Q12. 정규표현식을 사용하여 text에서 지역코드만 출력하세요.\n",
    "\n",
    "text = \"문의사항이 있으면 032-232-3245으로 연락주시기 바랍니다.\""
   ]
  },
  {
   "cell_type": "code",
   "execution_count": 49,
   "id": "19dfc818",
   "metadata": {},
   "outputs": [
    {
     "name": "stdout",
     "output_type": "stream",
     "text": [
      "032\n"
     ]
    }
   ],
   "source": [
    "text = \"문의사항이 있으면 032-232-3245으로 연락주시기 바랍니다.\"\n",
    "\n",
    "code = re.search(r'([0-9-]{3})([-])',text)\n",
    "print(code.group(1))"
   ]
  },
  {
   "cell_type": "markdown",
   "id": "9e1d4d21",
   "metadata": {},
   "source": [
    "#### 7/19 - Q13. 정규표현식을 사용하여 text에서 지역코드 제외한 번호만 출력하세요.\n",
    "\n",
    "text = \"문의사항이 있으면 032-232-3245으로 연락주시기 바랍니다.\""
   ]
  },
  {
   "cell_type": "code",
   "execution_count": 150,
   "id": "c879beb3",
   "metadata": {},
   "outputs": [
    {
     "name": "stdout",
     "output_type": "stream",
     "text": [
      "232-3245\n"
     ]
    }
   ],
   "source": [
    "text = \"문의사항이 있으면 032-232-3245으로 연락주시기 바랍니다.\"\n",
    "\n",
    "code = re.search(r'([-])([0-9-]{3}[-][0-9-]{4})',text)\n",
    "print(code.group(2))"
   ]
  },
  {
   "cell_type": "markdown",
   "id": "95727b19",
   "metadata": {},
   "source": [
    "#### 7/19 - Q14. 'abcdefghij' 에 대하여 중첩을 적용한 서브그룹 5개로 컴파일하여 group()함수를 이용하여 'abcdefghi'와 e'를 출력하세요\n"
   ]
  },
  {
   "cell_type": "code",
   "execution_count": 5,
   "id": "36ec8e87",
   "metadata": {},
   "outputs": [
    {
     "name": "stdout",
     "output_type": "stream",
     "text": [
      "abcdefghij\n",
      "e\n"
     ]
    }
   ],
   "source": [
    "hi = 'abcdefghij'\n",
    "\n",
    "c = re.compile(r'(\\w{2})(\\w{2})(\\w)(\\w+)(\\w+)')\n",
    "s = c.search(hi)\n",
    "\n",
    "print(s.group())\n",
    "print(s.group(3))"
   ]
  },
  {
   "cell_type": "code",
   "execution_count": 6,
   "id": "a5f58a70",
   "metadata": {},
   "outputs": [
    {
     "name": "stdout",
     "output_type": "stream",
     "text": [
      "abcdefghi\n"
     ]
    },
    {
     "data": {
      "text/plain": [
       "'e'"
      ]
     },
     "execution_count": 6,
     "metadata": {},
     "output_type": "execute_result"
    }
   ],
   "source": [
    "p = re.compile('(a(b(c(d(e)f)g)h)i)j')\n",
    "m = p.match('abcdefghij')\n",
    "# print(m.group(0))'Lots of punctuation''Lots of punctuation'\n",
    "print(m.group(1))\n",
    "m.group(5)"
   ]
  },
  {
   "cell_type": "markdown",
   "id": "138a33ed",
   "metadata": {},
   "source": [
    "#### 7/19 - Q15. 위문제에서 모든 서브 그룹에 대한 문자열을 포함하는 튜플을 출력하세요."
   ]
  },
  {
   "cell_type": "code",
   "execution_count": 8,
   "id": "7899d03f",
   "metadata": {},
   "outputs": [
    {
     "name": "stdout",
     "output_type": "stream",
     "text": [
      "[('ab', 'cd', 'e', 'fghi', 'j')]\n"
     ]
    }
   ],
   "source": [
    "f = c.findall(hi)\n",
    "print(f)"
   ]
  },
  {
   "cell_type": "code",
   "execution_count": 9,
   "id": "941efb17",
   "metadata": {
    "scrolled": true
   },
   "outputs": [
    {
     "data": {
      "text/plain": [
       "('abcdefghi', 'bcdefgh', 'cdefg', 'def', 'e')"
      ]
     },
     "execution_count": 9,
     "metadata": {},
     "output_type": "execute_result"
    }
   ],
   "source": [
    "m.groups()"
   ]
  },
  {
   "cell_type": "markdown",
   "id": "1fbca49a",
   "metadata": {},
   "source": [
    "#### 7/20 - Q16. 이름으로 그룹을 참조하여 'Lots of punctuation' 에서 Lots를 출력하세요."
   ]
  },
  {
   "cell_type": "code",
   "execution_count": 2,
   "id": "d7457e5d",
   "metadata": {},
   "outputs": [
    {
     "data": {
      "text/plain": [
       "'Lots'"
      ]
     },
     "execution_count": 2,
     "metadata": {},
     "output_type": "execute_result"
    }
   ],
   "source": [
    "import re\n",
    "p = re.compile('(Lots) of punctuation')\n",
    "m = p.match('Lots of punctuation')\n",
    "m.group(1)"
   ]
  },
  {
   "cell_type": "code",
   "execution_count": 14,
   "id": "d54b35bc",
   "metadata": {},
   "outputs": [
    {
     "name": "stdout",
     "output_type": "stream",
     "text": [
      "Lots\n"
     ]
    }
   ],
   "source": [
    "p = re.compile(r'(?P<name>\\w{4})\\s(\\w+\\s\\w+)')\n",
    "s = p.search('Lots of punctuation')\n",
    "print(s.group('name'))"
   ]
  },
  {
   "cell_type": "code",
   "execution_count": 7,
   "id": "bdbffb6d",
   "metadata": {},
   "outputs": [
    {
     "name": "stdout",
     "output_type": "stream",
     "text": [
      "Lots\n"
     ]
    }
   ],
   "source": [
    "import re\n",
    "p = re.compile(r'(?P<name>\\w+)\\s')\n",
    "s = p.search('Lots of punctuation')\n",
    "print(s.group('name'))"
   ]
  },
  {
   "cell_type": "markdown",
   "id": "0ca5e322",
   "metadata": {},
   "source": [
    "#### 7/20 - Q17. 'Paris is very very beautiful.'에서 'very very'를 출력하세요."
   ]
  },
  {
   "cell_type": "code",
   "execution_count": 18,
   "id": "68f7c3b4",
   "metadata": {},
   "outputs": [
    {
     "data": {
      "text/plain": [
       "['very', 'very']"
      ]
     },
     "execution_count": 18,
     "metadata": {},
     "output_type": "execute_result"
    }
   ],
   "source": [
    "p = re.compile(r'v\\w{3}')\n",
    "d = p.findall('Paris is very very beautiful.')\n",
    "d"
   ]
  },
  {
   "cell_type": "code",
   "execution_count": 29,
   "id": "ca984160",
   "metadata": {},
   "outputs": [
    {
     "data": {
      "text/plain": [
       "[' very ', ' very ']"
      ]
     },
     "execution_count": 29,
     "metadata": {},
     "output_type": "execute_result"
    }
   ],
   "source": [
    "p = re.compile(r'\\s\\w{4}\\s')\n",
    "d = p.findall('Paris is very very beautiful.')\n",
    "d*2"
   ]
  },
  {
   "cell_type": "code",
   "execution_count": 56,
   "id": "6191dcf2",
   "metadata": {},
   "outputs": [
    {
     "data": {
      "text/plain": [
       "['very', 'very']"
      ]
     },
     "execution_count": 56,
     "metadata": {},
     "output_type": "execute_result"
    }
   ],
   "source": [
    "p = re.compile(r'\\bvery\\b')\n",
    "x = p.findall('Paris is very very beautiful.')  \n",
    "x"
   ]
  },
  {
   "cell_type": "markdown",
   "id": "02863b4c",
   "metadata": {},
   "source": [
    "#### 7/20 - Q18. 정규표현식을 작성하여 아래와 같이 출력하세요.\n",
    "['1 apple', '5 oranges', '3 boys', '4 girls', '10 army', '11 mr']\n"
   ]
  },
  {
   "cell_type": "code",
   "execution_count": null,
   "id": "fae832d0",
   "metadata": {},
   "outputs": [],
   "source": [
    "import re\n",
    "li = '1 apple, 5 oranges, 3 boys, 4 girls; 10 army| 11 mr'\n",
    "regex = re.compile(      )\n",
    "list = regex.findall(li)\n",
    "print(list)"
   ]
  },
  {
   "cell_type": "code",
   "execution_count": 8,
   "id": "9b5f21d8",
   "metadata": {},
   "outputs": [
    {
     "data": {
      "text/plain": [
       "['1 apple', '5 oranges', '3 boys', '4 girls', '10 army', '11 mr']"
      ]
     },
     "execution_count": 8,
     "metadata": {},
     "output_type": "execute_result"
    }
   ],
   "source": [
    "import re\n",
    "li = '1 apple, 5 oranges, 3 boys, 4 girls; 10 army| 11 mr'\n",
    "regex = re.compile(r'\\d+\\s\\w+')\n",
    "list = regex.findall(li)\n",
    "list"
   ]
  },
  {
   "cell_type": "markdown",
   "id": "7668e310",
   "metadata": {},
   "source": [
    "#### 7/20 - Q19. text에서 'H,h'만 출력하세요.\n",
    "text = 'Hello my friend! Life is short you need Python!'"
   ]
  },
  {
   "cell_type": "code",
   "execution_count": 68,
   "id": "9acfe54a",
   "metadata": {},
   "outputs": [
    {
     "data": {
      "text/plain": [
       "['H', 'h', 'h']"
      ]
     },
     "execution_count": 68,
     "metadata": {},
     "output_type": "execute_result"
    }
   ],
   "source": [
    "text = 'Hello my friend! Life is short you need Python!'\n",
    "\n",
    "h = re.compile('[Hh]')\n",
    "x = h.findall(text)\n",
    "x"
   ]
  },
  {
   "cell_type": "markdown",
   "id": "3c163c42",
   "metadata": {},
   "source": [
    "#### 7/20 - Q20. text에서 'H,h'가 아닌 것 모두를 출력하세요.\n",
    "\n",
    "text = 'Hello my friend! Life is short you need Python!'"
   ]
  },
  {
   "cell_type": "code",
   "execution_count": 71,
   "id": "e3241e3b",
   "metadata": {},
   "outputs": [
    {
     "name": "stdout",
     "output_type": "stream",
     "text": [
      "['e', 'l', 'l', 'o', ' ', 'm', 'y', ' ', 'f', 'r', 'i', 'e', 'n', 'd', '!', ' ', 'L', 'i', 'f', 'e', ' ', 'i', 's', ' ', 's', 'o', 'r', 't', ' ', 'y', 'o', 'u', ' ', 'n', 'e', 'e', 'd', ' ', 'P', 'y', 't', 'o', 'n', '!']\n"
     ]
    }
   ],
   "source": [
    "text = 'Hello my friend! Life is short you need Python!'\n",
    "\n",
    "h = re.compile('[^Hh]')\n",
    "x = h.findall(text)\n",
    "print(x)"
   ]
  },
  {
   "cell_type": "markdown",
   "id": "274bf7d5",
   "metadata": {},
   "source": [
    "#### 7/21 - Q21. 'we are going home'에서 home만 출력하세요."
   ]
  },
  {
   "cell_type": "code",
   "execution_count": 6,
   "id": "fa8bb39b",
   "metadata": {},
   "outputs": [
    {
     "data": {
      "text/plain": [
       "'home'"
      ]
     },
     "execution_count": 6,
     "metadata": {},
     "output_type": "execute_result"
    }
   ],
   "source": [
    "import re\n",
    "\n",
    "text = 'we are going home'\n",
    "text[-4:]"
   ]
  },
  {
   "cell_type": "markdown",
   "id": "e7d0269f",
   "metadata": {},
   "source": [
    "#### 7/21 - Q22. '199305, 1923A, a93247'에서 '199305'만 출력하세요."
   ]
  },
  {
   "cell_type": "code",
   "execution_count": 7,
   "id": "d4b428a8",
   "metadata": {},
   "outputs": [
    {
     "data": {
      "text/plain": [
       "['199305']"
      ]
     },
     "execution_count": 7,
     "metadata": {},
     "output_type": "execute_result"
    }
   ],
   "source": [
    "num = '199305, 1923A, a93247'\n",
    "\n",
    "a = re.compile('(\\d+),')\n",
    "a.findall(num)"
   ]
  },
  {
   "cell_type": "markdown",
   "id": "3ebe41a8",
   "metadata": {},
   "source": [
    "#### 7/21 - Q23. '12345abc'에서 'abc'만 출력하세요.\n"
   ]
  },
  {
   "cell_type": "code",
   "execution_count": 10,
   "id": "13bcc355",
   "metadata": {},
   "outputs": [
    {
     "data": {
      "text/plain": [
       "['abc']"
      ]
     },
     "execution_count": 10,
     "metadata": {},
     "output_type": "execute_result"
    }
   ],
   "source": [
    "al = '12345abc'\n",
    "\n",
    "a = re.compile('[a-z]+')\n",
    "a.findall(al)"
   ]
  },
  {
   "cell_type": "code",
   "execution_count": 1,
   "id": "6bd3e237",
   "metadata": {
    "scrolled": true
   },
   "outputs": [
    {
     "data": {
      "text/plain": [
       "'abc'"
      ]
     },
     "execution_count": 1,
     "metadata": {},
     "output_type": "execute_result"
    }
   ],
   "source": [
    "al = '12345abc'\n",
    "al[-3:]"
   ]
  },
  {
   "cell_type": "code",
   "execution_count": 3,
   "id": "b5769510",
   "metadata": {},
   "outputs": [
    {
     "data": {
      "text/plain": [
       "'abc'"
      ]
     },
     "execution_count": 3,
     "metadata": {},
     "output_type": "execute_result"
    }
   ],
   "source": [
    "import re\n",
    "al = '12345abc'\n",
    "m = re.search('\\D+',al)\n",
    "m.group()"
   ]
  },
  {
   "cell_type": "code",
   "execution_count": 6,
   "id": "67fbc5f4",
   "metadata": {},
   "outputs": [
    {
     "data": {
      "text/plain": [
       "'12345'"
      ]
     },
     "execution_count": 6,
     "metadata": {},
     "output_type": "execute_result"
    }
   ],
   "source": [
    "al = '12345abc'\n",
    "x = re.search('\\d+',al)\n",
    "x.group()"
   ]
  },
  {
   "cell_type": "code",
   "execution_count": 14,
   "id": "bd08e469",
   "metadata": {},
   "outputs": [
    {
     "data": {
      "text/plain": [
       "'12345'"
      ]
     },
     "execution_count": 14,
     "metadata": {},
     "output_type": "execute_result"
    }
   ],
   "source": [
    "al = '12345abc'\n",
    "re.sub('[^0-9]','',al) # '' 빈칸 주는거 숫자가 아닌걸 공백으로 대체하라는 이야깅"
   ]
  },
  {
   "cell_type": "code",
   "execution_count": null,
   "id": "b8047321",
   "metadata": {},
   "outputs": [],
   "source": []
  },
  {
   "cell_type": "markdown",
   "id": "eb0449b2",
   "metadata": {},
   "source": [
    "#### 7/21 - Q24. '12345abc'에서 'a'만 출력하세요."
   ]
  },
  {
   "cell_type": "code",
   "execution_count": 12,
   "id": "c5657a55",
   "metadata": {},
   "outputs": [
    {
     "data": {
      "text/plain": [
       "'a'"
      ]
     },
     "execution_count": 12,
     "metadata": {},
     "output_type": "execute_result"
    }
   ],
   "source": [
    "al = '12345abc'\n",
    "\n",
    "al[-3]"
   ]
  },
  {
   "cell_type": "code",
   "execution_count": 4,
   "id": "eb8a9d99",
   "metadata": {},
   "outputs": [
    {
     "data": {
      "text/plain": [
       "'a'"
      ]
     },
     "execution_count": 4,
     "metadata": {},
     "output_type": "execute_result"
    }
   ],
   "source": [
    "al = '12345abc'\n",
    "x = re.search('a',al)\n",
    "x.group()"
   ]
  },
  {
   "cell_type": "code",
   "execution_count": 5,
   "id": "ed92f56f",
   "metadata": {},
   "outputs": [
    {
     "data": {
      "text/plain": [
       "'a'"
      ]
     },
     "execution_count": 5,
     "metadata": {},
     "output_type": "execute_result"
    }
   ],
   "source": [
    "al = '12345abc'\n",
    "x = re.search('[a-z]',al)\n",
    "x.group()"
   ]
  },
  {
   "cell_type": "markdown",
   "id": "c5ba294b",
   "metadata": {},
   "source": [
    "#### 7/21 - Q25. 'abc12345Abc'에서 'A'만 출력하세요."
   ]
  },
  {
   "cell_type": "code",
   "execution_count": 16,
   "id": "aebf0cfc",
   "metadata": {},
   "outputs": [
    {
     "name": "stdout",
     "output_type": "stream",
     "text": [
      "A\n"
     ]
    },
    {
     "data": {
      "text/plain": [
       "['A']"
      ]
     },
     "execution_count": 16,
     "metadata": {},
     "output_type": "execute_result"
    }
   ],
   "source": [
    "ab = 'abc12345Abc'\n",
    "\n",
    "print(ab[-3])\n",
    "\n",
    "x = re.compile('[A-Z]+')\n",
    "\n",
    "x.findall(ab)"
   ]
  },
  {
   "cell_type": "markdown",
   "id": "f2f70c64",
   "metadata": {},
   "source": [
    "#### 7/22 - Q26. 'Banker'에서 'anker', 'banker123'에서 'banker'를 출력하세요."
   ]
  },
  {
   "cell_type": "code",
   "execution_count": 20,
   "id": "d8fedb5f",
   "metadata": {},
   "outputs": [
    {
     "data": {
      "text/plain": [
       "['anker']"
      ]
     },
     "execution_count": 20,
     "metadata": {},
     "output_type": "execute_result"
    }
   ],
   "source": [
    "import re\n",
    "\n",
    "b = 'Banker'\n",
    "re.findall('[a-z]+',b)"
   ]
  },
  {
   "cell_type": "code",
   "execution_count": 21,
   "id": "af29b78f",
   "metadata": {},
   "outputs": [
    {
     "data": {
      "text/plain": [
       "['banker']"
      ]
     },
     "execution_count": 21,
     "metadata": {},
     "output_type": "execute_result"
    }
   ],
   "source": [
    "b = 'banker123'\n",
    "re.findall('\\D+',b)"
   ]
  },
  {
   "cell_type": "markdown",
   "id": "64d7f46c",
   "metadata": {},
   "source": [
    "#### 7/22 - Q27. 'KOREA 대한민국'에서 '대'만 출력하세요."
   ]
  },
  {
   "cell_type": "code",
   "execution_count": 27,
   "id": "a43fc7a2",
   "metadata": {},
   "outputs": [
    {
     "name": "stdout",
     "output_type": "stream",
     "text": [
      "대\n"
     ]
    }
   ],
   "source": [
    "k =  'KOREA 대한민국'\n",
    "d = re.search('[가-힣]',k)\n",
    "print(d.group())"
   ]
  },
  {
   "cell_type": "markdown",
   "id": "04e7dd7b",
   "metadata": {},
   "source": [
    "#### 7/22 - Q28. Q. 'aaaaBBBcccDDDeee'을 모두 출력하세요.\n",
    "text = 'aaaBBccDDeeaaaaBBBcccDDDeeeeeeDDDcccBBBaaaa'"
   ]
  },
  {
   "cell_type": "code",
   "execution_count": 53,
   "id": "d83cc421",
   "metadata": {},
   "outputs": [
    {
     "data": {
      "text/plain": [
       "'aaaaBBBcccDDDeee'"
      ]
     },
     "execution_count": 53,
     "metadata": {},
     "output_type": "execute_result"
    }
   ],
   "source": [
    "text = 'aaaBBccDDeeaaaaBBBcccDDDeeeeeeDDDcccBBBaaaa'\n",
    "\n",
    "a = re.compile('(\\w{16})$')\n",
    "b = a.search(text)\n",
    "\n",
    "c = b.group(1)\n",
    "c[::-1]"
   ]
  },
  {
   "cell_type": "code",
   "execution_count": 2,
   "id": "68bff396",
   "metadata": {},
   "outputs": [
    {
     "data": {
      "text/plain": [
       "'aaaaBBBcccDDDeee'"
      ]
     },
     "execution_count": 2,
     "metadata": {},
     "output_type": "execute_result"
    }
   ],
   "source": [
    "import re\n",
    "text = 'aaaBBccDDeeaaaaBBBcccDDDeeeeeeDDDcccBBBaaaa'\n",
    "p = re.search('a{4}B{3}c{3}D{3}e{3}',text)\n",
    "p.group()"
   ]
  },
  {
   "cell_type": "markdown",
   "id": "6d9a2048",
   "metadata": {},
   "source": [
    "#### 7/22 - Q29. 아래의 경우에서 \\<html>만 출력하세요"
   ]
  },
  {
   "cell_type": "code",
   "execution_count": 60,
   "id": "6752c0b7",
   "metadata": {},
   "outputs": [
    {
     "name": "stdout",
     "output_type": "stream",
     "text": [
      "59\n"
     ]
    },
    {
     "data": {
      "text/plain": [
       "'<html><head><title>Title</title></head><body></body></html>'"
      ]
     },
     "execution_count": 60,
     "metadata": {},
     "output_type": "execute_result"
    }
   ],
   "source": [
    "# Q\n",
    "\n",
    "text = '<html><head><title>Title</title></head><body></body></html>'\n",
    "\n",
    "pattern = re.compile('<.*>')  # * 별표는 all\n",
    "\n",
    "\n",
    "print(len(text))\n",
    "p = pattern.search(text)\n",
    "p.group()"
   ]
  },
  {
   "cell_type": "code",
   "execution_count": 3,
   "id": "37b04150",
   "metadata": {},
   "outputs": [
    {
     "name": "stdout",
     "output_type": "stream",
     "text": [
      "59\n"
     ]
    },
    {
     "data": {
      "text/plain": [
       "'<html>'"
      ]
     },
     "execution_count": 3,
     "metadata": {},
     "output_type": "execute_result"
    }
   ],
   "source": [
    "text = '<html><head><title>Title</title></head><body></body></html>'\n",
    "\n",
    "pattern = re.compile('<.*?>')  # 안탐욕스러운거 ?\n",
    "\n",
    "\n",
    "print(len(text))\n",
    "p = pattern.search(text)\n",
    "p.group()"
   ]
  },
  {
   "cell_type": "markdown",
   "id": "1a16d521",
   "metadata": {},
   "source": [
    "#### 7/22 - Q30. '1234a1234'에서  '1', '2', '3', '4'를 모두 출력하세요."
   ]
  },
  {
   "cell_type": "code",
   "execution_count": 55,
   "id": "0b8c8a5b",
   "metadata": {},
   "outputs": [
    {
     "data": {
      "text/plain": [
       "['1', '2', '3', '4', '1', '2', '3', '4']"
      ]
     },
     "execution_count": 55,
     "metadata": {},
     "output_type": "execute_result"
    }
   ],
   "source": [
    "import re\n",
    "\n",
    "a =  '1234a1234'\n",
    "m = re.findall('(\\d)',a)\n",
    "m"
   ]
  },
  {
   "cell_type": "markdown",
   "id": "33dc2622",
   "metadata": {},
   "source": [
    "#### 7/25 - Q31. "
   ]
  },
  {
   "cell_type": "markdown",
   "id": "98eaf512",
   "metadata": {},
   "source": [
    "#### 7/25 - Q32.  text에서 전체문장 모두 출력하세요."
   ]
  },
  {
   "cell_type": "code",
   "execution_count": 76,
   "id": "644df9c5",
   "metadata": {},
   "outputs": [
    {
     "name": "stdout",
     "output_type": "stream",
     "text": [
      "what are you doing?\n"
     ]
    }
   ],
   "source": [
    "# Q.\n",
    "text = \"what are you doing?\\nit is going to be late for school\\nwe need to hurry up\"\n",
    "regex = re.compile('.*')\n",
    "mo = regex.search(text)\n",
    "print(mo.group())"
   ]
  },
  {
   "cell_type": "code",
   "execution_count": 2,
   "id": "6e0a7b91",
   "metadata": {},
   "outputs": [
    {
     "name": "stdout",
     "output_type": "stream",
     "text": [
      "what are you doing?\n",
      "it is going to be late for school\n",
      "we need to hurry up\n"
     ]
    }
   ],
   "source": [
    "text = \"what are you doing?\\nit is going to be late for school\\nwe need to hurry up\"\n",
    "regex = re.compile('\\D*') # \\D 숫자 빼고 모든 문자와 기호들\n",
    "mo = regex.match(text)\n",
    "print(mo.group())"
   ]
  },
  {
   "cell_type": "code",
   "execution_count": 3,
   "id": "d7a4d430",
   "metadata": {},
   "outputs": [
    {
     "name": "stdout",
     "output_type": "stream",
     "text": [
      "what are you doing?\n",
      "it is going to be late for school\n",
      "we need to hurry up\n"
     ]
    }
   ],
   "source": [
    "text = \"what are you doing?\\nit is going to be late for school\\nwe need to hurry up\"\n",
    "regex = re.compile('.*',re.DOTALL)  # * all 인데 \\n 있는데 까지만! re.DOTALL 쓰면 다 다 나온다\n",
    "mo = regex.search(text)\n",
    "print(mo.group())"
   ]
  },
  {
   "cell_type": "code",
   "execution_count": 1,
   "id": "3104b2d6",
   "metadata": {},
   "outputs": [
    {
     "data": {
      "text/plain": [
       "'what are you doing? it is going to be late for school we need to hurry up'"
      ]
     },
     "execution_count": 1,
     "metadata": {},
     "output_type": "execute_result"
    }
   ],
   "source": [
    "import re # 이곤 아냐..\n",
    "\n",
    "text = \"what are you doing?\\nit is going to be late for school\\nwe need to hurry up\"\n",
    "a = re.findall('\\w+[^\\n\\s]', text)\n",
    "a = ' '.join(a)\n",
    "a"
   ]
  },
  {
   "cell_type": "markdown",
   "id": "653828b3",
   "metadata": {},
   "source": [
    "#### 7/25 - Q33.  text에서 대소문자 구분없이 전체문장 모두 출력하세요\n"
   ]
  },
  {
   "cell_type": "code",
   "execution_count": 41,
   "id": "5a77358b",
   "metadata": {},
   "outputs": [
    {
     "data": {
      "text/plain": [
       "'Friend fRiend friEnd FRIEND'"
      ]
     },
     "execution_count": 41,
     "metadata": {},
     "output_type": "execute_result"
    }
   ],
   "source": [
    "text = 'Friend fRiend friEnd FRIEND'\n",
    "\n",
    "b = re.findall('\\w+', text)\n",
    "b = ' '.join(b)\n",
    "b"
   ]
  },
  {
   "cell_type": "code",
   "execution_count": 6,
   "id": "1ae2b391",
   "metadata": {},
   "outputs": [
    {
     "name": "stdout",
     "output_type": "stream",
     "text": [
      "Friend\n",
      "fRiend\n",
      "friEnd\n",
      "FRIEND\n"
     ]
    }
   ],
   "source": [
    "text = 'Friend fRiend friEnd FRIEND'\n",
    "\n",
    "b = re.findall('\\w+', text)\n",
    "for i in range(0,4):\n",
    "    print(b[i])"
   ]
  },
  {
   "cell_type": "code",
   "execution_count": 7,
   "id": "7d64af2c",
   "metadata": {},
   "outputs": [
    {
     "name": "stdout",
     "output_type": "stream",
     "text": [
      "Friend fRiend friEnd FRIEND\n"
     ]
    }
   ],
   "source": [
    "text = 'Friend fRiend friEnd FRIEND'\n",
    "\n",
    "regex = re.compile('[a-z ]*',re.I)\n",
    "mo = regex.search(text)\n",
    "print(mo.group())"
   ]
  },
  {
   "cell_type": "code",
   "execution_count": 11,
   "id": "4de1da11",
   "metadata": {},
   "outputs": [
    {
     "name": "stdout",
     "output_type": "stream",
     "text": [
      "Friend\n",
      "fRiend\n",
      "friEnd\n",
      "FRIEND\n"
     ]
    }
   ],
   "source": [
    "text = 'Friend fRiend friEnd FRIEND'\n",
    "\n",
    "regex = re.compile('friend',re.I)  # re.I\n",
    "mo = regex.findall(text)\n",
    "for i in mo:\n",
    "    print(i)"
   ]
  },
  {
   "cell_type": "markdown",
   "id": "63fad2f4",
   "metadata": {},
   "source": [
    "#### 7/25 - Q34.  1609160537.371015을 \"Sat Jun 26 08:35:03 2021\" 포멧으로 출력하세요.\n"
   ]
  },
  {
   "cell_type": "code",
   "execution_count": 14,
   "id": "cc26624a",
   "metadata": {},
   "outputs": [
    {
     "name": "stdout",
     "output_type": "stream",
     "text": [
      "2020-12-28 22:02:17.371015\n"
     ]
    },
    {
     "data": {
      "text/plain": [
       "'Mon Dec 28 22:02:17 2020'"
      ]
     },
     "execution_count": 14,
     "metadata": {},
     "output_type": "execute_result"
    }
   ],
   "source": [
    "import time\n",
    "from datetime import datetime\n",
    "\n",
    "dt_object = datetime.fromtimestamp(1609160537.371015)\n",
    "print(dt_object)\n",
    "dt_object.strftime('%c')"
   ]
  },
  {
   "cell_type": "code",
   "execution_count": 15,
   "id": "da94b093",
   "metadata": {},
   "outputs": [
    {
     "data": {
      "text/plain": [
       "'Mon Dec 28 22:02:17 2020'"
      ]
     },
     "execution_count": 15,
     "metadata": {},
     "output_type": "execute_result"
    }
   ],
   "source": [
    "# 와 대박간단 time.ctime!! float >> string\n",
    "timestring=time.ctime(1609160537.371015)\n",
    "timestring"
   ]
  },
  {
   "cell_type": "code",
   "execution_count": 22,
   "id": "0779685b",
   "metadata": {},
   "outputs": [],
   "source": [
    "# ctime() 함수는 주어진 timestamp를 현지 시간대 기준으로 소위 미국에서 흔히 사용되는 요 월 일 시:분:초 년 포멧으로 변환해줍니다. 그냥 간단하게 timestamp가 나타내는 날짜와 시간을 확인해보는 용도로 쓰기에 좋습니다."
   ]
  },
  {
   "cell_type": "code",
   "execution_count": null,
   "id": "91455110",
   "metadata": {},
   "outputs": [],
   "source": [
    "from datetime import datetime\n",
    "\n",
    "timestamp = 1609160537.371015\n",
    "dt_object = datetime.fromtimestamp(timestamp)\n",
    "print(dt_object)"
   ]
  },
  {
   "cell_type": "code",
   "execution_count": 34,
   "id": "d582e30c",
   "metadata": {},
   "outputs": [
    {
     "data": {
      "text/plain": [
       "'Mon Dec 28 22:02:17 2020'"
      ]
     },
     "execution_count": 34,
     "metadata": {},
     "output_type": "execute_result"
    }
   ],
   "source": [
    "# 한땀 한땀스..\n",
    "days = datetime.strftime(dt_object, '%a %b %d %H:%M:%S %Y')\n",
    "days"
   ]
  },
  {
   "cell_type": "code",
   "execution_count": 16,
   "id": "7ea5f1de",
   "metadata": {},
   "outputs": [
    {
     "data": {
      "text/plain": [
       "'Mon Dec 28 22:02:17 2020'"
      ]
     },
     "execution_count": 16,
     "metadata": {},
     "output_type": "execute_result"
    }
   ],
   "source": [
    "# a b d X Y 도 요로케 나옴\n",
    "days = datetime.strftime(dt_object, '%a %b %d %X %Y')\n",
    "days"
   ]
  },
  {
   "cell_type": "markdown",
   "id": "65a42a21",
   "metadata": {},
   "source": [
    "#### 7/25 - Q35. 현재 날짜와 시간을 \"Sat Jun 26 08:35:03 2021\" 포멧으로 출력하세요\n"
   ]
  },
  {
   "cell_type": "code",
   "execution_count": 20,
   "id": "23470d5e",
   "metadata": {},
   "outputs": [
    {
     "name": "stdout",
     "output_type": "stream",
     "text": [
      "2022-07-26 09:21:20.379056\n",
      "Tue Jul 26 09:21:20 2022\n",
      "Tue Jul 26 09:21:20 2022\n"
     ]
    }
   ],
   "source": [
    "t = time.time()\n",
    "type(t)\n",
    "d = datetime.fromtimestamp(t)\n",
    "print(d)\n",
    "print(d.strftime('%c'))\n",
    "print(d.strftime('%a %b %d %X %Y'))"
   ]
  },
  {
   "cell_type": "code",
   "execution_count": 35,
   "id": "a2e8f94b",
   "metadata": {},
   "outputs": [
    {
     "data": {
      "text/plain": [
       "'Mon Jul 25 15:27:30 2022'"
      ]
     },
     "execution_count": 35,
     "metadata": {},
     "output_type": "execute_result"
    }
   ],
   "source": [
    "today = datetime.now().strftime('%a %b %d %H:%M:%S %Y')\n",
    "today"
   ]
  },
  {
   "cell_type": "markdown",
   "id": "b0365b16",
   "metadata": {},
   "source": [
    "#### 7/26 - Q36. 현재 시간을 년-월-일 시:분:초로 출력하세요."
   ]
  },
  {
   "cell_type": "code",
   "execution_count": 8,
   "id": "5e543db0",
   "metadata": {},
   "outputs": [
    {
     "data": {
      "text/plain": [
       "'2022-07-27 09:20:03'"
      ]
     },
     "execution_count": 8,
     "metadata": {},
     "output_type": "execute_result"
    }
   ],
   "source": [
    "from datetime import datetime\n",
    "today = datetime.now().strftime('%Y-%m-%d %H:%M:%S')\n",
    "today"
   ]
  },
  {
   "cell_type": "markdown",
   "id": "525175f6",
   "metadata": {},
   "source": [
    "#### 7/26 - Q.37. 현재 시간을 time.time을 불러와서 년-월-일 시:분:초로 출력하세요."
   ]
  },
  {
   "cell_type": "code",
   "execution_count": 30,
   "id": "8503f986",
   "metadata": {},
   "outputs": [
    {
     "name": "stdout",
     "output_type": "stream",
     "text": [
      "1658814285.7815974\n",
      "2022-07-26 14:44:45\n"
     ]
    }
   ],
   "source": [
    "today = time.time()\n",
    "print(today)\n",
    "today_now = datetime.fromtimestamp(today)\n",
    "print(today_now.strftime('%Y-%m-%d %H:%M:%S'))"
   ]
  },
  {
   "cell_type": "markdown",
   "id": "3c24946f",
   "metadata": {},
   "source": [
    "#### 7/26 - Q38. 올해 경과된 날짜수 계산하세요\n",
    "\n",
    "1/1 부터 현재까지"
   ]
  },
  {
   "cell_type": "code",
   "execution_count": 2,
   "id": "9d093b4f",
   "metadata": {},
   "outputs": [
    {
     "data": {
      "text/plain": [
       "datetime.timedelta(days=207)"
      ]
     },
     "execution_count": 2,
     "metadata": {},
     "output_type": "execute_result"
    }
   ],
   "source": [
    "from datetime import date\n",
    "\n",
    "a = date(2022,1,1)\n",
    "b = date.today()\n",
    "b-a"
   ]
  },
  {
   "cell_type": "markdown",
   "id": "762d5b1a",
   "metadata": {},
   "source": [
    "#### 7/26 - Q39. 현재 요일을 \"2021-6-26 오늘은 토요일입니다.\"와 같은 형식으로 출력하세요.\n"
   ]
  },
  {
   "cell_type": "code",
   "execution_count": 12,
   "id": "795e2573",
   "metadata": {},
   "outputs": [
    {
     "name": "stdout",
     "output_type": "stream",
     "text": [
      "2\n",
      "수\n"
     ]
    },
    {
     "data": {
      "text/plain": [
       "'2022-07-27 오늘은 수요일 입니다.'"
      ]
     },
     "execution_count": 12,
     "metadata": {},
     "output_type": "execute_result"
    }
   ],
   "source": [
    "a = date.today().weekday()\n",
    "print(date.today().weekday())\n",
    "date_dict = {0:'월',1:'화',2:'수',3:'목',4:'금',5:'토',6:'일'}\n",
    "print(date_dict[a])\n",
    "\n",
    "today = (f'{date.today()} 오늘은 {date_dict[a]}요일 입니다.')\n",
    "today"
   ]
  },
  {
   "cell_type": "markdown",
   "id": "eec6f4b4",
   "metadata": {},
   "source": [
    "#### 7/26 - Q40. 1에서 백만까지 더하는데 걸리는 프로그램 실행 시간을 밀리초(ms) 단위로 구하세요.\n"
   ]
  },
  {
   "cell_type": "code",
   "execution_count": 59,
   "id": "28da55b7",
   "metadata": {},
   "outputs": [
    {
     "name": "stdout",
     "output_type": "stream",
     "text": [
      "CPU times: total: 0 ns\n",
      "Wall time: 1.01 s\n"
     ]
    }
   ],
   "source": [
    "%%time\n",
    "time.sleep(1)"
   ]
  },
  {
   "cell_type": "code",
   "execution_count": 62,
   "id": "67d248cf",
   "metadata": {
    "scrolled": false
   },
   "outputs": [
    {
     "name": "stdout",
     "output_type": "stream",
     "text": [
      "CPU times: total: 109 ms\n",
      "Wall time: 239 ms\n"
     ]
    }
   ],
   "source": [
    "%%time\n",
    "\n",
    "start = time.time()\n",
    "\n",
    "r = 0\n",
    "for i in range(1, 1000001):\n",
    "    r += i\n",
    "    \n",
    "end = time.time()\n",
    "\n",
    "time.sleep(end-start)"
   ]
  },
  {
   "cell_type": "markdown",
   "id": "a402029d",
   "metadata": {},
   "source": [
    "#### 7/27 - Q41. 아래 코드를 보완하여 발생 가능한 모든 예외(정수, 인덱스, 미리 파악하지 못한 예외)를 처리한 후 마지막에  '모든 예외처리 완료'를 출력하세요.\n",
    "```\n",
    "Q. \n",
    "list_num = [52,273,32,72,100]\n",
    "\n",
    "num_input = int(input('정수 입력> '))\n",
    "print(f'{num_input}번째 요소: {list_num[num_input-1]}')\n",
    "```"
   ]
  },
  {
   "cell_type": "code",
   "execution_count": 52,
   "id": "b1043dbb",
   "metadata": {},
   "outputs": [
    {
     "name": "stdout",
     "output_type": "stream",
     "text": [
      "정수 입력> 5\n",
      "5번째 요소: 100\n"
     ]
    }
   ],
   "source": [
    "# Q. \n",
    "list_num = [52,273,32,72,100]\n",
    "\n",
    "num_input = int(input('정수 입력> '))\n",
    "print(f'{num_input}번째 요소: {list_num[num_input-1]}')\n",
    "\n"
   ]
  },
  {
   "cell_type": "code",
   "execution_count": 58,
   "id": "24700e03",
   "metadata": {},
   "outputs": [
    {
     "name": "stdout",
     "output_type": "stream",
     "text": [
      "정수 입력> 5\n",
      "5번째 요소: 100\n",
      "모든 예외처리 완료!\n"
     ]
    }
   ],
   "source": [
    "# Q. \n",
    "list_num = [52,273,32,72,100]\n",
    "\n",
    "while True :\n",
    "    try:\n",
    "        num_input = int(input('정수 입력> '))\n",
    "        print(f'{num_input}번째 요소: {list_num[num_input-1]}')\n",
    "\n",
    "    except ValueError:\n",
    "        print('입력한 값은 정수가 아닙니다.')\n",
    "    except IndexError as e:\n",
    "        print('인덱스 오류!')\n",
    "    except:\n",
    "        print('Error!')\n",
    "\n",
    "    finally :\n",
    "        print('모든 예외처리 완료!')"
   ]
  },
  {
   "cell_type": "markdown",
   "id": "f3c24a17",
   "metadata": {},
   "source": [
    "#### 7/27 - Q42. 기본가격 1000원인 2개의 상품에 대하여 임의의 추가 가격을 입력시 가격 조정한 결과를 반환하는 Price 클래스를 생성 후 객체를 만들어 price1, price2를 수행하세요. \n",
    "- price1 : 기본가격 + 추가가격\n",
    "- price2 : (기본가격 + 추가가격) * 90%"
   ]
  },
  {
   "cell_type": "code",
   "execution_count": 117,
   "id": "94079c2d",
   "metadata": {},
   "outputs": [
    {
     "name": "stdout",
     "output_type": "stream",
     "text": [
      "가격을 입력하세요.1000\n",
      "가격은 2000원 입니다.\n"
     ]
    }
   ],
   "source": [
    "class Price:\n",
    "    def __init__(self):\n",
    "        self.result = 1000  # 기본가격 1000원\n",
    "    def add(self, num):\n",
    "        self.result += num\n",
    "        return self.result\n",
    "    def per(self, num):\n",
    "        self.result += (num * 0.9)\n",
    "        return self.result\n",
    "\n",
    "price1 = Price().add\n",
    "price2 = Price().per\n",
    "\n",
    "# price1\n",
    "x = int(input(\"가격을 입력하세요.\"))\n",
    "print(f'가격은 {price1(x)}원 입니다.')"
   ]
  },
  {
   "cell_type": "code",
   "execution_count": 118,
   "id": "20de87f1",
   "metadata": {},
   "outputs": [
    {
     "name": "stdout",
     "output_type": "stream",
     "text": [
      "가격을 입력하세요.1000\n",
      "할인된 가격은 1900.0원 입니다.\n"
     ]
    }
   ],
   "source": [
    "# price2\n",
    "try :\n",
    "    y = int(input(\"가격을 입력하세요.\"))\n",
    "    print(f'할인된 가격은 {price2(y)}원 입니다.')\n",
    "except ValueError as e:\n",
    "    print('정확한 금액을 입력하세요.')"
   ]
  },
  {
   "cell_type": "markdown",
   "id": "4c400e1d",
   "metadata": {},
   "source": [
    "#### 7/27 - Q43. strings를 문자의 크기 순서로 내림차순 정렬하세요\n",
    "strings = ['a', 'ca', 'bar', 'aaaa', 'ababa']\n"
   ]
  },
  {
   "cell_type": "code",
   "execution_count": 33,
   "id": "935da31f",
   "metadata": {},
   "outputs": [
    {
     "data": {
      "text/plain": [
       "['ababa', 'aaaa', 'bar', 'ca', 'a']"
      ]
     },
     "execution_count": 33,
     "metadata": {},
     "output_type": "execute_result"
    }
   ],
   "source": [
    "strings = ['a', 'ca', 'bar', 'aaaa', 'ababa']\n",
    "strings[::-1]"
   ]
  },
  {
   "cell_type": "code",
   "execution_count": 38,
   "id": "40bf8096",
   "metadata": {},
   "outputs": [
    {
     "data": {
      "text/plain": [
       "['ababa', 'aaaa', 'bar', 'ca', 'a']"
      ]
     },
     "execution_count": 38,
     "metadata": {},
     "output_type": "execute_result"
    }
   ],
   "source": [
    "strings = ['a', 'ca', 'bar', 'aaaa', 'ababa']\n",
    "strings.sort(key=len,reverse=True)\n",
    "strings"
   ]
  },
  {
   "cell_type": "code",
   "execution_count": 3,
   "id": "6e9695ab",
   "metadata": {},
   "outputs": [
    {
     "data": {
      "text/plain": [
       "['ababa', 'aaaa', 'bar', 'ca', 'a']"
      ]
     },
     "execution_count": 3,
     "metadata": {},
     "output_type": "execute_result"
    }
   ],
   "source": [
    "strings = ['a', 'ca', 'bar', 'aaaa', 'ababa']\n",
    "strings.sort(key = lambda x:len(x), reverse=True)\n",
    "strings"
   ]
  },
  {
   "cell_type": "code",
   "execution_count": 4,
   "id": "121ce952",
   "metadata": {},
   "outputs": [
    {
     "data": {
      "text/plain": [
       "['ababa', 'aaaa', 'bar', 'ca', 'a']"
      ]
     },
     "execution_count": 4,
     "metadata": {},
     "output_type": "execute_result"
    }
   ],
   "source": [
    "strings = ['a', 'ca', 'bar', 'aaaa', 'ababa']\n",
    "strings.reverse()\n",
    "strings"
   ]
  },
  {
   "cell_type": "markdown",
   "id": "f02d3c6f",
   "metadata": {},
   "source": [
    "#### 7/27 - Q44. strings를 다양한 문자가 포함된 순서로 정렬하세요\n",
    "```\n",
    "Q\n",
    "strings = ['foo', 'card', 'bar', 'aaaa', 'abab']\n",
    "strings.sort(key = lambda x:len(set(x)))\n",
    "strings\n",
    "```"
   ]
  },
  {
   "cell_type": "code",
   "execution_count": 32,
   "id": "0039750e",
   "metadata": {},
   "outputs": [
    {
     "data": {
      "text/plain": [
       "['aaaa', 'foo', 'abab', 'bar', 'card']"
      ]
     },
     "execution_count": 32,
     "metadata": {},
     "output_type": "execute_result"
    }
   ],
   "source": [
    "# Q.\n",
    "strings = ['foo', 'card', 'bar', 'aaaa', 'abab']\n",
    "strings.sort(key = lambda x:len(set(x)))\n",
    "strings"
   ]
  },
  {
   "cell_type": "code",
   "execution_count": 119,
   "id": "11941a32",
   "metadata": {},
   "outputs": [
    {
     "data": {
      "text/plain": [
       "['card', 'bar', 'abab', 'foo', 'aaaa']"
      ]
     },
     "execution_count": 119,
     "metadata": {},
     "output_type": "execute_result"
    }
   ],
   "source": [
    "strings = ['foo', 'card', 'bar', 'aaaa', 'abab']\n",
    "strings.sort(key = lambda x:len(set(list(x))))\n",
    "strings[::-1]"
   ]
  },
  {
   "cell_type": "markdown",
   "id": "504f5729",
   "metadata": {},
   "source": [
    "#### 7/27 - Q45.  'abcde' 를 'edcba'로 바꾸어 출력하세요.(5가지 방법)"
   ]
  },
  {
   "cell_type": "code",
   "execution_count": 31,
   "id": "95faecdc",
   "metadata": {},
   "outputs": [
    {
     "name": "stdout",
     "output_type": "stream",
     "text": [
      "edcba\n",
      "edcba\n",
      "edcba\n",
      "edcba\n",
      "edcba\n"
     ]
    }
   ],
   "source": [
    "# 1\n",
    "a = 'abcde'\n",
    "print(a[::-1])\n",
    "\n",
    "# 2\n",
    "a = 'abcde'\n",
    "print(''.join(reversed(a)))\n",
    "\n",
    "# 3\n",
    "a = 'abcde'\n",
    "b = ''\n",
    "for i in a:\n",
    "    b = i + b\n",
    "print(b)\n",
    "\n",
    "# 4\n",
    "a = 'abcde'\n",
    "li = list(a)\n",
    "\n",
    "li.reverse()\n",
    "print(''.join(li))\n",
    "\n",
    "\n",
    "# 5\n",
    "a = 'abcde'\n",
    "def rev(str):\n",
    "    if str=='': return str\n",
    "    else:\n",
    "        return rev(str[1:]) + str[0]\n",
    "print(rev(a))"
   ]
  },
  {
   "cell_type": "markdown",
   "id": "ea5ad49f",
   "metadata": {},
   "source": [
    "#### 7/28 - Q46. numbers 내부에 들어 있는 숫자가 몇 번 등장하는지를 출력하는 코드를 작성하세요.\n",
    "numbers = [3,6,3,5,8,2,9,7,4,3,6,3,5,8,2,9,7,4]\n"
   ]
  },
  {
   "cell_type": "code",
   "execution_count": 7,
   "id": "cc98bac1",
   "metadata": {},
   "outputs": [
    {
     "data": {
      "text/plain": [
       "Counter({3: 4, 6: 2, 5: 2, 8: 2, 2: 2, 9: 2, 7: 2, 4: 2})"
      ]
     },
     "execution_count": 7,
     "metadata": {},
     "output_type": "execute_result"
    }
   ],
   "source": [
    "from collections import Counter\n",
    "\n",
    "numbers = [3,6,3,5,8,2,9,7,4,3,6,3,5,8,2,9,7,4]\n",
    "count = Counter(numbers)\n",
    "count"
   ]
  },
  {
   "cell_type": "code",
   "execution_count": 1,
   "id": "d7b1f1c5",
   "metadata": {},
   "outputs": [
    {
     "data": {
      "text/plain": [
       "{3: 4, 6: 2, 5: 2, 8: 2, 2: 2, 9: 2, 7: 2, 4: 2}"
      ]
     },
     "execution_count": 1,
     "metadata": {},
     "output_type": "execute_result"
    }
   ],
   "source": [
    "numbers = [3,6,3,5,8,2,9,7,4,3,6,3,5,8,2,9,7,4]\n",
    "\n",
    "dic = {}\n",
    "for i in numbers:\n",
    "    if i in dic:\n",
    "        dic[i] += 1\n",
    "    else:\n",
    "        dic[i] = 1\n",
    "dic"
   ]
  },
  {
   "cell_type": "markdown",
   "id": "319b5a76",
   "metadata": {},
   "source": [
    "#### 7/28 - Q47. 코딩을 한줄로 작성해서 동일한 결과를 출력하세요\n"
   ]
  },
  {
   "cell_type": "code",
   "execution_count": 8,
   "id": "01b24f14",
   "metadata": {},
   "outputs": [
    {
     "name": "stdout",
     "output_type": "stream",
     "text": [
      "[0, 4, 16, 36, 64, 100, 144, 196, 256, 324]\n"
     ]
    }
   ],
   "source": [
    "# Q.\n",
    "list = []\n",
    "for i in range(0,20,2):\n",
    "    list.append(i*i)\n",
    "print(list)"
   ]
  },
  {
   "cell_type": "code",
   "execution_count": 39,
   "id": "e2774b36",
   "metadata": {},
   "outputs": [
    {
     "name": "stdout",
     "output_type": "stream",
     "text": [
      "[0, 4, 16, 36, 64, 100, 144, 196, 256, 324]\n"
     ]
    }
   ],
   "source": [
    "list=[i*i for i in range(0,20,2)]\n",
    "print(list)"
   ]
  },
  {
   "cell_type": "markdown",
   "id": "b4c8f284",
   "metadata": {},
   "source": [
    "#### 7/29 - Q48. 반복문으로 팩토리얼을 구하는 사용자 함수를 작성하고 5!, 10!를 구하세요."
   ]
  },
  {
   "cell_type": "code",
   "execution_count": 26,
   "id": "fb85d52c",
   "metadata": {},
   "outputs": [
    {
     "name": "stdout",
     "output_type": "stream",
     "text": [
      "120\n",
      "3628800\n"
     ]
    }
   ],
   "source": [
    "def factorial_for(n):\n",
    "    ret = 1\n",
    "    for i in range(1, n+1):\n",
    "        ret *= i\n",
    "    return ret\n",
    "\n",
    "\n",
    "print(factorial_for(5))\n",
    "print(factorial_for(10))"
   ]
  },
  {
   "cell_type": "markdown",
   "id": "c57420fd",
   "metadata": {},
   "source": [
    "#### 7/29 - Q49. 재귀란 '자기자신을 호출하는 것'을 의미한다. 재귀함수를 이용해서 팩토리얼을 구하는 사용자 함수를 작성하고 1!, 5!, 10!를 구하세요.\n",
    "factorial(n) = n * factorial(n-1) (n >= 1)\n"
   ]
  },
  {
   "cell_type": "code",
   "execution_count": 29,
   "id": "503bfe3f",
   "metadata": {},
   "outputs": [
    {
     "name": "stdout",
     "output_type": "stream",
     "text": [
      "1\n",
      "120\n",
      "3628800\n"
     ]
    }
   ],
   "source": [
    "def f(n):                \n",
    "    if n == 0 :\n",
    "        return 1\n",
    "    return n * f(n-1)\n",
    "print(f(1))\n",
    "print(f(5))\n",
    "print(f(10))"
   ]
  },
  {
   "cell_type": "markdown",
   "id": "d60fd44a",
   "metadata": {},
   "source": [
    "#### 7/28 - Q50. list a의 모든 원소를 실수형으로 바꾸어 출력하세요\n",
    "\n",
    "a = [1,2,3,4,5]\n"
   ]
  },
  {
   "cell_type": "code",
   "execution_count": 7,
   "id": "f537111b",
   "metadata": {},
   "outputs": [
    {
     "name": "stdout",
     "output_type": "stream",
     "text": [
      "[1.0, 2.0, 3.0, 4.0, 5.0]\n"
     ]
    }
   ],
   "source": [
    "a = [1,2,3,4,5]\n",
    "li = []\n",
    "for i in a:\n",
    "    li.append(float(i))\n",
    "print(li)"
   ]
  },
  {
   "cell_type": "code",
   "execution_count": 11,
   "id": "79c775cc",
   "metadata": {},
   "outputs": [
    {
     "ename": "TypeError",
     "evalue": "'list' object is not callable",
     "output_type": "error",
     "traceback": [
      "\u001b[1;31m---------------------------------------------------------------------------\u001b[0m",
      "\u001b[1;31mTypeError\u001b[0m                                 Traceback (most recent call last)",
      "Input \u001b[1;32mIn [11]\u001b[0m, in \u001b[0;36m<cell line: 2>\u001b[1;34m()\u001b[0m\n\u001b[0;32m      1\u001b[0m a \u001b[38;5;241m=\u001b[39m [\u001b[38;5;241m1\u001b[39m,\u001b[38;5;241m2\u001b[39m,\u001b[38;5;241m3\u001b[39m,\u001b[38;5;241m4\u001b[39m,\u001b[38;5;241m5\u001b[39m]\n\u001b[1;32m----> 2\u001b[0m \u001b[38;5;28;43mlist\u001b[39;49m\u001b[43m(\u001b[49m\u001b[38;5;28;43mmap\u001b[39;49m\u001b[43m(\u001b[49m\u001b[38;5;28;43;01mlambda\u001b[39;49;00m\u001b[43m \u001b[49m\u001b[43mx\u001b[49m\u001b[43m:\u001b[49m\u001b[38;5;28;43mfloat\u001b[39;49m\u001b[43m(\u001b[49m\u001b[43mx\u001b[49m\u001b[43m)\u001b[49m\u001b[43m,\u001b[49m\u001b[43ma\u001b[49m\u001b[43m)\u001b[49m\u001b[43m)\u001b[49m\n",
      "\u001b[1;31mTypeError\u001b[0m: 'list' object is not callable"
     ]
    }
   ],
   "source": [
    "a = [1,2,3,4,5]\n",
    "list = []\n",
    "list(map(lambda x:float(x),a))\n",
    "list(map(float,a))"
   ]
  },
  {
   "cell_type": "markdown",
   "id": "b8944690",
   "metadata": {},
   "source": [
    "#### 7/29 - Q31. 문자열 리스트 states를 정형화하여 아래와 같이 출력하세요.\n",
    "```\n",
    "# Q. \n",
    "states = ['   Alabama ', 'Georgia!', 'Georgia', 'georgia', 'FlOrIda',\n",
    "          'south   carolina##', 'West virginia?']\n",
    "[출력]\n",
    "['Alabama',\n",
    " 'Georgia',\n",
    " 'Georgia',\n",
    " 'Georgia',\n",
    " 'Florida',\n",
    " 'South   Carolina',\n",
    " 'West Virginia']\n",
    "\n",
    "```"
   ]
  },
  {
   "cell_type": "code",
   "execution_count": 8,
   "id": "20700389",
   "metadata": {},
   "outputs": [
    {
     "data": {
      "text/plain": [
       "['Alabama',\n",
       " 'Georgia',\n",
       " 'Georgia',\n",
       " 'Georgia',\n",
       " 'Florida',\n",
       " 'Southcarolina',\n",
       " 'Westvirginia']"
      ]
     },
     "execution_count": 8,
     "metadata": {},
     "output_type": "execute_result"
    }
   ],
   "source": [
    "import re\n",
    "\n",
    "states = ['   Alabama ', 'Georgia!', 'Georgia', 'georgia', 'FlOrIda',\n",
    "          'south   carolina##', 'West virginia?']\n",
    "\n",
    "def form(word):\n",
    "    word = word.strip()\n",
    "    word = re.sub('[^\\w*]+','',word)\n",
    "    word = word.title()\n",
    "    return word\n",
    "list(map(form,states))"
   ]
  },
  {
   "cell_type": "code",
   "execution_count": 9,
   "id": "ab2d26ed",
   "metadata": {
    "scrolled": true
   },
   "outputs": [
    {
     "data": {
      "text/plain": [
       "['Alabama',\n",
       " 'Georgia',\n",
       " 'Georgia',\n",
       " 'Georgia',\n",
       " 'Florida',\n",
       " 'South   Carolina',\n",
       " 'West Virginia']"
      ]
     },
     "execution_count": 9,
     "metadata": {},
     "output_type": "execute_result"
    }
   ],
   "source": [
    "import re\n",
    "\n",
    "states = ['   Alabama ', 'Georgia!', 'Georgia', 'georgia', 'FlOrIda',\n",
    "          'south   carolina##', 'West virginia?']\n",
    "\n",
    "def form(word):\n",
    "    word = word.strip()\n",
    "    word = re.sub('[#?!]+','',word)\n",
    "    word = word.title()\n",
    "    return word\n",
    "list(map(form,states))"
   ]
  },
  {
   "cell_type": "markdown",
   "id": "4a32fc99",
   "metadata": {},
   "source": [
    "#### 7/29 - Q51. 게시물의 총 건수와 한 페이지에 보여 줄 게시물 수를 입력시 총 페이지 수를 출력하는 프로그램\n"
   ]
  },
  {
   "cell_type": "code",
   "execution_count": 30,
   "id": "69844274",
   "metadata": {},
   "outputs": [
    {
     "name": "stdout",
     "output_type": "stream",
     "text": [
      "게시물 총 건수 : 50\n",
      "한 페이지에 보여줄 게시물 수 : 10\n"
     ]
    },
    {
     "data": {
      "text/plain": [
       "5"
      ]
     },
     "execution_count": 30,
     "metadata": {},
     "output_type": "execute_result"
    }
   ],
   "source": [
    "m = int(input(\"게시물 총 건수 : \"))\n",
    "n = int(input(\"한 페이지에 보여줄 게시물 수 : \"))\n",
    "\n",
    "def total_page(m,n):\n",
    "    if m % n == 0:\n",
    "        return m // n\n",
    "    else : m // n + 1\n",
    "        \n",
    "total_page(m,n)"
   ]
  },
  {
   "cell_type": "code",
   "execution_count": 31,
   "id": "0c3a5f85",
   "metadata": {},
   "outputs": [
    {
     "name": "stdout",
     "output_type": "stream",
     "text": [
      "총건수: 50\n",
      "한페이지에 보여줄 게시물수: 10\n",
      "5\n"
     ]
    }
   ],
   "source": [
    "# 게시판 페이징\n",
    "import math\n",
    "\n",
    "m = int(input('총건수: '))\n",
    "n = int(input('한페이지에 보여줄 게시물수: '))\n",
    "\n",
    "print(math.ceil(m/n))"
   ]
  },
  {
   "cell_type": "markdown",
   "id": "f9e670cc",
   "metadata": {},
   "source": [
    "#### 7/29 -  Q52. 랜덤하게 1000명의 이름, 키와 몸무게 만들어 저장한 후 다시 불러내어 다음과 같이 출력하세요.\n",
    "\n",
    "- 이름 :라바\n",
    "- 몸무게: 80\n",
    "- 키: 146\n",
    "- BMI: 37.53049352598987\n",
    "- 결과: 과체중\n"
   ]
  },
  {
   "cell_type": "code",
   "execution_count": 37,
   "id": "70f14ff9",
   "metadata": {},
   "outputs": [
    {
     "ename": "TypeError",
     "evalue": "random_name() takes 0 positional arguments but 1 was given",
     "output_type": "error",
     "traceback": [
      "\u001b[1;31m---------------------------------------------------------------------------\u001b[0m",
      "\u001b[1;31mTypeError\u001b[0m                                 Traceback (most recent call last)",
      "Input \u001b[1;32mIn [37]\u001b[0m, in \u001b[0;36m<cell line: 15>\u001b[1;34m()\u001b[0m\n\u001b[0;32m     12\u001b[0m height \u001b[38;5;241m=\u001b[39m np\u001b[38;5;241m.\u001b[39mrandom\u001b[38;5;241m.\u001b[39mnormal(\u001b[38;5;241m165\u001b[39m,\u001b[38;5;241m25\u001b[39m, size\u001b[38;5;241m=\u001b[39m\u001b[38;5;241m1000\u001b[39m)\n\u001b[0;32m     13\u001b[0m weight \u001b[38;5;241m=\u001b[39m np\u001b[38;5;241m.\u001b[39mrandom\u001b[38;5;241m.\u001b[39mnormal(\u001b[38;5;241m70\u001b[39m,\u001b[38;5;241m30\u001b[39m, size\u001b[38;5;241m=\u001b[39m\u001b[38;5;241m1000\u001b[39m)\n\u001b[1;32m---> 15\u001b[0m \u001b[43mrandom_name\u001b[49m\u001b[43m(\u001b[49m\u001b[43mname\u001b[49m\u001b[43m)\u001b[49m\n",
      "\u001b[1;31mTypeError\u001b[0m: random_name() takes 0 positional arguments but 1 was given"
     ]
    }
   ],
   "source": [
    "import numpy as np\n",
    "\n",
    "name = \"가나다라마바사아자차카타파하\"\n",
    "\n",
    "\n",
    "for i in name:\n",
    "    \n",
    "\n",
    "\n",
    "\n",
    "\n",
    "def random_name():\n",
    "    for i in name:\n",
    "        name = random_name(name)\n",
    "    result = \"\"\n",
    "    return result\n",
    "\n",
    "\n",
    "height = np.random.normal(165,25, size=1000)\n",
    "weight = np.random.normal(70,30, size=1000)\n",
    "\n",
    "random_name(name)"
   ]
  },
  {
   "cell_type": "code",
   "execution_count": null,
   "id": "190ac0fc",
   "metadata": {},
   "outputs": [],
   "source": []
  },
  {
   "cell_type": "code",
   "execution_count": null,
   "id": "2d5a8a15",
   "metadata": {},
   "outputs": [],
   "source": []
  },
  {
   "cell_type": "code",
   "execution_count": null,
   "id": "d08efd42",
   "metadata": {},
   "outputs": [],
   "source": []
  },
  {
   "cell_type": "code",
   "execution_count": null,
   "id": "7b5c7f7e",
   "metadata": {},
   "outputs": [],
   "source": []
  },
  {
   "cell_type": "code",
   "execution_count": null,
   "id": "ca98e2ec",
   "metadata": {},
   "outputs": [],
   "source": []
  },
  {
   "cell_type": "markdown",
   "id": "16e699cd",
   "metadata": {},
   "source": [
    "#### 8/1 - Q53. 입력한 숫자를 천 단위로 구분하여 출력하세요."
   ]
  },
  {
   "cell_type": "code",
   "execution_count": 16,
   "id": "e2bbfd9a",
   "metadata": {},
   "outputs": [
    {
     "name": "stdout",
     "output_type": "stream",
     "text": [
      "숫자를 입력하세요  1234567789\n",
      "1,234,567,789\n"
     ]
    }
   ],
   "source": [
    "num = int(input('숫자를 입력하세요  '))\n",
    "print(format(num, ',d'))"
   ]
  },
  {
   "cell_type": "markdown",
   "id": "4cf20587",
   "metadata": {},
   "source": [
    "#### 8/1 - Q54. 카운터에서 거스름돈으로 사용할 500원, 100원, 50원, 10원짜리 동전이 무한히 존재한다고 가정한다. 손님에게 거슬러 줘야 할 돈이 N원일 때 거슬러 줘야 할 동전의 최소 개수를 구하세요. 단, 거슬러 줘야 할 돈 N은 항상 10의 배수이다. 2750원"
   ]
  },
  {
   "cell_type": "code",
   "execution_count": 18,
   "id": "816f1f01",
   "metadata": {},
   "outputs": [
    {
     "name": "stdout",
     "output_type": "stream",
     "text": [
      "2750\n",
      "8\n"
     ]
    }
   ],
   "source": [
    "n = int(input())\n",
    "coins = [500,100,50,10]\n",
    "answer = 0\n",
    "\n",
    "for coin in coins:\n",
    "    answer += n // coin\n",
    "    n %= coin\n",
    "    \n",
    "print(answer)"
   ]
  },
  {
   "cell_type": "code",
   "execution_count": 1,
   "id": "857771ec",
   "metadata": {},
   "outputs": [
    {
     "name": "stdout",
     "output_type": "stream",
     "text": [
      "8\n"
     ]
    }
   ],
   "source": [
    "n = 2750\n",
    "count = 0\n",
    "\n",
    "# 큰 단위의 화폐부터 차례대로 확인하기\n",
    "coin_types = [500, 100, 50, 10]\n",
    "\n",
    "for coin in coin_types:\n",
    "    count += n // coin # 해당 화폐로 거슬러 줄 수 있는 동전의 개수 세기\n",
    "    n %= coin\n",
    "\n",
    "print(count)"
   ]
  },
  {
   "cell_type": "markdown",
   "id": "7d34e3b9",
   "metadata": {},
   "source": [
    "#### 8/2 - Q55. data/mydata.txt 파일에 있는 단어 개수를 출력하세요."
   ]
  },
  {
   "cell_type": "code",
   "execution_count": 9,
   "id": "56ec8e21",
   "metadata": {},
   "outputs": [
    {
     "data": {
      "text/plain": [
       "<_io.TextIOWrapper name='./mydata.txt' mode='r' encoding='cp949'>"
      ]
     },
     "execution_count": 9,
     "metadata": {},
     "output_type": "execute_result"
    }
   ],
   "source": [
    "d = open('./mydata.txt','r')\n",
    "d"
   ]
  },
  {
   "cell_type": "code",
   "execution_count": 10,
   "id": "5b809991",
   "metadata": {
    "scrolled": true
   },
   "outputs": [
    {
     "name": "stdout",
     "output_type": "stream",
     "text": [
      "단어 수 : 213\n"
     ]
    }
   ],
   "source": [
    "data = d.read()\n",
    "data1 = len(data.split())\n",
    "print(f'단어 수 : {data1}')"
   ]
  },
  {
   "cell_type": "markdown",
   "id": "6ec6849b",
   "metadata": {},
   "source": [
    "#### 8/2 - Q56. 파일이름과 특정 단어을 인자로 입력하면 그 파일에 있는 특정 단어의 개수를 반환하는 사용자 함수를 이용하여 mydata 파일에서 how의 개수를 출력하세요.\n"
   ]
  },
  {
   "cell_type": "code",
   "execution_count": 7,
   "id": "8cbdb57c",
   "metadata": {},
   "outputs": [
    {
     "name": "stdout",
     "output_type": "stream",
     "text": [
      "파일 이름을 입력하세요 > mydata.txt\n",
      "찾고 싶은 단어를 입력하세요 > how\n",
      "how의 개수: 2\n"
     ]
    }
   ],
   "source": [
    "def wordcount():\n",
    "    file_name = input('파일 이름을 입력하세요 > ')\n",
    "    find_word = input('찾고 싶은 단어를 입력하세요 > ')\n",
    "    \n",
    "    file=open(file_name,\"r\")\n",
    "    sum=0\n",
    "    for mydata in file:\n",
    "        a = mydata.split(' ')\n",
    "        for b in a:\n",
    "            c = b.count(find_word)\n",
    "            sum += c \n",
    "    print(f'{find_word}의 개수: {sum}')\n",
    "wordcount()"
   ]
  },
  {
   "cell_type": "code",
   "execution_count": 12,
   "id": "498f73f7",
   "metadata": {},
   "outputs": [
    {
     "name": "stdout",
     "output_type": "stream",
     "text": [
      "filename을 입력하세요: mydata.txt\n",
      "filename에서 개수를 구할 단어를 입력하세요: HOW\n",
      "how의 개수: 2\n"
     ]
    }
   ],
   "source": [
    "def countWord(filename, word):\n",
    "    with open(filename, 'r') as f:\n",
    "        text = f.read()\n",
    "        text = text.lower() # 대소문자 구분 없이 모두 소문자로 변환\n",
    "        pos = text.find(word)\n",
    "        count = 0\n",
    "        while pos != -1: # 단어가 없을 때까지 하나씩 카운트\n",
    "            count += 1\n",
    "            pos = text.find(word, pos+1)\n",
    "    return count\n",
    "\n",
    "filename = input('filename을 입력하세요: ')\n",
    "word = input('filename에서 개수를 구할 단어를 입력하세요: ').lower() #소문자\n",
    "ret = countWord(filename, word)\n",
    "print(f'{word}의 개수: {ret}')"
   ]
  },
  {
   "cell_type": "markdown",
   "id": "25046434",
   "metadata": {},
   "source": [
    "#### 8/3 - Q59.\n",
    "문자열을 입력받아 같은 문자가 연속적으로 반복되는 경우에 그 반복 횟수를 표시해 문자열을 압축하여 표시하세요.\n",
    "- 예) \"aaabbcccccca\" -> a3b2c6a1\n"
   ]
  },
  {
   "cell_type": "code",
   "execution_count": 2,
   "id": "f068c2e3",
   "metadata": {},
   "outputs": [
    {
     "name": "stdout",
     "output_type": "stream",
     "text": [
      "문자열을 입력하세요aaabbcccccca\n",
      "a3b2c6a1\n"
     ]
    }
   ],
   "source": [
    "string = input(\"문자열을 입력하세요\")\n",
    "\n",
    "idx = string[0]\n",
    "count = 1\n",
    "length = len(string)\n",
    "\n",
    "for i in range(1, length):\n",
    "    if string[i] == idx:\n",
    "        count += 1\n",
    "    else:\n",
    "        print('%c%d' % (idx, count), end='')\n",
    "        count = 1\n",
    "        idx=string[i]\n",
    "print(\"%c%d\" % (string[length-1], count))"
   ]
  },
  {
   "cell_type": "code",
   "execution_count": 3,
   "id": "733db063",
   "metadata": {},
   "outputs": [
    {
     "name": "stdout",
     "output_type": "stream",
     "text": [
      "문자열을 입력하세요aaaaabbbcccccaa\n",
      "a5b3c5a2\n"
     ]
    }
   ],
   "source": [
    "string = input(\"문자열을 입력하세요\")\n",
    "\n",
    "def compress(s):\n",
    "    bfr = \"\"\n",
    "    cnt = 0\n",
    "    l = \"\"\n",
    "\n",
    "    for c in s :\n",
    "        if c==bfr : cnt+=1\n",
    "        else:\n",
    "            if (bfr!=\"\") : l+=bfr+str(cnt)\n",
    "            bfr=c\n",
    "            cnt=1\n",
    "    return l+bfr+str(cnt)\n",
    "\n",
    "print(compress(string))"
   ]
  },
  {
   "cell_type": "code",
   "execution_count": 5,
   "id": "d566ae94",
   "metadata": {},
   "outputs": [
    {
     "data": {
      "text/plain": [
       "'a5b3c5a2'"
      ]
     },
     "execution_count": 5,
     "metadata": {},
     "output_type": "execute_result"
    }
   ],
   "source": [
    "from itertools import groupby\n",
    "t = 'aaaaabbbcccccaa'\n",
    "''.join(f'{x}{len(list(y))}' for x, y in groupby(t))"
   ]
  },
  {
   "cell_type": "code",
   "execution_count": 6,
   "id": "aa6f561d",
   "metadata": {},
   "outputs": [
    {
     "name": "stdout",
     "output_type": "stream",
     "text": [
      "a ['a', 'a', 'a', 'a', 'a']\n",
      "b ['b', 'b', 'b']\n",
      "c ['c', 'c', 'c', 'c', 'c']\n",
      "a ['a', 'a']\n"
     ]
    }
   ],
   "source": [
    "for x, y in groupby(t):\n",
    "    print(x, list(y))"
   ]
  },
  {
   "cell_type": "code",
   "execution_count": 5,
   "id": "a1f5e9d6",
   "metadata": {},
   "outputs": [
    {
     "data": {
      "text/plain": [
       "\"['a', 3, 'b', 2, 'c', 6, 'a', 1]\""
      ]
     },
     "execution_count": 5,
     "metadata": {},
     "output_type": "execute_result"
    }
   ],
   "source": [
    "inputs=\"aaabbcccccca\"\n",
    "ans=[]\n",
    "count=1\n",
    "\n",
    "for x in range(len(inputs)-1):\n",
    "\n",
    "    if inputs[x]==inputs[x+1]:\n",
    "\n",
    "        count+=1\n",
    "\n",
    "    else :\n",
    "        ans.append(inputs[x])\n",
    "        ans.append(count)\n",
    "        count=1\n",
    "        x+=1\n",
    "else : \n",
    "    ans.append(inputs[x])\n",
    "    ans.append(count)\n",
    "\n",
    "ans = str(ans)\n",
    "a = ''.join(ans)\n",
    "a"
   ]
  },
  {
   "cell_type": "markdown",
   "id": "eab5ade3",
   "metadata": {},
   "source": [
    "#### 8/4 - Q62.\n",
    "N개의 요소로 이루어진 배열이 있을 때 주어진 수들을 M번 더하여 가장 큰 수를 만드는 프로그램을 작성하세요. 단 배열의 특정한 인덱스(번호)에 해당하는 수가 연속해서 K번을 초과하여 더해질 수 없는 것이 특징이다.\n",
    "프로그램은 다음 조건을 만족하는 N, M, K를 공백으로 일차 입력하고 N개의 배열을 공백으로 이차 입력하면 결과물을 출력하는 방식으로 수행함.\n",
    "- 2 <= N <= 1000\n",
    "- 1 <= M <= 10000\n",
    "- 1 <= K <= 10000\n"
   ]
  },
  {
   "cell_type": "code",
   "execution_count": 2,
   "id": "43997d86",
   "metadata": {},
   "outputs": [
    {
     "name": "stdout",
     "output_type": "stream",
     "text": [
      "5 8 3\n",
      "2 3 5 4 6\n",
      "46\n"
     ]
    }
   ],
   "source": [
    "# N, M, K를 공백으로 구분하여 입력받기\n",
    "n, m, k = map(int, input().split())\n",
    "# N개의 수를 공백으로 구분하여 입력받기\n",
    "data = list(map(int, input().split()))\n",
    "\n",
    "data.sort() # 입력받은 수들 정렬하기\n",
    "first = data[n - 1] # 가장 큰 수 , 이유: sort\n",
    "second = data[n- 2] # 두 번째로 큰 수\n",
    "\n",
    "result = 0\n",
    "\n",
    "while True:\n",
    "    for i in range(k):# 가장 큰 수를 K번 더하기\n",
    "        if m == 0: # m이 0이라면 반복문 탈출\n",
    "            break\n",
    "        result += first\n",
    "        m -= 1 # 더할 때마다 1씩 빼기\n",
    "    if m == 0:# m이 0이라면 반복문 탈출\n",
    "        break\n",
    "    result += second # 두 번째로 큰 수를 한 번 더하기\n",
    "    m -= 1 # 더할 때마다 1식 빼기\n",
    "    \n",
    "print(result) # 최종 답안 출력"
   ]
  },
  {
   "cell_type": "code",
   "execution_count": 1,
   "id": "c7efacd2",
   "metadata": {},
   "outputs": [
    {
     "name": "stdout",
     "output_type": "stream",
     "text": [
      "4 10 3\n",
      "1 2 3 4\n",
      "38\n"
     ]
    }
   ],
   "source": [
    "# N, M, K를 공백으로 구분하여 입력받기\n",
    "n, m, k = map(int, input().split())\n",
    "# N개의 수를 공백으로 구분하여 입력받기\n",
    "data = list(map(int, input().split()))\n",
    "\n",
    "data.sort() # 입력받은 수들 정렬하기\n",
    "first = data[n - 1] # 가장 큰 수 , 이유: sort\n",
    "second = data[n- 2] # 두 번째로 큰 수\n",
    "# 가장 큰 수 더해지는 횟수 계산\n",
    "count = int(m / (k + 1)) * k\n",
    "count += m % (k + 1) # 나누어 떨어지지 않았을 경우\n",
    "\n",
    "result = 0\n",
    "result += count * first # 가장 큰 수 더하기\n",
    "result += (m - count) * second # 두 번째로 큰수 더하기\n",
    "\n",
    "print(result)"
   ]
  },
  {
   "cell_type": "code",
   "execution_count": null,
   "id": "a8824d13",
   "metadata": {},
   "outputs": [],
   "source": [
    "i, j = divmod(M,K)\n",
    "total_sum = sum(array_b[:i]) * 3 + array_b[i] * j"
   ]
  },
  {
   "cell_type": "markdown",
   "id": "3e7547e8",
   "metadata": {},
   "source": [
    "#### 8/5 - Q61. file1, 2의 파일 크기를 각각 구하세요.\n",
    "\n",
    "- file1 = 'data/stockcode.txt'\n",
    "- file2 = 'data/img_sample.jpg'"
   ]
  },
  {
   "cell_type": "code",
   "execution_count": null,
   "id": "feacf915",
   "metadata": {},
   "outputs": [],
   "source": []
  },
  {
   "cell_type": "code",
   "execution_count": null,
   "id": "28f81c99",
   "metadata": {},
   "outputs": [],
   "source": []
  },
  {
   "cell_type": "markdown",
   "id": "8750d79b",
   "metadata": {},
   "source": [
    "#### 8/5 - Q62.\n",
    "stockcode.txt의 105바이트 위치에서 500바이트를 읽어 그 내용은 stock_part.txt에 저장 한 후 출력하세요.\n"
   ]
  },
  {
   "cell_type": "code",
   "execution_count": null,
   "id": "94f69617",
   "metadata": {},
   "outputs": [],
   "source": []
  },
  {
   "cell_type": "code",
   "execution_count": null,
   "id": "66591057",
   "metadata": {},
   "outputs": [],
   "source": []
  },
  {
   "cell_type": "code",
   "execution_count": null,
   "id": "11ab38fa",
   "metadata": {},
   "outputs": [],
   "source": []
  },
  {
   "cell_type": "code",
   "execution_count": null,
   "id": "bb45a433",
   "metadata": {},
   "outputs": [],
   "source": []
  },
  {
   "cell_type": "code",
   "execution_count": null,
   "id": "8a934905",
   "metadata": {},
   "outputs": [],
   "source": []
  },
  {
   "cell_type": "code",
   "execution_count": null,
   "id": "37f399aa",
   "metadata": {},
   "outputs": [],
   "source": []
  },
  {
   "cell_type": "code",
   "execution_count": null,
   "id": "300ef68d",
   "metadata": {},
   "outputs": [],
   "source": []
  },
  {
   "cell_type": "code",
   "execution_count": null,
   "id": "1479d4b8",
   "metadata": {},
   "outputs": [],
   "source": []
  },
  {
   "cell_type": "code",
   "execution_count": null,
   "id": "6c9ec9ae",
   "metadata": {},
   "outputs": [],
   "source": []
  },
  {
   "cell_type": "code",
   "execution_count": null,
   "id": "bf37be9f",
   "metadata": {},
   "outputs": [],
   "source": []
  }
 ],
 "metadata": {
  "kernelspec": {
   "display_name": "Python 3 (ipykernel)",
   "language": "python",
   "name": "python3"
  },
  "language_info": {
   "codemirror_mode": {
    "name": "ipython",
    "version": 3
   },
   "file_extension": ".py",
   "mimetype": "text/x-python",
   "name": "python",
   "nbconvert_exporter": "python",
   "pygments_lexer": "ipython3",
   "version": "3.8.13"
  },
  "toc": {
   "base_numbering": 1,
   "nav_menu": {},
   "number_sections": false,
   "sideBar": true,
   "skip_h1_title": false,
   "title_cell": "Table of Contents",
   "title_sidebar": "Contents",
   "toc_cell": false,
   "toc_position": {},
   "toc_section_display": true,
   "toc_window_display": false
  }
 },
 "nbformat": 4,
 "nbformat_minor": 5
}
