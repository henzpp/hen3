{
 "cells": [
  {
   "cell_type": "markdown",
   "id": "c5c451cd",
   "metadata": {},
   "source": [
    "#### 과제 0728_3 \n",
    "\n",
    "아래사항에 유의하여 OpenWeatherMap 날씨정보를 웹 API로 가져와서 출력하세요\n",
    "* https://openweathermap.org/api 사이트에서 Current Weather data에 대한 API doc 내용을 파악\n",
    "* 개발자 등록을 하고 API 키 발급 받음(https://home.openweathermap.org/users/sign_up)\n",
    "* New Account 등록 후 API Keys라는 탭에서 API Key 확인 가능\n",
    "* 기본적으로 유료 사이트이지만 현재 날씨, 5일까지의 날씨는 무료로 사용할 수 있음(단 1분에 60번만 호출 가능)\n",
    "* 서울, 토쿄, 뉴욕의 날씨를 가져오는 프로그램 작성(text로 가져와서 json으로 변환하여 일차 출력)\n",
    "  - cities = [\"Seoul,KR\", \"Tokyo,JP\", \"New York,US\"]\n",
    "  - 가져올 정보 : 도시별 날씨(description), 최저 기온(temp_min), 최고 기온(temp_max), 습도(humidity), 기압(pressure), 풍속(speed)\n",
    "  - 기온 데이터는 켈빈 온도로 되어 있으며 섭씨 온도로 변환해서 출력\n",
    "* json 포멧으로 출력 데이터를 아래와 같이 가독력 있게 출력(소수점 2번째에서 반올림 처리)\n",
    "\n",
    "```\n",
    "+ 도시 = Seoul\n",
    "| 날씨 = broken clouds\n",
    "| 최저 기온 = -1.0 2\n",
    "| 최고 기온 = 2.0 2\n",
    "| 습도 = 74\n",
    "| 기압 = 1023\n",
    "| 풍속 = 0.5\n",
    "```"
   ]
  },
  {
   "cell_type": "code",
   "execution_count": 2,
   "id": "abe99a31",
   "metadata": {},
   "outputs": [
    {
     "data": {
      "text/plain": [
       "{'coord': {'lon': 126.9778, 'lat': 37.5683},\n",
       " 'weather': [{'id': 803,\n",
       "   'main': 'Clouds',\n",
       "   'description': 'broken clouds',\n",
       "   'icon': '04d'}],\n",
       " 'base': 'stations',\n",
       " 'main': {'temp': 305.81,\n",
       "  'feels_like': 312.81,\n",
       "  'temp_min': 304.84,\n",
       "  'temp_max': 305.81,\n",
       "  'pressure': 1006,\n",
       "  'humidity': 76,\n",
       "  'sea_level': 1006,\n",
       "  'grnd_level': 999},\n",
       " 'visibility': 6565,\n",
       " 'wind': {'speed': 4.83, 'deg': 136, 'gust': 7.52},\n",
       " 'clouds': {'all': 69},\n",
       " 'dt': 1659330531,\n",
       " 'sys': {'type': 1,\n",
       "  'id': 5509,\n",
       "  'country': 'KR',\n",
       "  'sunrise': 1659299730,\n",
       "  'sunset': 1659350475},\n",
       " 'timezone': 32400,\n",
       " 'id': 1835848,\n",
       " 'name': 'Seoul',\n",
       " 'cod': 200}"
      ]
     },
     "execution_count": 2,
     "metadata": {},
     "output_type": "execute_result"
    }
   ],
   "source": [
    "import os\n",
    "import sys\n",
    "import urllib.request\n",
    "import json\n",
    "from urllib.request import Request, urlopen\n",
    "\n",
    "API_key = '7b4ea05181ecdfc3af4cc9cfeb1c5fa5'\n",
    "city_name = 'Seoul'\n",
    "country_code = 'KR'\n",
    "\n",
    "url = f\"https://api.openweathermap.org/data/2.5/weather?q={city_name},{country_code}&appid={API_key}\"\n",
    "\n",
    "request = urllib.request.Request(url)\n",
    "response = urllib.request.urlopen(request)\n",
    "rescode = response.getcode()\n",
    "response_body = urlopen(request).read()\n",
    "\n",
    "response_dict = json.loads(response_body.decode('utf-8'))\n",
    "response_dict"
   ]
  },
  {
   "cell_type": "code",
   "execution_count": 3,
   "id": "59c24e6a",
   "metadata": {},
   "outputs": [
    {
     "name": "stdout",
     "output_type": "stream",
     "text": [
      "+ 도시 = Seoul \n",
      "| 날씨 = broken clouds \n",
      "| 최저 기온 = 304.84 \n",
      "| 최고 기온 = 305.81 \n",
      "| 습도 = 76 \n",
      "| 기압 = 1006 \n",
      "| 풍속 = 4.83 \n",
      "\n"
     ]
    }
   ],
   "source": [
    "print('+ 도시 =',response_dict['name'],'\\n'\n",
    "     '| 날씨 =',response_dict['weather'][0]['description'],'\\n'\n",
    "     '| 최저 기온 =',response_dict['main']['temp_min'],'\\n'\n",
    "     '| 최고 기온 =',response_dict['main']['temp_max'],'\\n'\n",
    "     '| 습도 =',response_dict['main']['humidity'],'\\n'\n",
    "     '| 기압 =',response_dict['main']['pressure'],'\\n'\n",
    "     '| 풍속 =',response_dict['wind']['speed'],'\\n')"
   ]
  },
  {
   "cell_type": "code",
   "execution_count": 4,
   "id": "8dd9dc00",
   "metadata": {},
   "outputs": [
    {
     "data": {
      "text/plain": [
       "{'coord': {'lon': 139.6917, 'lat': 35.6895},\n",
       " 'weather': [{'id': 803,\n",
       "   'main': 'Clouds',\n",
       "   'description': 'broken clouds',\n",
       "   'icon': '04d'}],\n",
       " 'base': 'stations',\n",
       " 'main': {'temp': 309.54,\n",
       "  'feels_like': 316.54,\n",
       "  'temp_min': 306.9,\n",
       "  'temp_max': 311.81,\n",
       "  'pressure': 1010,\n",
       "  'humidity': 52},\n",
       " 'visibility': 10000,\n",
       " 'wind': {'speed': 7.72, 'deg': 180},\n",
       " 'clouds': {'all': 75},\n",
       " 'dt': 1659330288,\n",
       " 'sys': {'type': 2,\n",
       "  'id': 2038398,\n",
       "  'country': 'JP',\n",
       "  'sunrise': 1659296921,\n",
       "  'sunset': 1659347181},\n",
       " 'timezone': 32400,\n",
       " 'id': 1850144,\n",
       " 'name': 'Tokyo',\n",
       " 'cod': 200}"
      ]
     },
     "execution_count": 4,
     "metadata": {},
     "output_type": "execute_result"
    }
   ],
   "source": [
    "import os\n",
    "import sys\n",
    "import urllib.request\n",
    "import json\n",
    "from urllib.request import Request, urlopen\n",
    "\n",
    "API_key = '7b4ea05181ecdfc3af4cc9cfeb1c5fa5'\n",
    "city_name = 'Tokyo'\n",
    "country_code = 'JP'\n",
    "\n",
    "url = f\"https://api.openweathermap.org/data/2.5/weather?q={city_name},{country_code}&appid={API_key}\"\n",
    "\n",
    "request = Request(url)\n",
    "request.get_method = lambda: 'GET'\n",
    "response_body = urlopen(request).read()\n",
    "\n",
    "response_dict2 = json.loads(response_body.decode('utf-8'))\n",
    "response_dict2"
   ]
  },
  {
   "cell_type": "code",
   "execution_count": 5,
   "id": "bbca8c48",
   "metadata": {},
   "outputs": [
    {
     "name": "stdout",
     "output_type": "stream",
     "text": [
      "+ 도시 = Tokyo \n",
      "| 날씨 = broken clouds \n",
      "| 최저 기온 = 306.9 \n",
      "| 최고 기온 = 311.81 \n",
      "| 습도 = 52 \n",
      "| 기압 = 1010 \n",
      "| 풍속 = 7.72 \n",
      "\n"
     ]
    }
   ],
   "source": [
    "print('+ 도시 =',response_dict2['name'],'\\n'\n",
    "     '| 날씨 =',response_dict2['weather'][0]['description'],'\\n'\n",
    "     '| 최저 기온 =',response_dict2['main']['temp_min'],'\\n'\n",
    "     '| 최고 기온 =',response_dict2['main']['temp_max'],'\\n'\n",
    "     '| 습도 =',response_dict2['main']['humidity'],'\\n'\n",
    "     '| 기압 =',response_dict2['main']['pressure'],'\\n'\n",
    "     '| 풍속 =',response_dict2['wind']['speed'],'\\n')"
   ]
  },
  {
   "cell_type": "code",
   "execution_count": 6,
   "id": "d3d5920d",
   "metadata": {},
   "outputs": [
    {
     "data": {
      "text/plain": [
       "{'coord': {'lon': -74.006, 'lat': 40.7143},\n",
       " 'weather': [{'id': 500,\n",
       "   'main': 'Rain',\n",
       "   'description': 'light rain',\n",
       "   'icon': '10n'}],\n",
       " 'base': 'stations',\n",
       " 'main': {'temp': 297.73,\n",
       "  'feels_like': 298.05,\n",
       "  'temp_min': 295.36,\n",
       "  'temp_max': 298.83,\n",
       "  'pressure': 1017,\n",
       "  'humidity': 69},\n",
       " 'visibility': 10000,\n",
       " 'wind': {'speed': 3.6, 'deg': 250},\n",
       " 'rain': {'1h': 0.87},\n",
       " 'clouds': {'all': 100},\n",
       " 'dt': 1659330556,\n",
       " 'sys': {'type': 2,\n",
       "  'id': 2039034,\n",
       "  'country': 'US',\n",
       "  'sunrise': 1659347557,\n",
       "  'sunset': 1659399117},\n",
       " 'timezone': -14400,\n",
       " 'id': 5128581,\n",
       " 'name': 'New York',\n",
       " 'cod': 200}"
      ]
     },
     "execution_count": 6,
     "metadata": {},
     "output_type": "execute_result"
    }
   ],
   "source": [
    "import os\n",
    "import sys\n",
    "import urllib.request\n",
    "import json\n",
    "\n",
    "API_key = '7b4ea05181ecdfc3af4cc9cfeb1c5fa5'\n",
    "city_name = 'New%20York'\n",
    "country_code = 'US'\n",
    "\n",
    "url = f\"https://api.openweathermap.org/data/2.5/weather?q={city_name},{country_code}&appid={API_key}\"\n",
    "\n",
    "request = Request(url)\n",
    "request.get_method = lambda: 'GET'\n",
    "response_body = urlopen(request).read()\n",
    "\n",
    "response_dict3 = json.loads(response_body.decode('utf-8'))\n",
    "response_dict3"
   ]
  },
  {
   "cell_type": "code",
   "execution_count": 7,
   "id": "bef31007",
   "metadata": {},
   "outputs": [
    {
     "name": "stdout",
     "output_type": "stream",
     "text": [
      "+ 도시 = New York \n",
      "| 날씨 = light rain \n",
      "| 최저 기온 = 295.36 \n",
      "| 최고 기온 = 298.83 \n",
      "| 습도 = 69 \n",
      "| 기압 = 1017 \n",
      "| 풍속 = 3.6 \n",
      "\n"
     ]
    }
   ],
   "source": [
    "print('+ 도시 =',response_dict3['name'],'\\n'\n",
    "     '| 날씨 =',response_dict3['weather'][0]['description'],'\\n'\n",
    "     '| 최저 기온 =',response_dict3['main']['temp_min'],'\\n'\n",
    "     '| 최고 기온 =',response_dict3['main']['temp_max'],'\\n'\n",
    "     '| 습도 =',response_dict3['main']['humidity'],'\\n'\n",
    "     '| 기압 =',response_dict3['main']['pressure'],'\\n'\n",
    "     '| 풍속 =',response_dict3['wind']['speed'],'\\n')"
   ]
  }
 ],
 "metadata": {
  "kernelspec": {
   "display_name": "Python 3 (ipykernel)",
   "language": "python",
   "name": "python3"
  },
  "language_info": {
   "codemirror_mode": {
    "name": "ipython",
    "version": 3
   },
   "file_extension": ".py",
   "mimetype": "text/x-python",
   "name": "python",
   "nbconvert_exporter": "python",
   "pygments_lexer": "ipython3",
   "version": "3.8.13"
  },
  "toc": {
   "base_numbering": 1,
   "nav_menu": {},
   "number_sections": false,
   "sideBar": true,
   "skip_h1_title": false,
   "title_cell": "Table of Contents",
   "title_sidebar": "Contents",
   "toc_cell": false,
   "toc_position": {},
   "toc_section_display": true,
   "toc_window_display": false
  }
 },
 "nbformat": 4,
 "nbformat_minor": 5
}
