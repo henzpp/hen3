{
 "cells": [
  {
   "cell_type": "code",
   "execution_count": null,
   "id": "21f1c98b",
   "metadata": {},
   "outputs": [],
   "source": [
    "# 크롤링\n",
    "# 최소한 1000개씩 4개 카테고리\n",
    "# 결측치, 중복행 제거\n",
    "# 불용어 처리 (리스트로 만들어 제거)"
   ]
  },
  {
   "cell_type": "code",
   "execution_count": null,
   "id": "ab7b181a",
   "metadata": {},
   "outputs": [],
   "source": []
  },
  {
   "cell_type": "markdown",
   "id": "d863d278",
   "metadata": {},
   "source": [
    "#### 과제 0726_2\n",
    "네이버 카테고리별 기사를 아래 카테고리 정의를 기준으로 크롤링한 후 불필요한 공백을 제거하고 한글만으로 된 데이터 프레임을 출력하세요. (용도는 전체, 카테고리별 키워드 분석을 위한 시각화임을 감안하여 데이터 수집 및 전처리 수행)\n",
    "- 카테고리 정의\n",
    "    - 100 정치\n",
    "        - (청와대[264] + 국회/정당[265] + 북한[268] + 국방/외교[267])\n",
    "\n",
    "    - 101 경제\n",
    "        - (금융[259] + 증권[258] + 산업/재계[261] + 글로벌 경제[262] + 부동산[260])\n",
    "\n",
    "    - 103 생활/문화\n",
    "        - (건강정보[241] + 여행/레저[237] + 공연/전시[242] + 날씨[248] + 생활문화 일반[245])\n",
    "\n",
    "    - 105 IT/과학\n",
    "        - (통신/뉴미디어[227] + IT 일반[230] + 컴퓨터[283] + 과학 일반[228])\n",
    "        \n",
    "- 카테고리별 1000개, 총 4천개로 구성된 데이터프레임 생성\n"
   ]
  },
  {
   "cell_type": "markdown",
   "id": "84d288de",
   "metadata": {},
   "source": [
    "### 웹 구조 파악 \n",
    "sid1 = 100 (정치), sid2=265 (국회/정당), page ="
   ]
  },
  {
   "cell_type": "markdown",
   "id": "2cd99f21",
   "metadata": {},
   "source": [
    "https://news.naver.com/main/main.naver?mode=LSD&mid=shm&sid1=100 (정치)\n",
    "https://news.naver.com/main/list.naver?mode=LS2D&mid=shm&sid1=100&sid2=265 (국회/정당)\n",
    "https://news.naver.com/main/list.naver?mode=LS2D&mid=shm&sid2=265&sid1=100&date=20220726&page=27 (page)"
   ]
  },
  {
   "cell_type": "code",
   "execution_count": null,
   "id": "a34f6b33",
   "metadata": {},
   "outputs": [],
   "source": [
    "# url 수정\n",
    "url = 'https://news.naver.com/main/list.naver?mode=LS2D&mid=shm&sid2='+str(cat)+'&sid1=100&date=20220726&page='+str(i+1)"
   ]
  },
  {
   "cell_type": "code",
   "execution_count": null,
   "id": "cda9a3b5",
   "metadata": {},
   "outputs": [],
   "source": []
  },
  {
   "cell_type": "code",
   "execution_count": null,
   "id": "4145ebd3",
   "metadata": {},
   "outputs": [],
   "source": []
  },
  {
   "cell_type": "code",
   "execution_count": null,
   "id": "74cbaa38",
   "metadata": {},
   "outputs": [],
   "source": []
  },
  {
   "cell_type": "code",
   "execution_count": null,
   "id": "5a27f5a3",
   "metadata": {},
   "outputs": [],
   "source": []
  },
  {
   "cell_type": "code",
   "execution_count": null,
   "id": "436248ed",
   "metadata": {},
   "outputs": [],
   "source": []
  },
  {
   "cell_type": "code",
   "execution_count": null,
   "id": "76cab7dd",
   "metadata": {},
   "outputs": [],
   "source": []
  },
  {
   "cell_type": "code",
   "execution_count": null,
   "id": "6f4cf1c4",
   "metadata": {},
   "outputs": [],
   "source": []
  },
  {
   "cell_type": "code",
   "execution_count": null,
   "id": "2a445d26",
   "metadata": {},
   "outputs": [],
   "source": []
  },
  {
   "cell_type": "code",
   "execution_count": null,
   "id": "16d19ca1",
   "metadata": {},
   "outputs": [],
   "source": []
  },
  {
   "cell_type": "code",
   "execution_count": null,
   "id": "f1157331",
   "metadata": {},
   "outputs": [],
   "source": []
  },
  {
   "cell_type": "code",
   "execution_count": null,
   "id": "bfcc7923",
   "metadata": {},
   "outputs": [],
   "source": []
  },
  {
   "cell_type": "code",
   "execution_count": null,
   "id": "8d8a18b7",
   "metadata": {},
   "outputs": [],
   "source": []
  },
  {
   "cell_type": "code",
   "execution_count": null,
   "id": "efc31c78",
   "metadata": {},
   "outputs": [],
   "source": []
  },
  {
   "cell_type": "code",
   "execution_count": null,
   "id": "1f35f3c8",
   "metadata": {},
   "outputs": [],
   "source": []
  },
  {
   "cell_type": "code",
   "execution_count": null,
   "id": "578ad400",
   "metadata": {},
   "outputs": [],
   "source": []
  }
 ],
 "metadata": {
  "kernelspec": {
   "display_name": "Python 3 (ipykernel)",
   "language": "python",
   "name": "python3"
  },
  "language_info": {
   "codemirror_mode": {
    "name": "ipython",
    "version": 3
   },
   "file_extension": ".py",
   "mimetype": "text/x-python",
   "name": "python",
   "nbconvert_exporter": "python",
   "pygments_lexer": "ipython3",
   "version": "3.8.13"
  },
  "toc": {
   "base_numbering": 1,
   "nav_menu": {},
   "number_sections": false,
   "sideBar": true,
   "skip_h1_title": false,
   "title_cell": "Table of Contents",
   "title_sidebar": "Contents",
   "toc_cell": false,
   "toc_position": {},
   "toc_section_display": true,
   "toc_window_display": false
  }
 },
 "nbformat": 4,
 "nbformat_minor": 5
}
