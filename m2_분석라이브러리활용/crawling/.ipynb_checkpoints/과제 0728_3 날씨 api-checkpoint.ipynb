{
 "cells": [
  {
   "cell_type": "markdown",
   "id": "c5c451cd",
   "metadata": {},
   "source": [
    "#### 과제 0728_3 \n",
    "\n",
    "아래사항에 유의하여 OpenWeatherMap 날씨정보를 웹 API로 가져와서 출력하세요\n",
    "* https://openweathermap.org/api 사이트에서 Current Weather data에 대한 API doc 내용을 파악\n",
    "* 개발자 등록을 하고 API 키 발급 받음(https://home.openweathermap.org/users/sign_up)\n",
    "* New Account 등록 후 API Keys라는 탭에서 API Key 확인 가능\n",
    "* 기본적으로 유료 사이트이지만 현재 날씨, 5일까지의 날씨는 무료로 사용할 수 있음(단 1분에 60번만 호출 가능)\n",
    "* 서울, 토쿄, 뉴욕의 날씨를 가져오는 프로그램 작성(text로 가져와서 json으로 변환하여 일차 출력)\n",
    "  - cities = [\"Seoul,KR\", \"Tokyo,JP\", \"New York,US\"]\n",
    "  - 가져올 정보 : 도시별 날씨(description), 최저 기온(temp_min), 최고 기온(temp_max), 습도(humidity), 기압(pressure), 풍속(speed)\n",
    "  - 기온 데이터는 켈빈 온도로 되어 있으며 섭씨 온도로 변환해서 출력\n",
    "* json 포멧으로 출력 데이터를 아래와 같이 가독력 있게 출력(소수점 2번째에서 반올림 처리)\n",
    "\n",
    "```\n",
    "+ 도시 = Seoul\n",
    "| 날씨 = broken clouds\n",
    "| 최저 기온 = -1.0 2\n",
    "| 최고 기온 = 2.0 2\n",
    "| 습도 = 74\n",
    "| 기압 = 1023\n",
    "| 풍속 = 0.5\n",
    "```"
   ]
  },
  {
   "cell_type": "code",
   "execution_count": 1,
   "id": "abe99a31",
   "metadata": {},
   "outputs": [
    {
     "ename": "NameError",
     "evalue": "name 'response_body' is not defined",
     "output_type": "error",
     "traceback": [
      "\u001b[1;31m---------------------------------------------------------------------------\u001b[0m",
      "\u001b[1;31mNameError\u001b[0m                                 Traceback (most recent call last)",
      "Input \u001b[1;32mIn [1]\u001b[0m, in \u001b[0;36m<cell line: 16>\u001b[1;34m()\u001b[0m\n\u001b[0;32m     13\u001b[0m response \u001b[38;5;241m=\u001b[39m urllib\u001b[38;5;241m.\u001b[39mrequest\u001b[38;5;241m.\u001b[39murlopen(request)\n\u001b[0;32m     14\u001b[0m rescode \u001b[38;5;241m=\u001b[39m response\u001b[38;5;241m.\u001b[39mgetcode()\n\u001b[1;32m---> 16\u001b[0m response_dict \u001b[38;5;241m=\u001b[39m json\u001b[38;5;241m.\u001b[39mloads(\u001b[43mresponse_body\u001b[49m\u001b[38;5;241m.\u001b[39mdecode(\u001b[38;5;124m'\u001b[39m\u001b[38;5;124mutf-8\u001b[39m\u001b[38;5;124m'\u001b[39m))\n\u001b[0;32m     17\u001b[0m response_dict\n",
      "\u001b[1;31mNameError\u001b[0m: name 'response_body' is not defined"
     ]
    }
   ],
   "source": [
    "import os\n",
    "import sys\n",
    "import urllib.request\n",
    "import json\n",
    "\n",
    "API_key = '7b4ea05181ecdfc3af4cc9cfeb1c5fa5'\n",
    "city_name = 'Seoul'\n",
    "country_code = 'KR'\n",
    "\n",
    "url = f\"https://api.openweathermap.org/data/2.5/weather?q={city_name},{country_code}&appid={API_key}\"\n",
    "\n",
    "request = urllib.request.Request(url)\n",
    "response = urllib.request.urlopen(request)\n",
    "rescode = response.getcode()\n",
    "\n",
    "response_dict = json.loads(response_body.decode('utf-8'))\n",
    "response_dict"
   ]
  },
  {
   "cell_type": "code",
   "execution_count": null,
   "id": "59c24e6a",
   "metadata": {},
   "outputs": [],
   "source": []
  }
 ],
 "metadata": {
  "kernelspec": {
   "display_name": "Python 3 (ipykernel)",
   "language": "python",
   "name": "python3"
  },
  "language_info": {
   "codemirror_mode": {
    "name": "ipython",
    "version": 3
   },
   "file_extension": ".py",
   "mimetype": "text/x-python",
   "name": "python",
   "nbconvert_exporter": "python",
   "pygments_lexer": "ipython3",
   "version": "3.8.13"
  },
  "toc": {
   "base_numbering": 1,
   "nav_menu": {},
   "number_sections": false,
   "sideBar": true,
   "skip_h1_title": false,
   "title_cell": "Table of Contents",
   "title_sidebar": "Contents",
   "toc_cell": false,
   "toc_position": {},
   "toc_section_display": true,
   "toc_window_display": false
  }
 },
 "nbformat": 4,
 "nbformat_minor": 5
}
