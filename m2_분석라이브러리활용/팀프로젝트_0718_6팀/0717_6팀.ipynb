{
 "cells": [
  {
   "cell_type": "code",
   "execution_count": 2,
   "id": "ee4641fc",
   "metadata": {},
   "outputs": [],
   "source": [
    "import pandas as pd\n",
    "import numpy as np\n",
    "import random\n",
    "from datetime import datetime \n",
    "import time\n",
    "import seaborn as sns\n",
    "import matplotlib.pyplot as plt\n",
    "import math\n",
    "plt.rcParams['font.family'] = 'Malgun Gothic'\n",
    "plt.rcParams['axes.unicode_minus'] = False"
   ]
  },
  {
   "cell_type": "code",
   "execution_count": 276,
   "id": "8228f006",
   "metadata": {},
   "outputs": [
    {
     "data": {
      "text/html": [
       "<div>\n",
       "<style scoped>\n",
       "    .dataframe tbody tr th:only-of-type {\n",
       "        vertical-align: middle;\n",
       "    }\n",
       "\n",
       "    .dataframe tbody tr th {\n",
       "        vertical-align: top;\n",
       "    }\n",
       "\n",
       "    .dataframe thead th {\n",
       "        text-align: right;\n",
       "    }\n",
       "</style>\n",
       "<table border=\"1\" class=\"dataframe\">\n",
       "  <thead>\n",
       "    <tr style=\"text-align: right;\">\n",
       "      <th></th>\n",
       "      <th>cusno</th>\n",
       "      <th>gender</th>\n",
       "      <th>age</th>\n",
       "      <th>t_num</th>\n",
       "      <th>cusno</th>\n",
       "      <th>region</th>\n",
       "      <th>product</th>\n",
       "      <th>price</th>\n",
       "      <th>quantity</th>\n",
       "      <th>amount</th>\n",
       "      <th>date</th>\n",
       "    </tr>\n",
       "  </thead>\n",
       "  <tbody>\n",
       "  </tbody>\n",
       "</table>\n",
       "</div>"
      ],
      "text/plain": [
       "Empty DataFrame\n",
       "Columns: [cusno, gender, age, t_num, cusno, region, product, price, quantity, amount, date]\n",
       "Index: []"
      ]
     },
     "execution_count": 276,
     "metadata": {},
     "output_type": "execute_result"
    }
   ],
   "source": [
    "random.seed(1)\n",
    "\n",
    "\n",
    "#빈 데이터프레임 만들기\n",
    "df = pd.DataFrame(columns=['cusno','gender','age','t_num','cusno','region','product','price','quantity','amount','date'])\n",
    "df.head()"
   ]
  },
  {
   "cell_type": "markdown",
   "id": "d585a405",
   "metadata": {},
   "source": [
    "# 고객 데이터\n"
   ]
  },
  {
   "cell_type": "code",
   "execution_count": 277,
   "id": "60882ed1",
   "metadata": {},
   "outputs": [
    {
     "data": {
      "text/html": [
       "<div>\n",
       "<style scoped>\n",
       "    .dataframe tbody tr th:only-of-type {\n",
       "        vertical-align: middle;\n",
       "    }\n",
       "\n",
       "    .dataframe tbody tr th {\n",
       "        vertical-align: top;\n",
       "    }\n",
       "\n",
       "    .dataframe thead th {\n",
       "        text-align: right;\n",
       "    }\n",
       "</style>\n",
       "<table border=\"1\" class=\"dataframe\">\n",
       "  <thead>\n",
       "    <tr style=\"text-align: right;\">\n",
       "      <th></th>\n",
       "      <th>cusno</th>\n",
       "      <th>gender</th>\n",
       "      <th>age</th>\n",
       "    </tr>\n",
       "  </thead>\n",
       "  <tbody>\n",
       "    <tr>\n",
       "      <th>0</th>\n",
       "      <td>1001</td>\n",
       "      <td>1</td>\n",
       "      <td>35</td>\n",
       "    </tr>\n",
       "    <tr>\n",
       "      <th>1</th>\n",
       "      <td>1002</td>\n",
       "      <td>0</td>\n",
       "      <td>56</td>\n",
       "    </tr>\n",
       "    <tr>\n",
       "      <th>2</th>\n",
       "      <td>1003</td>\n",
       "      <td>0</td>\n",
       "      <td>41</td>\n",
       "    </tr>\n",
       "    <tr>\n",
       "      <th>3</th>\n",
       "      <td>1004</td>\n",
       "      <td>1</td>\n",
       "      <td>65</td>\n",
       "    </tr>\n",
       "    <tr>\n",
       "      <th>4</th>\n",
       "      <td>1005</td>\n",
       "      <td>1</td>\n",
       "      <td>35</td>\n",
       "    </tr>\n",
       "  </tbody>\n",
       "</table>\n",
       "</div>"
      ],
      "text/plain": [
       "   cusno  gender  age\n",
       "0   1001       1   35\n",
       "1   1002       0   56\n",
       "2   1003       0   41\n",
       "3   1004       1   65\n",
       "4   1005       1   35"
      ]
     },
     "execution_count": 277,
     "metadata": {},
     "output_type": "execute_result"
    }
   ],
   "source": [
    "# 고객 데이터 만들기(1,000개)\n",
    "# 고객번호(랜덤), 성(랜덤), 나이(조작)\n",
    "random.seed(1)\n",
    "\n",
    "df_cus = pd.DataFrame(columns=['cusno','gender','age'])\n",
    "\n",
    "cusno = np.arange(1001,2001)\n",
    "gender = np.random.choice([0,1],size=1000)\n",
    "\n",
    "# [나이 age] amount > 20 중가 구매(30~60대, 평균 45) / amount > 30 고가 구매(30~50대, 평균 40)\n",
    "age1 = np.random.normal(45, 10, size=500)\n",
    "age1 = np.asarray(age1, dtype = int)\n",
    "\n",
    "age2 = np.random.normal(40, 10, size=500)\n",
    "age2 = np.asarray(age1, dtype = int)\n",
    "\n",
    "\n",
    "#age2 = np.random.normal(40, 20, size=500)\n",
    "#age2 = np.asarray(age2, dtype = int)\n",
    "\n",
    "cusno = pd.Series(cusno)\n",
    "gender = pd.Series(gender)\n",
    "\n",
    "age1 = pd.Series(age1)\n",
    "age2= pd.Series(age2)\n",
    "\n",
    "age = pd.concat([age1,age2],axis=0,ignore_index=True)\n",
    "\n",
    "df_cus['cusno'] = cusno\n",
    "df_cus['gender'] = gender\n",
    "df_cus['age'] = age\n",
    "\n",
    "\n",
    "\n",
    "df_cus.head()"
   ]
  },
  {
   "cell_type": "code",
   "execution_count": 278,
   "id": "dacd34f6",
   "metadata": {},
   "outputs": [
    {
     "data": {
      "text/html": [
       "<div>\n",
       "<style scoped>\n",
       "    .dataframe tbody tr th:only-of-type {\n",
       "        vertical-align: middle;\n",
       "    }\n",
       "\n",
       "    .dataframe tbody tr th {\n",
       "        vertical-align: top;\n",
       "    }\n",
       "\n",
       "    .dataframe thead th {\n",
       "        text-align: right;\n",
       "    }\n",
       "</style>\n",
       "<table border=\"1\" class=\"dataframe\">\n",
       "  <thead>\n",
       "    <tr style=\"text-align: right;\">\n",
       "      <th></th>\n",
       "      <th>cusno</th>\n",
       "      <th>gender</th>\n",
       "      <th>age</th>\n",
       "    </tr>\n",
       "  </thead>\n",
       "  <tbody>\n",
       "    <tr>\n",
       "      <th>0</th>\n",
       "      <td>1001</td>\n",
       "      <td>1</td>\n",
       "      <td>35</td>\n",
       "    </tr>\n",
       "    <tr>\n",
       "      <th>1</th>\n",
       "      <td>1002</td>\n",
       "      <td>0</td>\n",
       "      <td>56</td>\n",
       "    </tr>\n",
       "    <tr>\n",
       "      <th>2</th>\n",
       "      <td>1003</td>\n",
       "      <td>0</td>\n",
       "      <td>41</td>\n",
       "    </tr>\n",
       "    <tr>\n",
       "      <th>3</th>\n",
       "      <td>1004</td>\n",
       "      <td>1</td>\n",
       "      <td>65</td>\n",
       "    </tr>\n",
       "    <tr>\n",
       "      <th>4</th>\n",
       "      <td>1005</td>\n",
       "      <td>1</td>\n",
       "      <td>35</td>\n",
       "    </tr>\n",
       "    <tr>\n",
       "      <th>...</th>\n",
       "      <td>...</td>\n",
       "      <td>...</td>\n",
       "      <td>...</td>\n",
       "    </tr>\n",
       "    <tr>\n",
       "      <th>995</th>\n",
       "      <td>1996</td>\n",
       "      <td>1</td>\n",
       "      <td>41</td>\n",
       "    </tr>\n",
       "    <tr>\n",
       "      <th>996</th>\n",
       "      <td>1997</td>\n",
       "      <td>0</td>\n",
       "      <td>36</td>\n",
       "    </tr>\n",
       "    <tr>\n",
       "      <th>997</th>\n",
       "      <td>1998</td>\n",
       "      <td>1</td>\n",
       "      <td>50</td>\n",
       "    </tr>\n",
       "    <tr>\n",
       "      <th>998</th>\n",
       "      <td>1999</td>\n",
       "      <td>1</td>\n",
       "      <td>47</td>\n",
       "    </tr>\n",
       "    <tr>\n",
       "      <th>999</th>\n",
       "      <td>2000</td>\n",
       "      <td>1</td>\n",
       "      <td>41</td>\n",
       "    </tr>\n",
       "  </tbody>\n",
       "</table>\n",
       "<p>1000 rows × 3 columns</p>\n",
       "</div>"
      ],
      "text/plain": [
       "     cusno  gender  age\n",
       "0     1001       1   35\n",
       "1     1002       0   56\n",
       "2     1003       0   41\n",
       "3     1004       1   65\n",
       "4     1005       1   35\n",
       "..     ...     ...  ...\n",
       "995   1996       1   41\n",
       "996   1997       0   36\n",
       "997   1998       1   50\n",
       "998   1999       1   47\n",
       "999   2000       1   41\n",
       "\n",
       "[1000 rows x 3 columns]"
      ]
     },
     "execution_count": 278,
     "metadata": {},
     "output_type": "execute_result"
    }
   ],
   "source": [
    "df_cus"
   ]
  },
  {
   "cell_type": "code",
   "execution_count": 279,
   "id": "95c26f0d",
   "metadata": {},
   "outputs": [
    {
     "name": "stdout",
     "output_type": "stream",
     "text": [
      "<class 'pandas.core.frame.DataFrame'>\n",
      "RangeIndex: 1000 entries, 0 to 999\n",
      "Data columns (total 3 columns):\n",
      " #   Column  Non-Null Count  Dtype\n",
      "---  ------  --------------  -----\n",
      " 0   cusno   1000 non-null   int32\n",
      " 1   gender  1000 non-null   int32\n",
      " 2   age     1000 non-null   int32\n",
      "dtypes: int32(3)\n",
      "memory usage: 11.8 KB\n"
     ]
    }
   ],
   "source": [
    "df_cus.info()"
   ]
  },
  {
   "cell_type": "code",
   "execution_count": 280,
   "id": "70fe4899",
   "metadata": {},
   "outputs": [
    {
     "data": {
      "text/plain": [
       "array([35, 56, 41, 65, 54, 52, 50, 44, 45, 51, 43, 48, 34, 28, 46, 31, 38,\n",
       "       47, 42, 53, 19, 57, 37, 25, 39, 64, 49, 60, 32, 59, 29, 58, 27, 68,\n",
       "       66, 55, 33, 63, 30, 26, 24, 36, 23, 40, 61, 62, 22, 71, 15, 21, 20])"
      ]
     },
     "execution_count": 280,
     "metadata": {},
     "output_type": "execute_result"
    }
   ],
   "source": [
    "df_cus.age.unique()"
   ]
  },
  {
   "cell_type": "code",
   "execution_count": 281,
   "id": "e762144f",
   "metadata": {},
   "outputs": [
    {
     "data": {
      "text/plain": [
       "15"
      ]
     },
     "execution_count": 281,
     "metadata": {},
     "output_type": "execute_result"
    }
   ],
   "source": [
    "df_cus.age.min()"
   ]
  },
  {
   "cell_type": "code",
   "execution_count": 282,
   "id": "91fa574c",
   "metadata": {},
   "outputs": [
    {
     "data": {
      "text/plain": [
       "71"
      ]
     },
     "execution_count": 282,
     "metadata": {},
     "output_type": "execute_result"
    }
   ],
   "source": [
    "df_cus.age.max()"
   ]
  },
  {
   "cell_type": "code",
   "execution_count": 283,
   "id": "4aa29959",
   "metadata": {},
   "outputs": [
    {
     "data": {
      "text/plain": [
       "44.896"
      ]
     },
     "execution_count": 283,
     "metadata": {},
     "output_type": "execute_result"
    }
   ],
   "source": [
    "df_cus.age.mean()"
   ]
  },
  {
   "cell_type": "markdown",
   "id": "1d0321f9",
   "metadata": {},
   "source": [
    "# 거래 데이터"
   ]
  },
  {
   "cell_type": "code",
   "execution_count": 284,
   "id": "1c80e042",
   "metadata": {},
   "outputs": [],
   "source": [
    "#거래 데이터프레임 만들기(10,000개)\n",
    "random.seed(1)\n",
    "\n",
    "df_tra = pd.DataFrame(columns=['t_num','cusno','region','product','price','quantity','amount','date'])\n",
    "\n",
    "t_num = random.sample(list(range(10000,50000)),10000)\n",
    "cusno = np.random.randint(1001,2001,size=10000)\n",
    "\n",
    "t_num = pd.Series(t_num)\n",
    "cusno = pd.Series(cusno)\n",
    "\n",
    "df_tra['t_num'] = t_num\n",
    "df_tra['cusno'] = cusno\n",
    "\n",
    "# [지역 region] 지역별 인구 분포 /지역 세팅\n",
    "region1 = np.random.randint(1,2,size=2522)\n",
    "region2 = np.random.randint(2,3,size=887)\n",
    "region3 = np.random.randint(3,4,size=631)\n",
    "region4 = np.random.randint(4,5,size=784)\n",
    "region5 = np.random.randint(5,6,size=381)\n",
    "region6 = np.random.randint(6,7,size=385)\n",
    "region7 = np.random.randint(7,8,size=297)\n",
    "region8 = np.random.randint(8,9,size=100)\n",
    "region9 = np.random.randint(9,10,size=3604)\n",
    "region10 = np.random.randint(10,11,size=409)\n",
    "\n",
    "a1 = pd.Series(region1)\n",
    "a2 = pd.Series(region2)\n",
    "a3 = pd.Series(region3)\n",
    "a4 = pd.Series(region4)\n",
    "a5 = pd.Series(region5)\n",
    "a6 = pd.Series(region6)\n",
    "a7 = pd.Series(region7)\n",
    "a8 = pd.Series(region8)\n",
    "a9 = pd.Series(region9)\n",
    "a10 = pd.Series(region10)\n",
    "\n",
    "#region = region.sample(frac=1).reset_index(drop=True)\n",
    "df_tra['region'] = pd.concat([a1,a2,a3,a4,a5,a6,a7,a8,a9,a10],axis=0,ignore_index=True)\n",
    "\n",
    "\n",
    "\n",
    "# product 제품 중고가 수량 설정\n",
    "p10 = np.random.randint(10,11,size=6000)\n",
    "p20 = np.random.randint(20,21,size=3000)\n",
    "p30 = np.random.randint(30,31,size=1000)\n",
    "\n",
    "product10 = pd.Series(p10)\n",
    "product20 = pd.Series(p20)\n",
    "product30 = pd.Series(p30)\n",
    "\n",
    "product = pd.concat([product10,product20,product30],axis=0,ignore_index=True) #행으로 이어 붙이기\n",
    "df_tra['product'] = product.sample(frac=1).reset_index(drop=True) # 랜덤 섞어주기\n",
    "\n",
    "# price,quantity,amount 초기값 랜덤 설정\n",
    "price = np.random.uniform(1000,50000,size=10000).round(2)\n",
    "quantity = np.random.randint(1,100,size=10000)\n",
    "amount = price*quantity\n",
    "\n",
    "# 가격대 조정\n",
    "def price_set(x):\n",
    "    if x == 10: \n",
    "        y = np.random.randint(1,101)\n",
    "    elif x == 20:\n",
    "        y = np.random.randint(100,501)\n",
    "    elif x == 30: \n",
    "        y = np.random.randint(500,2001)\n",
    "    return y\n",
    "\n",
    "# 구매수량 조정(저가:1~20개, 중가:1~10개, 고가:1~5개)\n",
    "def quantity_set(x):\n",
    "    if x == 10: \n",
    "        z = np.random.randint(1,21)\n",
    "    elif x == 20:\n",
    "        z = np.random.randint(1,11)\n",
    "    elif x == 30: \n",
    "        z = np.random.randint(1,6)\n",
    "    return z\n",
    "\n",
    "# 함수 적용\n",
    "df_tra['price']=df_tra['product'].apply(price_set)\n",
    "df_tra['quantity']=df_tra['product'].apply(quantity_set)\n",
    "\n",
    "\n",
    "#amount 조정\n",
    "df_tra['amount']=df_tra['price']*df_tra['quantity']\n",
    "\n",
    "\n",
    "\n",
    "# [날짜 date 구매한 날짜]\n",
    "'''1. 월별(시즌) amount 가중치 부여\n",
    "    - 1~3월 / 신학기 할인 → 매출 증가\n",
    "    - 5~9월 / 에어컨 → 매출 증가'''\n",
    "\n",
    "# 20년도 조정\n",
    "date_list20_1 = list(pd.date_range('2020-01-01','2020-03-31',freq='D'))\n",
    "date_list20_1 = np.random.choice(date_list20_1,size=1500)\n",
    "date_list20_1 = pd.Series(date_list20_1)\n",
    "\n",
    "date_list20_2 = list(pd.date_range('2020-04-01','2020-04-30',freq='D'))\n",
    "date_list20_2 = np.random.choice(date_list20_2,size=100)\n",
    "date_list20_2 = pd.Series(date_list20_2)\n",
    "\n",
    "date_list20_3 = list(pd.date_range('2020-05-01','2020-09-30',freq='D'))\n",
    "date_list20_3 = np.random.choice(date_list20_3,size=2500)\n",
    "date_list20_3 = pd.Series(date_list20_3)\n",
    "\n",
    "date_list20_4 = list(pd.date_range('2020-10-01','2020-12-31',freq='D'))\n",
    "date_list20_4 = np.random.choice(date_list20_4,size=900)\n",
    "date_list20_4 = pd.Series(date_list20_4)\n",
    "\n",
    "#21년도 조정\n",
    "date_list21_1 = list(pd.date_range('2021-01-01','2021-03-31',freq='D'))\n",
    "date_list21_1 = np.random.choice(date_list21_1,size=1500)\n",
    "date_list21_1 = pd.Series(date_list21_1)\n",
    "\n",
    "date_list21_2 = list(pd.date_range('2021-04-01','2021-04-30',freq='D'))\n",
    "date_list21_2 = np.random.choice(date_list21_2,size=100)\n",
    "date_list21_2 = pd.Series(date_list21_2)\n",
    "\n",
    "date_list21_3 = list(pd.date_range('2021-05-01','2021-09-30',freq='D'))\n",
    "date_list21_3 = np.random.choice(date_list21_3,size=2500)\n",
    "date_list21_3 = pd.Series(date_list21_3)\n",
    "\n",
    "date_list21_4 = list(pd.date_range('2021-10-01','2021-12-31',freq='D'))\n",
    "date_list21_4 = np.random.choice(date_list21_4,size=900)\n",
    "date_list21_4 = pd.Series(date_list21_4)\n",
    "\n",
    "\n",
    "df_tra['date'] = pd.concat([date_list20_1,date_list20_2,date_list20_3,date_list20_4,\n",
    "                 date_list21_1,date_list21_2,date_list21_3,date_list21_4],axis=0,ignore_index=True)\n"
   ]
  },
  {
   "cell_type": "code",
   "execution_count": 285,
   "id": "793c6a3c",
   "metadata": {},
   "outputs": [
    {
     "data": {
      "text/html": [
       "<div>\n",
       "<style scoped>\n",
       "    .dataframe tbody tr th:only-of-type {\n",
       "        vertical-align: middle;\n",
       "    }\n",
       "\n",
       "    .dataframe tbody tr th {\n",
       "        vertical-align: top;\n",
       "    }\n",
       "\n",
       "    .dataframe thead th {\n",
       "        text-align: right;\n",
       "    }\n",
       "</style>\n",
       "<table border=\"1\" class=\"dataframe\">\n",
       "  <thead>\n",
       "    <tr style=\"text-align: right;\">\n",
       "      <th></th>\n",
       "      <th>t_num</th>\n",
       "      <th>cusno</th>\n",
       "      <th>region</th>\n",
       "      <th>product</th>\n",
       "      <th>price</th>\n",
       "      <th>quantity</th>\n",
       "      <th>amount</th>\n",
       "      <th>date</th>\n",
       "    </tr>\n",
       "  </thead>\n",
       "  <tbody>\n",
       "    <tr>\n",
       "      <th>0</th>\n",
       "      <td>18805</td>\n",
       "      <td>1619</td>\n",
       "      <td>1</td>\n",
       "      <td>10</td>\n",
       "      <td>65</td>\n",
       "      <td>11</td>\n",
       "      <td>715</td>\n",
       "      <td>2020-01-10</td>\n",
       "    </tr>\n",
       "    <tr>\n",
       "      <th>1</th>\n",
       "      <td>47303</td>\n",
       "      <td>1609</td>\n",
       "      <td>1</td>\n",
       "      <td>20</td>\n",
       "      <td>326</td>\n",
       "      <td>10</td>\n",
       "      <td>3260</td>\n",
       "      <td>2020-02-19</td>\n",
       "    </tr>\n",
       "    <tr>\n",
       "      <th>2</th>\n",
       "      <td>14135</td>\n",
       "      <td>1174</td>\n",
       "      <td>1</td>\n",
       "      <td>10</td>\n",
       "      <td>22</td>\n",
       "      <td>5</td>\n",
       "      <td>110</td>\n",
       "      <td>2020-02-29</td>\n",
       "    </tr>\n",
       "    <tr>\n",
       "      <th>3</th>\n",
       "      <td>26716</td>\n",
       "      <td>1281</td>\n",
       "      <td>1</td>\n",
       "      <td>20</td>\n",
       "      <td>375</td>\n",
       "      <td>8</td>\n",
       "      <td>3000</td>\n",
       "      <td>2020-03-01</td>\n",
       "    </tr>\n",
       "    <tr>\n",
       "      <th>4</th>\n",
       "      <td>17727</td>\n",
       "      <td>1917</td>\n",
       "      <td>1</td>\n",
       "      <td>10</td>\n",
       "      <td>34</td>\n",
       "      <td>12</td>\n",
       "      <td>408</td>\n",
       "      <td>2020-02-16</td>\n",
       "    </tr>\n",
       "    <tr>\n",
       "      <th>...</th>\n",
       "      <td>...</td>\n",
       "      <td>...</td>\n",
       "      <td>...</td>\n",
       "      <td>...</td>\n",
       "      <td>...</td>\n",
       "      <td>...</td>\n",
       "      <td>...</td>\n",
       "      <td>...</td>\n",
       "    </tr>\n",
       "    <tr>\n",
       "      <th>9995</th>\n",
       "      <td>15597</td>\n",
       "      <td>1227</td>\n",
       "      <td>10</td>\n",
       "      <td>10</td>\n",
       "      <td>77</td>\n",
       "      <td>12</td>\n",
       "      <td>924</td>\n",
       "      <td>2021-11-06</td>\n",
       "    </tr>\n",
       "    <tr>\n",
       "      <th>9996</th>\n",
       "      <td>33419</td>\n",
       "      <td>1310</td>\n",
       "      <td>10</td>\n",
       "      <td>10</td>\n",
       "      <td>31</td>\n",
       "      <td>2</td>\n",
       "      <td>62</td>\n",
       "      <td>2021-12-31</td>\n",
       "    </tr>\n",
       "    <tr>\n",
       "      <th>9997</th>\n",
       "      <td>19567</td>\n",
       "      <td>1605</td>\n",
       "      <td>10</td>\n",
       "      <td>20</td>\n",
       "      <td>415</td>\n",
       "      <td>8</td>\n",
       "      <td>3320</td>\n",
       "      <td>2021-10-15</td>\n",
       "    </tr>\n",
       "    <tr>\n",
       "      <th>9998</th>\n",
       "      <td>21337</td>\n",
       "      <td>1444</td>\n",
       "      <td>10</td>\n",
       "      <td>20</td>\n",
       "      <td>124</td>\n",
       "      <td>10</td>\n",
       "      <td>1240</td>\n",
       "      <td>2021-12-18</td>\n",
       "    </tr>\n",
       "    <tr>\n",
       "      <th>9999</th>\n",
       "      <td>30328</td>\n",
       "      <td>1360</td>\n",
       "      <td>10</td>\n",
       "      <td>10</td>\n",
       "      <td>45</td>\n",
       "      <td>11</td>\n",
       "      <td>495</td>\n",
       "      <td>2021-10-17</td>\n",
       "    </tr>\n",
       "  </tbody>\n",
       "</table>\n",
       "<p>10000 rows × 8 columns</p>\n",
       "</div>"
      ],
      "text/plain": [
       "      t_num  cusno  region  product  price  quantity  amount       date\n",
       "0     18805   1619       1       10     65        11     715 2020-01-10\n",
       "1     47303   1609       1       20    326        10    3260 2020-02-19\n",
       "2     14135   1174       1       10     22         5     110 2020-02-29\n",
       "3     26716   1281       1       20    375         8    3000 2020-03-01\n",
       "4     17727   1917       1       10     34        12     408 2020-02-16\n",
       "...     ...    ...     ...      ...    ...       ...     ...        ...\n",
       "9995  15597   1227      10       10     77        12     924 2021-11-06\n",
       "9996  33419   1310      10       10     31         2      62 2021-12-31\n",
       "9997  19567   1605      10       20    415         8    3320 2021-10-15\n",
       "9998  21337   1444      10       20    124        10    1240 2021-12-18\n",
       "9999  30328   1360      10       10     45        11     495 2021-10-17\n",
       "\n",
       "[10000 rows x 8 columns]"
      ]
     },
     "execution_count": 285,
     "metadata": {},
     "output_type": "execute_result"
    }
   ],
   "source": [
    "df_tra"
   ]
  },
  {
   "cell_type": "code",
   "execution_count": 286,
   "id": "9928314d",
   "metadata": {},
   "outputs": [
    {
     "name": "stdout",
     "output_type": "stream",
     "text": [
      "<class 'pandas.core.frame.DataFrame'>\n",
      "RangeIndex: 10000 entries, 0 to 9999\n",
      "Data columns (total 8 columns):\n",
      " #   Column    Non-Null Count  Dtype         \n",
      "---  ------    --------------  -----         \n",
      " 0   t_num     10000 non-null  int64         \n",
      " 1   cusno     10000 non-null  int32         \n",
      " 2   region    10000 non-null  int32         \n",
      " 3   product   10000 non-null  int32         \n",
      " 4   price     10000 non-null  int64         \n",
      " 5   quantity  10000 non-null  int64         \n",
      " 6   amount    10000 non-null  int64         \n",
      " 7   date      10000 non-null  datetime64[ns]\n",
      "dtypes: datetime64[ns](1), int32(3), int64(4)\n",
      "memory usage: 507.9 KB\n"
     ]
    }
   ],
   "source": [
    "df_tra.info()"
   ]
  },
  {
   "cell_type": "markdown",
   "id": "24b803df",
   "metadata": {},
   "source": [
    "# 고객 + 거래 데이터 병합"
   ]
  },
  {
   "cell_type": "code",
   "execution_count": 287,
   "id": "7577d56b",
   "metadata": {},
   "outputs": [
    {
     "data": {
      "text/html": [
       "<div>\n",
       "<style scoped>\n",
       "    .dataframe tbody tr th:only-of-type {\n",
       "        vertical-align: middle;\n",
       "    }\n",
       "\n",
       "    .dataframe tbody tr th {\n",
       "        vertical-align: top;\n",
       "    }\n",
       "\n",
       "    .dataframe thead th {\n",
       "        text-align: right;\n",
       "    }\n",
       "</style>\n",
       "<table border=\"1\" class=\"dataframe\">\n",
       "  <thead>\n",
       "    <tr style=\"text-align: right;\">\n",
       "      <th></th>\n",
       "      <th>cusno</th>\n",
       "      <th>gender</th>\n",
       "      <th>age</th>\n",
       "      <th>t_num</th>\n",
       "      <th>region</th>\n",
       "      <th>product</th>\n",
       "      <th>price</th>\n",
       "      <th>quantity</th>\n",
       "      <th>amount</th>\n",
       "      <th>date</th>\n",
       "    </tr>\n",
       "  </thead>\n",
       "  <tbody>\n",
       "    <tr>\n",
       "      <th>0</th>\n",
       "      <td>1001</td>\n",
       "      <td>1</td>\n",
       "      <td>35</td>\n",
       "      <td>30418</td>\n",
       "      <td>1</td>\n",
       "      <td>20</td>\n",
       "      <td>369</td>\n",
       "      <td>3</td>\n",
       "      <td>1107</td>\n",
       "      <td>2020-07-28</td>\n",
       "    </tr>\n",
       "    <tr>\n",
       "      <th>1</th>\n",
       "      <td>1001</td>\n",
       "      <td>1</td>\n",
       "      <td>35</td>\n",
       "      <td>32664</td>\n",
       "      <td>2</td>\n",
       "      <td>20</td>\n",
       "      <td>487</td>\n",
       "      <td>1</td>\n",
       "      <td>487</td>\n",
       "      <td>2020-07-19</td>\n",
       "    </tr>\n",
       "    <tr>\n",
       "      <th>2</th>\n",
       "      <td>1001</td>\n",
       "      <td>1</td>\n",
       "      <td>35</td>\n",
       "      <td>39358</td>\n",
       "      <td>4</td>\n",
       "      <td>20</td>\n",
       "      <td>301</td>\n",
       "      <td>1</td>\n",
       "      <td>301</td>\n",
       "      <td>2020-10-28</td>\n",
       "    </tr>\n",
       "    <tr>\n",
       "      <th>3</th>\n",
       "      <td>1001</td>\n",
       "      <td>1</td>\n",
       "      <td>35</td>\n",
       "      <td>12946</td>\n",
       "      <td>4</td>\n",
       "      <td>30</td>\n",
       "      <td>1590</td>\n",
       "      <td>3</td>\n",
       "      <td>4770</td>\n",
       "      <td>2020-10-26</td>\n",
       "    </tr>\n",
       "    <tr>\n",
       "      <th>4</th>\n",
       "      <td>1001</td>\n",
       "      <td>1</td>\n",
       "      <td>35</td>\n",
       "      <td>32770</td>\n",
       "      <td>6</td>\n",
       "      <td>20</td>\n",
       "      <td>353</td>\n",
       "      <td>10</td>\n",
       "      <td>3530</td>\n",
       "      <td>2021-02-17</td>\n",
       "    </tr>\n",
       "    <tr>\n",
       "      <th>5</th>\n",
       "      <td>1001</td>\n",
       "      <td>1</td>\n",
       "      <td>35</td>\n",
       "      <td>36228</td>\n",
       "      <td>9</td>\n",
       "      <td>10</td>\n",
       "      <td>22</td>\n",
       "      <td>17</td>\n",
       "      <td>374</td>\n",
       "      <td>2021-08-04</td>\n",
       "    </tr>\n",
       "    <tr>\n",
       "      <th>6</th>\n",
       "      <td>1001</td>\n",
       "      <td>1</td>\n",
       "      <td>35</td>\n",
       "      <td>12598</td>\n",
       "      <td>9</td>\n",
       "      <td>10</td>\n",
       "      <td>65</td>\n",
       "      <td>11</td>\n",
       "      <td>715</td>\n",
       "      <td>2021-11-09</td>\n",
       "    </tr>\n",
       "    <tr>\n",
       "      <th>7</th>\n",
       "      <td>1002</td>\n",
       "      <td>0</td>\n",
       "      <td>56</td>\n",
       "      <td>19008</td>\n",
       "      <td>1</td>\n",
       "      <td>20</td>\n",
       "      <td>268</td>\n",
       "      <td>9</td>\n",
       "      <td>2412</td>\n",
       "      <td>2020-04-16</td>\n",
       "    </tr>\n",
       "    <tr>\n",
       "      <th>8</th>\n",
       "      <td>1002</td>\n",
       "      <td>0</td>\n",
       "      <td>56</td>\n",
       "      <td>19231</td>\n",
       "      <td>1</td>\n",
       "      <td>10</td>\n",
       "      <td>36</td>\n",
       "      <td>17</td>\n",
       "      <td>612</td>\n",
       "      <td>2020-08-27</td>\n",
       "    </tr>\n",
       "    <tr>\n",
       "      <th>9</th>\n",
       "      <td>1002</td>\n",
       "      <td>0</td>\n",
       "      <td>56</td>\n",
       "      <td>46446</td>\n",
       "      <td>2</td>\n",
       "      <td>20</td>\n",
       "      <td>336</td>\n",
       "      <td>7</td>\n",
       "      <td>2352</td>\n",
       "      <td>2020-07-11</td>\n",
       "    </tr>\n",
       "  </tbody>\n",
       "</table>\n",
       "</div>"
      ],
      "text/plain": [
       "   cusno  gender  age  t_num  region  product  price  quantity  amount  \\\n",
       "0   1001       1   35  30418       1       20    369         3    1107   \n",
       "1   1001       1   35  32664       2       20    487         1     487   \n",
       "2   1001       1   35  39358       4       20    301         1     301   \n",
       "3   1001       1   35  12946       4       30   1590         3    4770   \n",
       "4   1001       1   35  32770       6       20    353        10    3530   \n",
       "5   1001       1   35  36228       9       10     22        17     374   \n",
       "6   1001       1   35  12598       9       10     65        11     715   \n",
       "7   1002       0   56  19008       1       20    268         9    2412   \n",
       "8   1002       0   56  19231       1       10     36        17     612   \n",
       "9   1002       0   56  46446       2       20    336         7    2352   \n",
       "\n",
       "        date  \n",
       "0 2020-07-28  \n",
       "1 2020-07-19  \n",
       "2 2020-10-28  \n",
       "3 2020-10-26  \n",
       "4 2021-02-17  \n",
       "5 2021-08-04  \n",
       "6 2021-11-09  \n",
       "7 2020-04-16  \n",
       "8 2020-08-27  \n",
       "9 2020-07-11  "
      ]
     },
     "execution_count": 287,
     "metadata": {},
     "output_type": "execute_result"
    }
   ],
   "source": [
    "#데이터프레임 통합: 공통 변수 cusno를 활용해 데이터 결합\n",
    "df = df_cus.merge(df_tra,on='cusno',how='outer')\n",
    "df.head(10)"
   ]
  },
  {
   "cell_type": "code",
   "execution_count": 288,
   "id": "c707e6d4",
   "metadata": {},
   "outputs": [
    {
     "data": {
      "text/html": [
       "<div>\n",
       "<style scoped>\n",
       "    .dataframe tbody tr th:only-of-type {\n",
       "        vertical-align: middle;\n",
       "    }\n",
       "\n",
       "    .dataframe tbody tr th {\n",
       "        vertical-align: top;\n",
       "    }\n",
       "\n",
       "    .dataframe thead th {\n",
       "        text-align: right;\n",
       "    }\n",
       "</style>\n",
       "<table border=\"1\" class=\"dataframe\">\n",
       "  <thead>\n",
       "    <tr style=\"text-align: right;\">\n",
       "      <th></th>\n",
       "      <th>cusno</th>\n",
       "      <th>gender</th>\n",
       "      <th>age</th>\n",
       "      <th>t_num</th>\n",
       "      <th>region</th>\n",
       "      <th>product</th>\n",
       "      <th>price</th>\n",
       "      <th>quantity</th>\n",
       "      <th>amount</th>\n",
       "      <th>date</th>\n",
       "    </tr>\n",
       "  </thead>\n",
       "  <tbody>\n",
       "    <tr>\n",
       "      <th>0</th>\n",
       "      <td>1001</td>\n",
       "      <td>1</td>\n",
       "      <td>35</td>\n",
       "      <td>30418</td>\n",
       "      <td>1</td>\n",
       "      <td>20</td>\n",
       "      <td>369</td>\n",
       "      <td>3</td>\n",
       "      <td>1107</td>\n",
       "      <td>2020-07-28</td>\n",
       "    </tr>\n",
       "    <tr>\n",
       "      <th>1</th>\n",
       "      <td>1001</td>\n",
       "      <td>1</td>\n",
       "      <td>35</td>\n",
       "      <td>32664</td>\n",
       "      <td>2</td>\n",
       "      <td>20</td>\n",
       "      <td>487</td>\n",
       "      <td>1</td>\n",
       "      <td>487</td>\n",
       "      <td>2020-07-19</td>\n",
       "    </tr>\n",
       "    <tr>\n",
       "      <th>2</th>\n",
       "      <td>1001</td>\n",
       "      <td>1</td>\n",
       "      <td>35</td>\n",
       "      <td>39358</td>\n",
       "      <td>4</td>\n",
       "      <td>20</td>\n",
       "      <td>301</td>\n",
       "      <td>1</td>\n",
       "      <td>301</td>\n",
       "      <td>2020-10-28</td>\n",
       "    </tr>\n",
       "    <tr>\n",
       "      <th>3</th>\n",
       "      <td>1001</td>\n",
       "      <td>1</td>\n",
       "      <td>35</td>\n",
       "      <td>12946</td>\n",
       "      <td>4</td>\n",
       "      <td>30</td>\n",
       "      <td>1590</td>\n",
       "      <td>3</td>\n",
       "      <td>4770</td>\n",
       "      <td>2020-10-26</td>\n",
       "    </tr>\n",
       "    <tr>\n",
       "      <th>4</th>\n",
       "      <td>1001</td>\n",
       "      <td>1</td>\n",
       "      <td>35</td>\n",
       "      <td>32770</td>\n",
       "      <td>6</td>\n",
       "      <td>20</td>\n",
       "      <td>353</td>\n",
       "      <td>10</td>\n",
       "      <td>3530</td>\n",
       "      <td>2021-02-17</td>\n",
       "    </tr>\n",
       "    <tr>\n",
       "      <th>...</th>\n",
       "      <td>...</td>\n",
       "      <td>...</td>\n",
       "      <td>...</td>\n",
       "      <td>...</td>\n",
       "      <td>...</td>\n",
       "      <td>...</td>\n",
       "      <td>...</td>\n",
       "      <td>...</td>\n",
       "      <td>...</td>\n",
       "      <td>...</td>\n",
       "    </tr>\n",
       "    <tr>\n",
       "      <th>9995</th>\n",
       "      <td>2000</td>\n",
       "      <td>1</td>\n",
       "      <td>41</td>\n",
       "      <td>37911</td>\n",
       "      <td>8</td>\n",
       "      <td>10</td>\n",
       "      <td>76</td>\n",
       "      <td>1</td>\n",
       "      <td>76</td>\n",
       "      <td>2021-03-01</td>\n",
       "    </tr>\n",
       "    <tr>\n",
       "      <th>9996</th>\n",
       "      <td>2000</td>\n",
       "      <td>1</td>\n",
       "      <td>41</td>\n",
       "      <td>27215</td>\n",
       "      <td>9</td>\n",
       "      <td>10</td>\n",
       "      <td>94</td>\n",
       "      <td>8</td>\n",
       "      <td>752</td>\n",
       "      <td>2021-01-04</td>\n",
       "    </tr>\n",
       "    <tr>\n",
       "      <th>9997</th>\n",
       "      <td>2000</td>\n",
       "      <td>1</td>\n",
       "      <td>41</td>\n",
       "      <td>40032</td>\n",
       "      <td>9</td>\n",
       "      <td>30</td>\n",
       "      <td>1022</td>\n",
       "      <td>3</td>\n",
       "      <td>3066</td>\n",
       "      <td>2021-07-29</td>\n",
       "    </tr>\n",
       "    <tr>\n",
       "      <th>9998</th>\n",
       "      <td>2000</td>\n",
       "      <td>1</td>\n",
       "      <td>41</td>\n",
       "      <td>47477</td>\n",
       "      <td>9</td>\n",
       "      <td>10</td>\n",
       "      <td>12</td>\n",
       "      <td>10</td>\n",
       "      <td>120</td>\n",
       "      <td>2021-05-05</td>\n",
       "    </tr>\n",
       "    <tr>\n",
       "      <th>9999</th>\n",
       "      <td>2000</td>\n",
       "      <td>1</td>\n",
       "      <td>41</td>\n",
       "      <td>40532</td>\n",
       "      <td>10</td>\n",
       "      <td>20</td>\n",
       "      <td>367</td>\n",
       "      <td>2</td>\n",
       "      <td>734</td>\n",
       "      <td>2021-12-28</td>\n",
       "    </tr>\n",
       "  </tbody>\n",
       "</table>\n",
       "<p>10000 rows × 10 columns</p>\n",
       "</div>"
      ],
      "text/plain": [
       "      cusno  gender  age  t_num  region  product  price  quantity  amount  \\\n",
       "0      1001       1   35  30418       1       20    369         3    1107   \n",
       "1      1001       1   35  32664       2       20    487         1     487   \n",
       "2      1001       1   35  39358       4       20    301         1     301   \n",
       "3      1001       1   35  12946       4       30   1590         3    4770   \n",
       "4      1001       1   35  32770       6       20    353        10    3530   \n",
       "...     ...     ...  ...    ...     ...      ...    ...       ...     ...   \n",
       "9995   2000       1   41  37911       8       10     76         1      76   \n",
       "9996   2000       1   41  27215       9       10     94         8     752   \n",
       "9997   2000       1   41  40032       9       30   1022         3    3066   \n",
       "9998   2000       1   41  47477       9       10     12        10     120   \n",
       "9999   2000       1   41  40532      10       20    367         2     734   \n",
       "\n",
       "           date  \n",
       "0    2020-07-28  \n",
       "1    2020-07-19  \n",
       "2    2020-10-28  \n",
       "3    2020-10-26  \n",
       "4    2021-02-17  \n",
       "...         ...  \n",
       "9995 2021-03-01  \n",
       "9996 2021-01-04  \n",
       "9997 2021-07-29  \n",
       "9998 2021-05-05  \n",
       "9999 2021-12-28  \n",
       "\n",
       "[10000 rows x 10 columns]"
      ]
     },
     "execution_count": 288,
     "metadata": {},
     "output_type": "execute_result"
    }
   ],
   "source": [
    "df"
   ]
  },
  {
   "cell_type": "code",
   "execution_count": 289,
   "id": "4aec59d1",
   "metadata": {},
   "outputs": [
    {
     "name": "stdout",
     "output_type": "stream",
     "text": [
      "<class 'pandas.core.frame.DataFrame'>\n",
      "Int64Index: 10000 entries, 0 to 9999\n",
      "Data columns (total 10 columns):\n",
      " #   Column    Non-Null Count  Dtype         \n",
      "---  ------    --------------  -----         \n",
      " 0   cusno     10000 non-null  int32         \n",
      " 1   gender    10000 non-null  int32         \n",
      " 2   age       10000 non-null  int32         \n",
      " 3   t_num     10000 non-null  int64         \n",
      " 4   region    10000 non-null  int32         \n",
      " 5   product   10000 non-null  int32         \n",
      " 6   price     10000 non-null  int64         \n",
      " 7   quantity  10000 non-null  int64         \n",
      " 8   amount    10000 non-null  int64         \n",
      " 9   date      10000 non-null  datetime64[ns]\n",
      "dtypes: datetime64[ns](1), int32(5), int64(4)\n",
      "memory usage: 664.1 KB\n"
     ]
    }
   ],
   "source": [
    "df.info()"
   ]
  },
  {
   "cell_type": "code",
   "execution_count": 290,
   "id": "7d46be17",
   "metadata": {},
   "outputs": [
    {
     "data": {
      "text/html": [
       "<div>\n",
       "<style scoped>\n",
       "    .dataframe tbody tr th:only-of-type {\n",
       "        vertical-align: middle;\n",
       "    }\n",
       "\n",
       "    .dataframe tbody tr th {\n",
       "        vertical-align: top;\n",
       "    }\n",
       "\n",
       "    .dataframe thead th {\n",
       "        text-align: right;\n",
       "    }\n",
       "</style>\n",
       "<table border=\"1\" class=\"dataframe\">\n",
       "  <thead>\n",
       "    <tr style=\"text-align: right;\">\n",
       "      <th></th>\n",
       "      <th>cusno</th>\n",
       "      <th>gender</th>\n",
       "      <th>age</th>\n",
       "      <th>t_num</th>\n",
       "      <th>region</th>\n",
       "      <th>product</th>\n",
       "      <th>price</th>\n",
       "      <th>quantity</th>\n",
       "      <th>amount</th>\n",
       "    </tr>\n",
       "  </thead>\n",
       "  <tbody>\n",
       "    <tr>\n",
       "      <th>count</th>\n",
       "      <td>10000.000000</td>\n",
       "      <td>10000.000000</td>\n",
       "      <td>10000.000000</td>\n",
       "      <td>10000.000000</td>\n",
       "      <td>10000.000000</td>\n",
       "      <td>10000.000000</td>\n",
       "      <td>10000.000000</td>\n",
       "      <td>10000.000000</td>\n",
       "      <td>10000.000000</td>\n",
       "    </tr>\n",
       "    <tr>\n",
       "      <th>mean</th>\n",
       "      <td>1502.919000</td>\n",
       "      <td>0.466200</td>\n",
       "      <td>45.020600</td>\n",
       "      <td>30083.791700</td>\n",
       "      <td>5.294500</td>\n",
       "      <td>15.000000</td>\n",
       "      <td>247.471300</td>\n",
       "      <td>8.219100</td>\n",
       "      <td>1201.015800</td>\n",
       "    </tr>\n",
       "    <tr>\n",
       "      <th>std</th>\n",
       "      <td>286.771908</td>\n",
       "      <td>0.498881</td>\n",
       "      <td>9.897665</td>\n",
       "      <td>11554.581256</td>\n",
       "      <td>3.480658</td>\n",
       "      <td>6.708539</td>\n",
       "      <td>388.820906</td>\n",
       "      <td>5.476175</td>\n",
       "      <td>1415.919048</td>\n",
       "    </tr>\n",
       "    <tr>\n",
       "      <th>min</th>\n",
       "      <td>1001.000000</td>\n",
       "      <td>0.000000</td>\n",
       "      <td>15.000000</td>\n",
       "      <td>10003.000000</td>\n",
       "      <td>1.000000</td>\n",
       "      <td>10.000000</td>\n",
       "      <td>1.000000</td>\n",
       "      <td>1.000000</td>\n",
       "      <td>1.000000</td>\n",
       "    </tr>\n",
       "    <tr>\n",
       "      <th>25%</th>\n",
       "      <td>1255.000000</td>\n",
       "      <td>0.000000</td>\n",
       "      <td>38.000000</td>\n",
       "      <td>20112.750000</td>\n",
       "      <td>1.000000</td>\n",
       "      <td>10.000000</td>\n",
       "      <td>44.000000</td>\n",
       "      <td>4.000000</td>\n",
       "      <td>288.000000</td>\n",
       "    </tr>\n",
       "    <tr>\n",
       "      <th>50%</th>\n",
       "      <td>1502.000000</td>\n",
       "      <td>0.000000</td>\n",
       "      <td>45.000000</td>\n",
       "      <td>30082.500000</td>\n",
       "      <td>5.000000</td>\n",
       "      <td>10.000000</td>\n",
       "      <td>84.000000</td>\n",
       "      <td>7.000000</td>\n",
       "      <td>726.000000</td>\n",
       "    </tr>\n",
       "    <tr>\n",
       "      <th>75%</th>\n",
       "      <td>1752.000000</td>\n",
       "      <td>1.000000</td>\n",
       "      <td>52.000000</td>\n",
       "      <td>40034.000000</td>\n",
       "      <td>9.000000</td>\n",
       "      <td>20.000000</td>\n",
       "      <td>303.000000</td>\n",
       "      <td>12.000000</td>\n",
       "      <td>1520.000000</td>\n",
       "    </tr>\n",
       "    <tr>\n",
       "      <th>max</th>\n",
       "      <td>2000.000000</td>\n",
       "      <td>1.000000</td>\n",
       "      <td>71.000000</td>\n",
       "      <td>49998.000000</td>\n",
       "      <td>10.000000</td>\n",
       "      <td>30.000000</td>\n",
       "      <td>2000.000000</td>\n",
       "      <td>20.000000</td>\n",
       "      <td>9995.000000</td>\n",
       "    </tr>\n",
       "  </tbody>\n",
       "</table>\n",
       "</div>"
      ],
      "text/plain": [
       "              cusno        gender           age         t_num        region  \\\n",
       "count  10000.000000  10000.000000  10000.000000  10000.000000  10000.000000   \n",
       "mean    1502.919000      0.466200     45.020600  30083.791700      5.294500   \n",
       "std      286.771908      0.498881      9.897665  11554.581256      3.480658   \n",
       "min     1001.000000      0.000000     15.000000  10003.000000      1.000000   \n",
       "25%     1255.000000      0.000000     38.000000  20112.750000      1.000000   \n",
       "50%     1502.000000      0.000000     45.000000  30082.500000      5.000000   \n",
       "75%     1752.000000      1.000000     52.000000  40034.000000      9.000000   \n",
       "max     2000.000000      1.000000     71.000000  49998.000000     10.000000   \n",
       "\n",
       "            product         price      quantity        amount  \n",
       "count  10000.000000  10000.000000  10000.000000  10000.000000  \n",
       "mean      15.000000    247.471300      8.219100   1201.015800  \n",
       "std        6.708539    388.820906      5.476175   1415.919048  \n",
       "min       10.000000      1.000000      1.000000      1.000000  \n",
       "25%       10.000000     44.000000      4.000000    288.000000  \n",
       "50%       10.000000     84.000000      7.000000    726.000000  \n",
       "75%       20.000000    303.000000     12.000000   1520.000000  \n",
       "max       30.000000   2000.000000     20.000000   9995.000000  "
      ]
     },
     "execution_count": 290,
     "metadata": {},
     "output_type": "execute_result"
    }
   ],
   "source": [
    "df.describe()"
   ]
  },
  {
   "cell_type": "code",
   "execution_count": 291,
   "id": "3a74d0eb",
   "metadata": {},
   "outputs": [
    {
     "data": {
      "text/plain": [
       "9     3604\n",
       "1     2522\n",
       "2      887\n",
       "4      784\n",
       "3      631\n",
       "10     409\n",
       "6      385\n",
       "5      381\n",
       "7      297\n",
       "8      100\n",
       "Name: region, dtype: int64"
      ]
     },
     "execution_count": 291,
     "metadata": {},
     "output_type": "execute_result"
    }
   ],
   "source": [
    "df['region'].value_counts()"
   ]
  },
  {
   "cell_type": "markdown",
   "id": "7ffc083c",
   "metadata": {},
   "source": [
    "### 시각화"
   ]
  },
  {
   "cell_type": "code",
   "execution_count": 292,
   "id": "5e8b9f7b",
   "metadata": {
    "scrolled": true
   },
   "outputs": [
    {
     "data": {
      "text/html": [
       "<div>\n",
       "<style scoped>\n",
       "    .dataframe tbody tr th:only-of-type {\n",
       "        vertical-align: middle;\n",
       "    }\n",
       "\n",
       "    .dataframe tbody tr th {\n",
       "        vertical-align: top;\n",
       "    }\n",
       "\n",
       "    .dataframe thead th {\n",
       "        text-align: right;\n",
       "    }\n",
       "</style>\n",
       "<table border=\"1\" class=\"dataframe\">\n",
       "  <thead>\n",
       "    <tr style=\"text-align: right;\">\n",
       "      <th></th>\n",
       "      <th>cusno</th>\n",
       "      <th>gender</th>\n",
       "      <th>age</th>\n",
       "      <th>t_num</th>\n",
       "      <th>region</th>\n",
       "      <th>product</th>\n",
       "      <th>price</th>\n",
       "      <th>quantity</th>\n",
       "      <th>amount</th>\n",
       "      <th>date</th>\n",
       "      <th>year</th>\n",
       "      <th>month</th>\n",
       "    </tr>\n",
       "  </thead>\n",
       "  <tbody>\n",
       "    <tr>\n",
       "      <th>0</th>\n",
       "      <td>1001</td>\n",
       "      <td>1</td>\n",
       "      <td>35</td>\n",
       "      <td>30418</td>\n",
       "      <td>1</td>\n",
       "      <td>20</td>\n",
       "      <td>369</td>\n",
       "      <td>3</td>\n",
       "      <td>1107</td>\n",
       "      <td>2020-07-28</td>\n",
       "      <td>2020</td>\n",
       "      <td>7</td>\n",
       "    </tr>\n",
       "    <tr>\n",
       "      <th>1</th>\n",
       "      <td>1001</td>\n",
       "      <td>1</td>\n",
       "      <td>35</td>\n",
       "      <td>32664</td>\n",
       "      <td>2</td>\n",
       "      <td>20</td>\n",
       "      <td>487</td>\n",
       "      <td>1</td>\n",
       "      <td>487</td>\n",
       "      <td>2020-07-19</td>\n",
       "      <td>2020</td>\n",
       "      <td>7</td>\n",
       "    </tr>\n",
       "    <tr>\n",
       "      <th>2</th>\n",
       "      <td>1001</td>\n",
       "      <td>1</td>\n",
       "      <td>35</td>\n",
       "      <td>39358</td>\n",
       "      <td>4</td>\n",
       "      <td>20</td>\n",
       "      <td>301</td>\n",
       "      <td>1</td>\n",
       "      <td>301</td>\n",
       "      <td>2020-10-28</td>\n",
       "      <td>2020</td>\n",
       "      <td>10</td>\n",
       "    </tr>\n",
       "    <tr>\n",
       "      <th>3</th>\n",
       "      <td>1001</td>\n",
       "      <td>1</td>\n",
       "      <td>35</td>\n",
       "      <td>12946</td>\n",
       "      <td>4</td>\n",
       "      <td>30</td>\n",
       "      <td>1590</td>\n",
       "      <td>3</td>\n",
       "      <td>4770</td>\n",
       "      <td>2020-10-26</td>\n",
       "      <td>2020</td>\n",
       "      <td>10</td>\n",
       "    </tr>\n",
       "    <tr>\n",
       "      <th>4</th>\n",
       "      <td>1001</td>\n",
       "      <td>1</td>\n",
       "      <td>35</td>\n",
       "      <td>32770</td>\n",
       "      <td>6</td>\n",
       "      <td>20</td>\n",
       "      <td>353</td>\n",
       "      <td>10</td>\n",
       "      <td>3530</td>\n",
       "      <td>2021-02-17</td>\n",
       "      <td>2021</td>\n",
       "      <td>2</td>\n",
       "    </tr>\n",
       "  </tbody>\n",
       "</table>\n",
       "</div>"
      ],
      "text/plain": [
       "   cusno  gender  age  t_num  region  product  price  quantity  amount  \\\n",
       "0   1001       1   35  30418       1       20    369         3    1107   \n",
       "1   1001       1   35  32664       2       20    487         1     487   \n",
       "2   1001       1   35  39358       4       20    301         1     301   \n",
       "3   1001       1   35  12946       4       30   1590         3    4770   \n",
       "4   1001       1   35  32770       6       20    353        10    3530   \n",
       "\n",
       "        date  year  month  \n",
       "0 2020-07-28  2020      7  \n",
       "1 2020-07-19  2020      7  \n",
       "2 2020-10-28  2020     10  \n",
       "3 2020-10-26  2020     10  \n",
       "4 2021-02-17  2021      2  "
      ]
     },
     "execution_count": 292,
     "metadata": {},
     "output_type": "execute_result"
    }
   ],
   "source": [
    "# 연 / 월 카테고리 생성\n",
    "df['year'] = df['date'].dt.year\n",
    "df['month'] = df['date'].dt.month\n",
    "df.head()"
   ]
  },
  {
   "cell_type": "code",
   "execution_count": 342,
   "id": "e2b42e23",
   "metadata": {},
   "outputs": [
    {
     "data": {
      "image/png": "[encoded data removed]",
      "text/plain": [
       "<Figure size 1000x800 with 1 Axes>"
      ]
     },
     "metadata": {},
     "output_type": "display_data"
    }
   ],
   "source": [
    "# 월별 매출 현황\n",
    "sns.barplot(x=\"month\", y=\"amount\", data = df)\n",
    "plt.show()"
   ]
  },
  {
   "cell_type": "code",
   "execution_count": 294,
   "id": "65ed81fb",
   "metadata": {},
   "outputs": [
    {
     "data": {
      "text/plain": [
       "40    3701\n",
       "50    2624\n",
       "30    2334\n",
       "60     699\n",
       "20     591\n",
       "10      27\n",
       "70      24\n",
       "Name: age_c, dtype: int64"
      ]
     },
     "execution_count": 294,
     "metadata": {},
     "output_type": "execute_result"
    }
   ],
   "source": [
    "#age 범주화 / 연령대별 구매 금액 확인 위함\n",
    "\n",
    "def age_category(x):\n",
    "    return (x // 10) *10\n",
    "\n",
    "df['age_c']=df['age'].apply(age_category)\n",
    "df['age_c'].value_counts()"
   ]
  },
  {
   "cell_type": "code",
   "execution_count": 343,
   "id": "2ab1b836",
   "metadata": {
    "scrolled": false
   },
   "outputs": [
    {
     "data": {
      "text/plain": [
       "(array([  51.,  337.,  441., 1467., 1487., 2491., 1867., 1136.,  622.,\n",
       "         101.]),\n",
       " array([15. , 20.6, 26.2, 31.8, 37.4, 43. , 48.6, 54.2, 59.8, 65.4, 71. ]),\n",
       " <BarContainer object of 10 artists>)"
      ]
     },
     "execution_count": 343,
     "metadata": {},
     "output_type": "execute_result"
    },
    {
     "data": {
      "image/png": "[encoded data removed]",
      "text/plain": [
       "<Figure size 1000x800 with 1 Axes>"
      ]
     },
     "metadata": {},
     "output_type": "display_data"
    }
   ],
   "source": [
    "# age 연령대 분포 - 40-50대 고객의 분포가 높은 것 확인\n",
    "\n",
    "plt.hist(df['age'], bins=10, color='orange')"
   ]
  },
  {
   "cell_type": "code",
   "execution_count": 344,
   "id": "169371ee",
   "metadata": {},
   "outputs": [
    {
     "data": {
      "image/png": "[encoded data removed]",
      "text/plain": [
       "<Figure size 1000x800 with 1 Axes>"
      ]
     },
     "metadata": {},
     "output_type": "display_data"
    }
   ],
   "source": [
    "# 연령대 별 매출\n",
    "sns.barplot(x=\"age_c\", y=\"amount\", data = df)\n",
    "plt.show()"
   ]
  },
  {
   "cell_type": "code",
   "execution_count": 297,
   "id": "6824cb3f",
   "metadata": {},
   "outputs": [
    {
     "data": {
      "text/html": [
       "<div>\n",
       "<style scoped>\n",
       "    .dataframe tbody tr th:only-of-type {\n",
       "        vertical-align: middle;\n",
       "    }\n",
       "\n",
       "    .dataframe tbody tr th {\n",
       "        vertical-align: top;\n",
       "    }\n",
       "\n",
       "    .dataframe thead th {\n",
       "        text-align: right;\n",
       "    }\n",
       "</style>\n",
       "<table border=\"1\" class=\"dataframe\">\n",
       "  <thead>\n",
       "    <tr style=\"text-align: right;\">\n",
       "      <th></th>\n",
       "      <th>cusno</th>\n",
       "      <th>gender</th>\n",
       "      <th>age</th>\n",
       "      <th>t_num</th>\n",
       "      <th>region</th>\n",
       "      <th>product</th>\n",
       "      <th>price</th>\n",
       "      <th>quantity</th>\n",
       "      <th>amount</th>\n",
       "      <th>date</th>\n",
       "      <th>year</th>\n",
       "      <th>month</th>\n",
       "      <th>age_c</th>\n",
       "    </tr>\n",
       "  </thead>\n",
       "  <tbody>\n",
       "    <tr>\n",
       "      <th>0</th>\n",
       "      <td>1001</td>\n",
       "      <td>1</td>\n",
       "      <td>35</td>\n",
       "      <td>30418</td>\n",
       "      <td>1</td>\n",
       "      <td>20</td>\n",
       "      <td>369</td>\n",
       "      <td>3</td>\n",
       "      <td>1107</td>\n",
       "      <td>2020-07-28</td>\n",
       "      <td>2020</td>\n",
       "      <td>7</td>\n",
       "      <td>30</td>\n",
       "    </tr>\n",
       "    <tr>\n",
       "      <th>1</th>\n",
       "      <td>1001</td>\n",
       "      <td>1</td>\n",
       "      <td>35</td>\n",
       "      <td>32664</td>\n",
       "      <td>2</td>\n",
       "      <td>20</td>\n",
       "      <td>487</td>\n",
       "      <td>1</td>\n",
       "      <td>487</td>\n",
       "      <td>2020-07-19</td>\n",
       "      <td>2020</td>\n",
       "      <td>7</td>\n",
       "      <td>30</td>\n",
       "    </tr>\n",
       "    <tr>\n",
       "      <th>2</th>\n",
       "      <td>1001</td>\n",
       "      <td>1</td>\n",
       "      <td>35</td>\n",
       "      <td>39358</td>\n",
       "      <td>4</td>\n",
       "      <td>20</td>\n",
       "      <td>301</td>\n",
       "      <td>1</td>\n",
       "      <td>301</td>\n",
       "      <td>2020-10-28</td>\n",
       "      <td>2020</td>\n",
       "      <td>10</td>\n",
       "      <td>30</td>\n",
       "    </tr>\n",
       "    <tr>\n",
       "      <th>3</th>\n",
       "      <td>1001</td>\n",
       "      <td>1</td>\n",
       "      <td>35</td>\n",
       "      <td>12946</td>\n",
       "      <td>4</td>\n",
       "      <td>30</td>\n",
       "      <td>1590</td>\n",
       "      <td>3</td>\n",
       "      <td>4770</td>\n",
       "      <td>2020-10-26</td>\n",
       "      <td>2020</td>\n",
       "      <td>10</td>\n",
       "      <td>30</td>\n",
       "    </tr>\n",
       "    <tr>\n",
       "      <th>4</th>\n",
       "      <td>1001</td>\n",
       "      <td>1</td>\n",
       "      <td>35</td>\n",
       "      <td>32770</td>\n",
       "      <td>6</td>\n",
       "      <td>20</td>\n",
       "      <td>353</td>\n",
       "      <td>10</td>\n",
       "      <td>3530</td>\n",
       "      <td>2021-02-17</td>\n",
       "      <td>2021</td>\n",
       "      <td>2</td>\n",
       "      <td>30</td>\n",
       "    </tr>\n",
       "    <tr>\n",
       "      <th>...</th>\n",
       "      <td>...</td>\n",
       "      <td>...</td>\n",
       "      <td>...</td>\n",
       "      <td>...</td>\n",
       "      <td>...</td>\n",
       "      <td>...</td>\n",
       "      <td>...</td>\n",
       "      <td>...</td>\n",
       "      <td>...</td>\n",
       "      <td>...</td>\n",
       "      <td>...</td>\n",
       "      <td>...</td>\n",
       "      <td>...</td>\n",
       "    </tr>\n",
       "    <tr>\n",
       "      <th>9995</th>\n",
       "      <td>2000</td>\n",
       "      <td>1</td>\n",
       "      <td>41</td>\n",
       "      <td>37911</td>\n",
       "      <td>8</td>\n",
       "      <td>10</td>\n",
       "      <td>76</td>\n",
       "      <td>1</td>\n",
       "      <td>76</td>\n",
       "      <td>2021-03-01</td>\n",
       "      <td>2021</td>\n",
       "      <td>3</td>\n",
       "      <td>40</td>\n",
       "    </tr>\n",
       "    <tr>\n",
       "      <th>9996</th>\n",
       "      <td>2000</td>\n",
       "      <td>1</td>\n",
       "      <td>41</td>\n",
       "      <td>27215</td>\n",
       "      <td>9</td>\n",
       "      <td>10</td>\n",
       "      <td>94</td>\n",
       "      <td>8</td>\n",
       "      <td>752</td>\n",
       "      <td>2021-01-04</td>\n",
       "      <td>2021</td>\n",
       "      <td>1</td>\n",
       "      <td>40</td>\n",
       "    </tr>\n",
       "    <tr>\n",
       "      <th>9997</th>\n",
       "      <td>2000</td>\n",
       "      <td>1</td>\n",
       "      <td>41</td>\n",
       "      <td>40032</td>\n",
       "      <td>9</td>\n",
       "      <td>30</td>\n",
       "      <td>1022</td>\n",
       "      <td>3</td>\n",
       "      <td>3066</td>\n",
       "      <td>2021-07-29</td>\n",
       "      <td>2021</td>\n",
       "      <td>7</td>\n",
       "      <td>40</td>\n",
       "    </tr>\n",
       "    <tr>\n",
       "      <th>9998</th>\n",
       "      <td>2000</td>\n",
       "      <td>1</td>\n",
       "      <td>41</td>\n",
       "      <td>47477</td>\n",
       "      <td>9</td>\n",
       "      <td>10</td>\n",
       "      <td>12</td>\n",
       "      <td>10</td>\n",
       "      <td>120</td>\n",
       "      <td>2021-05-05</td>\n",
       "      <td>2021</td>\n",
       "      <td>5</td>\n",
       "      <td>40</td>\n",
       "    </tr>\n",
       "    <tr>\n",
       "      <th>9999</th>\n",
       "      <td>2000</td>\n",
       "      <td>1</td>\n",
       "      <td>41</td>\n",
       "      <td>40532</td>\n",
       "      <td>10</td>\n",
       "      <td>20</td>\n",
       "      <td>367</td>\n",
       "      <td>2</td>\n",
       "      <td>734</td>\n",
       "      <td>2021-12-28</td>\n",
       "      <td>2021</td>\n",
       "      <td>12</td>\n",
       "      <td>40</td>\n",
       "    </tr>\n",
       "  </tbody>\n",
       "</table>\n",
       "<p>10000 rows × 13 columns</p>\n",
       "</div>"
      ],
      "text/plain": [
       "      cusno  gender  age  t_num  region  product  price  quantity  amount  \\\n",
       "0      1001       1   35  30418       1       20    369         3    1107   \n",
       "1      1001       1   35  32664       2       20    487         1     487   \n",
       "2      1001       1   35  39358       4       20    301         1     301   \n",
       "3      1001       1   35  12946       4       30   1590         3    4770   \n",
       "4      1001       1   35  32770       6       20    353        10    3530   \n",
       "...     ...     ...  ...    ...     ...      ...    ...       ...     ...   \n",
       "9995   2000       1   41  37911       8       10     76         1      76   \n",
       "9996   2000       1   41  27215       9       10     94         8     752   \n",
       "9997   2000       1   41  40032       9       30   1022         3    3066   \n",
       "9998   2000       1   41  47477       9       10     12        10     120   \n",
       "9999   2000       1   41  40532      10       20    367         2     734   \n",
       "\n",
       "           date  year  month  age_c  \n",
       "0    2020-07-28  2020      7     30  \n",
       "1    2020-07-19  2020      7     30  \n",
       "2    2020-10-28  2020     10     30  \n",
       "3    2020-10-26  2020     10     30  \n",
       "4    2021-02-17  2021      2     30  \n",
       "...         ...   ...    ...    ...  \n",
       "9995 2021-03-01  2021      3     40  \n",
       "9996 2021-01-04  2021      1     40  \n",
       "9997 2021-07-29  2021      7     40  \n",
       "9998 2021-05-05  2021      5     40  \n",
       "9999 2021-12-28  2021     12     40  \n",
       "\n",
       "[10000 rows x 13 columns]"
      ]
     },
     "execution_count": 297,
     "metadata": {},
     "output_type": "execute_result"
    }
   ],
   "source": [
    "df"
   ]
  },
  {
   "cell_type": "code",
   "execution_count": 298,
   "id": "08cc45aa",
   "metadata": {},
   "outputs": [
    {
     "data": {
      "text/plain": [
       "2020    5000\n",
       "2021    5000\n",
       "Name: year, dtype: int64"
      ]
     },
     "execution_count": 298,
     "metadata": {},
     "output_type": "execute_result"
    }
   ],
   "source": [
    "df.year.value_counts()"
   ]
  },
  {
   "cell_type": "code",
   "execution_count": 299,
   "id": "f82fd127",
   "metadata": {},
   "outputs": [
    {
     "data": {
      "text/plain": [
       "7     1044\n",
       "5     1033\n",
       "1     1026\n",
       "3     1024\n",
       "8     1004\n",
       "9      963\n",
       "6      956\n",
       "2      950\n",
       "12     620\n",
       "11     594\n",
       "10     586\n",
       "4      200\n",
       "Name: month, dtype: int64"
      ]
     },
     "execution_count": 299,
     "metadata": {},
     "output_type": "execute_result"
    }
   ],
   "source": [
    "df.month.value_counts()"
   ]
  },
  {
   "cell_type": "code",
   "execution_count": 345,
   "id": "c88536db",
   "metadata": {},
   "outputs": [
    {
     "data": {
      "image/png": "[encoded data removed]",
      "text/plain": [
       "<Figure size 1000x800 with 1 Axes>"
      ]
     },
     "metadata": {},
     "output_type": "display_data"
    }
   ],
   "source": [
    "# 제품 별 구매 수량 추이\n",
    "\n",
    "df_groupby_region_product = df.groupby(['region','product'])\n",
    "\n",
    "df_groupby_region_product['quantity'].mean().unstack().plot.bar()\n",
    "plt.show()"
   ]
  },
  {
   "cell_type": "code",
   "execution_count": 346,
   "id": "5747aa41",
   "metadata": {
    "scrolled": false
   },
   "outputs": [
    {
     "data": {
      "image/png": "[encoded data removed]",
      "text/plain": [
       "<Figure size 1000x800 with 1 Axes>"
      ]
     },
     "metadata": {},
     "output_type": "display_data"
    }
   ],
   "source": [
    "# 제품 별 매출 추이\n",
    "\n",
    "df_groupby_region_product = df.groupby(['region','product'])\n",
    "\n",
    "df_groupby_region_product['amount'].mean().unstack().plot.bar()\n",
    "plt.show()"
   ]
  },
  {
   "cell_type": "code",
   "execution_count": 339,
   "id": "43c3d8d3",
   "metadata": {
    "scrolled": false
   },
   "outputs": [
    {
     "data": {
      "image/png": "[encoded data removed]",
      "text/plain": [
       "<Figure size 1000x800 with 1 Axes>"
      ]
     },
     "metadata": {},
     "output_type": "display_data"
    }
   ],
   "source": [
    "# 지역별 매출 추이\n",
    "\n",
    "sns.barplot(x=\"region\", y=\"amount\", data = df)\n",
    "plt.show()"
   ]
  },
  {
   "cell_type": "code",
   "execution_count": 303,
   "id": "279839ed",
   "metadata": {},
   "outputs": [
    {
     "data": {
      "image/png": "[encoded data removed]",
      "text/plain": [
       "<Figure size 600x300 with 1 Axes>"
      ]
     },
     "metadata": {},
     "output_type": "display_data"
    }
   ],
   "source": [
    "# 2020년 2021년도 매출 추이 비교 \n",
    "\n",
    "df_groupby_year = df.groupby(['year','month'])\n",
    "\n",
    "df_groupby_year['amount'].sum().unstack().plot.bar()\n",
    "plt.show()\n",
    "\n",
    "\n",
    "df_groupby_month = df.groupby(['year','month'])\n",
    "\n",
    "df_groupby_year['amount'].sum().unstack().plot.bar()\n",
    "plt.show()"
   ]
  },
  {
   "cell_type": "code",
   "execution_count": 304,
   "id": "580c4b24",
   "metadata": {},
   "outputs": [
    {
     "data": {
      "text/plain": [
       "array([   0,    1,    2, ..., 9997, 9998, 9999])"
      ]
     },
     "execution_count": 304,
     "metadata": {},
     "output_type": "execute_result"
    }
   ],
   "source": [
    "N = df.month.shape[0]\n",
    "index = np.arange(N)\n",
    "index"
   ]
  },
  {
   "cell_type": "code",
   "execution_count": 141,
   "id": "0ea00f4f",
   "metadata": {},
   "outputs": [
    {
     "data": {
      "text/plain": [
       "<BarContainer object of 10000 artists>"
      ]
     },
     "execution_count": 141,
     "metadata": {},
     "output_type": "execute_result"
    },
    {
     "data": {
      "image/png": "[encoded data removed]",
      "text/plain": [
       "<Figure size 432x288 with 1 Axes>"
      ]
     },
     "metadata": {
      "needs_background": "light"
     },
     "output_type": "display_data"
    }
   ],
   "source": [
    "w = 0.25\n",
    "plt.bar(index - w, df['month'])\n",
    "plt.bar(index, df['quantity'])"
   ]
  },
  {
   "cell_type": "code",
   "execution_count": 154,
   "id": "c7da202e",
   "metadata": {},
   "outputs": [
    {
     "data": {
      "image/png": "[encoded data removed]",
      "text/plain": [
       "<Figure size 432x288 with 1 Axes>"
      ]
     },
     "metadata": {},
     "output_type": "display_data"
    }
   ],
   "source": [
    "plt.rcParams['font.family'] = 'Malgun Gothic'\n",
    "\n",
    "values = [2522, 887, 631, 784, 381, 385, 297, 100, 3604, 409]\n",
    "labels = ['서울','부산','대구','인천','광주','대전','울산','세종','경기','강원']\n",
    "\n",
    "\n",
    "plt.pie(values, labels=labels, autopct='%.1f%%')\n",
    "\n",
    "plt.show()"
   ]
  },
  {
   "cell_type": "code",
   "execution_count": 305,
   "id": "b23bab92",
   "metadata": {},
   "outputs": [
    {
     "data": {
      "text/plain": [
       "<matplotlib.colorbar.Colorbar at 0x16a11fe3f40>"
      ]
     },
     "execution_count": 305,
     "metadata": {},
     "output_type": "execute_result"
    },
    {
     "data": {
      "image/png": "[encoded data removed]",
      "text/plain": [
       "<Figure size 600x300 with 2 Axes>"
      ]
     },
     "metadata": {},
     "output_type": "display_data"
    }
   ],
   "source": [
    "plt.scatter(df['month'],df['amount'], c=df['quantity'], cmap='GnBu')\n",
    "plt.colorbar()"
   ]
  },
  {
   "cell_type": "code",
   "execution_count": 307,
   "id": "3c9930e6",
   "metadata": {},
   "outputs": [
    {
     "data": {
      "text/plain": [
       "<matplotlib.legend.Legend at 0x16a1220e5b0>"
      ]
     },
     "execution_count": 307,
     "metadata": {},
     "output_type": "execute_result"
    },
    {
     "data": {
      "image/png": "[encoded data removed]",
      "text/plain": [
       "<Figure size 1500x1500 with 4 Axes>"
      ]
     },
     "metadata": {},
     "output_type": "display_data"
    }
   ],
   "source": [
    "fig, axs = plt.subplots(2,2, figsize=(15,15))\n",
    "fig.suptitle('매출 현황')\n",
    "\n",
    "# 첫번째 그래프\n",
    "\n",
    "axs[0, 0].scatter(df['month'],df['amount'], label='month_amount')\n",
    "axs[0, 0].set_title('월별 매출')\n",
    "axs[0, 0].legend()\n",
    "# axs[0, 0].set(xlabel='month', ylabel='amount')\n",
    "\n",
    "# 두번째 그래프\n",
    "axs[0, 1].scatter(df['month'],df['quantity'], label = 'month_quantity')\n",
    "axs[0, 1].set_title('월별 구매수량')\n",
    "axs[0, 1].legend()\n",
    "\n",
    "\n",
    "\n",
    "# 세번째 그래프\n",
    "axs[1, 0].scatter(df['age_c'],df['amount'], label ='age_amount')\n",
    "axs[1, 0].set_title('연령대 별 매출')\n",
    "axs[1, 0].legend()\n",
    "\n",
    "\n",
    "# 네번째 그래프\n",
    "axs[1, 1].scatter(df['age_c'],df['quantity'], label ='age_quantity')\n",
    "axs[1, 1].set_title('연령대 별 구매 수량')\n",
    "axs[1, 1].legend()"
   ]
  },
  {
   "cell_type": "code",
   "execution_count": 229,
   "id": "b1f29f17",
   "metadata": {
    "scrolled": true
   },
   "outputs": [
    {
     "data": {
      "image/png": "[encoded data removed]",
      "text/plain": [
       "<Figure size 600x300 with 1 Axes>"
      ]
     },
     "metadata": {},
     "output_type": "display_data"
    }
   ],
   "source": [
    "# 정규 분포 그래프 연령대\n",
    "\n",
    "plt.style.use('default')\n",
    "plt.rcParams['figure.figsize'] = (6, 3)\n",
    "plt.rcParams['font.size'] = 12\n",
    "plt.rcParams['lines.linewidth'] = 5\n",
    "\n",
    "mu = 0.0\n",
    "sigma = 1.0\n",
    "\n",
    "x = df['age_c']\n",
    "y = df['amount']\n",
    "\n",
    "plt.plot(x, y, alpha=0.7, label='amount')\n",
    "plt.xlabel('amount')\n",
    "plt.ylabel('age')\n",
    "plt.legend(loc='upper left')\n",
    "plt.show()"
   ]
  },
  {
   "cell_type": "code",
   "execution_count": 252,
   "id": "b3e68597",
   "metadata": {},
   "outputs": [
    {
     "data": {
      "text/plain": [
       "<AxesSubplot:xlabel='region', ylabel='amount'>"
      ]
     },
     "execution_count": 252,
     "metadata": {},
     "output_type": "execute_result"
    },
    {
     "data": {
      "image/png": "[encoded data removed]",
      "text/plain": [
       "<Figure size 600x300 with 1 Axes>"
      ]
     },
     "metadata": {},
     "output_type": "display_data"
    }
   ],
   "source": [
    "sns.violinplot(x='region', y='amount', data=df, color='skyblue')"
   ]
  },
  {
   "cell_type": "code",
   "execution_count": 259,
   "id": "fa3000c4",
   "metadata": {},
   "outputs": [
    {
     "data": {
      "text/plain": [
       "<seaborn.axisgrid.FacetGrid at 0x16a0cfdefd0>"
      ]
     },
     "execution_count": 259,
     "metadata": {},
     "output_type": "execute_result"
    },
    {
     "data": {
      "image/png": "[encoded data removed]",
      "text/plain": [
       "<Figure size 500x500 with 1 Axes>"
      ]
     },
     "metadata": {},
     "output_type": "display_data"
    }
   ],
   "source": [
    "sns.lmplot(x='age_c', y='amount', data=df, \n",
    "           scatter_kws={'color':'skyblue'}, line_kws={'color':'red'})\n"
   ]
  },
  {
   "cell_type": "code",
   "execution_count": 264,
   "id": "51e2eb61",
   "metadata": {},
   "outputs": [
    {
     "data": {
      "text/html": [
       "<div>\n",
       "<style scoped>\n",
       "    .dataframe tbody tr th:only-of-type {\n",
       "        vertical-align: middle;\n",
       "    }\n",
       "\n",
       "    .dataframe tbody tr th {\n",
       "        vertical-align: top;\n",
       "    }\n",
       "\n",
       "    .dataframe thead th {\n",
       "        text-align: right;\n",
       "    }\n",
       "</style>\n",
       "<table border=\"1\" class=\"dataframe\">\n",
       "  <thead>\n",
       "    <tr style=\"text-align: right;\">\n",
       "      <th></th>\n",
       "      <th></th>\n",
       "      <th></th>\n",
       "      <th>cusno</th>\n",
       "      <th>gender</th>\n",
       "      <th>age</th>\n",
       "      <th>t_num</th>\n",
       "      <th>region</th>\n",
       "      <th>product</th>\n",
       "      <th>price</th>\n",
       "      <th>quantity</th>\n",
       "      <th>amount</th>\n",
       "      <th>date</th>\n",
       "      <th>age_c</th>\n",
       "    </tr>\n",
       "    <tr>\n",
       "      <th>year</th>\n",
       "      <th>month</th>\n",
       "      <th>day</th>\n",
       "      <th></th>\n",
       "      <th></th>\n",
       "      <th></th>\n",
       "      <th></th>\n",
       "      <th></th>\n",
       "      <th></th>\n",
       "      <th></th>\n",
       "      <th></th>\n",
       "      <th></th>\n",
       "      <th></th>\n",
       "      <th></th>\n",
       "    </tr>\n",
       "  </thead>\n",
       "  <tbody>\n",
       "    <tr>\n",
       "      <th rowspan=\"2\" valign=\"top\">2020</th>\n",
       "      <th>2020-06</th>\n",
       "      <th>2020-06-09</th>\n",
       "      <td>1001</td>\n",
       "      <td>0</td>\n",
       "      <td>50</td>\n",
       "      <td>26227</td>\n",
       "      <td>1</td>\n",
       "      <td>10</td>\n",
       "      <td>60</td>\n",
       "      <td>5</td>\n",
       "      <td>300</td>\n",
       "      <td>2020-06-09</td>\n",
       "      <td>50</td>\n",
       "    </tr>\n",
       "    <tr>\n",
       "      <th>2020-08</th>\n",
       "      <th>2020-08-26</th>\n",
       "      <td>1001</td>\n",
       "      <td>0</td>\n",
       "      <td>50</td>\n",
       "      <td>39258</td>\n",
       "      <td>2</td>\n",
       "      <td>20</td>\n",
       "      <td>186</td>\n",
       "      <td>10</td>\n",
       "      <td>1860</td>\n",
       "      <td>2020-08-26</td>\n",
       "      <td>50</td>\n",
       "    </tr>\n",
       "    <tr>\n",
       "      <th rowspan=\"9\" valign=\"top\">2021</th>\n",
       "      <th>2021-03</th>\n",
       "      <th>2021-03-25</th>\n",
       "      <td>1001</td>\n",
       "      <td>0</td>\n",
       "      <td>50</td>\n",
       "      <td>43997</td>\n",
       "      <td>7</td>\n",
       "      <td>20</td>\n",
       "      <td>319</td>\n",
       "      <td>3</td>\n",
       "      <td>957</td>\n",
       "      <td>2021-03-25</td>\n",
       "      <td>50</td>\n",
       "    </tr>\n",
       "    <tr>\n",
       "      <th>2021-01</th>\n",
       "      <th>2021-01-15</th>\n",
       "      <td>1001</td>\n",
       "      <td>0</td>\n",
       "      <td>50</td>\n",
       "      <td>43663</td>\n",
       "      <td>8</td>\n",
       "      <td>30</td>\n",
       "      <td>1653</td>\n",
       "      <td>2</td>\n",
       "      <td>3306</td>\n",
       "      <td>2021-01-15</td>\n",
       "      <td>50</td>\n",
       "    </tr>\n",
       "    <tr>\n",
       "      <th>2021-07</th>\n",
       "      <th>2021-07-18</th>\n",
       "      <td>1001</td>\n",
       "      <td>0</td>\n",
       "      <td>50</td>\n",
       "      <td>24206</td>\n",
       "      <td>9</td>\n",
       "      <td>10</td>\n",
       "      <td>90</td>\n",
       "      <td>2</td>\n",
       "      <td>180</td>\n",
       "      <td>2021-07-18</td>\n",
       "      <td>50</td>\n",
       "    </tr>\n",
       "    <tr>\n",
       "      <th>...</th>\n",
       "      <th>...</th>\n",
       "      <td>...</td>\n",
       "      <td>...</td>\n",
       "      <td>...</td>\n",
       "      <td>...</td>\n",
       "      <td>...</td>\n",
       "      <td>...</td>\n",
       "      <td>...</td>\n",
       "      <td>...</td>\n",
       "      <td>...</td>\n",
       "      <td>...</td>\n",
       "      <td>...</td>\n",
       "    </tr>\n",
       "    <tr>\n",
       "      <th>2021-08</th>\n",
       "      <th>2021-08-25</th>\n",
       "      <td>2000</td>\n",
       "      <td>1</td>\n",
       "      <td>47</td>\n",
       "      <td>27708</td>\n",
       "      <td>9</td>\n",
       "      <td>10</td>\n",
       "      <td>15</td>\n",
       "      <td>13</td>\n",
       "      <td>195</td>\n",
       "      <td>2021-08-25</td>\n",
       "      <td>40</td>\n",
       "    </tr>\n",
       "    <tr>\n",
       "      <th>2021-05</th>\n",
       "      <th>2021-05-06</th>\n",
       "      <td>2000</td>\n",
       "      <td>1</td>\n",
       "      <td>47</td>\n",
       "      <td>18588</td>\n",
       "      <td>9</td>\n",
       "      <td>10</td>\n",
       "      <td>81</td>\n",
       "      <td>17</td>\n",
       "      <td>1377</td>\n",
       "      <td>2021-05-06</td>\n",
       "      <td>40</td>\n",
       "    </tr>\n",
       "    <tr>\n",
       "      <th>2021-09</th>\n",
       "      <th>2021-09-01</th>\n",
       "      <td>2000</td>\n",
       "      <td>1</td>\n",
       "      <td>47</td>\n",
       "      <td>34953</td>\n",
       "      <td>9</td>\n",
       "      <td>20</td>\n",
       "      <td>221</td>\n",
       "      <td>8</td>\n",
       "      <td>1768</td>\n",
       "      <td>2021-09-01</td>\n",
       "      <td>40</td>\n",
       "    </tr>\n",
       "    <tr>\n",
       "      <th>2021-12</th>\n",
       "      <th>2021-12-30</th>\n",
       "      <td>2000</td>\n",
       "      <td>1</td>\n",
       "      <td>47</td>\n",
       "      <td>16161</td>\n",
       "      <td>10</td>\n",
       "      <td>20</td>\n",
       "      <td>500</td>\n",
       "      <td>4</td>\n",
       "      <td>2000</td>\n",
       "      <td>2021-12-30</td>\n",
       "      <td>40</td>\n",
       "    </tr>\n",
       "    <tr>\n",
       "      <th>2021-11</th>\n",
       "      <th>2021-11-02</th>\n",
       "      <td>2000</td>\n",
       "      <td>1</td>\n",
       "      <td>47</td>\n",
       "      <td>27950</td>\n",
       "      <td>10</td>\n",
       "      <td>20</td>\n",
       "      <td>330</td>\n",
       "      <td>7</td>\n",
       "      <td>2310</td>\n",
       "      <td>2021-11-02</td>\n",
       "      <td>40</td>\n",
       "    </tr>\n",
       "  </tbody>\n",
       "</table>\n",
       "<p>10000 rows × 11 columns</p>\n",
       "</div>"
      ],
      "text/plain": [
       "                         cusno  gender  age  t_num  region  product  price  \\\n",
       "year month   day                                                             \n",
       "2020 2020-06 2020-06-09   1001       0   50  26227       1       10     60   \n",
       "     2020-08 2020-08-26   1001       0   50  39258       2       20    186   \n",
       "2021 2021-03 2021-03-25   1001       0   50  43997       7       20    319   \n",
       "     2021-01 2021-01-15   1001       0   50  43663       8       30   1653   \n",
       "     2021-07 2021-07-18   1001       0   50  24206       9       10     90   \n",
       "...                        ...     ...  ...    ...     ...      ...    ...   \n",
       "     2021-08 2021-08-25   2000       1   47  27708       9       10     15   \n",
       "     2021-05 2021-05-06   2000       1   47  18588       9       10     81   \n",
       "     2021-09 2021-09-01   2000       1   47  34953       9       20    221   \n",
       "     2021-12 2021-12-30   2000       1   47  16161      10       20    500   \n",
       "     2021-11 2021-11-02   2000       1   47  27950      10       20    330   \n",
       "\n",
       "                         quantity  amount       date  age_c  \n",
       "year month   day                                             \n",
       "2020 2020-06 2020-06-09         5     300 2020-06-09     50  \n",
       "     2020-08 2020-08-26        10    1860 2020-08-26     50  \n",
       "2021 2021-03 2021-03-25         3     957 2021-03-25     50  \n",
       "     2021-01 2021-01-15         2    3306 2021-01-15     50  \n",
       "     2021-07 2021-07-18         2     180 2021-07-18     50  \n",
       "...                           ...     ...        ...    ...  \n",
       "     2021-08 2021-08-25        13     195 2021-08-25     40  \n",
       "     2021-05 2021-05-06        17    1377 2021-05-06     40  \n",
       "     2021-09 2021-09-01         8    1768 2021-09-01     40  \n",
       "     2021-12 2021-12-30         4    2000 2021-12-30     40  \n",
       "     2021-11 2021-11-02         7    2310 2021-11-02     40  \n",
       "\n",
       "[10000 rows x 11 columns]"
      ]
     },
     "metadata": {},
     "output_type": "display_data"
    }
   ],
   "source": [
    "\n",
    "df['date'] = pd.to_datetime(df['date'])\n",
    "df['year'] = df['date'].dt.to_period(freq = 'Y')\n",
    "df['month'] = df['date'].dt.to_period(freq = 'M')\n",
    "df['day'] = df['date'].dt.to_period(freq = 'D')\n",
    "df1 = df.set_index(['year','month','day'])\n",
    "display(df1)"
   ]
  },
  {
   "cell_type": "code",
   "execution_count": 317,
   "id": "1dcd7cfa",
   "metadata": {},
   "outputs": [
    {
     "ename": "KeyError",
     "evalue": "'2020_1'",
     "output_type": "error",
     "traceback": [
      "\u001b[1;31m---------------------------------------------------------------------------\u001b[0m",
      "\u001b[1;31mKeyError\u001b[0m                                  Traceback (most recent call last)",
      "File \u001b[1;32m~\\anaconda3\\lib\\site-packages\\pandas\\core\\indexes\\base.py:3621\u001b[0m, in \u001b[0;36mIndex.get_loc\u001b[1;34m(self, key, method, tolerance)\u001b[0m\n\u001b[0;32m   3620\u001b[0m \u001b[38;5;28;01mtry\u001b[39;00m:\n\u001b[1;32m-> 3621\u001b[0m     \u001b[38;5;28;01mreturn\u001b[39;00m \u001b[38;5;28;43mself\u001b[39;49m\u001b[38;5;241;43m.\u001b[39;49m\u001b[43m_engine\u001b[49m\u001b[38;5;241;43m.\u001b[39;49m\u001b[43mget_loc\u001b[49m\u001b[43m(\u001b[49m\u001b[43mcasted_key\u001b[49m\u001b[43m)\u001b[49m\n\u001b[0;32m   3622\u001b[0m \u001b[38;5;28;01mexcept\u001b[39;00m \u001b[38;5;167;01mKeyError\u001b[39;00m \u001b[38;5;28;01mas\u001b[39;00m err:\n",
      "File \u001b[1;32m~\\anaconda3\\lib\\site-packages\\pandas\\_libs\\index.pyx:136\u001b[0m, in \u001b[0;36mpandas._libs.index.IndexEngine.get_loc\u001b[1;34m()\u001b[0m\n",
      "File \u001b[1;32m~\\anaconda3\\lib\\site-packages\\pandas\\_libs\\index.pyx:163\u001b[0m, in \u001b[0;36mpandas._libs.index.IndexEngine.get_loc\u001b[1;34m()\u001b[0m\n",
      "File \u001b[1;32mpandas\\_libs\\hashtable_class_helper.pxi:5198\u001b[0m, in \u001b[0;36mpandas._libs.hashtable.PyObjectHashTable.get_item\u001b[1;34m()\u001b[0m\n",
      "File \u001b[1;32mpandas\\_libs\\hashtable_class_helper.pxi:5206\u001b[0m, in \u001b[0;36mpandas._libs.hashtable.PyObjectHashTable.get_item\u001b[1;34m()\u001b[0m\n",
      "\u001b[1;31mKeyError\u001b[0m: '2020_1'",
      "\nThe above exception was the direct cause of the following exception:\n",
      "\u001b[1;31mKeyError\u001b[0m                                  Traceback (most recent call last)",
      "Input \u001b[1;32mIn [317]\u001b[0m, in \u001b[0;36m<cell line: 2>\u001b[1;34m()\u001b[0m\n\u001b[0;32m      7\u001b[0m df_mon \u001b[38;5;241m=\u001b[39m pd\u001b[38;5;241m.\u001b[39mDataFrame()\n\u001b[0;32m      8\u001b[0m \u001b[38;5;28;01mfor\u001b[39;00m j \u001b[38;5;129;01min\u001b[39;00m list_mon:\n\u001b[1;32m----> 9\u001b[0m     df_mon\u001b[38;5;241m.\u001b[39mloc[:,j] \u001b[38;5;241m=\u001b[39m \u001b[43mdf\u001b[49m\u001b[43m[\u001b[49m\u001b[43m:\u001b[49m\u001b[38;5;241;43m10000\u001b[39;49m\u001b[43m]\u001b[49m\u001b[43m[\u001b[49m\u001b[43mj\u001b[49m\u001b[43m]\u001b[49m\n\u001b[0;32m     11\u001b[0m df_mon \u001b[38;5;241m=\u001b[39m df_mon[\u001b[38;5;241m1\u001b[39m:]\u001b[38;5;241m.\u001b[39mastype(\u001b[38;5;124m'\u001b[39m\u001b[38;5;124mint\u001b[39m\u001b[38;5;124m'\u001b[39m)\n\u001b[0;32m     12\u001b[0m df_month\u001b[38;5;241m.\u001b[39mappend(df_mon\u001b[38;5;241m.\u001b[39msum(axis\u001b[38;5;241m=\u001b[39m\u001b[38;5;241m1\u001b[39m)[\u001b[38;5;241m1\u001b[39m])\n",
      "File \u001b[1;32m~\\anaconda3\\lib\\site-packages\\pandas\\core\\frame.py:3505\u001b[0m, in \u001b[0;36mDataFrame.__getitem__\u001b[1;34m(self, key)\u001b[0m\n\u001b[0;32m   3503\u001b[0m \u001b[38;5;28;01mif\u001b[39;00m \u001b[38;5;28mself\u001b[39m\u001b[38;5;241m.\u001b[39mcolumns\u001b[38;5;241m.\u001b[39mnlevels \u001b[38;5;241m>\u001b[39m \u001b[38;5;241m1\u001b[39m:\n\u001b[0;32m   3504\u001b[0m     \u001b[38;5;28;01mreturn\u001b[39;00m \u001b[38;5;28mself\u001b[39m\u001b[38;5;241m.\u001b[39m_getitem_multilevel(key)\n\u001b[1;32m-> 3505\u001b[0m indexer \u001b[38;5;241m=\u001b[39m \u001b[38;5;28;43mself\u001b[39;49m\u001b[38;5;241;43m.\u001b[39;49m\u001b[43mcolumns\u001b[49m\u001b[38;5;241;43m.\u001b[39;49m\u001b[43mget_loc\u001b[49m\u001b[43m(\u001b[49m\u001b[43mkey\u001b[49m\u001b[43m)\u001b[49m\n\u001b[0;32m   3506\u001b[0m \u001b[38;5;28;01mif\u001b[39;00m is_integer(indexer):\n\u001b[0;32m   3507\u001b[0m     indexer \u001b[38;5;241m=\u001b[39m [indexer]\n",
      "File \u001b[1;32m~\\anaconda3\\lib\\site-packages\\pandas\\core\\indexes\\base.py:3623\u001b[0m, in \u001b[0;36mIndex.get_loc\u001b[1;34m(self, key, method, tolerance)\u001b[0m\n\u001b[0;32m   3621\u001b[0m     \u001b[38;5;28;01mreturn\u001b[39;00m \u001b[38;5;28mself\u001b[39m\u001b[38;5;241m.\u001b[39m_engine\u001b[38;5;241m.\u001b[39mget_loc(casted_key)\n\u001b[0;32m   3622\u001b[0m \u001b[38;5;28;01mexcept\u001b[39;00m \u001b[38;5;167;01mKeyError\u001b[39;00m \u001b[38;5;28;01mas\u001b[39;00m err:\n\u001b[1;32m-> 3623\u001b[0m     \u001b[38;5;28;01mraise\u001b[39;00m \u001b[38;5;167;01mKeyError\u001b[39;00m(key) \u001b[38;5;28;01mfrom\u001b[39;00m \u001b[38;5;21;01merr\u001b[39;00m\n\u001b[0;32m   3624\u001b[0m \u001b[38;5;28;01mexcept\u001b[39;00m \u001b[38;5;167;01mTypeError\u001b[39;00m:\n\u001b[0;32m   3625\u001b[0m     \u001b[38;5;66;03m# If we have a listlike key, _check_indexing_error will raise\u001b[39;00m\n\u001b[0;32m   3626\u001b[0m     \u001b[38;5;66;03m#  InvalidIndexError. Otherwise we fall through and re-raise\u001b[39;00m\n\u001b[0;32m   3627\u001b[0m     \u001b[38;5;66;03m#  the TypeError.\u001b[39;00m\n\u001b[0;32m   3628\u001b[0m     \u001b[38;5;28mself\u001b[39m\u001b[38;5;241m.\u001b[39m_check_indexing_error(key)\n",
      "\u001b[1;31mKeyError\u001b[0m: '2020_1'"
     ]
    }
   ],
   "source": [
    "df_month = []\n",
    "for i in range(1,13):\n",
    "    list_mon = []\n",
    "    for m in [2020,2021]:\n",
    "        list_mon.append(str(m)+'_'+str(i))\n",
    "        \n",
    "    df_mon = pd.DataFrame()\n",
    "    for j in list_mon:\n",
    "        df_mon.loc[:,j] = df[:10000][j]\n",
    "        \n",
    "    df_mon = df_mon[1:].astype('int')\n",
    "    df_month.append(df_mon.sum(axis=1)[1])\n",
    "    \n",
    "df_month = np.array(df_month)\n",
    "\n",
    "print(df_mon_avg)"
   ]
  },
  {
   "cell_type": "code",
   "execution_count": 311,
   "id": "686162cb",
   "metadata": {},
   "outputs": [
    {
     "data": {
      "text/html": [
       "<div>\n",
       "<style scoped>\n",
       "    .dataframe tbody tr th:only-of-type {\n",
       "        vertical-align: middle;\n",
       "    }\n",
       "\n",
       "    .dataframe tbody tr th {\n",
       "        vertical-align: top;\n",
       "    }\n",
       "\n",
       "    .dataframe thead th {\n",
       "        text-align: right;\n",
       "    }\n",
       "</style>\n",
       "<table border=\"1\" class=\"dataframe\">\n",
       "  <thead>\n",
       "    <tr style=\"text-align: right;\">\n",
       "      <th></th>\n",
       "      <th>cusno</th>\n",
       "      <th>gender</th>\n",
       "      <th>age</th>\n",
       "      <th>t_num</th>\n",
       "      <th>region</th>\n",
       "      <th>product</th>\n",
       "      <th>price</th>\n",
       "      <th>quantity</th>\n",
       "      <th>amount</th>\n",
       "      <th>date</th>\n",
       "      <th>year</th>\n",
       "      <th>month</th>\n",
       "      <th>age_c</th>\n",
       "    </tr>\n",
       "  </thead>\n",
       "  <tbody>\n",
       "    <tr>\n",
       "      <th>0</th>\n",
       "      <td>1001</td>\n",
       "      <td>1</td>\n",
       "      <td>35</td>\n",
       "      <td>30418</td>\n",
       "      <td>1</td>\n",
       "      <td>20</td>\n",
       "      <td>369</td>\n",
       "      <td>3</td>\n",
       "      <td>1107</td>\n",
       "      <td>2020-07-28</td>\n",
       "      <td>2020</td>\n",
       "      <td>7</td>\n",
       "      <td>30</td>\n",
       "    </tr>\n",
       "    <tr>\n",
       "      <th>1</th>\n",
       "      <td>1001</td>\n",
       "      <td>1</td>\n",
       "      <td>35</td>\n",
       "      <td>32664</td>\n",
       "      <td>2</td>\n",
       "      <td>20</td>\n",
       "      <td>487</td>\n",
       "      <td>1</td>\n",
       "      <td>487</td>\n",
       "      <td>2020-07-19</td>\n",
       "      <td>2020</td>\n",
       "      <td>7</td>\n",
       "      <td>30</td>\n",
       "    </tr>\n",
       "    <tr>\n",
       "      <th>2</th>\n",
       "      <td>1001</td>\n",
       "      <td>1</td>\n",
       "      <td>35</td>\n",
       "      <td>39358</td>\n",
       "      <td>4</td>\n",
       "      <td>20</td>\n",
       "      <td>301</td>\n",
       "      <td>1</td>\n",
       "      <td>301</td>\n",
       "      <td>2020-10-28</td>\n",
       "      <td>2020</td>\n",
       "      <td>10</td>\n",
       "      <td>30</td>\n",
       "    </tr>\n",
       "    <tr>\n",
       "      <th>3</th>\n",
       "      <td>1001</td>\n",
       "      <td>1</td>\n",
       "      <td>35</td>\n",
       "      <td>12946</td>\n",
       "      <td>4</td>\n",
       "      <td>30</td>\n",
       "      <td>1590</td>\n",
       "      <td>3</td>\n",
       "      <td>4770</td>\n",
       "      <td>2020-10-26</td>\n",
       "      <td>2020</td>\n",
       "      <td>10</td>\n",
       "      <td>30</td>\n",
       "    </tr>\n",
       "    <tr>\n",
       "      <th>4</th>\n",
       "      <td>1001</td>\n",
       "      <td>1</td>\n",
       "      <td>35</td>\n",
       "      <td>32770</td>\n",
       "      <td>6</td>\n",
       "      <td>20</td>\n",
       "      <td>353</td>\n",
       "      <td>10</td>\n",
       "      <td>3530</td>\n",
       "      <td>2021-02-17</td>\n",
       "      <td>2021</td>\n",
       "      <td>2</td>\n",
       "      <td>30</td>\n",
       "    </tr>\n",
       "    <tr>\n",
       "      <th>...</th>\n",
       "      <td>...</td>\n",
       "      <td>...</td>\n",
       "      <td>...</td>\n",
       "      <td>...</td>\n",
       "      <td>...</td>\n",
       "      <td>...</td>\n",
       "      <td>...</td>\n",
       "      <td>...</td>\n",
       "      <td>...</td>\n",
       "      <td>...</td>\n",
       "      <td>...</td>\n",
       "      <td>...</td>\n",
       "      <td>...</td>\n",
       "    </tr>\n",
       "    <tr>\n",
       "      <th>9995</th>\n",
       "      <td>2000</td>\n",
       "      <td>1</td>\n",
       "      <td>41</td>\n",
       "      <td>37911</td>\n",
       "      <td>8</td>\n",
       "      <td>10</td>\n",
       "      <td>76</td>\n",
       "      <td>1</td>\n",
       "      <td>76</td>\n",
       "      <td>2021-03-01</td>\n",
       "      <td>2021</td>\n",
       "      <td>3</td>\n",
       "      <td>40</td>\n",
       "    </tr>\n",
       "    <tr>\n",
       "      <th>9996</th>\n",
       "      <td>2000</td>\n",
       "      <td>1</td>\n",
       "      <td>41</td>\n",
       "      <td>27215</td>\n",
       "      <td>9</td>\n",
       "      <td>10</td>\n",
       "      <td>94</td>\n",
       "      <td>8</td>\n",
       "      <td>752</td>\n",
       "      <td>2021-01-04</td>\n",
       "      <td>2021</td>\n",
       "      <td>1</td>\n",
       "      <td>40</td>\n",
       "    </tr>\n",
       "    <tr>\n",
       "      <th>9997</th>\n",
       "      <td>2000</td>\n",
       "      <td>1</td>\n",
       "      <td>41</td>\n",
       "      <td>40032</td>\n",
       "      <td>9</td>\n",
       "      <td>30</td>\n",
       "      <td>1022</td>\n",
       "      <td>3</td>\n",
       "      <td>3066</td>\n",
       "      <td>2021-07-29</td>\n",
       "      <td>2021</td>\n",
       "      <td>7</td>\n",
       "      <td>40</td>\n",
       "    </tr>\n",
       "    <tr>\n",
       "      <th>9998</th>\n",
       "      <td>2000</td>\n",
       "      <td>1</td>\n",
       "      <td>41</td>\n",
       "      <td>47477</td>\n",
       "      <td>9</td>\n",
       "      <td>10</td>\n",
       "      <td>12</td>\n",
       "      <td>10</td>\n",
       "      <td>120</td>\n",
       "      <td>2021-05-05</td>\n",
       "      <td>2021</td>\n",
       "      <td>5</td>\n",
       "      <td>40</td>\n",
       "    </tr>\n",
       "    <tr>\n",
       "      <th>9999</th>\n",
       "      <td>2000</td>\n",
       "      <td>1</td>\n",
       "      <td>41</td>\n",
       "      <td>40532</td>\n",
       "      <td>10</td>\n",
       "      <td>20</td>\n",
       "      <td>367</td>\n",
       "      <td>2</td>\n",
       "      <td>734</td>\n",
       "      <td>2021-12-28</td>\n",
       "      <td>2021</td>\n",
       "      <td>12</td>\n",
       "      <td>40</td>\n",
       "    </tr>\n",
       "  </tbody>\n",
       "</table>\n",
       "<p>10000 rows × 13 columns</p>\n",
       "</div>"
      ],
      "text/plain": [
       "      cusno  gender  age  t_num  region  product  price  quantity  amount  \\\n",
       "0      1001       1   35  30418       1       20    369         3    1107   \n",
       "1      1001       1   35  32664       2       20    487         1     487   \n",
       "2      1001       1   35  39358       4       20    301         1     301   \n",
       "3      1001       1   35  12946       4       30   1590         3    4770   \n",
       "4      1001       1   35  32770       6       20    353        10    3530   \n",
       "...     ...     ...  ...    ...     ...      ...    ...       ...     ...   \n",
       "9995   2000       1   41  37911       8       10     76         1      76   \n",
       "9996   2000       1   41  27215       9       10     94         8     752   \n",
       "9997   2000       1   41  40032       9       30   1022         3    3066   \n",
       "9998   2000       1   41  47477       9       10     12        10     120   \n",
       "9999   2000       1   41  40532      10       20    367         2     734   \n",
       "\n",
       "           date  year  month  age_c  \n",
       "0    2020-07-28  2020      7     30  \n",
       "1    2020-07-19  2020      7     30  \n",
       "2    2020-10-28  2020     10     30  \n",
       "3    2020-10-26  2020     10     30  \n",
       "4    2021-02-17  2021      2     30  \n",
       "...         ...   ...    ...    ...  \n",
       "9995 2021-03-01  2021      3     40  \n",
       "9996 2021-01-04  2021      1     40  \n",
       "9997 2021-07-29  2021      7     40  \n",
       "9998 2021-05-05  2021      5     40  \n",
       "9999 2021-12-28  2021     12     40  \n",
       "\n",
       "[10000 rows x 13 columns]"
      ]
     },
     "execution_count": 311,
     "metadata": {},
     "output_type": "execute_result"
    }
   ],
   "source": [
    "month = ['1','2','3','4','5','6','7','8','9','10','11','12']\n",
    "\n"
   ]
  },
  {
   "cell_type": "code",
   "execution_count": 319,
   "id": "ac32aa58",
   "metadata": {},
   "outputs": [
    {
     "data": {
      "text/plain": [
       "count    10000.000000\n",
       "mean      1201.015800\n",
       "std       1415.919048\n",
       "min          1.000000\n",
       "25%        288.000000\n",
       "50%        726.000000\n",
       "75%       1520.000000\n",
       "max       9995.000000\n",
       "Name: amount, dtype: float64"
      ]
     },
     "execution_count": 319,
     "metadata": {},
     "output_type": "execute_result"
    }
   ],
   "source": [
    "df.amount.describe()"
   ]
  },
  {
   "cell_type": "code",
   "execution_count": 321,
   "id": "d9a5fea6",
   "metadata": {},
   "outputs": [
    {
     "name": "stderr",
     "output_type": "stream",
     "text": [
      "No artists with labels found to put in legend.  Note that artists whose label start with an underscore are ignored when legend() is called with no argument.\n"
     ]
    },
    {
     "data": {
      "image/png": "[encoded data removed]",
      "text/plain": [
       "<Figure size 600x300 with 1 Axes>"
      ]
     },
     "metadata": {},
     "output_type": "display_data"
    }
   ],
   "source": [
    "from scipy.stats import norm\n",
    "x = df.amount\n",
    "plt.plot(x , norm(0,i).pdf(x))\n",
    "plt.xlabel('x')\n",
    "plt.ylabel('month')\n",
    "\n",
    "plt.legend()\n",
    "\n",
    "plt.show()"
   ]
  },
  {
   "cell_type": "code",
   "execution_count": 322,
   "id": "8e428282",
   "metadata": {},
   "outputs": [
    {
     "ename": "SyntaxError",
     "evalue": "invalid syntax (3046867132.py, line 2)",
     "output_type": "error",
     "traceback": [
      "\u001b[1;36m  Input \u001b[1;32mIn [322]\u001b[1;36m\u001b[0m\n\u001b[1;33m    yearly_sex_weight <- surveys_complete %>%\u001b[0m\n\u001b[1;37m                                           ^\u001b[0m\n\u001b[1;31mSyntaxError\u001b[0m\u001b[1;31m:\u001b[0m invalid syntax\n"
     ]
    }
   ],
   "source": [
    "## 열 하나, 행별 측면보기(facet)\n",
    "yearly_sex_weight <- surveys_complete %>%\n",
    "    group_by(year, sex, species_id) %>%\n",
    "    summarize(avg_weight = mean(weight))\n",
    "ggplot(data = yearly_sex_weight, aes(x=year, y=amount, color = species_id, group = species_id)) +\n",
    "    geom_line() +\n",
    "    facet_grid(month ~ .)"
   ]
  },
  {
   "cell_type": "code",
   "execution_count": null,
   "id": "3df932fa",
   "metadata": {},
   "outputs": [],
   "source": [
    "ggplot(data = yearly_sex_weight, aes(x=year, y=avg_weight, color = species_id, group = species_id)) +\n",
    "    geom_line() +\n",
    "    facet_grid(. ~ sex)"
   ]
  },
  {
   "cell_type": "code",
   "execution_count": 325,
   "id": "c706808b",
   "metadata": {},
   "outputs": [
    {
     "ename": "SyntaxError",
     "evalue": "positional argument follows keyword argument (3493890809.py, line 1)",
     "output_type": "error",
     "traceback": [
      "\u001b[1;36m  Input \u001b[1;32mIn [325]\u001b[1;36m\u001b[0m\n\u001b[1;33m    ggplot(data = df, aes(x = year, y = amount, group = region)) + geom_line() + facet_wrap(~ region)\u001b[0m\n\u001b[1;37m                                                               ^\u001b[0m\n\u001b[1;31mSyntaxError\u001b[0m\u001b[1;31m:\u001b[0m positional argument follows keyword argument\n"
     ]
    }
   ],
   "source": [
    "ggplot(data = df, aes(x = year, y = amount, group = region)) + geom_line() + facet_wrap(~ region)"
   ]
  },
  {
   "cell_type": "code",
   "execution_count": null,
   "id": "797c0795",
   "metadata": {},
   "outputs": [],
   "source": [
    "sns.set()\n",
    "plt.rcParams['font.family'] = 'Malgun Gothic'\n",
    "sns.scatterplot(x='month', y='amount', hue='age_c', data = df, s=100)\n",
    "plt.xlabel(df.month[1], size=14)\n",
    "plt.ylabel(df.month[2], size=14)\n",
    "plt.title('데이터', size=20)\n",
    "plt.rcParams['figure.figsize'] = [10,8]\n",
    "plt.show()"
   ]
  },
  {
   "cell_type": "code",
   "execution_count": null,
   "id": "c042c00b",
   "metadata": {},
   "outputs": [],
   "source": [
    "sns.pairplot(data=df, hue=4)\n",
    "plt.show()"
   ]
  },
  {
   "cell_type": "code",
   "execution_count": 337,
   "id": "7657b812",
   "metadata": {},
   "outputs": [
    {
     "data": {
      "image/png": "[encoded data removed]",
      "text/plain": [
       "<Figure size 1000x800 with 1 Axes>"
      ]
     },
     "metadata": {},
     "output_type": "display_data"
    }
   ],
   "source": [
    "# 지역, 연령대 분포\n",
    "\n",
    "sns.countplot(x='region', hue = 'age_c', data=df)\n",
    "plt.show()"
   ]
  },
  {
   "cell_type": "code",
   "execution_count": 4,
   "id": "0a9f7a05",
   "metadata": {},
   "outputs": [
    {
     "ename": "NameError",
     "evalue": "name 'df' is not defined",
     "output_type": "error",
     "traceback": [
      "\u001b[1;31m---------------------------------------------------------------------------\u001b[0m",
      "\u001b[1;31mNameError\u001b[0m                                 Traceback (most recent call last)",
      "Input \u001b[1;32mIn [4]\u001b[0m, in \u001b[0;36m<cell line: 3>\u001b[1;34m()\u001b[0m\n\u001b[0;32m      1\u001b[0m \u001b[38;5;66;03m# 매출, 연령대 분포\u001b[39;00m\n\u001b[1;32m----> 3\u001b[0m sns\u001b[38;5;241m.\u001b[39mcountplot(x\u001b[38;5;241m=\u001b[39m\u001b[38;5;124m'\u001b[39m\u001b[38;5;124mage_c\u001b[39m\u001b[38;5;124m'\u001b[39m, data\u001b[38;5;241m=\u001b[39m\u001b[43mdf\u001b[49m)\n\u001b[0;32m      4\u001b[0m plt\u001b[38;5;241m.\u001b[39mshow()\n",
      "\u001b[1;31mNameError\u001b[0m: name 'df' is not defined"
     ]
    }
   ],
   "source": [
    "# 매출, 연령대 분포\n",
    "\n",
    "sns.countplot(x='age_c', data=df)\n",
    "plt.show()"
   ]
  },
  {
   "cell_type": "code",
   "execution_count": null,
   "id": "eb917062",
   "metadata": {},
   "outputs": [],
   "source": [
    "# 매출, 지역 분포\n",
    "\n",
    "sns.countplot(x='region', hue = 'amount', data=df)\n",
    "plt.show()"
   ]
  },
  {
   "cell_type": "code",
   "execution_count": null,
   "id": "9d1c0147",
   "metadata": {},
   "outputs": [],
   "source": [
    "# \n",
    "\n",
    "sns.countplot(x='amount', hue = 'age_c', data=df)\n",
    "plt.show()"
   ]
  },
  {
   "cell_type": "code",
   "execution_count": null,
   "id": "1e53a759",
   "metadata": {},
   "outputs": [],
   "source": []
  },
  {
   "cell_type": "code",
   "execution_count": null,
   "id": "d4b92463",
   "metadata": {},
   "outputs": [],
   "source": []
  },
  {
   "cell_type": "code",
   "execution_count": null,
   "id": "3bf167f4",
   "metadata": {},
   "outputs": [],
   "source": []
  },
  {
   "cell_type": "code",
   "execution_count": null,
   "id": "a3a89ee4",
   "metadata": {},
   "outputs": [],
   "source": []
  },
  {
   "cell_type": "code",
   "execution_count": null,
   "id": "72c956a1",
   "metadata": {},
   "outputs": [],
   "source": []
  },
  {
   "cell_type": "code",
   "execution_count": null,
   "id": "1a43d533",
   "metadata": {},
   "outputs": [],
   "source": []
  },
  {
   "cell_type": "markdown",
   "id": "229259ea",
   "metadata": {},
   "source": [
    "## 연습장(부분 실행)"
   ]
  },
  {
   "cell_type": "code",
   "execution_count": 68,
   "id": "5bfb0cb6",
   "metadata": {},
   "outputs": [
    {
     "data": {
      "text/plain": [
       "0       3\n",
       "1       4\n",
       "2       1\n",
       "3       1\n",
       "4       9\n",
       "       ..\n",
       "9995    2\n",
       "9996    1\n",
       "9997    1\n",
       "9998    2\n",
       "9999    4\n",
       "Length: 10000, dtype: int64"
      ]
     },
     "execution_count": 68,
     "metadata": {},
     "output_type": "execute_result"
    }
   ],
   "source": [
    "# [지역 region] 지역별 인구 분포 /지역 세팅\n",
    "region1 = np.random.randint(1,2,size=2522)\n",
    "region2 = np.random.randint(2,3,size=887)\n",
    "region3 = np.random.randint(3,4,size=631)\n",
    "region4 = np.random.randint(4,5,size=784)\n",
    "region5 = np.random.randint(5,6,size=381)\n",
    "region6 = np.random.randint(6,7,size=385)\n",
    "region7 = np.random.randint(7,8,size=297)\n",
    "region8 = np.random.randint(8,9,size=100)\n",
    "region9 = np.random.randint(9,10,size=3604)\n",
    "region10 = np.random.randint(10,11,size=409)\n",
    "\n",
    "a1 = pd.Series(region1)\n",
    "a2 = pd.Series(region2)\n",
    "a3 = pd.Series(region3)\n",
    "a4 = pd.Series(region4)\n",
    "a5 = pd.Series(region5)\n",
    "a6 = pd.Series(region6)\n",
    "a7 = pd.Series(region7)\n",
    "a8 = pd.Series(region8)\n",
    "a9 = pd.Series(region9)\n",
    "a10 = pd.Series(region10)\n",
    "\n",
    "region = pd.concat([a1,a2,a3,a4,a5,a6,a7,a8,a9,a10], axis=0,ignore_index=True)\n",
    "region = region.sample(frac=1).reset_index(drop=True)\n",
    "region"
   ]
  },
  {
   "cell_type": "code",
   "execution_count": 72,
   "id": "4dd5fbd0",
   "metadata": {},
   "outputs": [
    {
     "data": {
      "text/plain": [
       "0       10\n",
       "1       20\n",
       "2       10\n",
       "3       10\n",
       "4       10\n",
       "        ..\n",
       "9995    10\n",
       "9996    20\n",
       "9997    20\n",
       "9998    10\n",
       "9999    10\n",
       "Length: 10000, dtype: int64"
      ]
     },
     "execution_count": 72,
     "metadata": {},
     "output_type": "execute_result"
    }
   ],
   "source": [
    "# [제품 product 저,중,고가]\n",
    "\n",
    "p10 = np.random.randint(10,11,size=6000)\n",
    "p20 = np.random.randint(20,21,size=3000)\n",
    "p30 = np.random.randint(30,31,size=1000)\n",
    "\n",
    "product10 = pd.Series(p10)\n",
    "product20 = pd.Series(p20)\n",
    "product30 = pd.Series(p30)\n",
    "\n",
    "product= pd.concat([product10,product20,product30],axis=0,ignore_index=True)\n",
    "product = product.sample(frac=1).reset_index(drop=True)\n",
    "#df['product'] = pd.concat([product10,product20,product30],axis=0,ignore_index=True)\n",
    "\n",
    "product"
   ]
  },
  {
   "cell_type": "code",
   "execution_count": 89,
   "id": "28f3eef5",
   "metadata": {},
   "outputs": [
    {
     "data": {
      "text/html": [
       "<div>\n",
       "<style scoped>\n",
       "    .dataframe tbody tr th:only-of-type {\n",
       "        vertical-align: middle;\n",
       "    }\n",
       "\n",
       "    .dataframe tbody tr th {\n",
       "        vertical-align: top;\n",
       "    }\n",
       "\n",
       "    .dataframe thead th {\n",
       "        text-align: right;\n",
       "    }\n",
       "</style>\n",
       "<table border=\"1\" class=\"dataframe\">\n",
       "  <thead>\n",
       "    <tr style=\"text-align: right;\">\n",
       "      <th></th>\n",
       "      <th>product</th>\n",
       "      <th>price</th>\n",
       "      <th>quantity</th>\n",
       "      <th>amount</th>\n",
       "    </tr>\n",
       "  </thead>\n",
       "  <tbody>\n",
       "    <tr>\n",
       "      <th>0</th>\n",
       "      <td>20</td>\n",
       "      <td>462</td>\n",
       "      <td>3</td>\n",
       "      <td>1386</td>\n",
       "    </tr>\n",
       "    <tr>\n",
       "      <th>1</th>\n",
       "      <td>20</td>\n",
       "      <td>256</td>\n",
       "      <td>1</td>\n",
       "      <td>256</td>\n",
       "    </tr>\n",
       "    <tr>\n",
       "      <th>2</th>\n",
       "      <td>10</td>\n",
       "      <td>71</td>\n",
       "      <td>5</td>\n",
       "      <td>355</td>\n",
       "    </tr>\n",
       "    <tr>\n",
       "      <th>3</th>\n",
       "      <td>20</td>\n",
       "      <td>125</td>\n",
       "      <td>8</td>\n",
       "      <td>1000</td>\n",
       "    </tr>\n",
       "    <tr>\n",
       "      <th>4</th>\n",
       "      <td>10</td>\n",
       "      <td>3</td>\n",
       "      <td>8</td>\n",
       "      <td>24</td>\n",
       "    </tr>\n",
       "  </tbody>\n",
       "</table>\n",
       "</div>"
      ],
      "text/plain": [
       "   product  price  quantity  amount\n",
       "0       20    462         3    1386\n",
       "1       20    256         1     256\n",
       "2       10     71         5     355\n",
       "3       20    125         8    1000\n",
       "4       10      3         8      24"
      ]
     },
     "execution_count": 89,
     "metadata": {},
     "output_type": "execute_result"
    }
   ],
   "source": [
    "df_tra = pd.DataFrame(columns=['product','price','quantity','amount'])\n",
    "\n",
    "\n",
    "p10 = np.random.randint(10,11,size=6000)\n",
    "p20 = np.random.randint(20,21,size=3000)\n",
    "p30 = np.random.randint(30,31,size=1000)\n",
    "\n",
    "product10 = pd.Series(p10)\n",
    "product20 = pd.Series(p20)\n",
    "product30 = pd.Series(p30)\n",
    "\n",
    "product = pd.concat([product10,product20,product30],axis=0,ignore_index=True)\n",
    "df_tra['product'] = product.sample(frac=1).reset_index(drop=True)\n",
    "\n",
    "price = np.random.uniform(1000,50000,size=10000).round(2)\n",
    "quantity = np.random.randint(1,100,size=10000)\n",
    "amount = price*quantity\n",
    "\n",
    "def price_set(x):\n",
    "    if x == 10: \n",
    "        y = np.random.randint(1,101)\n",
    "    elif x == 20:\n",
    "        y = np.random.randint(100,501)\n",
    "    elif x == 30: \n",
    "        y = np.random.randint(500,2001)\n",
    "    return y\n",
    "\n",
    "# 구매수량 조정\n",
    "def quantity_set(x):\n",
    "    if x == 10: \n",
    "        z = np.random.randint(1,21)\n",
    "    elif x == 20:\n",
    "        z = np.random.randint(1,11)\n",
    "    elif x == 30: \n",
    "        z = np.random.randint(1,6)\n",
    "    return z\n",
    "\n",
    "\n",
    "df_tra['price']=df_tra['product'].apply(price_set)\n",
    "df_tra['quantity']=df_tra['product'].apply(quantity_set)\n",
    "\n",
    "\n",
    "#amount 조정\n",
    "\n",
    "df_tra['amount']=df_tra['price']*df_tra['quantity']\n",
    "\n",
    "df_tra.head()"
   ]
  },
  {
   "cell_type": "code",
   "execution_count": 90,
   "id": "078a97a1",
   "metadata": {},
   "outputs": [
    {
     "name": "stdout",
     "output_type": "stream",
     "text": [
      "<class 'pandas.core.frame.DataFrame'>\n",
      "RangeIndex: 10000 entries, 0 to 9999\n",
      "Data columns (total 4 columns):\n",
      " #   Column    Non-Null Count  Dtype\n",
      "---  ------    --------------  -----\n",
      " 0   product   10000 non-null  int64\n",
      " 1   price     10000 non-null  int64\n",
      " 2   quantity  10000 non-null  int64\n",
      " 3   amount    10000 non-null  int64\n",
      "dtypes: int64(4)\n",
      "memory usage: 312.6 KB\n"
     ]
    }
   ],
   "source": [
    "df_tra.info()"
   ]
  },
  {
   "cell_type": "code",
   "execution_count": 100,
   "id": "d64b775b",
   "metadata": {},
   "outputs": [
    {
     "data": {
      "text/plain": [
       "0      2020-03-05\n",
       "1      2020-02-18\n",
       "2      2020-03-02\n",
       "3      2020-01-08\n",
       "4      2020-02-09\n",
       "          ...    \n",
       "9995   2020-12-10\n",
       "9996   2020-10-23\n",
       "9997   2020-12-18\n",
       "9998   2020-10-23\n",
       "9999   2020-11-18\n",
       "Name: date, Length: 10000, dtype: datetime64[ns]"
      ]
     },
     "execution_count": 100,
     "metadata": {},
     "output_type": "execute_result"
    }
   ],
   "source": [
    "# [날짜 date 구매한 날짜]\n",
    "'''1. 월별(시즌) amount 가중치 부여\n",
    "    - 1~3월 / 신학기 할인 → 매출 증가\n",
    "    - 5~9월 / 에어컨 → 매출 증가'''\n",
    "\n",
    "# 20년도 조정\n",
    "date_list20_1 = list(pd.date_range('2020-01-01','2020-03-31',freq='D'))\n",
    "date_list20_1 = np.random.choice(date_list20_1,size=3000)\n",
    "date_list20_1 = pd.Series(date_list20_1)\n",
    "\n",
    "date_list20_2 = list(pd.date_range('2020-04-01','2020-04-30',freq='D'))\n",
    "date_list20_2 = np.random.choice(date_list20_2,size=200)\n",
    "date_list20_2 = pd.Series(date_list20_2)\n",
    "\n",
    "date_list20_3 = list(pd.date_range('2020-05-01','2020-09-30',freq='D'))\n",
    "date_list20_3 = np.random.choice(date_list20_3,size=5000)\n",
    "date_list20_3 = pd.Series(date_list20_3)\n",
    "\n",
    "date_list20_4 = list(pd.date_range('2020-10-01','2020-12-31',freq='D'))\n",
    "date_list20_4 = np.random.choice(date_list20_4,size=1800)\n",
    "date_list20_4 = pd.Series(date_list20_4)\n",
    "\n",
    "#21년도 조정\n",
    "date_list21_1 = list(pd.date_range('2021-01-01','2021-03-31',freq='D'))\n",
    "date_list21_1 = np.random.choice(date_list21_1,size=3000)\n",
    "date_list21_1 = pd.Series(date_list21_1)\n",
    "\n",
    "date_list21_2 = list(pd.date_range('2021-04-01','2021-04-30',freq='D'))\n",
    "date_list21_2 = np.random.choice(date_list21_2,size=200)\n",
    "date_list21_2 = pd.Series(date_list21_2)\n",
    "\n",
    "date_list21_3 = list(pd.date_range('2021-05-01','2021-09-30',freq='D'))\n",
    "date_list21_3 = np.random.choice(date_list21_3,size=5000)\n",
    "date_list21_3 = pd.Series(date_list21_3)\n",
    "\n",
    "date_list21_4 = list(pd.date_range('2021-10-01','2021-12-31',freq='D'))\n",
    "date_list21_4 = np.random.choice(date_list21_4,size=2000)\n",
    "date_list21_4 = pd.Series(date_list21_4)\n",
    "\n",
    "\n",
    "df_tra['date'] = pd.concat([date_list20_1,date_list20_2,date_list20_3,date_list20_4,\n",
    "                 date_list21_1,date_list21_2,date_list21_3,date_list21_4],axis=0,ignore_index=True)\n",
    "\n",
    "df_tra['date']\n"
   ]
  },
  {
   "cell_type": "code",
   "execution_count": 101,
   "id": "df436e48",
   "metadata": {},
   "outputs": [
    {
     "name": "stdout",
     "output_type": "stream",
     "text": [
      "<class 'pandas.core.series.Series'>\n",
      "RangeIndex: 10000 entries, 0 to 9999\n",
      "Series name: date\n",
      "Non-Null Count  Dtype         \n",
      "--------------  -----         \n",
      "10000 non-null  datetime64[ns]\n",
      "dtypes: datetime64[ns](1)\n",
      "memory usage: 78.2 KB\n"
     ]
    }
   ],
   "source": [
    "df_tra['date'].info()"
   ]
  },
  {
   "cell_type": "code",
   "execution_count": 104,
   "id": "5b2b3876",
   "metadata": {},
   "outputs": [
    {
     "data": {
      "text/plain": [
       "<AxesSubplot:>"
      ]
     },
     "execution_count": 104,
     "metadata": {},
     "output_type": "execute_result"
    },
    {
     "data": {
      "image/png": "[encoded data removed]",
      "text/plain": [
       "<Figure size 432x288 with 1 Axes>"
      ]
     },
     "metadata": {
      "needs_background": "light"
     },
     "output_type": "display_data"
    }
   ],
   "source": [
    "df_tra['date'].plot()"
   ]
  },
  {
   "cell_type": "code",
   "execution_count": 191,
   "id": "3061ddce",
   "metadata": {},
   "outputs": [
    {
     "data": {
      "text/plain": [
       "array([47, 42, 28, 43, 49, 44, 29, 39, 52, 51, 67, 26, 35, 70, 37, 45, 56,\n",
       "       20, 46, 34, 59, 64, 33, 40, 48, 30, 57, 53, 38, 41, 32, 31, 54, 24,\n",
       "       36, 63, 25, 50, 61, 62, 21, 60, 65, 58, 55, 19, 27, 23, 16, 22, 69,\n",
       "       73, 66, 17, 11])"
      ]
     },
     "execution_count": 191,
     "metadata": {},
     "output_type": "execute_result"
    }
   ],
   "source": [
    "df.age.unique()"
   ]
  },
  {
   "cell_type": "code",
   "execution_count": null,
   "id": "80289fcb",
   "metadata": {},
   "outputs": [],
   "source": []
  }
 ],
 "metadata": {
  "kernelspec": {
   "display_name": "Python 3 (ipykernel)",
   "language": "python",
   "name": "python3"
  },
  "language_info": {
   "codemirror_mode": {
    "name": "ipython",
    "version": 3
   },
   "file_extension": ".py",
   "mimetype": "text/x-python",
   "name": "python",
   "nbconvert_exporter": "python",
   "pygments_lexer": "ipython3",
   "version": "3.8.13"
  },
  "toc": {
   "base_numbering": 1,
   "nav_menu": {},
   "number_sections": false,
   "sideBar": true,
   "skip_h1_title": false,
   "title_cell": "Table of Contents",
   "title_sidebar": "Contents",
   "toc_cell": false,
   "toc_position": {},
   "toc_section_display": true,
   "toc_window_display": false
  }
 },
 "nbformat": 4,
 "nbformat_minor": 5
}
