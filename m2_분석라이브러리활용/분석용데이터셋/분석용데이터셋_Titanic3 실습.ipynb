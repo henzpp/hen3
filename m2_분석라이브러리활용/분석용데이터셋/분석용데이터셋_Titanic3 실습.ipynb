{
 "cells": [
  {
   "cell_type": "markdown",
   "id": "32446d87",
   "metadata": {},
   "source": [
    "### 분석 실습\n",
    "\n",
    "#### 타이타닉 생존자 예측모델 개발 및 평가(아래 사항들 반영 필수)\n",
    "- Titanic data 전처리\n",
    "    - 분석 데이터 : titanic3.csv\n",
    "    - 재사용 가능한 전처리 사용자 함수 작성 하여 일괄 전처리 Null 값 처리\n",
    "    - 탐색적 분석을 통한 변수 선정 및 파생변수 생성 \n",
    "    - 훈련 데이터 : 검증 데이터 = 8:2\n",
    "    - 분류모델 : Decision Tree, Random Forest, Logistic Regression 3개 모두 적용\n",
    "    - 평가 : 사이킷런 metrics 사용, 다음 항목들을 포함하는 사용자 함수 def get_clf_eval(y_test, pred)을 작성하여 일괄 처리\n",
    "    \\\n",
    "    confusion_matrix, accuracy_score, precision_score, recall_score, f1_score\n",
    "    - 모델 개발 및 평가 결과에 대한 종합 의견\n",
    "\n",
    "\n",
    "- 컬럼 정보\n",
    "    - survived : 생존여부(1: 생존, 0 : 사망)\n",
    "    - pclass : 승선권 클래스(1 : 1st, 2 : 2nd ,3 : 3rd)\n",
    "    - name : 승객 이름\n",
    "    - sex : 승객 성별\n",
    "    - age : 승객 나이\n",
    "    - sibsp : 동반한 형제자매, 배우자 수\n",
    "    - parch : 동반한 부모, 자식 수\n",
    "    - ticket : 티켓의 고유 넘버\n",
    "    - fare 티켓의 요금\n",
    "    - cabin : 객실 번호\n",
    "    - embarked : 승선한 항구명(C : Cherbourg, Q : Queenstown, S : Southampton)\n",
    "    - boat\n",
    "    - body\n",
    "    - home.dest\n"
   ]
  },
  {
   "cell_type": "code",
   "execution_count": null,
   "id": "c7ada28c",
   "metadata": {},
   "outputs": [],
   "source": []
  }
 ],
 "metadata": {
  "kernelspec": {
   "display_name": "Python 3 (ipykernel)",
   "language": "python",
   "name": "python3"
  },
  "language_info": {
   "codemirror_mode": {
    "name": "ipython",
    "version": 3
   },
   "file_extension": ".py",
   "mimetype": "text/x-python",
   "name": "python",
   "nbconvert_exporter": "python",
   "pygments_lexer": "ipython3",
   "version": "3.8.13"
  },
  "toc": {
   "base_numbering": 1,
   "nav_menu": {},
   "number_sections": false,
   "sideBar": true,
   "skip_h1_title": false,
   "title_cell": "Table of Contents",
   "title_sidebar": "Contents",
   "toc_cell": false,
   "toc_position": {},
   "toc_section_display": true,
   "toc_window_display": false
  }
 },
 "nbformat": 4,
 "nbformat_minor": 5
}
