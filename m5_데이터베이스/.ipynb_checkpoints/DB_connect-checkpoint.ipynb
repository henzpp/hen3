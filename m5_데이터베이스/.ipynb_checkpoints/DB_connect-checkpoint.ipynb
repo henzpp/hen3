{
 "cells": [
  {
   "cell_type": "code",
   "execution_count": 3,
   "id": "bcfc5232",
   "metadata": {},
   "outputs": [
    {
     "name": "stdout",
     "output_type": "stream",
     "text": [
      "Defaulting to user installation because normal site-packages is not writeable\n",
      "Collecting cx_oracle\n",
      "  Downloading cx_Oracle-8.3.0-cp39-cp39-win_amd64.whl (213 kB)\n",
      "     -------------------------------------- 213.2/213.2 kB 4.3 MB/s eta 0:00:00\n",
      "Installing collected packages: cx_oracle\n",
      "Successfully installed cx_oracle-8.3.0\n",
      "\n",
      "[notice] A new release of pip available: 22.2 -> 22.2.2\n",
      "[notice] To update, run: python.exe -m pip install --upgrade pip\n"
     ]
    }
   ],
   "source": [
    "!pip install cx_oracle"
   ]
  },
  {
   "cell_type": "code",
   "execution_count": 2,
   "id": "6d0e9056",
   "metadata": {},
   "outputs": [
    {
     "data": {
      "text/html": [
       "<div>\n",
       "<style scoped>\n",
       "    .dataframe tbody tr th:only-of-type {\n",
       "        vertical-align: middle;\n",
       "    }\n",
       "\n",
       "    .dataframe tbody tr th {\n",
       "        vertical-align: top;\n",
       "    }\n",
       "\n",
       "    .dataframe thead th {\n",
       "        text-align: right;\n",
       "    }\n",
       "</style>\n",
       "<table border=\"1\" class=\"dataframe\">\n",
       "  <thead>\n",
       "    <tr style=\"text-align: right;\">\n",
       "      <th></th>\n",
       "      <th>0</th>\n",
       "      <th>1</th>\n",
       "      <th>2</th>\n",
       "      <th>3</th>\n",
       "    </tr>\n",
       "  </thead>\n",
       "  <tbody>\n",
       "    <tr>\n",
       "      <th>0</th>\n",
       "      <td>1</td>\n",
       "      <td>축구의 역사</td>\n",
       "      <td>굿스포츠</td>\n",
       "      <td>7000</td>\n",
       "    </tr>\n",
       "    <tr>\n",
       "      <th>1</th>\n",
       "      <td>2</td>\n",
       "      <td>축구아는 여자</td>\n",
       "      <td>나무수</td>\n",
       "      <td>13000</td>\n",
       "    </tr>\n",
       "    <tr>\n",
       "      <th>2</th>\n",
       "      <td>3</td>\n",
       "      <td>축구의 이해</td>\n",
       "      <td>대한미디어</td>\n",
       "      <td>22000</td>\n",
       "    </tr>\n",
       "    <tr>\n",
       "      <th>3</th>\n",
       "      <td>4</td>\n",
       "      <td>골프 바이블</td>\n",
       "      <td>대한미디어</td>\n",
       "      <td>35000</td>\n",
       "    </tr>\n",
       "    <tr>\n",
       "      <th>4</th>\n",
       "      <td>5</td>\n",
       "      <td>피겨 교본</td>\n",
       "      <td>굿스포츠</td>\n",
       "      <td>8000</td>\n",
       "    </tr>\n",
       "  </tbody>\n",
       "</table>\n",
       "</div>"
      ],
      "text/plain": [
       "   0        1      2      3\n",
       "0  1   축구의 역사   굿스포츠   7000\n",
       "1  2  축구아는 여자    나무수  13000\n",
       "2  3   축구의 이해  대한미디어  22000\n",
       "3  4   골프 바이블  대한미디어  35000\n",
       "4  5    피겨 교본   굿스포츠   8000"
      ]
     },
     "execution_count": 2,
     "metadata": {},
     "output_type": "execute_result"
    }
   ],
   "source": [
    "import cx_Oracle\n",
    "import pandas as pd\n",
    "\n",
    "db = cx_Oracle.connect(\"c##madang\", \"madang\", \"localhost:1521/xe\")\n",
    "# 사용자명, 비밀번호, 호스트이름:포트/서비스이름\n",
    "cursor = db.cursor()\n",
    "cursor.execute(\"select * from BOOK\")\n",
    "x = cursor.fetchall()\n",
    "df = pd.DataFrame(x)\n",
    "df.head()"
   ]
  },
  {
   "cell_type": "code",
   "execution_count": 3,
   "id": "a82849d1",
   "metadata": {},
   "outputs": [
    {
     "data": {
      "text/html": [
       "<div>\n",
       "<style scoped>\n",
       "    .dataframe tbody tr th:only-of-type {\n",
       "        vertical-align: middle;\n",
       "    }\n",
       "\n",
       "    .dataframe tbody tr th {\n",
       "        vertical-align: top;\n",
       "    }\n",
       "\n",
       "    .dataframe thead th {\n",
       "        text-align: right;\n",
       "    }\n",
       "</style>\n",
       "<table border=\"1\" class=\"dataframe\">\n",
       "  <thead>\n",
       "    <tr style=\"text-align: right;\">\n",
       "      <th></th>\n",
       "      <th>BOOKID</th>\n",
       "      <th>BOOKNAME</th>\n",
       "      <th>PUBLISHER</th>\n",
       "      <th>PRICE</th>\n",
       "    </tr>\n",
       "  </thead>\n",
       "  <tbody>\n",
       "    <tr>\n",
       "      <th>0</th>\n",
       "      <td>1</td>\n",
       "      <td>축구의 역사</td>\n",
       "      <td>굿스포츠</td>\n",
       "      <td>7000</td>\n",
       "    </tr>\n",
       "    <tr>\n",
       "      <th>1</th>\n",
       "      <td>2</td>\n",
       "      <td>축구아는 여자</td>\n",
       "      <td>나무수</td>\n",
       "      <td>13000</td>\n",
       "    </tr>\n",
       "    <tr>\n",
       "      <th>2</th>\n",
       "      <td>3</td>\n",
       "      <td>축구의 이해</td>\n",
       "      <td>대한미디어</td>\n",
       "      <td>22000</td>\n",
       "    </tr>\n",
       "    <tr>\n",
       "      <th>3</th>\n",
       "      <td>4</td>\n",
       "      <td>골프 바이블</td>\n",
       "      <td>대한미디어</td>\n",
       "      <td>35000</td>\n",
       "    </tr>\n",
       "    <tr>\n",
       "      <th>4</th>\n",
       "      <td>5</td>\n",
       "      <td>피겨 교본</td>\n",
       "      <td>굿스포츠</td>\n",
       "      <td>8000</td>\n",
       "    </tr>\n",
       "  </tbody>\n",
       "</table>\n",
       "</div>"
      ],
      "text/plain": [
       "   BOOKID BOOKNAME PUBLISHER  PRICE\n",
       "0       1   축구의 역사      굿스포츠   7000\n",
       "1       2  축구아는 여자       나무수  13000\n",
       "2       3   축구의 이해     대한미디어  22000\n",
       "3       4   골프 바이블     대한미디어  35000\n",
       "4       5    피겨 교본      굿스포츠   8000"
      ]
     },
     "execution_count": 3,
     "metadata": {},
     "output_type": "execute_result"
    }
   ],
   "source": [
    "db = cx_Oracle.connect(\"c##madang\", \"madang\", \"localhost:1521/xe\")\n",
    "cursor = db.cursor()\n",
    "cursor.execute(\"select * from BOOK\")\n",
    "x = cursor.fetchall()\n",
    "df = pd.DataFrame(x)\n",
    "cursor.execute(\"\"\"select column_name from user_tab_columns where table_name = 'BOOK'\"\"\")\n",
    "col = cursor.fetchall()\n",
    "col_new = [j for i in col for j in i]\n",
    "df.columns = col_new\n",
    "df.head()"
   ]
  },
  {
   "cell_type": "code",
   "execution_count": 4,
   "id": "a89dbf13",
   "metadata": {},
   "outputs": [
    {
     "data": {
      "text/plain": [
       "[('BOOKID',), ('BOOKNAME',), ('PUBLISHER',), ('PRICE',)]"
      ]
     },
     "execution_count": 4,
     "metadata": {},
     "output_type": "execute_result"
    }
   ],
   "source": [
    "col"
   ]
  },
  {
   "cell_type": "code",
   "execution_count": 5,
   "id": "34a7a698",
   "metadata": {},
   "outputs": [
    {
     "data": {
      "text/plain": [
       "['BOOKID', 'BOOKNAME', 'PUBLISHER', 'PRICE']"
      ]
     },
     "execution_count": 5,
     "metadata": {},
     "output_type": "execute_result"
    }
   ],
   "source": [
    "col_new = []\n",
    "for i in col:\n",
    "    for j in i:\n",
    "        col_new.append(j)\n",
    "col_new"
   ]
  },
  {
   "cell_type": "code",
   "execution_count": 6,
   "id": "d29cdf4b",
   "metadata": {},
   "outputs": [],
   "source": [
    "cursor.close()\n",
    "db.close()"
   ]
  },
  {
   "cell_type": "markdown",
   "id": "a7f2ca30",
   "metadata": {},
   "source": [
    "#### Q. hr 사용자를 적용하면 원하는 테이블을 가져와서 df로 출력하세요(컬럼명 포함)"
   ]
  },
  {
   "cell_type": "code",
   "execution_count": 16,
   "id": "e66002c2",
   "metadata": {},
   "outputs": [
    {
     "data": {
      "text/html": [
       "<div>\n",
       "<style scoped>\n",
       "    .dataframe tbody tr th:only-of-type {\n",
       "        vertical-align: middle;\n",
       "    }\n",
       "\n",
       "    .dataframe tbody tr th {\n",
       "        vertical-align: top;\n",
       "    }\n",
       "\n",
       "    .dataframe thead th {\n",
       "        text-align: right;\n",
       "    }\n",
       "</style>\n",
       "<table border=\"1\" class=\"dataframe\">\n",
       "  <thead>\n",
       "    <tr style=\"text-align: right;\">\n",
       "      <th></th>\n",
       "      <th>EMPLOYEE_ID</th>\n",
       "      <th>FIRST_NAME</th>\n",
       "      <th>LAST_NAME</th>\n",
       "      <th>EMAIL</th>\n",
       "      <th>PHONE_NUMBER</th>\n",
       "      <th>HIRE_DATE</th>\n",
       "      <th>JOB_ID</th>\n",
       "      <th>SALARY</th>\n",
       "      <th>COMMISSION_PCT</th>\n",
       "      <th>MANAGER_ID</th>\n",
       "      <th>DEPARTMENT_ID</th>\n",
       "    </tr>\n",
       "  </thead>\n",
       "  <tbody>\n",
       "    <tr>\n",
       "      <th>0</th>\n",
       "      <td>100</td>\n",
       "      <td>Steven</td>\n",
       "      <td>King</td>\n",
       "      <td>SKING</td>\n",
       "      <td>515.123.4567</td>\n",
       "      <td>2003-06-17</td>\n",
       "      <td>AD_PRES</td>\n",
       "      <td>24000.0</td>\n",
       "      <td>NaN</td>\n",
       "      <td>NaN</td>\n",
       "      <td>90.0</td>\n",
       "    </tr>\n",
       "    <tr>\n",
       "      <th>1</th>\n",
       "      <td>101</td>\n",
       "      <td>Neena</td>\n",
       "      <td>Kochhar</td>\n",
       "      <td>NKOCHHAR</td>\n",
       "      <td>515.123.4568</td>\n",
       "      <td>2005-09-21</td>\n",
       "      <td>AD_VP</td>\n",
       "      <td>17000.0</td>\n",
       "      <td>NaN</td>\n",
       "      <td>100.0</td>\n",
       "      <td>90.0</td>\n",
       "    </tr>\n",
       "    <tr>\n",
       "      <th>2</th>\n",
       "      <td>102</td>\n",
       "      <td>Lex</td>\n",
       "      <td>De Haan</td>\n",
       "      <td>LDEHAAN</td>\n",
       "      <td>515.123.4569</td>\n",
       "      <td>2001-01-13</td>\n",
       "      <td>AD_VP</td>\n",
       "      <td>17000.0</td>\n",
       "      <td>NaN</td>\n",
       "      <td>100.0</td>\n",
       "      <td>90.0</td>\n",
       "    </tr>\n",
       "    <tr>\n",
       "      <th>3</th>\n",
       "      <td>103</td>\n",
       "      <td>Alexander</td>\n",
       "      <td>Hunold</td>\n",
       "      <td>AHUNOLD</td>\n",
       "      <td>590.423.4567</td>\n",
       "      <td>2006-01-03</td>\n",
       "      <td>IT_PROG</td>\n",
       "      <td>9000.0</td>\n",
       "      <td>NaN</td>\n",
       "      <td>102.0</td>\n",
       "      <td>60.0</td>\n",
       "    </tr>\n",
       "    <tr>\n",
       "      <th>4</th>\n",
       "      <td>104</td>\n",
       "      <td>Bruce</td>\n",
       "      <td>Ernst</td>\n",
       "      <td>BERNST</td>\n",
       "      <td>590.423.4568</td>\n",
       "      <td>2007-05-21</td>\n",
       "      <td>IT_PROG</td>\n",
       "      <td>6000.0</td>\n",
       "      <td>NaN</td>\n",
       "      <td>103.0</td>\n",
       "      <td>60.0</td>\n",
       "    </tr>\n",
       "  </tbody>\n",
       "</table>\n",
       "</div>"
      ],
      "text/plain": [
       "   EMPLOYEE_ID FIRST_NAME LAST_NAME     EMAIL  PHONE_NUMBER  HIRE_DATE  \\\n",
       "0          100     Steven      King     SKING  515.123.4567 2003-06-17   \n",
       "1          101      Neena   Kochhar  NKOCHHAR  515.123.4568 2005-09-21   \n",
       "2          102        Lex   De Haan   LDEHAAN  515.123.4569 2001-01-13   \n",
       "3          103  Alexander    Hunold   AHUNOLD  590.423.4567 2006-01-03   \n",
       "4          104      Bruce     Ernst    BERNST  590.423.4568 2007-05-21   \n",
       "\n",
       "    JOB_ID   SALARY  COMMISSION_PCT  MANAGER_ID  DEPARTMENT_ID  \n",
       "0  AD_PRES  24000.0             NaN         NaN           90.0  \n",
       "1    AD_VP  17000.0             NaN       100.0           90.0  \n",
       "2    AD_VP  17000.0             NaN       100.0           90.0  \n",
       "3  IT_PROG   9000.0             NaN       102.0           60.0  \n",
       "4  IT_PROG   6000.0             NaN       103.0           60.0  "
      ]
     },
     "execution_count": 16,
     "metadata": {},
     "output_type": "execute_result"
    }
   ],
   "source": [
    "db = cx_Oracle.connect(\"c##hr\", \"hr\", \"localhost:1521/xe\")\n",
    "cursor = db.cursor()\n",
    "cursor.execute(\"select * from EMPLOYEES\")\n",
    "x = cursor.fetchall()\n",
    "df = pd.DataFrame(x)\n",
    "cursor.execute(\"\"\"select column_name from user_tab_columns where table_name = 'EMPLOYEES'\"\"\")\n",
    "col = cursor.fetchall()\n",
    "col_new = [j for i in col for j in i]\n",
    "df.columns = col_new\n",
    "df.head()"
   ]
  },
  {
   "cell_type": "code",
   "execution_count": 17,
   "id": "9ff1d4c5",
   "metadata": {},
   "outputs": [],
   "source": [
    "cursor.close()\n",
    "db.close()"
   ]
  },
  {
   "cell_type": "code",
   "execution_count": 10,
   "id": "9ea86635",
   "metadata": {},
   "outputs": [],
   "source": [
    "# create 흠 이거 말고\n",
    "db = cx_Oracle.connect(\"c##madang\", \"madang\", \"localhost:1521/xe\")\n",
    "cs = db.cursor()\n",
    "sql = \"create table sample1(id varchar2(10), score number)\"\n",
    "cs.execute(sql)\n",
    "cs.close()\n",
    "db.commit()\n",
    "db.close()"
   ]
  },
  {
   "cell_type": "code",
   "execution_count": null,
   "id": "30fc2358",
   "metadata": {},
   "outputs": [],
   "source": [
    "# insert 이거 말고\n",
    "def insert(t):\n",
    "    db = cx_oracle.connect(\"c##madang\", \"madang\", \"localhost:1521/xe\")\n",
    "    cs = db.cursor()\n",
    "    sql = \"insert into sample1 (col01,col02) values (:1,:2)\"\n",
    "    # executemany <- many 써야 여러개 가능함\n",
    "    cs.executemany(sql, t)\n",
    "    cs.close()\n",
    "    db.commit()\n",
    "    db.close()\n",
    "    \n",
    "insert(('9','1'))"
   ]
  },
  {
   "cell_type": "code",
   "execution_count": 18,
   "id": "95389637",
   "metadata": {},
   "outputs": [],
   "source": [
    "# create, insert\n",
    "db = cx_Oracle.connect(\"c##madang\", \"madang\", \"localhost:1521/xe\")\n",
    "cursor = db.cursor()\n",
    "cursor.execute(\"create table sample2(id number)\")\n",
    "cursor.execute(\"insert into sample2(id) values(1)\")\n",
    "db.commit()"
   ]
  },
  {
   "cell_type": "code",
   "execution_count": 19,
   "id": "c82d4f54",
   "metadata": {},
   "outputs": [
    {
     "data": {
      "text/html": [
       "<div>\n",
       "<style scoped>\n",
       "    .dataframe tbody tr th:only-of-type {\n",
       "        vertical-align: middle;\n",
       "    }\n",
       "\n",
       "    .dataframe tbody tr th {\n",
       "        vertical-align: top;\n",
       "    }\n",
       "\n",
       "    .dataframe thead th {\n",
       "        text-align: right;\n",
       "    }\n",
       "</style>\n",
       "<table border=\"1\" class=\"dataframe\">\n",
       "  <thead>\n",
       "    <tr style=\"text-align: right;\">\n",
       "      <th></th>\n",
       "      <th>CUSTNO</th>\n",
       "      <th>GENDER</th>\n",
       "      <th>AGE</th>\n",
       "      <th>AREA</th>\n",
       "    </tr>\n",
       "  </thead>\n",
       "  <tbody>\n",
       "    <tr>\n",
       "      <th>0</th>\n",
       "      <td>00501</td>\n",
       "      <td>F</td>\n",
       "      <td>60세이상</td>\n",
       "      <td>460</td>\n",
       "    </tr>\n",
       "    <tr>\n",
       "      <th>1</th>\n",
       "      <td>00502</td>\n",
       "      <td>F</td>\n",
       "      <td>60세이상</td>\n",
       "      <td>060</td>\n",
       "    </tr>\n",
       "    <tr>\n",
       "      <th>2</th>\n",
       "      <td>00503</td>\n",
       "      <td>F</td>\n",
       "      <td>60세이상</td>\n",
       "      <td>055</td>\n",
       "    </tr>\n",
       "    <tr>\n",
       "      <th>3</th>\n",
       "      <td>00504</td>\n",
       "      <td>F</td>\n",
       "      <td>60세이상</td>\n",
       "      <td>049</td>\n",
       "    </tr>\n",
       "    <tr>\n",
       "      <th>4</th>\n",
       "      <td>00505</td>\n",
       "      <td>F</td>\n",
       "      <td>60세이상</td>\n",
       "      <td>055</td>\n",
       "    </tr>\n",
       "  </tbody>\n",
       "</table>\n",
       "</div>"
      ],
      "text/plain": [
       "  CUSTNO GENDER    AGE AREA\n",
       "0  00501      F  60세이상  460\n",
       "1  00502      F  60세이상  060\n",
       "2  00503      F  60세이상  055\n",
       "3  00504      F  60세이상  049\n",
       "4  00505      F  60세이상  055"
      ]
     },
     "execution_count": 19,
     "metadata": {},
     "output_type": "execute_result"
    }
   ],
   "source": [
    "# lmembers - DEMO table 가져오기\n",
    "db = cx_Oracle.connect(\"c##cakd7\", \"cakd7\", \"localhost:1521/xe\")\n",
    "cursor = db.cursor()\n",
    "cursor.execute(\"select * from DEMO\")\n",
    "x = cursor.fetchall()\n",
    "df = pd.DataFrame(x)\n",
    "cursor.execute(\"\"\"select column_name from user_tab_columns where table_name = 'DEMO'\"\"\")\n",
    "col = cursor.fetchall()\n",
    "col_new = [j for i in col for j in i]\n",
    "df.columns = col_new\n",
    "df.head()"
   ]
  },
  {
   "cell_type": "code",
   "execution_count": 21,
   "id": "23f4a966",
   "metadata": {},
   "outputs": [
    {
     "data": {
      "text/plain": [
       "(19383, 4)"
      ]
     },
     "execution_count": 21,
     "metadata": {},
     "output_type": "execute_result"
    }
   ],
   "source": [
    "df.shape"
   ]
  },
  {
   "cell_type": "code",
   "execution_count": 22,
   "id": "e6a07167",
   "metadata": {},
   "outputs": [
    {
     "data": {
      "text/plain": [
       "45세~49세    4082\n",
       "40세~44세    3677\n",
       "50세~54세    3114\n",
       "35세~39세    2769\n",
       "55세~59세    1774\n",
       "30세~34세    1679\n",
       "60세이상      1303\n",
       "25세~29세     685\n",
       "20세~24세     283\n",
       "19세이하        17\n",
       "Name: AGE, dtype: int64"
      ]
     },
     "execution_count": 22,
     "metadata": {},
     "output_type": "execute_result"
    }
   ],
   "source": [
    "df.AGE.value_counts()"
   ]
  },
  {
   "cell_type": "code",
   "execution_count": 23,
   "id": "37072e88",
   "metadata": {},
   "outputs": [],
   "source": [
    "cursor.close()\n",
    "db.close()"
   ]
  },
  {
   "cell_type": "code",
   "execution_count": 24,
   "id": "74111559",
   "metadata": {},
   "outputs": [
    {
     "data": {
      "text/html": [
       "<div>\n",
       "<style scoped>\n",
       "    .dataframe tbody tr th:only-of-type {\n",
       "        vertical-align: middle;\n",
       "    }\n",
       "\n",
       "    .dataframe tbody tr th {\n",
       "        vertical-align: top;\n",
       "    }\n",
       "\n",
       "    .dataframe thead th {\n",
       "        text-align: right;\n",
       "    }\n",
       "</style>\n",
       "<table border=\"1\" class=\"dataframe\">\n",
       "  <thead>\n",
       "    <tr style=\"text-align: right;\">\n",
       "      <th></th>\n",
       "      <th>ASSO</th>\n",
       "      <th>BCODE</th>\n",
       "      <th>MCODE</th>\n",
       "      <th>SCODE</th>\n",
       "      <th>MCL</th>\n",
       "      <th>SCL</th>\n",
       "    </tr>\n",
       "  </thead>\n",
       "  <tbody>\n",
       "    <tr>\n",
       "      <th>0</th>\n",
       "      <td>A</td>\n",
       "      <td>4</td>\n",
       "      <td>0409</td>\n",
       "      <td>A040902</td>\n",
       "      <td>디자이너</td>\n",
       "      <td>디자이너부틱</td>\n",
       "    </tr>\n",
       "    <tr>\n",
       "      <th>1</th>\n",
       "      <td>A</td>\n",
       "      <td>4</td>\n",
       "      <td>0409</td>\n",
       "      <td>A040903</td>\n",
       "      <td>디자이너</td>\n",
       "      <td>디자이너캐릭터</td>\n",
       "    </tr>\n",
       "    <tr>\n",
       "      <th>2</th>\n",
       "      <td>A</td>\n",
       "      <td>4</td>\n",
       "      <td>0410</td>\n",
       "      <td>A041001</td>\n",
       "      <td>모피/피혁</td>\n",
       "      <td>모피</td>\n",
       "    </tr>\n",
       "    <tr>\n",
       "      <th>3</th>\n",
       "      <td>A</td>\n",
       "      <td>4</td>\n",
       "      <td>0410</td>\n",
       "      <td>A041002</td>\n",
       "      <td>모피/피혁</td>\n",
       "      <td>피혁</td>\n",
       "    </tr>\n",
       "    <tr>\n",
       "      <th>4</th>\n",
       "      <td>A</td>\n",
       "      <td>4</td>\n",
       "      <td>0410</td>\n",
       "      <td>A041003</td>\n",
       "      <td>모피/피혁</td>\n",
       "      <td>숙녀고정행사</td>\n",
       "    </tr>\n",
       "  </tbody>\n",
       "</table>\n",
       "</div>"
      ],
      "text/plain": [
       "  ASSO  BCODE MCODE    SCODE    MCL      SCL\n",
       "0    A      4  0409  A040902   디자이너   디자이너부틱\n",
       "1    A      4  0409  A040903   디자이너  디자이너캐릭터\n",
       "2    A      4  0410  A041001  모피/피혁       모피\n",
       "3    A      4  0410  A041002  모피/피혁       피혁\n",
       "4    A      4  0410  A041003  모피/피혁   숙녀고정행사"
      ]
     },
     "execution_count": 24,
     "metadata": {},
     "output_type": "execute_result"
    }
   ],
   "source": [
    "# lmembers - DEMO table 가져오기\n",
    "db = cx_Oracle.connect(\"c##cakd7\", \"cakd7\", \"localhost:1521/xe\")\n",
    "cursor = db.cursor()\n",
    "cursor.execute(\"select * from PRODCL\")\n",
    "x = cursor.fetchall()\n",
    "df = pd.DataFrame(x)\n",
    "cursor.execute(\"\"\"select column_name from user_tab_columns where table_name = 'PRODCL'\"\"\")\n",
    "col = cursor.fetchall()\n",
    "col_new = [j for i in col for j in i]\n",
    "df.columns = col_new\n",
    "df.head()"
   ]
  },
  {
   "cell_type": "code",
   "execution_count": 26,
   "id": "fbaa4f79",
   "metadata": {},
   "outputs": [
    {
     "data": {
      "text/plain": [
       "17    306\n",
       "5     288\n",
       "6     240\n",
       "1     236\n",
       "4     232\n",
       "     ... \n",
       "89      6\n",
       "59      6\n",
       "61      5\n",
       "58      4\n",
       "60      1\n",
       "Name: BCODE, Length: 92, dtype: int64"
      ]
     },
     "execution_count": 26,
     "metadata": {},
     "output_type": "execute_result"
    }
   ],
   "source": [
    "df.BCODE.value_counts()"
   ]
  },
  {
   "cell_type": "code",
   "execution_count": 27,
   "id": "555f8411",
   "metadata": {},
   "outputs": [
    {
     "data": {
      "text/plain": [
       "array([ 4,  5,  6,  7,  8,  9,  1,  2,  3, 26, 27, 28, 29, 30, 31, 32, 33,\n",
       "       34, 10, 11, 12, 13, 14, 15, 16, 17, 18, 19, 20, 21, 22, 23, 24, 25,\n",
       "       57, 58, 59, 60, 61, 62, 63, 64, 65, 66, 67, 68, 69, 70, 71, 72, 73,\n",
       "       35, 36, 37, 38, 39, 40, 41, 42, 43, 44, 45, 46, 47, 48, 49, 50, 51,\n",
       "       52, 53, 54, 55, 56, 74, 75, 76, 77, 78, 79, 80, 81, 82, 83, 84, 85,\n",
       "       86, 87, 88, 89, 90, 91, 92], dtype=int64)"
      ]
     },
     "execution_count": 27,
     "metadata": {},
     "output_type": "execute_result"
    }
   ],
   "source": [
    "df.BCODE.unique()"
   ]
  },
  {
   "cell_type": "markdown",
   "id": "68ac0453",
   "metadata": {},
   "source": [
    "#### 과제_1012_1 PURPRD 테이블을 가져와서 다음사항을 수행하세요\n",
    "- pivot_table을 이용해서 고객번호별 대분류(상품)별 구매금액을 도출\n",
    "- 고객별 구매관련 의미있는 인사이트를 뽑아낼 수 있는 데이터 셋을 출력(2개 이상)"
   ]
  },
  {
   "cell_type": "code",
   "execution_count": 4,
   "id": "ccc8ef1c",
   "metadata": {},
   "outputs": [
    {
     "ename": "MemoryError",
     "evalue": "",
     "output_type": "error",
     "traceback": [
      "\u001b[1;31m---------------------------------------------------------------------------\u001b[0m",
      "\u001b[1;31mMemoryError\u001b[0m                               Traceback (most recent call last)",
      "Input \u001b[1;32mIn [4]\u001b[0m, in \u001b[0;36m<cell line: 9>\u001b[1;34m()\u001b[0m\n\u001b[0;32m      7\u001b[0m cursor \u001b[38;5;241m=\u001b[39m db\u001b[38;5;241m.\u001b[39mcursor()\n\u001b[0;32m      8\u001b[0m cursor\u001b[38;5;241m.\u001b[39mexecute(\u001b[38;5;124m\"\u001b[39m\u001b[38;5;124mselect * from PURPRD\u001b[39m\u001b[38;5;124m\"\u001b[39m)\n\u001b[1;32m----> 9\u001b[0m x \u001b[38;5;241m=\u001b[39m \u001b[43mcursor\u001b[49m\u001b[38;5;241;43m.\u001b[39;49m\u001b[43mfetchall\u001b[49m\u001b[43m(\u001b[49m\u001b[43m)\u001b[49m\n\u001b[0;32m     10\u001b[0m df \u001b[38;5;241m=\u001b[39m pd\u001b[38;5;241m.\u001b[39mDataFrame(x)\n\u001b[0;32m     11\u001b[0m cursor\u001b[38;5;241m.\u001b[39mexecute(\u001b[38;5;124m\"\"\"\u001b[39m\u001b[38;5;124mselect column_name from user_tab_columns where table_name = \u001b[39m\u001b[38;5;124m'\u001b[39m\u001b[38;5;124mPURPRD\u001b[39m\u001b[38;5;124m'\u001b[39m\u001b[38;5;124m\"\"\"\u001b[39m)\n",
      "\u001b[1;31mMemoryError\u001b[0m: "
     ]
    }
   ],
   "source": [
    "# lmembers - PURPRD table 가져오기\n",
    "\n",
    "import cx_Oracle\n",
    "import pandas as pd\n",
    "\n",
    "db = cx_Oracle.connect(\"c##cakd7\", \"cakd7\", \"localhost:1521/xe\")\n",
    "cursor = db.cursor()\n",
    "cursor.execute(\"select * from PURPRD\")\n",
    "x = cursor.fetchall()\n",
    "df = pd.DataFrame(x)\n",
    "cursor.execute(\"\"\"select column_name from user_tab_columns where table_name = 'PURPRD'\"\"\")\n",
    "col = cursor.fetchall()\n",
    "col_new = [j for i in col for j in i]\n",
    "df.columns = col_new\n",
    "df.head()"
   ]
  },
  {
   "cell_type": "code",
   "execution_count": null,
   "id": "9c2fa937",
   "metadata": {},
   "outputs": [],
   "source": []
  },
  {
   "cell_type": "code",
   "execution_count": null,
   "id": "b1b534be",
   "metadata": {},
   "outputs": [],
   "source": []
  },
  {
   "cell_type": "code",
   "execution_count": null,
   "id": "f853e3d8",
   "metadata": {},
   "outputs": [],
   "source": []
  },
  {
   "cell_type": "code",
   "execution_count": null,
   "id": "2c959920",
   "metadata": {},
   "outputs": [],
   "source": []
  },
  {
   "cell_type": "code",
   "execution_count": null,
   "id": "a6a21ee7",
   "metadata": {},
   "outputs": [],
   "source": []
  }
 ],
 "metadata": {
  "kernelspec": {
   "display_name": "Python 3 (ipykernel)",
   "language": "python",
   "name": "python3"
  },
  "language_info": {
   "codemirror_mode": {
    "name": "ipython",
    "version": 3
   },
   "file_extension": ".py",
   "mimetype": "text/x-python",
   "name": "python",
   "nbconvert_exporter": "python",
   "pygments_lexer": "ipython3",
   "version": "3.9.12"
  },
  "toc": {
   "base_numbering": 1,
   "nav_menu": {},
   "number_sections": false,
   "sideBar": true,
   "skip_h1_title": false,
   "title_cell": "Table of Contents",
   "title_sidebar": "Contents",
   "toc_cell": false,
   "toc_position": {},
   "toc_section_display": true,
   "toc_window_display": false
  }
 },
 "nbformat": 4,
 "nbformat_minor": 5
}
